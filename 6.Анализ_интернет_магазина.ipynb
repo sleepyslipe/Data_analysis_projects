{
 "cells": [
  {
   "cell_type": "markdown",
   "metadata": {},
   "source": [
    "## Вступление"
   ]
  },
  {
   "cell_type": "markdown",
   "metadata": {},
   "source": [
    "###  Краткое описание проекта"
   ]
  },
  {
   "cell_type": "markdown",
   "metadata": {},
   "source": [
    "Анализ крупного интернет-магазина. Необходимо приоритизировать гипотезы, составленные отделом маркетинга для увеличения выручки, а также проанализировать результаты A/B-теста и принять решение об окончании или продолжении теста и зафиксировать победу одной из групп A или B либо установить отсутствие различий между ними в случае принятия решения об окончании теста."
   ]
  },
  {
   "cell_type": "markdown",
   "metadata": {},
   "source": [
    "### Цель проекта"
   ]
  },
  {
   "cell_type": "markdown",
   "metadata": {},
   "source": [
    "Принять решения, позволяющие увеличить выручку интернет-магазина на основе анализа результатов A/B-теста и приоритизации подготовленных гипотез с помощью фреймворков ICE и RICE."
   ]
  },
  {
   "cell_type": "markdown",
   "metadata": {},
   "source": [
    "### Описание данных"
   ]
  },
  {
   "cell_type": "markdown",
   "metadata": {},
   "source": [
    "Данные о гипотезах hypothesis:\n",
    "- Hypothesis — краткое описание гипотезы;\n",
    "- Reach — охват пользователей по 10-балльной шкале;\n",
    "- Impact — влияние на пользователей по 10-балльной шкале;\n",
    "- Confidence — уверенность в гипотезе по 10-балльной шкале;\n",
    "- Efforts — затраты ресурсов на проверку гипотезы по 10-балльной шкале. Чем больше значение Efforts, тем дороже проверка гипотезы.\n",
    "\n",
    "Данные о заказах orders:\n",
    "- transactionId — идентификатор заказа;\n",
    "- visitorId — идентификатор пользователя, совершившего заказ;\n",
    "- date — дата, когда был совершён заказ;\n",
    "- revenue — выручка заказа;\n",
    "- group — группа A/B-теста, в которую попал заказ.\n",
    "\n",
    "Данные о количестве посетителей visitors:\n",
    "- date — дата;\n",
    "- group — группа A/B-теста;\n",
    "- visitors — количество пользователей в указанную дату в указанной группе A/B-теста."
   ]
  },
  {
   "cell_type": "markdown",
   "metadata": {},
   "source": [
    "### План работы"
   ]
  },
  {
   "cell_type": "markdown",
   "metadata": {},
   "source": [
    "В ходе исследования будет создано три датасета: hypothesis, orders и visitors. Будет  проведена  предобработка данных. Будут приоритизированы гипотезы из таблицы hypothesis с применением фреймворков ICE и RICE. Был проведен анализ A/B-теста, построены и проанализированы графики кумулятивной выручки, среднего чека, среднего количества заказов на пользователя по группам. Будут найдены 95 и 99 перцентили стоимости и количества заказов и выбрана граница для определения аномальных заказов. Юудет посчитана статистическая значимость различий в среднем количестве заказов на посетителя и в среднем чеке заказа между группами по \"сырым\" (без удаления аномалий) и \"очищенным\" (с удалением аномалий) данным. Были описаны результаты теста и принято решение продолжить или остановить тест, установить значимые различия между группами или их отсутсвие.\n",
    "\n",
    "Этапы работы:\n",
    "- загрузка и предобработка данных\n",
    "- приоритизация гипотез\n",
    "- анализ A/B-теста:\n",
    "    - построение и анализ графиков среднего чека и среднего количества заказов по группам\n",
    "    - нахождение перцентилей среднего чека и среднего количества заказов по группам\n",
    "    - определение  статистической значимости различий в среднем чеке и в среднем количестве заказов с учётом аномалий и без\n",
    "    - результаты теста и принятие решения\n",
    "- выводы"
   ]
  },
  {
   "cell_type": "markdown",
   "metadata": {},
   "source": [
    "## Загрузка и предобработка данных"
   ]
  },
  {
   "cell_type": "code",
   "execution_count": 1,
   "metadata": {},
   "outputs": [],
   "source": [
    "import pandas as pd\n",
    "import datetime as dt\n",
    "from matplotlib import pyplot as plt\n",
    "import seaborn as sns\n",
    "import numpy as np\n",
    "import scipy.stats as stats"
   ]
  },
  {
   "cell_type": "code",
   "execution_count": 2,
   "metadata": {},
   "outputs": [],
   "source": [
    "hypothesis = pd.read_csv('/datasets/hypothesis.csv')\n",
    "orders = pd.read_csv('/datasets/orders.csv')\n",
    "visitors = pd.read_csv('/datasets/visitors.csv')"
   ]
  },
  {
   "cell_type": "code",
   "execution_count": 3,
   "metadata": {},
   "outputs": [
    {
     "name": "stdout",
     "output_type": "stream",
     "text": [
      "\u001b[1mОсновная информация по таблице hypothesis\u001b[0m\n"
     ]
    },
    {
     "data": {
      "text/html": [
       "<div>\n",
       "<style scoped>\n",
       "    .dataframe tbody tr th:only-of-type {\n",
       "        vertical-align: middle;\n",
       "    }\n",
       "\n",
       "    .dataframe tbody tr th {\n",
       "        vertical-align: top;\n",
       "    }\n",
       "\n",
       "    .dataframe thead th {\n",
       "        text-align: right;\n",
       "    }\n",
       "</style>\n",
       "<table border=\"1\" class=\"dataframe\">\n",
       "  <thead>\n",
       "    <tr style=\"text-align: right;\">\n",
       "      <th></th>\n",
       "      <th>Hypothesis</th>\n",
       "      <th>Reach</th>\n",
       "      <th>Impact</th>\n",
       "      <th>Confidence</th>\n",
       "      <th>Efforts</th>\n",
       "    </tr>\n",
       "  </thead>\n",
       "  <tbody>\n",
       "    <tr>\n",
       "      <th>0</th>\n",
       "      <td>Добавить два новых канала привлечения трафика,...</td>\n",
       "      <td>3</td>\n",
       "      <td>10</td>\n",
       "      <td>8</td>\n",
       "      <td>6</td>\n",
       "    </tr>\n",
       "    <tr>\n",
       "      <th>1</th>\n",
       "      <td>Запустить собственную службу доставки, что сок...</td>\n",
       "      <td>2</td>\n",
       "      <td>5</td>\n",
       "      <td>4</td>\n",
       "      <td>10</td>\n",
       "    </tr>\n",
       "    <tr>\n",
       "      <th>2</th>\n",
       "      <td>Добавить блоки рекомендаций товаров на сайт ин...</td>\n",
       "      <td>8</td>\n",
       "      <td>3</td>\n",
       "      <td>7</td>\n",
       "      <td>3</td>\n",
       "    </tr>\n",
       "    <tr>\n",
       "      <th>3</th>\n",
       "      <td>Изменить структура категорий, что увеличит кон...</td>\n",
       "      <td>8</td>\n",
       "      <td>3</td>\n",
       "      <td>3</td>\n",
       "      <td>8</td>\n",
       "    </tr>\n",
       "    <tr>\n",
       "      <th>4</th>\n",
       "      <td>Изменить цвет фона главной страницы, чтобы уве...</td>\n",
       "      <td>3</td>\n",
       "      <td>1</td>\n",
       "      <td>1</td>\n",
       "      <td>1</td>\n",
       "    </tr>\n",
       "    <tr>\n",
       "      <th>5</th>\n",
       "      <td>Добавить страницу отзывов клиентов о магазине,...</td>\n",
       "      <td>3</td>\n",
       "      <td>2</td>\n",
       "      <td>2</td>\n",
       "      <td>3</td>\n",
       "    </tr>\n",
       "    <tr>\n",
       "      <th>6</th>\n",
       "      <td>Показать на главной странице баннеры с актуаль...</td>\n",
       "      <td>5</td>\n",
       "      <td>3</td>\n",
       "      <td>8</td>\n",
       "      <td>3</td>\n",
       "    </tr>\n",
       "    <tr>\n",
       "      <th>7</th>\n",
       "      <td>Добавить форму подписки на все основные страни...</td>\n",
       "      <td>10</td>\n",
       "      <td>7</td>\n",
       "      <td>8</td>\n",
       "      <td>5</td>\n",
       "    </tr>\n",
       "    <tr>\n",
       "      <th>8</th>\n",
       "      <td>Запустить акцию, дающую скидку на товар в день...</td>\n",
       "      <td>1</td>\n",
       "      <td>9</td>\n",
       "      <td>9</td>\n",
       "      <td>5</td>\n",
       "    </tr>\n",
       "  </tbody>\n",
       "</table>\n",
       "</div>"
      ],
      "text/plain": [
       "                                          Hypothesis  Reach  Impact  \\\n",
       "0  Добавить два новых канала привлечения трафика,...      3      10   \n",
       "1  Запустить собственную службу доставки, что сок...      2       5   \n",
       "2  Добавить блоки рекомендаций товаров на сайт ин...      8       3   \n",
       "3  Изменить структура категорий, что увеличит кон...      8       3   \n",
       "4  Изменить цвет фона главной страницы, чтобы уве...      3       1   \n",
       "5  Добавить страницу отзывов клиентов о магазине,...      3       2   \n",
       "6  Показать на главной странице баннеры с актуаль...      5       3   \n",
       "7  Добавить форму подписки на все основные страни...     10       7   \n",
       "8  Запустить акцию, дающую скидку на товар в день...      1       9   \n",
       "\n",
       "   Confidence  Efforts  \n",
       "0           8        6  \n",
       "1           4       10  \n",
       "2           7        3  \n",
       "3           3        8  \n",
       "4           1        1  \n",
       "5           2        3  \n",
       "6           8        3  \n",
       "7           8        5  \n",
       "8           9        5  "
      ]
     },
     "metadata": {},
     "output_type": "display_data"
    },
    {
     "name": "stdout",
     "output_type": "stream",
     "text": [
      "<class 'pandas.core.frame.DataFrame'>\n",
      "RangeIndex: 9 entries, 0 to 8\n",
      "Data columns (total 5 columns):\n",
      " #   Column      Non-Null Count  Dtype \n",
      "---  ------      --------------  ----- \n",
      " 0   Hypothesis  9 non-null      object\n",
      " 1   Reach       9 non-null      int64 \n",
      " 2   Impact      9 non-null      int64 \n",
      " 3   Confidence  9 non-null      int64 \n",
      " 4   Efforts     9 non-null      int64 \n",
      "dtypes: int64(4), object(1)\n",
      "memory usage: 488.0+ bytes\n"
     ]
    },
    {
     "data": {
      "text/plain": [
       "None"
      ]
     },
     "metadata": {},
     "output_type": "display_data"
    },
    {
     "name": "stdout",
     "output_type": "stream",
     "text": [
      "Кол-во пропусков в hypothesis: 0\n",
      "\n",
      "Кол-во явных дубликатов в hypothesis: 0\n",
      "\n",
      "\u001b[1mОсновная информация по таблице orders\u001b[0m\n"
     ]
    },
    {
     "data": {
      "text/html": [
       "<div>\n",
       "<style scoped>\n",
       "    .dataframe tbody tr th:only-of-type {\n",
       "        vertical-align: middle;\n",
       "    }\n",
       "\n",
       "    .dataframe tbody tr th {\n",
       "        vertical-align: top;\n",
       "    }\n",
       "\n",
       "    .dataframe thead th {\n",
       "        text-align: right;\n",
       "    }\n",
       "</style>\n",
       "<table border=\"1\" class=\"dataframe\">\n",
       "  <thead>\n",
       "    <tr style=\"text-align: right;\">\n",
       "      <th></th>\n",
       "      <th>transactionId</th>\n",
       "      <th>visitorId</th>\n",
       "      <th>date</th>\n",
       "      <th>revenue</th>\n",
       "      <th>group</th>\n",
       "    </tr>\n",
       "  </thead>\n",
       "  <tbody>\n",
       "    <tr>\n",
       "      <th>0</th>\n",
       "      <td>3667963787</td>\n",
       "      <td>3312258926</td>\n",
       "      <td>2019-08-15</td>\n",
       "      <td>1650</td>\n",
       "      <td>B</td>\n",
       "    </tr>\n",
       "    <tr>\n",
       "      <th>1</th>\n",
       "      <td>2804400009</td>\n",
       "      <td>3642806036</td>\n",
       "      <td>2019-08-15</td>\n",
       "      <td>730</td>\n",
       "      <td>B</td>\n",
       "    </tr>\n",
       "    <tr>\n",
       "      <th>2</th>\n",
       "      <td>2961555356</td>\n",
       "      <td>4069496402</td>\n",
       "      <td>2019-08-15</td>\n",
       "      <td>400</td>\n",
       "      <td>A</td>\n",
       "    </tr>\n",
       "    <tr>\n",
       "      <th>3</th>\n",
       "      <td>3797467345</td>\n",
       "      <td>1196621759</td>\n",
       "      <td>2019-08-15</td>\n",
       "      <td>9759</td>\n",
       "      <td>B</td>\n",
       "    </tr>\n",
       "    <tr>\n",
       "      <th>4</th>\n",
       "      <td>2282983706</td>\n",
       "      <td>2322279887</td>\n",
       "      <td>2019-08-15</td>\n",
       "      <td>2308</td>\n",
       "      <td>B</td>\n",
       "    </tr>\n",
       "    <tr>\n",
       "      <th>5</th>\n",
       "      <td>182168103</td>\n",
       "      <td>935554773</td>\n",
       "      <td>2019-08-15</td>\n",
       "      <td>2210</td>\n",
       "      <td>B</td>\n",
       "    </tr>\n",
       "    <tr>\n",
       "      <th>6</th>\n",
       "      <td>398296753</td>\n",
       "      <td>2900797465</td>\n",
       "      <td>2019-08-15</td>\n",
       "      <td>1860</td>\n",
       "      <td>B</td>\n",
       "    </tr>\n",
       "    <tr>\n",
       "      <th>7</th>\n",
       "      <td>2626614568</td>\n",
       "      <td>78758296</td>\n",
       "      <td>2019-08-15</td>\n",
       "      <td>1044</td>\n",
       "      <td>A</td>\n",
       "    </tr>\n",
       "    <tr>\n",
       "      <th>8</th>\n",
       "      <td>1576988021</td>\n",
       "      <td>295230930</td>\n",
       "      <td>2019-08-15</td>\n",
       "      <td>13710</td>\n",
       "      <td>A</td>\n",
       "    </tr>\n",
       "    <tr>\n",
       "      <th>9</th>\n",
       "      <td>1506739906</td>\n",
       "      <td>1882260405</td>\n",
       "      <td>2019-08-15</td>\n",
       "      <td>1855</td>\n",
       "      <td>B</td>\n",
       "    </tr>\n",
       "  </tbody>\n",
       "</table>\n",
       "</div>"
      ],
      "text/plain": [
       "   transactionId   visitorId        date  revenue group\n",
       "0     3667963787  3312258926  2019-08-15     1650     B\n",
       "1     2804400009  3642806036  2019-08-15      730     B\n",
       "2     2961555356  4069496402  2019-08-15      400     A\n",
       "3     3797467345  1196621759  2019-08-15     9759     B\n",
       "4     2282983706  2322279887  2019-08-15     2308     B\n",
       "5      182168103   935554773  2019-08-15     2210     B\n",
       "6      398296753  2900797465  2019-08-15     1860     B\n",
       "7     2626614568    78758296  2019-08-15     1044     A\n",
       "8     1576988021   295230930  2019-08-15    13710     A\n",
       "9     1506739906  1882260405  2019-08-15     1855     B"
      ]
     },
     "metadata": {},
     "output_type": "display_data"
    },
    {
     "name": "stdout",
     "output_type": "stream",
     "text": [
      "<class 'pandas.core.frame.DataFrame'>\n",
      "RangeIndex: 1197 entries, 0 to 1196\n",
      "Data columns (total 5 columns):\n",
      " #   Column         Non-Null Count  Dtype \n",
      "---  ------         --------------  ----- \n",
      " 0   transactionId  1197 non-null   int64 \n",
      " 1   visitorId      1197 non-null   int64 \n",
      " 2   date           1197 non-null   object\n",
      " 3   revenue        1197 non-null   int64 \n",
      " 4   group          1197 non-null   object\n",
      "dtypes: int64(3), object(2)\n",
      "memory usage: 46.9+ KB\n"
     ]
    },
    {
     "data": {
      "text/plain": [
       "None"
      ]
     },
     "metadata": {},
     "output_type": "display_data"
    },
    {
     "name": "stdout",
     "output_type": "stream",
     "text": [
      "Кол-во пропусков в orders: 0\n",
      "\n",
      "Кол-во явных дубликатов в orders: 0\n",
      "\n",
      "\u001b[1mОсновная информация по таблице visitors\u001b[0m\n"
     ]
    },
    {
     "data": {
      "text/html": [
       "<div>\n",
       "<style scoped>\n",
       "    .dataframe tbody tr th:only-of-type {\n",
       "        vertical-align: middle;\n",
       "    }\n",
       "\n",
       "    .dataframe tbody tr th {\n",
       "        vertical-align: top;\n",
       "    }\n",
       "\n",
       "    .dataframe thead th {\n",
       "        text-align: right;\n",
       "    }\n",
       "</style>\n",
       "<table border=\"1\" class=\"dataframe\">\n",
       "  <thead>\n",
       "    <tr style=\"text-align: right;\">\n",
       "      <th></th>\n",
       "      <th>date</th>\n",
       "      <th>group</th>\n",
       "      <th>visitors</th>\n",
       "    </tr>\n",
       "  </thead>\n",
       "  <tbody>\n",
       "    <tr>\n",
       "      <th>0</th>\n",
       "      <td>2019-08-01</td>\n",
       "      <td>A</td>\n",
       "      <td>719</td>\n",
       "    </tr>\n",
       "    <tr>\n",
       "      <th>1</th>\n",
       "      <td>2019-08-02</td>\n",
       "      <td>A</td>\n",
       "      <td>619</td>\n",
       "    </tr>\n",
       "    <tr>\n",
       "      <th>2</th>\n",
       "      <td>2019-08-03</td>\n",
       "      <td>A</td>\n",
       "      <td>507</td>\n",
       "    </tr>\n",
       "    <tr>\n",
       "      <th>3</th>\n",
       "      <td>2019-08-04</td>\n",
       "      <td>A</td>\n",
       "      <td>717</td>\n",
       "    </tr>\n",
       "    <tr>\n",
       "      <th>4</th>\n",
       "      <td>2019-08-05</td>\n",
       "      <td>A</td>\n",
       "      <td>756</td>\n",
       "    </tr>\n",
       "    <tr>\n",
       "      <th>5</th>\n",
       "      <td>2019-08-06</td>\n",
       "      <td>A</td>\n",
       "      <td>667</td>\n",
       "    </tr>\n",
       "    <tr>\n",
       "      <th>6</th>\n",
       "      <td>2019-08-07</td>\n",
       "      <td>A</td>\n",
       "      <td>644</td>\n",
       "    </tr>\n",
       "    <tr>\n",
       "      <th>7</th>\n",
       "      <td>2019-08-08</td>\n",
       "      <td>A</td>\n",
       "      <td>610</td>\n",
       "    </tr>\n",
       "    <tr>\n",
       "      <th>8</th>\n",
       "      <td>2019-08-09</td>\n",
       "      <td>A</td>\n",
       "      <td>617</td>\n",
       "    </tr>\n",
       "    <tr>\n",
       "      <th>9</th>\n",
       "      <td>2019-08-10</td>\n",
       "      <td>A</td>\n",
       "      <td>406</td>\n",
       "    </tr>\n",
       "  </tbody>\n",
       "</table>\n",
       "</div>"
      ],
      "text/plain": [
       "         date group  visitors\n",
       "0  2019-08-01     A       719\n",
       "1  2019-08-02     A       619\n",
       "2  2019-08-03     A       507\n",
       "3  2019-08-04     A       717\n",
       "4  2019-08-05     A       756\n",
       "5  2019-08-06     A       667\n",
       "6  2019-08-07     A       644\n",
       "7  2019-08-08     A       610\n",
       "8  2019-08-09     A       617\n",
       "9  2019-08-10     A       406"
      ]
     },
     "metadata": {},
     "output_type": "display_data"
    },
    {
     "name": "stdout",
     "output_type": "stream",
     "text": [
      "<class 'pandas.core.frame.DataFrame'>\n",
      "RangeIndex: 62 entries, 0 to 61\n",
      "Data columns (total 3 columns):\n",
      " #   Column    Non-Null Count  Dtype \n",
      "---  ------    --------------  ----- \n",
      " 0   date      62 non-null     object\n",
      " 1   group     62 non-null     object\n",
      " 2   visitors  62 non-null     int64 \n",
      "dtypes: int64(1), object(2)\n",
      "memory usage: 1.6+ KB\n"
     ]
    },
    {
     "data": {
      "text/plain": [
       "None"
      ]
     },
     "metadata": {},
     "output_type": "display_data"
    },
    {
     "name": "stdout",
     "output_type": "stream",
     "text": [
      "Кол-во пропусков в visitors: 0\n",
      "\n",
      "Кол-во явных дубликатов в visitors: 0\n",
      "\n"
     ]
    }
   ],
   "source": [
    "dataframes = {\n",
    "    'hypothesis': hypothesis, \n",
    "    'orders': orders, \n",
    "    'visitors': visitors\n",
    "}\n",
    "\n",
    "for name, df in dataframes.items():\n",
    "    print('\\033[1m' + f'Основная информация по таблице {name}' + '\\033[0m')\n",
    "    display(df.head(10))\n",
    "    display(df.info())\n",
    "    print(f'Кол-во пропусков в {name}: {df.isnull().sum().sum()}\\n')\n",
    "    print(f'Кол-во явных дубликатов в {name}: {df.duplicated().sum()}\\n')"
   ]
  },
  {
   "cell_type": "markdown",
   "metadata": {},
   "source": [
    "Пропусков и явных дубликатов в датасетах нет. Судя по увиденному, неявные дубликаты также отсутствуют."
   ]
  },
  {
   "cell_type": "code",
   "execution_count": 4,
   "metadata": {},
   "outputs": [],
   "source": [
    "hypothesis.columns = hypothesis.columns.str.lower() # поменяем заглавные буквы на строчные в названиях столбцов hypothesis\n",
    "orders.columns = orders.columns.str.replace(\"I\", \"_i\") # изменим стилистику названий столбцов на названия с нижним подчеркиванием"
   ]
  },
  {
   "cell_type": "code",
   "execution_count": 5,
   "metadata": {},
   "outputs": [],
   "source": [
    "# приведем столбцы с датой к типу datetime\n",
    "\n",
    "orders['date'] = pd.to_datetime(orders['date'])\n",
    "visitors['date'] = pd.to_datetime(visitors['date'])"
   ]
  },
  {
   "cell_type": "code",
   "execution_count": 6,
   "metadata": {},
   "outputs": [
    {
     "data": {
      "text/html": [
       "<div>\n",
       "<style scoped>\n",
       "    .dataframe tbody tr th:only-of-type {\n",
       "        vertical-align: middle;\n",
       "    }\n",
       "\n",
       "    .dataframe tbody tr th {\n",
       "        vertical-align: top;\n",
       "    }\n",
       "\n",
       "    .dataframe thead th {\n",
       "        text-align: right;\n",
       "    }\n",
       "</style>\n",
       "<table border=\"1\" class=\"dataframe\">\n",
       "  <thead>\n",
       "    <tr style=\"text-align: right;\">\n",
       "      <th></th>\n",
       "      <th>visitor_id</th>\n",
       "      <th>nunique</th>\n",
       "    </tr>\n",
       "  </thead>\n",
       "  <tbody>\n",
       "    <tr>\n",
       "      <th>55</th>\n",
       "      <td>8300375</td>\n",
       "      <td>2</td>\n",
       "    </tr>\n",
       "    <tr>\n",
       "      <th>48</th>\n",
       "      <td>199603092</td>\n",
       "      <td>2</td>\n",
       "    </tr>\n",
       "    <tr>\n",
       "      <th>18</th>\n",
       "      <td>232979603</td>\n",
       "      <td>2</td>\n",
       "    </tr>\n",
       "    <tr>\n",
       "      <th>15</th>\n",
       "      <td>237748145</td>\n",
       "      <td>2</td>\n",
       "    </tr>\n",
       "    <tr>\n",
       "      <th>13</th>\n",
       "      <td>276558944</td>\n",
       "      <td>2</td>\n",
       "    </tr>\n",
       "    <tr>\n",
       "      <th>4</th>\n",
       "      <td>351125977</td>\n",
       "      <td>2</td>\n",
       "    </tr>\n",
       "    <tr>\n",
       "      <th>21</th>\n",
       "      <td>393266494</td>\n",
       "      <td>2</td>\n",
       "    </tr>\n",
       "    <tr>\n",
       "      <th>42</th>\n",
       "      <td>457167155</td>\n",
       "      <td>2</td>\n",
       "    </tr>\n",
       "    <tr>\n",
       "      <th>39</th>\n",
       "      <td>471551937</td>\n",
       "      <td>2</td>\n",
       "    </tr>\n",
       "    <tr>\n",
       "      <th>38</th>\n",
       "      <td>477780734</td>\n",
       "      <td>2</td>\n",
       "    </tr>\n",
       "    <tr>\n",
       "      <th>41</th>\n",
       "      <td>818047933</td>\n",
       "      <td>2</td>\n",
       "    </tr>\n",
       "    <tr>\n",
       "      <th>16</th>\n",
       "      <td>963407295</td>\n",
       "      <td>2</td>\n",
       "    </tr>\n",
       "    <tr>\n",
       "      <th>50</th>\n",
       "      <td>1230306981</td>\n",
       "      <td>2</td>\n",
       "    </tr>\n",
       "    <tr>\n",
       "      <th>47</th>\n",
       "      <td>1294878855</td>\n",
       "      <td>2</td>\n",
       "    </tr>\n",
       "    <tr>\n",
       "      <th>23</th>\n",
       "      <td>1316129916</td>\n",
       "      <td>2</td>\n",
       "    </tr>\n",
       "    <tr>\n",
       "      <th>17</th>\n",
       "      <td>1333886533</td>\n",
       "      <td>2</td>\n",
       "    </tr>\n",
       "    <tr>\n",
       "      <th>3</th>\n",
       "      <td>1404934699</td>\n",
       "      <td>2</td>\n",
       "    </tr>\n",
       "    <tr>\n",
       "      <th>32</th>\n",
       "      <td>1602967004</td>\n",
       "      <td>2</td>\n",
       "    </tr>\n",
       "    <tr>\n",
       "      <th>26</th>\n",
       "      <td>1614305549</td>\n",
       "      <td>2</td>\n",
       "    </tr>\n",
       "    <tr>\n",
       "      <th>27</th>\n",
       "      <td>1648269707</td>\n",
       "      <td>2</td>\n",
       "    </tr>\n",
       "    <tr>\n",
       "      <th>31</th>\n",
       "      <td>1668030113</td>\n",
       "      <td>2</td>\n",
       "    </tr>\n",
       "    <tr>\n",
       "      <th>35</th>\n",
       "      <td>1738359350</td>\n",
       "      <td>2</td>\n",
       "    </tr>\n",
       "    <tr>\n",
       "      <th>24</th>\n",
       "      <td>1801183820</td>\n",
       "      <td>2</td>\n",
       "    </tr>\n",
       "    <tr>\n",
       "      <th>12</th>\n",
       "      <td>1959144690</td>\n",
       "      <td>2</td>\n",
       "    </tr>\n",
       "    <tr>\n",
       "      <th>44</th>\n",
       "      <td>2038680547</td>\n",
       "      <td>2</td>\n",
       "    </tr>\n",
       "    <tr>\n",
       "      <th>57</th>\n",
       "      <td>2044997962</td>\n",
       "      <td>2</td>\n",
       "    </tr>\n",
       "    <tr>\n",
       "      <th>20</th>\n",
       "      <td>2378935119</td>\n",
       "      <td>2</td>\n",
       "    </tr>\n",
       "    <tr>\n",
       "      <th>8</th>\n",
       "      <td>2458001652</td>\n",
       "      <td>2</td>\n",
       "    </tr>\n",
       "    <tr>\n",
       "      <th>22</th>\n",
       "      <td>2579882178</td>\n",
       "      <td>2</td>\n",
       "    </tr>\n",
       "    <tr>\n",
       "      <th>43</th>\n",
       "      <td>2587333274</td>\n",
       "      <td>2</td>\n",
       "    </tr>\n",
       "    <tr>\n",
       "      <th>40</th>\n",
       "      <td>2600415354</td>\n",
       "      <td>2</td>\n",
       "    </tr>\n",
       "    <tr>\n",
       "      <th>0</th>\n",
       "      <td>2654030115</td>\n",
       "      <td>2</td>\n",
       "    </tr>\n",
       "    <tr>\n",
       "      <th>28</th>\n",
       "      <td>2686716486</td>\n",
       "      <td>2</td>\n",
       "    </tr>\n",
       "    <tr>\n",
       "      <th>29</th>\n",
       "      <td>2712142231</td>\n",
       "      <td>2</td>\n",
       "    </tr>\n",
       "    <tr>\n",
       "      <th>30</th>\n",
       "      <td>2716752286</td>\n",
       "      <td>2</td>\n",
       "    </tr>\n",
       "    <tr>\n",
       "      <th>36</th>\n",
       "      <td>2780786433</td>\n",
       "      <td>2</td>\n",
       "    </tr>\n",
       "    <tr>\n",
       "      <th>6</th>\n",
       "      <td>2927087541</td>\n",
       "      <td>2</td>\n",
       "    </tr>\n",
       "    <tr>\n",
       "      <th>11</th>\n",
       "      <td>2949041841</td>\n",
       "      <td>2</td>\n",
       "    </tr>\n",
       "    <tr>\n",
       "      <th>14</th>\n",
       "      <td>2954449915</td>\n",
       "      <td>2</td>\n",
       "    </tr>\n",
       "    <tr>\n",
       "      <th>51</th>\n",
       "      <td>3062433592</td>\n",
       "      <td>2</td>\n",
       "    </tr>\n",
       "    <tr>\n",
       "      <th>49</th>\n",
       "      <td>3202540741</td>\n",
       "      <td>2</td>\n",
       "    </tr>\n",
       "    <tr>\n",
       "      <th>46</th>\n",
       "      <td>3234906277</td>\n",
       "      <td>2</td>\n",
       "    </tr>\n",
       "    <tr>\n",
       "      <th>25</th>\n",
       "      <td>3656415546</td>\n",
       "      <td>2</td>\n",
       "    </tr>\n",
       "    <tr>\n",
       "      <th>33</th>\n",
       "      <td>3717692402</td>\n",
       "      <td>2</td>\n",
       "    </tr>\n",
       "    <tr>\n",
       "      <th>34</th>\n",
       "      <td>3766097110</td>\n",
       "      <td>2</td>\n",
       "    </tr>\n",
       "    <tr>\n",
       "      <th>37</th>\n",
       "      <td>3803269165</td>\n",
       "      <td>2</td>\n",
       "    </tr>\n",
       "    <tr>\n",
       "      <th>1</th>\n",
       "      <td>3891541246</td>\n",
       "      <td>2</td>\n",
       "    </tr>\n",
       "    <tr>\n",
       "      <th>2</th>\n",
       "      <td>3941795274</td>\n",
       "      <td>2</td>\n",
       "    </tr>\n",
       "    <tr>\n",
       "      <th>5</th>\n",
       "      <td>3951559397</td>\n",
       "      <td>2</td>\n",
       "    </tr>\n",
       "    <tr>\n",
       "      <th>45</th>\n",
       "      <td>3957174400</td>\n",
       "      <td>2</td>\n",
       "    </tr>\n",
       "    <tr>\n",
       "      <th>7</th>\n",
       "      <td>3963646447</td>\n",
       "      <td>2</td>\n",
       "    </tr>\n",
       "    <tr>\n",
       "      <th>9</th>\n",
       "      <td>3972127743</td>\n",
       "      <td>2</td>\n",
       "    </tr>\n",
       "    <tr>\n",
       "      <th>10</th>\n",
       "      <td>3984495233</td>\n",
       "      <td>2</td>\n",
       "    </tr>\n",
       "    <tr>\n",
       "      <th>19</th>\n",
       "      <td>4069496402</td>\n",
       "      <td>2</td>\n",
       "    </tr>\n",
       "    <tr>\n",
       "      <th>56</th>\n",
       "      <td>4120364173</td>\n",
       "      <td>2</td>\n",
       "    </tr>\n",
       "    <tr>\n",
       "      <th>54</th>\n",
       "      <td>4186807279</td>\n",
       "      <td>2</td>\n",
       "    </tr>\n",
       "    <tr>\n",
       "      <th>52</th>\n",
       "      <td>4256040402</td>\n",
       "      <td>2</td>\n",
       "    </tr>\n",
       "    <tr>\n",
       "      <th>53</th>\n",
       "      <td>4266935830</td>\n",
       "      <td>2</td>\n",
       "    </tr>\n",
       "  </tbody>\n",
       "</table>\n",
       "</div>"
      ],
      "text/plain": [
       "    visitor_id  nunique\n",
       "55     8300375        2\n",
       "48   199603092        2\n",
       "18   232979603        2\n",
       "15   237748145        2\n",
       "13   276558944        2\n",
       "4    351125977        2\n",
       "21   393266494        2\n",
       "42   457167155        2\n",
       "39   471551937        2\n",
       "38   477780734        2\n",
       "41   818047933        2\n",
       "16   963407295        2\n",
       "50  1230306981        2\n",
       "47  1294878855        2\n",
       "23  1316129916        2\n",
       "17  1333886533        2\n",
       "3   1404934699        2\n",
       "32  1602967004        2\n",
       "26  1614305549        2\n",
       "27  1648269707        2\n",
       "31  1668030113        2\n",
       "35  1738359350        2\n",
       "24  1801183820        2\n",
       "12  1959144690        2\n",
       "44  2038680547        2\n",
       "57  2044997962        2\n",
       "20  2378935119        2\n",
       "8   2458001652        2\n",
       "22  2579882178        2\n",
       "43  2587333274        2\n",
       "40  2600415354        2\n",
       "0   2654030115        2\n",
       "28  2686716486        2\n",
       "29  2712142231        2\n",
       "30  2716752286        2\n",
       "36  2780786433        2\n",
       "6   2927087541        2\n",
       "11  2949041841        2\n",
       "14  2954449915        2\n",
       "51  3062433592        2\n",
       "49  3202540741        2\n",
       "46  3234906277        2\n",
       "25  3656415546        2\n",
       "33  3717692402        2\n",
       "34  3766097110        2\n",
       "37  3803269165        2\n",
       "1   3891541246        2\n",
       "2   3941795274        2\n",
       "5   3951559397        2\n",
       "45  3957174400        2\n",
       "7   3963646447        2\n",
       "9   3972127743        2\n",
       "10  3984495233        2\n",
       "19  4069496402        2\n",
       "56  4120364173        2\n",
       "54  4186807279        2\n",
       "52  4256040402        2\n",
       "53  4266935830        2"
      ]
     },
     "metadata": {},
     "output_type": "display_data"
    },
    {
     "name": "stdout",
     "output_type": "stream",
     "text": [
      "Всего строк: 58\n"
     ]
    }
   ],
   "source": [
    "# проверим, есть ли пересечения в группах A и B\n",
    "\n",
    "ab_visitors = orders.groupby(by='visitor_id')['group'].agg(['nunique']).sort_values(by='nunique', ascending=False).reset_index()\n",
    "ab_visitors = ab_visitors[ab_visitors['nunique'] != 1].sort_values(by='visitor_id')\n",
    "display(ab_visitors)\n",
    "print('Всего строк:', ab_visitors[ab_visitors['nunique'] != 1].shape[0])"
   ]
  },
  {
   "cell_type": "markdown",
   "metadata": {},
   "source": [
    "58 пользователей находятся одновременно в двух группах: A и B. Удалим этих пользователей для дальнейшего анализа A/B-теста."
   ]
  },
  {
   "cell_type": "code",
   "execution_count": 7,
   "metadata": {},
   "outputs": [
    {
     "data": {
      "text/html": [
       "<div>\n",
       "<style scoped>\n",
       "    .dataframe tbody tr th:only-of-type {\n",
       "        vertical-align: middle;\n",
       "    }\n",
       "\n",
       "    .dataframe tbody tr th {\n",
       "        vertical-align: top;\n",
       "    }\n",
       "\n",
       "    .dataframe thead th {\n",
       "        text-align: right;\n",
       "    }\n",
       "</style>\n",
       "<table border=\"1\" class=\"dataframe\">\n",
       "  <thead>\n",
       "    <tr style=\"text-align: right;\">\n",
       "      <th></th>\n",
       "      <th>nunique</th>\n",
       "    </tr>\n",
       "    <tr>\n",
       "      <th>visitor_id</th>\n",
       "      <th></th>\n",
       "    </tr>\n",
       "  </thead>\n",
       "  <tbody>\n",
       "    <tr>\n",
       "      <th>5114589</th>\n",
       "      <td>1</td>\n",
       "    </tr>\n",
       "    <tr>\n",
       "      <th>2908466434</th>\n",
       "      <td>1</td>\n",
       "    </tr>\n",
       "    <tr>\n",
       "      <th>2776274025</th>\n",
       "      <td>1</td>\n",
       "    </tr>\n",
       "    <tr>\n",
       "      <th>2785040378</th>\n",
       "      <td>1</td>\n",
       "    </tr>\n",
       "    <tr>\n",
       "      <th>2785527055</th>\n",
       "      <td>1</td>\n",
       "    </tr>\n",
       "    <tr>\n",
       "      <th>...</th>\n",
       "      <td>...</td>\n",
       "    </tr>\n",
       "    <tr>\n",
       "      <th>1426761187</th>\n",
       "      <td>1</td>\n",
       "    </tr>\n",
       "    <tr>\n",
       "      <th>1430210707</th>\n",
       "      <td>1</td>\n",
       "    </tr>\n",
       "    <tr>\n",
       "      <th>1438226485</th>\n",
       "      <td>1</td>\n",
       "    </tr>\n",
       "    <tr>\n",
       "      <th>1452540367</th>\n",
       "      <td>1</td>\n",
       "    </tr>\n",
       "    <tr>\n",
       "      <th>4283872382</th>\n",
       "      <td>1</td>\n",
       "    </tr>\n",
       "  </tbody>\n",
       "</table>\n",
       "<p>973 rows × 1 columns</p>\n",
       "</div>"
      ],
      "text/plain": [
       "            nunique\n",
       "visitor_id         \n",
       "5114589           1\n",
       "2908466434        1\n",
       "2776274025        1\n",
       "2785040378        1\n",
       "2785527055        1\n",
       "...             ...\n",
       "1426761187        1\n",
       "1430210707        1\n",
       "1438226485        1\n",
       "1452540367        1\n",
       "4283872382        1\n",
       "\n",
       "[973 rows x 1 columns]"
      ]
     },
     "execution_count": 7,
     "metadata": {},
     "output_type": "execute_result"
    }
   ],
   "source": [
    "orders = orders[~orders['visitor_id'].isin(list(ab_visitors['visitor_id'].unique()))]\n",
    "orders.groupby(by='visitor_id')['group'].agg(['nunique']).sort_values(by='nunique', ascending=False)"
   ]
  },
  {
   "cell_type": "markdown",
   "metadata": {},
   "source": [
    "Теперь в даннных остались только пользователи, принадлежащие к одной из групп."
   ]
  },
  {
   "cell_type": "code",
   "execution_count": 8,
   "metadata": {},
   "outputs": [
    {
     "name": "stdout",
     "output_type": "stream",
     "text": [
      "Дата начала теста по orders: 2019-08-01\n",
      "Дата окончания теста по orders: 2019-08-31\n",
      "\n",
      "Дата начала теста по visitors: 2019-08-01\n",
      "Дата окончания теста по visitors: 2019-08-31\n"
     ]
    }
   ],
   "source": [
    "print('Дата начала теста по orders:', str(orders['date'].min().date()))\n",
    "print('Дата окончания теста по orders:', str(orders['date'].max().date()))\n",
    "print('\\nДата начала теста по visitors:', str(visitors['date'].min().date()))\n",
    "print('Дата окончания теста по visitors:', str(visitors['date'].max().date()))"
   ]
  },
  {
   "cell_type": "markdown",
   "metadata": {},
   "source": [
    "Тест проводился с 1 по 31 августа 2019 года. Данные по началу и концу теста совпадают для таблиц orders и visitors, значит, данные корректны."
   ]
  },
  {
   "cell_type": "markdown",
   "metadata": {},
   "source": [
    "### Выводы"
   ]
  },
  {
   "cell_type": "markdown",
   "metadata": {},
   "source": [
    "1. Создано три датасета: hypothesis, orders и visitors. \n",
    "2. Датасеты проверены на пропуски, явные и неявные дубликаты. \n",
    "3. Стили заголовков столбцов были приведены к единому стилю: только строчные буквы, слова разделены нижними подчеркиваниями.\n",
    "4. Столбцы с датой были приведены к типу datetime. \n",
    "5. Найдены пересечения в группах A и B. 58 пользователей, принадлежавшие к обеим группам, удалены.\n",
    "6. Тест проводился с 1 по 31 августа 2019 года."
   ]
  },
  {
   "cell_type": "markdown",
   "metadata": {},
   "source": [
    "## Приоритизация гипотез"
   ]
  },
  {
   "cell_type": "markdown",
   "metadata": {},
   "source": [
    "### Применение фреймворка ICE для приоритизации гипотез"
   ]
  },
  {
   "cell_type": "code",
   "execution_count": 9,
   "metadata": {},
   "outputs": [
    {
     "data": {
      "text/html": [
       "<style  type=\"text/css\" >\n",
       "    #T_2714c_ th {\n",
       "          text-align: left;\n",
       "    }#T_2714c_row0_col0,#T_2714c_row0_col1,#T_2714c_row0_col2,#T_2714c_row0_col3,#T_2714c_row0_col4,#T_2714c_row0_col5,#T_2714c_row1_col0,#T_2714c_row1_col1,#T_2714c_row1_col2,#T_2714c_row1_col3,#T_2714c_row1_col4,#T_2714c_row1_col5,#T_2714c_row2_col0,#T_2714c_row2_col1,#T_2714c_row2_col2,#T_2714c_row2_col3,#T_2714c_row2_col4,#T_2714c_row2_col5,#T_2714c_row3_col0,#T_2714c_row3_col1,#T_2714c_row3_col2,#T_2714c_row3_col3,#T_2714c_row3_col4,#T_2714c_row3_col5,#T_2714c_row4_col0,#T_2714c_row4_col1,#T_2714c_row4_col2,#T_2714c_row4_col3,#T_2714c_row4_col4,#T_2714c_row4_col5,#T_2714c_row5_col0,#T_2714c_row5_col1,#T_2714c_row5_col2,#T_2714c_row5_col3,#T_2714c_row5_col4,#T_2714c_row5_col5,#T_2714c_row6_col0,#T_2714c_row6_col1,#T_2714c_row6_col2,#T_2714c_row6_col3,#T_2714c_row6_col4,#T_2714c_row6_col5,#T_2714c_row7_col0,#T_2714c_row7_col1,#T_2714c_row7_col2,#T_2714c_row7_col3,#T_2714c_row7_col4,#T_2714c_row7_col5,#T_2714c_row8_col0,#T_2714c_row8_col1,#T_2714c_row8_col2,#T_2714c_row8_col3,#T_2714c_row8_col4,#T_2714c_row8_col5{\n",
       "            text-align:  left;\n",
       "        }</style><table id=\"T_2714c_\" ><thead>    <tr>        <th class=\"blank level0\" ></th>        <th class=\"col_heading level0 col0\" >hypothesis</th>        <th class=\"col_heading level0 col1\" >reach</th>        <th class=\"col_heading level0 col2\" >impact</th>        <th class=\"col_heading level0 col3\" >confidence</th>        <th class=\"col_heading level0 col4\" >efforts</th>        <th class=\"col_heading level0 col5\" >ICE</th>    </tr></thead><tbody>\n",
       "                <tr>\n",
       "                        <th id=\"T_2714c_level0_row0\" class=\"row_heading level0 row0\" >8</th>\n",
       "                        <td id=\"T_2714c_row0_col0\" class=\"data row0 col0\" >Запустить акцию, дающую скидку на товар в день рождения</td>\n",
       "                        <td id=\"T_2714c_row0_col1\" class=\"data row0 col1\" >1</td>\n",
       "                        <td id=\"T_2714c_row0_col2\" class=\"data row0 col2\" >9</td>\n",
       "                        <td id=\"T_2714c_row0_col3\" class=\"data row0 col3\" >9</td>\n",
       "                        <td id=\"T_2714c_row0_col4\" class=\"data row0 col4\" >5</td>\n",
       "                        <td id=\"T_2714c_row0_col5\" class=\"data row0 col5\" >16.200000</td>\n",
       "            </tr>\n",
       "            <tr>\n",
       "                        <th id=\"T_2714c_level0_row1\" class=\"row_heading level0 row1\" >0</th>\n",
       "                        <td id=\"T_2714c_row1_col0\" class=\"data row1 col0\" >Добавить два новых канала привлечения трафика, что позволит привлекать на 30% больше пользователей</td>\n",
       "                        <td id=\"T_2714c_row1_col1\" class=\"data row1 col1\" >3</td>\n",
       "                        <td id=\"T_2714c_row1_col2\" class=\"data row1 col2\" >10</td>\n",
       "                        <td id=\"T_2714c_row1_col3\" class=\"data row1 col3\" >8</td>\n",
       "                        <td id=\"T_2714c_row1_col4\" class=\"data row1 col4\" >6</td>\n",
       "                        <td id=\"T_2714c_row1_col5\" class=\"data row1 col5\" >13.330000</td>\n",
       "            </tr>\n",
       "            <tr>\n",
       "                        <th id=\"T_2714c_level0_row2\" class=\"row_heading level0 row2\" >7</th>\n",
       "                        <td id=\"T_2714c_row2_col0\" class=\"data row2 col0\" >Добавить форму подписки на все основные страницы, чтобы собрать базу клиентов для email-рассылок</td>\n",
       "                        <td id=\"T_2714c_row2_col1\" class=\"data row2 col1\" >10</td>\n",
       "                        <td id=\"T_2714c_row2_col2\" class=\"data row2 col2\" >7</td>\n",
       "                        <td id=\"T_2714c_row2_col3\" class=\"data row2 col3\" >8</td>\n",
       "                        <td id=\"T_2714c_row2_col4\" class=\"data row2 col4\" >5</td>\n",
       "                        <td id=\"T_2714c_row2_col5\" class=\"data row2 col5\" >11.200000</td>\n",
       "            </tr>\n",
       "            <tr>\n",
       "                        <th id=\"T_2714c_level0_row3\" class=\"row_heading level0 row3\" >6</th>\n",
       "                        <td id=\"T_2714c_row3_col0\" class=\"data row3 col0\" >Показать на главной странице баннеры с актуальными акциями и распродажами, чтобы увеличить конверсию</td>\n",
       "                        <td id=\"T_2714c_row3_col1\" class=\"data row3 col1\" >5</td>\n",
       "                        <td id=\"T_2714c_row3_col2\" class=\"data row3 col2\" >3</td>\n",
       "                        <td id=\"T_2714c_row3_col3\" class=\"data row3 col3\" >8</td>\n",
       "                        <td id=\"T_2714c_row3_col4\" class=\"data row3 col4\" >3</td>\n",
       "                        <td id=\"T_2714c_row3_col5\" class=\"data row3 col5\" >8.000000</td>\n",
       "            </tr>\n",
       "            <tr>\n",
       "                        <th id=\"T_2714c_level0_row4\" class=\"row_heading level0 row4\" >2</th>\n",
       "                        <td id=\"T_2714c_row4_col0\" class=\"data row4 col0\" >Добавить блоки рекомендаций товаров на сайт интернет магазина, чтобы повысить конверсию и средний чек заказа</td>\n",
       "                        <td id=\"T_2714c_row4_col1\" class=\"data row4 col1\" >8</td>\n",
       "                        <td id=\"T_2714c_row4_col2\" class=\"data row4 col2\" >3</td>\n",
       "                        <td id=\"T_2714c_row4_col3\" class=\"data row4 col3\" >7</td>\n",
       "                        <td id=\"T_2714c_row4_col4\" class=\"data row4 col4\" >3</td>\n",
       "                        <td id=\"T_2714c_row4_col5\" class=\"data row4 col5\" >7.000000</td>\n",
       "            </tr>\n",
       "            <tr>\n",
       "                        <th id=\"T_2714c_level0_row5\" class=\"row_heading level0 row5\" >1</th>\n",
       "                        <td id=\"T_2714c_row5_col0\" class=\"data row5 col0\" >Запустить собственную службу доставки, что сократит срок доставки заказов</td>\n",
       "                        <td id=\"T_2714c_row5_col1\" class=\"data row5 col1\" >2</td>\n",
       "                        <td id=\"T_2714c_row5_col2\" class=\"data row5 col2\" >5</td>\n",
       "                        <td id=\"T_2714c_row5_col3\" class=\"data row5 col3\" >4</td>\n",
       "                        <td id=\"T_2714c_row5_col4\" class=\"data row5 col4\" >10</td>\n",
       "                        <td id=\"T_2714c_row5_col5\" class=\"data row5 col5\" >2.000000</td>\n",
       "            </tr>\n",
       "            <tr>\n",
       "                        <th id=\"T_2714c_level0_row6\" class=\"row_heading level0 row6\" >5</th>\n",
       "                        <td id=\"T_2714c_row6_col0\" class=\"data row6 col0\" >Добавить страницу отзывов клиентов о магазине, что позволит увеличить количество заказов</td>\n",
       "                        <td id=\"T_2714c_row6_col1\" class=\"data row6 col1\" >3</td>\n",
       "                        <td id=\"T_2714c_row6_col2\" class=\"data row6 col2\" >2</td>\n",
       "                        <td id=\"T_2714c_row6_col3\" class=\"data row6 col3\" >2</td>\n",
       "                        <td id=\"T_2714c_row6_col4\" class=\"data row6 col4\" >3</td>\n",
       "                        <td id=\"T_2714c_row6_col5\" class=\"data row6 col5\" >1.330000</td>\n",
       "            </tr>\n",
       "            <tr>\n",
       "                        <th id=\"T_2714c_level0_row7\" class=\"row_heading level0 row7\" >3</th>\n",
       "                        <td id=\"T_2714c_row7_col0\" class=\"data row7 col0\" >Изменить структура категорий, что увеличит конверсию, т.к. пользователи быстрее найдут нужный товар</td>\n",
       "                        <td id=\"T_2714c_row7_col1\" class=\"data row7 col1\" >8</td>\n",
       "                        <td id=\"T_2714c_row7_col2\" class=\"data row7 col2\" >3</td>\n",
       "                        <td id=\"T_2714c_row7_col3\" class=\"data row7 col3\" >3</td>\n",
       "                        <td id=\"T_2714c_row7_col4\" class=\"data row7 col4\" >8</td>\n",
       "                        <td id=\"T_2714c_row7_col5\" class=\"data row7 col5\" >1.120000</td>\n",
       "            </tr>\n",
       "            <tr>\n",
       "                        <th id=\"T_2714c_level0_row8\" class=\"row_heading level0 row8\" >4</th>\n",
       "                        <td id=\"T_2714c_row8_col0\" class=\"data row8 col0\" >Изменить цвет фона главной страницы, чтобы увеличить вовлеченность пользователей</td>\n",
       "                        <td id=\"T_2714c_row8_col1\" class=\"data row8 col1\" >3</td>\n",
       "                        <td id=\"T_2714c_row8_col2\" class=\"data row8 col2\" >1</td>\n",
       "                        <td id=\"T_2714c_row8_col3\" class=\"data row8 col3\" >1</td>\n",
       "                        <td id=\"T_2714c_row8_col4\" class=\"data row8 col4\" >1</td>\n",
       "                        <td id=\"T_2714c_row8_col5\" class=\"data row8 col5\" >1.000000</td>\n",
       "            </tr>\n",
       "    </tbody></table>"
      ],
      "text/plain": [
       "<pandas.io.formats.style.Styler at 0x7f0e36422eb0>"
      ]
     },
     "execution_count": 9,
     "metadata": {},
     "output_type": "execute_result"
    }
   ],
   "source": [
    "hypothesis['ICE'] = (\n",
    "    hypothesis['impact'] * hypothesis['confidence'] / hypothesis['efforts']\n",
    ").round(2)\n",
    "\n",
    "pd.options.display.max_colwidth = 130\n",
    "hypothesis.sort_values(by='ICE', ascending=False)\\\n",
    "    .style.set_properties(**{'text-align': 'left'})\\\n",
    "    .set_table_styles([dict(selector='th', props=[('text-align', 'left')])])"
   ]
  },
  {
   "cell_type": "markdown",
   "metadata": {},
   "source": [
    "По методу ICE лучшими гипотезами стали:\n",
    "\n",
    "№  | Гипотеза | ICE\n",
    ":- | :------- | :--\n",
    "8 | Запустить акцию, дающую скидку на товар в день рождения | 16.20\n",
    "0 | Добавить два новых канала привлечения трафика, что позволит привлекать на 30% больше пользователей |  13.33\n",
    "7 | Добавить форму подписки на все основные страницы, чтобы собрать базу клиентов для email-рассылок |  11.20\n",
    "\n",
    "Показатель ICE для остальных гипотез равен 1-8."
   ]
  },
  {
   "cell_type": "markdown",
   "metadata": {},
   "source": [
    "### Применение фреймворка RICE для приоритизации гипотез"
   ]
  },
  {
   "cell_type": "code",
   "execution_count": 10,
   "metadata": {},
   "outputs": [
    {
     "data": {
      "text/html": [
       "<style  type=\"text/css\" >\n",
       "    #T_caf02_ th {\n",
       "          text-align: left;\n",
       "    }#T_caf02_row0_col0,#T_caf02_row0_col1,#T_caf02_row0_col2,#T_caf02_row0_col3,#T_caf02_row0_col4,#T_caf02_row0_col5,#T_caf02_row0_col6,#T_caf02_row1_col0,#T_caf02_row1_col1,#T_caf02_row1_col2,#T_caf02_row1_col3,#T_caf02_row1_col4,#T_caf02_row1_col5,#T_caf02_row1_col6,#T_caf02_row2_col0,#T_caf02_row2_col1,#T_caf02_row2_col2,#T_caf02_row2_col3,#T_caf02_row2_col4,#T_caf02_row2_col5,#T_caf02_row2_col6,#T_caf02_row3_col0,#T_caf02_row3_col1,#T_caf02_row3_col2,#T_caf02_row3_col3,#T_caf02_row3_col4,#T_caf02_row3_col5,#T_caf02_row3_col6,#T_caf02_row4_col0,#T_caf02_row4_col1,#T_caf02_row4_col2,#T_caf02_row4_col3,#T_caf02_row4_col4,#T_caf02_row4_col5,#T_caf02_row4_col6,#T_caf02_row5_col0,#T_caf02_row5_col1,#T_caf02_row5_col2,#T_caf02_row5_col3,#T_caf02_row5_col4,#T_caf02_row5_col5,#T_caf02_row5_col6,#T_caf02_row6_col0,#T_caf02_row6_col1,#T_caf02_row6_col2,#T_caf02_row6_col3,#T_caf02_row6_col4,#T_caf02_row6_col5,#T_caf02_row6_col6,#T_caf02_row7_col0,#T_caf02_row7_col1,#T_caf02_row7_col2,#T_caf02_row7_col3,#T_caf02_row7_col4,#T_caf02_row7_col5,#T_caf02_row7_col6,#T_caf02_row8_col0,#T_caf02_row8_col1,#T_caf02_row8_col2,#T_caf02_row8_col3,#T_caf02_row8_col4,#T_caf02_row8_col5,#T_caf02_row8_col6{\n",
       "            text-align:  left;\n",
       "        }</style><table id=\"T_caf02_\" ><thead>    <tr>        <th class=\"blank level0\" ></th>        <th class=\"col_heading level0 col0\" >hypothesis</th>        <th class=\"col_heading level0 col1\" >reach</th>        <th class=\"col_heading level0 col2\" >impact</th>        <th class=\"col_heading level0 col3\" >confidence</th>        <th class=\"col_heading level0 col4\" >efforts</th>        <th class=\"col_heading level0 col5\" >ICE</th>        <th class=\"col_heading level0 col6\" >RICE</th>    </tr></thead><tbody>\n",
       "                <tr>\n",
       "                        <th id=\"T_caf02_level0_row0\" class=\"row_heading level0 row0\" >7</th>\n",
       "                        <td id=\"T_caf02_row0_col0\" class=\"data row0 col0\" >Добавить форму подписки на все основные страницы, чтобы собрать базу клиентов для email-рассылок</td>\n",
       "                        <td id=\"T_caf02_row0_col1\" class=\"data row0 col1\" >10</td>\n",
       "                        <td id=\"T_caf02_row0_col2\" class=\"data row0 col2\" >7</td>\n",
       "                        <td id=\"T_caf02_row0_col3\" class=\"data row0 col3\" >8</td>\n",
       "                        <td id=\"T_caf02_row0_col4\" class=\"data row0 col4\" >5</td>\n",
       "                        <td id=\"T_caf02_row0_col5\" class=\"data row0 col5\" >11.200000</td>\n",
       "                        <td id=\"T_caf02_row0_col6\" class=\"data row0 col6\" >112.000000</td>\n",
       "            </tr>\n",
       "            <tr>\n",
       "                        <th id=\"T_caf02_level0_row1\" class=\"row_heading level0 row1\" >2</th>\n",
       "                        <td id=\"T_caf02_row1_col0\" class=\"data row1 col0\" >Добавить блоки рекомендаций товаров на сайт интернет магазина, чтобы повысить конверсию и средний чек заказа</td>\n",
       "                        <td id=\"T_caf02_row1_col1\" class=\"data row1 col1\" >8</td>\n",
       "                        <td id=\"T_caf02_row1_col2\" class=\"data row1 col2\" >3</td>\n",
       "                        <td id=\"T_caf02_row1_col3\" class=\"data row1 col3\" >7</td>\n",
       "                        <td id=\"T_caf02_row1_col4\" class=\"data row1 col4\" >3</td>\n",
       "                        <td id=\"T_caf02_row1_col5\" class=\"data row1 col5\" >7.000000</td>\n",
       "                        <td id=\"T_caf02_row1_col6\" class=\"data row1 col6\" >56.000000</td>\n",
       "            </tr>\n",
       "            <tr>\n",
       "                        <th id=\"T_caf02_level0_row2\" class=\"row_heading level0 row2\" >0</th>\n",
       "                        <td id=\"T_caf02_row2_col0\" class=\"data row2 col0\" >Добавить два новых канала привлечения трафика, что позволит привлекать на 30% больше пользователей</td>\n",
       "                        <td id=\"T_caf02_row2_col1\" class=\"data row2 col1\" >3</td>\n",
       "                        <td id=\"T_caf02_row2_col2\" class=\"data row2 col2\" >10</td>\n",
       "                        <td id=\"T_caf02_row2_col3\" class=\"data row2 col3\" >8</td>\n",
       "                        <td id=\"T_caf02_row2_col4\" class=\"data row2 col4\" >6</td>\n",
       "                        <td id=\"T_caf02_row2_col5\" class=\"data row2 col5\" >13.330000</td>\n",
       "                        <td id=\"T_caf02_row2_col6\" class=\"data row2 col6\" >40.000000</td>\n",
       "            </tr>\n",
       "            <tr>\n",
       "                        <th id=\"T_caf02_level0_row3\" class=\"row_heading level0 row3\" >6</th>\n",
       "                        <td id=\"T_caf02_row3_col0\" class=\"data row3 col0\" >Показать на главной странице баннеры с актуальными акциями и распродажами, чтобы увеличить конверсию</td>\n",
       "                        <td id=\"T_caf02_row3_col1\" class=\"data row3 col1\" >5</td>\n",
       "                        <td id=\"T_caf02_row3_col2\" class=\"data row3 col2\" >3</td>\n",
       "                        <td id=\"T_caf02_row3_col3\" class=\"data row3 col3\" >8</td>\n",
       "                        <td id=\"T_caf02_row3_col4\" class=\"data row3 col4\" >3</td>\n",
       "                        <td id=\"T_caf02_row3_col5\" class=\"data row3 col5\" >8.000000</td>\n",
       "                        <td id=\"T_caf02_row3_col6\" class=\"data row3 col6\" >40.000000</td>\n",
       "            </tr>\n",
       "            <tr>\n",
       "                        <th id=\"T_caf02_level0_row4\" class=\"row_heading level0 row4\" >8</th>\n",
       "                        <td id=\"T_caf02_row4_col0\" class=\"data row4 col0\" >Запустить акцию, дающую скидку на товар в день рождения</td>\n",
       "                        <td id=\"T_caf02_row4_col1\" class=\"data row4 col1\" >1</td>\n",
       "                        <td id=\"T_caf02_row4_col2\" class=\"data row4 col2\" >9</td>\n",
       "                        <td id=\"T_caf02_row4_col3\" class=\"data row4 col3\" >9</td>\n",
       "                        <td id=\"T_caf02_row4_col4\" class=\"data row4 col4\" >5</td>\n",
       "                        <td id=\"T_caf02_row4_col5\" class=\"data row4 col5\" >16.200000</td>\n",
       "                        <td id=\"T_caf02_row4_col6\" class=\"data row4 col6\" >16.200000</td>\n",
       "            </tr>\n",
       "            <tr>\n",
       "                        <th id=\"T_caf02_level0_row5\" class=\"row_heading level0 row5\" >3</th>\n",
       "                        <td id=\"T_caf02_row5_col0\" class=\"data row5 col0\" >Изменить структура категорий, что увеличит конверсию, т.к. пользователи быстрее найдут нужный товар</td>\n",
       "                        <td id=\"T_caf02_row5_col1\" class=\"data row5 col1\" >8</td>\n",
       "                        <td id=\"T_caf02_row5_col2\" class=\"data row5 col2\" >3</td>\n",
       "                        <td id=\"T_caf02_row5_col3\" class=\"data row5 col3\" >3</td>\n",
       "                        <td id=\"T_caf02_row5_col4\" class=\"data row5 col4\" >8</td>\n",
       "                        <td id=\"T_caf02_row5_col5\" class=\"data row5 col5\" >1.120000</td>\n",
       "                        <td id=\"T_caf02_row5_col6\" class=\"data row5 col6\" >9.000000</td>\n",
       "            </tr>\n",
       "            <tr>\n",
       "                        <th id=\"T_caf02_level0_row6\" class=\"row_heading level0 row6\" >1</th>\n",
       "                        <td id=\"T_caf02_row6_col0\" class=\"data row6 col0\" >Запустить собственную службу доставки, что сократит срок доставки заказов</td>\n",
       "                        <td id=\"T_caf02_row6_col1\" class=\"data row6 col1\" >2</td>\n",
       "                        <td id=\"T_caf02_row6_col2\" class=\"data row6 col2\" >5</td>\n",
       "                        <td id=\"T_caf02_row6_col3\" class=\"data row6 col3\" >4</td>\n",
       "                        <td id=\"T_caf02_row6_col4\" class=\"data row6 col4\" >10</td>\n",
       "                        <td id=\"T_caf02_row6_col5\" class=\"data row6 col5\" >2.000000</td>\n",
       "                        <td id=\"T_caf02_row6_col6\" class=\"data row6 col6\" >4.000000</td>\n",
       "            </tr>\n",
       "            <tr>\n",
       "                        <th id=\"T_caf02_level0_row7\" class=\"row_heading level0 row7\" >5</th>\n",
       "                        <td id=\"T_caf02_row7_col0\" class=\"data row7 col0\" >Добавить страницу отзывов клиентов о магазине, что позволит увеличить количество заказов</td>\n",
       "                        <td id=\"T_caf02_row7_col1\" class=\"data row7 col1\" >3</td>\n",
       "                        <td id=\"T_caf02_row7_col2\" class=\"data row7 col2\" >2</td>\n",
       "                        <td id=\"T_caf02_row7_col3\" class=\"data row7 col3\" >2</td>\n",
       "                        <td id=\"T_caf02_row7_col4\" class=\"data row7 col4\" >3</td>\n",
       "                        <td id=\"T_caf02_row7_col5\" class=\"data row7 col5\" >1.330000</td>\n",
       "                        <td id=\"T_caf02_row7_col6\" class=\"data row7 col6\" >4.000000</td>\n",
       "            </tr>\n",
       "            <tr>\n",
       "                        <th id=\"T_caf02_level0_row8\" class=\"row_heading level0 row8\" >4</th>\n",
       "                        <td id=\"T_caf02_row8_col0\" class=\"data row8 col0\" >Изменить цвет фона главной страницы, чтобы увеличить вовлеченность пользователей</td>\n",
       "                        <td id=\"T_caf02_row8_col1\" class=\"data row8 col1\" >3</td>\n",
       "                        <td id=\"T_caf02_row8_col2\" class=\"data row8 col2\" >1</td>\n",
       "                        <td id=\"T_caf02_row8_col3\" class=\"data row8 col3\" >1</td>\n",
       "                        <td id=\"T_caf02_row8_col4\" class=\"data row8 col4\" >1</td>\n",
       "                        <td id=\"T_caf02_row8_col5\" class=\"data row8 col5\" >1.000000</td>\n",
       "                        <td id=\"T_caf02_row8_col6\" class=\"data row8 col6\" >3.000000</td>\n",
       "            </tr>\n",
       "    </tbody></table>"
      ],
      "text/plain": [
       "<pandas.io.formats.style.Styler at 0x7f0e36297be0>"
      ]
     },
     "execution_count": 10,
     "metadata": {},
     "output_type": "execute_result"
    }
   ],
   "source": [
    "hypothesis['RICE'] = (\n",
    "    hypothesis['reach'] * hypothesis['impact'] * hypothesis['confidence'] / hypothesis['efforts']\n",
    ").round(2)\n",
    "\n",
    "pd.options.display.max_colwidth = 130\n",
    "hypothesis.sort_values(by='RICE', ascending=False)\\\n",
    "    .style.set_properties(**{'text-align': 'left'})\\\n",
    "    .set_table_styles([dict(selector='th', props=[('text-align', 'left')])])"
   ]
  },
  {
   "cell_type": "markdown",
   "metadata": {},
   "source": [
    "По методу RICE лучшими гипотезами стали:\n",
    "\n",
    "№  | Гипотеза | RICE\n",
    ":- | :------- | :--\n",
    "7  | Добавить форму подписки на все основные страницы, чтобы собрать базу клиентов для email-рассылок |  112\n",
    "2  | Добавить блоки рекомендаций товаров на сайт интернет магазина, чтобы повысить конверсию и средний чек заказа |  56\n",
    "0  | Добавить два новых канала привлечения трафика, что позволит привлекать на 30% больше пользователей | 40\n",
    "6  | Показать на главной странице баннеры с актуальными акциями и распродажами, чтобы увеличить конверсию |  40\n",
    "\n",
    "Показатель RICE для остальных гипотез равен 3-16,2."
   ]
  },
  {
   "cell_type": "markdown",
   "metadata": {},
   "source": [
    "### Сравнение приоритизации гипотез при применении RICE и ICE"
   ]
  },
  {
   "cell_type": "markdown",
   "metadata": {},
   "source": [
    "RICE = ICE ∙ Reach\n",
    "\n",
    "Метод RICE отличается от метода ICE тем, что учитывает компоненту Reach — количество пользователей, которых затронет изменение, которое мы хотим внести. Таким образом, после примерения фреймфорка RICE выше поднялись гипотезы, у которых бОльшее число пользователей будет затронуто (такие как гипотезы 7 и 2). В то же время гипотеза 8 опустилась с первого места на пятое, так как показатель Reach у неё равен 1, что очень мало."
   ]
  },
  {
   "cell_type": "markdown",
   "metadata": {},
   "source": [
    "### Выводы"
   ]
  },
  {
   "cell_type": "markdown",
   "metadata": {},
   "source": [
    "1. По методу ICE лучшими гипотезами стали:\n",
    "№\tГипотеза\tICE\n",
    "8\tЗапустить акцию, дающую скидку на товар в день рождения\t16.20\n",
    "0\tДобавить два новых канала привлечения трафика, что позволит привлекать на 30% больше пользователей\t13.33\n",
    "7\tДобавить форму подписки на все основные страницы, чтобы собрать базу клиентов для email-рассылок\t11.20\n",
    "Показатель ICE для остальных гипотез равен 1-8.\n",
    "2. По методу RICE лучшими гипотезами стали:\n",
    "№\tГипотеза\tRICE\n",
    "7\tДобавить форму подписки на все основные страницы, чтобы собрать базу клиентов для email-рассылок\t112\n",
    "2\tДобавить блоки рекомендаций товаров на сайт интернет магазина, чтобы повысить конверсию и средний чек заказа\t56\n",
    "0\tДобавить два новых канала привлечения трафика, что позволит привлекать на 30% больше пользователей\t40\n",
    "6\tПоказать на главной странице баннеры с актуальными акциями и распродажами, чтобы увеличить конверсию\t40\n",
    "Показатель RICE для остальных гипотез равен 3-16,2.\n",
    "3. Приоритизация гипотез при применении RICE вместо ICE подняла выше гипотезы с высоким показателем Reach (количество пользователей, которых затронет изменение, которое мы хотим внести) и опустила гипотезы с низким показателем Reach."
   ]
  },
  {
   "cell_type": "markdown",
   "metadata": {},
   "source": [
    "## Анализ A/B-теста"
   ]
  },
  {
   "cell_type": "markdown",
   "metadata": {},
   "source": [
    "#### Сбор кумулятивных данных"
   ]
  },
  {
   "cell_type": "code",
   "execution_count": 11,
   "metadata": {},
   "outputs": [
    {
     "name": "stdout",
     "output_type": "stream",
     "text": [
      "        date group  orders  buyers  revenue  visitors\n",
      "0 2019-08-01     A      23      19   142779       719\n",
      "1 2019-08-01     B      17      17    59758       713\n",
      "2 2019-08-02     A      42      36   234381      1338\n",
      "3 2019-08-02     B      40      39   221801      1294\n",
      "4 2019-08-03     A      66      60   346854      1845\n"
     ]
    }
   ],
   "source": [
    "# создаем массив уникальных пар значений дат и групп теста\n",
    "datesGroups = orders[['date','group']].drop_duplicates()\n",
    "\n",
    "# получаем агрегированные кумулятивные по дням данные о заказах \n",
    "ordersAggregated = datesGroups.apply(lambda x: orders[np.logical_and(orders['date'] <= x['date'], orders['group'] == x['group'])].agg({'date' : 'max', 'group' : 'max', 'transaction_id' : 'nunique', 'visitor_id' : 'nunique', 'revenue' : 'sum'}), axis=1).sort_values(by=['date','group'])\n",
    "\n",
    "# получаем агрегированные кумулятивные по дням данные о посетителях интернет-магазина \n",
    "visitorsAggregated = datesGroups.apply(lambda x: visitors[np.logical_and(visitors['date'] <= x['date'], visitors['group'] == x['group'])].agg({'date' : 'max', 'group' : 'max', 'visitors' : 'sum'}), axis=1).sort_values(by=['date','group'])\n",
    "\n",
    "# объединяем кумулятивные данные в одной таблице и присваиваем ее столбцам понятные названия\n",
    "cumulativeData = ordersAggregated.merge(visitorsAggregated, left_on=['date', 'group'], right_on=['date', 'group'])\n",
    "cumulativeData.columns = ['date', 'group', 'orders', 'buyers', 'revenue', 'visitors']\n",
    "\n",
    "print(cumulativeData.head(5))  "
   ]
  },
  {
   "cell_type": "code",
   "execution_count": 12,
   "metadata": {},
   "outputs": [
    {
     "name": "stdout",
     "output_type": "stream",
     "text": [
      "Дата начала теста по cumulativeData: 2019-08-01\n",
      "Дата окончания теста по cumulativeData: 2019-08-31\n"
     ]
    }
   ],
   "source": [
    "# проверим, корректно ли создан датафрейм cummulativeData, сравним даты начала и окончания теста с исходными данными\n",
    "\n",
    "print('Дата начала теста по cumulativeData:', str(cumulativeData['date'].min().date()))\n",
    "print('Дата окончания теста по cumulativeData:', str(cumulativeData['date'].max().date()))"
   ]
  },
  {
   "cell_type": "markdown",
   "metadata": {},
   "source": [
    "Даты начала и окончания теста действительно совпадают с датами из исзодных датафреймов (1-31 августа 2019 года). Следовательно, датафрейм cumulativeData создан корректно."
   ]
  },
  {
   "cell_type": "markdown",
   "metadata": {},
   "source": [
    "### Кумулятивная выручка по группам"
   ]
  },
  {
   "cell_type": "code",
   "execution_count": 13,
   "metadata": {},
   "outputs": [],
   "source": [
    "# функция для задания настроек последующим графикам\n",
    "\n",
    "def plot_settings(title, ylabel, legend=False):\n",
    "    plt.figure(figsize=(9,6))\n",
    "    plt.title(title)\n",
    "    plt.ylabel(ylabel)\n",
    "    plt.xlabel('Дата')\n",
    "    plt.xticks(rotation=30)\n",
    "    plt.grid(True)"
   ]
  },
  {
   "cell_type": "code",
   "execution_count": 14,
   "metadata": {},
   "outputs": [
    {
     "data": {
      "image/png": "[encoded data removed]",
      "text/plain": [
       "<Figure size 648x432 with 1 Axes>"
      ]
     },
     "metadata": {
      "needs_background": "light"
     },
     "output_type": "display_data"
    }
   ],
   "source": [
    "# датафрейм с кумулятивным количеством заказов и кумулятивной выручкой по дням в группе А\n",
    "cumulativeRevenueA = cumulativeData[cumulativeData['group']=='A'][['date','revenue', 'orders']]\n",
    "\n",
    "# датафрейм с кумулятивным количеством заказов и кумулятивной выручкой по дням в группе B\n",
    "cumulativeRevenueB = cumulativeData[cumulativeData['group']=='B'][['date','revenue', 'orders']]\n",
    "\n",
    "plot_settings('Кумулятивная выручка по группам', 'Выручка')\n",
    "\n",
    "# Строим график выручки группы А\n",
    "plt.plot(cumulativeRevenueA['date'], cumulativeRevenueA['revenue'], label='A')\n",
    "\n",
    "# Строим график выручки группы B\n",
    "plt.plot(cumulativeRevenueB['date'], cumulativeRevenueB['revenue'], label='B')\n",
    "plt.legend();"
   ]
  },
  {
   "cell_type": "markdown",
   "metadata": {},
   "source": [
    "На графике видно, что кумулятивная выручка по группе B стала приблизительно на 1,6-1,7 млн руб. выше, чем по группе A, начиная с 18-19 августа 2019 года и стабильно держит преимущество. До указанной даты различий между группами нет.\n",
    "\n",
    "Есть вероятность, что такой резкий скачок получился из-за единичного дорогого заказа. Проверим эту теорию."
   ]
  },
  {
   "cell_type": "code",
   "execution_count": 15,
   "metadata": {},
   "outputs": [
    {
     "data": {
      "text/html": [
       "<div>\n",
       "<style scoped>\n",
       "    .dataframe tbody tr th:only-of-type {\n",
       "        vertical-align: middle;\n",
       "    }\n",
       "\n",
       "    .dataframe tbody tr th {\n",
       "        vertical-align: top;\n",
       "    }\n",
       "\n",
       "    .dataframe thead th {\n",
       "        text-align: right;\n",
       "    }\n",
       "</style>\n",
       "<table border=\"1\" class=\"dataframe\">\n",
       "  <thead>\n",
       "    <tr style=\"text-align: right;\">\n",
       "      <th></th>\n",
       "      <th>transaction_id</th>\n",
       "      <th>visitor_id</th>\n",
       "      <th>date</th>\n",
       "      <th>revenue</th>\n",
       "      <th>group</th>\n",
       "    </tr>\n",
       "  </thead>\n",
       "  <tbody>\n",
       "    <tr>\n",
       "      <th>425</th>\n",
       "      <td>590470918</td>\n",
       "      <td>1920142716</td>\n",
       "      <td>2019-08-19</td>\n",
       "      <td>1294500</td>\n",
       "      <td>B</td>\n",
       "    </tr>\n",
       "    <tr>\n",
       "      <th>1196</th>\n",
       "      <td>3936777065</td>\n",
       "      <td>2108080724</td>\n",
       "      <td>2019-08-15</td>\n",
       "      <td>202740</td>\n",
       "      <td>B</td>\n",
       "    </tr>\n",
       "  </tbody>\n",
       "</table>\n",
       "</div>"
      ],
      "text/plain": [
       "      transaction_id  visitor_id       date  revenue group\n",
       "425        590470918  1920142716 2019-08-19  1294500     B\n",
       "1196      3936777065  2108080724 2019-08-15   202740     B"
      ]
     },
     "execution_count": 15,
     "metadata": {},
     "output_type": "execute_result"
    }
   ],
   "source": [
    "orders[orders['revenue'] > 100000]"
   ]
  },
  {
   "cell_type": "markdown",
   "metadata": {},
   "source": [
    "Действительно, 19 августа была продажа на сумму 1 294 500 руб. в группе B. Если исключить эту продажу, кумулятивная выручка в группе B будет незначительно превышать выручку в группе A - приблизительно на 300-400 тыс. руб."
   ]
  },
  {
   "cell_type": "markdown",
   "metadata": {},
   "source": [
    "### Кумулятивный средний чек по группам"
   ]
  },
  {
   "cell_type": "code",
   "execution_count": 16,
   "metadata": {},
   "outputs": [
    {
     "data": {
      "image/png": "[encoded data removed]",
      "text/plain": [
       "<Figure size 648x432 with 1 Axes>"
      ]
     },
     "metadata": {
      "needs_background": "light"
     },
     "output_type": "display_data"
    }
   ],
   "source": [
    "plot_settings('Кумулятивный средний чек по группам', 'руб.')\n",
    "plt.plot(cumulativeRevenueA['date'], cumulativeRevenueA['revenue']/cumulativeRevenueA['orders'], label='A')\n",
    "plt.plot(cumulativeRevenueB['date'], cumulativeRevenueB['revenue']/cumulativeRevenueB['orders'], label='B')\n",
    "plt.legend();"
   ]
  },
  {
   "cell_type": "markdown",
   "metadata": {},
   "source": [
    "По графику заметно преимущество значений кумулятивного среднего чека в группе B по сравнению с группой A, начиная с 18-19 августа 2019 года. Видно небольшое линейное снижение среднего чека группы B c 10,5 тыс. руб. 19 августа до 9,25 тыс. руб. на начало сентября. В период 19 августа - 1 сентября 2019 года средний чек группы B на 2-3 тыс. руб. больше среднего чека группы A."
   ]
  },
  {
   "cell_type": "markdown",
   "metadata": {},
   "source": [
    "### Относительное изменение кумулятивного среднего чека группы B к группе A"
   ]
  },
  {
   "cell_type": "code",
   "execution_count": 17,
   "metadata": {},
   "outputs": [
    {
     "data": {
      "image/png": "[encoded data removed]",
      "text/plain": [
       "<Figure size 648x432 with 1 Axes>"
      ]
     },
     "metadata": {
      "needs_background": "light"
     },
     "output_type": "display_data"
    }
   ],
   "source": [
    "# собираем данные в одном датафрейме\n",
    "mergedCumulativeRevenue = cumulativeRevenueA.merge(cumulativeRevenueB, left_on='date', right_on='date', how='left', suffixes=['A', 'B'])\n",
    "\n",
    "plot_settings('Относительное изменение кумулятивного среднего чека группы B к группе A', 'Относительный прирост')\n",
    "\n",
    "# cтроим отношение средних чеков\n",
    "plt.plot(mergedCumulativeRevenue['date'], (mergedCumulativeRevenue['revenueB']/mergedCumulativeRevenue['ordersB'])/(mergedCumulativeRevenue['revenueA']/mergedCumulativeRevenue['ordersA'])-1)\n",
    "\n",
    "# добавляем ось X\n",
    "plt.axhline(y=0, color='black', linestyle='--');"
   ]
  },
  {
   "cell_type": "markdown",
   "metadata": {},
   "source": [
    "По графику относительного изменения кумулятивного среднего чека группы B к группе A видно два пика:\n",
    "1. Резкий подъем относительного прироста показателей группы B к 7 августа 2019 года до почти 40% преимущества над группой A и далее такой же резкий спад к 13 августа до -15%.\n",
    "2. Второй резкий подъем к 19 августа до 50% преимущества группы B над группой A и  последующее медленное линейное снижение к ё сентября до 30%."
   ]
  },
  {
   "cell_type": "markdown",
   "metadata": {},
   "source": [
    "### Кумулятивное среднее количество заказов на посетителя по группам"
   ]
  },
  {
   "cell_type": "code",
   "execution_count": 18,
   "metadata": {},
   "outputs": [
    {
     "data": {
      "image/png": "[encoded data removed]",
      "text/plain": [
       "<Figure size 648x432 with 1 Axes>"
      ]
     },
     "metadata": {
      "needs_background": "light"
     },
     "output_type": "display_data"
    }
   ],
   "source": [
    "# считаем среднее количество заказов на посетителя\n",
    "cumulativeData['conversion'] = cumulativeData['orders']/cumulativeData['visitors']\n",
    "\n",
    "# отделяем данные по группе A\n",
    "cumulativeDataA = cumulativeData[cumulativeData['group']=='A']\n",
    "\n",
    "# отделяем данные по группе B\n",
    "cumulativeDataB = cumulativeData[cumulativeData['group']=='B']\n",
    "\n",
    "plot_settings('Кумулятивное среднее количество заказов на посетителя по группам', 'Количество заказов на посетителя')\n",
    "\n",
    "# строим графики\n",
    "plt.plot(cumulativeDataA['date'], cumulativeDataA['conversion'], label='A')\n",
    "plt.plot(cumulativeDataB['date'], cumulativeDataB['conversion'], label='B')\n",
    "\n",
    "plt.legend();"
   ]
  },
  {
   "cell_type": "markdown",
   "metadata": {},
   "source": [
    "По графику кумулятивного среднего количества заказов на посетителя заметно устойчивое преимущество группы B над группой A  ,029 к 1 сентября 2019 года у группы B и 0,025 - у группы A). Преимущество стабильно сохраняется, начиная с 9 августа 2019 года."
   ]
  },
  {
   "cell_type": "markdown",
   "metadata": {},
   "source": [
    "### Относительное изменение кумулятивного среднего количества заказов на посетителя группы B к группе A"
   ]
  },
  {
   "cell_type": "code",
   "execution_count": 19,
   "metadata": {},
   "outputs": [
    {
     "data": {
      "image/png": "[encoded data removed]",
      "text/plain": [
       "<Figure size 648x432 with 1 Axes>"
      ]
     },
     "metadata": {
      "needs_background": "light"
     },
     "output_type": "display_data"
    }
   ],
   "source": [
    "mergedCumulativeConversions = cumulativeDataA[['date','conversion']].merge(cumulativeDataB[['date','conversion']], left_on='date', right_on='date', how='left', suffixes=['A', 'B'])\n",
    "\n",
    "plot_settings('Относительное изменение кумулятивного среднего количества заказов\\n на посетителя группы B к группе A', 'Относительный прирост')\n",
    "\n",
    "plt.plot(mergedCumulativeConversions['date'], mergedCumulativeConversions['conversionB']/mergedCumulativeConversions['conversionA']-1)\n",
    "\n",
    "plt.axhline(y=0, color='black', linestyle='--');"
   ]
  },
  {
   "cell_type": "markdown",
   "metadata": {},
   "source": [
    "По графику относительного изменения кумулятивного среднего количества заказов на посетителя видны различия  в пользу группы B на\n",
    "15-20%, начиная с 9 августа 2019 года."
   ]
  },
  {
   "cell_type": "markdown",
   "metadata": {},
   "source": [
    "### Точечный график количества заказов по пользователям"
   ]
  },
  {
   "cell_type": "code",
   "execution_count": 20,
   "metadata": {},
   "outputs": [
    {
     "data": {
      "text/html": [
       "<div>\n",
       "<style scoped>\n",
       "    .dataframe tbody tr th:only-of-type {\n",
       "        vertical-align: middle;\n",
       "    }\n",
       "\n",
       "    .dataframe tbody tr th {\n",
       "        vertical-align: top;\n",
       "    }\n",
       "\n",
       "    .dataframe thead th {\n",
       "        text-align: right;\n",
       "    }\n",
       "</style>\n",
       "<table border=\"1\" class=\"dataframe\">\n",
       "  <thead>\n",
       "    <tr style=\"text-align: right;\">\n",
       "      <th></th>\n",
       "      <th>visitor_id</th>\n",
       "      <th>orders</th>\n",
       "    </tr>\n",
       "  </thead>\n",
       "  <tbody>\n",
       "    <tr>\n",
       "      <th>908</th>\n",
       "      <td>3967698036</td>\n",
       "      <td>3</td>\n",
       "    </tr>\n",
       "    <tr>\n",
       "      <th>55</th>\n",
       "      <td>249864742</td>\n",
       "      <td>3</td>\n",
       "    </tr>\n",
       "    <tr>\n",
       "      <th>478</th>\n",
       "      <td>2108163459</td>\n",
       "      <td>3</td>\n",
       "    </tr>\n",
       "    <tr>\n",
       "      <th>687</th>\n",
       "      <td>2988190573</td>\n",
       "      <td>3</td>\n",
       "    </tr>\n",
       "    <tr>\n",
       "      <th>890</th>\n",
       "      <td>3908431265</td>\n",
       "      <td>3</td>\n",
       "    </tr>\n",
       "    <tr>\n",
       "      <th>138</th>\n",
       "      <td>611059232</td>\n",
       "      <td>3</td>\n",
       "    </tr>\n",
       "    <tr>\n",
       "      <th>632</th>\n",
       "      <td>2742574263</td>\n",
       "      <td>3</td>\n",
       "    </tr>\n",
       "    <tr>\n",
       "      <th>157</th>\n",
       "      <td>678354126</td>\n",
       "      <td>2</td>\n",
       "    </tr>\n",
       "    <tr>\n",
       "      <th>323</th>\n",
       "      <td>1404560065</td>\n",
       "      <td>2</td>\n",
       "    </tr>\n",
       "    <tr>\n",
       "      <th>452</th>\n",
       "      <td>1985475298</td>\n",
       "      <td>2</td>\n",
       "    </tr>\n",
       "  </tbody>\n",
       "</table>\n",
       "</div>"
      ],
      "text/plain": [
       "     visitor_id  orders\n",
       "908  3967698036       3\n",
       "55    249864742       3\n",
       "478  2108163459       3\n",
       "687  2988190573       3\n",
       "890  3908431265       3\n",
       "138   611059232       3\n",
       "632  2742574263       3\n",
       "157   678354126       2\n",
       "323  1404560065       2\n",
       "452  1985475298       2"
      ]
     },
     "execution_count": 20,
     "metadata": {},
     "output_type": "execute_result"
    }
   ],
   "source": [
    "# подготовим данные для визуализации\n",
    "\n",
    "ordersByUsers = (\n",
    "    orders.groupby('visitor_id', as_index=False)\n",
    "    .agg({'transaction_id': 'nunique'})\n",
    ")\n",
    "\n",
    "ordersByUsers.columns = ['visitor_id', 'orders']\n",
    "\n",
    "ordersByUsers.sort_values(by='orders', ascending=False).head(10)"
   ]
  },
  {
   "cell_type": "code",
   "execution_count": 21,
   "metadata": {},
   "outputs": [
    {
     "data": {
      "image/png": "[encoded data removed]",
      "text/plain": [
       "<Figure size 576x360 with 1 Axes>"
      ]
     },
     "metadata": {
      "needs_background": "light"
     },
     "output_type": "display_data"
    }
   ],
   "source": [
    "x_values = pd.Series(range(0,len(ordersByUsers)))\n",
    "\n",
    "plt.figure(figsize=(8, 5))\n",
    "plt.scatter(x_values, ordersByUsers['orders']) \n",
    "plt.title('Количество заказов по пользователям')\n",
    "plt.xlabel('Количество пользователей')\n",
    "plt.ylabel('Количество заказов пользователя')\n",
    "plt.grid(True);"
   ]
  },
  {
   "cell_type": "markdown",
   "metadata": {},
   "source": [
    "Из точечного графика видно, что подавляющее большинство пользователей сделало всего 1 заказ, несколько пользователей сделало 2  заказа и всего 7 пользователей - 3 заказа. Более 3 заказов не сделал никто."
   ]
  },
  {
   "cell_type": "markdown",
   "metadata": {},
   "source": [
    "### 95-й и 99-й перцентили количества заказов на пользователя"
   ]
  },
  {
   "cell_type": "code",
   "execution_count": 22,
   "metadata": {},
   "outputs": [
    {
     "data": {
      "text/plain": [
       "array([1., 2.])"
      ]
     },
     "execution_count": 22,
     "metadata": {},
     "output_type": "execute_result"
    }
   ],
   "source": [
    "np.percentile(ordersByUsers['orders'], [95, 99])"
   ]
  },
  {
   "cell_type": "markdown",
   "metadata": {},
   "source": [
    "Не более 5% пользователей оформляли более 1 заказа. И 1% пользователей заказывали более 2 раз.\n",
    "\n",
    "Выберем 2 заказа (99-й перцентиль) на одного пользователя за верхнюю границу числа заказов. Пользователи с числом заказов более 2 будут считаться аномальными."
   ]
  },
  {
   "cell_type": "markdown",
   "metadata": {},
   "source": [
    "### Точечный график стоимостей заказов"
   ]
  },
  {
   "cell_type": "code",
   "execution_count": 23,
   "metadata": {},
   "outputs": [
    {
     "data": {
      "image/png": "[encoded data removed]",
      "text/plain": [
       "<Figure size 576x360 with 1 Axes>"
      ]
     },
     "metadata": {
      "needs_background": "light"
     },
     "output_type": "display_data"
    }
   ],
   "source": [
    "x_values = pd.Series(range(0,len(orders['revenue'])))\n",
    "\n",
    "plt.figure(figsize=(8, 5))\n",
    "plt.scatter(x_values, orders['revenue'])\n",
    "plt.title('Стоимость заказов по пользователям')\n",
    "plt.xlabel('Пользователи')\n",
    "plt.ylabel('Стоимость заказов пользователя')\n",
    "plt.grid(True)"
   ]
  },
  {
   "cell_type": "markdown",
   "metadata": {},
   "source": [
    "На данном графике можно увидеть всего 2 выброса, один из которых очень сильно отличается от основной массы данных (в 13 раз больше самых больших значений). График получился неинформативным. Обрежем график по оси y и выведем ещё раз."
   ]
  },
  {
   "cell_type": "code",
   "execution_count": 24,
   "metadata": {},
   "outputs": [
    {
     "data": {
      "image/png": "[encoded data removed]",
      "text/plain": [
       "<Figure size 576x360 with 1 Axes>"
      ]
     },
     "metadata": {
      "needs_background": "light"
     },
     "output_type": "display_data"
    }
   ],
   "source": [
    "plt.figure(figsize=(8, 5))\n",
    "plt.scatter(x_values, orders['revenue'])\n",
    "plt.title('Стоимость заказов по пользователям')\n",
    "plt.xlabel('Пользователи')\n",
    "plt.grid(True)\n",
    "plt.ylim([0, 100000]);"
   ]
  },
  {
   "cell_type": "markdown",
   "metadata": {},
   "source": [
    "Помимо двух выбросов, найденных на предыдущем графике (1.3 и 0.2 млн руб), можно увидеть всего 5 заказов от 60 тыс. руб., небольшое кол-во заказов от 40 до 60 тыс. руб., бОльшее кол-во заказов (но всё равно заметно меньше, чем большинство) от 20 до 40 тыс. руб. и  очень много заказов от 0 до 20 тыс. руб."
   ]
  },
  {
   "cell_type": "markdown",
   "metadata": {},
   "source": [
    "### 95-й и 99-й перцентили стоимости заказов"
   ]
  },
  {
   "cell_type": "code",
   "execution_count": 25,
   "metadata": {},
   "outputs": [
    {
     "data": {
      "text/plain": [
       "array([26785., 53904.])"
      ]
     },
     "execution_count": 25,
     "metadata": {},
     "output_type": "execute_result"
    }
   ],
   "source": [
    "np.percentile(orders['revenue'], [95, 99])"
   ]
  },
  {
   "cell_type": "markdown",
   "metadata": {},
   "source": [
    "Не более 5% заказов дороже 26 785 руб. и не более 1% дороже 53 904 руб.\n",
    "\n",
    "Будем считать пользователей,  совершивших заказ более чем на 53 904 руб. (99-й перцентиль), аномальными."
   ]
  },
  {
   "cell_type": "markdown",
   "metadata": {},
   "source": [
    "### Статистическая значимость различий в среднем количестве заказов на посетителя между группами по «сырым» данным"
   ]
  },
  {
   "cell_type": "markdown",
   "metadata": {},
   "source": [
    "Посчитаем статистическую значимость различий в среднем числе заказов на пользователя между группами по «сырым» данным — без удаления аномальных пользователей.\n",
    "\n",
    "Сформулируем гипотезы. \n",
    "\n",
    "Нулевая: различий в среднем количестве заказов между группами нет. \n",
    "\n",
    "Альтернативная: различия в среднем между группами есть."
   ]
  },
  {
   "cell_type": "code",
   "execution_count": 26,
   "metadata": {},
   "outputs": [
    {
     "name": "stdout",
     "output_type": "stream",
     "text": [
      "        date  ordersPerDateA  revenuePerDateA  ordersPerDateB  \\\n",
      "0 2019-08-01              23           142779              17   \n",
      "1 2019-08-02              19            91602              23   \n",
      "2 2019-08-03              24           112473              14   \n",
      "3 2019-08-04              11            41176              14   \n",
      "4 2019-08-05              22            86383              21   \n",
      "\n",
      "   revenuePerDateB  ordersCummulativeA  revenueCummulativeA  \\\n",
      "0            59758                  23               142779   \n",
      "1           162043                  42               234381   \n",
      "2            67049                  66               346854   \n",
      "3            96890                  77               388030   \n",
      "4            89908                  99               474413   \n",
      "\n",
      "   ordersCummulativeB  revenueCummulativeB  visitorsPerDateA  \\\n",
      "0                  17                59758               719   \n",
      "1                  40               221801               619   \n",
      "2                  54               288850               507   \n",
      "3                  68               385740               717   \n",
      "4                  89               475648               756   \n",
      "\n",
      "   visitorsPerDateB  visitorsCummulativeA  visitorsCummulativeB  \n",
      "0               713                   719                   713  \n",
      "1               581                  1338                  1294  \n",
      "2               509                  1845                  1803  \n",
      "3               770                  2562                  2573  \n",
      "4               707                  3318                  3280  \n"
     ]
    }
   ],
   "source": [
    "#подготовим данные\n",
    "\n",
    "visitorsADaily = visitors[visitors['group'] == 'A'][['date', 'visitors']]\n",
    "visitorsADaily.columns = ['date', 'visitorsPerDateA']\n",
    "\n",
    "visitorsACummulative = visitorsADaily.apply(\n",
    "    lambda x: visitorsADaily[visitorsADaily['date'] <= x['date']].agg(\n",
    "        {'date': 'max', 'visitorsPerDateA': 'sum'}\n",
    "    ),\n",
    "    axis=1,\n",
    ")\n",
    "visitorsACummulative.columns = ['date', 'visitorsCummulativeA']\n",
    "\n",
    "visitorsBDaily = visitors[visitors['group'] == 'B'][['date', 'visitors']]\n",
    "visitorsBDaily.columns = ['date', 'visitorsPerDateB']\n",
    "\n",
    "visitorsBCummulative = visitorsBDaily.apply(\n",
    "    lambda x: visitorsBDaily[visitorsBDaily['date'] <= x['date']].agg(\n",
    "        {'date': 'max', 'visitorsPerDateB': 'sum'}\n",
    "    ),\n",
    "    axis=1,\n",
    ")\n",
    "visitorsBCummulative.columns = ['date', 'visitorsCummulativeB']\n",
    "\n",
    "ordersADaily = (\n",
    "    orders[orders['group'] == 'A'][['date', 'transaction_id', 'visitor_id', 'revenue']]\n",
    "    .groupby('date', as_index=False)\n",
    "    .agg({'transaction_id': pd.Series.nunique, 'revenue': 'sum'})\n",
    ")\n",
    "ordersADaily.columns = ['date', 'ordersPerDateA', 'revenuePerDateA']\n",
    "\n",
    "ordersACummulative = ordersADaily.apply(\n",
    "    lambda x: ordersADaily[ordersADaily['date'] <= x['date']].agg(\n",
    "        {'date': 'max', 'ordersPerDateA': 'sum', 'revenuePerDateA': 'sum'}\n",
    "    ),\n",
    "    axis=1,\n",
    ").sort_values(by=['date'])\n",
    "ordersACummulative.columns = [\n",
    "    'date',\n",
    "    'ordersCummulativeA',\n",
    "    'revenueCummulativeA',\n",
    "]\n",
    "\n",
    "ordersBDaily = (\n",
    "    orders[orders['group'] == 'B'][['date', 'transaction_id', 'visitor_id', 'revenue']]\n",
    "    .groupby('date', as_index=False)\n",
    "    .agg({'transaction_id': pd.Series.nunique, 'revenue': 'sum'})\n",
    ")\n",
    "ordersBDaily.columns = ['date', 'ordersPerDateB', 'revenuePerDateB']\n",
    "\n",
    "ordersBCummulative = ordersBDaily.apply(\n",
    "    lambda x: ordersBDaily[ordersBDaily['date'] <= x['date']].agg(\n",
    "        {'date': 'max', 'ordersPerDateB': 'sum', 'revenuePerDateB': 'sum'}\n",
    "    ),\n",
    "    axis=1,\n",
    ").sort_values(by=['date'])\n",
    "ordersBCummulative.columns = [\n",
    "    'date',\n",
    "    'ordersCummulativeB',\n",
    "    'revenueCummulativeB',\n",
    "]\n",
    "\n",
    "data = (\n",
    "    ordersADaily.merge(\n",
    "        ordersBDaily, left_on='date', right_on='date', how='left'\n",
    "    )\n",
    "    .merge(ordersACummulative, left_on='date', right_on='date', how='left')\n",
    "    .merge(ordersBCummulative, left_on='date', right_on='date', how='left')\n",
    "    .merge(visitorsADaily, left_on='date', right_on='date', how='left')\n",
    "    .merge(visitorsBDaily, left_on='date', right_on='date', how='left')\n",
    "    .merge(visitorsACummulative, left_on='date', right_on='date', how='left')\n",
    "    .merge(visitorsBCummulative, left_on='date', right_on='date', how='left')\n",
    ")\n",
    "\n",
    "print(data.head(5)) "
   ]
  },
  {
   "cell_type": "code",
   "execution_count": 27,
   "metadata": {},
   "outputs": [
    {
     "name": "stdout",
     "output_type": "stream",
     "text": [
      "p-value: 0.011\n",
      "Различие в средних между группами B и A: 0.160\n"
     ]
    }
   ],
   "source": [
    "ordersByUsersA = (\n",
    "    orders[orders['group'] == 'A']\n",
    "    .groupby('visitor_id', as_index=False)\n",
    "    .agg({'transaction_id': pd.Series.nunique})\n",
    ")\n",
    "ordersByUsersA.columns = ['userId', 'orders']\n",
    "\n",
    "ordersByUsersB = (\n",
    "    orders[orders['group'] == 'B']\n",
    "    .groupby('visitor_id', as_index=False)\n",
    "    .agg({'transaction_id': pd.Series.nunique})\n",
    ")\n",
    "ordersByUsersB.columns = ['userId', 'orders']\n",
    "\n",
    "sampleA = pd.concat(\n",
    "    [\n",
    "        ordersByUsersA['orders'],\n",
    "        pd.Series(\n",
    "            0,\n",
    "            index=np.arange(\n",
    "                data['visitorsPerDateA'].sum() - len(ordersByUsersA['orders'])\n",
    "            ),\n",
    "            name='orders',\n",
    "        ),\n",
    "    ],\n",
    "    axis=0,\n",
    ")\n",
    "\n",
    "sampleB = pd.concat(\n",
    "    [\n",
    "        ordersByUsersB['orders'],\n",
    "        pd.Series(\n",
    "            0,\n",
    "            index=np.arange(\n",
    "                data['visitorsPerDateB'].sum() - len(ordersByUsersB['orders'])\n",
    "            ),\n",
    "            name='orders',\n",
    "        ),\n",
    "    ],\n",
    "    axis=0,\n",
    ")\n",
    "\n",
    "print('p-value: {0:.3f}'.format(stats.mannwhitneyu(sampleA, sampleB)[1]))\n",
    "\n",
    "print('Различие в средних между группами B и A: {0:.3f}'.format(sampleB.mean() / sampleA.mean() - 1))"
   ]
  },
  {
   "cell_type": "markdown",
   "metadata": {},
   "source": [
    "Вывод: по «сырым» данным различия в среднем количестве заказов на посетителя между группами есть.\n",
    "\n",
    "P-value (0.011) меньше 0.05. Значит, нулевую гипотезу о том, что статистически значимых различий в среднем числе заказов между группами нет, отвергаем. Относительный выигрыш группы B равен 16%."
   ]
  },
  {
   "cell_type": "markdown",
   "metadata": {},
   "source": [
    "### Статистическая значимость различий в среднем чеке заказа между группами по «сырым» данным"
   ]
  },
  {
   "cell_type": "markdown",
   "metadata": {},
   "source": [
    "Посчитаем статистическую значимость различий в среднем чеке между группами по «сырым» данным — без удаления аномальных пользователей.\n",
    "\n",
    "Сформулируем гипотезы. \n",
    "\n",
    "Нулевая: различий в среднем чеке между группами нет. \n",
    "\n",
    "Альтернативная: различия в среднем чеке между группами есть."
   ]
  },
  {
   "cell_type": "code",
   "execution_count": 28,
   "metadata": {},
   "outputs": [
    {
     "name": "stdout",
     "output_type": "stream",
     "text": [
      "p-value: 0.829\n",
      "Различие в средних между группами B и A: 0.287\n"
     ]
    }
   ],
   "source": [
    "print('p-value: {0:.3f}'.format(stats.mannwhitneyu(orders[orders['group']=='A']['revenue'], orders[orders['group']=='B']['revenue'])[1]))\n",
    "print('Различие в средних между группами B и A: {0:.3f}'.format(orders[orders['group']=='B']['revenue'].mean()/orders[orders['group']=='A']['revenue'].mean()-1)) "
   ]
  },
  {
   "cell_type": "markdown",
   "metadata": {},
   "source": [
    "P-value (0.829) значительно больше 0.05. Значит, причин отвергать нулевую гипотезу и считать, что в среднем чеке есть различия, нет. Однако, средний чек группы B выше среднего чека группы A на 28.7%, что довольно много. Вероятно, на такую большую разницу повлияли аномальные знамения. Проверим это утверждение чуть позже."
   ]
  },
  {
   "cell_type": "markdown",
   "metadata": {},
   "source": [
    "### Статистическая значимость различий в среднем количестве заказов на посетителя между группами по «очищенным» данным"
   ]
  },
  {
   "cell_type": "markdown",
   "metadata": {},
   "source": [
    "Мы приняли за аномальных пользователей, совершивших от 2 заказов (более 1), и/или сделавших заказ более чем на 40 тыс. руб. Сделав срез таким образом, мы уберём 5% пользователей с наибольшим числом заказов и от 1% до 5% пользователей с дорогими заказами."
   ]
  },
  {
   "cell_type": "code",
   "execution_count": 29,
   "metadata": {},
   "outputs": [
    {
     "name": "stdout",
     "output_type": "stream",
     "text": [
      "1099    148427295\n",
      "33      249864742\n",
      "58      611059232\n",
      "949     887908475\n",
      "744     888512513\n",
      "dtype: int64\n",
      "16\n"
     ]
    }
   ],
   "source": [
    "# найдем количество аномальных пользователей\n",
    "\n",
    "usersWithManyOrders = pd.concat(\n",
    "    [\n",
    "        ordersByUsersA[ordersByUsersA['orders'] > np.percentile(ordersByUsers['orders'], 99)]['userId'],\n",
    "        ordersByUsersB[ordersByUsersB['orders'] > np.percentile(ordersByUsers['orders'], 99)]['userId'],\n",
    "    ],\n",
    "    axis=0,\n",
    ")\n",
    "usersWithExpensiveOrders = orders[orders['revenue'] > np.percentile(orders['revenue'], 99)]['visitor_id']\n",
    "abnormalUsers = (\n",
    "    pd.concat([usersWithManyOrders, usersWithExpensiveOrders], axis=0)\n",
    "    .drop_duplicates()\n",
    "    .sort_values()\n",
    ")\n",
    "print(abnormalUsers.head(5))\n",
    "print(abnormalUsers.shape[0]) "
   ]
  },
  {
   "cell_type": "markdown",
   "metadata": {},
   "source": [
    "Всего 16 аномальных пользователей. "
   ]
  },
  {
   "cell_type": "code",
   "execution_count": 30,
   "metadata": {},
   "outputs": [
    {
     "name": "stdout",
     "output_type": "stream",
     "text": [
      "p-value: 0.007\n",
      "Различие в средних между группами B и A: 0.189\n"
     ]
    }
   ],
   "source": [
    "# посмотрим, как аномальные пользователя повлияли на статистическую значимость различий в среднем количестве заказов между группами\n",
    "\n",
    "sampleAFiltered = pd.concat(\n",
    "    [\n",
    "        ordersByUsersA[\n",
    "            np.logical_not(ordersByUsersA['userId'].isin(abnormalUsers))\n",
    "        ]['orders'],\n",
    "        pd.Series(\n",
    "            0,\n",
    "            index=np.arange(\n",
    "                data['visitorsPerDateA'].sum() - len(ordersByUsersA['orders'])\n",
    "            ),\n",
    "            name='orders',\n",
    "        ),\n",
    "    ],\n",
    "    axis=0,\n",
    ")\n",
    "\n",
    "sampleBFiltered = pd.concat(\n",
    "    [\n",
    "        ordersByUsersB[\n",
    "            np.logical_not(ordersByUsersB['userId'].isin(abnormalUsers))\n",
    "        ]['orders'],\n",
    "        pd.Series(\n",
    "            0,\n",
    "            index=np.arange(\n",
    "                data['visitorsPerDateB'].sum() - len(ordersByUsersB['orders'])\n",
    "            ),\n",
    "            name='orders',\n",
    "        ),\n",
    "    ],\n",
    "    axis=0,\n",
    ") \n",
    "\n",
    "# применим статистический критерий Манна-Уитни к полученным выборкам\n",
    "\n",
    "print('p-value: {0:.3f}'.format(stats.mannwhitneyu(sampleAFiltered, sampleBFiltered)[1]))\n",
    "print('Различие в средних между группами B и A: {0:.3f}'.format(sampleBFiltered.mean()/sampleAFiltered.mean()-1)) "
   ]
  },
  {
   "cell_type": "markdown",
   "metadata": {},
   "source": [
    "Результаты по среднему количеству заказов по \"очищенным данным\" близки к результатам теста по данным с аномалиями.\n",
    "\n",
    "Различия между группами A и B есть. Выигрыш группы B составляет теперь 18,9% (по \"сырым данным\" было 16%)."
   ]
  },
  {
   "cell_type": "markdown",
   "metadata": {},
   "source": [
    "### Статистическая значимость различий в среднем чеке заказа между группами по «очищенным» данным"
   ]
  },
  {
   "cell_type": "code",
   "execution_count": 31,
   "metadata": {},
   "outputs": [
    {
     "name": "stdout",
     "output_type": "stream",
     "text": [
      "p-value: 0.788\n",
      "Различие в средних между группами B и A: -0.032\n"
     ]
    }
   ],
   "source": [
    "print(\n",
    "    'p-value: {0:.3f}'.format(\n",
    "        stats.mannwhitneyu(\n",
    "            orders[\n",
    "                np.logical_and(\n",
    "                    orders['group'] == 'A',\n",
    "                    np.logical_not(orders['visitor_id'].isin(abnormalUsers)),\n",
    "                )\n",
    "            ]['revenue'],\n",
    "            orders[\n",
    "                np.logical_and(\n",
    "                    orders['group'] == 'B',\n",
    "                    np.logical_not(orders['visitor_id'].isin(abnormalUsers)),\n",
    "                )\n",
    "            ]['revenue'],\n",
    "        )[1]\n",
    "    )\n",
    ")\n",
    "\n",
    "print(\n",
    "    'Различие в средних между группами B и A: {0:.3f}'.format(\n",
    "        orders[\n",
    "            np.logical_and(\n",
    "                orders['group'] == 'B',\n",
    "                np.logical_not(orders['visitor_id'].isin(abnormalUsers)),\n",
    "            )\n",
    "        ]['revenue'].mean()\n",
    "        / orders[\n",
    "            np.logical_and(\n",
    "                orders['group'] == 'A',\n",
    "                np.logical_not(orders['visitor_id'].isin(abnormalUsers)),\n",
    "            )\n",
    "        ]['revenue'].mean()\n",
    "        - 1\n",
    "    )\n",
    ") "
   ]
  },
  {
   "cell_type": "markdown",
   "metadata": {},
   "source": [
    "P-value несильно изменился (0.788 по \"очищенным  данным\" и 0.829 по \"сырым\").\n",
    "Статистически значимых различий в среднем чеке между группами нет.\n",
    "\n",
    "Разница между сегментами изменилась с 28.7% на -3,2%. С удалением аномальных значений среднее по среднему чеку в группе A стало выше на 3,2%, чем в группе B. Такой большой спад произошёл из-за удаления того самого аномального чека на 1,3 млн руб. Однако, 3% - слишком маленькая разница, чтобы считать преимущество группы A значимым."
   ]
  },
  {
   "cell_type": "markdown",
   "metadata": {},
   "source": [
    "### Результаты теста (выводы)"
   ]
  },
  {
   "cell_type": "markdown",
   "metadata": {},
   "source": [
    "1. Есть статистически значимое различие по среднему количеству заказов между группами и по \"сырым\", и по \"очищенным\" данным. Выигрыш группы B составляет 18,9% по данным без аномалий и 16% по данным с аномалиями.\n",
    "2. Нет статистически значимого различия по среднему чеку между группами ни по \"сырым\", ни по данным после фильтрации аномалий. Разница между сегментами равна -3,2% по \"очищенным данным\" и 28.7% по данным с аномалиями между группами B и A соответственно.\n",
    "3. График различия среднего количества заказов между группами сообщает, что результаты группы B стабильно лучше на 15%, чем результаты группы A, начиная с 9 августа 2019 года.\n",
    "4. График различия среднего чека говорит о том, что результаты группы B лучше результатов группы А, начиная  примерно с 19 августа 2019 года. Однако, если в вышеуказанную дату результат группы B был лучше на 50%, то к сентябрю стал лучше только на  30%. Заметно линейное снижение относительного различия за указанное время.\n",
    "5. Принято решение остановить тест, зафиксировать победу группы B, так как пользователи из группы B делают больше заказов (о чём свидетельствует статистическая значимость различий и график) и имеют такой же средний средний чек, как и пользователи из группы A."
   ]
  },
  {
   "cell_type": "markdown",
   "metadata": {},
   "source": [
    "## Вывод"
   ]
  },
  {
   "cell_type": "markdown",
   "metadata": {},
   "source": [
    "В ходе исследования было создано три датасета: hypothesis, orders и visitors. Датасеты  были проверены на пропуски, явные и  неявные дубликаты. Стили заголовков столбцов были приведены к единому стилю: только строчные буквы, слова разделены нижними подчеркиваниями. Столбцы с датой были приведены к типу datetime. Были найдены пересечения в группах A и B. 58 пользователей, принадлежавшие к обеим группам, были удалены. Были приоритизированы гипотезы из таблицы hypothesis с применением фреймворков ICE и RICE и проведено сревнение приоритизации гипотез с использованием данных фреймворков, объяснены найденные различия. Был проведен анализ A/B-теста, в ходе которого были собраны кумулятивные данные, построены и проанализированы графики кумулятивной выручки по группам, кумулятивного среднего чека и среднего количества заказов на пользователя по группам, относительного изменения кумулятивного среднего чека и среднего количества заказов на пользователя по группам, точечный график стоимостей заказов. Были найдены 95 и 99 перцентили стоимости и количества заказов, по которым была выбрана граница для определения аномальных заказов. Была посчитана статистическая значимость различий в среднем количестве заказов на посетителя и в среднем чеке заказа между группами по \"сырым\" (без удаления аномалий) и \"очищенным\" (с удалением аномалий) данным. Были написаны  результаты теста и принято и объяснено решение по результатам теста."
   ]
  },
  {
   "cell_type": "markdown",
   "metadata": {},
   "source": [
    "1. 58 пользователей относились одновременно к обеим группам и были удалены.\n",
    "2. По методу ICE лучшими гипотезами стали:\n",
    "\n",
    "№  | Гипотеза | ICE\n",
    ":- | :------- | :--\n",
    "8 | Запустить акцию, дающую скидку на товар в день рождения | 16.20\n",
    "0 | Добавить два новых канала привлечения трафика, что позволит привлекать на 30% больше пользователей |  13.33\n",
    "7 | Добавить форму подписки на все основные страницы, чтобы собрать базу клиентов для email-рассылок |  11.20\n",
    "\n",
    "3. По методу RICE лучшими гипотезами стали:\n",
    "\n",
    "№  | Гипотеза | RICE\n",
    ":- | :------- | :--\n",
    "7  | Добавить форму подписки на все основные страницы, чтобы собрать базу клиентов для email-рассылок |  112\n",
    "2  | Добавить блоки рекомендаций товаров на сайт интернет магазина, чтобы повысить конверсию и средний чек заказа |  56\n",
    "0  | Добавить два новых канала привлечения трафика, что позволит привлекать на 30% больше пользователей | 40\n",
    "6  | Показать на главной странице баннеры с актуальными акциями и распродажами, чтобы увеличить конверсию |  40\n",
    "\n",
    "4. Кумулятивная выручка по группе B стала приблизительно на 1,6-1,7 млн руб. выше, чем по группе A, начиная с 18-19 августа 2019 года, и стабильно держит преимущество.\n",
    "5. В период 19 августа - 1 сентября 2019 года средний чек группы B на 2-3 тыс. руб. больше среднего чека группы A (это на 30-50% больше, чем у группы A).\n",
    "6. По графику относительного изменения кумулятивного среднего количества заказов на посетителя видны различия в пользу группы B на 15-20%, начиная с 9 августа 2019 года (0,29 заказов на одного пользователя в среднем к 1 сентября 2019 года у группы B и 0,025 - у группы A).\n",
    "7. Подавляющее большинство пользователей сделало всего 1 заказ, несколько пользователей сделало 2 заказа и всего 7 пользователей - 3 заказа. Более 3 заказов не сделал никто.\n",
    "8. Не более 5% пользователей оформляли более 1 заказа. И 1% пользователей заказывал более 2 раз.\n",
    "9. Не более 5% заказов дороже 26 785 руб. и не более 1% дороже 53 904 руб.\n",
    "10. За аномальных были приняты пользователя, совершившие от 2 заказов (более 1), и/или сделавшие заказ более чем на 40 тыс. руб.\n",
    "11. Всего было найдено 16 аномальных пользователей.\n",
    "12. Есть статистически значимое различие по среднему количеству заказов между группами и по \"сырым\", и по \"очищенным\" данным. Выигрыш группы B составляет 18,9% по данным без аномалий и 16% по данным с аномалиями.\n",
    "13. Нет статистически значимого различия по среднему чеку между группами ни по \"сырым\", ни по данным после фильтрации аномалий. Разница между сегментами равна -3,2% по \"очищенным данным\" и 28.7% по данным с аномалиями между группами B и A соответственно.\n",
    "14. Принято решение остановить тест, зафиксировать победу группы B, так как пользователи из группы B делают больше заказов (о чём свидетельствует статистическая значимость различий и график) и имеют такой же средний средний чек, как и пользователи из группы A."
   ]
  },
  {
   "cell_type": "code",
   "execution_count": null,
   "metadata": {},
   "outputs": [],
   "source": []
  }
 ],
 "metadata": {
  "ExecuteTimeLog": [
   {
    "duration": 1278,
    "start_time": "2024-01-08T14:55:04.479Z"
   },
   {
    "duration": 188,
    "start_time": "2024-01-08T14:56:50.047Z"
   },
   {
    "duration": 50,
    "start_time": "2024-01-08T14:57:21.095Z"
   },
   {
    "duration": 44,
    "start_time": "2024-01-08T14:58:09.308Z"
   },
   {
    "duration": 3,
    "start_time": "2024-01-08T15:06:51.719Z"
   },
   {
    "duration": 91,
    "start_time": "2024-01-08T15:08:07.106Z"
   },
   {
    "duration": 11,
    "start_time": "2024-01-08T15:08:17.891Z"
   },
   {
    "duration": 10,
    "start_time": "2024-01-08T15:09:28.506Z"
   },
   {
    "duration": 10,
    "start_time": "2024-01-08T15:09:43.713Z"
   },
   {
    "duration": 11,
    "start_time": "2024-01-08T15:09:49.904Z"
   },
   {
    "duration": 13,
    "start_time": "2024-01-08T15:10:46.059Z"
   },
   {
    "duration": 17,
    "start_time": "2024-01-08T15:30:48.754Z"
   },
   {
    "duration": 3,
    "start_time": "2024-01-08T15:31:43.243Z"
   },
   {
    "duration": 12,
    "start_time": "2024-01-08T15:31:49.135Z"
   },
   {
    "duration": 3,
    "start_time": "2024-01-08T15:31:57.155Z"
   },
   {
    "duration": 4,
    "start_time": "2024-01-08T15:32:00.261Z"
   },
   {
    "duration": 158,
    "start_time": "2024-01-08T15:32:38.049Z"
   },
   {
    "duration": 10,
    "start_time": "2024-01-08T15:33:31.157Z"
   },
   {
    "duration": 148,
    "start_time": "2024-01-08T15:33:39.098Z"
   },
   {
    "duration": 6,
    "start_time": "2024-01-08T15:34:42.357Z"
   },
   {
    "duration": 56,
    "start_time": "2024-01-08T15:34:56.124Z"
   },
   {
    "duration": 6,
    "start_time": "2024-01-08T15:35:52.519Z"
   },
   {
    "duration": 11,
    "start_time": "2024-01-08T15:41:06.183Z"
   },
   {
    "duration": 10,
    "start_time": "2024-01-08T15:41:39.253Z"
   },
   {
    "duration": 591,
    "start_time": "2024-01-08T15:53:16.545Z"
   },
   {
    "duration": 11,
    "start_time": "2024-01-08T15:53:22.138Z"
   },
   {
    "duration": 10,
    "start_time": "2024-01-08T15:53:32.353Z"
   },
   {
    "duration": 7,
    "start_time": "2024-01-08T15:54:04.274Z"
   },
   {
    "duration": 15,
    "start_time": "2024-01-08T15:55:23.164Z"
   },
   {
    "duration": 8,
    "start_time": "2024-01-08T15:55:34.220Z"
   },
   {
    "duration": 13,
    "start_time": "2024-01-08T15:56:35.414Z"
   },
   {
    "duration": 13,
    "start_time": "2024-01-08T15:57:23.711Z"
   },
   {
    "duration": 12,
    "start_time": "2024-01-08T15:58:18.103Z"
   },
   {
    "duration": 11,
    "start_time": "2024-01-08T15:58:26.700Z"
   },
   {
    "duration": 15,
    "start_time": "2024-01-08T17:00:12.236Z"
   },
   {
    "duration": 12,
    "start_time": "2024-01-08T17:01:19.883Z"
   },
   {
    "duration": 1433,
    "start_time": "2024-01-08T17:07:49.295Z"
   },
   {
    "duration": 1352,
    "start_time": "2024-01-08T17:08:18.269Z"
   },
   {
    "duration": 1351,
    "start_time": "2024-01-08T17:08:36.042Z"
   },
   {
    "duration": 4,
    "start_time": "2024-01-08T17:08:52.202Z"
   },
   {
    "duration": 4,
    "start_time": "2024-01-08T17:09:01.501Z"
   },
   {
    "duration": 4,
    "start_time": "2024-01-08T17:09:07.142Z"
   },
   {
    "duration": 3,
    "start_time": "2024-01-08T17:09:10.681Z"
   },
   {
    "duration": 8,
    "start_time": "2024-01-08T17:09:35.896Z"
   },
   {
    "duration": 4,
    "start_time": "2024-01-08T17:09:47.729Z"
   },
   {
    "duration": 8,
    "start_time": "2024-01-08T17:11:28.230Z"
   },
   {
    "duration": 15,
    "start_time": "2024-01-08T17:11:47.226Z"
   },
   {
    "duration": 4,
    "start_time": "2024-01-08T17:12:00.403Z"
   },
   {
    "duration": 8,
    "start_time": "2024-01-08T17:12:39.504Z"
   },
   {
    "duration": 1075,
    "start_time": "2024-01-08T17:14:06.497Z"
   },
   {
    "duration": 73,
    "start_time": "2024-01-08T17:14:07.574Z"
   },
   {
    "duration": 51,
    "start_time": "2024-01-08T17:14:07.649Z"
   },
   {
    "duration": 3,
    "start_time": "2024-01-08T17:14:07.701Z"
   },
   {
    "duration": 27,
    "start_time": "2024-01-08T17:14:07.706Z"
   },
   {
    "duration": 8,
    "start_time": "2024-01-08T17:14:07.735Z"
   },
   {
    "duration": 11,
    "start_time": "2024-01-08T17:14:07.767Z"
   },
   {
    "duration": 24,
    "start_time": "2024-01-08T17:14:07.779Z"
   },
   {
    "duration": 1130,
    "start_time": "2024-01-08T17:15:01.438Z"
   },
   {
    "duration": 73,
    "start_time": "2024-01-08T17:15:02.570Z"
   },
   {
    "duration": 48,
    "start_time": "2024-01-08T17:15:02.644Z"
   },
   {
    "duration": 54,
    "start_time": "2024-01-08T17:15:02.693Z"
   },
   {
    "duration": 81,
    "start_time": "2024-01-08T17:15:02.748Z"
   },
   {
    "duration": 77,
    "start_time": "2024-01-08T17:15:02.830Z"
   },
   {
    "duration": 86,
    "start_time": "2024-01-08T17:15:02.908Z"
   },
   {
    "duration": 22,
    "start_time": "2024-01-08T17:15:02.995Z"
   },
   {
    "duration": 1089,
    "start_time": "2024-01-08T17:15:19.952Z"
   },
   {
    "duration": 73,
    "start_time": "2024-01-08T17:15:21.043Z"
   },
   {
    "duration": 53,
    "start_time": "2024-01-08T17:15:21.118Z"
   },
   {
    "duration": 4,
    "start_time": "2024-01-08T17:15:21.172Z"
   },
   {
    "duration": 36,
    "start_time": "2024-01-08T17:15:21.177Z"
   },
   {
    "duration": 13,
    "start_time": "2024-01-08T17:15:21.215Z"
   },
   {
    "duration": 39,
    "start_time": "2024-01-08T17:15:21.230Z"
   },
   {
    "duration": 21,
    "start_time": "2024-01-08T17:15:21.271Z"
   },
   {
    "duration": 16,
    "start_time": "2024-01-08T17:15:34.958Z"
   },
   {
    "duration": 15,
    "start_time": "2024-01-08T17:15:43.822Z"
   },
   {
    "duration": 10,
    "start_time": "2024-01-08T17:16:07.768Z"
   },
   {
    "duration": 8,
    "start_time": "2024-01-08T17:16:20.074Z"
   },
   {
    "duration": 4,
    "start_time": "2024-01-08T17:21:42.083Z"
   },
   {
    "duration": 4,
    "start_time": "2024-01-08T17:21:59.024Z"
   },
   {
    "duration": 3,
    "start_time": "2024-01-08T17:22:06.017Z"
   },
   {
    "duration": 4,
    "start_time": "2024-01-08T17:22:09.842Z"
   },
   {
    "duration": 88,
    "start_time": "2024-01-08T17:22:17.690Z"
   },
   {
    "duration": 4,
    "start_time": "2024-01-08T17:22:22.948Z"
   },
   {
    "duration": 4,
    "start_time": "2024-01-08T17:22:37.682Z"
   },
   {
    "duration": 8,
    "start_time": "2024-01-08T17:22:53.028Z"
   },
   {
    "duration": 4,
    "start_time": "2024-01-08T17:25:03.576Z"
   },
   {
    "duration": 3,
    "start_time": "2024-01-08T17:25:18.280Z"
   },
   {
    "duration": 56,
    "start_time": "2024-01-08T17:25:26.516Z"
   },
   {
    "duration": 1031,
    "start_time": "2024-01-08T17:25:45.814Z"
   },
   {
    "duration": 73,
    "start_time": "2024-01-08T17:25:46.847Z"
   },
   {
    "duration": 51,
    "start_time": "2024-01-08T17:25:46.921Z"
   },
   {
    "duration": 3,
    "start_time": "2024-01-08T17:25:46.973Z"
   },
   {
    "duration": 17,
    "start_time": "2024-01-08T17:25:46.978Z"
   },
   {
    "duration": 58,
    "start_time": "2024-01-08T17:25:46.996Z"
   },
   {
    "duration": 0,
    "start_time": "2024-01-08T17:25:47.056Z"
   },
   {
    "duration": 0,
    "start_time": "2024-01-08T17:25:47.057Z"
   },
   {
    "duration": 63,
    "start_time": "2024-01-08T17:26:15.661Z"
   },
   {
    "duration": 7,
    "start_time": "2024-01-08T17:26:24.980Z"
   },
   {
    "duration": 4,
    "start_time": "2024-01-08T17:26:37.866Z"
   },
   {
    "duration": 4,
    "start_time": "2024-01-08T17:26:55.545Z"
   },
   {
    "duration": 90,
    "start_time": "2024-01-08T17:27:12.982Z"
   },
   {
    "duration": 9,
    "start_time": "2024-01-08T17:27:26.309Z"
   },
   {
    "duration": 11,
    "start_time": "2024-01-08T17:28:25.937Z"
   },
   {
    "duration": 8,
    "start_time": "2024-01-08T17:29:05.094Z"
   },
   {
    "duration": 1108,
    "start_time": "2024-01-08T17:29:12.036Z"
   },
   {
    "duration": 73,
    "start_time": "2024-01-08T17:29:13.145Z"
   },
   {
    "duration": 49,
    "start_time": "2024-01-08T17:29:13.220Z"
   },
   {
    "duration": 30,
    "start_time": "2024-01-08T17:29:13.271Z"
   },
   {
    "duration": 45,
    "start_time": "2024-01-08T17:29:13.303Z"
   },
   {
    "duration": 30,
    "start_time": "2024-01-08T17:29:13.350Z"
   },
   {
    "duration": 11,
    "start_time": "2024-01-08T17:29:13.382Z"
   },
   {
    "duration": 19,
    "start_time": "2024-01-08T17:29:13.394Z"
   },
   {
    "duration": 1117,
    "start_time": "2024-01-08T17:29:26.333Z"
   },
   {
    "duration": 73,
    "start_time": "2024-01-08T17:29:27.452Z"
   },
   {
    "duration": 53,
    "start_time": "2024-01-08T17:29:27.527Z"
   },
   {
    "duration": 3,
    "start_time": "2024-01-08T17:29:27.581Z"
   },
   {
    "duration": 46,
    "start_time": "2024-01-08T17:29:27.586Z"
   },
   {
    "duration": 11,
    "start_time": "2024-01-08T17:29:27.633Z"
   },
   {
    "duration": 19,
    "start_time": "2024-01-08T17:29:27.645Z"
   },
   {
    "duration": 16,
    "start_time": "2024-01-08T17:29:27.665Z"
   },
   {
    "duration": 11,
    "start_time": "2024-01-08T17:30:09.968Z"
   },
   {
    "duration": 247,
    "start_time": "2024-01-08T18:03:17.381Z"
   },
   {
    "duration": 263,
    "start_time": "2024-01-08T18:31:02.724Z"
   },
   {
    "duration": 231,
    "start_time": "2024-01-08T18:31:46.403Z"
   },
   {
    "duration": 243,
    "start_time": "2024-01-08T18:31:48.403Z"
   },
   {
    "duration": 12,
    "start_time": "2024-01-08T18:58:47.350Z"
   },
   {
    "duration": 12,
    "start_time": "2024-01-08T18:58:59.345Z"
   },
   {
    "duration": 12,
    "start_time": "2024-01-08T18:59:03.936Z"
   },
   {
    "duration": 1101,
    "start_time": "2024-01-08T18:59:12.860Z"
   },
   {
    "duration": 73,
    "start_time": "2024-01-08T18:59:13.963Z"
   },
   {
    "duration": 51,
    "start_time": "2024-01-08T18:59:14.037Z"
   },
   {
    "duration": 3,
    "start_time": "2024-01-08T18:59:14.089Z"
   },
   {
    "duration": 21,
    "start_time": "2024-01-08T18:59:14.094Z"
   },
   {
    "duration": 23,
    "start_time": "2024-01-08T18:59:14.116Z"
   },
   {
    "duration": 10,
    "start_time": "2024-01-08T18:59:14.140Z"
   },
   {
    "duration": 14,
    "start_time": "2024-01-08T18:59:14.151Z"
   },
   {
    "duration": 22,
    "start_time": "2024-01-08T18:59:14.166Z"
   },
   {
    "duration": 255,
    "start_time": "2024-01-08T18:59:14.190Z"
   },
   {
    "duration": 234,
    "start_time": "2024-01-08T18:59:14.447Z"
   },
   {
    "duration": 224,
    "start_time": "2024-01-08T19:01:57.611Z"
   },
   {
    "duration": 95,
    "start_time": "2024-01-08T19:02:06.424Z"
   },
   {
    "duration": 92,
    "start_time": "2024-01-08T19:02:11.662Z"
   },
   {
    "duration": 156,
    "start_time": "2024-01-08T19:02:20.618Z"
   },
   {
    "duration": 149,
    "start_time": "2024-01-08T19:03:34.293Z"
   },
   {
    "duration": 62,
    "start_time": "2024-01-08T19:03:49.466Z"
   },
   {
    "duration": 168,
    "start_time": "2024-01-08T19:05:24.074Z"
   },
   {
    "duration": 214,
    "start_time": "2024-01-08T19:08:57.085Z"
   },
   {
    "duration": 157,
    "start_time": "2024-01-08T19:09:01.460Z"
   },
   {
    "duration": 157,
    "start_time": "2024-01-08T19:09:05.535Z"
   },
   {
    "duration": 164,
    "start_time": "2024-01-08T19:09:10.460Z"
   },
   {
    "duration": 172,
    "start_time": "2024-01-08T19:10:16.640Z"
   },
   {
    "duration": 160,
    "start_time": "2024-01-08T19:10:32.986Z"
   },
   {
    "duration": 162,
    "start_time": "2024-01-08T19:10:42.806Z"
   },
   {
    "duration": 161,
    "start_time": "2024-01-08T19:12:23.060Z"
   },
   {
    "duration": 164,
    "start_time": "2024-01-08T19:15:55.447Z"
   },
   {
    "duration": 172,
    "start_time": "2024-01-08T19:16:08.036Z"
   },
   {
    "duration": 170,
    "start_time": "2024-01-08T19:16:22.272Z"
   },
   {
    "duration": 183,
    "start_time": "2024-01-08T19:17:45.402Z"
   },
   {
    "duration": 235,
    "start_time": "2024-01-08T19:17:55.490Z"
   },
   {
    "duration": 167,
    "start_time": "2024-01-08T19:18:24.249Z"
   },
   {
    "duration": 175,
    "start_time": "2024-01-08T19:19:07.320Z"
   },
   {
    "duration": 172,
    "start_time": "2024-01-08T19:19:33.055Z"
   },
   {
    "duration": 147,
    "start_time": "2024-01-08T19:19:58.310Z"
   },
   {
    "duration": 183,
    "start_time": "2024-01-08T19:21:17.770Z"
   },
   {
    "duration": 156,
    "start_time": "2024-01-08T19:25:50.473Z"
   },
   {
    "duration": 163,
    "start_time": "2024-01-08T19:25:56.682Z"
   },
   {
    "duration": 154,
    "start_time": "2024-01-08T19:27:49.329Z"
   },
   {
    "duration": 3,
    "start_time": "2024-01-08T19:27:52.438Z"
   },
   {
    "duration": 181,
    "start_time": "2024-01-08T19:27:53.649Z"
   },
   {
    "duration": 185,
    "start_time": "2024-01-08T19:29:25.935Z"
   },
   {
    "duration": 251,
    "start_time": "2024-01-08T19:30:37.942Z"
   },
   {
    "duration": 279,
    "start_time": "2024-01-08T19:34:50.534Z"
   },
   {
    "duration": 341,
    "start_time": "2024-01-08T19:35:27.845Z"
   },
   {
    "duration": 3,
    "start_time": "2024-01-08T19:35:32.088Z"
   },
   {
    "duration": 352,
    "start_time": "2024-01-08T19:35:34.220Z"
   },
   {
    "duration": 160,
    "start_time": "2024-01-08T19:37:04.400Z"
   },
   {
    "duration": 182,
    "start_time": "2024-01-08T19:38:47.960Z"
   },
   {
    "duration": 211,
    "start_time": "2024-01-08T19:39:16.119Z"
   },
   {
    "duration": 3,
    "start_time": "2024-01-08T19:40:25.866Z"
   },
   {
    "duration": 171,
    "start_time": "2024-01-08T19:40:26.511Z"
   },
   {
    "duration": 179,
    "start_time": "2024-01-08T19:40:28.053Z"
   },
   {
    "duration": 322,
    "start_time": "2024-01-08T19:40:30.459Z"
   },
   {
    "duration": 191,
    "start_time": "2024-01-08T19:40:33.921Z"
   },
   {
    "duration": 274,
    "start_time": "2024-01-08T19:43:47.778Z"
   },
   {
    "duration": 283,
    "start_time": "2024-01-08T19:44:09.388Z"
   },
   {
    "duration": 271,
    "start_time": "2024-01-08T19:44:23.044Z"
   },
   {
    "duration": 211,
    "start_time": "2024-01-08T19:45:04.611Z"
   },
   {
    "duration": 296,
    "start_time": "2024-01-08T19:45:42.373Z"
   },
   {
    "duration": 292,
    "start_time": "2024-01-08T19:45:53.585Z"
   },
   {
    "duration": 8,
    "start_time": "2024-01-08T19:47:30.879Z"
   },
   {
    "duration": 198,
    "start_time": "2024-01-08T19:47:56.678Z"
   },
   {
    "duration": 106,
    "start_time": "2024-01-08T19:48:02.424Z"
   },
   {
    "duration": 4,
    "start_time": "2024-01-08T19:50:13.439Z"
   },
   {
    "duration": 121,
    "start_time": "2024-01-08T19:50:17.171Z"
   },
   {
    "duration": 61,
    "start_time": "2024-01-08T19:52:07.161Z"
   },
   {
    "duration": 106,
    "start_time": "2024-01-08T19:52:12.768Z"
   },
   {
    "duration": 106,
    "start_time": "2024-01-08T19:52:31.933Z"
   },
   {
    "duration": 128,
    "start_time": "2024-01-08T19:53:51.377Z"
   },
   {
    "duration": 131,
    "start_time": "2024-01-08T19:53:57.514Z"
   },
   {
    "duration": 114,
    "start_time": "2024-01-08T19:54:02.040Z"
   },
   {
    "duration": 115,
    "start_time": "2024-01-08T19:54:12.341Z"
   },
   {
    "duration": 118,
    "start_time": "2024-01-08T19:54:19.406Z"
   },
   {
    "duration": 95,
    "start_time": "2024-01-08T19:56:13.339Z"
   },
   {
    "duration": 90,
    "start_time": "2024-01-08T19:56:30.746Z"
   },
   {
    "duration": 90,
    "start_time": "2024-01-08T19:56:39.827Z"
   },
   {
    "duration": 90,
    "start_time": "2024-01-08T19:57:34.675Z"
   },
   {
    "duration": 123,
    "start_time": "2024-01-08T19:58:27.698Z"
   },
   {
    "duration": 121,
    "start_time": "2024-01-08T19:58:30.399Z"
   },
   {
    "duration": 88,
    "start_time": "2024-01-08T19:58:41.805Z"
   },
   {
    "duration": 89,
    "start_time": "2024-01-08T19:58:52.349Z"
   },
   {
    "duration": 128,
    "start_time": "2024-01-08T19:58:54.762Z"
   },
   {
    "duration": 194,
    "start_time": "2024-01-08T19:58:55.180Z"
   },
   {
    "duration": 123,
    "start_time": "2024-01-08T19:59:05.226Z"
   },
   {
    "duration": 125,
    "start_time": "2024-01-08T19:59:08.819Z"
   },
   {
    "duration": 105,
    "start_time": "2024-01-08T19:59:21.595Z"
   },
   {
    "duration": 122,
    "start_time": "2024-01-08T19:59:26.884Z"
   },
   {
    "duration": 122,
    "start_time": "2024-01-08T19:59:28.558Z"
   },
   {
    "duration": 102,
    "start_time": "2024-01-08T19:59:31.588Z"
   },
   {
    "duration": 111,
    "start_time": "2024-01-08T19:59:33.904Z"
   },
   {
    "duration": 106,
    "start_time": "2024-01-08T19:59:37.226Z"
   },
   {
    "duration": 117,
    "start_time": "2024-01-08T20:00:13.876Z"
   },
   {
    "duration": 134,
    "start_time": "2024-01-08T20:01:58.114Z"
   },
   {
    "duration": 5,
    "start_time": "2024-01-08T20:04:38.058Z"
   },
   {
    "duration": 5,
    "start_time": "2024-01-08T20:05:21.002Z"
   },
   {
    "duration": 4,
    "start_time": "2024-01-08T20:05:31.566Z"
   },
   {
    "duration": 178,
    "start_time": "2024-01-08T20:06:20.023Z"
   },
   {
    "duration": 2,
    "start_time": "2024-01-08T20:08:57.622Z"
   },
   {
    "duration": 8,
    "start_time": "2024-01-08T20:11:02.790Z"
   },
   {
    "duration": 8,
    "start_time": "2024-01-08T20:11:39.535Z"
   },
   {
    "duration": 1430,
    "start_time": "2024-01-08T20:13:04.938Z"
   },
   {
    "duration": 119,
    "start_time": "2024-01-08T20:13:59.936Z"
   },
   {
    "duration": 11,
    "start_time": "2024-01-08T20:14:23.142Z"
   },
   {
    "duration": 116,
    "start_time": "2024-01-08T20:14:27.178Z"
   },
   {
    "duration": 137,
    "start_time": "2024-01-08T20:16:53.667Z"
   },
   {
    "duration": 2,
    "start_time": "2024-01-08T20:17:51.088Z"
   },
   {
    "duration": 4,
    "start_time": "2024-01-08T20:18:17.688Z"
   },
   {
    "duration": 124,
    "start_time": "2024-01-08T20:23:12.396Z"
   },
   {
    "duration": 117,
    "start_time": "2024-01-08T20:23:13.886Z"
   },
   {
    "duration": 4,
    "start_time": "2024-01-08T20:23:18.229Z"
   },
   {
    "duration": 3,
    "start_time": "2024-01-08T20:29:31.187Z"
   },
   {
    "duration": 13,
    "start_time": "2024-01-08T20:32:16.726Z"
   },
   {
    "duration": 108,
    "start_time": "2024-01-08T20:33:11.412Z"
   },
   {
    "duration": 122,
    "start_time": "2024-01-08T20:34:02.970Z"
   },
   {
    "duration": 1448,
    "start_time": "2024-01-08T20:34:27.016Z"
   },
   {
    "duration": 1488,
    "start_time": "2024-01-08T20:36:26.277Z"
   },
   {
    "duration": 53,
    "start_time": "2024-01-08T20:37:46.735Z"
   },
   {
    "duration": 1445,
    "start_time": "2024-01-08T20:38:08.514Z"
   },
   {
    "duration": 194,
    "start_time": "2024-01-08T20:44:30.799Z"
   },
   {
    "duration": 197,
    "start_time": "2024-01-08T20:45:16.528Z"
   },
   {
    "duration": 121,
    "start_time": "2024-01-08T20:46:00.021Z"
   },
   {
    "duration": 1111,
    "start_time": "2024-01-08T20:47:10.548Z"
   },
   {
    "duration": 75,
    "start_time": "2024-01-08T20:47:11.660Z"
   },
   {
    "duration": 57,
    "start_time": "2024-01-08T20:47:11.737Z"
   },
   {
    "duration": 3,
    "start_time": "2024-01-08T20:47:11.796Z"
   },
   {
    "duration": 44,
    "start_time": "2024-01-08T20:47:11.801Z"
   },
   {
    "duration": 17,
    "start_time": "2024-01-08T20:47:11.846Z"
   },
   {
    "duration": 12,
    "start_time": "2024-01-08T20:47:11.864Z"
   },
   {
    "duration": 10,
    "start_time": "2024-01-08T20:47:11.877Z"
   },
   {
    "duration": 13,
    "start_time": "2024-01-08T20:47:11.888Z"
   },
   {
    "duration": 269,
    "start_time": "2024-01-08T20:47:11.902Z"
   },
   {
    "duration": 3,
    "start_time": "2024-01-08T20:47:12.172Z"
   },
   {
    "duration": 269,
    "start_time": "2024-01-08T20:47:12.176Z"
   },
   {
    "duration": 177,
    "start_time": "2024-01-08T20:47:12.446Z"
   },
   {
    "duration": 272,
    "start_time": "2024-01-08T20:47:12.625Z"
   },
   {
    "duration": 184,
    "start_time": "2024-01-08T20:47:12.898Z"
   },
   {
    "duration": 274,
    "start_time": "2024-01-08T20:47:13.083Z"
   },
   {
    "duration": 10,
    "start_time": "2024-01-08T20:47:13.366Z"
   },
   {
    "duration": 162,
    "start_time": "2024-01-08T20:47:13.377Z"
   },
   {
    "duration": 5,
    "start_time": "2024-01-08T20:47:13.540Z"
   },
   {
    "duration": 131,
    "start_time": "2024-01-08T20:47:13.546Z"
   },
   {
    "duration": 177,
    "start_time": "2024-01-08T20:47:13.679Z"
   },
   {
    "duration": 13,
    "start_time": "2024-01-08T20:47:13.858Z"
   },
   {
    "duration": 206,
    "start_time": "2024-01-08T20:47:13.872Z"
   },
   {
    "duration": 129,
    "start_time": "2024-01-08T20:47:14.080Z"
   },
   {
    "duration": 9,
    "start_time": "2024-01-08T20:54:33.000Z"
   },
   {
    "duration": 1556,
    "start_time": "2024-01-08T21:04:40.314Z"
   },
   {
    "duration": 8,
    "start_time": "2024-01-08T21:07:29.276Z"
   },
   {
    "duration": 28,
    "start_time": "2024-01-08T21:08:14.660Z"
   },
   {
    "duration": 27,
    "start_time": "2024-01-08T21:09:06.900Z"
   },
   {
    "duration": 1449,
    "start_time": "2024-01-08T21:12:35.917Z"
   },
   {
    "duration": 12,
    "start_time": "2024-01-08T21:13:01.663Z"
   },
   {
    "duration": 9,
    "start_time": "2024-01-08T21:43:41.796Z"
   },
   {
    "duration": 6,
    "start_time": "2024-01-08T21:43:55.155Z"
   },
   {
    "duration": 4,
    "start_time": "2024-01-08T21:44:08.455Z"
   },
   {
    "duration": 296,
    "start_time": "2024-01-08T22:07:00.234Z"
   },
   {
    "duration": 10,
    "start_time": "2024-01-08T22:09:07.960Z"
   },
   {
    "duration": 1069,
    "start_time": "2024-01-08T23:16:18.500Z"
   },
   {
    "duration": 75,
    "start_time": "2024-01-08T23:16:19.571Z"
   },
   {
    "duration": 48,
    "start_time": "2024-01-08T23:16:19.647Z"
   },
   {
    "duration": 4,
    "start_time": "2024-01-08T23:16:19.696Z"
   },
   {
    "duration": 11,
    "start_time": "2024-01-08T23:16:19.701Z"
   },
   {
    "duration": 15,
    "start_time": "2024-01-08T23:16:19.714Z"
   },
   {
    "duration": 11,
    "start_time": "2024-01-08T23:16:19.730Z"
   },
   {
    "duration": 11,
    "start_time": "2024-01-08T23:16:19.767Z"
   },
   {
    "duration": 20,
    "start_time": "2024-01-08T23:16:19.779Z"
   },
   {
    "duration": 19,
    "start_time": "2024-01-08T23:16:19.800Z"
   },
   {
    "duration": 262,
    "start_time": "2024-01-08T23:16:19.820Z"
   },
   {
    "duration": 4,
    "start_time": "2024-01-08T23:16:20.083Z"
   },
   {
    "duration": 263,
    "start_time": "2024-01-08T23:16:20.088Z"
   },
   {
    "duration": 197,
    "start_time": "2024-01-08T23:16:20.355Z"
   },
   {
    "duration": 292,
    "start_time": "2024-01-08T23:16:20.553Z"
   },
   {
    "duration": 203,
    "start_time": "2024-01-08T23:16:20.846Z"
   },
   {
    "duration": 298,
    "start_time": "2024-01-08T23:16:21.051Z"
   },
   {
    "duration": 17,
    "start_time": "2024-01-08T23:16:21.350Z"
   },
   {
    "duration": 156,
    "start_time": "2024-01-08T23:16:21.368Z"
   },
   {
    "duration": 4,
    "start_time": "2024-01-08T23:16:21.526Z"
   },
   {
    "duration": 146,
    "start_time": "2024-01-08T23:16:21.531Z"
   },
   {
    "duration": 191,
    "start_time": "2024-01-08T23:16:21.678Z"
   },
   {
    "duration": 5,
    "start_time": "2024-01-08T23:16:21.870Z"
   },
   {
    "duration": 220,
    "start_time": "2024-01-08T23:16:21.876Z"
   },
   {
    "duration": 134,
    "start_time": "2024-01-08T23:16:22.098Z"
   },
   {
    "duration": 9,
    "start_time": "2024-01-08T23:16:22.233Z"
   },
   {
    "duration": 8,
    "start_time": "2024-01-08T23:16:22.243Z"
   },
   {
    "duration": 36,
    "start_time": "2024-01-08T23:16:22.253Z"
   },
   {
    "duration": 12,
    "start_time": "2024-01-08T23:16:22.290Z"
   },
   {
    "duration": 1107,
    "start_time": "2024-01-08T23:17:19.543Z"
   },
   {
    "duration": 73,
    "start_time": "2024-01-08T23:17:20.652Z"
   },
   {
    "duration": 60,
    "start_time": "2024-01-08T23:17:20.729Z"
   },
   {
    "duration": 4,
    "start_time": "2024-01-08T23:17:20.791Z"
   },
   {
    "duration": 29,
    "start_time": "2024-01-08T23:17:20.796Z"
   },
   {
    "duration": 36,
    "start_time": "2024-01-08T23:17:20.826Z"
   },
   {
    "duration": 17,
    "start_time": "2024-01-08T23:17:20.864Z"
   },
   {
    "duration": 23,
    "start_time": "2024-01-08T23:17:20.882Z"
   },
   {
    "duration": 24,
    "start_time": "2024-01-08T23:17:20.907Z"
   },
   {
    "duration": 19,
    "start_time": "2024-01-08T23:17:20.933Z"
   },
   {
    "duration": 256,
    "start_time": "2024-01-08T23:17:20.954Z"
   },
   {
    "duration": 3,
    "start_time": "2024-01-08T23:17:21.211Z"
   },
   {
    "duration": 294,
    "start_time": "2024-01-08T23:17:21.217Z"
   },
   {
    "duration": 190,
    "start_time": "2024-01-08T23:17:21.513Z"
   },
   {
    "duration": 269,
    "start_time": "2024-01-08T23:17:21.705Z"
   },
   {
    "duration": 207,
    "start_time": "2024-01-08T23:17:21.976Z"
   },
   {
    "duration": 272,
    "start_time": "2024-01-08T23:17:22.185Z"
   },
   {
    "duration": 11,
    "start_time": "2024-01-08T23:17:22.466Z"
   },
   {
    "duration": 156,
    "start_time": "2024-01-08T23:17:22.478Z"
   },
   {
    "duration": 5,
    "start_time": "2024-01-08T23:17:22.635Z"
   },
   {
    "duration": 148,
    "start_time": "2024-01-08T23:17:22.641Z"
   },
   {
    "duration": 205,
    "start_time": "2024-01-08T23:17:22.790Z"
   },
   {
    "duration": 4,
    "start_time": "2024-01-08T23:17:22.996Z"
   },
   {
    "duration": 195,
    "start_time": "2024-01-08T23:17:23.001Z"
   },
   {
    "duration": 132,
    "start_time": "2024-01-08T23:17:23.198Z"
   },
   {
    "duration": 8,
    "start_time": "2024-01-08T23:17:23.332Z"
   },
   {
    "duration": 27,
    "start_time": "2024-01-08T23:17:23.341Z"
   },
   {
    "duration": 44,
    "start_time": "2024-01-08T23:17:23.370Z"
   },
   {
    "duration": 18,
    "start_time": "2024-01-08T23:17:23.415Z"
   },
   {
    "duration": 1272,
    "start_time": "2024-01-09T11:21:30.239Z"
   },
   {
    "duration": 199,
    "start_time": "2024-01-09T11:21:31.513Z"
   },
   {
    "duration": 50,
    "start_time": "2024-01-09T11:21:31.714Z"
   },
   {
    "duration": 3,
    "start_time": "2024-01-09T11:21:31.766Z"
   },
   {
    "duration": 32,
    "start_time": "2024-01-09T11:21:31.771Z"
   },
   {
    "duration": 49,
    "start_time": "2024-01-09T11:21:31.805Z"
   },
   {
    "duration": 15,
    "start_time": "2024-01-09T11:21:31.855Z"
   },
   {
    "duration": 17,
    "start_time": "2024-01-09T11:21:31.872Z"
   },
   {
    "duration": 28,
    "start_time": "2024-01-09T11:21:31.891Z"
   },
   {
    "duration": 33,
    "start_time": "2024-01-09T11:21:31.922Z"
   },
   {
    "duration": 268,
    "start_time": "2024-01-09T11:21:31.957Z"
   },
   {
    "duration": 3,
    "start_time": "2024-01-09T11:21:32.227Z"
   },
   {
    "duration": 376,
    "start_time": "2024-01-09T11:21:32.231Z"
   },
   {
    "duration": 179,
    "start_time": "2024-01-09T11:21:32.608Z"
   },
   {
    "duration": 352,
    "start_time": "2024-01-09T11:21:32.789Z"
   },
   {
    "duration": 219,
    "start_time": "2024-01-09T11:21:33.142Z"
   },
   {
    "duration": 296,
    "start_time": "2024-01-09T11:21:33.362Z"
   },
   {
    "duration": 11,
    "start_time": "2024-01-09T11:21:33.659Z"
   },
   {
    "duration": 155,
    "start_time": "2024-01-09T11:21:33.671Z"
   },
   {
    "duration": 5,
    "start_time": "2024-01-09T11:21:33.827Z"
   },
   {
    "duration": 155,
    "start_time": "2024-01-09T11:21:33.833Z"
   },
   {
    "duration": 186,
    "start_time": "2024-01-09T11:21:33.989Z"
   },
   {
    "duration": 4,
    "start_time": "2024-01-09T11:21:34.176Z"
   },
   {
    "duration": 210,
    "start_time": "2024-01-09T11:21:34.182Z"
   },
   {
    "duration": 140,
    "start_time": "2024-01-09T11:21:34.394Z"
   },
   {
    "duration": 10,
    "start_time": "2024-01-09T11:21:34.536Z"
   },
   {
    "duration": 19,
    "start_time": "2024-01-09T11:21:34.547Z"
   },
   {
    "duration": 50,
    "start_time": "2024-01-09T11:21:34.568Z"
   },
   {
    "duration": 12,
    "start_time": "2024-01-09T11:21:34.620Z"
   },
   {
    "duration": 124,
    "start_time": "2024-01-09T11:58:13.409Z"
   },
   {
    "duration": 1304,
    "start_time": "2024-01-09T17:45:57.863Z"
   },
   {
    "duration": 188,
    "start_time": "2024-01-09T17:45:59.168Z"
   },
   {
    "duration": 54,
    "start_time": "2024-01-09T17:45:59.358Z"
   },
   {
    "duration": 3,
    "start_time": "2024-01-09T17:45:59.414Z"
   },
   {
    "duration": 49,
    "start_time": "2024-01-09T17:45:59.419Z"
   },
   {
    "duration": 29,
    "start_time": "2024-01-09T17:45:59.470Z"
   },
   {
    "duration": 21,
    "start_time": "2024-01-09T17:45:59.500Z"
   },
   {
    "duration": 61,
    "start_time": "2024-01-09T17:45:59.523Z"
   },
   {
    "duration": 36,
    "start_time": "2024-01-09T17:45:59.586Z"
   },
   {
    "duration": 37,
    "start_time": "2024-01-09T17:45:59.624Z"
   },
   {
    "duration": 272,
    "start_time": "2024-01-09T17:45:59.663Z"
   },
   {
    "duration": 3,
    "start_time": "2024-01-09T17:45:59.936Z"
   },
   {
    "duration": 260,
    "start_time": "2024-01-09T17:45:59.940Z"
   },
   {
    "duration": 191,
    "start_time": "2024-01-09T17:46:00.202Z"
   },
   {
    "duration": 322,
    "start_time": "2024-01-09T17:46:00.395Z"
   },
   {
    "duration": 213,
    "start_time": "2024-01-09T17:46:00.718Z"
   },
   {
    "duration": 323,
    "start_time": "2024-01-09T17:46:00.933Z"
   },
   {
    "duration": 17,
    "start_time": "2024-01-09T17:46:01.257Z"
   },
   {
    "duration": 186,
    "start_time": "2024-01-09T17:46:01.275Z"
   },
   {
    "duration": 5,
    "start_time": "2024-01-09T17:46:01.463Z"
   },
   {
    "duration": 395,
    "start_time": "2024-01-09T17:46:01.469Z"
   },
   {
    "duration": 223,
    "start_time": "2024-01-09T17:46:01.865Z"
   },
   {
    "duration": 5,
    "start_time": "2024-01-09T17:46:02.089Z"
   },
   {
    "duration": 227,
    "start_time": "2024-01-09T17:46:02.096Z"
   },
   {
    "duration": 136,
    "start_time": "2024-01-09T17:46:02.324Z"
   },
   {
    "duration": 10,
    "start_time": "2024-01-09T17:46:02.466Z"
   },
   {
    "duration": 20,
    "start_time": "2024-01-09T17:46:02.477Z"
   },
   {
    "duration": 75,
    "start_time": "2024-01-09T17:46:02.500Z"
   },
   {
    "duration": 51,
    "start_time": "2024-01-09T17:46:02.577Z"
   },
   {
    "duration": 12,
    "start_time": "2024-01-09T17:46:34.161Z"
   },
   {
    "duration": 43,
    "start_time": "2024-01-09T17:49:50.544Z"
   },
   {
    "duration": 11,
    "start_time": "2024-01-09T17:50:04.677Z"
   },
   {
    "duration": 64,
    "start_time": "2024-01-09T17:52:25.035Z"
   },
   {
    "duration": 16,
    "start_time": "2024-01-09T17:52:31.174Z"
   },
   {
    "duration": 17,
    "start_time": "2024-01-09T18:03:38.726Z"
   },
   {
    "duration": 15,
    "start_time": "2024-01-09T18:03:48.736Z"
   },
   {
    "duration": 15,
    "start_time": "2024-01-09T18:05:18.131Z"
   },
   {
    "duration": 18,
    "start_time": "2024-01-09T18:05:25.704Z"
   },
   {
    "duration": 94,
    "start_time": "2024-01-09T18:08:09.463Z"
   },
   {
    "duration": 10,
    "start_time": "2024-01-09T18:08:26.299Z"
   },
   {
    "duration": 8,
    "start_time": "2024-01-09T18:08:34.110Z"
   },
   {
    "duration": 8,
    "start_time": "2024-01-09T18:08:42.990Z"
   },
   {
    "duration": 9,
    "start_time": "2024-01-09T18:09:08.130Z"
   },
   {
    "duration": 11,
    "start_time": "2024-01-09T18:10:46.841Z"
   },
   {
    "duration": 1056,
    "start_time": "2024-01-09T18:10:57.299Z"
   },
   {
    "duration": 73,
    "start_time": "2024-01-09T18:10:58.364Z"
   },
   {
    "duration": 53,
    "start_time": "2024-01-09T18:10:58.438Z"
   },
   {
    "duration": 3,
    "start_time": "2024-01-09T18:10:58.492Z"
   },
   {
    "duration": 44,
    "start_time": "2024-01-09T18:10:58.497Z"
   },
   {
    "duration": 33,
    "start_time": "2024-01-09T18:10:58.542Z"
   },
   {
    "duration": 15,
    "start_time": "2024-01-09T18:10:58.576Z"
   },
   {
    "duration": 106,
    "start_time": "2024-01-09T18:10:58.592Z"
   },
   {
    "duration": 0,
    "start_time": "2024-01-09T18:10:58.700Z"
   },
   {
    "duration": 0,
    "start_time": "2024-01-09T18:10:58.701Z"
   },
   {
    "duration": 0,
    "start_time": "2024-01-09T18:10:58.702Z"
   },
   {
    "duration": 0,
    "start_time": "2024-01-09T18:10:58.703Z"
   },
   {
    "duration": 0,
    "start_time": "2024-01-09T18:10:58.704Z"
   },
   {
    "duration": 0,
    "start_time": "2024-01-09T18:10:58.705Z"
   },
   {
    "duration": 0,
    "start_time": "2024-01-09T18:10:58.706Z"
   },
   {
    "duration": 0,
    "start_time": "2024-01-09T18:10:58.707Z"
   },
   {
    "duration": 0,
    "start_time": "2024-01-09T18:10:58.708Z"
   },
   {
    "duration": 0,
    "start_time": "2024-01-09T18:10:58.709Z"
   },
   {
    "duration": 0,
    "start_time": "2024-01-09T18:10:58.710Z"
   },
   {
    "duration": 0,
    "start_time": "2024-01-09T18:10:58.711Z"
   },
   {
    "duration": 0,
    "start_time": "2024-01-09T18:10:58.712Z"
   },
   {
    "duration": 0,
    "start_time": "2024-01-09T18:10:58.712Z"
   },
   {
    "duration": 0,
    "start_time": "2024-01-09T18:10:58.713Z"
   },
   {
    "duration": 0,
    "start_time": "2024-01-09T18:10:58.714Z"
   },
   {
    "duration": 0,
    "start_time": "2024-01-09T18:10:58.715Z"
   },
   {
    "duration": 0,
    "start_time": "2024-01-09T18:10:58.716Z"
   },
   {
    "duration": 0,
    "start_time": "2024-01-09T18:10:58.717Z"
   },
   {
    "duration": 0,
    "start_time": "2024-01-09T18:10:58.718Z"
   },
   {
    "duration": 0,
    "start_time": "2024-01-09T18:10:58.720Z"
   },
   {
    "duration": 1128,
    "start_time": "2024-01-09T18:12:14.332Z"
   },
   {
    "duration": 73,
    "start_time": "2024-01-09T18:12:15.462Z"
   },
   {
    "duration": 50,
    "start_time": "2024-01-09T18:12:15.537Z"
   },
   {
    "duration": 3,
    "start_time": "2024-01-09T18:12:15.589Z"
   },
   {
    "duration": 48,
    "start_time": "2024-01-09T18:12:15.593Z"
   },
   {
    "duration": 40,
    "start_time": "2024-01-09T18:12:15.642Z"
   },
   {
    "duration": 11,
    "start_time": "2024-01-09T18:12:15.683Z"
   },
   {
    "duration": 64,
    "start_time": "2024-01-09T18:12:15.695Z"
   },
   {
    "duration": 4,
    "start_time": "2024-01-09T18:12:15.761Z"
   },
   {
    "duration": 27,
    "start_time": "2024-01-09T18:12:15.769Z"
   },
   {
    "duration": 310,
    "start_time": "2024-01-09T18:12:15.798Z"
   },
   {
    "duration": 3,
    "start_time": "2024-01-09T18:12:16.110Z"
   },
   {
    "duration": 258,
    "start_time": "2024-01-09T18:12:16.115Z"
   },
   {
    "duration": 186,
    "start_time": "2024-01-09T18:12:16.374Z"
   },
   {
    "duration": 282,
    "start_time": "2024-01-09T18:12:16.561Z"
   },
   {
    "duration": 198,
    "start_time": "2024-01-09T18:12:16.844Z"
   },
   {
    "duration": 294,
    "start_time": "2024-01-09T18:12:17.044Z"
   },
   {
    "duration": 10,
    "start_time": "2024-01-09T18:12:17.339Z"
   },
   {
    "duration": 164,
    "start_time": "2024-01-09T18:12:17.350Z"
   },
   {
    "duration": 4,
    "start_time": "2024-01-09T18:12:17.515Z"
   },
   {
    "duration": 226,
    "start_time": "2024-01-09T18:12:17.521Z"
   },
   {
    "duration": 126,
    "start_time": "2024-01-09T18:12:17.748Z"
   },
   {
    "duration": 4,
    "start_time": "2024-01-09T18:12:17.875Z"
   },
   {
    "duration": 213,
    "start_time": "2024-01-09T18:12:17.881Z"
   },
   {
    "duration": 177,
    "start_time": "2024-01-09T18:12:18.095Z"
   },
   {
    "duration": 9,
    "start_time": "2024-01-09T18:12:18.274Z"
   },
   {
    "duration": 11,
    "start_time": "2024-01-09T18:12:18.284Z"
   },
   {
    "duration": 35,
    "start_time": "2024-01-09T18:12:18.298Z"
   },
   {
    "duration": 11,
    "start_time": "2024-01-09T18:12:18.334Z"
   },
   {
    "duration": 1057,
    "start_time": "2024-01-09T18:12:41.001Z"
   },
   {
    "duration": 72,
    "start_time": "2024-01-09T18:12:42.059Z"
   },
   {
    "duration": 47,
    "start_time": "2024-01-09T18:12:42.133Z"
   },
   {
    "duration": 8,
    "start_time": "2024-01-09T18:12:42.181Z"
   },
   {
    "duration": 56,
    "start_time": "2024-01-09T18:12:42.190Z"
   },
   {
    "duration": 50,
    "start_time": "2024-01-09T18:12:42.247Z"
   },
   {
    "duration": 37,
    "start_time": "2024-01-09T18:12:42.298Z"
   },
   {
    "duration": 58,
    "start_time": "2024-01-09T18:12:42.337Z"
   },
   {
    "duration": 0,
    "start_time": "2024-01-09T18:12:42.397Z"
   },
   {
    "duration": 0,
    "start_time": "2024-01-09T18:12:42.398Z"
   },
   {
    "duration": 0,
    "start_time": "2024-01-09T18:12:42.400Z"
   },
   {
    "duration": 0,
    "start_time": "2024-01-09T18:12:42.401Z"
   },
   {
    "duration": 0,
    "start_time": "2024-01-09T18:12:42.402Z"
   },
   {
    "duration": 0,
    "start_time": "2024-01-09T18:12:42.403Z"
   },
   {
    "duration": 0,
    "start_time": "2024-01-09T18:12:42.404Z"
   },
   {
    "duration": 0,
    "start_time": "2024-01-09T18:12:42.405Z"
   },
   {
    "duration": 0,
    "start_time": "2024-01-09T18:12:42.406Z"
   },
   {
    "duration": 0,
    "start_time": "2024-01-09T18:12:42.407Z"
   },
   {
    "duration": 0,
    "start_time": "2024-01-09T18:12:42.408Z"
   },
   {
    "duration": 0,
    "start_time": "2024-01-09T18:12:42.409Z"
   },
   {
    "duration": 0,
    "start_time": "2024-01-09T18:12:42.410Z"
   },
   {
    "duration": 0,
    "start_time": "2024-01-09T18:12:42.410Z"
   },
   {
    "duration": 0,
    "start_time": "2024-01-09T18:12:42.411Z"
   },
   {
    "duration": 0,
    "start_time": "2024-01-09T18:12:42.412Z"
   },
   {
    "duration": 0,
    "start_time": "2024-01-09T18:12:42.413Z"
   },
   {
    "duration": 0,
    "start_time": "2024-01-09T18:12:42.415Z"
   },
   {
    "duration": 0,
    "start_time": "2024-01-09T18:12:42.415Z"
   },
   {
    "duration": 0,
    "start_time": "2024-01-09T18:12:42.416Z"
   },
   {
    "duration": 0,
    "start_time": "2024-01-09T18:12:42.417Z"
   },
   {
    "duration": 1025,
    "start_time": "2024-01-09T18:13:30.923Z"
   },
   {
    "duration": 72,
    "start_time": "2024-01-09T18:13:31.950Z"
   },
   {
    "duration": 51,
    "start_time": "2024-01-09T18:13:32.023Z"
   },
   {
    "duration": 3,
    "start_time": "2024-01-09T18:13:32.075Z"
   },
   {
    "duration": 43,
    "start_time": "2024-01-09T18:13:32.080Z"
   },
   {
    "duration": 45,
    "start_time": "2024-01-09T18:13:32.124Z"
   },
   {
    "duration": 20,
    "start_time": "2024-01-09T18:13:32.170Z"
   },
   {
    "duration": 75,
    "start_time": "2024-01-09T18:13:32.191Z"
   },
   {
    "duration": 4,
    "start_time": "2024-01-09T18:13:32.267Z"
   },
   {
    "duration": 57,
    "start_time": "2024-01-09T18:13:32.272Z"
   },
   {
    "duration": 263,
    "start_time": "2024-01-09T18:13:32.331Z"
   },
   {
    "duration": 3,
    "start_time": "2024-01-09T18:13:32.596Z"
   },
   {
    "duration": 284,
    "start_time": "2024-01-09T18:13:32.600Z"
   },
   {
    "duration": 173,
    "start_time": "2024-01-09T18:13:32.887Z"
   },
   {
    "duration": 285,
    "start_time": "2024-01-09T18:13:33.062Z"
   },
   {
    "duration": 204,
    "start_time": "2024-01-09T18:13:33.348Z"
   },
   {
    "duration": 295,
    "start_time": "2024-01-09T18:13:33.554Z"
   },
   {
    "duration": 20,
    "start_time": "2024-01-09T18:13:33.850Z"
   },
   {
    "duration": 151,
    "start_time": "2024-01-09T18:13:33.871Z"
   },
   {
    "duration": 5,
    "start_time": "2024-01-09T18:13:34.024Z"
   },
   {
    "duration": 224,
    "start_time": "2024-01-09T18:13:34.030Z"
   },
   {
    "duration": 120,
    "start_time": "2024-01-09T18:13:34.255Z"
   },
   {
    "duration": 4,
    "start_time": "2024-01-09T18:13:34.376Z"
   },
   {
    "duration": 219,
    "start_time": "2024-01-09T18:13:34.382Z"
   },
   {
    "duration": 140,
    "start_time": "2024-01-09T18:13:34.602Z"
   },
   {
    "duration": 9,
    "start_time": "2024-01-09T18:13:34.743Z"
   },
   {
    "duration": 26,
    "start_time": "2024-01-09T18:13:34.754Z"
   },
   {
    "duration": 59,
    "start_time": "2024-01-09T18:13:34.782Z"
   },
   {
    "duration": 34,
    "start_time": "2024-01-09T18:13:34.842Z"
   },
   {
    "duration": 4,
    "start_time": "2024-01-09T18:15:15.513Z"
   },
   {
    "duration": 176,
    "start_time": "2024-01-09T18:15:16.620Z"
   },
   {
    "duration": 3,
    "start_time": "2024-01-09T18:15:24.183Z"
   },
   {
    "duration": 171,
    "start_time": "2024-01-09T18:15:25.027Z"
   },
   {
    "duration": 3,
    "start_time": "2024-01-09T18:15:52.029Z"
   },
   {
    "duration": 166,
    "start_time": "2024-01-09T18:15:52.875Z"
   },
   {
    "duration": 4,
    "start_time": "2024-01-09T18:15:57.825Z"
   },
   {
    "duration": 170,
    "start_time": "2024-01-09T18:15:58.590Z"
   },
   {
    "duration": 3,
    "start_time": "2024-01-09T18:16:21.110Z"
   },
   {
    "duration": 234,
    "start_time": "2024-01-09T18:16:21.880Z"
   },
   {
    "duration": 3,
    "start_time": "2024-01-09T18:16:36.013Z"
   },
   {
    "duration": 170,
    "start_time": "2024-01-09T18:16:36.824Z"
   },
   {
    "duration": 3,
    "start_time": "2024-01-09T18:17:05.853Z"
   },
   {
    "duration": 190,
    "start_time": "2024-01-09T18:17:08.768Z"
   },
   {
    "duration": 3,
    "start_time": "2024-01-09T18:17:14.297Z"
   },
   {
    "duration": 182,
    "start_time": "2024-01-09T18:17:15.129Z"
   },
   {
    "duration": 3,
    "start_time": "2024-01-09T18:18:54.505Z"
   },
   {
    "duration": 234,
    "start_time": "2024-01-09T18:18:55.350Z"
   },
   {
    "duration": 4,
    "start_time": "2024-01-09T18:19:10.380Z"
   },
   {
    "duration": 219,
    "start_time": "2024-01-09T18:19:11.158Z"
   },
   {
    "duration": 4,
    "start_time": "2024-01-09T18:20:08.843Z"
   },
   {
    "duration": 152,
    "start_time": "2024-01-09T18:20:09.698Z"
   },
   {
    "duration": 4,
    "start_time": "2024-01-09T18:21:01.626Z"
   },
   {
    "duration": 225,
    "start_time": "2024-01-09T18:21:03.442Z"
   },
   {
    "duration": 3,
    "start_time": "2024-01-09T18:21:12.074Z"
   },
   {
    "duration": 275,
    "start_time": "2024-01-09T18:21:12.992Z"
   },
   {
    "duration": 4,
    "start_time": "2024-01-09T18:21:31.555Z"
   },
   {
    "duration": 267,
    "start_time": "2024-01-09T18:21:32.443Z"
   },
   {
    "duration": 3,
    "start_time": "2024-01-09T18:21:43.185Z"
   },
   {
    "duration": 156,
    "start_time": "2024-01-09T18:21:44.158Z"
   },
   {
    "duration": 3,
    "start_time": "2024-01-09T18:22:00.005Z"
   },
   {
    "duration": 169,
    "start_time": "2024-01-09T18:22:00.763Z"
   },
   {
    "duration": 3,
    "start_time": "2024-01-09T18:22:22.747Z"
   },
   {
    "duration": 155,
    "start_time": "2024-01-09T18:22:23.590Z"
   },
   {
    "duration": 1088,
    "start_time": "2024-01-09T18:22:29.794Z"
   },
   {
    "duration": 73,
    "start_time": "2024-01-09T18:22:30.883Z"
   },
   {
    "duration": 54,
    "start_time": "2024-01-09T18:22:30.958Z"
   },
   {
    "duration": 3,
    "start_time": "2024-01-09T18:22:31.014Z"
   },
   {
    "duration": 97,
    "start_time": "2024-01-09T18:22:31.019Z"
   },
   {
    "duration": 59,
    "start_time": "2024-01-09T18:22:31.118Z"
   },
   {
    "duration": 39,
    "start_time": "2024-01-09T18:22:31.178Z"
   },
   {
    "duration": 69,
    "start_time": "2024-01-09T18:22:31.218Z"
   },
   {
    "duration": 3,
    "start_time": "2024-01-09T18:22:31.289Z"
   },
   {
    "duration": 42,
    "start_time": "2024-01-09T18:22:31.295Z"
   },
   {
    "duration": 302,
    "start_time": "2024-01-09T18:22:31.339Z"
   },
   {
    "duration": 3,
    "start_time": "2024-01-09T18:22:31.642Z"
   },
   {
    "duration": 286,
    "start_time": "2024-01-09T18:22:31.646Z"
   },
   {
    "duration": 180,
    "start_time": "2024-01-09T18:22:31.933Z"
   },
   {
    "duration": 258,
    "start_time": "2024-01-09T18:22:32.114Z"
   },
   {
    "duration": 193,
    "start_time": "2024-01-09T18:22:32.374Z"
   },
   {
    "duration": 291,
    "start_time": "2024-01-09T18:22:32.568Z"
   },
   {
    "duration": 15,
    "start_time": "2024-01-09T18:22:32.860Z"
   },
   {
    "duration": 145,
    "start_time": "2024-01-09T18:22:32.876Z"
   },
   {
    "duration": 4,
    "start_time": "2024-01-09T18:22:33.023Z"
   },
   {
    "duration": 214,
    "start_time": "2024-01-09T18:22:33.028Z"
   },
   {
    "duration": 120,
    "start_time": "2024-01-09T18:22:33.244Z"
   },
   {
    "duration": 5,
    "start_time": "2024-01-09T18:22:33.365Z"
   },
   {
    "duration": 205,
    "start_time": "2024-01-09T18:22:33.372Z"
   },
   {
    "duration": 155,
    "start_time": "2024-01-09T18:22:33.579Z"
   },
   {
    "duration": 9,
    "start_time": "2024-01-09T18:22:33.736Z"
   },
   {
    "duration": 22,
    "start_time": "2024-01-09T18:22:33.746Z"
   },
   {
    "duration": 32,
    "start_time": "2024-01-09T18:22:33.770Z"
   },
   {
    "duration": 12,
    "start_time": "2024-01-09T18:22:33.803Z"
   },
   {
    "duration": 1069,
    "start_time": "2024-01-09T18:23:12.287Z"
   },
   {
    "duration": 72,
    "start_time": "2024-01-09T18:23:13.358Z"
   },
   {
    "duration": 54,
    "start_time": "2024-01-09T18:23:13.432Z"
   },
   {
    "duration": 4,
    "start_time": "2024-01-09T18:23:13.488Z"
   },
   {
    "duration": 12,
    "start_time": "2024-01-09T18:23:13.494Z"
   },
   {
    "duration": 23,
    "start_time": "2024-01-09T18:23:13.508Z"
   },
   {
    "duration": 11,
    "start_time": "2024-01-09T18:23:13.533Z"
   },
   {
    "duration": 68,
    "start_time": "2024-01-09T18:23:13.545Z"
   },
   {
    "duration": 4,
    "start_time": "2024-01-09T18:23:13.615Z"
   },
   {
    "duration": 14,
    "start_time": "2024-01-09T18:23:13.622Z"
   },
   {
    "duration": 282,
    "start_time": "2024-01-09T18:23:13.638Z"
   },
   {
    "duration": 4,
    "start_time": "2024-01-09T18:23:13.922Z"
   },
   {
    "duration": 349,
    "start_time": "2024-01-09T18:23:13.928Z"
   },
   {
    "duration": 273,
    "start_time": "2024-01-09T18:23:14.279Z"
   },
   {
    "duration": 292,
    "start_time": "2024-01-09T18:23:14.554Z"
   },
   {
    "duration": 301,
    "start_time": "2024-01-09T18:23:14.848Z"
   },
   {
    "duration": 303,
    "start_time": "2024-01-09T18:23:15.151Z"
   },
   {
    "duration": 19,
    "start_time": "2024-01-09T18:23:15.455Z"
   },
   {
    "duration": 236,
    "start_time": "2024-01-09T18:23:15.475Z"
   },
   {
    "duration": 5,
    "start_time": "2024-01-09T18:23:15.713Z"
   },
   {
    "duration": 204,
    "start_time": "2024-01-09T18:23:15.719Z"
   },
   {
    "duration": 119,
    "start_time": "2024-01-09T18:23:15.924Z"
   },
   {
    "duration": 4,
    "start_time": "2024-01-09T18:23:16.044Z"
   },
   {
    "duration": 202,
    "start_time": "2024-01-09T18:23:16.050Z"
   },
   {
    "duration": 147,
    "start_time": "2024-01-09T18:23:16.253Z"
   },
   {
    "duration": 9,
    "start_time": "2024-01-09T18:23:16.402Z"
   },
   {
    "duration": 30,
    "start_time": "2024-01-09T18:23:16.412Z"
   },
   {
    "duration": 37,
    "start_time": "2024-01-09T18:23:16.445Z"
   },
   {
    "duration": 18,
    "start_time": "2024-01-09T18:23:16.484Z"
   },
   {
    "duration": 1038,
    "start_time": "2024-01-09T18:24:11.312Z"
   },
   {
    "duration": 72,
    "start_time": "2024-01-09T18:24:12.351Z"
   },
   {
    "duration": 48,
    "start_time": "2024-01-09T18:24:12.425Z"
   },
   {
    "duration": 11,
    "start_time": "2024-01-09T18:24:12.475Z"
   },
   {
    "duration": 55,
    "start_time": "2024-01-09T18:24:12.487Z"
   },
   {
    "duration": 40,
    "start_time": "2024-01-09T18:24:12.543Z"
   },
   {
    "duration": 30,
    "start_time": "2024-01-09T18:24:12.585Z"
   },
   {
    "duration": 64,
    "start_time": "2024-01-09T18:24:12.617Z"
   },
   {
    "duration": 5,
    "start_time": "2024-01-09T18:24:12.683Z"
   },
   {
    "duration": 52,
    "start_time": "2024-01-09T18:24:12.691Z"
   },
   {
    "duration": 270,
    "start_time": "2024-01-09T18:24:12.745Z"
   },
   {
    "duration": 3,
    "start_time": "2024-01-09T18:24:13.017Z"
   },
   {
    "duration": 269,
    "start_time": "2024-01-09T18:24:13.022Z"
   },
   {
    "duration": 185,
    "start_time": "2024-01-09T18:24:13.292Z"
   },
   {
    "duration": 276,
    "start_time": "2024-01-09T18:24:13.479Z"
   },
   {
    "duration": 212,
    "start_time": "2024-01-09T18:24:13.757Z"
   },
   {
    "duration": 410,
    "start_time": "2024-01-09T18:24:13.970Z"
   },
   {
    "duration": 10,
    "start_time": "2024-01-09T18:24:14.381Z"
   },
   {
    "duration": 311,
    "start_time": "2024-01-09T18:24:14.393Z"
   },
   {
    "duration": 5,
    "start_time": "2024-01-09T18:24:14.706Z"
   },
   {
    "duration": 464,
    "start_time": "2024-01-09T18:24:14.713Z"
   },
   {
    "duration": 233,
    "start_time": "2024-01-09T18:24:15.179Z"
   },
   {
    "duration": 4,
    "start_time": "2024-01-09T18:24:15.413Z"
   },
   {
    "duration": 218,
    "start_time": "2024-01-09T18:24:15.419Z"
   },
   {
    "duration": 162,
    "start_time": "2024-01-09T18:24:15.638Z"
   },
   {
    "duration": 10,
    "start_time": "2024-01-09T18:24:15.801Z"
   },
   {
    "duration": 30,
    "start_time": "2024-01-09T18:24:15.813Z"
   },
   {
    "duration": 86,
    "start_time": "2024-01-09T18:24:15.847Z"
   },
   {
    "duration": 48,
    "start_time": "2024-01-09T18:24:15.934Z"
   },
   {
    "duration": 1117,
    "start_time": "2024-01-09T18:24:34.850Z"
   },
   {
    "duration": 79,
    "start_time": "2024-01-09T18:24:35.969Z"
   },
   {
    "duration": 48,
    "start_time": "2024-01-09T18:24:36.049Z"
   },
   {
    "duration": 3,
    "start_time": "2024-01-09T18:24:36.099Z"
   },
   {
    "duration": 16,
    "start_time": "2024-01-09T18:24:36.104Z"
   },
   {
    "duration": 22,
    "start_time": "2024-01-09T18:24:36.121Z"
   },
   {
    "duration": 17,
    "start_time": "2024-01-09T18:24:36.144Z"
   },
   {
    "duration": 50,
    "start_time": "2024-01-09T18:24:36.166Z"
   },
   {
    "duration": 4,
    "start_time": "2024-01-09T18:24:36.217Z"
   },
   {
    "duration": 28,
    "start_time": "2024-01-09T18:24:36.222Z"
   },
   {
    "duration": 270,
    "start_time": "2024-01-09T18:24:36.251Z"
   },
   {
    "duration": 3,
    "start_time": "2024-01-09T18:24:36.522Z"
   },
   {
    "duration": 271,
    "start_time": "2024-01-09T18:24:36.526Z"
   },
   {
    "duration": 192,
    "start_time": "2024-01-09T18:24:36.800Z"
   },
   {
    "duration": 257,
    "start_time": "2024-01-09T18:24:36.994Z"
   },
   {
    "duration": 201,
    "start_time": "2024-01-09T18:24:37.252Z"
   },
   {
    "duration": 413,
    "start_time": "2024-01-09T18:24:37.454Z"
   },
   {
    "duration": 10,
    "start_time": "2024-01-09T18:24:37.869Z"
   },
   {
    "duration": 309,
    "start_time": "2024-01-09T18:24:37.880Z"
   },
   {
    "duration": 4,
    "start_time": "2024-01-09T18:24:38.190Z"
   },
   {
    "duration": 415,
    "start_time": "2024-01-09T18:24:38.196Z"
   },
   {
    "duration": 232,
    "start_time": "2024-01-09T18:24:38.668Z"
   },
   {
    "duration": 6,
    "start_time": "2024-01-09T18:24:38.902Z"
   },
   {
    "duration": 224,
    "start_time": "2024-01-09T18:24:38.909Z"
   },
   {
    "duration": 142,
    "start_time": "2024-01-09T18:24:39.135Z"
   },
   {
    "duration": 8,
    "start_time": "2024-01-09T18:24:39.279Z"
   },
   {
    "duration": 32,
    "start_time": "2024-01-09T18:24:39.288Z"
   },
   {
    "duration": 73,
    "start_time": "2024-01-09T18:24:39.321Z"
   },
   {
    "duration": 34,
    "start_time": "2024-01-09T18:24:39.396Z"
   },
   {
    "duration": 1079,
    "start_time": "2024-01-09T18:25:42.999Z"
   },
   {
    "duration": 73,
    "start_time": "2024-01-09T18:25:44.079Z"
   },
   {
    "duration": 52,
    "start_time": "2024-01-09T18:25:44.153Z"
   },
   {
    "duration": 3,
    "start_time": "2024-01-09T18:25:44.207Z"
   },
   {
    "duration": 18,
    "start_time": "2024-01-09T18:25:44.212Z"
   },
   {
    "duration": 24,
    "start_time": "2024-01-09T18:25:44.232Z"
   },
   {
    "duration": 25,
    "start_time": "2024-01-09T18:25:44.267Z"
   },
   {
    "duration": 71,
    "start_time": "2024-01-09T18:25:44.293Z"
   },
   {
    "duration": 4,
    "start_time": "2024-01-09T18:25:44.365Z"
   },
   {
    "duration": 12,
    "start_time": "2024-01-09T18:25:44.373Z"
   },
   {
    "duration": 275,
    "start_time": "2024-01-09T18:25:44.387Z"
   },
   {
    "duration": 4,
    "start_time": "2024-01-09T18:25:44.663Z"
   },
   {
    "duration": 276,
    "start_time": "2024-01-09T18:25:44.668Z"
   },
   {
    "duration": 195,
    "start_time": "2024-01-09T18:25:44.946Z"
   },
   {
    "duration": 296,
    "start_time": "2024-01-09T18:25:45.142Z"
   },
   {
    "duration": 248,
    "start_time": "2024-01-09T18:25:45.440Z"
   },
   {
    "duration": 501,
    "start_time": "2024-01-09T18:25:45.689Z"
   },
   {
    "duration": 11,
    "start_time": "2024-01-09T18:25:46.192Z"
   },
   {
    "duration": 308,
    "start_time": "2024-01-09T18:25:46.205Z"
   },
   {
    "duration": 5,
    "start_time": "2024-01-09T18:25:46.566Z"
   },
   {
    "duration": 363,
    "start_time": "2024-01-09T18:25:46.573Z"
   },
   {
    "duration": 136,
    "start_time": "2024-01-09T18:25:46.938Z"
   },
   {
    "duration": 4,
    "start_time": "2024-01-09T18:25:47.075Z"
   },
   {
    "duration": 234,
    "start_time": "2024-01-09T18:25:47.081Z"
   },
   {
    "duration": 152,
    "start_time": "2024-01-09T18:25:47.316Z"
   },
   {
    "duration": 10,
    "start_time": "2024-01-09T18:25:47.469Z"
   },
   {
    "duration": 11,
    "start_time": "2024-01-09T18:25:47.480Z"
   },
   {
    "duration": 35,
    "start_time": "2024-01-09T18:25:47.494Z"
   },
   {
    "duration": 12,
    "start_time": "2024-01-09T18:25:47.530Z"
   },
   {
    "duration": 179,
    "start_time": "2024-01-09T18:26:16.820Z"
   },
   {
    "duration": 196,
    "start_time": "2024-01-09T18:26:28.779Z"
   },
   {
    "duration": 1052,
    "start_time": "2024-01-09T18:26:38.303Z"
   },
   {
    "duration": 72,
    "start_time": "2024-01-09T18:26:39.356Z"
   },
   {
    "duration": 49,
    "start_time": "2024-01-09T18:26:39.430Z"
   },
   {
    "duration": 4,
    "start_time": "2024-01-09T18:26:39.480Z"
   },
   {
    "duration": 38,
    "start_time": "2024-01-09T18:26:39.486Z"
   },
   {
    "duration": 32,
    "start_time": "2024-01-09T18:26:39.525Z"
   },
   {
    "duration": 40,
    "start_time": "2024-01-09T18:26:39.558Z"
   },
   {
    "duration": 50,
    "start_time": "2024-01-09T18:26:39.600Z"
   },
   {
    "duration": 4,
    "start_time": "2024-01-09T18:26:39.651Z"
   },
   {
    "duration": 40,
    "start_time": "2024-01-09T18:26:39.656Z"
   },
   {
    "duration": 255,
    "start_time": "2024-01-09T18:26:39.697Z"
   },
   {
    "duration": 3,
    "start_time": "2024-01-09T18:26:39.954Z"
   },
   {
    "duration": 263,
    "start_time": "2024-01-09T18:26:39.958Z"
   },
   {
    "duration": 201,
    "start_time": "2024-01-09T18:26:40.223Z"
   },
   {
    "duration": 273,
    "start_time": "2024-01-09T18:26:40.425Z"
   },
   {
    "duration": 195,
    "start_time": "2024-01-09T18:26:40.700Z"
   },
   {
    "duration": 264,
    "start_time": "2024-01-09T18:26:40.897Z"
   },
   {
    "duration": 12,
    "start_time": "2024-01-09T18:26:41.162Z"
   },
   {
    "duration": 145,
    "start_time": "2024-01-09T18:26:41.176Z"
   },
   {
    "duration": 4,
    "start_time": "2024-01-09T18:26:41.322Z"
   },
   {
    "duration": 202,
    "start_time": "2024-01-09T18:26:41.328Z"
   },
   {
    "duration": 123,
    "start_time": "2024-01-09T18:26:41.531Z"
   },
   {
    "duration": 4,
    "start_time": "2024-01-09T18:26:41.655Z"
   },
   {
    "duration": 211,
    "start_time": "2024-01-09T18:26:41.667Z"
   },
   {
    "duration": 147,
    "start_time": "2024-01-09T18:26:41.879Z"
   },
   {
    "duration": 9,
    "start_time": "2024-01-09T18:26:42.028Z"
   },
   {
    "duration": 9,
    "start_time": "2024-01-09T18:26:42.038Z"
   },
   {
    "duration": 44,
    "start_time": "2024-01-09T18:26:42.048Z"
   },
   {
    "duration": 32,
    "start_time": "2024-01-09T18:26:42.094Z"
   },
   {
    "duration": 5,
    "start_time": "2024-01-09T18:33:16.477Z"
   },
   {
    "duration": 246,
    "start_time": "2024-01-09T18:33:17.648Z"
   },
   {
    "duration": 1127,
    "start_time": "2024-01-09T18:33:28.460Z"
   },
   {
    "duration": 73,
    "start_time": "2024-01-09T18:33:29.588Z"
   },
   {
    "duration": 57,
    "start_time": "2024-01-09T18:33:29.663Z"
   },
   {
    "duration": 4,
    "start_time": "2024-01-09T18:33:29.722Z"
   },
   {
    "duration": 11,
    "start_time": "2024-01-09T18:33:29.728Z"
   },
   {
    "duration": 24,
    "start_time": "2024-01-09T18:33:29.766Z"
   },
   {
    "duration": 12,
    "start_time": "2024-01-09T18:33:29.791Z"
   },
   {
    "duration": 79,
    "start_time": "2024-01-09T18:33:29.805Z"
   },
   {
    "duration": 4,
    "start_time": "2024-01-09T18:33:29.886Z"
   },
   {
    "duration": 26,
    "start_time": "2024-01-09T18:33:29.892Z"
   },
   {
    "duration": 273,
    "start_time": "2024-01-09T18:33:29.920Z"
   },
   {
    "duration": 4,
    "start_time": "2024-01-09T18:33:30.195Z"
   },
   {
    "duration": 389,
    "start_time": "2024-01-09T18:33:30.200Z"
   },
   {
    "duration": 292,
    "start_time": "2024-01-09T18:33:30.593Z"
   },
   {
    "duration": 367,
    "start_time": "2024-01-09T18:33:30.887Z"
   },
   {
    "duration": 298,
    "start_time": "2024-01-09T18:33:31.256Z"
   },
   {
    "duration": 414,
    "start_time": "2024-01-09T18:33:31.555Z"
   },
   {
    "duration": 10,
    "start_time": "2024-01-09T18:33:31.971Z"
   },
   {
    "duration": 172,
    "start_time": "2024-01-09T18:33:31.982Z"
   },
   {
    "duration": 5,
    "start_time": "2024-01-09T18:33:32.155Z"
   },
   {
    "duration": 223,
    "start_time": "2024-01-09T18:33:32.167Z"
   },
   {
    "duration": 130,
    "start_time": "2024-01-09T18:33:32.392Z"
   },
   {
    "duration": 5,
    "start_time": "2024-01-09T18:33:32.523Z"
   },
   {
    "duration": 237,
    "start_time": "2024-01-09T18:33:32.530Z"
   },
   {
    "duration": 157,
    "start_time": "2024-01-09T18:33:32.768Z"
   },
   {
    "duration": 11,
    "start_time": "2024-01-09T18:33:32.926Z"
   },
   {
    "duration": 21,
    "start_time": "2024-01-09T18:33:32.939Z"
   },
   {
    "duration": 32,
    "start_time": "2024-01-09T18:33:32.967Z"
   },
   {
    "duration": 38,
    "start_time": "2024-01-09T18:33:33.001Z"
   },
   {
    "duration": 1100,
    "start_time": "2024-01-09T18:34:26.720Z"
   },
   {
    "duration": 73,
    "start_time": "2024-01-09T18:34:27.822Z"
   },
   {
    "duration": 52,
    "start_time": "2024-01-09T18:34:27.897Z"
   },
   {
    "duration": 3,
    "start_time": "2024-01-09T18:34:27.951Z"
   },
   {
    "duration": 62,
    "start_time": "2024-01-09T18:34:27.956Z"
   },
   {
    "duration": 17,
    "start_time": "2024-01-09T18:34:28.019Z"
   },
   {
    "duration": 17,
    "start_time": "2024-01-09T18:34:28.038Z"
   },
   {
    "duration": 53,
    "start_time": "2024-01-09T18:34:28.056Z"
   },
   {
    "duration": 4,
    "start_time": "2024-01-09T18:34:28.110Z"
   },
   {
    "duration": 22,
    "start_time": "2024-01-09T18:34:28.116Z"
   },
   {
    "duration": 276,
    "start_time": "2024-01-09T18:34:28.140Z"
   },
   {
    "duration": 3,
    "start_time": "2024-01-09T18:34:28.417Z"
   },
   {
    "duration": 356,
    "start_time": "2024-01-09T18:34:28.422Z"
   },
   {
    "duration": 0,
    "start_time": "2024-01-09T18:34:28.780Z"
   },
   {
    "duration": 0,
    "start_time": "2024-01-09T18:34:28.781Z"
   },
   {
    "duration": 0,
    "start_time": "2024-01-09T18:34:28.782Z"
   },
   {
    "duration": 0,
    "start_time": "2024-01-09T18:34:28.783Z"
   },
   {
    "duration": 0,
    "start_time": "2024-01-09T18:34:28.785Z"
   },
   {
    "duration": 0,
    "start_time": "2024-01-09T18:34:28.786Z"
   },
   {
    "duration": 0,
    "start_time": "2024-01-09T18:34:28.787Z"
   },
   {
    "duration": 0,
    "start_time": "2024-01-09T18:34:28.788Z"
   },
   {
    "duration": 0,
    "start_time": "2024-01-09T18:34:28.789Z"
   },
   {
    "duration": 0,
    "start_time": "2024-01-09T18:34:28.790Z"
   },
   {
    "duration": 0,
    "start_time": "2024-01-09T18:34:28.791Z"
   },
   {
    "duration": 0,
    "start_time": "2024-01-09T18:34:28.792Z"
   },
   {
    "duration": 0,
    "start_time": "2024-01-09T18:34:28.793Z"
   },
   {
    "duration": 0,
    "start_time": "2024-01-09T18:34:28.793Z"
   },
   {
    "duration": 0,
    "start_time": "2024-01-09T18:34:28.795Z"
   },
   {
    "duration": 0,
    "start_time": "2024-01-09T18:34:28.795Z"
   },
   {
    "duration": 1139,
    "start_time": "2024-01-09T18:35:12.010Z"
   },
   {
    "duration": 73,
    "start_time": "2024-01-09T18:35:13.151Z"
   },
   {
    "duration": 52,
    "start_time": "2024-01-09T18:35:13.226Z"
   },
   {
    "duration": 4,
    "start_time": "2024-01-09T18:35:13.279Z"
   },
   {
    "duration": 55,
    "start_time": "2024-01-09T18:35:13.285Z"
   },
   {
    "duration": 42,
    "start_time": "2024-01-09T18:35:13.342Z"
   },
   {
    "duration": 20,
    "start_time": "2024-01-09T18:35:13.386Z"
   },
   {
    "duration": 84,
    "start_time": "2024-01-09T18:35:13.408Z"
   },
   {
    "duration": 4,
    "start_time": "2024-01-09T18:35:13.493Z"
   },
   {
    "duration": 51,
    "start_time": "2024-01-09T18:35:13.499Z"
   },
   {
    "duration": 293,
    "start_time": "2024-01-09T18:35:13.551Z"
   },
   {
    "duration": 3,
    "start_time": "2024-01-09T18:35:13.845Z"
   },
   {
    "duration": 291,
    "start_time": "2024-01-09T18:35:13.850Z"
   },
   {
    "duration": 192,
    "start_time": "2024-01-09T18:35:14.145Z"
   },
   {
    "duration": 305,
    "start_time": "2024-01-09T18:35:14.339Z"
   },
   {
    "duration": 208,
    "start_time": "2024-01-09T18:35:14.646Z"
   },
   {
    "duration": 319,
    "start_time": "2024-01-09T18:35:14.856Z"
   },
   {
    "duration": 10,
    "start_time": "2024-01-09T18:35:15.177Z"
   },
   {
    "duration": 163,
    "start_time": "2024-01-09T18:35:15.189Z"
   },
   {
    "duration": 5,
    "start_time": "2024-01-09T18:35:15.354Z"
   },
   {
    "duration": 224,
    "start_time": "2024-01-09T18:35:15.361Z"
   },
   {
    "duration": 134,
    "start_time": "2024-01-09T18:35:15.587Z"
   },
   {
    "duration": 5,
    "start_time": "2024-01-09T18:35:15.723Z"
   },
   {
    "duration": 221,
    "start_time": "2024-01-09T18:35:15.730Z"
   },
   {
    "duration": 149,
    "start_time": "2024-01-09T18:35:15.952Z"
   },
   {
    "duration": 9,
    "start_time": "2024-01-09T18:35:16.102Z"
   },
   {
    "duration": 12,
    "start_time": "2024-01-09T18:35:16.112Z"
   },
   {
    "duration": 43,
    "start_time": "2024-01-09T18:35:16.125Z"
   },
   {
    "duration": 13,
    "start_time": "2024-01-09T18:35:16.169Z"
   },
   {
    "duration": 1228,
    "start_time": "2024-01-09T18:35:47.100Z"
   },
   {
    "duration": 77,
    "start_time": "2024-01-09T18:35:48.329Z"
   },
   {
    "duration": 50,
    "start_time": "2024-01-09T18:35:48.408Z"
   },
   {
    "duration": 3,
    "start_time": "2024-01-09T18:35:48.460Z"
   },
   {
    "duration": 40,
    "start_time": "2024-01-09T18:35:48.465Z"
   },
   {
    "duration": 48,
    "start_time": "2024-01-09T18:35:48.506Z"
   },
   {
    "duration": 32,
    "start_time": "2024-01-09T18:35:48.555Z"
   },
   {
    "duration": 64,
    "start_time": "2024-01-09T18:35:48.589Z"
   },
   {
    "duration": 4,
    "start_time": "2024-01-09T18:35:48.654Z"
   },
   {
    "duration": 26,
    "start_time": "2024-01-09T18:35:48.660Z"
   },
   {
    "duration": 351,
    "start_time": "2024-01-09T18:35:48.687Z"
   },
   {
    "duration": 4,
    "start_time": "2024-01-09T18:35:49.040Z"
   },
   {
    "duration": 394,
    "start_time": "2024-01-09T18:35:49.045Z"
   },
   {
    "duration": 293,
    "start_time": "2024-01-09T18:35:49.441Z"
   },
   {
    "duration": 455,
    "start_time": "2024-01-09T18:35:49.736Z"
   },
   {
    "duration": 309,
    "start_time": "2024-01-09T18:35:50.192Z"
   },
   {
    "duration": 382,
    "start_time": "2024-01-09T18:35:50.503Z"
   },
   {
    "duration": 10,
    "start_time": "2024-01-09T18:35:50.887Z"
   },
   {
    "duration": 296,
    "start_time": "2024-01-09T18:35:50.899Z"
   },
   {
    "duration": 5,
    "start_time": "2024-01-09T18:35:51.196Z"
   },
   {
    "duration": 511,
    "start_time": "2024-01-09T18:35:51.202Z"
   },
   {
    "duration": 358,
    "start_time": "2024-01-09T18:35:51.714Z"
   },
   {
    "duration": 7,
    "start_time": "2024-01-09T18:35:52.077Z"
   },
   {
    "duration": 444,
    "start_time": "2024-01-09T18:35:52.087Z"
   },
   {
    "duration": 175,
    "start_time": "2024-01-09T18:35:52.532Z"
   },
   {
    "duration": 10,
    "start_time": "2024-01-09T18:35:52.709Z"
   },
   {
    "duration": 32,
    "start_time": "2024-01-09T18:35:52.721Z"
   },
   {
    "duration": 59,
    "start_time": "2024-01-09T18:35:52.757Z"
   },
   {
    "duration": 25,
    "start_time": "2024-01-09T18:35:52.817Z"
   },
   {
    "duration": 1214,
    "start_time": "2024-01-09T18:36:22.059Z"
   },
   {
    "duration": 74,
    "start_time": "2024-01-09T18:36:23.276Z"
   },
   {
    "duration": 59,
    "start_time": "2024-01-09T18:36:23.352Z"
   },
   {
    "duration": 3,
    "start_time": "2024-01-09T18:36:23.413Z"
   },
   {
    "duration": 32,
    "start_time": "2024-01-09T18:36:23.417Z"
   },
   {
    "duration": 16,
    "start_time": "2024-01-09T18:36:23.451Z"
   },
   {
    "duration": 10,
    "start_time": "2024-01-09T18:36:23.469Z"
   },
   {
    "duration": 61,
    "start_time": "2024-01-09T18:36:23.481Z"
   },
   {
    "duration": 4,
    "start_time": "2024-01-09T18:36:23.543Z"
   },
   {
    "duration": 27,
    "start_time": "2024-01-09T18:36:23.549Z"
   },
   {
    "duration": 268,
    "start_time": "2024-01-09T18:36:23.577Z"
   },
   {
    "duration": 3,
    "start_time": "2024-01-09T18:36:23.846Z"
   },
   {
    "duration": 373,
    "start_time": "2024-01-09T18:36:23.851Z"
   },
   {
    "duration": 303,
    "start_time": "2024-01-09T18:36:24.226Z"
   },
   {
    "duration": 652,
    "start_time": "2024-01-09T18:36:24.530Z"
   },
   {
    "duration": 589,
    "start_time": "2024-01-09T18:36:25.184Z"
   },
   {
    "duration": 628,
    "start_time": "2024-01-09T18:36:25.774Z"
   },
   {
    "duration": 10,
    "start_time": "2024-01-09T18:36:26.403Z"
   },
   {
    "duration": 166,
    "start_time": "2024-01-09T18:36:26.415Z"
   },
   {
    "duration": 4,
    "start_time": "2024-01-09T18:36:26.583Z"
   },
   {
    "duration": 212,
    "start_time": "2024-01-09T18:36:26.589Z"
   },
   {
    "duration": 129,
    "start_time": "2024-01-09T18:36:26.802Z"
   },
   {
    "duration": 5,
    "start_time": "2024-01-09T18:36:26.933Z"
   },
   {
    "duration": 207,
    "start_time": "2024-01-09T18:36:26.939Z"
   },
   {
    "duration": 158,
    "start_time": "2024-01-09T18:36:27.147Z"
   },
   {
    "duration": 9,
    "start_time": "2024-01-09T18:36:27.307Z"
   },
   {
    "duration": 20,
    "start_time": "2024-01-09T18:36:27.318Z"
   },
   {
    "duration": 45,
    "start_time": "2024-01-09T18:36:27.341Z"
   },
   {
    "duration": 15,
    "start_time": "2024-01-09T18:36:27.388Z"
   },
   {
    "duration": 1180,
    "start_time": "2024-01-09T18:36:45.312Z"
   },
   {
    "duration": 72,
    "start_time": "2024-01-09T18:36:46.495Z"
   },
   {
    "duration": 51,
    "start_time": "2024-01-09T18:36:46.569Z"
   },
   {
    "duration": 3,
    "start_time": "2024-01-09T18:36:46.622Z"
   },
   {
    "duration": 14,
    "start_time": "2024-01-09T18:36:46.628Z"
   },
   {
    "duration": 37,
    "start_time": "2024-01-09T18:36:46.643Z"
   },
   {
    "duration": 20,
    "start_time": "2024-01-09T18:36:46.682Z"
   },
   {
    "duration": 70,
    "start_time": "2024-01-09T18:36:46.703Z"
   },
   {
    "duration": 4,
    "start_time": "2024-01-09T18:36:46.775Z"
   },
   {
    "duration": 24,
    "start_time": "2024-01-09T18:36:46.780Z"
   },
   {
    "duration": 307,
    "start_time": "2024-01-09T18:36:46.805Z"
   },
   {
    "duration": 4,
    "start_time": "2024-01-09T18:36:47.113Z"
   },
   {
    "duration": 316,
    "start_time": "2024-01-09T18:36:47.118Z"
   },
   {
    "duration": 302,
    "start_time": "2024-01-09T18:36:47.437Z"
   },
   {
    "duration": 561,
    "start_time": "2024-01-09T18:36:47.741Z"
   },
   {
    "duration": 666,
    "start_time": "2024-01-09T18:36:48.304Z"
   },
   {
    "duration": 528,
    "start_time": "2024-01-09T18:36:48.971Z"
   },
   {
    "duration": 14,
    "start_time": "2024-01-09T18:36:49.500Z"
   },
   {
    "duration": 157,
    "start_time": "2024-01-09T18:36:49.515Z"
   },
   {
    "duration": 5,
    "start_time": "2024-01-09T18:36:49.673Z"
   },
   {
    "duration": 205,
    "start_time": "2024-01-09T18:36:49.680Z"
   },
   {
    "duration": 132,
    "start_time": "2024-01-09T18:36:49.887Z"
   },
   {
    "duration": 6,
    "start_time": "2024-01-09T18:36:50.021Z"
   },
   {
    "duration": 225,
    "start_time": "2024-01-09T18:36:50.028Z"
   },
   {
    "duration": 152,
    "start_time": "2024-01-09T18:36:50.255Z"
   },
   {
    "duration": 10,
    "start_time": "2024-01-09T18:36:50.409Z"
   },
   {
    "duration": 32,
    "start_time": "2024-01-09T18:36:50.420Z"
   },
   {
    "duration": 56,
    "start_time": "2024-01-09T18:36:50.454Z"
   },
   {
    "duration": 26,
    "start_time": "2024-01-09T18:36:50.512Z"
   },
   {
    "duration": 1190,
    "start_time": "2024-01-09T18:37:08.555Z"
   },
   {
    "duration": 83,
    "start_time": "2024-01-09T18:37:09.747Z"
   },
   {
    "duration": 63,
    "start_time": "2024-01-09T18:37:09.832Z"
   },
   {
    "duration": 3,
    "start_time": "2024-01-09T18:37:09.896Z"
   },
   {
    "duration": 11,
    "start_time": "2024-01-09T18:37:09.901Z"
   },
   {
    "duration": 16,
    "start_time": "2024-01-09T18:37:09.914Z"
   },
   {
    "duration": 13,
    "start_time": "2024-01-09T18:37:09.932Z"
   },
   {
    "duration": 63,
    "start_time": "2024-01-09T18:37:09.968Z"
   },
   {
    "duration": 5,
    "start_time": "2024-01-09T18:37:10.032Z"
   },
   {
    "duration": 26,
    "start_time": "2024-01-09T18:37:10.038Z"
   },
   {
    "duration": 279,
    "start_time": "2024-01-09T18:37:10.070Z"
   },
   {
    "duration": 3,
    "start_time": "2024-01-09T18:37:10.351Z"
   },
   {
    "duration": 304,
    "start_time": "2024-01-09T18:37:10.355Z"
   },
   {
    "duration": 288,
    "start_time": "2024-01-09T18:37:10.666Z"
   },
   {
    "duration": 409,
    "start_time": "2024-01-09T18:37:10.956Z"
   },
   {
    "duration": 345,
    "start_time": "2024-01-09T18:37:11.367Z"
   },
   {
    "duration": 698,
    "start_time": "2024-01-09T18:37:11.713Z"
   },
   {
    "duration": 19,
    "start_time": "2024-01-09T18:37:12.466Z"
   },
   {
    "duration": 413,
    "start_time": "2024-01-09T18:37:12.487Z"
   },
   {
    "duration": 5,
    "start_time": "2024-01-09T18:37:12.901Z"
   },
   {
    "duration": 521,
    "start_time": "2024-01-09T18:37:12.908Z"
   },
   {
    "duration": 143,
    "start_time": "2024-01-09T18:37:13.431Z"
   },
   {
    "duration": 4,
    "start_time": "2024-01-09T18:37:13.576Z"
   },
   {
    "duration": 215,
    "start_time": "2024-01-09T18:37:13.582Z"
   },
   {
    "duration": 161,
    "start_time": "2024-01-09T18:37:13.798Z"
   },
   {
    "duration": 14,
    "start_time": "2024-01-09T18:37:13.961Z"
   },
   {
    "duration": 25,
    "start_time": "2024-01-09T18:37:13.977Z"
   },
   {
    "duration": 43,
    "start_time": "2024-01-09T18:37:14.003Z"
   },
   {
    "duration": 13,
    "start_time": "2024-01-09T18:37:14.048Z"
   },
   {
    "duration": 1121,
    "start_time": "2024-01-09T18:37:38.139Z"
   },
   {
    "duration": 73,
    "start_time": "2024-01-09T18:37:39.266Z"
   },
   {
    "duration": 121,
    "start_time": "2024-01-09T18:37:39.341Z"
   },
   {
    "duration": 52,
    "start_time": "2024-01-09T18:37:39.463Z"
   },
   {
    "duration": 38,
    "start_time": "2024-01-09T18:37:39.516Z"
   },
   {
    "duration": 34,
    "start_time": "2024-01-09T18:37:39.556Z"
   },
   {
    "duration": 17,
    "start_time": "2024-01-09T18:37:39.592Z"
   },
   {
    "duration": 63,
    "start_time": "2024-01-09T18:37:39.610Z"
   },
   {
    "duration": 5,
    "start_time": "2024-01-09T18:37:39.674Z"
   },
   {
    "duration": 14,
    "start_time": "2024-01-09T18:37:39.680Z"
   },
   {
    "duration": 284,
    "start_time": "2024-01-09T18:37:39.696Z"
   },
   {
    "duration": 4,
    "start_time": "2024-01-09T18:37:39.981Z"
   },
   {
    "duration": 309,
    "start_time": "2024-01-09T18:37:39.987Z"
   },
   {
    "duration": 296,
    "start_time": "2024-01-09T18:37:40.298Z"
   },
   {
    "duration": 398,
    "start_time": "2024-01-09T18:37:40.596Z"
   },
   {
    "duration": 589,
    "start_time": "2024-01-09T18:37:40.996Z"
   },
   {
    "duration": 801,
    "start_time": "2024-01-09T18:37:41.587Z"
   },
   {
    "duration": 10,
    "start_time": "2024-01-09T18:37:42.390Z"
   },
   {
    "duration": 267,
    "start_time": "2024-01-09T18:37:42.402Z"
   },
   {
    "duration": 5,
    "start_time": "2024-01-09T18:37:42.671Z"
   },
   {
    "duration": 234,
    "start_time": "2024-01-09T18:37:42.677Z"
   },
   {
    "duration": 173,
    "start_time": "2024-01-09T18:37:42.913Z"
   },
   {
    "duration": 6,
    "start_time": "2024-01-09T18:37:43.088Z"
   },
   {
    "duration": 253,
    "start_time": "2024-01-09T18:37:43.095Z"
   },
   {
    "duration": 176,
    "start_time": "2024-01-09T18:37:43.349Z"
   },
   {
    "duration": 11,
    "start_time": "2024-01-09T18:37:43.527Z"
   },
   {
    "duration": 31,
    "start_time": "2024-01-09T18:37:43.540Z"
   },
   {
    "duration": 48,
    "start_time": "2024-01-09T18:37:43.573Z"
   },
   {
    "duration": 16,
    "start_time": "2024-01-09T18:37:43.623Z"
   },
   {
    "duration": 1205,
    "start_time": "2024-01-09T18:38:00.650Z"
   },
   {
    "duration": 76,
    "start_time": "2024-01-09T18:38:01.857Z"
   },
   {
    "duration": 61,
    "start_time": "2024-01-09T18:38:01.935Z"
   },
   {
    "duration": 3,
    "start_time": "2024-01-09T18:38:01.998Z"
   },
   {
    "duration": 46,
    "start_time": "2024-01-09T18:38:02.003Z"
   },
   {
    "duration": 49,
    "start_time": "2024-01-09T18:38:02.051Z"
   },
   {
    "duration": 29,
    "start_time": "2024-01-09T18:38:02.102Z"
   },
   {
    "duration": 103,
    "start_time": "2024-01-09T18:38:02.133Z"
   },
   {
    "duration": 4,
    "start_time": "2024-01-09T18:38:02.238Z"
   },
   {
    "duration": 81,
    "start_time": "2024-01-09T18:38:02.244Z"
   },
   {
    "duration": 352,
    "start_time": "2024-01-09T18:38:02.327Z"
   },
   {
    "duration": 3,
    "start_time": "2024-01-09T18:38:02.681Z"
   },
   {
    "duration": 315,
    "start_time": "2024-01-09T18:38:02.686Z"
   },
   {
    "duration": 594,
    "start_time": "2024-01-09T18:38:03.003Z"
   },
   {
    "duration": 710,
    "start_time": "2024-01-09T18:38:03.599Z"
   },
   {
    "duration": 418,
    "start_time": "2024-01-09T18:38:04.311Z"
   },
   {
    "duration": 423,
    "start_time": "2024-01-09T18:38:04.731Z"
   },
   {
    "duration": 17,
    "start_time": "2024-01-09T18:38:05.155Z"
   },
   {
    "duration": 160,
    "start_time": "2024-01-09T18:38:05.174Z"
   },
   {
    "duration": 5,
    "start_time": "2024-01-09T18:38:05.336Z"
   },
   {
    "duration": 264,
    "start_time": "2024-01-09T18:38:05.342Z"
   },
   {
    "duration": 144,
    "start_time": "2024-01-09T18:38:05.608Z"
   },
   {
    "duration": 5,
    "start_time": "2024-01-09T18:38:05.753Z"
   },
   {
    "duration": 222,
    "start_time": "2024-01-09T18:38:05.767Z"
   },
   {
    "duration": 163,
    "start_time": "2024-01-09T18:38:05.991Z"
   },
   {
    "duration": 11,
    "start_time": "2024-01-09T18:38:06.166Z"
   },
   {
    "duration": 10,
    "start_time": "2024-01-09T18:38:06.179Z"
   },
   {
    "duration": 30,
    "start_time": "2024-01-09T18:38:06.190Z"
   },
   {
    "duration": 13,
    "start_time": "2024-01-09T18:38:06.222Z"
   },
   {
    "duration": 1161,
    "start_time": "2024-01-09T18:38:18.830Z"
   },
   {
    "duration": 73,
    "start_time": "2024-01-09T18:38:19.993Z"
   },
   {
    "duration": 60,
    "start_time": "2024-01-09T18:38:20.068Z"
   },
   {
    "duration": 37,
    "start_time": "2024-01-09T18:38:20.130Z"
   },
   {
    "duration": 6,
    "start_time": "2024-01-09T18:38:20.170Z"
   },
   {
    "duration": 27,
    "start_time": "2024-01-09T18:38:20.177Z"
   },
   {
    "duration": 12,
    "start_time": "2024-01-09T18:38:20.205Z"
   },
   {
    "duration": 68,
    "start_time": "2024-01-09T18:38:20.218Z"
   },
   {
    "duration": 4,
    "start_time": "2024-01-09T18:38:20.287Z"
   },
   {
    "duration": 33,
    "start_time": "2024-01-09T18:38:20.293Z"
   },
   {
    "duration": 277,
    "start_time": "2024-01-09T18:38:20.328Z"
   },
   {
    "duration": 4,
    "start_time": "2024-01-09T18:38:20.607Z"
   },
   {
    "duration": 284,
    "start_time": "2024-01-09T18:38:20.612Z"
   },
   {
    "duration": 278,
    "start_time": "2024-01-09T18:38:20.899Z"
   },
   {
    "duration": 390,
    "start_time": "2024-01-09T18:38:21.179Z"
   },
   {
    "duration": 514,
    "start_time": "2024-01-09T18:38:21.570Z"
   },
   {
    "duration": 618,
    "start_time": "2024-01-09T18:38:22.086Z"
   },
   {
    "duration": 67,
    "start_time": "2024-01-09T18:38:22.706Z"
   },
   {
    "duration": 404,
    "start_time": "2024-01-09T18:38:22.775Z"
   },
   {
    "duration": 5,
    "start_time": "2024-01-09T18:38:23.181Z"
   },
   {
    "duration": 265,
    "start_time": "2024-01-09T18:38:23.188Z"
   },
   {
    "duration": 151,
    "start_time": "2024-01-09T18:38:23.454Z"
   },
   {
    "duration": 5,
    "start_time": "2024-01-09T18:38:23.607Z"
   },
   {
    "duration": 253,
    "start_time": "2024-01-09T18:38:23.614Z"
   },
   {
    "duration": 167,
    "start_time": "2024-01-09T18:38:23.869Z"
   },
   {
    "duration": 10,
    "start_time": "2024-01-09T18:38:24.038Z"
   },
   {
    "duration": 24,
    "start_time": "2024-01-09T18:38:24.050Z"
   },
   {
    "duration": 39,
    "start_time": "2024-01-09T18:38:24.076Z"
   },
   {
    "duration": 15,
    "start_time": "2024-01-09T18:38:24.117Z"
   },
   {
    "duration": 1170,
    "start_time": "2024-01-09T18:38:50.301Z"
   },
   {
    "duration": 74,
    "start_time": "2024-01-09T18:38:51.473Z"
   },
   {
    "duration": 55,
    "start_time": "2024-01-09T18:38:51.548Z"
   },
   {
    "duration": 3,
    "start_time": "2024-01-09T18:38:51.605Z"
   },
   {
    "duration": 13,
    "start_time": "2024-01-09T18:38:51.610Z"
   },
   {
    "duration": 20,
    "start_time": "2024-01-09T18:38:51.624Z"
   },
   {
    "duration": 31,
    "start_time": "2024-01-09T18:38:51.646Z"
   },
   {
    "duration": 68,
    "start_time": "2024-01-09T18:38:51.678Z"
   },
   {
    "duration": 22,
    "start_time": "2024-01-09T18:38:51.748Z"
   },
   {
    "duration": 25,
    "start_time": "2024-01-09T18:38:51.772Z"
   },
   {
    "duration": 376,
    "start_time": "2024-01-09T18:38:51.799Z"
   },
   {
    "duration": 4,
    "start_time": "2024-01-09T18:38:52.177Z"
   },
   {
    "duration": 702,
    "start_time": "2024-01-09T18:38:52.183Z"
   },
   {
    "duration": 601,
    "start_time": "2024-01-09T18:38:52.887Z"
   },
   {
    "duration": 407,
    "start_time": "2024-01-09T18:38:53.489Z"
   },
   {
    "duration": 334,
    "start_time": "2024-01-09T18:38:53.898Z"
   },
   {
    "duration": 460,
    "start_time": "2024-01-09T18:38:54.233Z"
   },
   {
    "duration": 16,
    "start_time": "2024-01-09T18:38:54.694Z"
   },
   {
    "duration": 193,
    "start_time": "2024-01-09T18:38:54.712Z"
   },
   {
    "duration": 6,
    "start_time": "2024-01-09T18:38:54.906Z"
   },
   {
    "duration": 238,
    "start_time": "2024-01-09T18:38:54.913Z"
   },
   {
    "duration": 134,
    "start_time": "2024-01-09T18:38:55.153Z"
   },
   {
    "duration": 5,
    "start_time": "2024-01-09T18:38:55.289Z"
   },
   {
    "duration": 236,
    "start_time": "2024-01-09T18:38:55.296Z"
   },
   {
    "duration": 162,
    "start_time": "2024-01-09T18:38:55.534Z"
   },
   {
    "duration": 12,
    "start_time": "2024-01-09T18:38:55.698Z"
   },
   {
    "duration": 11,
    "start_time": "2024-01-09T18:38:55.712Z"
   },
   {
    "duration": 60,
    "start_time": "2024-01-09T18:38:55.727Z"
   },
   {
    "duration": 21,
    "start_time": "2024-01-09T18:38:55.789Z"
   },
   {
    "duration": 228,
    "start_time": "2024-01-09T18:39:27.500Z"
   },
   {
    "duration": 332,
    "start_time": "2024-01-09T18:39:45.097Z"
   },
   {
    "duration": 329,
    "start_time": "2024-01-09T18:39:53.424Z"
   },
   {
    "duration": 241,
    "start_time": "2024-01-09T18:40:27.847Z"
   },
   {
    "duration": 307,
    "start_time": "2024-01-09T18:40:49.323Z"
   },
   {
    "duration": 262,
    "start_time": "2024-01-09T18:41:42.679Z"
   },
   {
    "duration": 166,
    "start_time": "2024-01-09T18:42:00.517Z"
   },
   {
    "duration": 188,
    "start_time": "2024-01-09T18:42:15.833Z"
   },
   {
    "duration": 157,
    "start_time": "2024-01-09T18:42:23.434Z"
   },
   {
    "duration": 1221,
    "start_time": "2024-01-09T18:43:11.253Z"
   },
   {
    "duration": 74,
    "start_time": "2024-01-09T18:43:12.476Z"
   },
   {
    "duration": 58,
    "start_time": "2024-01-09T18:43:12.551Z"
   },
   {
    "duration": 4,
    "start_time": "2024-01-09T18:43:12.611Z"
   },
   {
    "duration": 11,
    "start_time": "2024-01-09T18:43:12.619Z"
   },
   {
    "duration": 60,
    "start_time": "2024-01-09T18:43:12.632Z"
   },
   {
    "duration": 12,
    "start_time": "2024-01-09T18:43:12.694Z"
   },
   {
    "duration": 66,
    "start_time": "2024-01-09T18:43:12.707Z"
   },
   {
    "duration": 4,
    "start_time": "2024-01-09T18:43:12.774Z"
   },
   {
    "duration": 16,
    "start_time": "2024-01-09T18:43:12.779Z"
   },
   {
    "duration": 291,
    "start_time": "2024-01-09T18:43:12.797Z"
   },
   {
    "duration": 3,
    "start_time": "2024-01-09T18:43:13.090Z"
   },
   {
    "duration": 313,
    "start_time": "2024-01-09T18:43:13.095Z"
   },
   {
    "duration": 251,
    "start_time": "2024-01-09T18:43:13.412Z"
   },
   {
    "duration": 348,
    "start_time": "2024-01-09T18:43:13.671Z"
   },
   {
    "duration": 236,
    "start_time": "2024-01-09T18:43:14.021Z"
   },
   {
    "duration": 341,
    "start_time": "2024-01-09T18:43:14.271Z"
   },
   {
    "duration": 12,
    "start_time": "2024-01-09T18:43:14.613Z"
   },
   {
    "duration": 199,
    "start_time": "2024-01-09T18:43:14.627Z"
   },
   {
    "duration": 6,
    "start_time": "2024-01-09T18:43:14.828Z"
   },
   {
    "duration": 289,
    "start_time": "2024-01-09T18:43:14.836Z"
   },
   {
    "duration": 137,
    "start_time": "2024-01-09T18:43:15.127Z"
   },
   {
    "duration": 10,
    "start_time": "2024-01-09T18:43:15.266Z"
   },
   {
    "duration": 241,
    "start_time": "2024-01-09T18:43:15.277Z"
   },
   {
    "duration": 167,
    "start_time": "2024-01-09T18:43:15.519Z"
   },
   {
    "duration": 10,
    "start_time": "2024-01-09T18:43:15.687Z"
   },
   {
    "duration": 18,
    "start_time": "2024-01-09T18:43:15.698Z"
   },
   {
    "duration": 37,
    "start_time": "2024-01-09T18:43:15.717Z"
   },
   {
    "duration": 24,
    "start_time": "2024-01-09T18:43:15.755Z"
   },
   {
    "duration": 53,
    "start_time": "2024-01-09T18:50:17.676Z"
   },
   {
    "duration": 83,
    "start_time": "2024-01-09T18:50:37.853Z"
   },
   {
    "duration": 97,
    "start_time": "2024-01-09T18:50:41.044Z"
   },
   {
    "duration": 56,
    "start_time": "2024-01-09T18:50:47.320Z"
   },
   {
    "duration": 8,
    "start_time": "2024-01-09T18:51:04.598Z"
   },
   {
    "duration": 72,
    "start_time": "2024-01-09T18:52:38.766Z"
   },
   {
    "duration": 68,
    "start_time": "2024-01-09T18:52:58.454Z"
   },
   {
    "duration": 69,
    "start_time": "2024-01-09T18:53:11.387Z"
   },
   {
    "duration": 12,
    "start_time": "2024-01-09T18:53:30.189Z"
   },
   {
    "duration": 15,
    "start_time": "2024-01-09T18:53:36.005Z"
   },
   {
    "duration": 23,
    "start_time": "2024-01-09T18:53:38.963Z"
   },
   {
    "duration": 11,
    "start_time": "2024-01-09T18:53:42.791Z"
   },
   {
    "duration": 18,
    "start_time": "2024-01-09T18:59:49.199Z"
   },
   {
    "duration": 18,
    "start_time": "2024-01-09T19:00:22.893Z"
   },
   {
    "duration": 146,
    "start_time": "2024-01-09T19:02:39.521Z"
   },
   {
    "duration": 145,
    "start_time": "2024-01-09T19:03:11.468Z"
   },
   {
    "duration": 12,
    "start_time": "2024-01-09T19:04:14.196Z"
   },
   {
    "duration": 34,
    "start_time": "2024-01-09T19:05:04.164Z"
   },
   {
    "duration": 15,
    "start_time": "2024-01-09T19:05:06.388Z"
   },
   {
    "duration": 4,
    "start_time": "2024-01-09T19:06:54.031Z"
   },
   {
    "duration": 5,
    "start_time": "2024-01-09T19:07:08.417Z"
   },
   {
    "duration": 5,
    "start_time": "2024-01-09T19:07:11.957Z"
   },
   {
    "duration": 19,
    "start_time": "2024-01-09T19:10:58.969Z"
   },
   {
    "duration": 1136,
    "start_time": "2024-01-09T19:12:53.338Z"
   },
   {
    "duration": 73,
    "start_time": "2024-01-09T19:12:54.483Z"
   },
   {
    "duration": 63,
    "start_time": "2024-01-09T19:12:54.557Z"
   },
   {
    "duration": 3,
    "start_time": "2024-01-09T19:12:54.622Z"
   },
   {
    "duration": 9,
    "start_time": "2024-01-09T19:12:54.627Z"
   },
   {
    "duration": 36,
    "start_time": "2024-01-09T19:12:54.638Z"
   },
   {
    "duration": 15,
    "start_time": "2024-01-09T19:12:54.675Z"
   },
   {
    "duration": 63,
    "start_time": "2024-01-09T19:12:54.691Z"
   },
   {
    "duration": 20,
    "start_time": "2024-01-09T19:12:54.756Z"
   },
   {
    "duration": 284,
    "start_time": "2024-01-09T19:12:54.778Z"
   },
   {
    "duration": 6,
    "start_time": "2024-01-09T19:12:55.067Z"
   },
   {
    "duration": 300,
    "start_time": "2024-01-09T19:12:55.075Z"
   },
   {
    "duration": 9,
    "start_time": "2024-01-09T19:12:55.390Z"
   },
   {
    "duration": 225,
    "start_time": "2024-01-09T19:12:55.400Z"
   },
   {
    "duration": 325,
    "start_time": "2024-01-09T19:12:55.627Z"
   },
   {
    "duration": 234,
    "start_time": "2024-01-09T19:12:55.954Z"
   },
   {
    "duration": 314,
    "start_time": "2024-01-09T19:12:56.190Z"
   },
   {
    "duration": 10,
    "start_time": "2024-01-09T19:12:56.505Z"
   },
   {
    "duration": 178,
    "start_time": "2024-01-09T19:12:56.517Z"
   },
   {
    "duration": 4,
    "start_time": "2024-01-09T19:12:56.696Z"
   },
   {
    "duration": 236,
    "start_time": "2024-01-09T19:12:56.702Z"
   },
   {
    "duration": 146,
    "start_time": "2024-01-09T19:12:56.939Z"
   },
   {
    "duration": 5,
    "start_time": "2024-01-09T19:12:57.086Z"
   },
   {
    "duration": 226,
    "start_time": "2024-01-09T19:12:57.093Z"
   },
   {
    "duration": 174,
    "start_time": "2024-01-09T19:12:57.321Z"
   },
   {
    "duration": 9,
    "start_time": "2024-01-09T19:12:57.497Z"
   },
   {
    "duration": 28,
    "start_time": "2024-01-09T19:12:57.507Z"
   },
   {
    "duration": 45,
    "start_time": "2024-01-09T19:12:57.537Z"
   },
   {
    "duration": 12,
    "start_time": "2024-01-09T19:12:57.584Z"
   },
   {
    "duration": 112,
    "start_time": "2024-01-09T19:29:16.206Z"
   },
   {
    "duration": 4,
    "start_time": "2024-01-09T19:29:21.194Z"
   },
   {
    "duration": 9,
    "start_time": "2024-01-09T19:29:31.293Z"
   },
   {
    "duration": 4,
    "start_time": "2024-01-09T19:29:38.510Z"
   },
   {
    "duration": 4,
    "start_time": "2024-01-09T19:29:45.888Z"
   },
   {
    "duration": 5,
    "start_time": "2024-01-09T19:30:36.255Z"
   },
   {
    "duration": 6,
    "start_time": "2024-01-09T19:30:44.946Z"
   },
   {
    "duration": 4,
    "start_time": "2024-01-09T19:30:50.526Z"
   },
   {
    "duration": 12,
    "start_time": "2024-01-09T19:30:56.839Z"
   },
   {
    "duration": 5,
    "start_time": "2024-01-09T19:31:04.520Z"
   },
   {
    "duration": 10,
    "start_time": "2024-01-09T19:31:36.404Z"
   },
   {
    "duration": 7,
    "start_time": "2024-01-09T19:31:41.187Z"
   },
   {
    "duration": 4,
    "start_time": "2024-01-09T19:32:43.773Z"
   },
   {
    "duration": 4,
    "start_time": "2024-01-09T19:32:48.450Z"
   },
   {
    "duration": 14,
    "start_time": "2024-01-09T19:33:13.567Z"
   },
   {
    "duration": 9,
    "start_time": "2024-01-09T19:33:18.004Z"
   },
   {
    "duration": 8,
    "start_time": "2024-01-09T19:33:38.795Z"
   },
   {
    "duration": 4,
    "start_time": "2024-01-09T19:33:46.425Z"
   },
   {
    "duration": 9,
    "start_time": "2024-01-09T19:33:52.331Z"
   },
   {
    "duration": 5,
    "start_time": "2024-01-09T19:33:57.184Z"
   },
   {
    "duration": 6,
    "start_time": "2024-01-09T19:34:04.874Z"
   },
   {
    "duration": 5,
    "start_time": "2024-01-09T19:35:13.674Z"
   },
   {
    "duration": 6,
    "start_time": "2024-01-09T19:36:15.190Z"
   },
   {
    "duration": 10,
    "start_time": "2024-01-09T19:36:32.865Z"
   },
   {
    "duration": 4,
    "start_time": "2024-01-09T19:41:03.435Z"
   },
   {
    "duration": 8,
    "start_time": "2024-01-09T19:41:17.594Z"
   },
   {
    "duration": 5,
    "start_time": "2024-01-09T19:41:22.366Z"
   },
   {
    "duration": 5,
    "start_time": "2024-01-09T19:41:56.234Z"
   },
   {
    "duration": 79,
    "start_time": "2024-01-09T19:44:31.700Z"
   },
   {
    "duration": 1235,
    "start_time": "2024-01-09T19:48:22.141Z"
   },
   {
    "duration": 74,
    "start_time": "2024-01-09T19:48:23.381Z"
   },
   {
    "duration": 72,
    "start_time": "2024-01-09T19:48:23.456Z"
   },
   {
    "duration": 3,
    "start_time": "2024-01-09T19:48:23.531Z"
   },
   {
    "duration": 20,
    "start_time": "2024-01-09T19:48:23.535Z"
   },
   {
    "duration": 29,
    "start_time": "2024-01-09T19:48:23.570Z"
   },
   {
    "duration": 12,
    "start_time": "2024-01-09T19:48:23.601Z"
   },
   {
    "duration": 7,
    "start_time": "2024-01-09T19:48:23.615Z"
   },
   {
    "duration": 68,
    "start_time": "2024-01-09T19:48:23.623Z"
   },
   {
    "duration": 19,
    "start_time": "2024-01-09T19:48:23.693Z"
   },
   {
    "duration": 313,
    "start_time": "2024-01-09T19:48:23.713Z"
   },
   {
    "duration": 7,
    "start_time": "2024-01-09T19:48:24.028Z"
   },
   {
    "duration": 6,
    "start_time": "2024-01-09T19:48:24.036Z"
   },
   {
    "duration": 314,
    "start_time": "2024-01-09T19:48:24.043Z"
   },
   {
    "duration": 16,
    "start_time": "2024-01-09T19:48:24.368Z"
   },
   {
    "duration": 222,
    "start_time": "2024-01-09T19:48:24.387Z"
   },
   {
    "duration": 297,
    "start_time": "2024-01-09T19:48:24.611Z"
   },
   {
    "duration": 241,
    "start_time": "2024-01-09T19:48:24.910Z"
   },
   {
    "duration": 345,
    "start_time": "2024-01-09T19:48:25.153Z"
   },
   {
    "duration": 11,
    "start_time": "2024-01-09T19:48:25.500Z"
   },
   {
    "duration": 185,
    "start_time": "2024-01-09T19:48:25.513Z"
   },
   {
    "duration": 5,
    "start_time": "2024-01-09T19:48:25.701Z"
   },
   {
    "duration": 217,
    "start_time": "2024-01-09T19:48:25.707Z"
   },
   {
    "duration": 137,
    "start_time": "2024-01-09T19:48:25.926Z"
   },
   {
    "duration": 8,
    "start_time": "2024-01-09T19:48:26.064Z"
   },
   {
    "duration": 223,
    "start_time": "2024-01-09T19:48:26.081Z"
   },
   {
    "duration": 143,
    "start_time": "2024-01-09T19:48:26.306Z"
   },
   {
    "duration": 15,
    "start_time": "2024-01-09T19:48:26.452Z"
   },
   {
    "duration": 34,
    "start_time": "2024-01-09T19:48:26.468Z"
   },
   {
    "duration": 41,
    "start_time": "2024-01-09T19:48:26.503Z"
   },
   {
    "duration": 14,
    "start_time": "2024-01-09T19:48:26.546Z"
   },
   {
    "duration": 1145,
    "start_time": "2024-01-09T19:49:21.674Z"
   },
   {
    "duration": 73,
    "start_time": "2024-01-09T19:49:22.821Z"
   },
   {
    "duration": 56,
    "start_time": "2024-01-09T19:49:22.896Z"
   },
   {
    "duration": 3,
    "start_time": "2024-01-09T19:49:22.954Z"
   },
   {
    "duration": 28,
    "start_time": "2024-01-09T19:49:22.959Z"
   },
   {
    "duration": 28,
    "start_time": "2024-01-09T19:49:22.988Z"
   },
   {
    "duration": 34,
    "start_time": "2024-01-09T19:49:23.018Z"
   },
   {
    "duration": 34,
    "start_time": "2024-01-09T19:49:23.053Z"
   },
   {
    "duration": 72,
    "start_time": "2024-01-09T19:49:23.088Z"
   },
   {
    "duration": 26,
    "start_time": "2024-01-09T19:49:23.161Z"
   },
   {
    "duration": 307,
    "start_time": "2024-01-09T19:49:23.188Z"
   },
   {
    "duration": 4,
    "start_time": "2024-01-09T19:49:23.497Z"
   },
   {
    "duration": 13,
    "start_time": "2024-01-09T19:49:23.502Z"
   },
   {
    "duration": 290,
    "start_time": "2024-01-09T19:49:23.518Z"
   },
   {
    "duration": 9,
    "start_time": "2024-01-09T19:49:23.810Z"
   },
   {
    "duration": 217,
    "start_time": "2024-01-09T19:49:23.821Z"
   },
   {
    "duration": 306,
    "start_time": "2024-01-09T19:49:24.039Z"
   },
   {
    "duration": 243,
    "start_time": "2024-01-09T19:49:24.346Z"
   },
   {
    "duration": 303,
    "start_time": "2024-01-09T19:49:24.591Z"
   },
   {
    "duration": 13,
    "start_time": "2024-01-09T19:49:24.896Z"
   },
   {
    "duration": 180,
    "start_time": "2024-01-09T19:49:24.910Z"
   },
   {
    "duration": 5,
    "start_time": "2024-01-09T19:49:25.092Z"
   },
   {
    "duration": 210,
    "start_time": "2024-01-09T19:49:25.099Z"
   },
   {
    "duration": 146,
    "start_time": "2024-01-09T19:49:25.311Z"
   },
   {
    "duration": 21,
    "start_time": "2024-01-09T19:49:25.458Z"
   },
   {
    "duration": 231,
    "start_time": "2024-01-09T19:49:25.481Z"
   },
   {
    "duration": 141,
    "start_time": "2024-01-09T19:49:25.714Z"
   },
   {
    "duration": 16,
    "start_time": "2024-01-09T19:49:25.868Z"
   },
   {
    "duration": 10,
    "start_time": "2024-01-09T19:49:25.885Z"
   },
   {
    "duration": 26,
    "start_time": "2024-01-09T19:49:25.896Z"
   },
   {
    "duration": 12,
    "start_time": "2024-01-09T19:49:25.923Z"
   }
  ],
  "kernelspec": {
   "display_name": "Python 3 (ipykernel)",
   "language": "python",
   "name": "python3"
  },
  "language_info": {
   "codemirror_mode": {
    "name": "ipython",
    "version": 3
   },
   "file_extension": ".py",
   "mimetype": "text/x-python",
   "name": "python",
   "nbconvert_exporter": "python",
   "pygments_lexer": "ipython3",
   "version": "3.11.9"
  },
  "toc": {
   "base_numbering": 1,
   "nav_menu": {
    "height": "318.993px",
    "width": "625.096px"
   },
   "number_sections": true,
   "sideBar": true,
   "skip_h1_title": true,
   "title_cell": "Table of Contents",
   "title_sidebar": "Contents",
   "toc_cell": false,
   "toc_position": {
    "height": "calc(100% - 180px)",
    "left": "10px",
    "top": "150px",
    "width": "402.075px"
   },
   "toc_section_display": true,
   "toc_window_display": false
  }
 },
 "nbformat": 4,
 "nbformat_minor": 2
}
