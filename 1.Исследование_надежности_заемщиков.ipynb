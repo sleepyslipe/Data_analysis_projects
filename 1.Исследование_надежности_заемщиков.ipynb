{
 "cells": [
  {
   "cell_type": "markdown",
   "id": "386f2ae7",
   "metadata": {
    "deletable": false,
    "editable": false,
    "id": "386f2ae7"
   },
   "source": [
    "# Исследование надежности заемщиков\n"
   ]
  },
  {
   "cell_type": "markdown",
   "id": "ffe86f65",
   "metadata": {
    "deletable": false,
    "editable": false,
    "id": "ffe86f65"
   },
   "source": [
    "Во второй части проекта вы выполните шаги 3 и 4. Их вручную проверит ревьюер.\n",
    "Чтобы вам не пришлось писать код заново для шагов 1 и 2, мы добавили авторские решения в ячейки с кодом. \n",
    "\n"
   ]
  },
  {
   "cell_type": "markdown",
   "id": "26613308",
   "metadata": {
    "deletable": false,
    "editable": false,
    "id": "26613308"
   },
   "source": [
    "## Откройте таблицу и изучите общую информацию о данных"
   ]
  },
  {
   "cell_type": "markdown",
   "id": "3c9f838e",
   "metadata": {
    "deletable": false,
    "editable": false,
    "id": "3c9f838e"
   },
   "source": [
    "**Задание 1. Импортируйте библиотеку pandas. Считайте данные из csv-файла в датафрейм и сохраните в переменную `data`. Путь к файлу:**\n",
    "\n",
    "`/datasets/data.csv`"
   ]
  },
  {
   "cell_type": "code",
   "execution_count": 1,
   "id": "77a68a90",
   "metadata": {
    "deletable": false,
    "id": "77a68a90"
   },
   "outputs": [],
   "source": [
    "import pandas as pd\n",
    "\n",
    "try:\n",
    "    data = pd.read_csv('/datasets/data.csv')\n",
    "except:\n",
    "    data = pd.read_csv('https://code.s3.yandex.net/datasets/data.csv')"
   ]
  },
  {
   "cell_type": "markdown",
   "id": "45365635",
   "metadata": {
    "deletable": false,
    "editable": false,
    "id": "45365635"
   },
   "source": [
    "**Задание 2. Выведите первые 20 строчек датафрейма `data` на экран.**"
   ]
  },
  {
   "cell_type": "code",
   "execution_count": 2,
   "id": "b0451a9a",
   "metadata": {
    "deletable": false,
    "id": "b0451a9a",
    "outputId": "1a8f3ef2-d323-4ec2-ddf7-89670b5944c4"
   },
   "outputs": [
    {
     "data": {
      "text/html": [
       "<div>\n",
       "<style scoped>\n",
       "    .dataframe tbody tr th:only-of-type {\n",
       "        vertical-align: middle;\n",
       "    }\n",
       "\n",
       "    .dataframe tbody tr th {\n",
       "        vertical-align: top;\n",
       "    }\n",
       "\n",
       "    .dataframe thead th {\n",
       "        text-align: right;\n",
       "    }\n",
       "</style>\n",
       "<table border=\"1\" class=\"dataframe\">\n",
       "  <thead>\n",
       "    <tr style=\"text-align: right;\">\n",
       "      <th></th>\n",
       "      <th>children</th>\n",
       "      <th>days_employed</th>\n",
       "      <th>dob_years</th>\n",
       "      <th>education</th>\n",
       "      <th>education_id</th>\n",
       "      <th>family_status</th>\n",
       "      <th>family_status_id</th>\n",
       "      <th>gender</th>\n",
       "      <th>income_type</th>\n",
       "      <th>debt</th>\n",
       "      <th>total_income</th>\n",
       "      <th>purpose</th>\n",
       "    </tr>\n",
       "  </thead>\n",
       "  <tbody>\n",
       "    <tr>\n",
       "      <th>0</th>\n",
       "      <td>1</td>\n",
       "      <td>-8437.673028</td>\n",
       "      <td>42</td>\n",
       "      <td>высшее</td>\n",
       "      <td>0</td>\n",
       "      <td>женат / замужем</td>\n",
       "      <td>0</td>\n",
       "      <td>F</td>\n",
       "      <td>сотрудник</td>\n",
       "      <td>0</td>\n",
       "      <td>253875.639453</td>\n",
       "      <td>покупка жилья</td>\n",
       "    </tr>\n",
       "    <tr>\n",
       "      <th>1</th>\n",
       "      <td>1</td>\n",
       "      <td>-4024.803754</td>\n",
       "      <td>36</td>\n",
       "      <td>среднее</td>\n",
       "      <td>1</td>\n",
       "      <td>женат / замужем</td>\n",
       "      <td>0</td>\n",
       "      <td>F</td>\n",
       "      <td>сотрудник</td>\n",
       "      <td>0</td>\n",
       "      <td>112080.014102</td>\n",
       "      <td>приобретение автомобиля</td>\n",
       "    </tr>\n",
       "    <tr>\n",
       "      <th>2</th>\n",
       "      <td>0</td>\n",
       "      <td>-5623.422610</td>\n",
       "      <td>33</td>\n",
       "      <td>Среднее</td>\n",
       "      <td>1</td>\n",
       "      <td>женат / замужем</td>\n",
       "      <td>0</td>\n",
       "      <td>M</td>\n",
       "      <td>сотрудник</td>\n",
       "      <td>0</td>\n",
       "      <td>145885.952297</td>\n",
       "      <td>покупка жилья</td>\n",
       "    </tr>\n",
       "    <tr>\n",
       "      <th>3</th>\n",
       "      <td>3</td>\n",
       "      <td>-4124.747207</td>\n",
       "      <td>32</td>\n",
       "      <td>среднее</td>\n",
       "      <td>1</td>\n",
       "      <td>женат / замужем</td>\n",
       "      <td>0</td>\n",
       "      <td>M</td>\n",
       "      <td>сотрудник</td>\n",
       "      <td>0</td>\n",
       "      <td>267628.550329</td>\n",
       "      <td>дополнительное образование</td>\n",
       "    </tr>\n",
       "    <tr>\n",
       "      <th>4</th>\n",
       "      <td>0</td>\n",
       "      <td>340266.072047</td>\n",
       "      <td>53</td>\n",
       "      <td>среднее</td>\n",
       "      <td>1</td>\n",
       "      <td>гражданский брак</td>\n",
       "      <td>1</td>\n",
       "      <td>F</td>\n",
       "      <td>пенсионер</td>\n",
       "      <td>0</td>\n",
       "      <td>158616.077870</td>\n",
       "      <td>сыграть свадьбу</td>\n",
       "    </tr>\n",
       "    <tr>\n",
       "      <th>5</th>\n",
       "      <td>0</td>\n",
       "      <td>-926.185831</td>\n",
       "      <td>27</td>\n",
       "      <td>высшее</td>\n",
       "      <td>0</td>\n",
       "      <td>гражданский брак</td>\n",
       "      <td>1</td>\n",
       "      <td>M</td>\n",
       "      <td>компаньон</td>\n",
       "      <td>0</td>\n",
       "      <td>255763.565419</td>\n",
       "      <td>покупка жилья</td>\n",
       "    </tr>\n",
       "    <tr>\n",
       "      <th>6</th>\n",
       "      <td>0</td>\n",
       "      <td>-2879.202052</td>\n",
       "      <td>43</td>\n",
       "      <td>высшее</td>\n",
       "      <td>0</td>\n",
       "      <td>женат / замужем</td>\n",
       "      <td>0</td>\n",
       "      <td>F</td>\n",
       "      <td>компаньон</td>\n",
       "      <td>0</td>\n",
       "      <td>240525.971920</td>\n",
       "      <td>операции с жильем</td>\n",
       "    </tr>\n",
       "    <tr>\n",
       "      <th>7</th>\n",
       "      <td>0</td>\n",
       "      <td>-152.779569</td>\n",
       "      <td>50</td>\n",
       "      <td>СРЕДНЕЕ</td>\n",
       "      <td>1</td>\n",
       "      <td>женат / замужем</td>\n",
       "      <td>0</td>\n",
       "      <td>M</td>\n",
       "      <td>сотрудник</td>\n",
       "      <td>0</td>\n",
       "      <td>135823.934197</td>\n",
       "      <td>образование</td>\n",
       "    </tr>\n",
       "    <tr>\n",
       "      <th>8</th>\n",
       "      <td>2</td>\n",
       "      <td>-6929.865299</td>\n",
       "      <td>35</td>\n",
       "      <td>ВЫСШЕЕ</td>\n",
       "      <td>0</td>\n",
       "      <td>гражданский брак</td>\n",
       "      <td>1</td>\n",
       "      <td>F</td>\n",
       "      <td>сотрудник</td>\n",
       "      <td>0</td>\n",
       "      <td>95856.832424</td>\n",
       "      <td>на проведение свадьбы</td>\n",
       "    </tr>\n",
       "    <tr>\n",
       "      <th>9</th>\n",
       "      <td>0</td>\n",
       "      <td>-2188.756445</td>\n",
       "      <td>41</td>\n",
       "      <td>среднее</td>\n",
       "      <td>1</td>\n",
       "      <td>женат / замужем</td>\n",
       "      <td>0</td>\n",
       "      <td>M</td>\n",
       "      <td>сотрудник</td>\n",
       "      <td>0</td>\n",
       "      <td>144425.938277</td>\n",
       "      <td>покупка жилья для семьи</td>\n",
       "    </tr>\n",
       "    <tr>\n",
       "      <th>10</th>\n",
       "      <td>2</td>\n",
       "      <td>-4171.483647</td>\n",
       "      <td>36</td>\n",
       "      <td>высшее</td>\n",
       "      <td>0</td>\n",
       "      <td>женат / замужем</td>\n",
       "      <td>0</td>\n",
       "      <td>M</td>\n",
       "      <td>компаньон</td>\n",
       "      <td>0</td>\n",
       "      <td>113943.491460</td>\n",
       "      <td>покупка недвижимости</td>\n",
       "    </tr>\n",
       "    <tr>\n",
       "      <th>11</th>\n",
       "      <td>0</td>\n",
       "      <td>-792.701887</td>\n",
       "      <td>40</td>\n",
       "      <td>среднее</td>\n",
       "      <td>1</td>\n",
       "      <td>женат / замужем</td>\n",
       "      <td>0</td>\n",
       "      <td>F</td>\n",
       "      <td>сотрудник</td>\n",
       "      <td>0</td>\n",
       "      <td>77069.234271</td>\n",
       "      <td>покупка коммерческой недвижимости</td>\n",
       "    </tr>\n",
       "    <tr>\n",
       "      <th>12</th>\n",
       "      <td>0</td>\n",
       "      <td>NaN</td>\n",
       "      <td>65</td>\n",
       "      <td>среднее</td>\n",
       "      <td>1</td>\n",
       "      <td>гражданский брак</td>\n",
       "      <td>1</td>\n",
       "      <td>M</td>\n",
       "      <td>пенсионер</td>\n",
       "      <td>0</td>\n",
       "      <td>NaN</td>\n",
       "      <td>сыграть свадьбу</td>\n",
       "    </tr>\n",
       "    <tr>\n",
       "      <th>13</th>\n",
       "      <td>0</td>\n",
       "      <td>-1846.641941</td>\n",
       "      <td>54</td>\n",
       "      <td>неоконченное высшее</td>\n",
       "      <td>2</td>\n",
       "      <td>женат / замужем</td>\n",
       "      <td>0</td>\n",
       "      <td>F</td>\n",
       "      <td>сотрудник</td>\n",
       "      <td>0</td>\n",
       "      <td>130458.228857</td>\n",
       "      <td>приобретение автомобиля</td>\n",
       "    </tr>\n",
       "    <tr>\n",
       "      <th>14</th>\n",
       "      <td>0</td>\n",
       "      <td>-1844.956182</td>\n",
       "      <td>56</td>\n",
       "      <td>высшее</td>\n",
       "      <td>0</td>\n",
       "      <td>гражданский брак</td>\n",
       "      <td>1</td>\n",
       "      <td>F</td>\n",
       "      <td>компаньон</td>\n",
       "      <td>1</td>\n",
       "      <td>165127.911772</td>\n",
       "      <td>покупка жилой недвижимости</td>\n",
       "    </tr>\n",
       "    <tr>\n",
       "      <th>15</th>\n",
       "      <td>1</td>\n",
       "      <td>-972.364419</td>\n",
       "      <td>26</td>\n",
       "      <td>среднее</td>\n",
       "      <td>1</td>\n",
       "      <td>женат / замужем</td>\n",
       "      <td>0</td>\n",
       "      <td>F</td>\n",
       "      <td>сотрудник</td>\n",
       "      <td>0</td>\n",
       "      <td>116820.904450</td>\n",
       "      <td>строительство собственной недвижимости</td>\n",
       "    </tr>\n",
       "    <tr>\n",
       "      <th>16</th>\n",
       "      <td>0</td>\n",
       "      <td>-1719.934226</td>\n",
       "      <td>35</td>\n",
       "      <td>среднее</td>\n",
       "      <td>1</td>\n",
       "      <td>женат / замужем</td>\n",
       "      <td>0</td>\n",
       "      <td>F</td>\n",
       "      <td>сотрудник</td>\n",
       "      <td>0</td>\n",
       "      <td>289202.704229</td>\n",
       "      <td>недвижимость</td>\n",
       "    </tr>\n",
       "    <tr>\n",
       "      <th>17</th>\n",
       "      <td>0</td>\n",
       "      <td>-2369.999720</td>\n",
       "      <td>33</td>\n",
       "      <td>высшее</td>\n",
       "      <td>0</td>\n",
       "      <td>гражданский брак</td>\n",
       "      <td>1</td>\n",
       "      <td>M</td>\n",
       "      <td>сотрудник</td>\n",
       "      <td>0</td>\n",
       "      <td>90410.586745</td>\n",
       "      <td>строительство недвижимости</td>\n",
       "    </tr>\n",
       "    <tr>\n",
       "      <th>18</th>\n",
       "      <td>0</td>\n",
       "      <td>400281.136913</td>\n",
       "      <td>53</td>\n",
       "      <td>среднее</td>\n",
       "      <td>1</td>\n",
       "      <td>вдовец / вдова</td>\n",
       "      <td>2</td>\n",
       "      <td>F</td>\n",
       "      <td>пенсионер</td>\n",
       "      <td>0</td>\n",
       "      <td>56823.777243</td>\n",
       "      <td>на покупку подержанного автомобиля</td>\n",
       "    </tr>\n",
       "    <tr>\n",
       "      <th>19</th>\n",
       "      <td>0</td>\n",
       "      <td>-10038.818549</td>\n",
       "      <td>48</td>\n",
       "      <td>СРЕДНЕЕ</td>\n",
       "      <td>1</td>\n",
       "      <td>в разводе</td>\n",
       "      <td>3</td>\n",
       "      <td>F</td>\n",
       "      <td>сотрудник</td>\n",
       "      <td>0</td>\n",
       "      <td>242831.107982</td>\n",
       "      <td>на покупку своего автомобиля</td>\n",
       "    </tr>\n",
       "  </tbody>\n",
       "</table>\n",
       "</div>"
      ],
      "text/plain": [
       "    children  days_employed  dob_years            education  education_id  \\\n",
       "0          1   -8437.673028         42               высшее             0   \n",
       "1          1   -4024.803754         36              среднее             1   \n",
       "2          0   -5623.422610         33              Среднее             1   \n",
       "3          3   -4124.747207         32              среднее             1   \n",
       "4          0  340266.072047         53              среднее             1   \n",
       "5          0    -926.185831         27               высшее             0   \n",
       "6          0   -2879.202052         43               высшее             0   \n",
       "7          0    -152.779569         50              СРЕДНЕЕ             1   \n",
       "8          2   -6929.865299         35               ВЫСШЕЕ             0   \n",
       "9          0   -2188.756445         41              среднее             1   \n",
       "10         2   -4171.483647         36               высшее             0   \n",
       "11         0    -792.701887         40              среднее             1   \n",
       "12         0            NaN         65              среднее             1   \n",
       "13         0   -1846.641941         54  неоконченное высшее             2   \n",
       "14         0   -1844.956182         56               высшее             0   \n",
       "15         1    -972.364419         26              среднее             1   \n",
       "16         0   -1719.934226         35              среднее             1   \n",
       "17         0   -2369.999720         33               высшее             0   \n",
       "18         0  400281.136913         53              среднее             1   \n",
       "19         0  -10038.818549         48              СРЕДНЕЕ             1   \n",
       "\n",
       "       family_status  family_status_id gender income_type  debt  \\\n",
       "0    женат / замужем                 0      F   сотрудник     0   \n",
       "1    женат / замужем                 0      F   сотрудник     0   \n",
       "2    женат / замужем                 0      M   сотрудник     0   \n",
       "3    женат / замужем                 0      M   сотрудник     0   \n",
       "4   гражданский брак                 1      F   пенсионер     0   \n",
       "5   гражданский брак                 1      M   компаньон     0   \n",
       "6    женат / замужем                 0      F   компаньон     0   \n",
       "7    женат / замужем                 0      M   сотрудник     0   \n",
       "8   гражданский брак                 1      F   сотрудник     0   \n",
       "9    женат / замужем                 0      M   сотрудник     0   \n",
       "10   женат / замужем                 0      M   компаньон     0   \n",
       "11   женат / замужем                 0      F   сотрудник     0   \n",
       "12  гражданский брак                 1      M   пенсионер     0   \n",
       "13   женат / замужем                 0      F   сотрудник     0   \n",
       "14  гражданский брак                 1      F   компаньон     1   \n",
       "15   женат / замужем                 0      F   сотрудник     0   \n",
       "16   женат / замужем                 0      F   сотрудник     0   \n",
       "17  гражданский брак                 1      M   сотрудник     0   \n",
       "18    вдовец / вдова                 2      F   пенсионер     0   \n",
       "19         в разводе                 3      F   сотрудник     0   \n",
       "\n",
       "     total_income                                 purpose  \n",
       "0   253875.639453                           покупка жилья  \n",
       "1   112080.014102                 приобретение автомобиля  \n",
       "2   145885.952297                           покупка жилья  \n",
       "3   267628.550329              дополнительное образование  \n",
       "4   158616.077870                         сыграть свадьбу  \n",
       "5   255763.565419                           покупка жилья  \n",
       "6   240525.971920                       операции с жильем  \n",
       "7   135823.934197                             образование  \n",
       "8    95856.832424                   на проведение свадьбы  \n",
       "9   144425.938277                 покупка жилья для семьи  \n",
       "10  113943.491460                    покупка недвижимости  \n",
       "11   77069.234271       покупка коммерческой недвижимости  \n",
       "12            NaN                         сыграть свадьбу  \n",
       "13  130458.228857                 приобретение автомобиля  \n",
       "14  165127.911772              покупка жилой недвижимости  \n",
       "15  116820.904450  строительство собственной недвижимости  \n",
       "16  289202.704229                            недвижимость  \n",
       "17   90410.586745              строительство недвижимости  \n",
       "18   56823.777243      на покупку подержанного автомобиля  \n",
       "19  242831.107982            на покупку своего автомобиля  "
      ]
     },
     "execution_count": 2,
     "metadata": {},
     "output_type": "execute_result"
    }
   ],
   "source": [
    "data.head(20)"
   ]
  },
  {
   "cell_type": "markdown",
   "id": "0ed8f27f",
   "metadata": {
    "deletable": false,
    "editable": false,
    "id": "0ed8f27f"
   },
   "source": [
    "**Задание 3. Выведите основную информацию о датафрейме с помощью метода `info()`.**"
   ]
  },
  {
   "cell_type": "code",
   "execution_count": 3,
   "id": "ab3f863b",
   "metadata": {
    "deletable": false,
    "id": "ab3f863b",
    "outputId": "15376089-8dad-46c9-b520-c05248d43158"
   },
   "outputs": [
    {
     "name": "stdout",
     "output_type": "stream",
     "text": [
      "<class 'pandas.core.frame.DataFrame'>\n",
      "RangeIndex: 21525 entries, 0 to 21524\n",
      "Data columns (total 12 columns):\n",
      " #   Column            Non-Null Count  Dtype  \n",
      "---  ------            --------------  -----  \n",
      " 0   children          21525 non-null  int64  \n",
      " 1   days_employed     19351 non-null  float64\n",
      " 2   dob_years         21525 non-null  int64  \n",
      " 3   education         21525 non-null  object \n",
      " 4   education_id      21525 non-null  int64  \n",
      " 5   family_status     21525 non-null  object \n",
      " 6   family_status_id  21525 non-null  int64  \n",
      " 7   gender            21525 non-null  object \n",
      " 8   income_type       21525 non-null  object \n",
      " 9   debt              21525 non-null  int64  \n",
      " 10  total_income      19351 non-null  float64\n",
      " 11  purpose           21525 non-null  object \n",
      "dtypes: float64(2), int64(5), object(5)\n",
      "memory usage: 2.0+ MB\n"
     ]
    }
   ],
   "source": [
    "data.info()"
   ]
  },
  {
   "cell_type": "markdown",
   "id": "60e3e22d",
   "metadata": {
    "deletable": false,
    "editable": false,
    "id": "60e3e22d"
   },
   "source": [
    "## Предобработка данных"
   ]
  },
  {
   "cell_type": "markdown",
   "id": "03dc170c",
   "metadata": {
    "deletable": false,
    "editable": false,
    "id": "03dc170c"
   },
   "source": [
    "### Удаление пропусков"
   ]
  },
  {
   "cell_type": "markdown",
   "id": "a4f54eef",
   "metadata": {
    "deletable": false,
    "editable": false,
    "id": "a4f54eef"
   },
   "source": [
    "**Задание 4. Выведите количество пропущенных значений для каждого столбца. Используйте комбинацию двух методов.**"
   ]
  },
  {
   "cell_type": "code",
   "execution_count": 4,
   "id": "2dc372b2",
   "metadata": {
    "deletable": false,
    "id": "2dc372b2",
    "outputId": "81f4d817-781c-465c-ed15-91ce4446810d"
   },
   "outputs": [
    {
     "data": {
      "text/plain": [
       "children               0\n",
       "days_employed       2174\n",
       "dob_years              0\n",
       "education              0\n",
       "education_id           0\n",
       "family_status          0\n",
       "family_status_id       0\n",
       "gender                 0\n",
       "income_type            0\n",
       "debt                   0\n",
       "total_income        2174\n",
       "purpose                0\n",
       "dtype: int64"
      ]
     },
     "execution_count": 4,
     "metadata": {},
     "output_type": "execute_result"
    }
   ],
   "source": [
    "data.isna().sum()"
   ]
  },
  {
   "cell_type": "markdown",
   "id": "14f011b1",
   "metadata": {
    "deletable": false,
    "editable": false,
    "id": "14f011b1"
   },
   "source": [
    "**Задание 5. В двух столбцах есть пропущенные значения. Один из них — `days_employed`. Пропуски в этом столбце вы обработаете на следующем этапе. Другой столбец с пропущенными значениями — `total_income` — хранит данные о доходах. На сумму дохода сильнее всего влияет тип занятости, поэтому заполнить пропуски в этом столбце нужно медианным значением по каждому типу из столбца `income_type`. Например, у человека с типом занятости `сотрудник` пропуск в столбце `total_income` должен быть заполнен медианным доходом среди всех записей с тем же типом.**"
   ]
  },
  {
   "cell_type": "code",
   "execution_count": 5,
   "id": "bdabfb6e",
   "metadata": {
    "deletable": false,
    "id": "bdabfb6e"
   },
   "outputs": [],
   "source": [
    "for t in data['income_type'].unique():\n",
    "    data.loc[(data['income_type'] == t) & (data['total_income'].isna()), 'total_income'] = \\\n",
    "    data.loc[(data['income_type'] == t), 'total_income'].median()"
   ]
  },
  {
   "cell_type": "markdown",
   "id": "5be34059",
   "metadata": {
    "deletable": false,
    "editable": false,
    "id": "5be34059"
   },
   "source": [
    "### Обработка аномальных значений"
   ]
  },
  {
   "cell_type": "markdown",
   "id": "a87606cb",
   "metadata": {
    "deletable": false,
    "editable": false,
    "id": "a87606cb"
   },
   "source": [
    "**Задание 6. В данных могут встречаться артефакты (аномалии) — значения, которые не отражают действительность и появились по какой-то ошибке. таким артефактом будет отрицательное количество дней трудового стажа в столбце `days_employed`. Для реальных данных это нормально. Обработайте значения в этом столбце: замените все отрицательные значения положительными с помощью метода `abs()`.**"
   ]
  },
  {
   "cell_type": "code",
   "execution_count": 6,
   "id": "020c46cc",
   "metadata": {
    "deletable": false,
    "id": "020c46cc"
   },
   "outputs": [],
   "source": [
    "data['days_employed'] = data['days_employed'].abs()"
   ]
  },
  {
   "cell_type": "markdown",
   "id": "45538a3a",
   "metadata": {
    "deletable": false,
    "editable": false,
    "id": "45538a3a"
   },
   "source": [
    "**Задание 7. Для каждого типа занятости выведите медианное значение трудового стажа `days_employed` в днях.**"
   ]
  },
  {
   "cell_type": "code",
   "execution_count": 7,
   "id": "cd3e6328",
   "metadata": {
    "deletable": false,
    "id": "cd3e6328",
    "outputId": "801ef80e-522b-4668-f34e-565af7432bcf"
   },
   "outputs": [
    {
     "data": {
      "text/plain": [
       "income_type\n",
       "безработный        366413.652744\n",
       "в декрете            3296.759962\n",
       "госслужащий          2689.368353\n",
       "компаньон            1547.382223\n",
       "пенсионер          365213.306266\n",
       "предприниматель       520.848083\n",
       "сотрудник            1574.202821\n",
       "студент               578.751554\n",
       "Name: days_employed, dtype: float64"
      ]
     },
     "execution_count": 7,
     "metadata": {},
     "output_type": "execute_result"
    }
   ],
   "source": [
    "data.groupby('income_type')['days_employed'].agg('median')"
   ]
  },
  {
   "cell_type": "markdown",
   "id": "90c5f058",
   "metadata": {
    "deletable": false,
    "editable": false,
    "id": "90c5f058"
   },
   "source": [
    "У двух типов (безработные и пенсионеры) получатся аномально большие значения. Исправить такие значения сложно, поэтому оставьте их как есть."
   ]
  },
  {
   "cell_type": "markdown",
   "id": "9652e50d",
   "metadata": {
    "deletable": false,
    "editable": false,
    "id": "9652e50d"
   },
   "source": [
    "**Задание 8. Выведите перечень уникальных значений столбца `children`.**"
   ]
  },
  {
   "cell_type": "code",
   "execution_count": 8,
   "id": "dbb37b8e",
   "metadata": {
    "deletable": false,
    "id": "dbb37b8e",
    "outputId": "6975b15c-7f95-4697-d16d-a0c79b657b03"
   },
   "outputs": [
    {
     "data": {
      "text/plain": [
       "array([ 1,  0,  3,  2, -1,  4, 20,  5])"
      ]
     },
     "execution_count": 8,
     "metadata": {},
     "output_type": "execute_result"
    }
   ],
   "source": [
    "data['children'].unique()"
   ]
  },
  {
   "cell_type": "markdown",
   "id": "2b8b0715",
   "metadata": {
    "deletable": false,
    "editable": false,
    "id": "2b8b0715"
   },
   "source": [
    "**Задание 9. В столбце `children` есть два аномальных значения. Удалите строки, в которых встречаются такие аномальные значения из датафрейма `data`.**"
   ]
  },
  {
   "cell_type": "code",
   "execution_count": 9,
   "id": "20009df8",
   "metadata": {
    "deletable": false,
    "id": "20009df8"
   },
   "outputs": [],
   "source": [
    "data = data[(data['children'] != -1) & (data['children'] != 20)]"
   ]
  },
  {
   "cell_type": "markdown",
   "id": "8c6ac9f1",
   "metadata": {
    "deletable": false,
    "editable": false,
    "id": "8c6ac9f1"
   },
   "source": [
    "**Задание 10. Ещё раз выведите перечень уникальных значений столбца `children`, чтобы убедиться, что артефакты удалены.**"
   ]
  },
  {
   "cell_type": "code",
   "execution_count": 10,
   "id": "07337b81",
   "metadata": {
    "deletable": false,
    "id": "07337b81",
    "outputId": "b2097101-d49d-44d9-901b-32a65c9463d1"
   },
   "outputs": [
    {
     "data": {
      "text/plain": [
       "array([1, 0, 3, 2, 4, 5])"
      ]
     },
     "execution_count": 10,
     "metadata": {},
     "output_type": "execute_result"
    }
   ],
   "source": [
    "data['children'].unique()"
   ]
  },
  {
   "cell_type": "markdown",
   "id": "ee3f52d4",
   "metadata": {
    "deletable": false,
    "editable": false,
    "id": "ee3f52d4"
   },
   "source": [
    "### Удаление пропусков (продолжение)"
   ]
  },
  {
   "cell_type": "markdown",
   "id": "a700b0e4",
   "metadata": {
    "deletable": false,
    "editable": false,
    "id": "a700b0e4"
   },
   "source": [
    "**Задание 11. Заполните пропуски в столбце `days_employed` медианными значениями по каждого типа занятости `income_type`.**"
   ]
  },
  {
   "cell_type": "code",
   "execution_count": 11,
   "id": "61946b83",
   "metadata": {
    "deletable": false,
    "id": "61946b83"
   },
   "outputs": [],
   "source": [
    "for t in data['income_type'].unique():\n",
    "    data.loc[(data['income_type'] == t) & (data['days_employed'].isna()), 'days_employed'] = \\\n",
    "    data.loc[(data['income_type'] == t), 'days_employed'].median()"
   ]
  },
  {
   "cell_type": "markdown",
   "id": "550dcd9b",
   "metadata": {
    "deletable": false,
    "editable": false,
    "id": "550dcd9b"
   },
   "source": [
    "**Задание 12. Убедитесь, что все пропуски заполнены. Проверьте себя и ещё раз выведите количество пропущенных значений для каждого столбца с помощью двух методов.**"
   ]
  },
  {
   "cell_type": "code",
   "execution_count": 12,
   "id": "937c7014",
   "metadata": {
    "deletable": false,
    "id": "937c7014",
    "outputId": "8da1e4e1-358e-4e87-98c9-f261bce0a7b2"
   },
   "outputs": [
    {
     "data": {
      "text/plain": [
       "children            0\n",
       "days_employed       0\n",
       "dob_years           0\n",
       "education           0\n",
       "education_id        0\n",
       "family_status       0\n",
       "family_status_id    0\n",
       "gender              0\n",
       "income_type         0\n",
       "debt                0\n",
       "total_income        0\n",
       "purpose             0\n",
       "dtype: int64"
      ]
     },
     "execution_count": 12,
     "metadata": {},
     "output_type": "execute_result"
    }
   ],
   "source": [
    "data.isna().sum()"
   ]
  },
  {
   "cell_type": "markdown",
   "id": "d522e295",
   "metadata": {
    "deletable": false,
    "editable": false,
    "id": "d522e295"
   },
   "source": [
    "### Изменение типов данных"
   ]
  },
  {
   "cell_type": "markdown",
   "id": "c229c581",
   "metadata": {
    "deletable": false,
    "editable": false,
    "id": "c229c581"
   },
   "source": [
    "**Задание 13. Замените вещественный тип данных в столбце `total_income` на целочисленный с помощью метода `astype()`.**"
   ]
  },
  {
   "cell_type": "code",
   "execution_count": 13,
   "id": "31036462",
   "metadata": {
    "deletable": false,
    "id": "31036462"
   },
   "outputs": [],
   "source": [
    "data['total_income'] = data['total_income'].astype(int)"
   ]
  },
  {
   "cell_type": "markdown",
   "id": "b8e3d1d9",
   "metadata": {
    "deletable": false,
    "editable": false,
    "id": "b8e3d1d9"
   },
   "source": [
    "### Обработка дубликатов"
   ]
  },
  {
   "cell_type": "markdown",
   "id": "9be53c49",
   "metadata": {
    "deletable": false,
    "editable": false,
    "id": "9be53c49"
   },
   "source": [
    "**Задание 14. Обработайте неявные дубликаты в столбце `education`. В этом столбце есть одни и те же значения, но записанные по-разному: с использованием заглавных и строчных букв. Приведите их к нижнему регистру.**"
   ]
  },
  {
   "cell_type": "code",
   "execution_count": 14,
   "id": "d89e73e1",
   "metadata": {
    "deletable": false,
    "id": "d89e73e1"
   },
   "outputs": [],
   "source": [
    "data['education'] = data['education'].str.lower()"
   ]
  },
  {
   "cell_type": "markdown",
   "id": "01d4500e",
   "metadata": {
    "deletable": false,
    "editable": false,
    "id": "01d4500e"
   },
   "source": [
    "**Задание 15. Выведите на экран количество строк-дубликатов в данных. Если такие строки присутствуют, удалите их.**"
   ]
  },
  {
   "cell_type": "code",
   "execution_count": 15,
   "id": "e10efb23",
   "metadata": {
    "deletable": false,
    "id": "e10efb23",
    "outputId": "9684deba-1934-42d1-99e1-cda61740f822"
   },
   "outputs": [
    {
     "data": {
      "text/plain": [
       "71"
      ]
     },
     "execution_count": 15,
     "metadata": {},
     "output_type": "execute_result"
    }
   ],
   "source": [
    "data.duplicated().sum()"
   ]
  },
  {
   "cell_type": "code",
   "execution_count": 16,
   "id": "df853f20",
   "metadata": {
    "deletable": false,
    "id": "df853f20"
   },
   "outputs": [],
   "source": [
    "data = data.drop_duplicates()"
   ]
  },
  {
   "cell_type": "markdown",
   "id": "627be38f",
   "metadata": {
    "deletable": false,
    "editable": false,
    "id": "627be38f"
   },
   "source": [
    "### Категоризация данных"
   ]
  },
  {
   "cell_type": "markdown",
   "id": "4684c3e0",
   "metadata": {
    "deletable": false,
    "editable": false,
    "id": "4684c3e0"
   },
   "source": [
    "**Задание 16. На основании диапазонов, указанных ниже, создайте в датафрейме `data` столбец `total_income_category` с категориями:**\n",
    "\n",
    "- 0–30000 — `'E'`;\n",
    "- 30001–50000 — `'D'`;\n",
    "- 50001–200000 — `'C'`;\n",
    "- 200001–1000000 — `'B'`;\n",
    "- 1000001 и выше — `'A'`.\n",
    "\n",
    "\n",
    "**Например, кредитополучателю с доходом 25000 нужно назначить категорию `'E'`, а клиенту, получающему 235000, — `'B'`. Используйте собственную функцию с именем `categorize_income()` и метод `apply()`.**"
   ]
  },
  {
   "cell_type": "code",
   "execution_count": 17,
   "id": "78965238",
   "metadata": {
    "deletable": false,
    "id": "78965238"
   },
   "outputs": [],
   "source": [
    "def categorize_income(income):\n",
    "    try:\n",
    "        if 0 <= income <= 30000:\n",
    "            return 'E'\n",
    "        elif 30001 <= income <= 50000:\n",
    "            return 'D'\n",
    "        elif 50001 <= income <= 200000:\n",
    "            return 'C'\n",
    "        elif 200001 <= income <= 1000000:\n",
    "            return 'B'\n",
    "        elif income >= 1000001:\n",
    "            return 'A'\n",
    "    except:\n",
    "        pass"
   ]
  },
  {
   "cell_type": "code",
   "execution_count": 18,
   "id": "0980ada1",
   "metadata": {
    "deletable": false,
    "id": "0980ada1"
   },
   "outputs": [],
   "source": [
    "data['total_income_category'] = data['total_income'].apply(categorize_income)"
   ]
  },
  {
   "cell_type": "markdown",
   "id": "9917bba0",
   "metadata": {
    "deletable": false,
    "editable": false,
    "id": "9917bba0"
   },
   "source": [
    "**Задание 17. Выведите на экран перечень уникальных целей взятия кредита из столбца `purpose`.**"
   ]
  },
  {
   "cell_type": "code",
   "execution_count": 19,
   "id": "ee07b65e",
   "metadata": {
    "deletable": false,
    "id": "ee07b65e",
    "outputId": "673c12d9-7d7e-4ae0-9812-c622c89dd244"
   },
   "outputs": [
    {
     "data": {
      "text/plain": [
       "array(['покупка жилья', 'приобретение автомобиля',\n",
       "       'дополнительное образование', 'сыграть свадьбу',\n",
       "       'операции с жильем', 'образование', 'на проведение свадьбы',\n",
       "       'покупка жилья для семьи', 'покупка недвижимости',\n",
       "       'покупка коммерческой недвижимости', 'покупка жилой недвижимости',\n",
       "       'строительство собственной недвижимости', 'недвижимость',\n",
       "       'строительство недвижимости', 'на покупку подержанного автомобиля',\n",
       "       'на покупку своего автомобиля',\n",
       "       'операции с коммерческой недвижимостью',\n",
       "       'строительство жилой недвижимости', 'жилье',\n",
       "       'операции со своей недвижимостью', 'автомобили',\n",
       "       'заняться образованием', 'сделка с подержанным автомобилем',\n",
       "       'получение образования', 'автомобиль', 'свадьба',\n",
       "       'получение дополнительного образования', 'покупка своего жилья',\n",
       "       'операции с недвижимостью', 'получение высшего образования',\n",
       "       'свой автомобиль', 'сделка с автомобилем',\n",
       "       'профильное образование', 'высшее образование',\n",
       "       'покупка жилья для сдачи', 'на покупку автомобиля', 'ремонт жилью',\n",
       "       'заняться высшим образованием'], dtype=object)"
      ]
     },
     "execution_count": 19,
     "metadata": {},
     "output_type": "execute_result"
    }
   ],
   "source": [
    "data['purpose'].unique()"
   ]
  },
  {
   "cell_type": "markdown",
   "id": "52b79d56",
   "metadata": {
    "deletable": false,
    "editable": false,
    "id": "52b79d56"
   },
   "source": [
    "**Задание 18. Создайте функцию, которая на основании данных из столбца `purpose` сформирует новый столбец `purpose_category`, в который войдут следующие категории:**\n",
    "\n",
    "- `'операции с автомобилем'`,\n",
    "- `'операции с недвижимостью'`,\n",
    "- `'проведение свадьбы'`,\n",
    "- `'получение образования'`.\n",
    "\n",
    "**Например, если в столбце `purpose` находится подстрока `'на покупку автомобиля'`, то в столбце `purpose_category` должна появиться строка `'операции с автомобилем'`.**\n",
    "\n",
    "**Используйте собственную функцию с именем `categorize_purpose()` и метод `apply()`. Изучите данные в столбце `purpose` и определите, какие подстроки помогут вам правильно определить категорию.**"
   ]
  },
  {
   "cell_type": "code",
   "execution_count": 20,
   "id": "be41da5d",
   "metadata": {
    "deletable": false,
    "id": "be41da5d"
   },
   "outputs": [],
   "source": [
    "def categorize_purpose(row):\n",
    "    try:\n",
    "        if 'автом' in row:\n",
    "            return 'операции с автомобилем'\n",
    "        elif 'жил' in row or 'недвиж' in row:\n",
    "            return 'операции с недвижимостью'\n",
    "        elif 'свад' in row:\n",
    "            return 'проведение свадьбы'\n",
    "        elif 'образов' in row:\n",
    "            return 'получение образования'\n",
    "    except:\n",
    "        return 'нет категории'"
   ]
  },
  {
   "cell_type": "code",
   "execution_count": 21,
   "id": "94c4a19a",
   "metadata": {
    "deletable": false,
    "id": "94c4a19a"
   },
   "outputs": [],
   "source": [
    "data['purpose_category'] = data['purpose'].apply(categorize_purpose)"
   ]
  },
  {
   "cell_type": "markdown",
   "id": "3d596c34",
   "metadata": {
    "deletable": false,
    "editable": false,
    "id": "3d596c34"
   },
   "source": [
    "### Шаг 3. Исследуйте данные и ответьте на вопросы"
   ]
  },
  {
   "cell_type": "markdown",
   "id": "648db036",
   "metadata": {
    "deletable": false,
    "editable": false,
    "id": "648db036"
   },
   "source": [
    "#### 3.1 Есть ли зависимость между количеством детей и возвратом кредита в срок?"
   ]
  },
  {
   "cell_type": "code",
   "execution_count": 22,
   "id": "7fcff25e",
   "metadata": {
    "deletable": false,
    "id": "7fcff25e"
   },
   "outputs": [
    {
     "data": {
      "text/html": [
       "<div>\n",
       "<style scoped>\n",
       "    .dataframe tbody tr th:only-of-type {\n",
       "        vertical-align: middle;\n",
       "    }\n",
       "\n",
       "    .dataframe tbody tr th {\n",
       "        vertical-align: top;\n",
       "    }\n",
       "\n",
       "    .dataframe thead th {\n",
       "        text-align: right;\n",
       "    }\n",
       "</style>\n",
       "<table border=\"1\" class=\"dataframe\">\n",
       "  <thead>\n",
       "    <tr style=\"text-align: right;\">\n",
       "      <th></th>\n",
       "      <th>Кол-во кредитополучателей</th>\n",
       "      <th>Кол-во должников</th>\n",
       "      <th>Доля должников</th>\n",
       "    </tr>\n",
       "    <tr>\n",
       "      <th>Кол-во детей</th>\n",
       "      <th></th>\n",
       "      <th></th>\n",
       "      <th></th>\n",
       "    </tr>\n",
       "  </thead>\n",
       "  <tbody>\n",
       "    <tr>\n",
       "      <th>0</th>\n",
       "      <td>14091</td>\n",
       "      <td>1063</td>\n",
       "      <td>0.075438</td>\n",
       "    </tr>\n",
       "    <tr>\n",
       "      <th>1</th>\n",
       "      <td>4808</td>\n",
       "      <td>444</td>\n",
       "      <td>0.092346</td>\n",
       "    </tr>\n",
       "    <tr>\n",
       "      <th>2</th>\n",
       "      <td>2052</td>\n",
       "      <td>194</td>\n",
       "      <td>0.094542</td>\n",
       "    </tr>\n",
       "    <tr>\n",
       "      <th>3</th>\n",
       "      <td>330</td>\n",
       "      <td>27</td>\n",
       "      <td>0.081818</td>\n",
       "    </tr>\n",
       "    <tr>\n",
       "      <th>4</th>\n",
       "      <td>41</td>\n",
       "      <td>4</td>\n",
       "      <td>0.097561</td>\n",
       "    </tr>\n",
       "    <tr>\n",
       "      <th>5</th>\n",
       "      <td>9</td>\n",
       "      <td>0</td>\n",
       "      <td>0.000000</td>\n",
       "    </tr>\n",
       "  </tbody>\n",
       "</table>\n",
       "</div>"
      ],
      "text/plain": [
       "              Кол-во кредитополучателей  Кол-во должников  Доля должников\n",
       "Кол-во детей                                                             \n",
       "0                                 14091              1063        0.075438\n",
       "1                                  4808               444        0.092346\n",
       "2                                  2052               194        0.094542\n",
       "3                                   330                27        0.081818\n",
       "4                                    41                 4        0.097561\n",
       "5                                     9                 0        0.000000"
      ]
     },
     "execution_count": 22,
     "metadata": {},
     "output_type": "execute_result"
    }
   ],
   "source": [
    "table = pd.pivot_table(data[['children','debt']].rename(columns={'children':'Кол-во детей'}), values='debt', index='Кол-во детей', aggfunc={'debt': ['sum', 'count']})\n",
    "table = table.rename(columns={'sum':'Кол-во должников', 'count':'Кол-во кредитополучателей'})\n",
    "table['Доля должников'] = table['Кол-во должников']/table['Кол-во кредитополучателей']\n",
    "table"
   ]
  },
  {
   "cell_type": "markdown",
   "id": "2eb9088e",
   "metadata": {
    "deletable": false,
    "id": "2eb9088e"
   },
   "source": [
    "**Вывод:** Люди, не имеющие детей, чаще не имеют  задолженностей  по кредиту.  Люди, у которых есть дети, чаще имеют задолженность, причем увеличение количества детей повышает вероятность наличия задолженности, но незначительно.\n",
    "Вероятность, что человек без детей, не вернет кредит в срок, равна приблизительно 7,5%.\n",
    "Вероятность, что человек, имеющий детей, не вернет кредит в срок, равна приблизительно 8,2-9,8%. Причем значение для кредитора с тремя детьми отличается от значений для кредиторов с другим количеством детей, что может быть связано с небольшим количеством опрошенных, которые отнесли себя  к этой категории (по сравнению с количеством опрошенных  в других категориях) и, соответсвенно, неточным результатом.\n",
    "Категорию \"кредитор с 5 детьми\" рассматривать нецелесообразно, так как к этой категории относится всего 9 человек."
   ]
  },
  {
   "cell_type": "markdown",
   "id": "74c9b3a7",
   "metadata": {
    "deletable": false,
    "editable": false,
    "id": "74c9b3a7"
   },
   "source": [
    "#### 3.2 Есть ли зависимость между семейным положением и возвратом кредита в срок?"
   ]
  },
  {
   "cell_type": "code",
   "execution_count": 23,
   "id": "8098ab3b",
   "metadata": {
    "deletable": false,
    "id": "8098ab3b",
    "scrolled": true
   },
   "outputs": [
    {
     "data": {
      "text/html": [
       "<div>\n",
       "<style scoped>\n",
       "    .dataframe tbody tr th:only-of-type {\n",
       "        vertical-align: middle;\n",
       "    }\n",
       "\n",
       "    .dataframe tbody tr th {\n",
       "        vertical-align: top;\n",
       "    }\n",
       "\n",
       "    .dataframe thead th {\n",
       "        text-align: right;\n",
       "    }\n",
       "</style>\n",
       "<table border=\"1\" class=\"dataframe\">\n",
       "  <thead>\n",
       "    <tr style=\"text-align: right;\">\n",
       "      <th></th>\n",
       "      <th>Кол-во кредитополучателей</th>\n",
       "      <th>Кол-во должников</th>\n",
       "      <th>Доля должников</th>\n",
       "    </tr>\n",
       "    <tr>\n",
       "      <th>Статус</th>\n",
       "      <th></th>\n",
       "      <th></th>\n",
       "      <th></th>\n",
       "    </tr>\n",
       "  </thead>\n",
       "  <tbody>\n",
       "    <tr>\n",
       "      <th>Не женат / не замужем</th>\n",
       "      <td>2796</td>\n",
       "      <td>273</td>\n",
       "      <td>0.097639</td>\n",
       "    </tr>\n",
       "    <tr>\n",
       "      <th>в разводе</th>\n",
       "      <td>1189</td>\n",
       "      <td>84</td>\n",
       "      <td>0.070648</td>\n",
       "    </tr>\n",
       "    <tr>\n",
       "      <th>вдовец / вдова</th>\n",
       "      <td>951</td>\n",
       "      <td>63</td>\n",
       "      <td>0.066246</td>\n",
       "    </tr>\n",
       "    <tr>\n",
       "      <th>гражданский брак</th>\n",
       "      <td>4134</td>\n",
       "      <td>385</td>\n",
       "      <td>0.093130</td>\n",
       "    </tr>\n",
       "    <tr>\n",
       "      <th>женат / замужем</th>\n",
       "      <td>12261</td>\n",
       "      <td>927</td>\n",
       "      <td>0.075606</td>\n",
       "    </tr>\n",
       "  </tbody>\n",
       "</table>\n",
       "</div>"
      ],
      "text/plain": [
       "                       Кол-во кредитополучателей  Кол-во должников  \\\n",
       "Статус                                                               \n",
       "Не женат / не замужем                       2796               273   \n",
       "в разводе                                   1189                84   \n",
       "вдовец / вдова                               951                63   \n",
       "гражданский брак                            4134               385   \n",
       "женат / замужем                            12261               927   \n",
       "\n",
       "                       Доля должников  \n",
       "Статус                                 \n",
       "Не женат / не замужем        0.097639  \n",
       "в разводе                    0.070648  \n",
       "вдовец / вдова               0.066246  \n",
       "гражданский брак             0.093130  \n",
       "женат / замужем              0.075606  "
      ]
     },
     "execution_count": 23,
     "metadata": {},
     "output_type": "execute_result"
    }
   ],
   "source": [
    "table = pd.pivot_table(data[['family_status','debt']].rename(columns={'family_status':'Статус'}), values='debt', index='Статус', aggfunc={'debt': ['sum', 'count']})\n",
    "table = table.rename(columns={'sum':'Кол-во должников', 'count':'Кол-во кредитополучателей'})\n",
    "table['Доля должников'] = table['Кол-во должников']/table['Кол-во кредитополучателей']\n",
    "table"
   ]
  },
  {
   "cell_type": "markdown",
   "id": "c389ca63",
   "metadata": {
    "deletable": false,
    "id": "c389ca63"
   },
   "source": [
    "**Вывод:** Люди, находящиеся или бывшие в браке, чаще возвращают кредит в срок. \n",
    "\n",
    "Есть гипотеза, что имеет влияние возраст кредитора, так как самой \"благонадежной\" категорией оказалась категория \"вдовец/вдова\", а самыми \"неблагонадежными\" категории \"Не женат/не замужем\", \"гражданский брак\"."
   ]
  },
  {
   "cell_type": "markdown",
   "id": "9529de68",
   "metadata": {
    "deletable": false,
    "editable": false,
    "id": "9529de68"
   },
   "source": [
    "#### 3.3 Есть ли зависимость между уровнем дохода и возвратом кредита в срок?"
   ]
  },
  {
   "cell_type": "code",
   "execution_count": 24,
   "id": "8787f44a",
   "metadata": {
    "deletable": false,
    "id": "8787f44a"
   },
   "outputs": [
    {
     "data": {
      "text/html": [
       "<div>\n",
       "<style scoped>\n",
       "    .dataframe tbody tr th:only-of-type {\n",
       "        vertical-align: middle;\n",
       "    }\n",
       "\n",
       "    .dataframe tbody tr th {\n",
       "        vertical-align: top;\n",
       "    }\n",
       "\n",
       "    .dataframe thead th {\n",
       "        text-align: right;\n",
       "    }\n",
       "</style>\n",
       "<table border=\"1\" class=\"dataframe\">\n",
       "  <thead>\n",
       "    <tr style=\"text-align: right;\">\n",
       "      <th></th>\n",
       "      <th>Кол-во кредитополучателей</th>\n",
       "      <th>Кол-во должников</th>\n",
       "      <th>Доля должников</th>\n",
       "    </tr>\n",
       "    <tr>\n",
       "      <th>Категория дохода</th>\n",
       "      <th></th>\n",
       "      <th></th>\n",
       "      <th></th>\n",
       "    </tr>\n",
       "  </thead>\n",
       "  <tbody>\n",
       "    <tr>\n",
       "      <th>A</th>\n",
       "      <td>25</td>\n",
       "      <td>2</td>\n",
       "      <td>0.080000</td>\n",
       "    </tr>\n",
       "    <tr>\n",
       "      <th>B</th>\n",
       "      <td>5014</td>\n",
       "      <td>354</td>\n",
       "      <td>0.070602</td>\n",
       "    </tr>\n",
       "    <tr>\n",
       "      <th>C</th>\n",
       "      <td>15921</td>\n",
       "      <td>1353</td>\n",
       "      <td>0.084982</td>\n",
       "    </tr>\n",
       "    <tr>\n",
       "      <th>D</th>\n",
       "      <td>349</td>\n",
       "      <td>21</td>\n",
       "      <td>0.060172</td>\n",
       "    </tr>\n",
       "    <tr>\n",
       "      <th>E</th>\n",
       "      <td>22</td>\n",
       "      <td>2</td>\n",
       "      <td>0.090909</td>\n",
       "    </tr>\n",
       "  </tbody>\n",
       "</table>\n",
       "</div>"
      ],
      "text/plain": [
       "                  Кол-во кредитополучателей  Кол-во должников  Доля должников\n",
       "Категория дохода                                                             \n",
       "A                                        25                 2        0.080000\n",
       "B                                      5014               354        0.070602\n",
       "C                                     15921              1353        0.084982\n",
       "D                                       349                21        0.060172\n",
       "E                                        22                 2        0.090909"
      ]
     },
     "execution_count": 24,
     "metadata": {},
     "output_type": "execute_result"
    }
   ],
   "source": [
    "table = pd.pivot_table(data[['total_income_category','debt']].rename(columns={'total_income_category':'Категория дохода'}), values='debt', index='Категория дохода', aggfunc={'debt': ['count', 'sum']})\n",
    "table = table.rename(columns={'sum':'Кол-во должников', 'count':'Кол-во кредитополучателей'})\n",
    "table['Доля должников'] = table['Кол-во должников']/table['Кол-во кредитополучателей']\n",
    "table"
   ]
  },
  {
   "cell_type": "markdown",
   "id": "6dd14b57",
   "metadata": {
    "deletable": false,
    "id": "6dd14b57"
   },
   "source": [
    "**Вывод:** Версия 1.\n",
    "Нет зависимости между уровнем дохода и возвратом кредита в срок.\n",
    "\n",
    "Версия 2.\n",
    "0–30000 — 'E';\n",
    "30001–50000 — 'D';\n",
    "50001–200000 — 'C';\n",
    "200001–1000000 — 'B';\n",
    "1000001 и выше — 'A'.\n",
    "\n",
    "По категориям А, D, E крайне мало данных, чтобы делать выводы. По категориям B и C можно сказать, что при доходе 200001–1000000 количество должников меньше, чем при доходе 50001–200000, то есть в диапазоне дохода \"средний - выше среднего\" количество должников с увеличением дохода уменьшается."
   ]
  },
  {
   "cell_type": "markdown",
   "id": "1dcc9b12",
   "metadata": {
    "deletable": false,
    "editable": false,
    "id": "1dcc9b12"
   },
   "source": [
    "#### 3.4 Как разные цели кредита влияют на его возврат в срок?"
   ]
  },
  {
   "cell_type": "code",
   "execution_count": 25,
   "id": "c602bc8b",
   "metadata": {
    "deletable": false,
    "id": "c602bc8b"
   },
   "outputs": [
    {
     "data": {
      "text/html": [
       "<div>\n",
       "<style scoped>\n",
       "    .dataframe tbody tr th:only-of-type {\n",
       "        vertical-align: middle;\n",
       "    }\n",
       "\n",
       "    .dataframe tbody tr th {\n",
       "        vertical-align: top;\n",
       "    }\n",
       "\n",
       "    .dataframe thead th {\n",
       "        text-align: right;\n",
       "    }\n",
       "</style>\n",
       "<table border=\"1\" class=\"dataframe\">\n",
       "  <thead>\n",
       "    <tr style=\"text-align: right;\">\n",
       "      <th></th>\n",
       "      <th>Кол-во кредитополучателей</th>\n",
       "      <th>Кол-во должников</th>\n",
       "      <th>Доля должников</th>\n",
       "    </tr>\n",
       "    <tr>\n",
       "      <th>Цель заема</th>\n",
       "      <th></th>\n",
       "      <th></th>\n",
       "      <th></th>\n",
       "    </tr>\n",
       "  </thead>\n",
       "  <tbody>\n",
       "    <tr>\n",
       "      <th>операции с автомобилем</th>\n",
       "      <td>4279</td>\n",
       "      <td>400</td>\n",
       "      <td>0.093480</td>\n",
       "    </tr>\n",
       "    <tr>\n",
       "      <th>операции с недвижимостью</th>\n",
       "      <td>10751</td>\n",
       "      <td>780</td>\n",
       "      <td>0.072551</td>\n",
       "    </tr>\n",
       "    <tr>\n",
       "      <th>получение образования</th>\n",
       "      <td>3988</td>\n",
       "      <td>369</td>\n",
       "      <td>0.092528</td>\n",
       "    </tr>\n",
       "    <tr>\n",
       "      <th>проведение свадьбы</th>\n",
       "      <td>2313</td>\n",
       "      <td>183</td>\n",
       "      <td>0.079118</td>\n",
       "    </tr>\n",
       "  </tbody>\n",
       "</table>\n",
       "</div>"
      ],
      "text/plain": [
       "                          Кол-во кредитополучателей  Кол-во должников  \\\n",
       "Цель заема                                                              \n",
       "операции с автомобилем                         4279               400   \n",
       "операции с недвижимостью                      10751               780   \n",
       "получение образования                          3988               369   \n",
       "проведение свадьбы                             2313               183   \n",
       "\n",
       "                          Доля должников  \n",
       "Цель заема                                \n",
       "операции с автомобилем          0.093480  \n",
       "операции с недвижимостью        0.072551  \n",
       "получение образования           0.092528  \n",
       "проведение свадьбы              0.079118  "
      ]
     },
     "execution_count": 25,
     "metadata": {},
     "output_type": "execute_result"
    }
   ],
   "source": [
    "# версия 1\n",
    "data.groupby('purpose_category')['debt'].mean()\n",
    "\n",
    "# версия 2\n",
    "table = pd.pivot_table(data[['purpose_category','debt']].rename(columns={'purpose_category':'Цель заема'}), values='debt', index='Цель заема', aggfunc={'debt': ['sum', 'count']})\n",
    "table = table.rename(columns={'sum':'Кол-во должников', 'count':'Кол-во кредитополучателей'})\n",
    "table['Доля должников'] = table['Кол-во должников']/table['Кол-во кредитополучателей']\n",
    "table"
   ]
  },
  {
   "cell_type": "markdown",
   "id": "cf05ed63",
   "metadata": {
    "deletable": false,
    "id": "cf05ed63"
   },
   "source": [
    "**Вывод:** Вероятность задолженности выше, если кредит берется для целей: \"операции с автомобилем\", \"получение образования\".\n",
    "Ниже вероятность задолженности для кредита, взятого для цели \"проведение свадьбы\".\n",
    "Самая низкая вероятность задолженности для цели \"операции с недвижимостью\"."
   ]
  },
  {
   "cell_type": "markdown",
   "id": "46c1f10b",
   "metadata": {
    "deletable": false,
    "editable": false,
    "id": "46c1f10b"
   },
   "source": [
    "#### 3.5 Приведите возможные причины появления пропусков в исходных данных."
   ]
  },
  {
   "cell_type": "markdown",
   "id": "3697d2a9",
   "metadata": {
    "deletable": false,
    "id": "3697d2a9"
   },
   "source": [
    "1) Отсутствие информации (информация такого рода не собиралась/не везде собиралась или определенные данные можно было не заполнять).\n",
    "\n",
    "2) Отсутствие информации у заемщика по какому-либо вопросу\n",
    "\n",
    "3) Невозможность ввода информации определенного типа (например, числового с плавающей запятой)\n",
    "\n",
    "4) Человеческий фактор (например, информация была случайно удалена оператором или не собрана по причине невнимательности)."
   ]
  },
  {
   "cell_type": "markdown",
   "id": "3137d257",
   "metadata": {
    "deletable": false,
    "editable": false,
    "id": "3137d257"
   },
   "source": [
    "#### 3.6 Объясните, почему заполнить пропуски медианным значением — лучшее решение для количественных переменных."
   ]
  },
  {
   "cell_type": "markdown",
   "id": "cf40012a",
   "metadata": {
    "deletable": false,
    "id": "cf40012a"
   },
   "source": [
    "Игнорировать строки с пропусками - плохое решение, так как в строках с пропусками есть другие не пропущенные данные, которые могут быть полезны.\n",
    "\n",
    "Заменять пропуски нулями - плохое решение, так как число 0 для количественных переменных будет влиять на статистические характеристики.\n",
    "\n",
    "Заменять пропуски средним (арифметическим) значением - плохое решение, так как на среднее значение очень сильно влияют выбросы  (значения, сильно отличающееся от значений выборки) и, следовательно, среднее значение может очень сильно отличаться от большинства значений в выборке и влиять на исследуемые статистические характеристики.\n",
    "\n",
    "Заменять пропуски медианным значением - лучшее решение для количественных переменных, так как таким образом строки с пропусками не исключаются (и  вся полезная информация будет учтена) и заполненные медианным значением пропуски не будут влиять на статистические характеристики, так как будут являться усредненным большинства значений."
   ]
  },
  {
   "cell_type": "markdown",
   "id": "57bc304e",
   "metadata": {
    "deletable": false,
    "editable": false,
    "id": "57bc304e"
   },
   "source": [
    "### Шаг 4: общий вывод."
   ]
  },
  {
   "cell_type": "markdown",
   "id": "1ab75d1c",
   "metadata": {
    "deletable": false,
    "id": "1ab75d1c"
   },
   "source": [
    "**Общий вывод**\n",
    "\n",
    "*Версия 1*\n",
    "\n",
    "Самыми \"благонадежными\" (чаще выплачивающими кредит в срок) являются люди без детей, находящиеся или бывшие в браке,  которые получают кредит для операций с недвижимостью. Наиболее важно наличие или отсутсвие детей, количество детей влияет на  \"благонадежность\" слабо. \n",
    "\n",
    "Уровень дохода не влияет на наличие/отсутсвие задолженностей по кредиту.\n",
    "\n",
    "Самыми \"неблагонадежными\" оказались холостые люди, которые берут кредит для операций с автомобилем и на образование.\n",
    "\n",
    "\n",
    "*Версия 2*\n",
    "\n",
    "В данных были найдены пропуски: \n",
    " - 2174 пропущенных значения в days_employed (общий трудовой стаж в днях);\n",
    " - 2174 пропущенных значения в total_income (ежемесячный доход).\n",
    " \n",
    "Пропуски были заменены медианными значениями по каждому типу из столбца income_type (тип занятости: сотрудник, пенсионер, студент и т.д.).\n",
    "\n",
    "В days_employed отрицательные значения были заменены на положительные, равные по модулю исходным.\n",
    "\n",
    "Были добавлены столбцы категорий:\n",
    " - дохода total_income_category:\n",
    "\n",
    "Доход          | Категория\n",
    ":------------- | :---------------- \n",
    "0–30000        | E      \n",
    "30001–50000    | D\n",
    "50001–200000   | C\n",
    "200001–1000000 | B\n",
    "1000001 и выше | A\n",
    "\n",
    "* цели кредита purpose_category:\n",
    "    * операции с автомобилем,\n",
    "    * операции с недвижимостью,\n",
    "    * проведение свадьбы,\n",
    "    * получение образования.\n",
    "\n",
    "-------------------------------------------------------------\n",
    "\n",
    "Удалось обнаружить следующие зависимости:\n",
    " - у заемщиков с детьми больше вероятность просрочки \n",
    "\n",
    "Кол-во детей  | Вер-сть просрочки\n",
    ":------------ | :---------------- \n",
    "Нет детей     | 7.5%        \n",
    "1-5 детей     | 8.2-9.8%  \n",
    "\n",
    " - заемщики, состоящие или состоявшие в браке реже допускают просрочку\n",
    " \n",
    "Статус                    | Вер-сть просрочки\n",
    ":------------------------ | :---------------- \n",
    "Состоят (-ли) в браке     | 6.7-7.6%        \n",
    "Не состоят (-ли) в браке  | 9.3-9.8%\n",
    "\n",
    " - ипотечники являются самой обширной категорией и самой добросовестной\n",
    " \n",
    "  Цель кредита            | Кол-во заемщиков  | Вер-сть просрочки\n",
    ":------------------------ | :---------------- | :----------------\n",
    "Операции с недвижимостью  | 10751             | 7.3%\n",
    "Проведения свадьбы        | 2313\t          | 7.9%\n",
    "Получение образования     | 3988              | 9.3%\n",
    "Операции с автомобилем    | 4279              | 9.3%\n",
    "\n",
    " - при доходе 200 тыс. - 1 млн. вероятность просрочки ниже, чем при доходе 50 - 200 тыс. (по остальным категориям дохода слишком мало данных, чтобы делать выводы)\n",
    " \n",
    "Доход             | Вер-сть просрочки\n",
    ":---------------- | :---------------- \n",
    "50 - 200 тыс.     | 8.5%        \n",
    "200 тыс. - 1 млн. | 7%"
   ]
  }
 ],
 "metadata": {
  "ExecuteTimeLog": [
   {
    "duration": 454,
    "start_time": "2023-06-17T18:07:36.683Z"
   },
   {
    "duration": 20,
    "start_time": "2023-06-17T18:07:38.430Z"
   },
   {
    "duration": 14,
    "start_time": "2023-06-17T18:07:38.981Z"
   },
   {
    "duration": 9,
    "start_time": "2023-06-17T18:07:39.794Z"
   },
   {
    "duration": 33,
    "start_time": "2023-06-17T18:07:40.159Z"
   },
   {
    "duration": 3,
    "start_time": "2023-06-17T18:07:40.739Z"
   },
   {
    "duration": 8,
    "start_time": "2023-06-17T18:07:41.133Z"
   },
   {
    "duration": 5,
    "start_time": "2023-06-17T18:07:41.711Z"
   },
   {
    "duration": 7,
    "start_time": "2023-06-17T18:07:42.137Z"
   },
   {
    "duration": 5,
    "start_time": "2023-06-17T18:07:42.554Z"
   },
   {
    "duration": 30,
    "start_time": "2023-06-17T18:07:43.144Z"
   },
   {
    "duration": 9,
    "start_time": "2023-06-17T18:07:43.585Z"
   },
   {
    "duration": 3,
    "start_time": "2023-06-17T18:07:44.205Z"
   },
   {
    "duration": 10,
    "start_time": "2023-06-17T18:07:44.803Z"
   },
   {
    "duration": 18,
    "start_time": "2023-06-17T18:07:45.336Z"
   },
   {
    "duration": 17,
    "start_time": "2023-06-17T18:07:45.551Z"
   },
   {
    "duration": 4,
    "start_time": "2023-06-17T18:07:47.193Z"
   },
   {
    "duration": 9,
    "start_time": "2023-06-17T18:07:47.503Z"
   },
   {
    "duration": 5,
    "start_time": "2023-06-17T18:07:48.090Z"
   },
   {
    "duration": 3,
    "start_time": "2023-06-17T18:07:49.332Z"
   },
   {
    "duration": 9,
    "start_time": "2023-06-17T18:07:49.779Z"
   },
   {
    "duration": 15,
    "start_time": "2023-06-17T18:09:23.632Z"
   },
   {
    "duration": 65,
    "start_time": "2023-06-17T18:11:17.632Z"
   },
   {
    "duration": 4,
    "start_time": "2023-06-17T18:12:26.352Z"
   },
   {
    "duration": 4,
    "start_time": "2023-06-17T18:13:14.823Z"
   },
   {
    "duration": 13,
    "start_time": "2023-06-17T18:13:32.755Z"
   },
   {
    "duration": 4,
    "start_time": "2023-06-17T18:14:40.842Z"
   },
   {
    "duration": 4,
    "start_time": "2023-06-17T18:15:22.780Z"
   },
   {
    "duration": 6,
    "start_time": "2023-06-17T18:16:07.595Z"
   },
   {
    "duration": 10,
    "start_time": "2023-06-17T18:16:19.662Z"
   },
   {
    "duration": 6,
    "start_time": "2023-06-17T18:16:36.796Z"
   },
   {
    "duration": 5,
    "start_time": "2023-06-17T18:18:18.214Z"
   },
   {
    "duration": 7,
    "start_time": "2023-06-17T18:18:48.258Z"
   },
   {
    "duration": 8,
    "start_time": "2023-06-17T18:19:38.096Z"
   },
   {
    "duration": 11,
    "start_time": "2023-06-17T18:20:12.915Z"
   },
   {
    "duration": 11,
    "start_time": "2023-06-17T18:21:21.004Z"
   },
   {
    "duration": 4,
    "start_time": "2023-06-17T18:22:59.536Z"
   },
   {
    "duration": 14,
    "start_time": "2023-06-17T18:23:07.091Z"
   },
   {
    "duration": 13,
    "start_time": "2023-06-17T18:23:53.183Z"
   },
   {
    "duration": 12,
    "start_time": "2023-06-17T18:24:41.490Z"
   },
   {
    "duration": 12,
    "start_time": "2023-06-17T18:24:58.912Z"
   },
   {
    "duration": 13,
    "start_time": "2023-06-17T18:25:10.805Z"
   },
   {
    "duration": 14,
    "start_time": "2023-06-17T18:25:22.003Z"
   },
   {
    "duration": 13,
    "start_time": "2023-06-17T18:25:34.980Z"
   },
   {
    "duration": 11,
    "start_time": "2023-06-17T18:25:42.984Z"
   },
   {
    "duration": 17,
    "start_time": "2023-06-17T18:25:47.765Z"
   },
   {
    "duration": 52,
    "start_time": "2023-06-19T16:09:44.892Z"
   },
   {
    "duration": 475,
    "start_time": "2023-06-19T16:09:49.279Z"
   },
   {
    "duration": 21,
    "start_time": "2023-06-19T16:09:50.774Z"
   },
   {
    "duration": 16,
    "start_time": "2023-06-19T16:09:51.119Z"
   },
   {
    "duration": 11,
    "start_time": "2023-06-19T16:09:51.841Z"
   },
   {
    "duration": 30,
    "start_time": "2023-06-19T16:09:52.208Z"
   },
   {
    "duration": 4,
    "start_time": "2023-06-19T16:09:52.782Z"
   },
   {
    "duration": 9,
    "start_time": "2023-06-19T16:09:53.150Z"
   },
   {
    "duration": 5,
    "start_time": "2023-06-19T16:09:53.714Z"
   },
   {
    "duration": 6,
    "start_time": "2023-06-19T16:09:54.094Z"
   },
   {
    "duration": 5,
    "start_time": "2023-06-19T16:09:54.450Z"
   },
   {
    "duration": 32,
    "start_time": "2023-06-19T16:09:54.985Z"
   },
   {
    "duration": 10,
    "start_time": "2023-06-19T16:09:55.378Z"
   },
   {
    "duration": 3,
    "start_time": "2023-06-19T16:09:55.912Z"
   },
   {
    "duration": 12,
    "start_time": "2023-06-19T16:09:56.502Z"
   },
   {
    "duration": 18,
    "start_time": "2023-06-19T16:09:56.883Z"
   },
   {
    "duration": 15,
    "start_time": "2023-06-19T16:09:57.071Z"
   },
   {
    "duration": 4,
    "start_time": "2023-06-19T16:09:57.624Z"
   },
   {
    "duration": 11,
    "start_time": "2023-06-19T16:09:57.823Z"
   },
   {
    "duration": 6,
    "start_time": "2023-06-19T16:09:58.212Z"
   },
   {
    "duration": 3,
    "start_time": "2023-06-19T16:09:58.613Z"
   },
   {
    "duration": 10,
    "start_time": "2023-06-19T16:09:58.811Z"
   },
   {
    "duration": 14,
    "start_time": "2023-06-19T16:09:59.410Z"
   },
   {
    "duration": 9,
    "start_time": "2023-06-19T16:10:00.019Z"
   },
   {
    "duration": 8,
    "start_time": "2023-06-19T16:10:02.286Z"
   },
   {
    "duration": 8,
    "start_time": "2023-06-19T16:10:56.328Z"
   },
   {
    "duration": 7,
    "start_time": "2023-06-19T16:11:39.190Z"
   },
   {
    "duration": 10,
    "start_time": "2023-06-19T16:13:03.444Z"
   },
   {
    "duration": 9,
    "start_time": "2023-06-19T16:31:19.170Z"
   },
   {
    "duration": 42,
    "start_time": "2023-06-19T16:31:31.304Z"
   },
   {
    "duration": 13,
    "start_time": "2023-06-19T16:31:36.676Z"
   },
   {
    "duration": 8,
    "start_time": "2023-06-19T16:31:53.477Z"
   },
   {
    "duration": 11,
    "start_time": "2023-06-19T16:32:06.417Z"
   },
   {
    "duration": 11,
    "start_time": "2023-06-19T16:32:22.301Z"
   },
   {
    "duration": 21,
    "start_time": "2023-06-19T16:38:42.884Z"
   },
   {
    "duration": 15,
    "start_time": "2023-06-19T16:38:57.276Z"
   },
   {
    "duration": 526,
    "start_time": "2023-06-19T17:28:47.033Z"
   },
   {
    "duration": 32,
    "start_time": "2023-06-19T17:28:47.565Z"
   },
   {
    "duration": 37,
    "start_time": "2023-06-19T17:28:47.600Z"
   },
   {
    "duration": 87,
    "start_time": "2023-06-19T17:28:47.639Z"
   },
   {
    "duration": 135,
    "start_time": "2023-06-19T17:28:47.729Z"
   },
   {
    "duration": 4,
    "start_time": "2023-06-19T17:28:47.866Z"
   },
   {
    "duration": 34,
    "start_time": "2023-06-19T17:28:47.872Z"
   },
   {
    "duration": 24,
    "start_time": "2023-06-19T17:28:47.908Z"
   },
   {
    "duration": 36,
    "start_time": "2023-06-19T17:28:47.935Z"
   },
   {
    "duration": 21,
    "start_time": "2023-06-19T17:28:47.974Z"
   },
   {
    "duration": 76,
    "start_time": "2023-06-19T17:28:47.997Z"
   },
   {
    "duration": 14,
    "start_time": "2023-06-19T17:28:48.075Z"
   },
   {
    "duration": 18,
    "start_time": "2023-06-19T17:28:48.091Z"
   },
   {
    "duration": 51,
    "start_time": "2023-06-19T17:28:48.112Z"
   },
   {
    "duration": 50,
    "start_time": "2023-06-19T17:28:48.165Z"
   },
   {
    "duration": 29,
    "start_time": "2023-06-19T17:28:48.219Z"
   },
   {
    "duration": 6,
    "start_time": "2023-06-19T17:28:48.250Z"
   },
   {
    "duration": 32,
    "start_time": "2023-06-19T17:28:48.258Z"
   },
   {
    "duration": 31,
    "start_time": "2023-06-19T17:28:48.292Z"
   },
   {
    "duration": 53,
    "start_time": "2023-06-19T17:28:48.325Z"
   },
   {
    "duration": 80,
    "start_time": "2023-06-19T17:28:48.380Z"
   },
   {
    "duration": 108,
    "start_time": "2023-06-19T17:28:48.462Z"
   },
   {
    "duration": 87,
    "start_time": "2023-06-19T17:28:48.572Z"
   },
   {
    "duration": 41,
    "start_time": "2023-06-19T17:28:48.661Z"
   },
   {
    "duration": 33,
    "start_time": "2023-06-19T17:28:48.704Z"
   },
   {
    "duration": 567,
    "start_time": "2023-06-19T17:29:39.683Z"
   },
   {
    "duration": 33,
    "start_time": "2023-06-19T17:29:40.253Z"
   },
   {
    "duration": 40,
    "start_time": "2023-06-19T17:29:40.288Z"
   },
   {
    "duration": 12,
    "start_time": "2023-06-19T17:29:40.334Z"
   },
   {
    "duration": 37,
    "start_time": "2023-06-19T17:29:40.349Z"
   },
   {
    "duration": 35,
    "start_time": "2023-06-19T17:29:40.388Z"
   },
   {
    "duration": 12,
    "start_time": "2023-06-19T17:29:40.425Z"
   },
   {
    "duration": 5,
    "start_time": "2023-06-19T17:29:40.439Z"
   },
   {
    "duration": 11,
    "start_time": "2023-06-19T17:29:40.446Z"
   },
   {
    "duration": 5,
    "start_time": "2023-06-19T17:29:40.459Z"
   },
   {
    "duration": 76,
    "start_time": "2023-06-19T17:29:40.465Z"
   },
   {
    "duration": 13,
    "start_time": "2023-06-19T17:29:40.542Z"
   },
   {
    "duration": 3,
    "start_time": "2023-06-19T17:29:40.557Z"
   },
   {
    "duration": 12,
    "start_time": "2023-06-19T17:29:40.563Z"
   },
   {
    "duration": 49,
    "start_time": "2023-06-19T17:29:40.576Z"
   },
   {
    "duration": 22,
    "start_time": "2023-06-19T17:29:40.627Z"
   },
   {
    "duration": 18,
    "start_time": "2023-06-19T17:29:40.650Z"
   },
   {
    "duration": 22,
    "start_time": "2023-06-19T17:29:40.670Z"
   },
   {
    "duration": 22,
    "start_time": "2023-06-19T17:29:40.694Z"
   },
   {
    "duration": 8,
    "start_time": "2023-06-19T17:29:40.724Z"
   },
   {
    "duration": 15,
    "start_time": "2023-06-19T17:29:40.735Z"
   },
   {
    "duration": 15,
    "start_time": "2023-06-19T17:29:40.752Z"
   },
   {
    "duration": 8,
    "start_time": "2023-06-19T17:29:40.769Z"
   },
   {
    "duration": 49,
    "start_time": "2023-06-19T17:29:40.779Z"
   },
   {
    "duration": 15,
    "start_time": "2023-06-19T17:29:40.830Z"
   },
   {
    "duration": 876,
    "start_time": "2023-06-21T08:30:20.442Z"
   },
   {
    "duration": 31,
    "start_time": "2023-06-21T08:30:21.374Z"
   },
   {
    "duration": 13,
    "start_time": "2023-06-21T08:30:22.143Z"
   },
   {
    "duration": 12,
    "start_time": "2023-06-21T08:30:23.814Z"
   },
   {
    "duration": 39,
    "start_time": "2023-06-21T08:30:24.740Z"
   },
   {
    "duration": 3,
    "start_time": "2023-06-21T08:30:25.856Z"
   },
   {
    "duration": 7,
    "start_time": "2023-06-21T08:30:26.550Z"
   },
   {
    "duration": 4,
    "start_time": "2023-06-21T08:30:28.055Z"
   },
   {
    "duration": 7,
    "start_time": "2023-06-21T08:30:28.467Z"
   },
   {
    "duration": 5,
    "start_time": "2023-06-21T08:30:29.140Z"
   },
   {
    "duration": 30,
    "start_time": "2023-06-21T08:30:30.734Z"
   },
   {
    "duration": 9,
    "start_time": "2023-06-21T08:30:31.851Z"
   },
   {
    "duration": 3,
    "start_time": "2023-06-21T08:30:33.044Z"
   },
   {
    "duration": 10,
    "start_time": "2023-06-21T08:30:33.646Z"
   },
   {
    "duration": 18,
    "start_time": "2023-06-21T08:30:34.042Z"
   },
   {
    "duration": 16,
    "start_time": "2023-06-21T08:30:34.276Z"
   },
   {
    "duration": 4,
    "start_time": "2023-06-21T08:30:35.840Z"
   },
   {
    "duration": 12,
    "start_time": "2023-06-21T08:30:36.054Z"
   },
   {
    "duration": 5,
    "start_time": "2023-06-21T08:30:36.543Z"
   },
   {
    "duration": 3,
    "start_time": "2023-06-21T08:30:38.757Z"
   },
   {
    "duration": 10,
    "start_time": "2023-06-21T08:30:39.146Z"
   },
   {
    "duration": 2532,
    "start_time": "2023-06-21T08:30:40.318Z"
   },
   {
    "duration": 0,
    "start_time": "2023-06-21T08:30:47.164Z"
   },
   {
    "duration": 17,
    "start_time": "2023-06-21T08:31:06.367Z"
   },
   {
    "duration": 1853,
    "start_time": "2023-06-21T08:31:11.842Z"
   },
   {
    "duration": 1861,
    "start_time": "2023-06-21T08:31:28.440Z"
   },
   {
    "duration": 1750,
    "start_time": "2023-06-21T08:31:33.442Z"
   },
   {
    "duration": 1905,
    "start_time": "2023-06-21T08:32:02.838Z"
   },
   {
    "duration": 99,
    "start_time": "2023-06-21T09:38:31.022Z"
   },
   {
    "duration": 26,
    "start_time": "2023-06-21T09:38:31.136Z"
   },
   {
    "duration": 106,
    "start_time": "2023-06-21T09:38:31.163Z"
   },
   {
    "duration": 23,
    "start_time": "2023-06-21T09:38:31.426Z"
   },
   {
    "duration": 28,
    "start_time": "2023-06-21T09:38:32.360Z"
   },
   {
    "duration": 21,
    "start_time": "2023-06-21T09:38:32.420Z"
   },
   {
    "duration": 28,
    "start_time": "2023-06-21T09:38:32.798Z"
   },
   {
    "duration": 13,
    "start_time": "2023-06-21T09:38:33.619Z"
   },
   {
    "duration": 10,
    "start_time": "2023-06-21T09:38:34.435Z"
   },
   {
    "duration": 7,
    "start_time": "2023-06-21T09:38:36.335Z"
   },
   {
    "duration": 49,
    "start_time": "2023-06-21T09:38:37.627Z"
   },
   {
    "duration": 22,
    "start_time": "2023-06-21T09:38:38.141Z"
   },
   {
    "duration": 10,
    "start_time": "2023-06-21T09:38:39.415Z"
   },
   {
    "duration": 11,
    "start_time": "2023-06-21T09:38:39.959Z"
   },
   {
    "duration": 27,
    "start_time": "2023-06-21T09:38:40.329Z"
   },
   {
    "duration": 23,
    "start_time": "2023-06-21T09:38:40.432Z"
   },
   {
    "duration": 6,
    "start_time": "2023-06-21T09:38:41.254Z"
   },
   {
    "duration": 12,
    "start_time": "2023-06-21T09:38:41.450Z"
   },
   {
    "duration": 7,
    "start_time": "2023-06-21T09:38:42.644Z"
   },
   {
    "duration": 10,
    "start_time": "2023-06-21T09:38:44.054Z"
   },
   {
    "duration": 12,
    "start_time": "2023-06-21T09:38:44.549Z"
   },
   {
    "duration": 2150,
    "start_time": "2023-06-21T09:38:47.936Z"
   },
   {
    "duration": 4024,
    "start_time": "2023-06-21T09:47:00.138Z"
   },
   {
    "duration": 0,
    "start_time": "2023-06-21T09:49:00.226Z"
   },
   {
    "duration": 0,
    "start_time": "2023-06-21T09:49:09.677Z"
   },
   {
    "duration": 16,
    "start_time": "2023-06-21T09:49:14.626Z"
   },
   {
    "duration": 0,
    "start_time": "2023-06-21T09:49:20.855Z"
   },
   {
    "duration": 97,
    "start_time": "2023-06-21T09:49:34.744Z"
   },
   {
    "duration": 53,
    "start_time": "2023-06-21T09:49:35.715Z"
   },
   {
    "duration": 55,
    "start_time": "2023-06-21T09:49:36.715Z"
   },
   {
    "duration": 20,
    "start_time": "2023-06-21T09:49:38.250Z"
   },
   {
    "duration": 70,
    "start_time": "2023-06-21T09:49:38.722Z"
   },
   {
    "duration": 3,
    "start_time": "2023-06-21T09:49:39.467Z"
   },
   {
    "duration": 37,
    "start_time": "2023-06-21T09:49:39.917Z"
   },
   {
    "duration": 9,
    "start_time": "2023-06-21T09:49:40.660Z"
   },
   {
    "duration": 10,
    "start_time": "2023-06-21T09:49:41.128Z"
   },
   {
    "duration": 12,
    "start_time": "2023-06-21T09:49:41.521Z"
   },
   {
    "duration": 30,
    "start_time": "2023-06-21T09:49:42.568Z"
   },
   {
    "duration": 19,
    "start_time": "2023-06-21T09:49:43.026Z"
   },
   {
    "duration": 11,
    "start_time": "2023-06-21T09:49:44.230Z"
   },
   {
    "duration": 18,
    "start_time": "2023-06-21T09:49:44.846Z"
   },
   {
    "duration": 37,
    "start_time": "2023-06-21T09:49:45.287Z"
   },
   {
    "duration": 35,
    "start_time": "2023-06-21T09:49:45.718Z"
   },
   {
    "duration": 12,
    "start_time": "2023-06-21T09:49:47.119Z"
   },
   {
    "duration": 25,
    "start_time": "2023-06-21T09:49:47.738Z"
   },
   {
    "duration": 8,
    "start_time": "2023-06-21T09:49:48.863Z"
   },
   {
    "duration": 17,
    "start_time": "2023-06-21T09:49:50.515Z"
   },
   {
    "duration": 28,
    "start_time": "2023-06-21T09:49:51.215Z"
   },
   {
    "duration": 0,
    "start_time": "2023-06-21T09:49:56.969Z"
   },
   {
    "duration": 5418,
    "start_time": "2023-06-21T09:49:58.264Z"
   },
   {
    "duration": 4146,
    "start_time": "2023-06-21T09:50:21.932Z"
   },
   {
    "duration": 110,
    "start_time": "2023-06-21T09:50:47.459Z"
   },
   {
    "duration": 155,
    "start_time": "2023-06-21T09:51:33.560Z"
   },
   {
    "duration": 85,
    "start_time": "2023-06-21T09:52:13.325Z"
   },
   {
    "duration": 30,
    "start_time": "2023-06-21T09:53:04.128Z"
   },
   {
    "duration": 634,
    "start_time": "2023-06-21T11:55:44.956Z"
   },
   {
    "duration": 23,
    "start_time": "2023-06-21T11:55:46.396Z"
   },
   {
    "duration": 21,
    "start_time": "2023-06-21T11:55:46.818Z"
   },
   {
    "duration": 15,
    "start_time": "2023-06-21T11:55:47.592Z"
   },
   {
    "duration": 45,
    "start_time": "2023-06-21T11:55:47.995Z"
   },
   {
    "duration": 4,
    "start_time": "2023-06-21T11:55:48.804Z"
   },
   {
    "duration": 22,
    "start_time": "2023-06-21T11:55:49.168Z"
   },
   {
    "duration": 5,
    "start_time": "2023-06-21T11:55:49.801Z"
   },
   {
    "duration": 9,
    "start_time": "2023-06-21T11:55:50.181Z"
   },
   {
    "duration": 5,
    "start_time": "2023-06-21T11:55:50.600Z"
   },
   {
    "duration": 32,
    "start_time": "2023-06-21T11:55:51.190Z"
   },
   {
    "duration": 11,
    "start_time": "2023-06-21T11:55:51.502Z"
   },
   {
    "duration": 5,
    "start_time": "2023-06-21T11:55:52.086Z"
   },
   {
    "duration": 12,
    "start_time": "2023-06-21T11:55:52.699Z"
   },
   {
    "duration": 21,
    "start_time": "2023-06-21T11:55:53.134Z"
   },
   {
    "duration": 19,
    "start_time": "2023-06-21T11:55:53.317Z"
   },
   {
    "duration": 3,
    "start_time": "2023-06-21T11:55:55.196Z"
   },
   {
    "duration": 10,
    "start_time": "2023-06-21T11:55:55.611Z"
   },
   {
    "duration": 6,
    "start_time": "2023-06-21T11:55:56.531Z"
   },
   {
    "duration": 4,
    "start_time": "2023-06-21T11:55:59.147Z"
   },
   {
    "duration": 10,
    "start_time": "2023-06-21T11:56:00.217Z"
   },
   {
    "duration": 66,
    "start_time": "2023-06-21T11:56:03.759Z"
   },
   {
    "duration": 49,
    "start_time": "2023-06-21T11:56:17.695Z"
   },
   {
    "duration": 73,
    "start_time": "2023-06-21T11:57:40.333Z"
   },
   {
    "duration": 31,
    "start_time": "2023-06-21T11:57:56.324Z"
   },
   {
    "duration": 47,
    "start_time": "2023-06-21T11:58:35.327Z"
   },
   {
    "duration": 92,
    "start_time": "2023-06-21T11:59:05.208Z"
   },
   {
    "duration": 68,
    "start_time": "2023-06-21T11:59:16.047Z"
   },
   {
    "duration": 100,
    "start_time": "2023-06-21T12:35:07.119Z"
   },
   {
    "duration": 45,
    "start_time": "2023-06-21T12:35:21.707Z"
   },
   {
    "duration": 57,
    "start_time": "2023-06-21T12:35:48.237Z"
   },
   {
    "duration": 13,
    "start_time": "2023-06-21T12:36:07.352Z"
   },
   {
    "duration": 17,
    "start_time": "2023-06-21T12:36:10.678Z"
   },
   {
    "duration": 11,
    "start_time": "2023-06-21T12:36:27.794Z"
   },
   {
    "duration": 51,
    "start_time": "2023-06-21T12:37:11.831Z"
   },
   {
    "duration": 47,
    "start_time": "2023-06-21T12:37:24.707Z"
   },
   {
    "duration": 53,
    "start_time": "2023-06-21T12:37:28.428Z"
   },
   {
    "duration": 24,
    "start_time": "2023-06-21T13:46:59.507Z"
   },
   {
    "duration": 14,
    "start_time": "2023-06-21T13:47:31.129Z"
   },
   {
    "duration": 12,
    "start_time": "2023-06-21T13:50:04.354Z"
   },
   {
    "duration": 11,
    "start_time": "2023-06-21T13:50:10.732Z"
   },
   {
    "duration": 634,
    "start_time": "2023-06-21T13:51:44.970Z"
   },
   {
    "duration": 14,
    "start_time": "2023-06-21T13:52:05.973Z"
   },
   {
    "duration": 593,
    "start_time": "2023-06-23T12:54:00.063Z"
   },
   {
    "duration": 33,
    "start_time": "2023-06-23T12:54:00.659Z"
   },
   {
    "duration": 18,
    "start_time": "2023-06-23T12:54:01.231Z"
   },
   {
    "duration": 14,
    "start_time": "2023-06-23T12:54:04.131Z"
   },
   {
    "duration": 37,
    "start_time": "2023-06-23T12:54:05.478Z"
   },
   {
    "duration": 3,
    "start_time": "2023-06-23T12:54:08.341Z"
   },
   {
    "duration": 10,
    "start_time": "2023-06-23T12:54:09.118Z"
   },
   {
    "duration": 5,
    "start_time": "2023-06-23T12:54:09.708Z"
   },
   {
    "duration": 8,
    "start_time": "2023-06-23T12:54:10.082Z"
   },
   {
    "duration": 5,
    "start_time": "2023-06-23T12:54:10.720Z"
   },
   {
    "duration": 44,
    "start_time": "2023-06-23T12:54:11.284Z"
   },
   {
    "duration": 15,
    "start_time": "2023-06-23T12:54:11.679Z"
   },
   {
    "duration": 4,
    "start_time": "2023-06-23T12:54:12.531Z"
   },
   {
    "duration": 14,
    "start_time": "2023-06-23T12:54:13.112Z"
   },
   {
    "duration": 21,
    "start_time": "2023-06-23T12:54:13.521Z"
   },
   {
    "duration": 20,
    "start_time": "2023-06-23T12:54:13.710Z"
   },
   {
    "duration": 4,
    "start_time": "2023-06-23T12:54:14.422Z"
   },
   {
    "duration": 11,
    "start_time": "2023-06-23T12:54:14.633Z"
   },
   {
    "duration": 6,
    "start_time": "2023-06-23T12:54:15.109Z"
   },
   {
    "duration": 8,
    "start_time": "2023-06-23T12:54:16.382Z"
   },
   {
    "duration": 13,
    "start_time": "2023-06-23T12:54:16.818Z"
   },
   {
    "duration": 19,
    "start_time": "2023-06-23T12:54:18.044Z"
   },
   {
    "duration": 10,
    "start_time": "2023-06-23T12:54:20.866Z"
   },
   {
    "duration": 14,
    "start_time": "2023-06-23T12:54:22.137Z"
   },
   {
    "duration": 9,
    "start_time": "2023-06-23T12:54:23.414Z"
   },
   {
    "duration": 57,
    "start_time": "2023-06-23T12:57:15.021Z"
   },
   {
    "duration": 23,
    "start_time": "2023-06-23T13:24:55.208Z"
   },
   {
    "duration": 88,
    "start_time": "2023-06-23T13:26:53.008Z"
   },
   {
    "duration": 16,
    "start_time": "2023-06-23T13:31:22.613Z"
   },
   {
    "duration": 37,
    "start_time": "2023-06-23T13:35:58.797Z"
   },
   {
    "duration": 17,
    "start_time": "2023-06-23T13:43:25.218Z"
   },
   {
    "duration": 19,
    "start_time": "2023-06-23T13:43:35.078Z"
   },
   {
    "duration": 24,
    "start_time": "2023-06-23T13:43:46.018Z"
   },
   {
    "duration": 36,
    "start_time": "2023-06-23T13:50:34.000Z"
   },
   {
    "duration": 18,
    "start_time": "2023-06-23T13:57:50.600Z"
   },
   {
    "duration": 28,
    "start_time": "2023-06-23T13:57:58.590Z"
   },
   {
    "duration": 91,
    "start_time": "2023-06-23T13:59:20.770Z"
   },
   {
    "duration": 70,
    "start_time": "2023-06-23T13:59:31.337Z"
   },
   {
    "duration": 38,
    "start_time": "2023-06-23T13:59:47.845Z"
   },
   {
    "duration": 30,
    "start_time": "2023-06-23T14:02:22.239Z"
   },
   {
    "duration": 20,
    "start_time": "2023-06-23T14:08:03.100Z"
   },
   {
    "duration": 19,
    "start_time": "2023-06-23T14:08:26.425Z"
   },
   {
    "duration": 20,
    "start_time": "2023-06-23T14:08:49.624Z"
   },
   {
    "duration": 21,
    "start_time": "2023-06-23T14:09:10.678Z"
   },
   {
    "duration": 31,
    "start_time": "2023-06-23T14:10:57.974Z"
   },
   {
    "duration": 46,
    "start_time": "2023-06-23T14:11:36.037Z"
   },
   {
    "duration": 27,
    "start_time": "2023-06-23T14:11:46.510Z"
   },
   {
    "duration": 24,
    "start_time": "2023-06-23T14:12:19.732Z"
   },
   {
    "duration": 30,
    "start_time": "2023-06-23T14:12:48.621Z"
   },
   {
    "duration": 29,
    "start_time": "2023-06-23T14:13:11.755Z"
   },
   {
    "duration": 25,
    "start_time": "2023-06-23T14:13:34.543Z"
   },
   {
    "duration": 26,
    "start_time": "2023-06-23T14:13:38.230Z"
   },
   {
    "duration": 30,
    "start_time": "2023-06-23T14:13:40.138Z"
   },
   {
    "duration": 34,
    "start_time": "2023-06-23T14:17:49.579Z"
   },
   {
    "duration": 21,
    "start_time": "2023-06-23T14:18:46.973Z"
   },
   {
    "duration": 15,
    "start_time": "2023-06-23T14:18:58.045Z"
   },
   {
    "duration": 22,
    "start_time": "2023-06-23T14:19:06.092Z"
   },
   {
    "duration": 88,
    "start_time": "2023-06-23T14:22:27.518Z"
   },
   {
    "duration": 18,
    "start_time": "2023-06-23T14:22:36.137Z"
   },
   {
    "duration": 1185,
    "start_time": "2023-06-23T14:22:42.130Z"
   },
   {
    "duration": 883,
    "start_time": "2023-06-23T14:23:00.029Z"
   },
   {
    "duration": 67,
    "start_time": "2023-06-23T14:24:36.938Z"
   },
   {
    "duration": 23,
    "start_time": "2023-06-23T14:24:57.667Z"
   },
   {
    "duration": 21,
    "start_time": "2023-06-23T14:26:11.227Z"
   },
   {
    "duration": 22,
    "start_time": "2023-06-23T14:27:03.300Z"
   },
   {
    "duration": 28,
    "start_time": "2023-06-23T14:27:30.619Z"
   },
   {
    "duration": 24,
    "start_time": "2023-06-23T14:29:33.614Z"
   },
   {
    "duration": 63,
    "start_time": "2023-06-23T14:33:27.107Z"
   },
   {
    "duration": 18,
    "start_time": "2023-06-23T14:33:40.604Z"
   },
   {
    "duration": 27,
    "start_time": "2023-06-23T14:33:56.467Z"
   },
   {
    "duration": 24,
    "start_time": "2023-06-23T14:35:32.194Z"
   },
   {
    "duration": 26,
    "start_time": "2023-06-23T14:37:14.602Z"
   },
   {
    "duration": 27,
    "start_time": "2023-06-23T14:40:48.805Z"
   },
   {
    "duration": 5,
    "start_time": "2023-06-23T14:41:02.501Z"
   },
   {
    "duration": 19,
    "start_time": "2023-06-23T14:41:09.544Z"
   },
   {
    "duration": 25,
    "start_time": "2023-06-23T14:42:24.199Z"
   },
   {
    "duration": 26,
    "start_time": "2023-06-23T14:52:47.732Z"
   },
   {
    "duration": 19,
    "start_time": "2023-06-23T14:53:23.340Z"
   },
   {
    "duration": 22,
    "start_time": "2023-06-23T14:53:50.369Z"
   },
   {
    "duration": 142,
    "start_time": "2023-06-23T15:02:17.298Z"
   },
   {
    "duration": 76,
    "start_time": "2023-06-23T15:02:22.644Z"
   },
   {
    "duration": 627,
    "start_time": "2023-06-27T15:02:37.704Z"
   },
   {
    "duration": 31,
    "start_time": "2023-06-27T15:02:38.339Z"
   },
   {
    "duration": 23,
    "start_time": "2023-06-27T15:02:38.372Z"
   },
   {
    "duration": 53,
    "start_time": "2023-06-27T15:02:38.397Z"
   },
   {
    "duration": 81,
    "start_time": "2023-06-27T15:02:38.452Z"
   },
   {
    "duration": 4,
    "start_time": "2023-06-27T15:02:38.535Z"
   },
   {
    "duration": 24,
    "start_time": "2023-06-27T15:02:38.542Z"
   },
   {
    "duration": 15,
    "start_time": "2023-06-27T15:02:38.568Z"
   },
   {
    "duration": 14,
    "start_time": "2023-06-27T15:02:38.585Z"
   },
   {
    "duration": 33,
    "start_time": "2023-06-27T15:02:38.601Z"
   },
   {
    "duration": 54,
    "start_time": "2023-06-27T15:02:38.638Z"
   },
   {
    "duration": 12,
    "start_time": "2023-06-27T15:02:38.694Z"
   },
   {
    "duration": 33,
    "start_time": "2023-06-27T15:02:38.708Z"
   },
   {
    "duration": 25,
    "start_time": "2023-06-27T15:02:38.744Z"
   },
   {
    "duration": 39,
    "start_time": "2023-06-27T15:02:38.771Z"
   },
   {
    "duration": 41,
    "start_time": "2023-06-27T15:02:38.815Z"
   },
   {
    "duration": 492,
    "start_time": "2023-06-27T15:02:38.858Z"
   },
   {
    "duration": 54,
    "start_time": "2023-06-27T15:02:39.353Z"
   },
   {
    "duration": 85,
    "start_time": "2023-06-27T15:02:39.417Z"
   },
   {
    "duration": 62,
    "start_time": "2023-06-27T15:02:39.504Z"
   },
   {
    "duration": 26,
    "start_time": "2023-06-27T15:02:39.568Z"
   },
   {
    "duration": 86,
    "start_time": "2023-06-27T15:02:39.597Z"
   },
   {
    "duration": 34,
    "start_time": "2023-06-27T15:02:39.686Z"
   },
   {
    "duration": 42,
    "start_time": "2023-06-27T15:02:39.726Z"
   },
   {
    "duration": 30,
    "start_time": "2023-06-27T15:02:39.770Z"
   },
   {
    "duration": 559,
    "start_time": "2023-06-27T15:03:02.209Z"
   },
   {
    "duration": 47,
    "start_time": "2023-06-27T15:03:02.771Z"
   },
   {
    "duration": 33,
    "start_time": "2023-06-27T15:03:02.824Z"
   },
   {
    "duration": 26,
    "start_time": "2023-06-27T15:03:02.859Z"
   },
   {
    "duration": 86,
    "start_time": "2023-06-27T15:03:02.888Z"
   },
   {
    "duration": 9,
    "start_time": "2023-06-27T15:03:02.976Z"
   },
   {
    "duration": 65,
    "start_time": "2023-06-27T15:03:02.987Z"
   },
   {
    "duration": 27,
    "start_time": "2023-06-27T15:03:03.054Z"
   },
   {
    "duration": 59,
    "start_time": "2023-06-27T15:03:03.083Z"
   },
   {
    "duration": 26,
    "start_time": "2023-06-27T15:03:03.144Z"
   },
   {
    "duration": 58,
    "start_time": "2023-06-27T15:03:03.172Z"
   },
   {
    "duration": 30,
    "start_time": "2023-06-27T15:03:03.232Z"
   },
   {
    "duration": 19,
    "start_time": "2023-06-27T15:03:03.264Z"
   },
   {
    "duration": 42,
    "start_time": "2023-06-27T15:03:03.286Z"
   },
   {
    "duration": 46,
    "start_time": "2023-06-27T15:03:03.336Z"
   },
   {
    "duration": 20,
    "start_time": "2023-06-27T15:03:03.384Z"
   },
   {
    "duration": 8,
    "start_time": "2023-06-27T15:03:03.406Z"
   },
   {
    "duration": 52,
    "start_time": "2023-06-27T15:03:03.418Z"
   },
   {
    "duration": 14,
    "start_time": "2023-06-27T15:03:03.472Z"
   },
   {
    "duration": 24,
    "start_time": "2023-06-27T15:03:03.488Z"
   },
   {
    "duration": 49,
    "start_time": "2023-06-27T15:03:03.514Z"
   },
   {
    "duration": 30,
    "start_time": "2023-06-27T15:03:03.565Z"
   },
   {
    "duration": 37,
    "start_time": "2023-06-27T15:03:03.597Z"
   },
   {
    "duration": 33,
    "start_time": "2023-06-27T15:03:03.637Z"
   },
   {
    "duration": 33,
    "start_time": "2023-06-27T15:03:03.672Z"
   }
  ],
  "colab": {
   "provenance": []
  },
  "kernelspec": {
   "display_name": "Python 3 (ipykernel)",
   "language": "python",
   "name": "python3"
  },
  "language_info": {
   "codemirror_mode": {
    "name": "ipython",
    "version": 3
   },
   "file_extension": ".py",
   "mimetype": "text/x-python",
   "name": "python",
   "nbconvert_exporter": "python",
   "pygments_lexer": "ipython3",
   "version": "3.11.9"
  },
  "toc": {
   "base_numbering": 1,
   "nav_menu": {},
   "number_sections": true,
   "sideBar": true,
   "skip_h1_title": true,
   "title_cell": "Table of Contents",
   "title_sidebar": "Contents",
   "toc_cell": false,
   "toc_position": {
    "height": "calc(100% - 180px)",
    "left": "10px",
    "top": "150px",
    "width": "371px"
   },
   "toc_section_display": true,
   "toc_window_display": true
  }
 },
 "nbformat": 4,
 "nbformat_minor": 5
}
