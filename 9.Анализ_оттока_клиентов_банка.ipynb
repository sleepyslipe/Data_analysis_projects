{
 "cells": [
  {
   "cell_type": "markdown",
   "metadata": {},
   "source": [
    "# Анализ оттока клиентов банка \"Метанпромбанк\""
   ]
  },
  {
   "cell_type": "markdown",
   "metadata": {},
   "source": [
    "## Материалы"
   ]
  },
  {
   "cell_type": "markdown",
   "metadata": {},
   "source": [
    "**Презентация**: https://drive.google.com/file/d/1K_Qg-taEoyvcyONnE9ESSJraidyxUurd/view?usp=sharing"
   ]
  },
  {
   "cell_type": "markdown",
   "metadata": {},
   "source": [
    "## Вступление"
   ]
  },
  {
   "cell_type": "markdown",
   "metadata": {},
   "source": [
    "### Краткое описание проекта"
   ]
  },
  {
   "cell_type": "markdown",
   "metadata": {},
   "source": [
    "Анализ оттока клиентов регионального банка \"Метанпромбанк\", филиалы которого располагаются в Ярославле, Рыбинске и Великом Ростове. Необходимо выяснить, какие клиенты уходят из банка, а также составить сегменты клиентов, которые склонны уходить из банка."
   ]
  },
  {
   "cell_type": "markdown",
   "metadata": {},
   "source": [
    "### Цель проекта"
   ]
  },
  {
   "cell_type": "markdown",
   "metadata": {},
   "source": [
    "Определить признаки отточности клиентов, сформировать сегменты клиентов, склонных уходить из банка, дать рекомендацию банку по уменьшению оттока клиентов."
   ]
  },
  {
   "cell_type": "markdown",
   "metadata": {},
   "source": [
    "### Задачи проекта"
   ]
  },
  {
   "cell_type": "markdown",
   "metadata": {},
   "source": [
    "- Исследовать признаки клиентов.\n",
    "- Выделить отточные сегменты.\n",
    "- Сформулировать рекомендации по уменьшению оттока клиентов."
   ]
  },
  {
   "cell_type": "markdown",
   "metadata": {},
   "source": [
    "### Описание данных"
   ]
  },
  {
   "cell_type": "markdown",
   "metadata": {},
   "source": [
    "Датасет bank_scrooge содержит данные о клиентах банка «Метанпромбанк».\n",
    "\n",
    "Колонки:\n",
    " - USERID — идентификатор пользователя,\n",
    " - score — баллы кредитного скоринга,\n",
    " - city — город,\n",
    " - gender — пол,\n",
    " - age — возраст,\n",
    " - equity — количество баллов собственности\n",
    " - balance — баланс на счёте,\n",
    " - products — количество продуктов, которыми пользуется клиент,\n",
    " - credit_card — есть ли кредитная карта,\n",
    " - last_activity — активный клиент,\n",
    " - EST_SALARY — оценочный доход клиента,\n",
    " - сhurn — признак оттока."
   ]
  },
  {
   "cell_type": "markdown",
   "metadata": {},
   "source": [
    "### План работы"
   ]
  },
  {
   "cell_type": "markdown",
   "metadata": {},
   "source": [
    "В ходе данного исследования будет создан датасет bank_scrooge, содержащий данные о клиентах банка \"Метанпромбанк\". Датасет будет проверен на пропуски, явные и неявные дубликаты. Столбец gender будет перекодирован в числовой формат (0 - Ж, 1 - М). Будет проведен анализ распределения признаков, в том числе в разрезе оттока (для непрерывных признаков будут определены отточные интервалы, для категориальных/дискретных будут найдены значения признака с оттоком выше, чем по банку). Будут составлены и проанализированы портреты клиентов в разрезе оттока, будет проведен и интерпретирован корреляционный анализ между исследуемыми признаками и оттоком. По итогам исследовательного анализа данных будут сформулированы и проверены статистические гипотезы. Будут сформированы и приоритезированы сегменты клиентов по признаку отточности, а также даны рекомендации банку по уменьшению оттока клиентов. Будет создана презентация в формате pdf по проведенному анализу.\n",
    "\n",
    "- Загрузка и предобработка данных:\n",
    "    - Загрузка данных\n",
    "    - Вывод данных и изучение основной информации\n",
    "    - Предобработка данных\n",
    "    - Кодирование данных"
   ]
  },
  {
   "cell_type": "markdown",
   "metadata": {},
   "source": [
    "- Исследовательский анализ данных:\n",
    "    - Исследование оттока клиентов в целом по банку\n",
    "    - Исследование распределения баллов кредитного скоринга\n",
    "    - Исследование распределения возраста клиентов\n",
    "    - Исследование распределения баланса на счёте\n",
    "    - Исследование распределения количества продуктов, которыми пользуется клиент\n",
    "    - Исследование распределения дохода клиентов\n",
    "    - Исследование распределения клиентов по городам\n",
    "    - Исследование распределения клиентов по полу\n",
    "    - Исследование распределения по наличию кредитной карты\n",
    "    - Исследование распределения по активности\n",
    "    - Составление и анализ портретов клиентов в разрезе оттока\n",
    "    - Корреляционный анализ и его интерпретация"
   ]
  },
  {
   "cell_type": "markdown",
   "metadata": {},
   "source": [
    "- Формулирование и проверка статистических гипотез:\n",
    "     - Проверка гипотезы различия дохода между ушедшими и не ушедшими клиентами\n",
    "     - Статистическая гипотеза №2"
   ]
  },
  {
   "cell_type": "markdown",
   "metadata": {},
   "source": [
    "- Сегментация клиентов по признаку отточности:\n",
    "     - Сегментация клиентов\n",
    "     - Приоритезация сегментов\n",
    "     - Рекомендации"
   ]
  },
  {
   "cell_type": "markdown",
   "metadata": {},
   "source": [
    "- Создание презентации\n",
    "- Выводы"
   ]
  },
  {
   "cell_type": "markdown",
   "metadata": {},
   "source": [
    "## Загрузка и предобработка данных"
   ]
  },
  {
   "cell_type": "markdown",
   "metadata": {},
   "source": [
    "### Загрузка данных"
   ]
  },
  {
   "cell_type": "code",
   "execution_count": 1,
   "metadata": {},
   "outputs": [
    {
     "name": "stdout",
     "output_type": "stream",
     "text": [
      "Requirement already satisfied: phik in /opt/conda/lib/python3.9/site-packages (0.12.4)\n",
      "Requirement already satisfied: numpy>=1.18.0 in /opt/conda/lib/python3.9/site-packages (from phik) (1.21.1)\n",
      "Requirement already satisfied: pandas>=0.25.1 in /opt/conda/lib/python3.9/site-packages (from phik) (1.2.4)\n",
      "Requirement already satisfied: joblib>=0.14.1 in /opt/conda/lib/python3.9/site-packages (from phik) (1.1.0)\n",
      "Requirement already satisfied: scipy>=1.5.2 in /opt/conda/lib/python3.9/site-packages (from phik) (1.9.1)\n",
      "Requirement already satisfied: matplotlib>=2.2.3 in /opt/conda/lib/python3.9/site-packages (from phik) (3.3.4)\n",
      "Requirement already satisfied: pillow>=6.2.0 in /opt/conda/lib/python3.9/site-packages (from matplotlib>=2.2.3->phik) (8.4.0)\n",
      "Requirement already satisfied: kiwisolver>=1.0.1 in /opt/conda/lib/python3.9/site-packages (from matplotlib>=2.2.3->phik) (1.4.4)\n",
      "Requirement already satisfied: pyparsing!=2.0.4,!=2.1.2,!=2.1.6,>=2.0.3 in /opt/conda/lib/python3.9/site-packages (from matplotlib>=2.2.3->phik) (2.4.7)\n",
      "Requirement already satisfied: python-dateutil>=2.1 in /opt/conda/lib/python3.9/site-packages (from matplotlib>=2.2.3->phik) (2.8.1)\n",
      "Requirement already satisfied: cycler>=0.10 in /opt/conda/lib/python3.9/site-packages (from matplotlib>=2.2.3->phik) (0.11.0)\n",
      "Requirement already satisfied: pytz>=2017.3 in /opt/conda/lib/python3.9/site-packages (from pandas>=0.25.1->phik) (2021.1)\n",
      "Requirement already satisfied: six>=1.5 in /opt/conda/lib/python3.9/site-packages (from python-dateutil>=2.1->matplotlib>=2.2.3->phik) (1.16.0)\n"
     ]
    }
   ],
   "source": [
    "# скачаем библиотеку phik\n",
    "!pip install phik"
   ]
  },
  {
   "cell_type": "code",
   "execution_count": 2,
   "metadata": {},
   "outputs": [],
   "source": [
    "# импортируем библиотеки\n",
    "import pandas as pd\n",
    "import seaborn as sns\n",
    "import matplotlib.pyplot as plt\n",
    "import numpy as np\n",
    "import phik\n",
    "from scipy import stats as st\n",
    "import math as mth"
   ]
  },
  {
   "cell_type": "code",
   "execution_count": 3,
   "metadata": {},
   "outputs": [],
   "source": [
    "# загрузим датасет\n",
    "bank_scrooge = pd.read_csv('/datasets/bank_scrooge.csv')"
   ]
  },
  {
   "cell_type": "markdown",
   "metadata": {},
   "source": [
    "### Вывод данных и изучение основной информации"
   ]
  },
  {
   "cell_type": "code",
   "execution_count": 4,
   "metadata": {},
   "outputs": [
    {
     "name": "stdout",
     "output_type": "stream",
     "text": [
      "\u001b[1mОсновная информация по таблице bank_scrooge\u001b[0m\n"
     ]
    },
    {
     "data": {
      "text/html": [
       "<div>\n",
       "<style scoped>\n",
       "    .dataframe tbody tr th:only-of-type {\n",
       "        vertical-align: middle;\n",
       "    }\n",
       "\n",
       "    .dataframe tbody tr th {\n",
       "        vertical-align: top;\n",
       "    }\n",
       "\n",
       "    .dataframe thead th {\n",
       "        text-align: right;\n",
       "    }\n",
       "</style>\n",
       "<table border=\"1\" class=\"dataframe\">\n",
       "  <thead>\n",
       "    <tr style=\"text-align: right;\">\n",
       "      <th></th>\n",
       "      <th>USERID</th>\n",
       "      <th>score</th>\n",
       "      <th>city</th>\n",
       "      <th>gender</th>\n",
       "      <th>age</th>\n",
       "      <th>equity</th>\n",
       "      <th>balance</th>\n",
       "      <th>products</th>\n",
       "      <th>credit_card</th>\n",
       "      <th>last_activity</th>\n",
       "      <th>EST_SALARY</th>\n",
       "      <th>churn</th>\n",
       "    </tr>\n",
       "  </thead>\n",
       "  <tbody>\n",
       "    <tr>\n",
       "      <th>0</th>\n",
       "      <td>183012</td>\n",
       "      <td>850.0</td>\n",
       "      <td>Рыбинск</td>\n",
       "      <td>Ж</td>\n",
       "      <td>25.0</td>\n",
       "      <td>1</td>\n",
       "      <td>59214.82</td>\n",
       "      <td>2</td>\n",
       "      <td>0</td>\n",
       "      <td>1</td>\n",
       "      <td>75719.14</td>\n",
       "      <td>1</td>\n",
       "    </tr>\n",
       "    <tr>\n",
       "      <th>1</th>\n",
       "      <td>146556</td>\n",
       "      <td>861.0</td>\n",
       "      <td>Рыбинск</td>\n",
       "      <td>Ж</td>\n",
       "      <td>37.0</td>\n",
       "      <td>5</td>\n",
       "      <td>850594.33</td>\n",
       "      <td>3</td>\n",
       "      <td>1</td>\n",
       "      <td>0</td>\n",
       "      <td>86621.77</td>\n",
       "      <td>0</td>\n",
       "    </tr>\n",
       "    <tr>\n",
       "      <th>2</th>\n",
       "      <td>120722</td>\n",
       "      <td>892.0</td>\n",
       "      <td>Рыбинск</td>\n",
       "      <td>Ж</td>\n",
       "      <td>30.0</td>\n",
       "      <td>0</td>\n",
       "      <td>NaN</td>\n",
       "      <td>1</td>\n",
       "      <td>1</td>\n",
       "      <td>1</td>\n",
       "      <td>107683.34</td>\n",
       "      <td>0</td>\n",
       "    </tr>\n",
       "    <tr>\n",
       "      <th>3</th>\n",
       "      <td>225363</td>\n",
       "      <td>866.0</td>\n",
       "      <td>Ярославль</td>\n",
       "      <td>Ж</td>\n",
       "      <td>51.0</td>\n",
       "      <td>5</td>\n",
       "      <td>1524746.26</td>\n",
       "      <td>2</td>\n",
       "      <td>0</td>\n",
       "      <td>1</td>\n",
       "      <td>174423.53</td>\n",
       "      <td>1</td>\n",
       "    </tr>\n",
       "    <tr>\n",
       "      <th>4</th>\n",
       "      <td>157978</td>\n",
       "      <td>730.0</td>\n",
       "      <td>Ярославль</td>\n",
       "      <td>М</td>\n",
       "      <td>34.0</td>\n",
       "      <td>5</td>\n",
       "      <td>174.00</td>\n",
       "      <td>1</td>\n",
       "      <td>1</td>\n",
       "      <td>0</td>\n",
       "      <td>67353.16</td>\n",
       "      <td>1</td>\n",
       "    </tr>\n",
       "    <tr>\n",
       "      <th>5</th>\n",
       "      <td>202305</td>\n",
       "      <td>856.0</td>\n",
       "      <td>Рыбинск</td>\n",
       "      <td>М</td>\n",
       "      <td>56.0</td>\n",
       "      <td>4</td>\n",
       "      <td>863687.24</td>\n",
       "      <td>3</td>\n",
       "      <td>1</td>\n",
       "      <td>0</td>\n",
       "      <td>156619.80</td>\n",
       "      <td>0</td>\n",
       "    </tr>\n",
       "    <tr>\n",
       "      <th>6</th>\n",
       "      <td>177259</td>\n",
       "      <td>807.0</td>\n",
       "      <td>Ярославль</td>\n",
       "      <td>Ж</td>\n",
       "      <td>39.0</td>\n",
       "      <td>3</td>\n",
       "      <td>405042.44</td>\n",
       "      <td>3</td>\n",
       "      <td>0</td>\n",
       "      <td>1</td>\n",
       "      <td>103838.32</td>\n",
       "      <td>0</td>\n",
       "    </tr>\n",
       "    <tr>\n",
       "      <th>7</th>\n",
       "      <td>218868</td>\n",
       "      <td>825.0</td>\n",
       "      <td>Ярославль</td>\n",
       "      <td>Ж</td>\n",
       "      <td>38.0</td>\n",
       "      <td>4</td>\n",
       "      <td>458145.40</td>\n",
       "      <td>2</td>\n",
       "      <td>1</td>\n",
       "      <td>1</td>\n",
       "      <td>68085.48</td>\n",
       "      <td>0</td>\n",
       "    </tr>\n",
       "    <tr>\n",
       "      <th>8</th>\n",
       "      <td>211686</td>\n",
       "      <td>923.0</td>\n",
       "      <td>Ярославль</td>\n",
       "      <td>М</td>\n",
       "      <td>54.0</td>\n",
       "      <td>5</td>\n",
       "      <td>1206337.87</td>\n",
       "      <td>2</td>\n",
       "      <td>1</td>\n",
       "      <td>0</td>\n",
       "      <td>155371.79</td>\n",
       "      <td>0</td>\n",
       "    </tr>\n",
       "    <tr>\n",
       "      <th>9</th>\n",
       "      <td>133130</td>\n",
       "      <td>906.0</td>\n",
       "      <td>Ярославль</td>\n",
       "      <td>Ж</td>\n",
       "      <td>67.0</td>\n",
       "      <td>0</td>\n",
       "      <td>NaN</td>\n",
       "      <td>1</td>\n",
       "      <td>0</td>\n",
       "      <td>1</td>\n",
       "      <td>238055.53</td>\n",
       "      <td>0</td>\n",
       "    </tr>\n",
       "  </tbody>\n",
       "</table>\n",
       "</div>"
      ],
      "text/plain": [
       "   USERID  score       city gender   age  equity     balance  products  \\\n",
       "0  183012  850.0    Рыбинск      Ж  25.0       1    59214.82         2   \n",
       "1  146556  861.0    Рыбинск      Ж  37.0       5   850594.33         3   \n",
       "2  120722  892.0    Рыбинск      Ж  30.0       0         NaN         1   \n",
       "3  225363  866.0  Ярославль      Ж  51.0       5  1524746.26         2   \n",
       "4  157978  730.0  Ярославль      М  34.0       5      174.00         1   \n",
       "5  202305  856.0    Рыбинск      М  56.0       4   863687.24         3   \n",
       "6  177259  807.0  Ярославль      Ж  39.0       3   405042.44         3   \n",
       "7  218868  825.0  Ярославль      Ж  38.0       4   458145.40         2   \n",
       "8  211686  923.0  Ярославль      М  54.0       5  1206337.87         2   \n",
       "9  133130  906.0  Ярославль      Ж  67.0       0         NaN         1   \n",
       "\n",
       "   credit_card  last_activity  EST_SALARY  churn  \n",
       "0            0              1    75719.14      1  \n",
       "1            1              0    86621.77      0  \n",
       "2            1              1   107683.34      0  \n",
       "3            0              1   174423.53      1  \n",
       "4            1              0    67353.16      1  \n",
       "5            1              0   156619.80      0  \n",
       "6            0              1   103838.32      0  \n",
       "7            1              1    68085.48      0  \n",
       "8            1              0   155371.79      0  \n",
       "9            0              1   238055.53      0  "
      ]
     },
     "metadata": {},
     "output_type": "display_data"
    },
    {
     "name": "stdout",
     "output_type": "stream",
     "text": [
      "**************************************************\n",
      "<class 'pandas.core.frame.DataFrame'>\n",
      "RangeIndex: 10000 entries, 0 to 9999\n",
      "Data columns (total 12 columns):\n",
      " #   Column         Non-Null Count  Dtype  \n",
      "---  ------         --------------  -----  \n",
      " 0   USERID         10000 non-null  int64  \n",
      " 1   score          10000 non-null  float64\n",
      " 2   city           10000 non-null  object \n",
      " 3   gender         10000 non-null  object \n",
      " 4   age            9974 non-null   float64\n",
      " 5   equity         10000 non-null  int64  \n",
      " 6   balance        7705 non-null   float64\n",
      " 7   products       10000 non-null  int64  \n",
      " 8   credit_card    10000 non-null  int64  \n",
      " 9   last_activity  10000 non-null  int64  \n",
      " 10  EST_SALARY     10000 non-null  float64\n",
      " 11  churn          10000 non-null  int64  \n",
      "dtypes: float64(4), int64(6), object(2)\n",
      "memory usage: 937.6+ KB\n"
     ]
    },
    {
     "data": {
      "text/plain": [
       "None"
      ]
     },
     "metadata": {},
     "output_type": "display_data"
    },
    {
     "name": "stdout",
     "output_type": "stream",
     "text": [
      "**************************************************\n",
      "Кол-во пропусков в bank_scrooge: 2321\n",
      "\n",
      "Кол-во явных дубликатов в bank_scrooge: 0\n",
      "\n"
     ]
    }
   ],
   "source": [
    "# выведем несколько строк датасета, основную информацию,\n",
    "# посчитаем количество пропусков и явных дубликатов\n",
    "dataframes = {\n",
    "    'bank_scrooge': bank_scrooge\n",
    "}\n",
    "\n",
    "# цикл скопирован из предыдущих проектов\n",
    "for name, df in dataframes.items():\n",
    "    print('\\033[1m' + f'Основная информация по таблице {name}' + '\\033[0m')\n",
    "    display(df.head(10))\n",
    "    print('*'*50)\n",
    "    display(df.info())\n",
    "    print('*'*50)\n",
    "    print(f'Кол-во пропусков в {name}: {df.isnull().sum().sum()}\\n')\n",
    "    print(f'Кол-во явных дубликатов в {name}: {df.duplicated().sum()}\\n')"
   ]
  },
  {
   "cell_type": "markdown",
   "metadata": {},
   "source": [
    "В датасете нашелся 2321 пропуск. Нет единообразного стиля в названиях столбцов (используются прописные и строчные буквы). Типы столбцов score и age можно заменить на int (целочисленный тип вместо типа с плавающей запятой float), предварительно убедившись, что отсутсвуют нецелые значения."
   ]
  },
  {
   "cell_type": "markdown",
   "metadata": {},
   "source": [
    "### Предобработка данных"
   ]
  },
  {
   "cell_type": "markdown",
   "metadata": {},
   "source": [
    "#### Переименование столбцов"
   ]
  },
  {
   "cell_type": "code",
   "execution_count": 5,
   "metadata": {},
   "outputs": [],
   "source": [
    "# приведем названия столбцов в единообразный вид (только строчные буквы, слова разделяются нижним подчеркиванием)\n",
    "bank_scrooge = bank_scrooge.rename(columns={'USERID': 'user_id', 'EST_SALARY': 'EST_SALARY'.lower()})"
   ]
  },
  {
   "cell_type": "markdown",
   "metadata": {},
   "source": [
    "#### Работа с дубликатами"
   ]
  },
  {
   "cell_type": "code",
   "execution_count": 6,
   "metadata": {},
   "outputs": [
    {
     "name": "stdout",
     "output_type": "stream",
     "text": [
      "['Рыбинск' 'Ярославль' 'Ростов']\n",
      "['Ж' 'М']\n"
     ]
    }
   ],
   "source": [
    "# проверим столбцы city и gender на неявные дубликаты \n",
    "print(bank_scrooge['city'].unique())\n",
    "print(bank_scrooge['gender'].unique())"
   ]
  },
  {
   "cell_type": "markdown",
   "metadata": {},
   "source": [
    "В столбцах city и gender неявных дубликатов не найдено."
   ]
  },
  {
   "cell_type": "code",
   "execution_count": 7,
   "metadata": {},
   "outputs": [
    {
     "data": {
      "text/plain": [
       "146"
      ]
     },
     "execution_count": 7,
     "metadata": {},
     "output_type": "execute_result"
    }
   ],
   "source": [
    "# посмотрим, есть ли дубликаты по столбцу user_id\n",
    "bank_scrooge.duplicated(subset=['user_id'], keep=False).sum()"
   ]
  },
  {
   "cell_type": "markdown",
   "metadata": {},
   "source": [
    "В столбце user_id найдено 146 дубликатов."
   ]
  },
  {
   "cell_type": "code",
   "execution_count": 8,
   "metadata": {},
   "outputs": [
    {
     "data": {
      "text/html": [
       "<div>\n",
       "<style scoped>\n",
       "    .dataframe tbody tr th:only-of-type {\n",
       "        vertical-align: middle;\n",
       "    }\n",
       "\n",
       "    .dataframe tbody tr th {\n",
       "        vertical-align: top;\n",
       "    }\n",
       "\n",
       "    .dataframe thead th {\n",
       "        text-align: right;\n",
       "    }\n",
       "</style>\n",
       "<table border=\"1\" class=\"dataframe\">\n",
       "  <thead>\n",
       "    <tr style=\"text-align: right;\">\n",
       "      <th></th>\n",
       "      <th>user_id</th>\n",
       "      <th>score</th>\n",
       "      <th>city</th>\n",
       "      <th>gender</th>\n",
       "      <th>age</th>\n",
       "      <th>equity</th>\n",
       "      <th>balance</th>\n",
       "      <th>products</th>\n",
       "      <th>credit_card</th>\n",
       "      <th>last_activity</th>\n",
       "      <th>est_salary</th>\n",
       "      <th>churn</th>\n",
       "    </tr>\n",
       "  </thead>\n",
       "  <tbody>\n",
       "    <tr>\n",
       "      <th>1893</th>\n",
       "      <td>116540</td>\n",
       "      <td>883.0</td>\n",
       "      <td>Рыбинск</td>\n",
       "      <td>Ж</td>\n",
       "      <td>55.0</td>\n",
       "      <td>1</td>\n",
       "      <td>362756.49</td>\n",
       "      <td>3</td>\n",
       "      <td>0</td>\n",
       "      <td>1</td>\n",
       "      <td>175920.48</td>\n",
       "      <td>1</td>\n",
       "    </tr>\n",
       "    <tr>\n",
       "      <th>7694</th>\n",
       "      <td>116540</td>\n",
       "      <td>887.0</td>\n",
       "      <td>Ярославль</td>\n",
       "      <td>Ж</td>\n",
       "      <td>38.0</td>\n",
       "      <td>0</td>\n",
       "      <td>NaN</td>\n",
       "      <td>1</td>\n",
       "      <td>0</td>\n",
       "      <td>1</td>\n",
       "      <td>119247.61</td>\n",
       "      <td>0</td>\n",
       "    </tr>\n",
       "    <tr>\n",
       "      <th>7542</th>\n",
       "      <td>117943</td>\n",
       "      <td>880.0</td>\n",
       "      <td>Ярославль</td>\n",
       "      <td>Ж</td>\n",
       "      <td>40.0</td>\n",
       "      <td>0</td>\n",
       "      <td>NaN</td>\n",
       "      <td>1</td>\n",
       "      <td>1</td>\n",
       "      <td>0</td>\n",
       "      <td>137718.93</td>\n",
       "      <td>0</td>\n",
       "    </tr>\n",
       "    <tr>\n",
       "      <th>4866</th>\n",
       "      <td>117943</td>\n",
       "      <td>855.0</td>\n",
       "      <td>Рыбинск</td>\n",
       "      <td>Ж</td>\n",
       "      <td>32.0</td>\n",
       "      <td>6</td>\n",
       "      <td>1036832.93</td>\n",
       "      <td>4</td>\n",
       "      <td>1</td>\n",
       "      <td>1</td>\n",
       "      <td>107792.71</td>\n",
       "      <td>1</td>\n",
       "    </tr>\n",
       "    <tr>\n",
       "      <th>5896</th>\n",
       "      <td>120258</td>\n",
       "      <td>905.0</td>\n",
       "      <td>Ярославль</td>\n",
       "      <td>М</td>\n",
       "      <td>30.0</td>\n",
       "      <td>0</td>\n",
       "      <td>NaN</td>\n",
       "      <td>1</td>\n",
       "      <td>1</td>\n",
       "      <td>1</td>\n",
       "      <td>146427.96</td>\n",
       "      <td>0</td>\n",
       "    </tr>\n",
       "    <tr>\n",
       "      <th>5863</th>\n",
       "      <td>120258</td>\n",
       "      <td>908.0</td>\n",
       "      <td>Рыбинск</td>\n",
       "      <td>Ж</td>\n",
       "      <td>38.0</td>\n",
       "      <td>4</td>\n",
       "      <td>2213581.63</td>\n",
       "      <td>2</td>\n",
       "      <td>0</td>\n",
       "      <td>1</td>\n",
       "      <td>160327.77</td>\n",
       "      <td>1</td>\n",
       "    </tr>\n",
       "    <tr>\n",
       "      <th>1411</th>\n",
       "      <td>123461</td>\n",
       "      <td>829.0</td>\n",
       "      <td>Ярославль</td>\n",
       "      <td>Ж</td>\n",
       "      <td>59.0</td>\n",
       "      <td>0</td>\n",
       "      <td>96222.44</td>\n",
       "      <td>2</td>\n",
       "      <td>0</td>\n",
       "      <td>1</td>\n",
       "      <td>102771.55</td>\n",
       "      <td>1</td>\n",
       "    </tr>\n",
       "    <tr>\n",
       "      <th>8638</th>\n",
       "      <td>123461</td>\n",
       "      <td>934.0</td>\n",
       "      <td>Рыбинск</td>\n",
       "      <td>М</td>\n",
       "      <td>34.0</td>\n",
       "      <td>0</td>\n",
       "      <td>NaN</td>\n",
       "      <td>2</td>\n",
       "      <td>1</td>\n",
       "      <td>0</td>\n",
       "      <td>291619.27</td>\n",
       "      <td>0</td>\n",
       "    </tr>\n",
       "    <tr>\n",
       "      <th>8164</th>\n",
       "      <td>124450</td>\n",
       "      <td>859.0</td>\n",
       "      <td>Ярославль</td>\n",
       "      <td>Ж</td>\n",
       "      <td>38.0</td>\n",
       "      <td>6</td>\n",
       "      <td>516811.20</td>\n",
       "      <td>1</td>\n",
       "      <td>1</td>\n",
       "      <td>1</td>\n",
       "      <td>95144.63</td>\n",
       "      <td>1</td>\n",
       "    </tr>\n",
       "    <tr>\n",
       "      <th>9775</th>\n",
       "      <td>124450</td>\n",
       "      <td>758.0</td>\n",
       "      <td>Рыбинск</td>\n",
       "      <td>Ж</td>\n",
       "      <td>36.0</td>\n",
       "      <td>0</td>\n",
       "      <td>73574.07</td>\n",
       "      <td>2</td>\n",
       "      <td>0</td>\n",
       "      <td>1</td>\n",
       "      <td>79963.59</td>\n",
       "      <td>0</td>\n",
       "    </tr>\n",
       "    <tr>\n",
       "      <th>4850</th>\n",
       "      <td>126368</td>\n",
       "      <td>909.0</td>\n",
       "      <td>Ярославль</td>\n",
       "      <td>Ж</td>\n",
       "      <td>30.0</td>\n",
       "      <td>4</td>\n",
       "      <td>1322623.29</td>\n",
       "      <td>2</td>\n",
       "      <td>0</td>\n",
       "      <td>1</td>\n",
       "      <td>140675.66</td>\n",
       "      <td>1</td>\n",
       "    </tr>\n",
       "    <tr>\n",
       "      <th>5420</th>\n",
       "      <td>126368</td>\n",
       "      <td>832.0</td>\n",
       "      <td>Рыбинск</td>\n",
       "      <td>Ж</td>\n",
       "      <td>33.0</td>\n",
       "      <td>0</td>\n",
       "      <td>NaN</td>\n",
       "      <td>1</td>\n",
       "      <td>0</td>\n",
       "      <td>0</td>\n",
       "      <td>118465.34</td>\n",
       "      <td>0</td>\n",
       "    </tr>\n",
       "    <tr>\n",
       "      <th>8785</th>\n",
       "      <td>127440</td>\n",
       "      <td>663.0</td>\n",
       "      <td>Ярославль</td>\n",
       "      <td>М</td>\n",
       "      <td>NaN</td>\n",
       "      <td>0</td>\n",
       "      <td>NaN</td>\n",
       "      <td>1</td>\n",
       "      <td>1</td>\n",
       "      <td>1</td>\n",
       "      <td>117197.56</td>\n",
       "      <td>0</td>\n",
       "    </tr>\n",
       "    <tr>\n",
       "      <th>4443</th>\n",
       "      <td>127440</td>\n",
       "      <td>846.0</td>\n",
       "      <td>Рыбинск</td>\n",
       "      <td>М</td>\n",
       "      <td>66.0</td>\n",
       "      <td>1</td>\n",
       "      <td>57405.67</td>\n",
       "      <td>2</td>\n",
       "      <td>0</td>\n",
       "      <td>1</td>\n",
       "      <td>17831.63</td>\n",
       "      <td>0</td>\n",
       "    </tr>\n",
       "    <tr>\n",
       "      <th>3988</th>\n",
       "      <td>129785</td>\n",
       "      <td>904.0</td>\n",
       "      <td>Рыбинск</td>\n",
       "      <td>М</td>\n",
       "      <td>33.0</td>\n",
       "      <td>5</td>\n",
       "      <td>2427737.60</td>\n",
       "      <td>3</td>\n",
       "      <td>0</td>\n",
       "      <td>1</td>\n",
       "      <td>188856.75</td>\n",
       "      <td>1</td>\n",
       "    </tr>\n",
       "    <tr>\n",
       "      <th>9504</th>\n",
       "      <td>129785</td>\n",
       "      <td>949.0</td>\n",
       "      <td>Ярославль</td>\n",
       "      <td>М</td>\n",
       "      <td>43.0</td>\n",
       "      <td>0</td>\n",
       "      <td>NaN</td>\n",
       "      <td>1</td>\n",
       "      <td>1</td>\n",
       "      <td>1</td>\n",
       "      <td>166845.37</td>\n",
       "      <td>0</td>\n",
       "    </tr>\n",
       "    <tr>\n",
       "      <th>904</th>\n",
       "      <td>131419</td>\n",
       "      <td>934.0</td>\n",
       "      <td>Ярославль</td>\n",
       "      <td>М</td>\n",
       "      <td>35.0</td>\n",
       "      <td>5</td>\n",
       "      <td>2348335.95</td>\n",
       "      <td>2</td>\n",
       "      <td>0</td>\n",
       "      <td>0</td>\n",
       "      <td>217105.13</td>\n",
       "      <td>1</td>\n",
       "    </tr>\n",
       "    <tr>\n",
       "      <th>2138</th>\n",
       "      <td>131419</td>\n",
       "      <td>739.0</td>\n",
       "      <td>Рыбинск</td>\n",
       "      <td>Ж</td>\n",
       "      <td>37.0</td>\n",
       "      <td>3</td>\n",
       "      <td>1307941.65</td>\n",
       "      <td>3</td>\n",
       "      <td>0</td>\n",
       "      <td>0</td>\n",
       "      <td>103867.47</td>\n",
       "      <td>0</td>\n",
       "    </tr>\n",
       "    <tr>\n",
       "      <th>7487</th>\n",
       "      <td>140377</td>\n",
       "      <td>930.0</td>\n",
       "      <td>Рыбинск</td>\n",
       "      <td>Ж</td>\n",
       "      <td>34.0</td>\n",
       "      <td>5</td>\n",
       "      <td>1123967.02</td>\n",
       "      <td>1</td>\n",
       "      <td>1</td>\n",
       "      <td>1</td>\n",
       "      <td>148336.26</td>\n",
       "      <td>0</td>\n",
       "    </tr>\n",
       "    <tr>\n",
       "      <th>1608</th>\n",
       "      <td>140377</td>\n",
       "      <td>802.0</td>\n",
       "      <td>Ярославль</td>\n",
       "      <td>М</td>\n",
       "      <td>26.0</td>\n",
       "      <td>3</td>\n",
       "      <td>539863.29</td>\n",
       "      <td>4</td>\n",
       "      <td>1</td>\n",
       "      <td>1</td>\n",
       "      <td>112167.83</td>\n",
       "      <td>1</td>\n",
       "    </tr>\n",
       "  </tbody>\n",
       "</table>\n",
       "</div>"
      ],
      "text/plain": [
       "      user_id  score       city gender   age  equity     balance  products  \\\n",
       "1893   116540  883.0    Рыбинск      Ж  55.0       1   362756.49         3   \n",
       "7694   116540  887.0  Ярославль      Ж  38.0       0         NaN         1   \n",
       "7542   117943  880.0  Ярославль      Ж  40.0       0         NaN         1   \n",
       "4866   117943  855.0    Рыбинск      Ж  32.0       6  1036832.93         4   \n",
       "5896   120258  905.0  Ярославль      М  30.0       0         NaN         1   \n",
       "5863   120258  908.0    Рыбинск      Ж  38.0       4  2213581.63         2   \n",
       "1411   123461  829.0  Ярославль      Ж  59.0       0    96222.44         2   \n",
       "8638   123461  934.0    Рыбинск      М  34.0       0         NaN         2   \n",
       "8164   124450  859.0  Ярославль      Ж  38.0       6   516811.20         1   \n",
       "9775   124450  758.0    Рыбинск      Ж  36.0       0    73574.07         2   \n",
       "4850   126368  909.0  Ярославль      Ж  30.0       4  1322623.29         2   \n",
       "5420   126368  832.0    Рыбинск      Ж  33.0       0         NaN         1   \n",
       "8785   127440  663.0  Ярославль      М   NaN       0         NaN         1   \n",
       "4443   127440  846.0    Рыбинск      М  66.0       1    57405.67         2   \n",
       "3988   129785  904.0    Рыбинск      М  33.0       5  2427737.60         3   \n",
       "9504   129785  949.0  Ярославль      М  43.0       0         NaN         1   \n",
       "904    131419  934.0  Ярославль      М  35.0       5  2348335.95         2   \n",
       "2138   131419  739.0    Рыбинск      Ж  37.0       3  1307941.65         3   \n",
       "7487   140377  930.0    Рыбинск      Ж  34.0       5  1123967.02         1   \n",
       "1608   140377  802.0  Ярославль      М  26.0       3   539863.29         4   \n",
       "\n",
       "      credit_card  last_activity  est_salary  churn  \n",
       "1893            0              1   175920.48      1  \n",
       "7694            0              1   119247.61      0  \n",
       "7542            1              0   137718.93      0  \n",
       "4866            1              1   107792.71      1  \n",
       "5896            1              1   146427.96      0  \n",
       "5863            0              1   160327.77      1  \n",
       "1411            0              1   102771.55      1  \n",
       "8638            1              0   291619.27      0  \n",
       "8164            1              1    95144.63      1  \n",
       "9775            0              1    79963.59      0  \n",
       "4850            0              1   140675.66      1  \n",
       "5420            0              0   118465.34      0  \n",
       "8785            1              1   117197.56      0  \n",
       "4443            0              1    17831.63      0  \n",
       "3988            0              1   188856.75      1  \n",
       "9504            1              1   166845.37      0  \n",
       "904             0              0   217105.13      1  \n",
       "2138            0              0   103867.47      0  \n",
       "7487            1              1   148336.26      0  \n",
       "1608            1              1   112167.83      1  "
      ]
     },
     "execution_count": 8,
     "metadata": {},
     "output_type": "execute_result"
    }
   ],
   "source": [
    "# посмотрим строки с дубликатами\n",
    "bank_scrooge[bank_scrooge.duplicated(subset=['user_id'], keep=False)].sort_values('user_id').head(20)"
   ]
  },
  {
   "cell_type": "markdown",
   "metadata": {},
   "source": [
    "Возраст клиентов, имеющих одинаковый user_id, - разный, следовательно, это разные люди. Строки с одинаковыми user_id отличаются городом. Отсюда можно сделать вывод, что филиалы разных городов имеют независимые базы, которые были объединены в одну. То есть user_id уникален для каждого города по отельности, а не в целом по банку."
   ]
  },
  {
   "cell_type": "code",
   "execution_count": 9,
   "metadata": {},
   "outputs": [
    {
     "data": {
      "text/plain": [
       "0"
      ]
     },
     "execution_count": 9,
     "metadata": {},
     "output_type": "execute_result"
    }
   ],
   "source": [
    "# проверим датасет на отсутствие дубликатов по паре столбцов: user_id и city\n",
    "bank_scrooge.duplicated(subset=['user_id', 'city'], keep=False).sum()"
   ]
  },
  {
   "cell_type": "markdown",
   "metadata": {},
   "source": [
    "Дубликатов по паре столбцов: user_id и city, - не найдено. Следовательно, моё утверждение выше верно.\n",
    "\n",
    "Оставим эти дубликаты как есть."
   ]
  },
  {
   "cell_type": "markdown",
   "metadata": {},
   "source": [
    "#### Работа с пропусками"
   ]
  },
  {
   "cell_type": "markdown",
   "metadata": {},
   "source": [
    "##### Общая информация о пропусках"
   ]
  },
  {
   "cell_type": "code",
   "execution_count": 10,
   "metadata": {},
   "outputs": [
    {
     "data": {
      "text/plain": [
       "user_id             0\n",
       "score               0\n",
       "city                0\n",
       "gender              0\n",
       "age                26\n",
       "equity              0\n",
       "balance          2295\n",
       "products            0\n",
       "credit_card         0\n",
       "last_activity       0\n",
       "est_salary          0\n",
       "churn               0\n",
       "dtype: int64"
      ]
     },
     "execution_count": 10,
     "metadata": {},
     "output_type": "execute_result"
    }
   ],
   "source": [
    "# посмотрим, в каких конкретно столбцах есть пропуски\n",
    "bank_scrooge.isnull().sum()"
   ]
  },
  {
   "cell_type": "markdown",
   "metadata": {},
   "source": [
    "В столбце age нашлось 26 пропусков, а в столбцу balance - 2295. В остальных столбцах пропусков нет."
   ]
  },
  {
   "cell_type": "code",
   "execution_count": 11,
   "metadata": {},
   "outputs": [
    {
     "data": {
      "text/plain": [
       "age         0.26\n",
       "balance    22.95\n",
       "dtype: float64"
      ]
     },
     "execution_count": 11,
     "metadata": {},
     "output_type": "execute_result"
    }
   ],
   "source": [
    "# посчитаем процент пропущенных значений\n",
    "(bank_scrooge[['age', 'balance']].isna().sum() / len(bank_scrooge[['age', 'balance']])).round(4) * 100"
   ]
  },
  {
   "cell_type": "markdown",
   "metadata": {},
   "source": [
    "В столбце age количество пропусков составляет всего лишь 0.26%, что довольно мало. А вот с столбце balance количество пропусков существенное - 22.95%."
   ]
  },
  {
   "cell_type": "markdown",
   "metadata": {},
   "source": [
    "##### Работа с пропусками в столбце age"
   ]
  },
  {
   "cell_type": "code",
   "execution_count": 12,
   "metadata": {},
   "outputs": [
    {
     "data": {
      "text/html": [
       "<div>\n",
       "<style scoped>\n",
       "    .dataframe tbody tr th:only-of-type {\n",
       "        vertical-align: middle;\n",
       "    }\n",
       "\n",
       "    .dataframe tbody tr th {\n",
       "        vertical-align: top;\n",
       "    }\n",
       "\n",
       "    .dataframe thead th {\n",
       "        text-align: right;\n",
       "    }\n",
       "</style>\n",
       "<table border=\"1\" class=\"dataframe\">\n",
       "  <thead>\n",
       "    <tr style=\"text-align: right;\">\n",
       "      <th></th>\n",
       "      <th>user_id</th>\n",
       "      <th>score</th>\n",
       "      <th>city</th>\n",
       "      <th>gender</th>\n",
       "      <th>age</th>\n",
       "      <th>equity</th>\n",
       "      <th>balance</th>\n",
       "      <th>products</th>\n",
       "      <th>credit_card</th>\n",
       "      <th>last_activity</th>\n",
       "      <th>est_salary</th>\n",
       "      <th>churn</th>\n",
       "    </tr>\n",
       "  </thead>\n",
       "  <tbody>\n",
       "    <tr>\n",
       "      <th>1247</th>\n",
       "      <td>228075</td>\n",
       "      <td>932.0</td>\n",
       "      <td>Ярославль</td>\n",
       "      <td>М</td>\n",
       "      <td>NaN</td>\n",
       "      <td>5</td>\n",
       "      <td>7601719.20</td>\n",
       "      <td>2</td>\n",
       "      <td>1</td>\n",
       "      <td>1</td>\n",
       "      <td>408121.16</td>\n",
       "      <td>0</td>\n",
       "    </tr>\n",
       "    <tr>\n",
       "      <th>2165</th>\n",
       "      <td>187635</td>\n",
       "      <td>692.0</td>\n",
       "      <td>Рыбинск</td>\n",
       "      <td>Ж</td>\n",
       "      <td>NaN</td>\n",
       "      <td>0</td>\n",
       "      <td>NaN</td>\n",
       "      <td>1</td>\n",
       "      <td>1</td>\n",
       "      <td>1</td>\n",
       "      <td>160368.82</td>\n",
       "      <td>0</td>\n",
       "    </tr>\n",
       "    <tr>\n",
       "      <th>2444</th>\n",
       "      <td>221156</td>\n",
       "      <td>913.0</td>\n",
       "      <td>Ярославль</td>\n",
       "      <td>М</td>\n",
       "      <td>NaN</td>\n",
       "      <td>0</td>\n",
       "      <td>NaN</td>\n",
       "      <td>1</td>\n",
       "      <td>1</td>\n",
       "      <td>1</td>\n",
       "      <td>135693.24</td>\n",
       "      <td>0</td>\n",
       "    </tr>\n",
       "    <tr>\n",
       "      <th>3091</th>\n",
       "      <td>138660</td>\n",
       "      <td>836.0</td>\n",
       "      <td>Ростов</td>\n",
       "      <td>Ж</td>\n",
       "      <td>NaN</td>\n",
       "      <td>5</td>\n",
       "      <td>294315.53</td>\n",
       "      <td>2</td>\n",
       "      <td>0</td>\n",
       "      <td>1</td>\n",
       "      <td>63310.22</td>\n",
       "      <td>1</td>\n",
       "    </tr>\n",
       "    <tr>\n",
       "      <th>4912</th>\n",
       "      <td>210674</td>\n",
       "      <td>834.0</td>\n",
       "      <td>Рыбинск</td>\n",
       "      <td>М</td>\n",
       "      <td>NaN</td>\n",
       "      <td>1</td>\n",
       "      <td>238330.52</td>\n",
       "      <td>2</td>\n",
       "      <td>0</td>\n",
       "      <td>1</td>\n",
       "      <td>93775.06</td>\n",
       "      <td>0</td>\n",
       "    </tr>\n",
       "    <tr>\n",
       "      <th>5470</th>\n",
       "      <td>218868</td>\n",
       "      <td>827.0</td>\n",
       "      <td>Рыбинск</td>\n",
       "      <td>Ж</td>\n",
       "      <td>NaN</td>\n",
       "      <td>4</td>\n",
       "      <td>448959.07</td>\n",
       "      <td>2</td>\n",
       "      <td>1</td>\n",
       "      <td>1</td>\n",
       "      <td>67835.95</td>\n",
       "      <td>0</td>\n",
       "    </tr>\n",
       "    <tr>\n",
       "      <th>5495</th>\n",
       "      <td>151662</td>\n",
       "      <td>884.0</td>\n",
       "      <td>Рыбинск</td>\n",
       "      <td>Ж</td>\n",
       "      <td>NaN</td>\n",
       "      <td>0</td>\n",
       "      <td>NaN</td>\n",
       "      <td>1</td>\n",
       "      <td>1</td>\n",
       "      <td>1</td>\n",
       "      <td>137500.77</td>\n",
       "      <td>0</td>\n",
       "    </tr>\n",
       "    <tr>\n",
       "      <th>7236</th>\n",
       "      <td>210135</td>\n",
       "      <td>908.0</td>\n",
       "      <td>Рыбинск</td>\n",
       "      <td>Ж</td>\n",
       "      <td>NaN</td>\n",
       "      <td>4</td>\n",
       "      <td>1120340.31</td>\n",
       "      <td>3</td>\n",
       "      <td>1</td>\n",
       "      <td>1</td>\n",
       "      <td>85002.15</td>\n",
       "      <td>0</td>\n",
       "    </tr>\n",
       "    <tr>\n",
       "      <th>7248</th>\n",
       "      <td>219343</td>\n",
       "      <td>920.0</td>\n",
       "      <td>Рыбинск</td>\n",
       "      <td>Ж</td>\n",
       "      <td>NaN</td>\n",
       "      <td>0</td>\n",
       "      <td>NaN</td>\n",
       "      <td>1</td>\n",
       "      <td>1</td>\n",
       "      <td>0</td>\n",
       "      <td>159248.67</td>\n",
       "      <td>0</td>\n",
       "    </tr>\n",
       "    <tr>\n",
       "      <th>7345</th>\n",
       "      <td>184913</td>\n",
       "      <td>829.0</td>\n",
       "      <td>Ярославль</td>\n",
       "      <td>Ж</td>\n",
       "      <td>NaN</td>\n",
       "      <td>3</td>\n",
       "      <td>188648.77</td>\n",
       "      <td>2</td>\n",
       "      <td>0</td>\n",
       "      <td>1</td>\n",
       "      <td>75206.90</td>\n",
       "      <td>0</td>\n",
       "    </tr>\n",
       "    <tr>\n",
       "      <th>7409</th>\n",
       "      <td>214031</td>\n",
       "      <td>777.0</td>\n",
       "      <td>Ярославль</td>\n",
       "      <td>М</td>\n",
       "      <td>NaN</td>\n",
       "      <td>2</td>\n",
       "      <td>171510.23</td>\n",
       "      <td>1</td>\n",
       "      <td>1</td>\n",
       "      <td>1</td>\n",
       "      <td>75409.63</td>\n",
       "      <td>0</td>\n",
       "    </tr>\n",
       "    <tr>\n",
       "      <th>8015</th>\n",
       "      <td>198635</td>\n",
       "      <td>670.0</td>\n",
       "      <td>Ярославль</td>\n",
       "      <td>Ж</td>\n",
       "      <td>NaN</td>\n",
       "      <td>0</td>\n",
       "      <td>NaN</td>\n",
       "      <td>1</td>\n",
       "      <td>1</td>\n",
       "      <td>1</td>\n",
       "      <td>168699.33</td>\n",
       "      <td>0</td>\n",
       "    </tr>\n",
       "    <tr>\n",
       "      <th>8070</th>\n",
       "      <td>226550</td>\n",
       "      <td>940.0</td>\n",
       "      <td>Рыбинск</td>\n",
       "      <td>М</td>\n",
       "      <td>NaN</td>\n",
       "      <td>0</td>\n",
       "      <td>NaN</td>\n",
       "      <td>1</td>\n",
       "      <td>0</td>\n",
       "      <td>1</td>\n",
       "      <td>147696.95</td>\n",
       "      <td>0</td>\n",
       "    </tr>\n",
       "    <tr>\n",
       "      <th>8293</th>\n",
       "      <td>216848</td>\n",
       "      <td>930.0</td>\n",
       "      <td>Ярославль</td>\n",
       "      <td>М</td>\n",
       "      <td>NaN</td>\n",
       "      <td>0</td>\n",
       "      <td>NaN</td>\n",
       "      <td>1</td>\n",
       "      <td>1</td>\n",
       "      <td>1</td>\n",
       "      <td>199542.51</td>\n",
       "      <td>0</td>\n",
       "    </tr>\n",
       "    <tr>\n",
       "      <th>8385</th>\n",
       "      <td>206759</td>\n",
       "      <td>915.0</td>\n",
       "      <td>Рыбинск</td>\n",
       "      <td>М</td>\n",
       "      <td>NaN</td>\n",
       "      <td>0</td>\n",
       "      <td>NaN</td>\n",
       "      <td>1</td>\n",
       "      <td>1</td>\n",
       "      <td>0</td>\n",
       "      <td>71179.53</td>\n",
       "      <td>0</td>\n",
       "    </tr>\n",
       "    <tr>\n",
       "      <th>8449</th>\n",
       "      <td>210898</td>\n",
       "      <td>805.0</td>\n",
       "      <td>Ярославль</td>\n",
       "      <td>Ж</td>\n",
       "      <td>NaN</td>\n",
       "      <td>0</td>\n",
       "      <td>NaN</td>\n",
       "      <td>1</td>\n",
       "      <td>0</td>\n",
       "      <td>1</td>\n",
       "      <td>922080.25</td>\n",
       "      <td>0</td>\n",
       "    </tr>\n",
       "    <tr>\n",
       "      <th>8632</th>\n",
       "      <td>221197</td>\n",
       "      <td>893.0</td>\n",
       "      <td>Ярославль</td>\n",
       "      <td>М</td>\n",
       "      <td>NaN</td>\n",
       "      <td>0</td>\n",
       "      <td>NaN</td>\n",
       "      <td>1</td>\n",
       "      <td>1</td>\n",
       "      <td>0</td>\n",
       "      <td>173929.92</td>\n",
       "      <td>0</td>\n",
       "    </tr>\n",
       "    <tr>\n",
       "      <th>8785</th>\n",
       "      <td>127440</td>\n",
       "      <td>663.0</td>\n",
       "      <td>Ярославль</td>\n",
       "      <td>М</td>\n",
       "      <td>NaN</td>\n",
       "      <td>0</td>\n",
       "      <td>NaN</td>\n",
       "      <td>1</td>\n",
       "      <td>1</td>\n",
       "      <td>1</td>\n",
       "      <td>117197.56</td>\n",
       "      <td>0</td>\n",
       "    </tr>\n",
       "    <tr>\n",
       "      <th>9104</th>\n",
       "      <td>222480</td>\n",
       "      <td>776.0</td>\n",
       "      <td>Рыбинск</td>\n",
       "      <td>Ж</td>\n",
       "      <td>NaN</td>\n",
       "      <td>5</td>\n",
       "      <td>796735.09</td>\n",
       "      <td>1</td>\n",
       "      <td>1</td>\n",
       "      <td>1</td>\n",
       "      <td>55073.63</td>\n",
       "      <td>0</td>\n",
       "    </tr>\n",
       "    <tr>\n",
       "      <th>9301</th>\n",
       "      <td>202983</td>\n",
       "      <td>942.0</td>\n",
       "      <td>Рыбинск</td>\n",
       "      <td>Ж</td>\n",
       "      <td>NaN</td>\n",
       "      <td>0</td>\n",
       "      <td>NaN</td>\n",
       "      <td>1</td>\n",
       "      <td>1</td>\n",
       "      <td>1</td>\n",
       "      <td>163804.73</td>\n",
       "      <td>0</td>\n",
       "    </tr>\n",
       "    <tr>\n",
       "      <th>9380</th>\n",
       "      <td>187459</td>\n",
       "      <td>894.0</td>\n",
       "      <td>Рыбинск</td>\n",
       "      <td>М</td>\n",
       "      <td>NaN</td>\n",
       "      <td>0</td>\n",
       "      <td>NaN</td>\n",
       "      <td>1</td>\n",
       "      <td>1</td>\n",
       "      <td>0</td>\n",
       "      <td>178012.28</td>\n",
       "      <td>0</td>\n",
       "    </tr>\n",
       "    <tr>\n",
       "      <th>9457</th>\n",
       "      <td>141945</td>\n",
       "      <td>929.0</td>\n",
       "      <td>Ярославль</td>\n",
       "      <td>М</td>\n",
       "      <td>NaN</td>\n",
       "      <td>0</td>\n",
       "      <td>NaN</td>\n",
       "      <td>1</td>\n",
       "      <td>1</td>\n",
       "      <td>0</td>\n",
       "      <td>381868.89</td>\n",
       "      <td>0</td>\n",
       "    </tr>\n",
       "    <tr>\n",
       "      <th>9632</th>\n",
       "      <td>185829</td>\n",
       "      <td>927.0</td>\n",
       "      <td>Ярославль</td>\n",
       "      <td>М</td>\n",
       "      <td>NaN</td>\n",
       "      <td>0</td>\n",
       "      <td>NaN</td>\n",
       "      <td>1</td>\n",
       "      <td>1</td>\n",
       "      <td>0</td>\n",
       "      <td>231254.86</td>\n",
       "      <td>0</td>\n",
       "    </tr>\n",
       "    <tr>\n",
       "      <th>9634</th>\n",
       "      <td>221809</td>\n",
       "      <td>917.0</td>\n",
       "      <td>Ярославль</td>\n",
       "      <td>М</td>\n",
       "      <td>NaN</td>\n",
       "      <td>0</td>\n",
       "      <td>NaN</td>\n",
       "      <td>1</td>\n",
       "      <td>1</td>\n",
       "      <td>1</td>\n",
       "      <td>192644.15</td>\n",
       "      <td>0</td>\n",
       "    </tr>\n",
       "    <tr>\n",
       "      <th>9667</th>\n",
       "      <td>163657</td>\n",
       "      <td>849.0</td>\n",
       "      <td>Ярославль</td>\n",
       "      <td>М</td>\n",
       "      <td>NaN</td>\n",
       "      <td>4</td>\n",
       "      <td>1254013.85</td>\n",
       "      <td>2</td>\n",
       "      <td>1</td>\n",
       "      <td>1</td>\n",
       "      <td>119106.67</td>\n",
       "      <td>0</td>\n",
       "    </tr>\n",
       "    <tr>\n",
       "      <th>9819</th>\n",
       "      <td>140934</td>\n",
       "      <td>832.0</td>\n",
       "      <td>Рыбинск</td>\n",
       "      <td>Ж</td>\n",
       "      <td>NaN</td>\n",
       "      <td>3</td>\n",
       "      <td>385763.16</td>\n",
       "      <td>2</td>\n",
       "      <td>0</td>\n",
       "      <td>1</td>\n",
       "      <td>59651.35</td>\n",
       "      <td>0</td>\n",
       "    </tr>\n",
       "  </tbody>\n",
       "</table>\n",
       "</div>"
      ],
      "text/plain": [
       "      user_id  score       city gender  age  equity     balance  products  \\\n",
       "1247   228075  932.0  Ярославль      М  NaN       5  7601719.20         2   \n",
       "2165   187635  692.0    Рыбинск      Ж  NaN       0         NaN         1   \n",
       "2444   221156  913.0  Ярославль      М  NaN       0         NaN         1   \n",
       "3091   138660  836.0     Ростов      Ж  NaN       5   294315.53         2   \n",
       "4912   210674  834.0    Рыбинск      М  NaN       1   238330.52         2   \n",
       "5470   218868  827.0    Рыбинск      Ж  NaN       4   448959.07         2   \n",
       "5495   151662  884.0    Рыбинск      Ж  NaN       0         NaN         1   \n",
       "7236   210135  908.0    Рыбинск      Ж  NaN       4  1120340.31         3   \n",
       "7248   219343  920.0    Рыбинск      Ж  NaN       0         NaN         1   \n",
       "7345   184913  829.0  Ярославль      Ж  NaN       3   188648.77         2   \n",
       "7409   214031  777.0  Ярославль      М  NaN       2   171510.23         1   \n",
       "8015   198635  670.0  Ярославль      Ж  NaN       0         NaN         1   \n",
       "8070   226550  940.0    Рыбинск      М  NaN       0         NaN         1   \n",
       "8293   216848  930.0  Ярославль      М  NaN       0         NaN         1   \n",
       "8385   206759  915.0    Рыбинск      М  NaN       0         NaN         1   \n",
       "8449   210898  805.0  Ярославль      Ж  NaN       0         NaN         1   \n",
       "8632   221197  893.0  Ярославль      М  NaN       0         NaN         1   \n",
       "8785   127440  663.0  Ярославль      М  NaN       0         NaN         1   \n",
       "9104   222480  776.0    Рыбинск      Ж  NaN       5   796735.09         1   \n",
       "9301   202983  942.0    Рыбинск      Ж  NaN       0         NaN         1   \n",
       "9380   187459  894.0    Рыбинск      М  NaN       0         NaN         1   \n",
       "9457   141945  929.0  Ярославль      М  NaN       0         NaN         1   \n",
       "9632   185829  927.0  Ярославль      М  NaN       0         NaN         1   \n",
       "9634   221809  917.0  Ярославль      М  NaN       0         NaN         1   \n",
       "9667   163657  849.0  Ярославль      М  NaN       4  1254013.85         2   \n",
       "9819   140934  832.0    Рыбинск      Ж  NaN       3   385763.16         2   \n",
       "\n",
       "      credit_card  last_activity  est_salary  churn  \n",
       "1247            1              1   408121.16      0  \n",
       "2165            1              1   160368.82      0  \n",
       "2444            1              1   135693.24      0  \n",
       "3091            0              1    63310.22      1  \n",
       "4912            0              1    93775.06      0  \n",
       "5470            1              1    67835.95      0  \n",
       "5495            1              1   137500.77      0  \n",
       "7236            1              1    85002.15      0  \n",
       "7248            1              0   159248.67      0  \n",
       "7345            0              1    75206.90      0  \n",
       "7409            1              1    75409.63      0  \n",
       "8015            1              1   168699.33      0  \n",
       "8070            0              1   147696.95      0  \n",
       "8293            1              1   199542.51      0  \n",
       "8385            1              0    71179.53      0  \n",
       "8449            0              1   922080.25      0  \n",
       "8632            1              0   173929.92      0  \n",
       "8785            1              1   117197.56      0  \n",
       "9104            1              1    55073.63      0  \n",
       "9301            1              1   163804.73      0  \n",
       "9380            1              0   178012.28      0  \n",
       "9457            1              0   381868.89      0  \n",
       "9632            1              0   231254.86      0  \n",
       "9634            1              1   192644.15      0  \n",
       "9667            1              1   119106.67      0  \n",
       "9819            0              1    59651.35      0  "
      ]
     },
     "execution_count": 12,
     "metadata": {},
     "output_type": "execute_result"
    }
   ],
   "source": [
    "# выведем все строки с пропусками в age и посмотрим на них\n",
    "bank_scrooge[bank_scrooge['age'].isnull()]"
   ]
  },
  {
   "cell_type": "markdown",
   "metadata": {},
   "source": [
    "Строки с пропусками в столбце age имеют разные значения по остальным столбцам, кроме разве что столбца churn. Исследовать средние значения churn для значений с пропусками и без в случае такого маленького количества пропусков (0.26%), думаю, смысла нет. "
   ]
  },
  {
   "cell_type": "code",
   "execution_count": 13,
   "metadata": {},
   "outputs": [
    {
     "data": {
      "text/html": [
       "<div>\n",
       "<style scoped>\n",
       "    .dataframe tbody tr th:only-of-type {\n",
       "        vertical-align: middle;\n",
       "    }\n",
       "\n",
       "    .dataframe tbody tr th {\n",
       "        vertical-align: top;\n",
       "    }\n",
       "\n",
       "    .dataframe thead th {\n",
       "        text-align: right;\n",
       "    }\n",
       "</style>\n",
       "<table border=\"1\" class=\"dataframe\">\n",
       "  <thead>\n",
       "    <tr style=\"text-align: right;\">\n",
       "      <th></th>\n",
       "      <th>score</th>\n",
       "      <th>city</th>\n",
       "      <th>gender</th>\n",
       "      <th>equity</th>\n",
       "      <th>balance</th>\n",
       "      <th>products</th>\n",
       "      <th>credit_card</th>\n",
       "      <th>last_activity</th>\n",
       "      <th>est_salary</th>\n",
       "      <th>churn</th>\n",
       "    </tr>\n",
       "  </thead>\n",
       "  <tbody>\n",
       "    <tr>\n",
       "      <th>0</th>\n",
       "      <td>850.0</td>\n",
       "      <td>Рыбинск</td>\n",
       "      <td>Ж</td>\n",
       "      <td>1</td>\n",
       "      <td>59214.82</td>\n",
       "      <td>2</td>\n",
       "      <td>0</td>\n",
       "      <td>1</td>\n",
       "      <td>75719.14</td>\n",
       "      <td>1</td>\n",
       "    </tr>\n",
       "    <tr>\n",
       "      <th>1</th>\n",
       "      <td>861.0</td>\n",
       "      <td>Рыбинск</td>\n",
       "      <td>Ж</td>\n",
       "      <td>5</td>\n",
       "      <td>850594.33</td>\n",
       "      <td>3</td>\n",
       "      <td>1</td>\n",
       "      <td>0</td>\n",
       "      <td>86621.77</td>\n",
       "      <td>0</td>\n",
       "    </tr>\n",
       "    <tr>\n",
       "      <th>2</th>\n",
       "      <td>892.0</td>\n",
       "      <td>Рыбинск</td>\n",
       "      <td>Ж</td>\n",
       "      <td>0</td>\n",
       "      <td>NaN</td>\n",
       "      <td>1</td>\n",
       "      <td>1</td>\n",
       "      <td>1</td>\n",
       "      <td>107683.34</td>\n",
       "      <td>0</td>\n",
       "    </tr>\n",
       "    <tr>\n",
       "      <th>3</th>\n",
       "      <td>866.0</td>\n",
       "      <td>Ярославль</td>\n",
       "      <td>Ж</td>\n",
       "      <td>5</td>\n",
       "      <td>1524746.26</td>\n",
       "      <td>2</td>\n",
       "      <td>0</td>\n",
       "      <td>1</td>\n",
       "      <td>174423.53</td>\n",
       "      <td>1</td>\n",
       "    </tr>\n",
       "    <tr>\n",
       "      <th>4</th>\n",
       "      <td>730.0</td>\n",
       "      <td>Ярославль</td>\n",
       "      <td>М</td>\n",
       "      <td>5</td>\n",
       "      <td>174.00</td>\n",
       "      <td>1</td>\n",
       "      <td>1</td>\n",
       "      <td>0</td>\n",
       "      <td>67353.16</td>\n",
       "      <td>1</td>\n",
       "    </tr>\n",
       "    <tr>\n",
       "      <th>...</th>\n",
       "      <td>...</td>\n",
       "      <td>...</td>\n",
       "      <td>...</td>\n",
       "      <td>...</td>\n",
       "      <td>...</td>\n",
       "      <td>...</td>\n",
       "      <td>...</td>\n",
       "      <td>...</td>\n",
       "      <td>...</td>\n",
       "      <td>...</td>\n",
       "    </tr>\n",
       "    <tr>\n",
       "      <th>9995</th>\n",
       "      <td>814.0</td>\n",
       "      <td>Рыбинск</td>\n",
       "      <td>М</td>\n",
       "      <td>1</td>\n",
       "      <td>78144.65</td>\n",
       "      <td>1</td>\n",
       "      <td>0</td>\n",
       "      <td>1</td>\n",
       "      <td>18943.64</td>\n",
       "      <td>0</td>\n",
       "    </tr>\n",
       "    <tr>\n",
       "      <th>9996</th>\n",
       "      <td>894.0</td>\n",
       "      <td>Ярославль</td>\n",
       "      <td>М</td>\n",
       "      <td>0</td>\n",
       "      <td>NaN</td>\n",
       "      <td>1</td>\n",
       "      <td>1</td>\n",
       "      <td>0</td>\n",
       "      <td>196898.29</td>\n",
       "      <td>0</td>\n",
       "    </tr>\n",
       "    <tr>\n",
       "      <th>9997</th>\n",
       "      <td>903.0</td>\n",
       "      <td>Ярославль</td>\n",
       "      <td>М</td>\n",
       "      <td>0</td>\n",
       "      <td>NaN</td>\n",
       "      <td>2</td>\n",
       "      <td>1</td>\n",
       "      <td>1</td>\n",
       "      <td>108905.09</td>\n",
       "      <td>0</td>\n",
       "    </tr>\n",
       "    <tr>\n",
       "      <th>9998</th>\n",
       "      <td>777.0</td>\n",
       "      <td>Ярославль</td>\n",
       "      <td>Ж</td>\n",
       "      <td>3</td>\n",
       "      <td>865457.97</td>\n",
       "      <td>3</td>\n",
       "      <td>0</td>\n",
       "      <td>1</td>\n",
       "      <td>86874.90</td>\n",
       "      <td>0</td>\n",
       "    </tr>\n",
       "    <tr>\n",
       "      <th>9999</th>\n",
       "      <td>828.0</td>\n",
       "      <td>Рыбинск</td>\n",
       "      <td>Ж</td>\n",
       "      <td>3</td>\n",
       "      <td>1180886.70</td>\n",
       "      <td>4</td>\n",
       "      <td>0</td>\n",
       "      <td>1</td>\n",
       "      <td>21422.37</td>\n",
       "      <td>0</td>\n",
       "    </tr>\n",
       "  </tbody>\n",
       "</table>\n",
       "<p>10000 rows × 10 columns</p>\n",
       "</div>"
      ],
      "text/plain": [
       "      score       city gender  equity     balance  products  credit_card  \\\n",
       "0     850.0    Рыбинск      Ж       1    59214.82         2            0   \n",
       "1     861.0    Рыбинск      Ж       5   850594.33         3            1   \n",
       "2     892.0    Рыбинск      Ж       0         NaN         1            1   \n",
       "3     866.0  Ярославль      Ж       5  1524746.26         2            0   \n",
       "4     730.0  Ярославль      М       5      174.00         1            1   \n",
       "...     ...        ...    ...     ...         ...       ...          ...   \n",
       "9995  814.0    Рыбинск      М       1    78144.65         1            0   \n",
       "9996  894.0  Ярославль      М       0         NaN         1            1   \n",
       "9997  903.0  Ярославль      М       0         NaN         2            1   \n",
       "9998  777.0  Ярославль      Ж       3   865457.97         3            0   \n",
       "9999  828.0    Рыбинск      Ж       3  1180886.70         4            0   \n",
       "\n",
       "      last_activity  est_salary  churn  \n",
       "0                 1    75719.14      1  \n",
       "1                 0    86621.77      0  \n",
       "2                 1   107683.34      0  \n",
       "3                 1   174423.53      1  \n",
       "4                 0    67353.16      1  \n",
       "...             ...         ...    ...  \n",
       "9995              1    18943.64      0  \n",
       "9996              0   196898.29      0  \n",
       "9997              1   108905.09      0  \n",
       "9998              1    86874.90      0  \n",
       "9999              1    21422.37      0  \n",
       "\n",
       "[10000 rows x 10 columns]"
      ]
     },
     "execution_count": 13,
     "metadata": {},
     "output_type": "execute_result"
    }
   ],
   "source": [
    "bank_scrooge.loc[: , ~bank_scrooge.columns.isin(['user_id', 'age'])]"
   ]
  },
  {
   "cell_type": "code",
   "execution_count": 14,
   "metadata": {},
   "outputs": [
    {
     "data": {
      "text/html": [
       "<div>\n",
       "<style scoped>\n",
       "    .dataframe tbody tr th:only-of-type {\n",
       "        vertical-align: middle;\n",
       "    }\n",
       "\n",
       "    .dataframe tbody tr th {\n",
       "        vertical-align: top;\n",
       "    }\n",
       "\n",
       "    .dataframe thead th {\n",
       "        text-align: right;\n",
       "    }\n",
       "</style>\n",
       "<table border=\"1\" class=\"dataframe\">\n",
       "  <thead>\n",
       "    <tr style=\"text-align: right;\">\n",
       "      <th></th>\n",
       "      <th>no_age</th>\n",
       "    </tr>\n",
       "  </thead>\n",
       "  <tbody>\n",
       "    <tr>\n",
       "      <th>score</th>\n",
       "      <td>0.059585</td>\n",
       "    </tr>\n",
       "    <tr>\n",
       "      <th>city</th>\n",
       "      <td>0.011859</td>\n",
       "    </tr>\n",
       "    <tr>\n",
       "      <th>gender</th>\n",
       "      <td>0.000000</td>\n",
       "    </tr>\n",
       "    <tr>\n",
       "      <th>equity</th>\n",
       "      <td>0.038201</td>\n",
       "    </tr>\n",
       "    <tr>\n",
       "      <th>balance</th>\n",
       "      <td>0.000000</td>\n",
       "    </tr>\n",
       "    <tr>\n",
       "      <th>products</th>\n",
       "      <td>0.044816</td>\n",
       "    </tr>\n",
       "    <tr>\n",
       "      <th>credit_card</th>\n",
       "      <td>0.000000</td>\n",
       "    </tr>\n",
       "    <tr>\n",
       "      <th>last_activity</th>\n",
       "      <td>0.032798</td>\n",
       "    </tr>\n",
       "    <tr>\n",
       "      <th>est_salary</th>\n",
       "      <td>0.009403</td>\n",
       "    </tr>\n",
       "    <tr>\n",
       "      <th>churn</th>\n",
       "      <td>0.020515</td>\n",
       "    </tr>\n",
       "  </tbody>\n",
       "</table>\n",
       "</div>"
      ],
      "text/plain": [
       "                 no_age\n",
       "score          0.059585\n",
       "city           0.011859\n",
       "gender         0.000000\n",
       "equity         0.038201\n",
       "balance        0.000000\n",
       "products       0.044816\n",
       "credit_card    0.000000\n",
       "last_activity  0.032798\n",
       "est_salary     0.009403\n",
       "churn          0.020515"
      ]
     },
     "execution_count": 14,
     "metadata": {},
     "output_type": "execute_result"
    }
   ],
   "source": [
    "# создадим столбец no_age, где 1 - пропуск в age, 0 - нет пропуска\n",
    "bank_scrooge['no_age'] = np.where(bank_scrooge['age'].isnull(), 1, 0)\n",
    "\n",
    "# построим матрицу корреляции между столбцом no_age (пропуски в age) и остальными признаками\n",
    "bank_scrooge.loc[: , ~bank_scrooge.columns.isin(['user_id', 'age'])].phik_matrix(\n",
    "        interval_cols=['score', 'balance', 'est_salary'])[['no_age']].iloc[:-1, :]"
   ]
  },
  {
   "cell_type": "markdown",
   "metadata": {},
   "source": [
    "По шкале Чеддока коэффициент корреляции ниже 0.1 означает, что зависимости нет. Все полученные коэффициенты корреляции меньше 0.1. Значит, пропуски в столбце age не коррелируют с остальными признаками."
   ]
  },
  {
   "cell_type": "markdown",
   "metadata": {},
   "source": [
    "Пометим пропуски в age как MAR (случайные пропуски) и удалим строки с пропущенными значениями в столбце age."
   ]
  },
  {
   "cell_type": "code",
   "execution_count": 15,
   "metadata": {},
   "outputs": [
    {
     "data": {
      "text/plain": [
       "0"
      ]
     },
     "execution_count": 15,
     "metadata": {},
     "output_type": "execute_result"
    }
   ],
   "source": [
    "# удалим столбец no_age\n",
    "del bank_scrooge['no_age']\n",
    "\n",
    "# удалим строки с пропусками в age\n",
    "bank_scrooge.dropna(axis = 'index', subset = ['age'], inplace = True)\n",
    "\n",
    "# убедимся, что пропуски удалены\n",
    "bank_scrooge.age.isna().sum()"
   ]
  },
  {
   "cell_type": "markdown",
   "metadata": {},
   "source": [
    "##### Работа с пропусками в столбце balance"
   ]
  },
  {
   "cell_type": "code",
   "execution_count": 16,
   "metadata": {},
   "outputs": [
    {
     "data": {
      "text/html": [
       "<div>\n",
       "<style scoped>\n",
       "    .dataframe tbody tr th:only-of-type {\n",
       "        vertical-align: middle;\n",
       "    }\n",
       "\n",
       "    .dataframe tbody tr th {\n",
       "        vertical-align: top;\n",
       "    }\n",
       "\n",
       "    .dataframe thead th {\n",
       "        text-align: right;\n",
       "    }\n",
       "</style>\n",
       "<table border=\"1\" class=\"dataframe\">\n",
       "  <thead>\n",
       "    <tr style=\"text-align: right;\">\n",
       "      <th></th>\n",
       "      <th>user_id</th>\n",
       "      <th>score</th>\n",
       "      <th>city</th>\n",
       "      <th>gender</th>\n",
       "      <th>age</th>\n",
       "      <th>equity</th>\n",
       "      <th>balance</th>\n",
       "      <th>products</th>\n",
       "      <th>credit_card</th>\n",
       "      <th>last_activity</th>\n",
       "      <th>est_salary</th>\n",
       "      <th>churn</th>\n",
       "    </tr>\n",
       "  </thead>\n",
       "  <tbody>\n",
       "    <tr>\n",
       "      <th>2</th>\n",
       "      <td>120722</td>\n",
       "      <td>892.0</td>\n",
       "      <td>Рыбинск</td>\n",
       "      <td>Ж</td>\n",
       "      <td>30.0</td>\n",
       "      <td>0</td>\n",
       "      <td>NaN</td>\n",
       "      <td>1</td>\n",
       "      <td>1</td>\n",
       "      <td>1</td>\n",
       "      <td>107683.34</td>\n",
       "      <td>0</td>\n",
       "    </tr>\n",
       "    <tr>\n",
       "      <th>9</th>\n",
       "      <td>133130</td>\n",
       "      <td>906.0</td>\n",
       "      <td>Ярославль</td>\n",
       "      <td>Ж</td>\n",
       "      <td>67.0</td>\n",
       "      <td>0</td>\n",
       "      <td>NaN</td>\n",
       "      <td>1</td>\n",
       "      <td>0</td>\n",
       "      <td>1</td>\n",
       "      <td>238055.53</td>\n",
       "      <td>0</td>\n",
       "    </tr>\n",
       "    <tr>\n",
       "      <th>10</th>\n",
       "      <td>148929</td>\n",
       "      <td>927.0</td>\n",
       "      <td>Ростов</td>\n",
       "      <td>М</td>\n",
       "      <td>52.0</td>\n",
       "      <td>0</td>\n",
       "      <td>NaN</td>\n",
       "      <td>1</td>\n",
       "      <td>1</td>\n",
       "      <td>1</td>\n",
       "      <td>196820.07</td>\n",
       "      <td>0</td>\n",
       "    </tr>\n",
       "    <tr>\n",
       "      <th>11</th>\n",
       "      <td>172184</td>\n",
       "      <td>921.0</td>\n",
       "      <td>Ростов</td>\n",
       "      <td>М</td>\n",
       "      <td>41.0</td>\n",
       "      <td>0</td>\n",
       "      <td>NaN</td>\n",
       "      <td>1</td>\n",
       "      <td>1</td>\n",
       "      <td>1</td>\n",
       "      <td>217469.48</td>\n",
       "      <td>0</td>\n",
       "    </tr>\n",
       "    <tr>\n",
       "      <th>19</th>\n",
       "      <td>127034</td>\n",
       "      <td>922.0</td>\n",
       "      <td>Рыбинск</td>\n",
       "      <td>Ж</td>\n",
       "      <td>53.0</td>\n",
       "      <td>0</td>\n",
       "      <td>NaN</td>\n",
       "      <td>1</td>\n",
       "      <td>0</td>\n",
       "      <td>0</td>\n",
       "      <td>147094.82</td>\n",
       "      <td>0</td>\n",
       "    </tr>\n",
       "    <tr>\n",
       "      <th>...</th>\n",
       "      <td>...</td>\n",
       "      <td>...</td>\n",
       "      <td>...</td>\n",
       "      <td>...</td>\n",
       "      <td>...</td>\n",
       "      <td>...</td>\n",
       "      <td>...</td>\n",
       "      <td>...</td>\n",
       "      <td>...</td>\n",
       "      <td>...</td>\n",
       "      <td>...</td>\n",
       "      <td>...</td>\n",
       "    </tr>\n",
       "    <tr>\n",
       "      <th>9976</th>\n",
       "      <td>208085</td>\n",
       "      <td>876.0</td>\n",
       "      <td>Ростов</td>\n",
       "      <td>М</td>\n",
       "      <td>38.0</td>\n",
       "      <td>0</td>\n",
       "      <td>NaN</td>\n",
       "      <td>1</td>\n",
       "      <td>0</td>\n",
       "      <td>0</td>\n",
       "      <td>171763.69</td>\n",
       "      <td>0</td>\n",
       "    </tr>\n",
       "    <tr>\n",
       "      <th>9984</th>\n",
       "      <td>125941</td>\n",
       "      <td>729.0</td>\n",
       "      <td>Ярославль</td>\n",
       "      <td>Ж</td>\n",
       "      <td>42.0</td>\n",
       "      <td>0</td>\n",
       "      <td>NaN</td>\n",
       "      <td>1</td>\n",
       "      <td>1</td>\n",
       "      <td>1</td>\n",
       "      <td>687538.70</td>\n",
       "      <td>0</td>\n",
       "    </tr>\n",
       "    <tr>\n",
       "      <th>9993</th>\n",
       "      <td>219924</td>\n",
       "      <td>884.0</td>\n",
       "      <td>Рыбинск</td>\n",
       "      <td>Ж</td>\n",
       "      <td>36.0</td>\n",
       "      <td>0</td>\n",
       "      <td>NaN</td>\n",
       "      <td>1</td>\n",
       "      <td>1</td>\n",
       "      <td>1</td>\n",
       "      <td>169844.88</td>\n",
       "      <td>0</td>\n",
       "    </tr>\n",
       "    <tr>\n",
       "      <th>9996</th>\n",
       "      <td>139170</td>\n",
       "      <td>894.0</td>\n",
       "      <td>Ярославль</td>\n",
       "      <td>М</td>\n",
       "      <td>46.0</td>\n",
       "      <td>0</td>\n",
       "      <td>NaN</td>\n",
       "      <td>1</td>\n",
       "      <td>1</td>\n",
       "      <td>0</td>\n",
       "      <td>196898.29</td>\n",
       "      <td>0</td>\n",
       "    </tr>\n",
       "    <tr>\n",
       "      <th>9997</th>\n",
       "      <td>115639</td>\n",
       "      <td>903.0</td>\n",
       "      <td>Ярославль</td>\n",
       "      <td>М</td>\n",
       "      <td>24.0</td>\n",
       "      <td>0</td>\n",
       "      <td>NaN</td>\n",
       "      <td>2</td>\n",
       "      <td>1</td>\n",
       "      <td>1</td>\n",
       "      <td>108905.09</td>\n",
       "      <td>0</td>\n",
       "    </tr>\n",
       "  </tbody>\n",
       "</table>\n",
       "<p>2279 rows × 12 columns</p>\n",
       "</div>"
      ],
      "text/plain": [
       "      user_id  score       city gender   age  equity  balance  products  \\\n",
       "2      120722  892.0    Рыбинск      Ж  30.0       0      NaN         1   \n",
       "9      133130  906.0  Ярославль      Ж  67.0       0      NaN         1   \n",
       "10     148929  927.0     Ростов      М  52.0       0      NaN         1   \n",
       "11     172184  921.0     Ростов      М  41.0       0      NaN         1   \n",
       "19     127034  922.0    Рыбинск      Ж  53.0       0      NaN         1   \n",
       "...       ...    ...        ...    ...   ...     ...      ...       ...   \n",
       "9976   208085  876.0     Ростов      М  38.0       0      NaN         1   \n",
       "9984   125941  729.0  Ярославль      Ж  42.0       0      NaN         1   \n",
       "9993   219924  884.0    Рыбинск      Ж  36.0       0      NaN         1   \n",
       "9996   139170  894.0  Ярославль      М  46.0       0      NaN         1   \n",
       "9997   115639  903.0  Ярославль      М  24.0       0      NaN         2   \n",
       "\n",
       "      credit_card  last_activity  est_salary  churn  \n",
       "2               1              1   107683.34      0  \n",
       "9               0              1   238055.53      0  \n",
       "10              1              1   196820.07      0  \n",
       "11              1              1   217469.48      0  \n",
       "19              0              0   147094.82      0  \n",
       "...           ...            ...         ...    ...  \n",
       "9976            0              0   171763.69      0  \n",
       "9984            1              1   687538.70      0  \n",
       "9993            1              1   169844.88      0  \n",
       "9996            1              0   196898.29      0  \n",
       "9997            1              1   108905.09      0  \n",
       "\n",
       "[2279 rows x 12 columns]"
      ]
     },
     "execution_count": 16,
     "metadata": {},
     "output_type": "execute_result"
    }
   ],
   "source": [
    "# посмотрим строки с пропусками в столбце balance\n",
    "bank_scrooge[bank_scrooge['balance'].isnull()]"
   ]
  },
  {
   "cell_type": "code",
   "execution_count": 17,
   "metadata": {},
   "outputs": [
    {
     "data": {
      "text/html": [
       "<div>\n",
       "<style scoped>\n",
       "    .dataframe tbody tr th:only-of-type {\n",
       "        vertical-align: middle;\n",
       "    }\n",
       "\n",
       "    .dataframe tbody tr th {\n",
       "        vertical-align: top;\n",
       "    }\n",
       "\n",
       "    .dataframe thead th {\n",
       "        text-align: right;\n",
       "    }\n",
       "</style>\n",
       "<table border=\"1\" class=\"dataframe\">\n",
       "  <thead>\n",
       "    <tr style=\"text-align: right;\">\n",
       "      <th></th>\n",
       "      <th>no_balance</th>\n",
       "    </tr>\n",
       "  </thead>\n",
       "  <tbody>\n",
       "    <tr>\n",
       "      <th>equity</th>\n",
       "      <td>0.975565</td>\n",
       "    </tr>\n",
       "    <tr>\n",
       "      <th>products</th>\n",
       "      <td>0.791714</td>\n",
       "    </tr>\n",
       "    <tr>\n",
       "      <th>score</th>\n",
       "      <td>0.754146</td>\n",
       "    </tr>\n",
       "    <tr>\n",
       "      <th>est_salary</th>\n",
       "      <td>0.429668</td>\n",
       "    </tr>\n",
       "    <tr>\n",
       "      <th>churn</th>\n",
       "      <td>0.380486</td>\n",
       "    </tr>\n",
       "    <tr>\n",
       "      <th>credit_card</th>\n",
       "      <td>0.244231</td>\n",
       "    </tr>\n",
       "    <tr>\n",
       "      <th>gender</th>\n",
       "      <td>0.096927</td>\n",
       "    </tr>\n",
       "    <tr>\n",
       "      <th>age</th>\n",
       "      <td>0.047756</td>\n",
       "    </tr>\n",
       "    <tr>\n",
       "      <th>last_activity</th>\n",
       "      <td>0.041335</td>\n",
       "    </tr>\n",
       "    <tr>\n",
       "      <th>city</th>\n",
       "      <td>0.039951</td>\n",
       "    </tr>\n",
       "  </tbody>\n",
       "</table>\n",
       "</div>"
      ],
      "text/plain": [
       "               no_balance\n",
       "equity           0.975565\n",
       "products         0.791714\n",
       "score            0.754146\n",
       "est_salary       0.429668\n",
       "churn            0.380486\n",
       "credit_card      0.244231\n",
       "gender           0.096927\n",
       "age              0.047756\n",
       "last_activity    0.041335\n",
       "city             0.039951"
      ]
     },
     "execution_count": 17,
     "metadata": {},
     "output_type": "execute_result"
    }
   ],
   "source": [
    "# создадим столбец no_age, где 1 - пропуск в age, 0 - нет пропуска\n",
    "bank_scrooge['no_balance'] = np.where(bank_scrooge['balance'].isnull(), 1, 0)\n",
    "\n",
    "# построим матрицу корреляции между столбцом no_age (пропуски в age) и остальными признаками\n",
    "bank_scrooge.loc[: , ~bank_scrooge.columns.isin(['user_id', 'balance'])].phik_matrix(\n",
    "        interval_cols=['score', 'age', 'est_salary'])[['no_balance']].iloc[:-1, :].sort_values('no_balance', ascending=False)"
   ]
  },
  {
   "cell_type": "markdown",
   "metadata": {},
   "source": [
    "По шкале Чеддока корреляция пропусков в столбцу balance с признаком:\n",
    "- equity - весьма высокая (0.98);\n",
    "- products - высокая (0.79);\n",
    "- score - высокая (0.75);\n",
    "- est_salary - умеренная (0.43);\n",
    "- churn - умеренная (0.38);\n",
    "- credit_card - слабая (0.24).\n",
    "\n",
    "Корреляция с остальными признаками отсутствует. Тем не менее, видим, что пропуски в столбце balance сильно зависимы от других признаков.\n",
    "\n",
    "Отнесем пропуски в столбце balance к типу MNAR (неслучайные пропуски). Такие пропуски нельзя отбрасывать или заполнять по медиане/среднему, оставим их как есть."
   ]
  },
  {
   "cell_type": "code",
   "execution_count": 18,
   "metadata": {},
   "outputs": [],
   "source": [
    "# удалим столбец no_balance\n",
    "del bank_scrooge['no_balance']"
   ]
  },
  {
   "cell_type": "markdown",
   "metadata": {},
   "source": [
    "#### Поиск аномалий"
   ]
  },
  {
   "cell_type": "code",
   "execution_count": 19,
   "metadata": {},
   "outputs": [
    {
     "data": {
      "text/html": [
       "<div>\n",
       "<style scoped>\n",
       "    .dataframe tbody tr th:only-of-type {\n",
       "        vertical-align: middle;\n",
       "    }\n",
       "\n",
       "    .dataframe tbody tr th {\n",
       "        vertical-align: top;\n",
       "    }\n",
       "\n",
       "    .dataframe thead th {\n",
       "        text-align: right;\n",
       "    }\n",
       "</style>\n",
       "<table border=\"1\" class=\"dataframe\">\n",
       "  <thead>\n",
       "    <tr style=\"text-align: right;\">\n",
       "      <th></th>\n",
       "      <th>user_id</th>\n",
       "      <th>score</th>\n",
       "      <th>city</th>\n",
       "      <th>gender</th>\n",
       "      <th>age</th>\n",
       "      <th>equity</th>\n",
       "      <th>balance</th>\n",
       "      <th>products</th>\n",
       "      <th>credit_card</th>\n",
       "      <th>last_activity</th>\n",
       "      <th>est_salary</th>\n",
       "      <th>churn</th>\n",
       "    </tr>\n",
       "  </thead>\n",
       "  <tbody>\n",
       "    <tr>\n",
       "      <th>8957</th>\n",
       "      <td>147837</td>\n",
       "      <td>962.0</td>\n",
       "      <td>Рыбинск</td>\n",
       "      <td>Ж</td>\n",
       "      <td>79.0</td>\n",
       "      <td>3</td>\n",
       "      <td>NaN</td>\n",
       "      <td>0</td>\n",
       "      <td>0</td>\n",
       "      <td>0</td>\n",
       "      <td>25063.96</td>\n",
       "      <td>1</td>\n",
       "    </tr>\n",
       "  </tbody>\n",
       "</table>\n",
       "</div>"
      ],
      "text/plain": [
       "      user_id  score     city gender   age  equity  balance  products  \\\n",
       "8957   147837  962.0  Рыбинск      Ж  79.0       3      NaN         0   \n",
       "\n",
       "      credit_card  last_activity  est_salary  churn  \n",
       "8957            0              0    25063.96      1  "
      ]
     },
     "execution_count": 19,
     "metadata": {},
     "output_type": "execute_result"
    }
   ],
   "source": [
    "# проверим, есть ли клиенты с нулевым количеством продуктов\n",
    "bank_scrooge[bank_scrooge['products'] == 0]"
   ]
  },
  {
   "cell_type": "markdown",
   "metadata": {},
   "source": [
    "Есть один клиент, количество продуктов которого равняется нулю. В таком случае, данный человек клиентов банка не является. Появление такого человека в базе можно назвать аномалией и следует удалить."
   ]
  },
  {
   "cell_type": "code",
   "execution_count": 20,
   "metadata": {},
   "outputs": [],
   "source": [
    "# удалим строчку с products, равным нулю\n",
    "bank_scrooge = bank_scrooge[bank_scrooge['products'] != 0]"
   ]
  },
  {
   "cell_type": "markdown",
   "metadata": {},
   "source": [
    "#### Работа с типами данных"
   ]
  },
  {
   "cell_type": "code",
   "execution_count": 21,
   "metadata": {},
   "outputs": [
    {
     "name": "stdout",
     "output_type": "stream",
     "text": [
      "[ 850.  861.  892.  866.  730.  856.  807.  825.  923.  906.  927.  921.\n",
      "  845.  837.  815.  731.  829.  793.  876.  922.  772.  896.  871.  732.\n",
      "  898.  806.  766.  776.  868.  946.  828.  786.  944.  863.  822.  794.\n",
      "  924.  811.  814.  956.  935.  826.  849.  901.  893.  792.  888.  831.\n",
      "  748.  820.  860.  914.  930.  948.  789.  737.  812.  933.  809.  749.\n",
      "  873.  859.  950.  937.  835.  768.  767.  785.  846.  750.  816.  894.\n",
      "  891.  788.  758.  787.  821.  855.  779.  791.  838.  971.  797.  841.\n",
      "  915.  985.  870.  897.  763.  774.  686. 1000.  875.  819.  869.  854.\n",
      "  810.  761.  802.  958.  917.  745.  736.  908.  928.  884.  853.  780.\n",
      "  726.  881.  975.  852.  965.  899.  890.  836.  818.  880.  795.  916.\n",
      "  775.  902.  918.  842.  771.  895.  801.  721.  966.  804.  885.  986.\n",
      "  753.  832.  979.  798.  754.  756.  823.  658.  734.  954.  827.  929.\n",
      "  760.  688.  659.  817.  718.  705.  920.  652.  649.  862.  770.  824.\n",
      "  934.  952.  977.  840.  709.  878.  808.  900.  778.  800.  813.  905.\n",
      "  925.  697.  942.  848.  717.  712.  973.  879.  987.  805.  872.  904.\n",
      "  939.  993.  790.  799.  943.  903.  839.  882.  765.  883.  964.  833.\n",
      "  739.  911.  926.  751.  803.  762.  907.  910.  694.  867.  877.  706.\n",
      "  708.  691.  742.  889.  919.  864.  663.  913.  940.  887.  953.  746.\n",
      "  699.  858.  834.  847.  727.  782.  720.  938.  711.  725.  912.  851.\n",
      "  743.  685.  830.  701.  733.  777.  784.  949.  724.  769.  687.  773.\n",
      "  857.  963.  741.  931.  974.  764.  886.  844.  874.  909.  951.  947.\n",
      "  689.  715.  865.  945.  796.  682.  714.  976.  992.  707.  713.  781.\n",
      "  668.  843.  932.  752.  962.  759.  757.  967.  646.  738.  722.  936.\n",
      "  664.  661.  728.  997.  755.  673.  703.  941.  988.  695.  961.  960.\n",
      "  651.  696.  653.  983.  972.  716.  692.  959.  783.  735.  968.  702.\n",
      "  740.  747.  955.  970.  990.  681.  744.  729.  982.  969.  980.  978.\n",
      "  710.  719.  655.  650.  991.  642.  700.  981.  657.  996.  669.  999.\n",
      "  698.  989.  957.  666.  671.  678.  693.  648.  690.  684.  994.  984.\n",
      "  723.  667.  654.  680.  998.  660.  670.  656.  665.  662.  704.  995.]\n",
      "[25. 37. 30. 51. 34. 56. 39. 38. 54. 67. 52. 41. 31. 28. 35. 42. 45. 53.\n",
      " 40. 43. 47. 48. 61. 62. 36. 26. 27. 60. 72. 50. 46. 55. 58. 71. 44. 49.\n",
      " 33. 32. 66. 29. 68. 73. 69. 59. 21. 65. 57. 63. 80. 24. 70. 77. 64. 23.\n",
      " 20. 18. 19. 78. 74. 76. 22. 75. 83. 82. 81. 84. 79. 86.]\n"
     ]
    }
   ],
   "source": [
    "# проверим, что столбцы score и age содержат только целочисленные значения.\n",
    "print(bank_scrooge['score'].unique())\n",
    "print(bank_scrooge['age'].unique())"
   ]
  },
  {
   "cell_type": "code",
   "execution_count": 22,
   "metadata": {},
   "outputs": [],
   "source": [
    "# заменим типы столбцов score и age на int\n",
    "bank_scrooge[['score', 'age']] = bank_scrooge[['score', 'age']].astype('int16')"
   ]
  },
  {
   "cell_type": "markdown",
   "metadata": {},
   "source": [
    "### Вывод"
   ]
  },
  {
   "cell_type": "markdown",
   "metadata": {},
   "source": [
    "1. Был создан датасет bank_scrooge, содержащий данные о клиентах банка «Метанпром».\n",
    "2. Была изучена основная информация по датасету bank_scrooge.\n",
    "3. Датафрейм был проверен на наличие явных дубликатов.\n",
    "4. Датафрейм был проверен на наличие пропусков. Нашлось 26 (0.26%) пропусков в столбце age и 2295 (22.95%) пропуска в столбце balance.\n",
    "5. Пропуски в столбце age были отнесены к типу MAR (случайные пропуски) и удалены.\n",
    "6. Пропуски в столбце balance были отнесены к типу MNAR (неслучайные пропуски) и оставлены как есть. Было выявлено, что наличие пропусков в столбце balance зависит от equity: основная часть пропусков наблюдается при значениях equity 0 и 1.\n",
    "7. Было найдено 146 дубликатов в столбце user_id. Было выяснено, что user_id уникален только в рамках конкретного города, но между городами могут быть пересечения по user_id. Клиенты, имеющий одинаковый user_id, являются разными людьми. Дубликаты оставлены как есть.\n",
    "8. Был найден клиент с 0 количеством используемых продуктов банка. Данный клиент был признан аномалией и удален из датафрейма.\n",
    "9. Названия столбцов были приведены к единообразному стилю: только строчные буквы, слова в названии разделены нижним подчеркиванием.\n",
    "10. Типы столбцов score и age были заменены на int16 (до этого был тип float).\n",
    "11. Был создан столбец gender_bool, где 1 - мужчина, 0 - женщина."
   ]
  },
  {
   "cell_type": "markdown",
   "metadata": {},
   "source": [
    "## Исследовательский анализ данных"
   ]
  },
  {
   "cell_type": "markdown",
   "metadata": {},
   "source": [
    "Анализ распределения признаков будет проводится в том числе в разрезе оттока клиентов."
   ]
  },
  {
   "cell_type": "markdown",
   "metadata": {},
   "source": [
    "### Исследование оттока клиентов в целом по банку"
   ]
  },
  {
   "cell_type": "markdown",
   "metadata": {},
   "source": [
    "Найдем количество ушедших клиентов в целом по банку."
   ]
  },
  {
   "cell_type": "code",
   "execution_count": 23,
   "metadata": {},
   "outputs": [
    {
     "name": "stdout",
     "output_type": "stream",
     "text": [
      "Количество ушедших клиентов: 1818\n",
      "Процент ушедших клиентов: 18.2\n"
     ]
    }
   ],
   "source": [
    "print('Количество ушедших клиентов:', bank_scrooge['churn'].sum())\n",
    "print('Процент ушедших клиентов:', bank_scrooge['churn'].mean().round(3) * 100)"
   ]
  },
  {
   "cell_type": "markdown",
   "metadata": {},
   "source": [
    "### Исследование распределения баллов кредитного скоринга"
   ]
  },
  {
   "cell_type": "markdown",
   "metadata": {},
   "source": [
    "Выясним, какое количество баллов кредитного скоринга имеют клиенты банка и как они распределены. Определим, как отличаются баллы кредитного скоринга среди ушедших и не ушедших клиентов."
   ]
  },
  {
   "cell_type": "code",
   "execution_count": 24,
   "metadata": {},
   "outputs": [
    {
     "data": {
      "image/png": "[encoded data removed]",
      "text/plain": [
       "<Figure size 1080x648 with 1 Axes>"
      ]
     },
     "metadata": {},
     "output_type": "display_data"
    }
   ],
   "source": [
    "sns.set()\n",
    "\n",
    "# зададим размер графика\n",
    "plt.figure(figsize=(15, 9))\n",
    "\n",
    "# построим гистограмму\n",
    "sns.histplot(bank_scrooge, \n",
    "             x='score', \n",
    "             hue='churn', \n",
    "             stat='density', \n",
    "             common_norm=False,\n",
    "             binwidth=10)\\\n",
    "    .set(title='Распределение баллов кредитного скоринга',\n",
    "         xlabel='Количество баллов кредитного скоринга',\n",
    "         ylabel='Плотность оттока')\n",
    "\n",
    "# добавим легенду\n",
    "plt.legend(['Ушедшие клиенты', 'Текущие клиенты']);"
   ]
  },
  {
   "cell_type": "markdown",
   "metadata": {},
   "source": [
    "Как видно из графика плотности распределения, ушедших клиентов больше среди тех, кто имеет среднее количество баллов кредитного скоринга (для обладателей 830-900 баллов вероятность ухода примерно в 1.5 раза выше, чем вероятность остаться). Среди клиентов с более низким кредитным скорингом (ниже 830) больше лояльных клиентов, причем чем меньше баллов, тем больше относительнвя лояльность.\n",
    "\n",
    "Количество баллов кредитного скоринга | Показатели оттока\n",
    ":------------------------------------ | :---------------\n",
    "650-725 | нет оттока\n",
    "725-750 | неушедших больше в 3-4 раза, чем ушедших\n",
    "750-800 | неушедших больше в 1.5-2 раза, чем ушедших\n",
    "800-830 | неушедших больше на 20%, чем ушедших\n",
    "830-850 | ушедших больше на 20%, чем неушедших\n",
    "850-900 | ушедших больше в 1.5-2 раза, чем неушедших\n",
    "900-1000 | ушедших и неушедших примерно одинаково\n",
    "\n",
    "Интервал оттока - 830-900 баллов кредитного скоринга (score)."
   ]
  },
  {
   "cell_type": "markdown",
   "metadata": {},
   "source": [
    "### Исследование распределения возраста клиентов"
   ]
  },
  {
   "cell_type": "markdown",
   "metadata": {},
   "source": [
    "Исследуем возраст клиентов банка: как он распределен в целом и среди ушедших и действующих клиентов банка."
   ]
  },
  {
   "cell_type": "code",
   "execution_count": 25,
   "metadata": {},
   "outputs": [
    {
     "data": {
      "image/png": "[encoded data removed]",
      "text/plain": [
       "<Figure size 1080x648 with 1 Axes>"
      ]
     },
     "metadata": {},
     "output_type": "display_data"
    }
   ],
   "source": [
    "# зададим размер графика\n",
    "plt.figure(figsize=(15, 9))\n",
    "\n",
    "# построим гистограмму\n",
    "sns.histplot(bank_scrooge, \n",
    "             x='age', \n",
    "             hue='churn', \n",
    "             stat='density', \n",
    "             common_norm=False,\n",
    "             binwidth=1)\\\n",
    "    .set(title='Распределение возраста клиентов',\n",
    "         xlabel='Возраст клиентов',\n",
    "         ylabel='Плотность оттока')\n",
    "\n",
    "# добавим легенду\n",
    "plt.legend(['Ушедшие клиенты', 'Текущие клиенты']);"
   ]
  },
  {
   "cell_type": "markdown",
   "metadata": {},
   "source": [
    "Самая нелояльная категория (в которой больше всего ушедших клиентов) - 50-61 год (ушедших клиентов в 2 раза больше, чем неушедших). Также больше ушедших клиентов в категории 26-35 лет, там разный процент оттока (кол-во ушедших клиентов в 1-2 раза больше, чем неушедших). Самыми лояльными оказались клиенты категории 39-49 лет и старше 61 года, причем среди самых возрастных клиентов процент оттока стремится к нулю. Молодежь (18-25 лет) также достаточно лояльна, количество ушедших клиентов среди них меньше, чем ушедших.\n",
    "\n",
    "Возраст клиентов | Показатели оттока\n",
    ":--------------- | :---------------\n",
    "18-19 лет | неушедших в 3 раза больше, чем ушедших\n",
    "20-22 лет | неушедших и ушедших одинаково\n",
    "23-25 лет | неушедших в 1.5-2 раза больше, чем ушедших\n",
    "26-29 лет | ушедших в 1.5 раза больше, чем неушедших\n",
    "30-35 лет | ушедших на 10-20% больше, чем неушедших\n",
    "36-49 лет | неушедших в 1.5 раза больше, чем ушедших\n",
    "50-61 год | ушедших в 2 раза больше, чем неушедших\n",
    "62-63 года | неушедших на 20-30% больше, чем ушедших\n",
    "64-69 лет | неушедших в 3-4 раза больше, чем ушедших\n",
    "70+ лет | оттока практически нет\n",
    "\n",
    "Интервалы оттока - 26-36 лет, 50-61 год (age)."
   ]
  },
  {
   "cell_type": "markdown",
   "metadata": {},
   "source": [
    "### Исследование распределения баланса на счёте"
   ]
  },
  {
   "cell_type": "markdown",
   "metadata": {},
   "source": [
    "Выясним, какой баланс на счёте имеют клиенты банка и как он распределен. Определим, как отличается баланс на счёте среди ушедших и действующих клиентов банка."
   ]
  },
  {
   "cell_type": "code",
   "execution_count": 26,
   "metadata": {},
   "outputs": [
    {
     "data": {
      "image/png": "[encoded data removed]",
      "text/plain": [
       "<Figure size 1080x648 with 1 Axes>"
      ]
     },
     "metadata": {},
     "output_type": "display_data"
    }
   ],
   "source": [
    "# зададим размер графика\n",
    "plt.figure(figsize=(15, 9))\n",
    "\n",
    "# построим гистограмму\n",
    "sns.histplot(bank_scrooge, \n",
    "             x='balance', \n",
    "             hue='churn', \n",
    "             stat='density', \n",
    "             common_norm=False)\\\n",
    "    .set(title='Распределение баланса на счёте',\n",
    "         xlabel='Баланс',\n",
    "         ylabel='Плотность оттока')\n",
    "\n",
    "# добавим легенду\n",
    "plt.legend(['Ушедшие клиенты', 'Текущие клиенты']);"
   ]
  },
  {
   "cell_type": "markdown",
   "metadata": {},
   "source": [
    "График получился слишком мелким. Приблизим его, ограничив диапазон по оси x."
   ]
  },
  {
   "cell_type": "code",
   "execution_count": 27,
   "metadata": {},
   "outputs": [
    {
     "data": {
      "image/png": "[encoded data removed]",
      "text/plain": [
       "<Figure size 1080x648 with 1 Axes>"
      ]
     },
     "metadata": {},
     "output_type": "display_data"
    }
   ],
   "source": [
    "# зададим размер графика\n",
    "plt.figure(figsize=(15, 9))\n",
    "\n",
    "# построим гистограмму\n",
    "sns.histplot(bank_scrooge, \n",
    "             x='balance', \n",
    "             hue='churn', \n",
    "             stat='density', \n",
    "             common_norm=False,\n",
    "             binwidth=100000)\\\n",
    "    .set(title='Распределение баланса на счёте',\n",
    "         xlabel='Баланс, млн руб',\n",
    "         ylabel='Плотность оттока',\n",
    "         xlim=(0, 4*10**6))\n",
    "\n",
    "# добавим легенду\n",
    "plt.legend(['Ушедшие клиенты', 'Текущие клиенты']);"
   ]
  },
  {
   "cell_type": "markdown",
   "metadata": {},
   "source": [
    "Среди клиентов с балансом менее 700 тысяч рублей неушедших клиентов больше, чем ушедших, причем самая больше разница наблюдается в диапазоне 0-500 тысяч рублей (неушедших в 1.5 раза больше, чем ушедших). В диапазоне 700-1100 тысяч рублей на счёте ушедших и неушедших примерно поровну. Среди клиентов, имеющих более 1.1 млн рублей на счету, ушедших больше, чем неушедших (в 2-3 раза).\n",
    "\n",
    "Баланс на счёте | Показатель оттока\n",
    ":-------------- | :---------------\n",
    "0-100 тыс. руб. | неушедших в 2 раза больше, чем ушедших\n",
    "100-500 тыс. руб. | неушедших в 1.5 раза больше, чем ушедших\n",
    "500-700 тыс. руб. | неушедших на 25-30% больше, чем ушедших\n",
    "700-1100 тыс. руб. | ушедших на 0-20% больше, чем неушедших\n",
    "1.1-1.5 млн руб. | ушедших в 1.5-2 раза чем неушедших\n",
    "более 1.5 млн руб. | ушедших в 3-4 раза чем неушедших\n",
    "\n",
    "Интервал оттока - 1.1 млн рублей и более на счёту клиента (balance)."
   ]
  },
  {
   "cell_type": "markdown",
   "metadata": {},
   "source": [
    "### Исследование распределения количества продуктов, которыми пользуется клиент"
   ]
  },
  {
   "cell_type": "markdown",
   "metadata": {},
   "source": [
    "Выясним, сколько продуктов имеют клиенты банка и как это количество различается для ушедших и действвующих клиентов."
   ]
  },
  {
   "cell_type": "code",
   "execution_count": 28,
   "metadata": {},
   "outputs": [
    {
     "data": {
      "image/png": "[encoded data removed]",
      "text/plain": [
       "<Figure size 864x576 with 1 Axes>"
      ]
     },
     "metadata": {},
     "output_type": "display_data"
    }
   ],
   "source": [
    "# зададим размер графика\n",
    "plt.figure(figsize=(12, 8))\n",
    "\n",
    "# построим гистограмму\n",
    "sns.barplot(data=bank_scrooge, x='products', y='churn', color='m')\\\n",
    "    .set(title='Распределение количества продуктов, которыми пользуется клиент',\n",
    "         xlabel='Количество продуктов',\n",
    "         ylabel='Доля оттока')\n",
    "\n",
    "# построим линию, показывающую средний уровень оттока по банку\n",
    "plt.axhline(bank_scrooge['churn'].mean(), color='k', linestyle='--', label='средний отток по банку 0.182')\n",
    "\n",
    "# добавим легенду\n",
    "plt.legend();"
   ]
  },
  {
   "cell_type": "markdown",
   "metadata": {},
   "source": [
    "Черной линией на графике показан средний уровень оттока по банку - 0.182 (18.2%). Клиенты, имеющие 1 или 2 продукта, не показываеют повышенный отток. Среди клиентов, имеющих 3 продукта, отток в 1.5 раза превышает средний и составляет 28%. Самый большой процент оттока имеют клиенты с 4 продуктами - 63%, что больше чем в 3 раза выше среднего значения по банку. Клиенты с 5 продуктами показывают 42%-ый отток.\n",
    "\n",
    "Клиенты с 3-5 продуктами (products) склонны к оттоку. Самые нелояльные - клиенты с 4 продуктами."
   ]
  },
  {
   "cell_type": "markdown",
   "metadata": {},
   "source": [
    "### Исследование распределения количества баллов собственности"
   ]
  },
  {
   "cell_type": "markdown",
   "metadata": {},
   "source": [
    "Посмотрим, сколько баллов собственности имеют клиенты банка и как это количество различается для ушедших и действвующих клиентов."
   ]
  },
  {
   "cell_type": "code",
   "execution_count": 29,
   "metadata": {},
   "outputs": [
    {
     "data": {
      "image/png": "[encoded data removed]",
      "text/plain": [
       "<Figure size 864x576 with 1 Axes>"
      ]
     },
     "metadata": {},
     "output_type": "display_data"
    }
   ],
   "source": [
    "# зададим размер графика\n",
    "plt.figure(figsize=(12, 8))\n",
    "\n",
    "# построим гистограмму\n",
    "sns.barplot(data=bank_scrooge, x='equity', y='churn', color='m')\\\n",
    "    .set(title='Распределение баллов собственности клиентов',\n",
    "         xlabel='Количество баллов собственности',\n",
    "         ylabel='Доля оттока')\n",
    "\n",
    "# построим линию, показывающую средний уровень оттока по банку\n",
    "plt.axhline(bank_scrooge['churn'].mean(), color='k', linestyle='--', label='средний отток по банку 0.182')\n",
    "\n",
    "# добавим легенду\n",
    "plt.legend();"
   ]
  },
  {
   "cell_type": "markdown",
   "metadata": {},
   "source": [
    "Клиенты, имеющие большее количество баллов собственности, более склонны к оттоку. Причем зависимость практически линейная - чем больше баллов собственности, тем больше доля оттока. При количестве баллов 0-2 доля оттока ниже, чем в целом по банку, а при количестве баллов 3-9 - выше. Самую маленькую долю оттока показывают клиенты с 0 баллов собственности - около 0.03, самую большую - клиенты с 9 баллами собственности (самое большое значение данной признака в датафрейме) - около 0.54.\n",
    "\n",
    "Клиенты с 3-9 баллами собственности склонны к оттоку. В целом, чем больше баллов собственности, тем менее лояльны клиенты."
   ]
  },
  {
   "cell_type": "markdown",
   "metadata": {},
   "source": [
    "### Исследование распределения дохода клиентов"
   ]
  },
  {
   "cell_type": "markdown",
   "metadata": {},
   "source": [
    "Посмотрим, как распределяется доход клиентов банка в целом и в разрезе оттока клиентов."
   ]
  },
  {
   "cell_type": "code",
   "execution_count": 30,
   "metadata": {},
   "outputs": [
    {
     "data": {
      "image/png": "[encoded data removed]",
      "text/plain": [
       "<Figure size 1080x648 with 1 Axes>"
      ]
     },
     "metadata": {},
     "output_type": "display_data"
    }
   ],
   "source": [
    "# зададим размер графика\n",
    "plt.figure(figsize=(15, 9))\n",
    "\n",
    "# построим гистограмму\n",
    "sns.histplot(bank_scrooge, \n",
    "             x='est_salary', \n",
    "             hue='churn', \n",
    "             stat='density', \n",
    "             common_norm=False)\\\n",
    "    .set(title='Распределение дохода клиента',\n",
    "         xlabel='Доход клиента',\n",
    "         ylabel='Плотность оттока')\n",
    "\n",
    "# добавим легенду\n",
    "plt.legend(['Ушедшие клиенты', 'Текущие клиенты']);"
   ]
  },
  {
   "cell_type": "markdown",
   "metadata": {},
   "source": [
    "Обрежем график по оси x, чтобы подробнее рассмотреть его."
   ]
  },
  {
   "cell_type": "code",
   "execution_count": 31,
   "metadata": {},
   "outputs": [
    {
     "data": {
      "image/png": "[encoded data removed]",
      "text/plain": [
       "<Figure size 1080x648 with 1 Axes>"
      ]
     },
     "metadata": {},
     "output_type": "display_data"
    }
   ],
   "source": [
    "# зададим размер графика\n",
    "plt.figure(figsize=(15, 9))\n",
    "\n",
    "# построим гистограмму\n",
    "sns.histplot(bank_scrooge, \n",
    "             x='est_salary', \n",
    "             hue='churn', \n",
    "             stat='density', \n",
    "             common_norm=False,\n",
    "             binwidth=10000)\\\n",
    "    .set(title='Распределение дохода клиента',\n",
    "         xlabel='Доход клиента',\n",
    "         ylabel='Плотность оттока',\n",
    "         xlim=(0, 5*10**5))\n",
    "\n",
    "# добавим легенду\n",
    "plt.legend(['Ушедшие клиенты', 'Текущие клиенты']);"
   ]
  },
  {
   "cell_type": "markdown",
   "metadata": {},
   "source": [
    "Среди клиентов, имеющих доход ниже 80 тыс. руб., больше неушедших, чем ушедших (на 5-50%). Клиенты с доходом 100-200 тыс. руб. являются самыми нелояльными, среди них ушедших больше (на 5-20%). Среди Клиентов с доходом выше 200 тыс. руб. склонных к оттоку примерно столько же, сколько и склонных оставаться клиентами банка.\n",
    "\n",
    "Интервал оттока - клиенты с доходом (est_salary) 100-200 тыс. рублей."
   ]
  },
  {
   "cell_type": "markdown",
   "metadata": {},
   "source": [
    "### Исследование распределения клиентов по городам"
   ]
  },
  {
   "cell_type": "markdown",
   "metadata": {},
   "source": [
    "Выясним, сколько клиентов обслуживают банки городов Ярославль, Рыбинск и Великий Ростов и какой процент отточности имеют данные города."
   ]
  },
  {
   "cell_type": "code",
   "execution_count": 32,
   "metadata": {},
   "outputs": [
    {
     "data": {
      "image/png": "[encoded data removed]",
      "text/plain": [
       "<Figure size 720x576 with 1 Axes>"
      ]
     },
     "metadata": {},
     "output_type": "display_data"
    }
   ],
   "source": [
    "# зададим размер графика\n",
    "plt.figure(figsize=(10, 8))\n",
    "\n",
    "# построим гистограмму\n",
    "sns.barplot(data=bank_scrooge, x='city', y='churn', color='m')\\\n",
    "    .set(title='Распределение клиентов по городам',\n",
    "         xlabel='Город',\n",
    "         ylabel='Доля оттока')\n",
    "\n",
    "# построим линию, показывающую средний уровень оттока по банку\n",
    "plt.axhline(bank_scrooge['churn'].mean(), color='k', linestyle='--', label='средний отток по банку 0.182')\n",
    "\n",
    "# добавим легенду\n",
    "plt.legend();"
   ]
  },
  {
   "cell_type": "markdown",
   "metadata": {},
   "source": [
    "В городе Рыбинск отток ниже среднего значения (16.25% при среднем 18.2%). Ярославль и Ростов имеют показатели оттока выше среднего (приблизительно 19% и 18.5% соответственно). Ярославль имеет самый большой процент оттока.\n",
    "\n",
    "Города, в который больше отток - Ярославль и Ростов (больше Ярославль)."
   ]
  },
  {
   "cell_type": "markdown",
   "metadata": {},
   "source": [
    "### Исследование распределения клиентов по полу"
   ]
  },
  {
   "cell_type": "markdown",
   "metadata": {},
   "source": [
    "Посмотрим, какого пола клиенты банка и среди представителей какого пола можно увидеть бОльший отток клиентов."
   ]
  },
  {
   "cell_type": "code",
   "execution_count": 33,
   "metadata": {},
   "outputs": [
    {
     "data": {
      "image/png": "[encoded data removed]",
      "text/plain": [
       "<Figure size 576x576 with 1 Axes>"
      ]
     },
     "metadata": {},
     "output_type": "display_data"
    }
   ],
   "source": [
    "# зададим размер графика\n",
    "plt.figure(figsize=(8, 8))\n",
    "\n",
    "# построим гистограмму\n",
    "sns.barplot(data=bank_scrooge, x='gender', y='churn', color='m')\\\n",
    "    .set(title='Распределение клиентов по полу',\n",
    "         xlabel='Пол',\n",
    "         ylabel='Доля оттока')\n",
    "\n",
    "# построим линию, показывающую средний уровень оттока по банку\n",
    "plt.axhline(bank_scrooge['churn'].mean(), color='k', linestyle='--', label='средний отток по банку 0.182')\n",
    "\n",
    "plt.legend();"
   ]
  },
  {
   "cell_type": "markdown",
   "metadata": {},
   "source": [
    "Доля оттока среди мужчин больше - около 23.5% при среднем оттоке в 18.2%. Среди женщин наблюдается низкий отток клиентов - всего 12.5%.\n",
    "\n",
    "Мужчины наиболее склонны к оттоку."
   ]
  },
  {
   "cell_type": "markdown",
   "metadata": {},
   "source": [
    "### Исследование распределения клиентов по наличию кредитной карты"
   ]
  },
  {
   "cell_type": "markdown",
   "metadata": {},
   "source": [
    "Выясним, сколько клиентов банка имеет кредтную карту и как наличие или отсутствие кредитной карты влияет на отточность."
   ]
  },
  {
   "cell_type": "code",
   "execution_count": 34,
   "metadata": {},
   "outputs": [
    {
     "data": {
      "image/png": "[encoded data removed]",
      "text/plain": [
       "<Figure size 576x576 with 1 Axes>"
      ]
     },
     "metadata": {},
     "output_type": "display_data"
    }
   ],
   "source": [
    "# зададим размер графика\n",
    "plt.figure(figsize=(8, 8))\n",
    "\n",
    "# добавим столбец credit_card_str с текстовой пометкой есть/нет кредитной карты\n",
    "bank_scrooge['credit_card_str'] = np.where(bank_scrooge['credit_card'] == 1, 'есть', 'нет')\n",
    "\n",
    "# построим гистограмму\n",
    "sns.barplot(data=bank_scrooge, x='credit_card_str', y='churn', color='m')\\\n",
    "    .set(title='Распределение клиентов по наличию кредитной карты',\n",
    "         xlabel='Наличие кредитной карты',\n",
    "         ylabel='Доля оттока')\n",
    "\n",
    "# построим линию, показывающую средний уровень оттока по банку\n",
    "plt.axhline(bank_scrooge['churn'].mean(), color='k', linestyle='--', label='средний отток по банку 0.182')\n",
    "\n",
    "# добавим легенду\n",
    "plt.legend();\n",
    "\n",
    "# удалим столбец credit_card_str\n",
    "del bank_scrooge['credit_card_str']"
   ]
  },
  {
   "cell_type": "markdown",
   "metadata": {},
   "source": [
    "Более склонны к оттоку клиенты, не имеющие кредитной карты (процент оттока 26% при среднем значении 18.2%). Клиенты, имеющие кредитную карту, склонны к оттоку меньше, чем в среднем по банку (около 15%).\n",
    "\n",
    "Больший отток - у клиентов, не имеющих кредитной карты."
   ]
  },
  {
   "cell_type": "markdown",
   "metadata": {},
   "source": [
    "### Исследование распределения клиентов по активности"
   ]
  },
  {
   "cell_type": "markdown",
   "metadata": {},
   "source": [
    "Посмотрим, какое количество клиентов банк пометил как \"активный клиент\" и каковы показатели отточности среди \"активных\" и \"неактивных\" клиентов."
   ]
  },
  {
   "cell_type": "code",
   "execution_count": 35,
   "metadata": {},
   "outputs": [
    {
     "data": {
      "image/png": "[encoded data removed]",
      "text/plain": [
       "<Figure size 576x576 with 1 Axes>"
      ]
     },
     "metadata": {},
     "output_type": "display_data"
    }
   ],
   "source": [
    "# зададим размер графика\n",
    "plt.figure(figsize=(8, 8))\n",
    "\n",
    "# добавим столбец last_activity_str с текстовой пометкой активный/неактивный клиент\n",
    "bank_scrooge['last_activity_str'] = np.where(bank_scrooge['last_activity'] == 1, 'активный клиент', 'неактивный клиент')\n",
    "\n",
    "# построим гистограмму\n",
    "sns.barplot(data=bank_scrooge, x='last_activity_str', y='churn', color='m')\\\n",
    "    .set(title='Распределение клиентов по активности',\n",
    "         xlabel='Активность клиентов',\n",
    "         ylabel='Доля оттока')\n",
    "\n",
    "# построим линию, показывающую средний уровень оттока по банку\n",
    "plt.axhline(bank_scrooge['churn'].mean(), color='k', linestyle='--', label='средний отток по банку 0.182')\n",
    "\n",
    "# добавим легенду\n",
    "plt.legend();\n",
    "\n",
    "# удалим столбец last_activity_str\n",
    "del bank_scrooge['last_activity_str']"
   ]
  },
  {
   "cell_type": "markdown",
   "metadata": {},
   "source": [
    "Среди активных клиентов больше ушедших (около 24.5% активных клиентов перестали пользоваться услугами банка при среднем уровне оттока в 18.2%). Среди же неактивных клиентов процент оттока оказался весьма небольшим - всего 12%.\n",
    "\n",
    "Больший отток наблюдается среди активных клиентов."
   ]
  },
  {
   "cell_type": "markdown",
   "metadata": {},
   "source": [
    "### Составление и анализ портретов клиентов в разрезе оттока"
   ]
  },
  {
   "cell_type": "markdown",
   "metadata": {},
   "source": [
    "Составим портреты типичных клиентов, наиболее и наименее склонных к оттоку, и сравним их."
   ]
  },
  {
   "cell_type": "code",
   "execution_count": 36,
   "metadata": {},
   "outputs": [
    {
     "name": "stdout",
     "output_type": "stream",
     "text": [
      "Анализ портретов клиентов в разрезе оттока\n"
     ]
    },
    {
     "data": {
      "text/html": [
       "<div>\n",
       "<style scoped>\n",
       "    .dataframe tbody tr th:only-of-type {\n",
       "        vertical-align: middle;\n",
       "    }\n",
       "\n",
       "    .dataframe tbody tr th {\n",
       "        vertical-align: top;\n",
       "    }\n",
       "\n",
       "    .dataframe thead th {\n",
       "        text-align: right;\n",
       "    }\n",
       "</style>\n",
       "<table border=\"1\" class=\"dataframe\">\n",
       "  <thead>\n",
       "    <tr style=\"text-align: right;\">\n",
       "      <th>churn</th>\n",
       "      <th>Отток</th>\n",
       "      <th>Не отток</th>\n",
       "      <th>Относительная разница, %</th>\n",
       "    </tr>\n",
       "    <tr>\n",
       "      <th>Мера и признак</th>\n",
       "      <th></th>\n",
       "      <th></th>\n",
       "      <th></th>\n",
       "    </tr>\n",
       "  </thead>\n",
       "  <tbody>\n",
       "    <tr>\n",
       "      <th>Средний возраст</th>\n",
       "      <td>41</td>\n",
       "      <td>43</td>\n",
       "      <td>-4.9</td>\n",
       "    </tr>\n",
       "    <tr>\n",
       "      <th>Медианный возраст</th>\n",
       "      <td>39</td>\n",
       "      <td>40</td>\n",
       "      <td>-</td>\n",
       "    </tr>\n",
       "    <tr>\n",
       "      <th>Средний баланс</th>\n",
       "      <td>1134458.0</td>\n",
       "      <td>733032.0</td>\n",
       "      <td>35.4</td>\n",
       "    </tr>\n",
       "    <tr>\n",
       "      <th>Медианный баланс</th>\n",
       "      <td>783908.9</td>\n",
       "      <td>475410.09</td>\n",
       "      <td>-</td>\n",
       "    </tr>\n",
       "    <tr>\n",
       "      <th>Мода по городу</th>\n",
       "      <td>Ярославль</td>\n",
       "      <td>Ярославль</td>\n",
       "      <td>-</td>\n",
       "    </tr>\n",
       "    <tr>\n",
       "      <th>Мода по наличию кредитной карты</th>\n",
       "      <td>1</td>\n",
       "      <td>1</td>\n",
       "      <td>-</td>\n",
       "    </tr>\n",
       "    <tr>\n",
       "      <th>Медианный балл собственности</th>\n",
       "      <td>4</td>\n",
       "      <td>3</td>\n",
       "      <td>-</td>\n",
       "    </tr>\n",
       "    <tr>\n",
       "      <th>Средний доход</th>\n",
       "      <td>148357.0</td>\n",
       "      <td>147675.0</td>\n",
       "      <td>0.5</td>\n",
       "    </tr>\n",
       "    <tr>\n",
       "      <th>Медианный доход</th>\n",
       "      <td>125408.88</td>\n",
       "      <td>118227.6</td>\n",
       "      <td>-</td>\n",
       "    </tr>\n",
       "    <tr>\n",
       "      <th>Мода по полу</th>\n",
       "      <td>М</td>\n",
       "      <td>Ж</td>\n",
       "      <td>-</td>\n",
       "    </tr>\n",
       "    <tr>\n",
       "      <th>Мода по активности</th>\n",
       "      <td>1</td>\n",
       "      <td>0</td>\n",
       "      <td>-</td>\n",
       "    </tr>\n",
       "    <tr>\n",
       "      <th>Медианное количество продуктов</th>\n",
       "      <td>2</td>\n",
       "      <td>2</td>\n",
       "      <td>-</td>\n",
       "    </tr>\n",
       "    <tr>\n",
       "      <th>Средний кредитный скоринг</th>\n",
       "      <td>863</td>\n",
       "      <td>845</td>\n",
       "      <td>2.1</td>\n",
       "    </tr>\n",
       "    <tr>\n",
       "      <th>Медианный кредитный скоринг</th>\n",
       "      <td>866</td>\n",
       "      <td>848</td>\n",
       "      <td>-</td>\n",
       "    </tr>\n",
       "  </tbody>\n",
       "</table>\n",
       "</div>"
      ],
      "text/plain": [
       "churn                                Отток   Не отток Относительная разница, %\n",
       "Мера и признак                                                                \n",
       "Средний возраст                         41         43                     -4.9\n",
       "Медианный возраст                       39         40                        -\n",
       "Средний баланс                   1134458.0   733032.0                     35.4\n",
       "Медианный баланс                  783908.9  475410.09                        -\n",
       "Мода по городу                   Ярославль  Ярославль                        -\n",
       "Мода по наличию кредитной карты          1          1                        -\n",
       "Медианный балл собственности             4          3                        -\n",
       "Средний доход                     148357.0   147675.0                      0.5\n",
       "Медианный доход                  125408.88   118227.6                        -\n",
       "Мода по полу                             М          Ж                        -\n",
       "Мода по активности                       1          0                        -\n",
       "Медианное количество продуктов           2          2                        -\n",
       "Средний кредитный скоринг              863        845                      2.1\n",
       "Медианный кредитный скоринг            866        848                        -"
      ]
     },
     "execution_count": 36,
     "metadata": {},
     "output_type": "execute_result"
    }
   ],
   "source": [
    "# составим сводную таблицу по мерам центральных тенденций признаков в разрезе оттока\n",
    "pt = pd.pivot_table(bank_scrooge, \n",
    "               values=bank_scrooge.columns, \n",
    "               columns=['churn'], \n",
    "               aggfunc={\n",
    "                   'age': [lambda x: x.mean().round(), 'median'],\n",
    "                   'balance': [lambda x: x.mean().round(), 'median'],\n",
    "                   'credit_card': lambda x: x.mode(),\n",
    "                   'equity': 'median',\n",
    "                   'est_salary': [lambda x: x.mean().round(), 'median'],\n",
    "                   'last_activity': lambda x: x.mode(),\n",
    "                   'products': 'median',\n",
    "                   'score': [lambda x: x.mean().round(), 'median'],\n",
    "                   'city': lambda x: x.mode(),\n",
    "                   'gender': lambda x: x.mode()\n",
    "               })\n",
    "\n",
    "# переименуем столбцы и поменяем их местами\n",
    "pt = pt[[1, 0]].rename(columns={0:'Не отток', 1: 'Отток'})\n",
    "\n",
    "# добавим столбец относительной разницы\n",
    "pt['Относительная разница, %'] = '-'\n",
    "for i in [0, 2, 7, 12]:\n",
    "    pt.iloc[i,2] = round((pt.iloc[i, 0] - pt.iloc[i, 1]) / pt.iloc[i, 0], 3) * 100\n",
    "\n",
    "# переименуем индексы\n",
    "pt = pt.reset_index(drop=True)\n",
    "pt.index.rename('Мера и признак', inplace= True)\n",
    "pt.rename(index={\n",
    "    0: 'Средний возраст',\n",
    "    1: 'Медианный возраст',\n",
    "    2: 'Средний баланс',\n",
    "    3: 'Медианный баланс',\n",
    "    4: 'Мода по городу',\n",
    "    5: 'Мода по наличию кредитной карты',\n",
    "    6: 'Медианный балл собственности',\n",
    "    7: 'Средний доход',\n",
    "    8: 'Медианный доход',\n",
    "    9: 'Мода по полу',\n",
    "    10: 'Мода по активности',\n",
    "    11: 'Медианное количество продуктов',\n",
    "    12: 'Средний кредитный скоринг',\n",
    "    13: 'Медианный кредитный скоринг'\n",
    "}, inplace= True)\n",
    "\n",
    "# выведем заголовок и таблицу\n",
    "print('Анализ портретов клиентов в разрезе оттока')\n",
    "pt"
   ]
  },
  {
   "cell_type": "markdown",
   "metadata": {},
   "source": [
    "Портрет типичного клиента, склонного в оттоку: мужчина в возрасте 39-41 из города Ярославль, имеющий 800 тыс. - 1.1 млн рублей на счету, средний доход которого составляет 125-148 тыс. руб, имеющий 4 балла собственности, кредитную карту и 2 продукта банка, кредитный скоринг в районе 860-870 баллов, являющийся активным клиентом.\n",
    "\n",
    "Портрет типичного клиента, НЕ склонного в оттоку: женщина в возрасте 40-43 из города Ярославль, имеющая 475-730 тыс. руб. на счету, средний доход которой составляет 118-148 тыс. руб., имеющая 3 балла собственности, кредитную карту и 2 продукта банка, кредитный скоринг которой в районе 840-850, не являющаяся активным клиентом.\n",
    "\n",
    "Основные различия в тенденции к оттоку: пол (мужчины более склонны к оттоку, чем женщины), баланс счёта (люди с более низким балансом реже склонны к оттоку), активность клиента (менее активные клиенты реже уходят).\n",
    "\n",
    "Признаки, не влияющие или слабо влияющие на отток: возраст, город, средний доход, наличие кредитной карты, количество продуктов, кредитный скоринг."
   ]
  },
  {
   "cell_type": "markdown",
   "metadata": {},
   "source": [
    "### Корреляционный анализ и его интерпретация"
   ]
  },
  {
   "cell_type": "markdown",
   "metadata": {},
   "source": [
    "Найдем корреляцию между различными признаками клиентов и отточностью."
   ]
  },
  {
   "cell_type": "code",
   "execution_count": 37,
   "metadata": {},
   "outputs": [
    {
     "name": "stdout",
     "output_type": "stream",
     "text": [
      "Тепловая карта корреляции между признаками клиентов и отточностью\n"
     ]
    },
    {
     "data": {
      "image/png": "[encoded data removed]",
      "text/plain": [
       "<Figure size 72x576 with 2 Axes>"
      ]
     },
     "metadata": {},
     "output_type": "display_data"
    }
   ],
   "source": [
    "# зададим размер графика\n",
    "plt.figure(figsize=(1, 8))\n",
    "\n",
    "print('Тепловая карта корреляции между признаками клиентов и отточностью')\n",
    "\n",
    "# построим тепловую карту\n",
    "sns.heatmap(\n",
    "    # строим матрицу корреляции\n",
    "    bank_scrooge.loc[: , ~bank_scrooge.columns.isin(['user_id'])].phik_matrix(\n",
    "        # задаем список непрерывных признаков, выбираем столбец churn и убираем ненужные строки\n",
    "        interval_cols=['score', 'age', 'balance', 'est_salary'])[['churn']].iloc[:-1, :], \n",
    "        # задаем цветовую схему\n",
    "        cmap='coolwarm', \n",
    "        # центрируем 0 на цветовой схеме\n",
    "        center=0,\n",
    "        # добавляем аннотации\n",
    "        annot=True);"
   ]
  },
  {
   "cell_type": "markdown",
   "metadata": {},
   "source": [
    "По шкале Чеддока умеренный уровень корреляции с отточностью показал признак equity (кол-во баллов собственности), коэффициент корреляции - 0.35. Слабо коррелируют с отточностью score (количество баллов кредитного скоринга), gender (пол), age (возраст), products (количество продуктов, которыми пользуется клиент), credit_card (наличие кредитной карты) и last_activity (активность клиента). Коэффициенты корреляции вышеуказанных признаков с отточностью составляют 0.19-0.26. Признаки city (город), balance (баланс на счете) и est_salary (оценочный доход клиента) не коррелируют с признаком оттока.\n",
    "\n",
    "Корреляция с оттоком | Признаки\n",
    ":------------------- | :------\n",
    "Умеренная | equity\n",
    "Слабая | score, gender, age, products, credit_card, last_activity\n",
    "Отсутсвует | city, balance, est_salary"
   ]
  },
  {
   "cell_type": "markdown",
   "metadata": {},
   "source": [
    "### Вывод"
   ]
  },
  {
   "cell_type": "markdown",
   "metadata": {},
   "source": [
    "1. Общее количество ушедших клиентов: 1818 (18.2%).\n",
    "2. Интервалы оттока (в скобках указан коэффициент оттока):\n",
    "    - 830-900 баллов кредитного скоринга (55-66%);\n",
    "    - 26-36 лет, 51-61 год (52-80%);\n",
    "    - 1.1 млн рублей и более на счёту клиента (60-80%);\n",
    "    - 3-5 продуктов банка, которыми пользуется клиент (28-63%);\n",
    "    - оценочный доход 100-200 тыс. рублей (51-55%);\n",
    "    - 3-9 баллов собственности (21-54%)\n",
    "3. Наиболее склонны к оттоку (в скобках указан коэффициент оттока):\n",
    "    - клиенты из городов Ярославль, Ростов (18.5-19%);\n",
    "    - мужчины (23.5%);\n",
    "    - клиенты, не имеющие кредитную карту (26%);\n",
    "    - активные клиенты (24.5%).\n",
    "4. Портрет типичного клиента, склонного в оттоку: мужчина в возрасте 39-41 из города Ярославль, имеющий 800 тыс. - 1.1 млн рублей на счету, средний доход которого составляет 125-148 тыс. руб, имеющий 4 балла собственности, кредитную карту и 2 продукта банка, кредитный скоринг в районе 860-870 баллов, являющийся активным клиентом.\n",
    "5. Портрет типичного клиента, НЕ склонного в оттоку: женщина в возрасте 40-43 из города Ярославль, имеющая 475-730 тыс. руб. на счету, средний доход которой составляет 118-148 тыс. руб., имеющая 3 балла собственности, кредитную карту и 2 продукта банка, кредитный скоринг которой в районе 840-850, не являющаяся активным клиентом.\n",
    "6. Основные различия в тенденции к оттоку: пол (мужчины более склонны к оттоку, чем женщины), баланс счёта (люди с более низким балансом реже склонны к оттоку, относительная разница - 34.5%), активность клиента (менее активные клиенты реже уходят).\n",
    "7. Умеренную корреляцию с отточностью показал признак equity (количество баллов собственности). Коэффициент корреляции составил 0.35. Все остальные признаки показали слабую или нулевую корреляцию.\n",
    "Корреляция с оттоком | Признаки\n",
    ":------------------- | :------\n",
    "Умеренная  0.3-0.5 | equity\n",
    "Слабая     0.1-0.3| score, gender, age, products, credit_card, last_activity\n",
    "Отсутсвует 0-0.1| city, balance, est_salary"
   ]
  },
  {
   "cell_type": "markdown",
   "metadata": {},
   "source": [
    "## Формулирование и проверка статистических гипотез"
   ]
  },
  {
   "cell_type": "markdown",
   "metadata": {},
   "source": [
    "Создадим отдельные датасеты для ушедших и неушедших клиентов для удобства дальнешего использования."
   ]
  },
  {
   "cell_type": "code",
   "execution_count": 38,
   "metadata": {},
   "outputs": [],
   "source": [
    "churned_custimers = bank_scrooge[bank_scrooge['churn'] == 1] # ушедшие клиенты\n",
    "not_churned_custimers = bank_scrooge[bank_scrooge['churn'] == 0] # неушедшие клиенты"
   ]
  },
  {
   "cell_type": "markdown",
   "metadata": {},
   "source": [
    "### Проверка гипотезы различия среднего количества баллов кредитного скоринга между ушедшими и действующими клиентами"
   ]
  },
  {
   "cell_type": "markdown",
   "metadata": {},
   "source": [
    "По матрице корреляции признак количества баллов кредитного скоринга слабо коррелирует с отточностью по шкале Чеддока. Проверим, что это значит: есть или нет статистически значимые различия между средними баллами кредитного скоринга между ушедшими и неушедшими клиентами."
   ]
  },
  {
   "cell_type": "markdown",
   "metadata": {},
   "source": [
    "Посмотрим количество наблюдений в независимых выборках: \n",
    "- 1 выборка - ушедшие клиенты,\n",
    "- 2 выборка - неушедшие (действующие) клиенты"
   ]
  },
  {
   "cell_type": "code",
   "execution_count": 39,
   "metadata": {},
   "outputs": [
    {
     "name": "stdout",
     "output_type": "stream",
     "text": [
      "Количество ушедших клиентов: 1818\n",
      "Количество действующих клиентов: 8155\n"
     ]
    }
   ],
   "source": [
    "print('Количество ушедших клиентов:', churned_custimers.count()['score'])\n",
    "print('Количество действующих клиентов:', not_churned_custimers.count()['score'])"
   ]
  },
  {
   "cell_type": "markdown",
   "metadata": {},
   "source": [
    "Как видно, выборки довольно большие. Следовательно, по ЦПТ они должны быть распределены нормально. Значит, мы можем использовать t-тест Стьюдента и сравнить среднее двух этих выборок. Так как выборки разного размера, есть основания полагать, что они могут иметь разные дисперсии, поэтому установим параметр equal_var = False, чтобы тест посчитал дисперсии выборок по отдельности.  "
   ]
  },
  {
   "cell_type": "markdown",
   "metadata": {},
   "source": [
    "Также не вполне корректно применять t-критерий Стьюдента при наличии в данных значительного числа выбросов. Проверим, есть ли выбросы в выборках с помощью боксплота."
   ]
  },
  {
   "cell_type": "code",
   "execution_count": 40,
   "metadata": {},
   "outputs": [
    {
     "data": {
      "image/png": "[encoded data removed]",
      "text/plain": [
       "<Figure size 288x720 with 1 Axes>"
      ]
     },
     "metadata": {},
     "output_type": "display_data"
    }
   ],
   "source": [
    "# задаем размер графика\n",
    "plt.figure(figsize=(4, 10))\n",
    "# зададим диапазон оси y\n",
    "plt.ylim(625, 1049)\n",
    "\n",
    "# строим боксплот\n",
    "sns.boxplot(x='churn', y='score', data=bank_scrooge, palette='pastel')\\\n",
    "    .set(title='Распределение количества баллов кредитного скоринга',\n",
    "         xlabel='Признак отточности',\n",
    "         ylabel='Количество баллов кредитного скоринга')\n",
    "\n",
    "# добавим легенду\n",
    "plt.legend(['0 - неушедший клиент', '1 - ушедший клиент'], loc='upper right');"
   ]
  },
  {
   "cell_type": "markdown",
   "metadata": {},
   "source": [
    "По графику видно, что выборка неушедших клиентов не имеет выбросов. А выборка ушедших клиентов содержит один выброс в районе 700 баллов."
   ]
  },
  {
   "cell_type": "code",
   "execution_count": 41,
   "metadata": {},
   "outputs": [
    {
     "data": {
      "text/plain": [
       "706"
      ]
     },
     "execution_count": 41,
     "metadata": {},
     "output_type": "execute_result"
    }
   ],
   "source": [
    "# проверим точное значение этого выброса\n",
    "churned_custimers['score'].min()"
   ]
  },
  {
   "cell_type": "code",
   "execution_count": 42,
   "metadata": {},
   "outputs": [],
   "source": [
    "# исключим этот выброс из датасета ушедших клиентов\n",
    "churned_custimers = churned_custimers[churned_custimers['score'] > 706]"
   ]
  },
  {
   "cell_type": "markdown",
   "metadata": {},
   "source": [
    "Нулевая гипотеза (H₀): средние значения количества баллов кредитного скоринга среди ушедших и действующих клиентов равны.\n",
    "\n",
    "Альтернативная гипотеза (H₁): средние значения количества баллов кредитного скоринга среди ушедших и действующих клиентов не равны.\n",
    "\n",
    "Уровень значимости возьмем равным 0.001, так как размеры выборок больше 1000."
   ]
  },
  {
   "cell_type": "code",
   "execution_count": 43,
   "metadata": {},
   "outputs": [
    {
     "name": "stdout",
     "output_type": "stream",
     "text": [
      "p-значение: 4.6590041928364723e-38\n",
      "Отвергаем нулевую гипотезу\n"
     ]
    }
   ],
   "source": [
    "alpha = 0.001 # уровень статистической значимости\n",
    "# если p-value окажется меньше него, отвергнем гипотезу\n",
    "\n",
    "results = st.ttest_ind(churned_custimers['score'], not_churned_custimers['score'], equal_var=False)\n",
    "\n",
    "print('p-значение:', results.pvalue)\n",
    "\n",
    "if results.pvalue < alpha:\n",
    "    print('Отвергаем нулевую гипотезу')\n",
    "else:\n",
    "    print('Не получилось отвергнуть нулевую гипотезу') "
   ]
  },
  {
   "cell_type": "markdown",
   "metadata": {},
   "source": [
    "С вероятностью 99.9% можно сказать, что есть статистически значимые различия между средним количеством баллов кредитного ушедших и неушедших клиентов. Ошибка первого рода исключена, получилось очень маленькое p-value (~1.3∙10^(-37))."
   ]
  },
  {
   "cell_type": "markdown",
   "metadata": {},
   "source": [
    "Так как матрица корреляции phik (п. 4.13) не показывает направление корреляции, по графику распределения количества баллов кредитного скоринга (п. 4.2) в разрезе оттока также не очень понятно направление корреляции, выведем коэффициент корреляции методом corr между кредитным скорингом и отточностью. "
   ]
  },
  {
   "cell_type": "code",
   "execution_count": 44,
   "metadata": {},
   "outputs": [
    {
     "data": {
      "text/plain": [
       "0.10607612640846419"
      ]
     },
     "execution_count": 44,
     "metadata": {},
     "output_type": "execute_result"
    }
   ],
   "source": [
    "bank_scrooge.corr().iloc[1,9]"
   ]
  },
  {
   "cell_type": "markdown",
   "metadata": {},
   "source": [
    "Коэффициент корреляции получился положительным. Значит, больший кредитный скоринг коррелирует с большей склонностью к оттоку."
   ]
  },
  {
   "cell_type": "markdown",
   "metadata": {},
   "source": [
    "### Проверка гипотезы о равенстве долей мужчин между группами ушедших и действующих клиентов"
   ]
  },
  {
   "cell_type": "markdown",
   "metadata": {},
   "source": [
    "Проверим группы ушедших и неушедших клиентов на различия в признаке гендера. Так как этот признак бинарный, t-тест и другие тесты со средним не подойдут, будем использовать тест пропорций."
   ]
  },
  {
   "cell_type": "markdown",
   "metadata": {},
   "source": [
    "Нулевая гипотеза (H₀): доли мужчин среди групп ушедших и неушедших клиентов равны.\n",
    "\n",
    "Альтернативная гипотеза (H₁): доли мужчин среди групп ушедших и неушедших клиентов не равны.\n",
    "\n",
    "Уровень значимости возьмем равным 0.001, так как размеры выборок больше 1000."
   ]
  },
  {
   "cell_type": "code",
   "execution_count": 45,
   "metadata": {},
   "outputs": [
    {
     "name": "stdout",
     "output_type": "stream",
     "text": [
      "p-значение:  0.0\n",
      "Отвергаем нулевую гипотезу: между долями есть значимая разница\n"
     ]
    }
   ],
   "source": [
    "alpha = 0.001 # критический уровень статистической значимости\n",
    "\n",
    "# количество активных клиентов среди ушедших и неушедших соответственно\n",
    "successes = [churned_custimers[churned_custimers['gender'] == 'М'].count()['gender'], \n",
    "             not_churned_custimers[not_churned_custimers['gender'] == 'М'].count()['gender']]\n",
    "# количество клиентов среди ушедших и неушедших соответственно\n",
    "trials = [churned_custimers.count()['gender'], not_churned_custimers.count()['gender']]\n",
    "\n",
    "\n",
    "# пропорция успехов в первой группе:\n",
    "p1 = successes[0]/trials[0]\n",
    "\n",
    "# пропорция успехов во второй группе:\n",
    "p2 = successes[1]/trials[1]\n",
    "\n",
    "# пропорция успехов в комбинированном датасете:\n",
    "p_combined = (successes[0] + successes[1]) / (trials[0] + trials[1])\n",
    "\n",
    "# разница пропорций в датасетах\n",
    "difference = p1 - p2 \n",
    "\n",
    "# считаем статистику в ст.отклонениях стандартного нормального распределения\n",
    "z_value = difference / mth.sqrt(p_combined * (1 - p_combined) * (1/trials[0] + 1/trials[1]))\n",
    "\n",
    "# задаем стандартное нормальное распределение (среднее 0, ст.отклонение 1)\n",
    "distr = st.norm(0, 1)  \n",
    "\n",
    "p_value = (1 - distr.cdf(abs(z_value))) * 2\n",
    "\n",
    "print('p-значение: ', p_value)\n",
    "\n",
    "if p_value < alpha:\n",
    "    print('Отвергаем нулевую гипотезу: между долями есть значимая разница')\n",
    "else:\n",
    "    print(\n",
    "        'Не получилось отвергнуть нулевую гипотезу, нет оснований считать доли разными'\n",
    "    ) "
   ]
  },
  {
   "cell_type": "markdown",
   "metadata": {},
   "source": [
    "Между долями мужчин групп ушедших и неушедших клиентов есть значимая разница. p-value равен 0, ошибка первого рода исключена."
   ]
  },
  {
   "cell_type": "markdown",
   "metadata": {},
   "source": [
    "### Вывод"
   ]
  },
  {
   "cell_type": "markdown",
   "metadata": {},
   "source": [
    "1. Есть статистически значимые различия между средним количеством баллов кредитного ушедших и неушедших клиентов. Чем больше кредитный скоринг, тем больше клиент склонен к оттоку.\n",
    "2. Среди ушедших клиентов доля мужчин значимо больше."
   ]
  },
  {
   "cell_type": "markdown",
   "metadata": {},
   "source": [
    "## Промежуточные итоги"
   ]
  },
  {
   "cell_type": "markdown",
   "metadata": {},
   "source": [
    "1. Общее количество ушедших клиентов: 1818 (18.2%).\n",
    "2. Интервалы оттока (в скобках указан коэффициент оттока):\n",
    "    - 830-900 баллов кредитного скоринга (55-66%);\n",
    "    - 26-36 лет, 51-61 год (52-80%);\n",
    "    - 1.1 млн рублей и более на счёту клиента (60-80%);\n",
    "    - 3-5 продуктов банка, которыми пользуется клиент (28-63%);\n",
    "    - оценочный доход 100-200 тыс. рублей (51-55%);\n",
    "    - 3-9 баллов собственности (21-54%)\n",
    "3. Наиболее склонны к оттоку (в скобках указан коэффициент оттока):\n",
    "    - клиенты из городов Ярославль, Ростов (18.5-19%);\n",
    "    - мужчины (23.5%);\n",
    "    - клиенты, не имеющие кредитную карту (26%);\n",
    "    - активные клиенты (24.5%).\n",
    "4. Портрет типичного клиента, склонного в оттоку: мужчина в возрасте 39-41 из города Ярославль, имеющий 800 тыс. - 1.1 млн рублей на счету, средний доход которого составляет 125-148 тыс. руб, имеющий 4 балла собственности, кредитную карту и 2 продукта банка, кредитный скоринг в районе 860-870 баллов, являющийся активным клиентом.\n",
    "5. Портрет типичного клиента, НЕ склонного в оттоку: женщина в возрасте 40-43 из города Ярославль, имеющая 475-730 тыс. руб. на счету, средний доход которой составляет 118-148 тыс. руб., имеющая 3 балла собственности, кредитную карту и 2 продукта банка, кредитный скоринг которой в районе 840-850, не являющаяся активным клиентом.\n",
    "6. Основные различия в тенденции к оттоку: пол (мужчины более склонны к оттоку, чем женщины), баланс счёта (люди с более низким балансом реже склонны к оттоку, относительная разница - 34.5%), активность клиента (менее активные клиенты реже уходят).\n",
    "7. Есть статистически значимые различия между средним количеством баллов кредитного ушедших и неушедших клиентов. Чем больше кредитный скоринг, тем больше клиент склонен к оттоку.\n",
    "8. Среди ушедших клиентов доля мужчин значимо больше.\n",
    "9. С учётом построения матрицы корреляции и проверенных статистических гипотез можно составить таблицу влияния различных признаков на отток:\n",
    "Признаки | Корреляция с оттоком | Коэфф. корреляции | Есть стат. знач. различия между уш. и неуш. клиентами по признаку\n",
    ":------------------- | :------ | :------ | :------\n",
    "equity | Умеренная | 0.35 | да\n",
    "score, gender, age, products, credit_card, last_activity |Слабая | 0.19-0.26 | да\n",
    "city, balance, est_salary | Отсутсвует | 0.017-0.049 | нет\n",
    "10. В последующей сегментации будем использовать следующие признаки:\n",
    "- equity (количество баллов собственности): 3 - 9 (или 5-9)\n",
    "- products (количество продуктов, которыми пользуется клиент): 3-5\n",
    "- last_activity (активный клиент): 1\n",
    "- score (количество баллов кредитного скоринга): 830-900\n",
    "- age (возраст): 26-35 или 50-61\n",
    "- gender (пол): мужчина\n",
    "- credit_card (наличие кредитной карты): 1"
   ]
  },
  {
   "cell_type": "markdown",
   "metadata": {},
   "source": [
    "## Сегментация клиентов по признаку отточности"
   ]
  },
  {
   "cell_type": "markdown",
   "metadata": {},
   "source": [
    "### Сегментация клиентов"
   ]
  },
  {
   "cell_type": "markdown",
   "metadata": {},
   "source": [
    "Выделим неузкие сегменты (от 500 клиентов на сегмент), где отток выше, чем средний уровень оттока по банку. "
   ]
  },
  {
   "cell_type": "markdown",
   "metadata": {},
   "source": [
    "Сегмент №1:\n",
    "- equity (количество баллов собственности): 3 - 9\n",
    "- products (количество продуктов, которыми пользуется клиент): 3-5  \n",
    "- credit_card (наличие кредитной карты) : 0\n",
    "\n",
    "Сегмент №2:\n",
    "- last_activity (активный клиент): 1\n",
    "- score (количество баллов кредитного скоринга): 830-900\n",
    "- age (возраст): 26-35\n",
    "- gender (пол): мужчина\n",
    "\n",
    "Сегмент №3:\n",
    "- credit_card (наличие кредитной карты) : 0\n",
    "- age (возраст): 50-61\n",
    "- score (количество баллов кредитного скоринга): 830-900"
   ]
  },
  {
   "cell_type": "code",
   "execution_count": 46,
   "metadata": {},
   "outputs": [
    {
     "name": "stdout",
     "output_type": "stream",
     "text": [
      "В сегменте 1: 664 чел.\n",
      "В сегменте 2: 671 чел.\n",
      "В сегменте 3: 582 чел.\n"
     ]
    }
   ],
   "source": [
    "# выделяем сегмент №1\n",
    "segment1 = bank_scrooge[bank_scrooge['equity']//3 >= 1]\n",
    "segment1 = segment1[segment1['products'] >= 3]\n",
    "segment1 = segment1[segment1['credit_card'] == 0]\n",
    "\n",
    "# выделяем сегмент №2\n",
    "segment2 = bank_scrooge[bank_scrooge['last_activity'] == 1]\n",
    "segment2 = segment2[abs(segment2['score']-865 <= 35)]\n",
    "segment2 = segment2[segment2['age'] >= 26]\n",
    "segment2 = segment2[segment2['age'] <= 35]\n",
    "segment2 = segment2[segment2['gender'] == 'М']\n",
    "\n",
    "\n",
    "# выделяем сегмент №3\n",
    "segment3 = bank_scrooge[bank_scrooge['credit_card'] == 0]\n",
    "segment3 = segment3[segment3['age'] >= 50]\n",
    "segment3 = segment3[segment3['age'] <= 61]\n",
    "segment3 = segment3[abs(segment3['score']-865 <= 35)]\n",
    "\n",
    "# выведем количество клиентов на каждый сегмент\n",
    "print(f'В сегменте 1: {segment1.shape[0]} чел.')\n",
    "print(f'В сегменте 2: {segment2.shape[0]} чел.')\n",
    "print(f'В сегменте 3: {segment3.shape[0]} чел.')"
   ]
  },
  {
   "cell_type": "markdown",
   "metadata": {},
   "source": [
    "Сегменты получились оптимального размера."
   ]
  },
  {
   "cell_type": "code",
   "execution_count": 47,
   "metadata": {},
   "outputs": [
    {
     "name": "stdout",
     "output_type": "stream",
     "text": [
      "Процент отточности в среднем по банку: 18.23\n",
      "Процент отточности в сегменте 1: 35.54\n",
      "Процент отточности в сегменте 2: 33.38\n",
      "Процент отточности в сегменте 3: 33.68\n"
     ]
    }
   ],
   "source": [
    "# проверим, выше ли отточность у описанных выше сегментов, чем в среднем по банку\n",
    "print('Процент отточности в среднем по банку:', (bank_scrooge['churn'].sum()/bank_scrooge.shape[0]*100).round(2))\n",
    "print('Процент отточности в сегменте 1:', (segment1['churn'].sum()/segment1.shape[0]*100).round(2))\n",
    "print('Процент отточности в сегменте 2:', (segment2['churn'].sum()/segment2.shape[0]*100).round(2))\n",
    "print('Процент отточности в сегменте 3:', (segment3['churn'].sum()/segment3.shape[0]*100).round(2))"
   ]
  },
  {
   "cell_type": "markdown",
   "metadata": {},
   "source": [
    "В каждом сегменте отточность выше, чем в среднем по банку."
   ]
  },
  {
   "cell_type": "markdown",
   "metadata": {},
   "source": [
    "### Приоритезация сегментов"
   ]
  },
  {
   "cell_type": "markdown",
   "metadata": {},
   "source": [
    "Приоритезируем выделенные сегменты: от наиболее высокого уровня оттока к наименее высокому."
   ]
  },
  {
   "cell_type": "markdown",
   "metadata": {},
   "source": [
    "Сегмент | Процент оттока\n",
    ":------ | :------------\n",
    "1 | 35.54%\n",
    "3 | 33.68%\n",
    "2 | 33.38%"
   ]
  },
  {
   "cell_type": "markdown",
   "metadata": {},
   "source": [
    "Самый приоритетный сегмент - сегмент №1 (3-9 баллов собственности, 3-5 продуктов, нет кредитной карты). Именно с него стоит начать работу.\n",
    "\n",
    "На втором месте - сегмент №3 (нет кредитной карты, 50-61 год, 830-900 баллов кредитного скоринга).\n",
    "\n",
    "На третьем месте - сегмент №2 (активный клиент, 830-900 баллов кредитного скоринга, мужчина 26-35 лет)."
   ]
  },
  {
   "cell_type": "markdown",
   "metadata": {},
   "source": [
    "### Рекомендации"
   ]
  },
  {
   "cell_type": "markdown",
   "metadata": {},
   "source": [
    "Рекомендации по сегменту №1:\n",
    "\n",
    "1. Большое количество продуктов банка у одного клиента повышает его склонность к оттоку. В связи с этим рекомендую не предлагать незаинтересованному (до тех пор, пока клиент сам не проявил инетерес к конкретному продукту) клиенту дополнительные продукты в случае, если он пользуется 2 или более продуктами банка. Вероятно, большая нагрузка на клиента приводит к его нелояльности.\n",
    "\n",
    "2. Клиенты, имеющие кредитную карту, более склонны к оттоку, чем не имеющие. В связи с этим рекомендую провести анализ тарифов и условий банка по кредитным картам. Сделать условия по кредитным картам более выгодными и измерить уровень оттока после введения этих изменений.\n",
    "\n",
    "Рекомендации по сегменту №2:\n",
    "\n",
    "1. Провести анализ тарифов и условий банка по кредитным картам. Сделать условия по кредитным картам более выгодными и измерить уровень оттока после введения этих изменений.\n",
    "\n",
    "2. Клиенты со средним кредитным скорингом склонны к оттоку сильнее, чем клиенты с низким или высоким кредитным скорингом. В связи с этим рекомендую предлагать клиентам со скорингом 830-900 баллов продукты с лучшими условиями. Вероятно, другие банки предлагают лучшие условия сотрудничества клиентом со средним кредитным скорингом.\n",
    "\n",
    "3. Высокий отток показывают клиенты в возрасте 50-60 лет. Вероятно, стоит предложить для этой категории клиентов простые и понятные продукты накопления и инвестиций.\n",
    "\n",
    "Рекомендации по сегменту №3:\n",
    "\n",
    "1. Активные клиенты более склонны к оттоку. В связи с этим рекомендую повысить качество работы службы поддержки. Возможно, активным клиентам приходится быть таковыми из-за того, что без активного участия решить некоторые вопросы этих клиентов не представляется возможным. Возможность быстро и легко решать вопросы и проблемы клиентов позволит повысить их лояльность.\n",
    "\n",
    "2. Предлагать клиентам со скорингом 830-900 баллов продукты с лучшими условиями.\n",
    "\n",
    "3. Клиенты в возрасте 26-35 лет более склонны к оттоку, чем клиенты до 26 или 36-49 лет. Людей данной возрастной категории чаще всего объединяет: покупка первого семейного жилья (не студия), ремонт, покупка мебели, покупка автомобиля среднего класса, рождение ребенка. Я бы рекомендовала предлагать таким клиентам продукты по ипотеке (на одно-, двух-, трехкомнатные квартиры), в том числе семейной, в том числе с использованием маткапитала, кредиты на мебель (возможно, сотрудничать с мебельными/строительными магазинами), кредиты на автомобили."
   ]
  },
  {
   "cell_type": "markdown",
   "metadata": {},
   "source": [
    "### Вывод"
   ]
  },
  {
   "cell_type": "markdown",
   "metadata": {},
   "source": [
    "1. Были выделены следующие сегменты (сегменты приведены в таблице в порядке приоритета):\n",
    "№ сегмента | Описание | Размер | Процент оттока\n",
    ":------ | :------------ | :------------ | :------------\n",
    "1 | 3-9 баллов собственности, 3-5 продуктов, нет кредитной карты | 664 | 35.54%\n",
    "3 | нет кредитной карты, 50-61 год, 830-900 баллов кредитного скоринга | 582 | 33.68%\n",
    "2 | активный клиент, 830-900 баллов кредитного скоринга, мужчина 26-35 лет | 671 |33.38%\n",
    "\n",
    "2. Были даны следующие рекомендации к указанным сегментам:\n",
    "\n",
    "Рекомендации по сегменту №1:\n",
    "- не предлагать незаинтересованному (до тех пор, пока клиент сам не проявил инетерес к конкретному продукту) клиенту дополнительные продукты в случае, если он пользуется 2 или более продуктами банка;\n",
    "- провести анализ тарифов и условий банка по кредитным картам.\n",
    "\n",
    "Рекомендации по сегменту №2:\n",
    "- провести анализ тарифов и условий банка по кредитным картам;\n",
    "- предлагать клиентам со скорингом 830-900 баллов продукты с лучшими условиями;\n",
    "- предложить для клиентов 50-60 лет простые и понятные продукты накопления и инвестиций.\n",
    "\n",
    "Рекомендации по сегменту №3:\n",
    "- повысить качество работы службы поддержки;\n",
    "- предлагать клиентам со скорингом 830-900 баллов продукты с лучшими условиями;\n",
    "- предлагать клиентам 26-35 лет продукты по ипотеке (на одно-, двух-, трехкомнатные квартиры), в том числе семейной, в том числе с использованием маткапитала, кредиты на мебель (возможно, сотрудничать с мебельными/строительными магазинами), кредиты на автомобили."
   ]
  },
  {
   "cell_type": "markdown",
   "metadata": {},
   "source": [
    "## Выводы"
   ]
  },
  {
   "cell_type": "markdown",
   "metadata": {},
   "source": [
    "В ходе данного исследования был создан датасет bank_scrooge, содержащий данные о клиентах банка \"Метанпромбанк\". Была проверена обработка пропусков и аномалий, найдено и объяснено наличие дубликатов по столбцу user_id, названия столбцов были приведены к единообразному стилю. Был создан столбец gender_bool на основе столбцы gender (0 - М, 1 - Ж). Был проведен анализ распределения признаков, в том числе в разрезе оттока (для непрерывных признаков были определены отточные интервалы, для категориальных/дискретных были найдены значения признака с оттоком выше, чем по банку). Были составлены и проанализированы портреты клиентов в разрезе оттока, был проведен и интерпретирован корреляционный анализ между исследуемыми признаками и оттоком. Были сформулированы и проверены три статистические гипотезы. Были сформированы и приоритезированы сегменты клиентов по признаку отточности, а также даны рекомендации банку по уменьшению оттока клиентов. Была создана презентация в формате pdf по проведенному анализу."
   ]
  },
  {
   "cell_type": "markdown",
   "metadata": {},
   "source": [
    "1. Общее количество ушедших клиентов: 1818 (18.2%).\n",
    "2. Интервалы оттока (в скобках указан коэффициент оттока):\n",
    "    - 830-900 баллов кредитного скоринга (55-66%);\n",
    "    - 26-35 лет, 50-61 год (52-80%);\n",
    "    - 1.1 млн рублей и более на счёту клиента (60-80%);\n",
    "    - 3-5 продуктов банка, которыми пользуется клиент (28-63%);\n",
    "    - оценочный доход 100-200 тыс. рублей (51-55%);\n",
    "    - 3-9 баллов собственности (21-54%)\n",
    "3. Наиболее склонны к оттоку (в скобках указан коэффициент оттока):\n",
    "    - клиенты из городов Ярославль, Ростов (18.5-19%);\n",
    "    - мужчины (23.5%);\n",
    "    - клиенты, не имеющие кредитную карту (26%);\n",
    "    - активные клиенты (24.5%).\n",
    "4. Портрет типичного клиента, склонного в оттоку: мужчина в возрасте 39-41 из города Ярославль, имеющий 800 тыс. - 1.1 млн рублей на счету, средний доход которого составляет 125-148 тыс. руб, имеющий 4 балла собственности, кредитную карту и 2 продукта банка, кредитный скоринг в районе 860-870 баллов, являющийся активным клиентом.\n",
    "5. Портрет типичного клиента, НЕ склонного в оттоку: женщина в возрасте 40-43 из города Ярославль, имеющая 475-730 тыс. руб. на счету, средний доход которой составляет 118-148 тыс. руб., имеющая 3 балла собственности, кредитную карту и 2 продукта банка, кредитный скоринг которой в районе 840-850, не являющаяся активным клиентом.\n",
    "6. Основные различия в тенденции к оттоку: пол (мужчины более склонны к оттоку, чем женщины), баланс счёта (люди с более низким балансом реже склонны к оттоку, относительная разница - 34.5%), активность клиента (менее активные клиенты реже уходят).\n",
    "7. Есть статистически значимые различия между средним количеством баллов кредитного ушедших и неушедших клиентов. Чем больше кредитный скоринг, тем больше клиент склонен к оттоку.\n",
    "8. Среди ушедших клиентов доля мужчин значимо больше.\n",
    "9. С учётом построения матрицы корреляции и проверенных статистических гипотез можно составить таблицу влияния различных признаков на отток:\n",
    "Признаки | Корреляция с оттоком | Коэфф. корреляции | Есть стат. знач. различия между уш. и неуш. клиентами по признаку\n",
    ":------------------- | :------ | :------ | :------\n",
    "equity | Умеренная | 0.35 | да\n",
    "score, gender, age, products, credit_card, last_activity |Слабая | 0.19-0.26 | да\n",
    "city, balance, est_salary | Отсутсвует | 0.017-0.049 | нет\n",
    "10. Были выделены следующие сегменты (сегменты приведены в таблице в порядке приоритета):\n",
    "№ сегмента | Описание | Размер | Процент оттока\n",
    ":------ | :------------ | :------------ | :------------\n",
    "1 | 3-9 баллов собственности, 3-5 продуктов, нет кредитной карты | 664 | 35.54%\n",
    "3 | нет кредитной карты, 50-61 год, 830-900 баллов кредитного скоринга | 582 | 33.68%\n",
    "2 | активный клиент, 830-900 баллов кредитного скоринга, мужчина 26-35 лет | 671 |33.38%\n",
    "\n",
    "11. Были даны следующие рекомендации к указанным сегментам:\n",
    "\n",
    "Рекомендации по сегменту №1:\n",
    "- не предлагать незаинтересованному (до тех пор, пока клиент сам не проявил инетерес к конкретному продукту) клиенту дополнительные продукты в случае, если он пользуется 2 или более продуктами банка;\n",
    "- предлагать действующим клиентам кредитную карту банка.\n",
    "\n",
    "Рекомендации по сегменту №2:\n",
    "- предлагать действующим клиентам кредитную карту банка;\n",
    "- предлагать клиентам со скорингом 830-900 баллов продукты с лучшими условиями;\n",
    "- предложить для клиентов 50-60 лет простые и понятные продукты накопления и инвестиций.\n",
    "\n",
    "Рекомендации по сегменту №3:\n",
    "- повысить качество работы службы поддержки;\n",
    "- предлагать клиентам со скорингом 830-900 баллов продукты с лучшими условиями;\n",
    "- предлагать клиентам 26-35 лет продукты по ипотеке (на одно-, двух-, трехкомнатные квартиры), в том числе семейной, в том числе с использованием маткапитала, кредиты на мебель (возможно, сотрудничать с мебельными/строительными магазинами), кредиты на автомобили."
   ]
  }
 ],
 "metadata": {
  "ExecuteTimeLog": [
   {
    "duration": 3,
    "start_time": "2024-03-06T18:18:11.931Z"
   },
   {
    "duration": 2,
    "start_time": "2024-03-06T18:19:07.453Z"
   },
   {
    "duration": 2,
    "start_time": "2024-03-06T18:19:56.863Z"
   },
   {
    "duration": 3,
    "start_time": "2024-03-06T23:22:41.562Z"
   },
   {
    "duration": 6,
    "start_time": "2024-03-06T23:22:41.567Z"
   },
   {
    "duration": 4,
    "start_time": "2024-03-06T23:22:41.574Z"
   },
   {
    "duration": 4,
    "start_time": "2024-03-06T23:22:41.579Z"
   },
   {
    "duration": 3,
    "start_time": "2024-03-06T23:22:41.585Z"
   },
   {
    "duration": 6,
    "start_time": "2024-03-06T23:22:41.589Z"
   },
   {
    "duration": 9,
    "start_time": "2024-03-06T23:22:41.596Z"
   },
   {
    "duration": 4,
    "start_time": "2024-03-06T23:22:41.606Z"
   },
   {
    "duration": 3,
    "start_time": "2024-03-06T23:23:22.207Z"
   },
   {
    "duration": 4,
    "start_time": "2024-03-06T23:23:22.211Z"
   },
   {
    "duration": 3,
    "start_time": "2024-03-06T23:23:22.216Z"
   },
   {
    "duration": 4,
    "start_time": "2024-03-06T23:23:22.220Z"
   },
   {
    "duration": 6,
    "start_time": "2024-03-06T23:23:22.225Z"
   },
   {
    "duration": 6,
    "start_time": "2024-03-06T23:23:22.232Z"
   },
   {
    "duration": 3,
    "start_time": "2024-03-06T23:23:22.239Z"
   },
   {
    "duration": 4,
    "start_time": "2024-03-06T23:23:22.244Z"
   },
   {
    "duration": 423,
    "start_time": "2024-03-10T16:50:17.210Z"
   },
   {
    "duration": 81,
    "start_time": "2024-03-10T16:54:38.493Z"
   },
   {
    "duration": 46,
    "start_time": "2024-03-10T16:55:30.922Z"
   },
   {
    "duration": 4,
    "start_time": "2024-03-10T17:04:12.463Z"
   },
   {
    "duration": 23,
    "start_time": "2024-03-10T17:04:17.618Z"
   },
   {
    "duration": 3,
    "start_time": "2024-03-10T17:04:26.399Z"
   },
   {
    "duration": 6,
    "start_time": "2024-03-10T17:05:08.764Z"
   },
   {
    "duration": 4,
    "start_time": "2024-03-10T17:05:21.087Z"
   },
   {
    "duration": 5,
    "start_time": "2024-03-10T17:05:34.946Z"
   },
   {
    "duration": 9,
    "start_time": "2024-03-10T17:06:42.195Z"
   },
   {
    "duration": 76,
    "start_time": "2024-03-10T17:08:42.694Z"
   },
   {
    "duration": 2,
    "start_time": "2024-03-10T17:08:54.771Z"
   },
   {
    "duration": 8,
    "start_time": "2024-03-10T17:09:51.096Z"
   },
   {
    "duration": 16,
    "start_time": "2024-03-10T20:47:48.985Z"
   },
   {
    "duration": 8,
    "start_time": "2024-03-10T20:48:51.200Z"
   },
   {
    "duration": 7,
    "start_time": "2024-03-10T20:48:59.163Z"
   },
   {
    "duration": 23,
    "start_time": "2024-03-10T20:52:41.108Z"
   },
   {
    "duration": 24,
    "start_time": "2024-03-10T20:53:00.857Z"
   },
   {
    "duration": 20,
    "start_time": "2024-03-10T20:54:09.567Z"
   },
   {
    "duration": 1309,
    "start_time": "2024-03-10T20:58:50.577Z"
   },
   {
    "duration": 7,
    "start_time": "2024-03-10T20:58:55.839Z"
   },
   {
    "duration": 11,
    "start_time": "2024-03-10T23:43:41.126Z"
   },
   {
    "duration": 10,
    "start_time": "2024-03-10T23:43:46.792Z"
   },
   {
    "duration": 9,
    "start_time": "2024-03-10T23:44:49.188Z"
   },
   {
    "duration": 8,
    "start_time": "2024-03-10T23:46:58.832Z"
   },
   {
    "duration": 1288,
    "start_time": "2024-03-10T23:48:48.941Z"
   },
   {
    "duration": 3658,
    "start_time": "2024-03-10T23:48:55.908Z"
   },
   {
    "duration": 1037,
    "start_time": "2024-03-10T23:49:04.614Z"
   },
   {
    "duration": 3,
    "start_time": "2024-03-10T23:49:45.663Z"
   },
   {
    "duration": 633,
    "start_time": "2024-03-10T23:50:06.495Z"
   },
   {
    "duration": 606,
    "start_time": "2024-03-10T23:50:38.717Z"
   },
   {
    "duration": 591,
    "start_time": "2024-03-10T23:50:44.366Z"
   },
   {
    "duration": 578,
    "start_time": "2024-03-10T23:50:53.184Z"
   },
   {
    "duration": 48,
    "start_time": "2024-03-11T00:16:20.959Z"
   },
   {
    "duration": 9,
    "start_time": "2024-03-11T00:16:24.066Z"
   },
   {
    "duration": 11,
    "start_time": "2024-03-11T00:16:31.750Z"
   },
   {
    "duration": 10,
    "start_time": "2024-03-11T00:17:47.179Z"
   },
   {
    "duration": 11,
    "start_time": "2024-03-11T00:21:02.996Z"
   },
   {
    "duration": 18,
    "start_time": "2024-03-11T00:21:11.631Z"
   },
   {
    "duration": 23,
    "start_time": "2024-03-11T00:22:14.584Z"
   },
   {
    "duration": 581,
    "start_time": "2024-03-11T00:22:38.927Z"
   },
   {
    "duration": 616,
    "start_time": "2024-03-11T00:22:53.306Z"
   },
   {
    "duration": 631,
    "start_time": "2024-03-11T00:23:09.696Z"
   },
   {
    "duration": 757,
    "start_time": "2024-03-11T00:23:21.461Z"
   },
   {
    "duration": 549,
    "start_time": "2024-03-11T00:23:38.692Z"
   },
   {
    "duration": 572,
    "start_time": "2024-03-11T00:24:25.122Z"
   },
   {
    "duration": 614,
    "start_time": "2024-03-11T00:24:30.960Z"
   },
   {
    "duration": 592,
    "start_time": "2024-03-11T00:24:39.236Z"
   },
   {
    "duration": 550,
    "start_time": "2024-03-11T00:24:53.492Z"
   },
   {
    "duration": 52,
    "start_time": "2024-03-11T12:12:25.168Z"
   },
   {
    "duration": 7,
    "start_time": "2024-03-11T12:12:42.854Z"
   },
   {
    "duration": 3453,
    "start_time": "2024-03-11T12:12:50.632Z"
   },
   {
    "duration": 2173,
    "start_time": "2024-03-11T12:12:54.087Z"
   },
   {
    "duration": 148,
    "start_time": "2024-03-11T12:12:56.262Z"
   },
   {
    "duration": 43,
    "start_time": "2024-03-11T12:12:56.413Z"
   },
   {
    "duration": 4,
    "start_time": "2024-03-11T12:12:56.459Z"
   },
   {
    "duration": 21,
    "start_time": "2024-03-11T12:12:56.465Z"
   },
   {
    "duration": 17,
    "start_time": "2024-03-11T12:12:56.488Z"
   },
   {
    "duration": 22,
    "start_time": "2024-03-11T12:12:56.506Z"
   },
   {
    "duration": 6,
    "start_time": "2024-03-11T12:12:56.530Z"
   },
   {
    "duration": 11,
    "start_time": "2024-03-11T12:12:56.539Z"
   },
   {
    "duration": 9,
    "start_time": "2024-03-11T12:12:56.552Z"
   },
   {
    "duration": 20,
    "start_time": "2024-03-11T12:12:56.563Z"
   },
   {
    "duration": 39,
    "start_time": "2024-03-11T12:12:56.585Z"
   },
   {
    "duration": 23,
    "start_time": "2024-03-11T12:12:56.626Z"
   },
   {
    "duration": 692,
    "start_time": "2024-03-11T12:12:56.651Z"
   },
   {
    "duration": 9,
    "start_time": "2024-03-11T12:12:57.345Z"
   },
   {
    "duration": 8,
    "start_time": "2024-03-11T12:12:57.355Z"
   },
   {
    "duration": 4,
    "start_time": "2024-03-11T12:12:57.364Z"
   },
   {
    "duration": 4,
    "start_time": "2024-03-11T12:12:57.370Z"
   },
   {
    "duration": 5,
    "start_time": "2024-03-11T12:13:07.860Z"
   },
   {
    "duration": 7,
    "start_time": "2024-03-11T12:13:36.255Z"
   },
   {
    "duration": 8,
    "start_time": "2024-03-11T12:14:07.015Z"
   },
   {
    "duration": 7,
    "start_time": "2024-03-11T12:14:45.437Z"
   },
   {
    "duration": 583,
    "start_time": "2024-03-11T13:25:08.140Z"
   },
   {
    "duration": 7450,
    "start_time": "2024-03-11T13:25:31.535Z"
   },
   {
    "duration": 7264,
    "start_time": "2024-03-11T13:26:13.267Z"
   },
   {
    "duration": 693,
    "start_time": "2024-03-11T13:39:18.574Z"
   },
   {
    "duration": 2,
    "start_time": "2024-03-11T13:40:12.980Z"
   },
   {
    "duration": 7254,
    "start_time": "2024-03-11T13:40:22.338Z"
   },
   {
    "duration": 6912,
    "start_time": "2024-03-11T13:41:30.470Z"
   },
   {
    "duration": 6880,
    "start_time": "2024-03-11T13:41:49.705Z"
   },
   {
    "duration": 6804,
    "start_time": "2024-03-11T13:42:18.169Z"
   },
   {
    "duration": 6740,
    "start_time": "2024-03-11T13:42:33.739Z"
   },
   {
    "duration": 68,
    "start_time": "2024-03-11T14:56:00.608Z"
   },
   {
    "duration": 8,
    "start_time": "2024-03-11T14:57:23.426Z"
   },
   {
    "duration": 9,
    "start_time": "2024-03-11T14:57:47.218Z"
   },
   {
    "duration": 23,
    "start_time": "2024-03-11T14:58:11.571Z"
   },
   {
    "duration": 7,
    "start_time": "2024-03-11T14:59:43.045Z"
   },
   {
    "duration": 3,
    "start_time": "2024-03-11T15:02:45.281Z"
   },
   {
    "duration": 9,
    "start_time": "2024-03-11T15:05:07.298Z"
   },
   {
    "duration": 8,
    "start_time": "2024-03-11T15:06:13.451Z"
   },
   {
    "duration": 8,
    "start_time": "2024-03-11T15:06:34.813Z"
   },
   {
    "duration": 9,
    "start_time": "2024-03-11T15:27:21.967Z"
   },
   {
    "duration": 5,
    "start_time": "2024-03-11T15:43:57.419Z"
   },
   {
    "duration": 13,
    "start_time": "2024-03-11T15:50:01.196Z"
   },
   {
    "duration": 3,
    "start_time": "2024-03-11T15:50:15.855Z"
   },
   {
    "duration": 14,
    "start_time": "2024-03-11T15:50:23.745Z"
   },
   {
    "duration": 13,
    "start_time": "2024-03-11T15:51:39.919Z"
   },
   {
    "duration": 12,
    "start_time": "2024-03-11T15:52:09.662Z"
   },
   {
    "duration": 9,
    "start_time": "2024-03-11T15:53:06.387Z"
   },
   {
    "duration": 38,
    "start_time": "2024-03-11T15:53:14.779Z"
   },
   {
    "duration": 9,
    "start_time": "2024-03-11T15:53:52.943Z"
   },
   {
    "duration": 22,
    "start_time": "2024-03-11T15:54:51.803Z"
   },
   {
    "duration": 12,
    "start_time": "2024-03-11T15:55:08.586Z"
   },
   {
    "duration": 16,
    "start_time": "2024-03-11T15:55:42.514Z"
   },
   {
    "duration": 37,
    "start_time": "2024-03-11T16:07:43.595Z"
   },
   {
    "duration": 23,
    "start_time": "2024-03-11T16:08:30.433Z"
   },
   {
    "duration": 8,
    "start_time": "2024-03-11T16:29:16.493Z"
   },
   {
    "duration": 15,
    "start_time": "2024-03-11T16:29:24.119Z"
   },
   {
    "duration": 5,
    "start_time": "2024-03-11T16:37:14.187Z"
   },
   {
    "duration": 5,
    "start_time": "2024-03-11T16:38:09.572Z"
   },
   {
    "duration": 5,
    "start_time": "2024-03-11T16:38:32.769Z"
   },
   {
    "duration": 4,
    "start_time": "2024-03-11T16:38:42.986Z"
   },
   {
    "duration": 17,
    "start_time": "2024-03-11T18:06:54.176Z"
   },
   {
    "duration": 425,
    "start_time": "2024-03-11T18:08:02.781Z"
   },
   {
    "duration": 492,
    "start_time": "2024-03-11T18:08:07.366Z"
   },
   {
    "duration": 401,
    "start_time": "2024-03-11T18:10:56.570Z"
   },
   {
    "duration": 408,
    "start_time": "2024-03-11T18:11:05.134Z"
   },
   {
    "duration": 399,
    "start_time": "2024-03-11T18:12:07.026Z"
   },
   {
    "duration": 394,
    "start_time": "2024-03-11T18:12:56.985Z"
   },
   {
    "duration": 598,
    "start_time": "2024-03-11T18:15:20.317Z"
   },
   {
    "duration": 386,
    "start_time": "2024-03-11T18:15:35.707Z"
   },
   {
    "duration": 1636,
    "start_time": "2024-03-11T18:22:08.224Z"
   },
   {
    "duration": 421,
    "start_time": "2024-03-11T18:22:26.182Z"
   },
   {
    "duration": 368,
    "start_time": "2024-03-11T18:34:21.724Z"
   },
   {
    "duration": 391,
    "start_time": "2024-03-11T18:34:35.906Z"
   },
   {
    "duration": 301,
    "start_time": "2024-03-11T18:34:56.335Z"
   },
   {
    "duration": 319,
    "start_time": "2024-03-11T18:35:00.872Z"
   },
   {
    "duration": 666,
    "start_time": "2024-03-11T18:35:36.823Z"
   },
   {
    "duration": 479,
    "start_time": "2024-03-11T18:35:58.939Z"
   },
   {
    "duration": 521,
    "start_time": "2024-03-11T18:36:57.292Z"
   },
   {
    "duration": 51,
    "start_time": "2024-03-11T18:56:48.876Z"
   },
   {
    "duration": 81,
    "start_time": "2024-03-11T18:56:54.995Z"
   },
   {
    "duration": 0,
    "start_time": "2024-03-11T18:56:55.079Z"
   },
   {
    "duration": 0,
    "start_time": "2024-03-11T18:56:55.081Z"
   },
   {
    "duration": 0,
    "start_time": "2024-03-11T18:56:55.083Z"
   },
   {
    "duration": 0,
    "start_time": "2024-03-11T18:56:55.084Z"
   },
   {
    "duration": 0,
    "start_time": "2024-03-11T18:56:55.085Z"
   },
   {
    "duration": 0,
    "start_time": "2024-03-11T18:56:55.087Z"
   },
   {
    "duration": 0,
    "start_time": "2024-03-11T18:56:55.089Z"
   },
   {
    "duration": 0,
    "start_time": "2024-03-11T18:56:55.090Z"
   },
   {
    "duration": 0,
    "start_time": "2024-03-11T18:56:55.092Z"
   },
   {
    "duration": 0,
    "start_time": "2024-03-11T18:56:55.093Z"
   },
   {
    "duration": 0,
    "start_time": "2024-03-11T18:56:55.095Z"
   },
   {
    "duration": 0,
    "start_time": "2024-03-11T18:56:55.096Z"
   },
   {
    "duration": 0,
    "start_time": "2024-03-11T18:56:55.097Z"
   },
   {
    "duration": 0,
    "start_time": "2024-03-11T18:56:55.099Z"
   },
   {
    "duration": 0,
    "start_time": "2024-03-11T18:56:55.100Z"
   },
   {
    "duration": 0,
    "start_time": "2024-03-11T18:56:55.102Z"
   },
   {
    "duration": 0,
    "start_time": "2024-03-11T18:56:55.103Z"
   },
   {
    "duration": 0,
    "start_time": "2024-03-11T18:56:55.104Z"
   },
   {
    "duration": 0,
    "start_time": "2024-03-11T18:56:55.105Z"
   },
   {
    "duration": 0,
    "start_time": "2024-03-11T18:56:55.107Z"
   },
   {
    "duration": 0,
    "start_time": "2024-03-11T18:56:55.109Z"
   },
   {
    "duration": 0,
    "start_time": "2024-03-11T18:56:55.110Z"
   },
   {
    "duration": 0,
    "start_time": "2024-03-11T18:56:55.111Z"
   },
   {
    "duration": 0,
    "start_time": "2024-03-11T18:56:55.123Z"
   },
   {
    "duration": 0,
    "start_time": "2024-03-11T18:56:55.124Z"
   },
   {
    "duration": 70,
    "start_time": "2024-03-11T18:57:19.290Z"
   },
   {
    "duration": 0,
    "start_time": "2024-03-11T18:57:19.362Z"
   },
   {
    "duration": 0,
    "start_time": "2024-03-11T18:57:19.363Z"
   },
   {
    "duration": 0,
    "start_time": "2024-03-11T18:57:19.364Z"
   },
   {
    "duration": 0,
    "start_time": "2024-03-11T18:57:19.365Z"
   },
   {
    "duration": 0,
    "start_time": "2024-03-11T18:57:19.366Z"
   },
   {
    "duration": 0,
    "start_time": "2024-03-11T18:57:19.368Z"
   },
   {
    "duration": 0,
    "start_time": "2024-03-11T18:57:19.369Z"
   },
   {
    "duration": 0,
    "start_time": "2024-03-11T18:57:19.370Z"
   },
   {
    "duration": 0,
    "start_time": "2024-03-11T18:57:19.371Z"
   },
   {
    "duration": 0,
    "start_time": "2024-03-11T18:57:19.373Z"
   },
   {
    "duration": 0,
    "start_time": "2024-03-11T18:57:19.373Z"
   },
   {
    "duration": 0,
    "start_time": "2024-03-11T18:57:19.374Z"
   },
   {
    "duration": 0,
    "start_time": "2024-03-11T18:57:19.376Z"
   },
   {
    "duration": 0,
    "start_time": "2024-03-11T18:57:19.377Z"
   },
   {
    "duration": 0,
    "start_time": "2024-03-11T18:57:19.378Z"
   },
   {
    "duration": 0,
    "start_time": "2024-03-11T18:57:19.380Z"
   },
   {
    "duration": 0,
    "start_time": "2024-03-11T18:57:19.381Z"
   },
   {
    "duration": 0,
    "start_time": "2024-03-11T18:57:19.382Z"
   },
   {
    "duration": 0,
    "start_time": "2024-03-11T18:57:19.383Z"
   },
   {
    "duration": 0,
    "start_time": "2024-03-11T18:57:19.384Z"
   },
   {
    "duration": 0,
    "start_time": "2024-03-11T18:57:19.385Z"
   },
   {
    "duration": 0,
    "start_time": "2024-03-11T18:57:19.386Z"
   },
   {
    "duration": 0,
    "start_time": "2024-03-11T18:57:19.387Z"
   },
   {
    "duration": 0,
    "start_time": "2024-03-11T18:57:19.388Z"
   },
   {
    "duration": 0,
    "start_time": "2024-03-11T18:57:19.390Z"
   },
   {
    "duration": 65,
    "start_time": "2024-03-11T18:57:33.867Z"
   },
   {
    "duration": 2,
    "start_time": "2024-03-11T18:57:41.932Z"
   },
   {
    "duration": 1244,
    "start_time": "2024-03-11T18:57:43.156Z"
   },
   {
    "duration": 3,
    "start_time": "2024-03-11T18:57:47.578Z"
   },
   {
    "duration": 1207,
    "start_time": "2024-03-11T18:57:47.584Z"
   },
   {
    "duration": 147,
    "start_time": "2024-03-11T18:57:48.792Z"
   },
   {
    "duration": 41,
    "start_time": "2024-03-11T18:57:48.941Z"
   },
   {
    "duration": 18,
    "start_time": "2024-03-11T18:57:48.984Z"
   },
   {
    "duration": 15,
    "start_time": "2024-03-11T18:57:49.004Z"
   },
   {
    "duration": 7,
    "start_time": "2024-03-11T18:57:49.020Z"
   },
   {
    "duration": 22,
    "start_time": "2024-03-11T18:57:49.028Z"
   },
   {
    "duration": 6,
    "start_time": "2024-03-11T18:57:49.052Z"
   },
   {
    "duration": 9,
    "start_time": "2024-03-11T18:57:49.060Z"
   },
   {
    "duration": 29,
    "start_time": "2024-03-11T18:57:49.071Z"
   },
   {
    "duration": 39,
    "start_time": "2024-03-11T18:57:49.102Z"
   },
   {
    "duration": 54,
    "start_time": "2024-03-11T18:57:49.142Z"
   },
   {
    "duration": 8,
    "start_time": "2024-03-11T18:57:49.200Z"
   },
   {
    "duration": 21,
    "start_time": "2024-03-11T18:57:49.209Z"
   },
   {
    "duration": 7734,
    "start_time": "2024-03-11T18:57:49.232Z"
   },
   {
    "duration": 63,
    "start_time": "2024-03-11T18:57:56.967Z"
   },
   {
    "duration": 14,
    "start_time": "2024-03-11T18:57:57.032Z"
   },
   {
    "duration": 77,
    "start_time": "2024-03-11T18:57:57.048Z"
   },
   {
    "duration": 8,
    "start_time": "2024-03-11T18:57:57.126Z"
   },
   {
    "duration": 10,
    "start_time": "2024-03-11T18:57:57.136Z"
   },
   {
    "duration": 4,
    "start_time": "2024-03-11T18:57:57.148Z"
   },
   {
    "duration": 5,
    "start_time": "2024-03-11T18:57:57.153Z"
   },
   {
    "duration": 504,
    "start_time": "2024-03-11T18:57:57.159Z"
   },
   {
    "duration": 474,
    "start_time": "2024-03-11T18:57:57.665Z"
   },
   {
    "duration": 52,
    "start_time": "2024-03-11T18:58:12.418Z"
   },
   {
    "duration": 3,
    "start_time": "2024-03-11T18:58:27.041Z"
   },
   {
    "duration": 1238,
    "start_time": "2024-03-11T18:58:27.046Z"
   },
   {
    "duration": 147,
    "start_time": "2024-03-11T18:58:28.286Z"
   },
   {
    "duration": 41,
    "start_time": "2024-03-11T18:58:28.435Z"
   },
   {
    "duration": 4,
    "start_time": "2024-03-11T18:58:28.478Z"
   },
   {
    "duration": 6,
    "start_time": "2024-03-11T18:58:28.484Z"
   },
   {
    "duration": 6,
    "start_time": "2024-03-11T18:58:28.492Z"
   },
   {
    "duration": 20,
    "start_time": "2024-03-11T18:58:28.524Z"
   },
   {
    "duration": 7,
    "start_time": "2024-03-11T18:58:28.547Z"
   },
   {
    "duration": 11,
    "start_time": "2024-03-11T18:58:28.555Z"
   },
   {
    "duration": 10,
    "start_time": "2024-03-11T18:58:28.568Z"
   },
   {
    "duration": 46,
    "start_time": "2024-03-11T18:58:28.580Z"
   },
   {
    "duration": 9,
    "start_time": "2024-03-11T18:58:28.628Z"
   },
   {
    "duration": 8,
    "start_time": "2024-03-11T18:58:28.638Z"
   },
   {
    "duration": 21,
    "start_time": "2024-03-11T18:58:28.648Z"
   },
   {
    "duration": 7963,
    "start_time": "2024-03-11T18:58:28.670Z"
   },
   {
    "duration": 9,
    "start_time": "2024-03-11T18:58:36.634Z"
   },
   {
    "duration": 4,
    "start_time": "2024-03-11T18:58:36.645Z"
   },
   {
    "duration": 34,
    "start_time": "2024-03-11T18:58:36.651Z"
   },
   {
    "duration": 36,
    "start_time": "2024-03-11T18:58:36.687Z"
   },
   {
    "duration": 5,
    "start_time": "2024-03-11T18:58:36.725Z"
   },
   {
    "duration": 6,
    "start_time": "2024-03-11T18:58:36.732Z"
   },
   {
    "duration": 13,
    "start_time": "2024-03-11T18:58:36.740Z"
   },
   {
    "duration": 403,
    "start_time": "2024-03-11T18:58:36.756Z"
   },
   {
    "duration": 488,
    "start_time": "2024-03-11T18:58:37.161Z"
   },
   {
    "duration": 6337,
    "start_time": "2024-03-11T18:58:37.650Z"
   },
   {
    "duration": 6903,
    "start_time": "2024-03-11T19:07:40.249Z"
   },
   {
    "duration": 7200,
    "start_time": "2024-03-11T19:08:18.401Z"
   },
   {
    "duration": 6836,
    "start_time": "2024-03-11T19:08:52.198Z"
   },
   {
    "duration": 6919,
    "start_time": "2024-03-11T19:09:52.822Z"
   },
   {
    "duration": 6986,
    "start_time": "2024-03-11T19:10:18.851Z"
   },
   {
    "duration": 4973,
    "start_time": "2024-03-11T19:13:27.863Z"
   },
   {
    "duration": 405,
    "start_time": "2024-03-11T19:17:31.156Z"
   },
   {
    "duration": 279,
    "start_time": "2024-03-11T19:36:19.519Z"
   },
   {
    "duration": 4549,
    "start_time": "2024-03-11T19:36:40.711Z"
   },
   {
    "duration": 3,
    "start_time": "2024-03-11T19:48:30.433Z"
   },
   {
    "duration": 1357,
    "start_time": "2024-03-11T19:48:30.438Z"
   },
   {
    "duration": 41,
    "start_time": "2024-03-11T19:48:31.797Z"
   },
   {
    "duration": 57,
    "start_time": "2024-03-11T19:48:31.840Z"
   },
   {
    "duration": 34,
    "start_time": "2024-03-11T19:48:31.898Z"
   },
   {
    "duration": 30,
    "start_time": "2024-03-11T19:48:31.933Z"
   },
   {
    "duration": 43,
    "start_time": "2024-03-11T19:48:31.965Z"
   },
   {
    "duration": 47,
    "start_time": "2024-03-11T19:48:32.010Z"
   },
   {
    "duration": 15,
    "start_time": "2024-03-11T19:48:32.060Z"
   },
   {
    "duration": 28,
    "start_time": "2024-03-11T19:48:32.076Z"
   },
   {
    "duration": 18,
    "start_time": "2024-03-11T19:48:32.106Z"
   },
   {
    "duration": 51,
    "start_time": "2024-03-11T19:48:32.125Z"
   },
   {
    "duration": 37,
    "start_time": "2024-03-11T19:48:32.178Z"
   },
   {
    "duration": 58,
    "start_time": "2024-03-11T19:48:32.216Z"
   },
   {
    "duration": 44,
    "start_time": "2024-03-11T19:48:32.276Z"
   },
   {
    "duration": 7238,
    "start_time": "2024-03-11T19:48:32.322Z"
   },
   {
    "duration": 9,
    "start_time": "2024-03-11T19:48:39.562Z"
   },
   {
    "duration": 46,
    "start_time": "2024-03-11T19:48:39.572Z"
   },
   {
    "duration": 42,
    "start_time": "2024-03-11T19:48:39.620Z"
   },
   {
    "duration": 34,
    "start_time": "2024-03-11T19:48:39.664Z"
   },
   {
    "duration": 38,
    "start_time": "2024-03-11T19:48:39.700Z"
   },
   {
    "duration": 39,
    "start_time": "2024-03-11T19:48:39.740Z"
   },
   {
    "duration": 61,
    "start_time": "2024-03-11T19:48:39.781Z"
   },
   {
    "duration": 411,
    "start_time": "2024-03-11T19:48:39.846Z"
   },
   {
    "duration": 497,
    "start_time": "2024-03-11T19:48:40.259Z"
   },
   {
    "duration": 6250,
    "start_time": "2024-03-11T19:48:40.758Z"
   },
   {
    "duration": 5742,
    "start_time": "2024-03-11T19:48:47.011Z"
   },
   {
    "duration": 274,
    "start_time": "2024-03-11T19:48:52.755Z"
   },
   {
    "duration": 1020,
    "start_time": "2024-03-11T19:48:53.030Z"
   },
   {
    "duration": 114,
    "start_time": "2024-03-11T19:49:47.015Z"
   },
   {
    "duration": 23,
    "start_time": "2024-03-11T19:49:53.485Z"
   },
   {
    "duration": 17,
    "start_time": "2024-03-11T19:49:58.183Z"
   },
   {
    "duration": 21,
    "start_time": "2024-03-11T19:51:16.319Z"
   },
   {
    "duration": 19,
    "start_time": "2024-03-11T19:51:29.557Z"
   },
   {
    "duration": 15,
    "start_time": "2024-03-11T19:51:50.578Z"
   },
   {
    "duration": 16,
    "start_time": "2024-03-11T19:52:12.563Z"
   },
   {
    "duration": 16,
    "start_time": "2024-03-11T19:52:45.168Z"
   },
   {
    "duration": 15,
    "start_time": "2024-03-11T19:54:37.433Z"
   },
   {
    "duration": 3650,
    "start_time": "2024-03-11T19:54:44.973Z"
   },
   {
    "duration": 228,
    "start_time": "2024-03-11T19:54:59.607Z"
   },
   {
    "duration": 342,
    "start_time": "2024-03-11T19:55:20.255Z"
   },
   {
    "duration": 343,
    "start_time": "2024-03-11T19:56:42.270Z"
   },
   {
    "duration": 487,
    "start_time": "2024-03-11T19:57:05.464Z"
   },
   {
    "duration": 446,
    "start_time": "2024-03-11T19:57:30.302Z"
   },
   {
    "duration": 476,
    "start_time": "2024-03-11T19:59:00.695Z"
   },
   {
    "duration": 452,
    "start_time": "2024-03-11T19:59:28.782Z"
   },
   {
    "duration": 435,
    "start_time": "2024-03-11T19:59:34.899Z"
   },
   {
    "duration": 390,
    "start_time": "2024-03-11T20:00:27.626Z"
   },
   {
    "duration": 67,
    "start_time": "2024-03-11T20:00:54.125Z"
   },
   {
    "duration": 578,
    "start_time": "2024-03-11T20:00:59.545Z"
   },
   {
    "duration": 570,
    "start_time": "2024-03-11T20:02:07.595Z"
   },
   {
    "duration": 504,
    "start_time": "2024-03-11T20:02:54.893Z"
   },
   {
    "duration": 455,
    "start_time": "2024-03-11T20:02:59.726Z"
   },
   {
    "duration": 475,
    "start_time": "2024-03-11T20:03:52.117Z"
   },
   {
    "duration": 474,
    "start_time": "2024-03-11T20:04:07.557Z"
   },
   {
    "duration": 14,
    "start_time": "2024-03-11T20:04:19.696Z"
   },
   {
    "duration": 24,
    "start_time": "2024-03-11T20:04:24.426Z"
   },
   {
    "duration": 23,
    "start_time": "2024-03-11T20:04:35.304Z"
   },
   {
    "duration": 447,
    "start_time": "2024-03-11T20:04:38.515Z"
   },
   {
    "duration": 461,
    "start_time": "2024-03-11T20:04:50.870Z"
   },
   {
    "duration": 14,
    "start_time": "2024-03-11T20:05:45.802Z"
   },
   {
    "duration": 13,
    "start_time": "2024-03-11T20:05:49.366Z"
   },
   {
    "duration": 469,
    "start_time": "2024-03-11T20:05:56.903Z"
   },
   {
    "duration": 27,
    "start_time": "2024-03-11T20:06:01.081Z"
   },
   {
    "duration": 474,
    "start_time": "2024-03-11T20:06:04.561Z"
   },
   {
    "duration": 464,
    "start_time": "2024-03-11T20:06:08.959Z"
   },
   {
    "duration": 436,
    "start_time": "2024-03-11T20:06:12.201Z"
   },
   {
    "duration": 26,
    "start_time": "2024-03-11T20:07:13.549Z"
   },
   {
    "duration": 491,
    "start_time": "2024-03-11T20:07:17.077Z"
   },
   {
    "duration": 575,
    "start_time": "2024-03-11T20:07:33.434Z"
   },
   {
    "duration": 476,
    "start_time": "2024-03-11T20:08:15.861Z"
   },
   {
    "duration": 455,
    "start_time": "2024-03-11T20:08:20.923Z"
   },
   {
    "duration": 478,
    "start_time": "2024-03-11T20:09:36.237Z"
   },
   {
    "duration": 455,
    "start_time": "2024-03-11T20:09:43.777Z"
   },
   {
    "duration": 15,
    "start_time": "2024-03-11T20:14:08.847Z"
   },
   {
    "duration": 13,
    "start_time": "2024-03-11T20:17:15.022Z"
   },
   {
    "duration": 5,
    "start_time": "2024-03-11T20:18:49.171Z"
   },
   {
    "duration": 3,
    "start_time": "2024-03-11T20:19:03.993Z"
   },
   {
    "duration": 1379,
    "start_time": "2024-03-11T20:19:03.998Z"
   },
   {
    "duration": 42,
    "start_time": "2024-03-11T20:19:05.379Z"
   },
   {
    "duration": 41,
    "start_time": "2024-03-11T20:19:05.423Z"
   },
   {
    "duration": 7,
    "start_time": "2024-03-11T20:19:05.466Z"
   },
   {
    "duration": 7,
    "start_time": "2024-03-11T20:19:05.475Z"
   },
   {
    "duration": 20,
    "start_time": "2024-03-11T20:19:05.483Z"
   },
   {
    "duration": 38,
    "start_time": "2024-03-11T20:19:05.505Z"
   },
   {
    "duration": 7,
    "start_time": "2024-03-11T20:19:05.545Z"
   },
   {
    "duration": 15,
    "start_time": "2024-03-11T20:19:05.555Z"
   },
   {
    "duration": 20,
    "start_time": "2024-03-11T20:19:05.572Z"
   },
   {
    "duration": 40,
    "start_time": "2024-03-11T20:19:05.594Z"
   },
   {
    "duration": 9,
    "start_time": "2024-03-11T20:19:05.636Z"
   },
   {
    "duration": 7,
    "start_time": "2024-03-11T20:19:05.647Z"
   },
   {
    "duration": 28,
    "start_time": "2024-03-11T20:19:05.656Z"
   },
   {
    "duration": 7986,
    "start_time": "2024-03-11T20:19:05.685Z"
   },
   {
    "duration": 8,
    "start_time": "2024-03-11T20:19:13.672Z"
   },
   {
    "duration": 4,
    "start_time": "2024-03-11T20:19:13.682Z"
   },
   {
    "duration": 45,
    "start_time": "2024-03-11T20:19:13.687Z"
   },
   {
    "duration": 12,
    "start_time": "2024-03-11T20:19:13.734Z"
   },
   {
    "duration": 5,
    "start_time": "2024-03-11T20:19:13.748Z"
   },
   {
    "duration": 11,
    "start_time": "2024-03-11T20:19:13.755Z"
   },
   {
    "duration": 16,
    "start_time": "2024-03-11T20:19:13.768Z"
   },
   {
    "duration": 2,
    "start_time": "2024-03-11T20:19:13.786Z"
   },
   {
    "duration": 6,
    "start_time": "2024-03-11T20:19:13.790Z"
   },
   {
    "duration": 400,
    "start_time": "2024-03-11T20:19:13.798Z"
   },
   {
    "duration": 468,
    "start_time": "2024-03-11T20:19:14.200Z"
   },
   {
    "duration": 6360,
    "start_time": "2024-03-11T20:19:14.671Z"
   },
   {
    "duration": 4599,
    "start_time": "2024-03-11T20:19:21.032Z"
   },
   {
    "duration": 483,
    "start_time": "2024-03-11T20:19:25.633Z"
   },
   {
    "duration": 9,
    "start_time": "2024-03-11T20:19:26.123Z"
   },
   {
    "duration": 1035,
    "start_time": "2024-03-11T20:19:26.134Z"
   },
   {
    "duration": 724,
    "start_time": "2024-03-11T20:24:52.382Z"
   },
   {
    "duration": 845,
    "start_time": "2024-03-11T20:25:24.823Z"
   },
   {
    "duration": 439,
    "start_time": "2024-03-11T21:46:04.270Z"
   },
   {
    "duration": 451,
    "start_time": "2024-03-11T21:46:14.674Z"
   },
   {
    "duration": 417,
    "start_time": "2024-03-11T21:46:49.200Z"
   },
   {
    "duration": 398,
    "start_time": "2024-03-11T21:50:03.371Z"
   },
   {
    "duration": 423,
    "start_time": "2024-03-11T21:50:41.977Z"
   },
   {
    "duration": 363,
    "start_time": "2024-03-11T21:52:32.840Z"
   },
   {
    "duration": 369,
    "start_time": "2024-03-11T21:54:19.345Z"
   },
   {
    "duration": 366,
    "start_time": "2024-03-11T21:54:28.129Z"
   },
   {
    "duration": 406,
    "start_time": "2024-03-11T21:54:34.503Z"
   },
   {
    "duration": 414,
    "start_time": "2024-03-11T21:54:40.763Z"
   },
   {
    "duration": 336,
    "start_time": "2024-03-11T21:55:22.151Z"
   },
   {
    "duration": 18,
    "start_time": "2024-03-11T21:58:18.554Z"
   },
   {
    "duration": 341,
    "start_time": "2024-03-11T21:58:38.234Z"
   },
   {
    "duration": 401,
    "start_time": "2024-03-11T22:00:09.509Z"
   },
   {
    "duration": 389,
    "start_time": "2024-03-11T22:00:33.910Z"
   },
   {
    "duration": 394,
    "start_time": "2024-03-11T22:14:18.008Z"
   },
   {
    "duration": 16,
    "start_time": "2024-03-11T22:56:47.139Z"
   },
   {
    "duration": 14,
    "start_time": "2024-03-11T22:57:07.696Z"
   },
   {
    "duration": 74,
    "start_time": "2024-03-11T22:58:41.032Z"
   },
   {
    "duration": 73,
    "start_time": "2024-03-11T22:59:09.380Z"
   },
   {
    "duration": 16,
    "start_time": "2024-03-11T22:59:29.242Z"
   },
   {
    "duration": 18,
    "start_time": "2024-03-11T23:00:05.061Z"
   },
   {
    "duration": 11,
    "start_time": "2024-03-11T23:00:47.410Z"
   },
   {
    "duration": 21,
    "start_time": "2024-03-11T23:02:48.578Z"
   },
   {
    "duration": 19,
    "start_time": "2024-03-11T23:05:03.193Z"
   },
   {
    "duration": 11,
    "start_time": "2024-03-11T23:05:15.173Z"
   },
   {
    "duration": 25,
    "start_time": "2024-03-11T23:06:05.040Z"
   },
   {
    "duration": 23,
    "start_time": "2024-03-11T23:06:29.417Z"
   },
   {
    "duration": 33,
    "start_time": "2024-03-11T23:07:53.111Z"
   },
   {
    "duration": 21,
    "start_time": "2024-03-11T23:08:58.976Z"
   },
   {
    "duration": 20,
    "start_time": "2024-03-11T23:10:59.031Z"
   },
   {
    "duration": 10,
    "start_time": "2024-03-11T23:11:40.214Z"
   },
   {
    "duration": 16,
    "start_time": "2024-03-11T23:12:29.401Z"
   },
   {
    "duration": 22,
    "start_time": "2024-03-11T23:12:49.223Z"
   },
   {
    "duration": 19,
    "start_time": "2024-03-11T23:14:53.174Z"
   },
   {
    "duration": 10,
    "start_time": "2024-03-11T23:14:57.878Z"
   },
   {
    "duration": 21,
    "start_time": "2024-03-11T23:16:20.427Z"
   },
   {
    "duration": 25,
    "start_time": "2024-03-11T23:16:58.034Z"
   },
   {
    "duration": 32,
    "start_time": "2024-03-11T23:18:54.027Z"
   },
   {
    "duration": 26,
    "start_time": "2024-03-11T23:19:09.128Z"
   },
   {
    "duration": 31,
    "start_time": "2024-03-11T23:19:40.274Z"
   },
   {
    "duration": 33,
    "start_time": "2024-03-11T23:21:05.973Z"
   },
   {
    "duration": 27,
    "start_time": "2024-03-11T23:21:27.155Z"
   },
   {
    "duration": 74,
    "start_time": "2024-03-11T23:21:43.267Z"
   },
   {
    "duration": 29,
    "start_time": "2024-03-11T23:22:00.291Z"
   },
   {
    "duration": 30,
    "start_time": "2024-03-11T23:22:35.870Z"
   },
   {
    "duration": 29,
    "start_time": "2024-03-11T23:23:02.006Z"
   },
   {
    "duration": 26,
    "start_time": "2024-03-11T23:24:00.219Z"
   },
   {
    "duration": 35,
    "start_time": "2024-03-11T23:24:06.943Z"
   },
   {
    "duration": 24,
    "start_time": "2024-03-11T23:24:13.206Z"
   },
   {
    "duration": 4,
    "start_time": "2024-03-11T23:24:18.062Z"
   },
   {
    "duration": 1284,
    "start_time": "2024-03-11T23:24:18.068Z"
   },
   {
    "duration": 42,
    "start_time": "2024-03-11T23:24:19.354Z"
   },
   {
    "duration": 39,
    "start_time": "2024-03-11T23:24:19.399Z"
   },
   {
    "duration": 4,
    "start_time": "2024-03-11T23:24:19.439Z"
   },
   {
    "duration": 11,
    "start_time": "2024-03-11T23:24:19.444Z"
   },
   {
    "duration": 5,
    "start_time": "2024-03-11T23:24:19.457Z"
   },
   {
    "duration": 28,
    "start_time": "2024-03-11T23:24:19.463Z"
   },
   {
    "duration": 31,
    "start_time": "2024-03-11T23:24:19.493Z"
   },
   {
    "duration": 7,
    "start_time": "2024-03-11T23:24:19.528Z"
   },
   {
    "duration": 39,
    "start_time": "2024-03-11T23:24:19.537Z"
   },
   {
    "duration": 20,
    "start_time": "2024-03-11T23:24:19.578Z"
   },
   {
    "duration": 10,
    "start_time": "2024-03-11T23:24:19.600Z"
   },
   {
    "duration": 18,
    "start_time": "2024-03-11T23:24:19.622Z"
   },
   {
    "duration": 22,
    "start_time": "2024-03-11T23:24:19.642Z"
   },
   {
    "duration": 8082,
    "start_time": "2024-03-11T23:24:19.666Z"
   },
   {
    "duration": 9,
    "start_time": "2024-03-11T23:24:27.749Z"
   },
   {
    "duration": 9,
    "start_time": "2024-03-11T23:24:27.759Z"
   },
   {
    "duration": 47,
    "start_time": "2024-03-11T23:24:27.770Z"
   },
   {
    "duration": 13,
    "start_time": "2024-03-11T23:24:27.819Z"
   },
   {
    "duration": 13,
    "start_time": "2024-03-11T23:24:27.834Z"
   },
   {
    "duration": 30,
    "start_time": "2024-03-11T23:24:27.848Z"
   },
   {
    "duration": 16,
    "start_time": "2024-03-11T23:24:27.880Z"
   },
   {
    "duration": 8,
    "start_time": "2024-03-11T23:24:27.898Z"
   },
   {
    "duration": 32,
    "start_time": "2024-03-11T23:24:27.908Z"
   },
   {
    "duration": 416,
    "start_time": "2024-03-11T23:24:27.942Z"
   },
   {
    "duration": 509,
    "start_time": "2024-03-11T23:24:28.359Z"
   },
   {
    "duration": 6456,
    "start_time": "2024-03-11T23:24:28.871Z"
   },
   {
    "duration": 4649,
    "start_time": "2024-03-11T23:24:35.329Z"
   },
   {
    "duration": 450,
    "start_time": "2024-03-11T23:24:39.980Z"
   },
   {
    "duration": 1048,
    "start_time": "2024-03-11T23:24:40.432Z"
   },
   {
    "duration": 731,
    "start_time": "2024-03-11T23:24:41.482Z"
   },
   {
    "duration": 389,
    "start_time": "2024-03-11T23:24:42.215Z"
   },
   {
    "duration": 361,
    "start_time": "2024-03-11T23:24:42.606Z"
   },
   {
    "duration": 499,
    "start_time": "2024-03-11T23:24:42.969Z"
   },
   {
    "duration": 411,
    "start_time": "2024-03-11T23:24:43.469Z"
   },
   {
    "duration": 25,
    "start_time": "2024-03-11T23:24:43.881Z"
   },
   {
    "duration": 22,
    "start_time": "2024-03-11T23:25:07.668Z"
   },
   {
    "duration": 28,
    "start_time": "2024-03-11T23:25:11.434Z"
   },
   {
    "duration": 782,
    "start_time": "2024-03-11T23:25:32.880Z"
   },
   {
    "duration": 570,
    "start_time": "2024-03-11T23:25:43.959Z"
   },
   {
    "duration": 30,
    "start_time": "2024-03-11T23:27:13.286Z"
   },
   {
    "duration": 28,
    "start_time": "2024-03-11T23:27:19.329Z"
   },
   {
    "duration": 32,
    "start_time": "2024-03-11T23:27:33.777Z"
   },
   {
    "duration": 27,
    "start_time": "2024-03-11T23:27:39.003Z"
   },
   {
    "duration": 39,
    "start_time": "2024-03-11T23:27:51.133Z"
   },
   {
    "duration": 39,
    "start_time": "2024-03-11T23:27:57.979Z"
   },
   {
    "duration": 29,
    "start_time": "2024-03-11T23:28:23.139Z"
   },
   {
    "duration": 29,
    "start_time": "2024-03-11T23:28:27.226Z"
   },
   {
    "duration": 40,
    "start_time": "2024-03-11T23:31:49.164Z"
   },
   {
    "duration": 25,
    "start_time": "2024-03-11T23:31:56.549Z"
   },
   {
    "duration": 30,
    "start_time": "2024-03-11T23:32:00.576Z"
   },
   {
    "duration": 31,
    "start_time": "2024-03-11T23:35:00.165Z"
   },
   {
    "duration": 41,
    "start_time": "2024-03-11T23:36:34.955Z"
   },
   {
    "duration": 49,
    "start_time": "2024-03-11T23:36:51.488Z"
   },
   {
    "duration": 42,
    "start_time": "2024-03-11T23:36:56.480Z"
   },
   {
    "duration": 51,
    "start_time": "2024-03-11T23:37:06.463Z"
   },
   {
    "duration": 38,
    "start_time": "2024-03-11T23:37:49.193Z"
   },
   {
    "duration": 37,
    "start_time": "2024-03-11T23:38:03.253Z"
   },
   {
    "duration": 53,
    "start_time": "2024-03-11T23:39:20.379Z"
   },
   {
    "duration": 39,
    "start_time": "2024-03-11T23:40:12.023Z"
   },
   {
    "duration": 37,
    "start_time": "2024-03-11T23:40:18.751Z"
   },
   {
    "duration": 39,
    "start_time": "2024-03-11T23:40:24.731Z"
   },
   {
    "duration": 39,
    "start_time": "2024-03-11T23:40:36.125Z"
   },
   {
    "duration": 35,
    "start_time": "2024-03-11T23:40:52.380Z"
   },
   {
    "duration": 35,
    "start_time": "2024-03-11T23:41:57.908Z"
   },
   {
    "duration": 53,
    "start_time": "2024-03-11T23:42:14.834Z"
   },
   {
    "duration": 40,
    "start_time": "2024-03-11T23:43:09.197Z"
   },
   {
    "duration": 49,
    "start_time": "2024-03-11T23:46:44.619Z"
   },
   {
    "duration": 64,
    "start_time": "2024-03-11T23:47:12.746Z"
   },
   {
    "duration": 59,
    "start_time": "2024-03-11T23:47:42.340Z"
   },
   {
    "duration": 62,
    "start_time": "2024-03-11T23:47:58.484Z"
   },
   {
    "duration": 59,
    "start_time": "2024-03-11T23:48:24.213Z"
   },
   {
    "duration": 71,
    "start_time": "2024-03-11T23:57:25.453Z"
   },
   {
    "duration": 76,
    "start_time": "2024-03-11T23:58:18.451Z"
   },
   {
    "duration": 65,
    "start_time": "2024-03-12T00:00:38.789Z"
   },
   {
    "duration": 73,
    "start_time": "2024-03-12T00:00:47.464Z"
   },
   {
    "duration": 64,
    "start_time": "2024-03-12T00:00:52.131Z"
   },
   {
    "duration": 66,
    "start_time": "2024-03-12T00:01:38.974Z"
   },
   {
    "duration": 72,
    "start_time": "2024-03-12T00:02:15.290Z"
   },
   {
    "duration": 66,
    "start_time": "2024-03-12T00:02:41.977Z"
   },
   {
    "duration": 71,
    "start_time": "2024-03-12T00:03:42.455Z"
   },
   {
    "duration": 76,
    "start_time": "2024-03-12T00:03:54.095Z"
   },
   {
    "duration": 67,
    "start_time": "2024-03-12T00:04:13.180Z"
   },
   {
    "duration": 68,
    "start_time": "2024-03-12T00:05:47.010Z"
   },
   {
    "duration": 68,
    "start_time": "2024-03-12T00:06:45.791Z"
   },
   {
    "duration": 65,
    "start_time": "2024-03-12T00:06:53.195Z"
   },
   {
    "duration": 76,
    "start_time": "2024-03-12T00:07:01.132Z"
   },
   {
    "duration": 65,
    "start_time": "2024-03-12T00:08:16.817Z"
   },
   {
    "duration": 64,
    "start_time": "2024-03-12T00:08:52.018Z"
   },
   {
    "duration": 73,
    "start_time": "2024-03-12T00:14:42.661Z"
   },
   {
    "duration": 61,
    "start_time": "2024-03-12T00:16:18.556Z"
   },
   {
    "duration": 65,
    "start_time": "2024-03-12T00:16:48.990Z"
   },
   {
    "duration": 66,
    "start_time": "2024-03-12T00:18:43.013Z"
   },
   {
    "duration": 65,
    "start_time": "2024-03-12T00:19:21.686Z"
   },
   {
    "duration": 66,
    "start_time": "2024-03-12T00:20:53.275Z"
   },
   {
    "duration": 66,
    "start_time": "2024-03-12T00:21:04.764Z"
   },
   {
    "duration": 65,
    "start_time": "2024-03-12T00:21:26.791Z"
   },
   {
    "duration": 67,
    "start_time": "2024-03-12T00:23:58.179Z"
   },
   {
    "duration": 65,
    "start_time": "2024-03-12T00:24:22.546Z"
   },
   {
    "duration": 68,
    "start_time": "2024-03-12T00:25:24.268Z"
   },
   {
    "duration": 1308,
    "start_time": "2024-03-12T00:27:10.797Z"
   },
   {
    "duration": 67,
    "start_time": "2024-03-12T00:28:37.006Z"
   },
   {
    "duration": 71,
    "start_time": "2024-03-12T00:29:06.359Z"
   },
   {
    "duration": 66,
    "start_time": "2024-03-12T00:29:10.523Z"
   },
   {
    "duration": 5,
    "start_time": "2024-03-12T00:30:30.211Z"
   },
   {
    "duration": 20,
    "start_time": "2024-03-12T00:32:38.578Z"
   },
   {
    "duration": 18,
    "start_time": "2024-03-12T00:33:14.524Z"
   },
   {
    "duration": 67,
    "start_time": "2024-03-12T00:33:38.311Z"
   },
   {
    "duration": 66,
    "start_time": "2024-03-12T00:34:18.408Z"
   },
   {
    "duration": 3,
    "start_time": "2024-03-12T18:20:40.560Z"
   },
   {
    "duration": 462,
    "start_time": "2024-03-12T18:20:40.565Z"
   },
   {
    "duration": 0,
    "start_time": "2024-03-12T18:20:41.029Z"
   },
   {
    "duration": 0,
    "start_time": "2024-03-12T18:20:41.031Z"
   },
   {
    "duration": 0,
    "start_time": "2024-03-12T18:20:41.033Z"
   },
   {
    "duration": 0,
    "start_time": "2024-03-12T18:20:41.034Z"
   },
   {
    "duration": 0,
    "start_time": "2024-03-12T18:20:41.036Z"
   },
   {
    "duration": 0,
    "start_time": "2024-03-12T18:20:41.037Z"
   },
   {
    "duration": 0,
    "start_time": "2024-03-12T18:20:41.038Z"
   },
   {
    "duration": 0,
    "start_time": "2024-03-12T18:20:41.040Z"
   },
   {
    "duration": 0,
    "start_time": "2024-03-12T18:20:41.042Z"
   },
   {
    "duration": 0,
    "start_time": "2024-03-12T18:20:41.059Z"
   },
   {
    "duration": 0,
    "start_time": "2024-03-12T18:20:41.060Z"
   },
   {
    "duration": 0,
    "start_time": "2024-03-12T18:20:41.061Z"
   },
   {
    "duration": 0,
    "start_time": "2024-03-12T18:20:41.063Z"
   },
   {
    "duration": 0,
    "start_time": "2024-03-12T18:20:41.064Z"
   },
   {
    "duration": 0,
    "start_time": "2024-03-12T18:20:41.065Z"
   },
   {
    "duration": 0,
    "start_time": "2024-03-12T18:20:41.067Z"
   },
   {
    "duration": 0,
    "start_time": "2024-03-12T18:20:41.068Z"
   },
   {
    "duration": 0,
    "start_time": "2024-03-12T18:20:41.069Z"
   },
   {
    "duration": 0,
    "start_time": "2024-03-12T18:20:41.071Z"
   },
   {
    "duration": 0,
    "start_time": "2024-03-12T18:20:41.072Z"
   },
   {
    "duration": 0,
    "start_time": "2024-03-12T18:20:41.073Z"
   },
   {
    "duration": 0,
    "start_time": "2024-03-12T18:20:41.074Z"
   },
   {
    "duration": 0,
    "start_time": "2024-03-12T18:20:41.075Z"
   },
   {
    "duration": 0,
    "start_time": "2024-03-12T18:20:41.077Z"
   },
   {
    "duration": 0,
    "start_time": "2024-03-12T18:20:41.078Z"
   },
   {
    "duration": 0,
    "start_time": "2024-03-12T18:20:41.080Z"
   },
   {
    "duration": 0,
    "start_time": "2024-03-12T18:20:41.081Z"
   },
   {
    "duration": 0,
    "start_time": "2024-03-12T18:20:41.082Z"
   },
   {
    "duration": 0,
    "start_time": "2024-03-12T18:20:41.083Z"
   },
   {
    "duration": 0,
    "start_time": "2024-03-12T18:20:41.085Z"
   },
   {
    "duration": 0,
    "start_time": "2024-03-12T18:20:41.086Z"
   },
   {
    "duration": 0,
    "start_time": "2024-03-12T18:20:41.088Z"
   },
   {
    "duration": 0,
    "start_time": "2024-03-12T18:20:41.089Z"
   },
   {
    "duration": 0,
    "start_time": "2024-03-12T18:20:41.090Z"
   },
   {
    "duration": 0,
    "start_time": "2024-03-12T18:20:41.091Z"
   },
   {
    "duration": 0,
    "start_time": "2024-03-12T18:20:41.093Z"
   },
   {
    "duration": 0,
    "start_time": "2024-03-12T18:20:41.094Z"
   },
   {
    "duration": 132,
    "start_time": "2024-03-12T18:21:10.436Z"
   },
   {
    "duration": 0,
    "start_time": "2024-03-12T18:21:10.571Z"
   },
   {
    "duration": 0,
    "start_time": "2024-03-12T18:21:10.572Z"
   },
   {
    "duration": 0,
    "start_time": "2024-03-12T18:21:10.573Z"
   },
   {
    "duration": 0,
    "start_time": "2024-03-12T18:21:10.574Z"
   },
   {
    "duration": 0,
    "start_time": "2024-03-12T18:21:10.575Z"
   },
   {
    "duration": 0,
    "start_time": "2024-03-12T18:21:10.576Z"
   },
   {
    "duration": 0,
    "start_time": "2024-03-12T18:21:10.577Z"
   },
   {
    "duration": 0,
    "start_time": "2024-03-12T18:21:10.578Z"
   },
   {
    "duration": 0,
    "start_time": "2024-03-12T18:21:10.579Z"
   },
   {
    "duration": 0,
    "start_time": "2024-03-12T18:21:10.580Z"
   },
   {
    "duration": 0,
    "start_time": "2024-03-12T18:21:10.581Z"
   },
   {
    "duration": 0,
    "start_time": "2024-03-12T18:21:10.582Z"
   },
   {
    "duration": 0,
    "start_time": "2024-03-12T18:21:10.583Z"
   },
   {
    "duration": 0,
    "start_time": "2024-03-12T18:21:10.584Z"
   },
   {
    "duration": 0,
    "start_time": "2024-03-12T18:21:10.585Z"
   },
   {
    "duration": 0,
    "start_time": "2024-03-12T18:21:10.586Z"
   },
   {
    "duration": 0,
    "start_time": "2024-03-12T18:21:10.587Z"
   },
   {
    "duration": 0,
    "start_time": "2024-03-12T18:21:10.588Z"
   },
   {
    "duration": 0,
    "start_time": "2024-03-12T18:21:10.589Z"
   },
   {
    "duration": 0,
    "start_time": "2024-03-12T18:21:10.589Z"
   },
   {
    "duration": 0,
    "start_time": "2024-03-12T18:21:10.590Z"
   },
   {
    "duration": 0,
    "start_time": "2024-03-12T18:21:10.591Z"
   },
   {
    "duration": 0,
    "start_time": "2024-03-12T18:21:10.592Z"
   },
   {
    "duration": 0,
    "start_time": "2024-03-12T18:21:10.593Z"
   },
   {
    "duration": 1,
    "start_time": "2024-03-12T18:21:10.594Z"
   },
   {
    "duration": 0,
    "start_time": "2024-03-12T18:21:10.595Z"
   },
   {
    "duration": 0,
    "start_time": "2024-03-12T18:21:10.596Z"
   },
   {
    "duration": 0,
    "start_time": "2024-03-12T18:21:10.597Z"
   },
   {
    "duration": 0,
    "start_time": "2024-03-12T18:21:10.598Z"
   },
   {
    "duration": 0,
    "start_time": "2024-03-12T18:21:10.599Z"
   },
   {
    "duration": 0,
    "start_time": "2024-03-12T18:21:10.600Z"
   },
   {
    "duration": 0,
    "start_time": "2024-03-12T18:21:10.601Z"
   },
   {
    "duration": 0,
    "start_time": "2024-03-12T18:21:10.602Z"
   },
   {
    "duration": 0,
    "start_time": "2024-03-12T18:21:10.603Z"
   },
   {
    "duration": 0,
    "start_time": "2024-03-12T18:21:10.604Z"
   },
   {
    "duration": 0,
    "start_time": "2024-03-12T18:21:10.605Z"
   },
   {
    "duration": 0,
    "start_time": "2024-03-12T18:21:10.606Z"
   },
   {
    "duration": 0,
    "start_time": "2024-03-12T18:21:10.659Z"
   },
   {
    "duration": 97,
    "start_time": "2024-03-12T18:21:21.929Z"
   },
   {
    "duration": 445,
    "start_time": "2024-03-12T18:21:36.271Z"
   },
   {
    "duration": 94,
    "start_time": "2024-03-12T18:21:39.283Z"
   },
   {
    "duration": 94,
    "start_time": "2024-03-12T18:22:49.537Z"
   },
   {
    "duration": 3,
    "start_time": "2024-03-12T18:24:12.079Z"
   },
   {
    "duration": 137,
    "start_time": "2024-03-12T18:24:12.653Z"
   },
   {
    "duration": 102,
    "start_time": "2024-03-12T18:25:21.974Z"
   },
   {
    "duration": 3015,
    "start_time": "2024-03-12T18:25:55.731Z"
   },
   {
    "duration": 2356,
    "start_time": "2024-03-12T18:26:08.244Z"
   },
   {
    "duration": 1252,
    "start_time": "2024-03-12T18:26:10.602Z"
   },
   {
    "duration": 77,
    "start_time": "2024-03-12T18:26:11.855Z"
   },
   {
    "duration": 39,
    "start_time": "2024-03-12T18:26:11.934Z"
   },
   {
    "duration": 5,
    "start_time": "2024-03-12T18:26:11.975Z"
   },
   {
    "duration": 5,
    "start_time": "2024-03-12T18:26:11.982Z"
   },
   {
    "duration": 6,
    "start_time": "2024-03-12T18:26:11.988Z"
   },
   {
    "duration": 21,
    "start_time": "2024-03-12T18:26:11.995Z"
   },
   {
    "duration": 7,
    "start_time": "2024-03-12T18:26:12.018Z"
   },
   {
    "duration": 8,
    "start_time": "2024-03-12T18:26:12.058Z"
   },
   {
    "duration": 9,
    "start_time": "2024-03-12T18:26:12.067Z"
   },
   {
    "duration": 20,
    "start_time": "2024-03-12T18:26:12.078Z"
   },
   {
    "duration": 8,
    "start_time": "2024-03-12T18:26:12.099Z"
   },
   {
    "duration": 7,
    "start_time": "2024-03-12T18:26:12.108Z"
   },
   {
    "duration": 46,
    "start_time": "2024-03-12T18:26:12.116Z"
   },
   {
    "duration": 6577,
    "start_time": "2024-03-12T18:26:12.163Z"
   },
   {
    "duration": 19,
    "start_time": "2024-03-12T18:26:18.741Z"
   },
   {
    "duration": 6,
    "start_time": "2024-03-12T18:26:18.761Z"
   },
   {
    "duration": 29,
    "start_time": "2024-03-12T18:26:18.768Z"
   },
   {
    "duration": 11,
    "start_time": "2024-03-12T18:26:18.799Z"
   },
   {
    "duration": 11,
    "start_time": "2024-03-12T18:26:18.811Z"
   },
   {
    "duration": 22,
    "start_time": "2024-03-12T18:26:18.824Z"
   },
   {
    "duration": 19,
    "start_time": "2024-03-12T18:26:18.848Z"
   },
   {
    "duration": 6,
    "start_time": "2024-03-12T18:26:18.868Z"
   },
   {
    "duration": 5,
    "start_time": "2024-03-12T18:26:18.875Z"
   },
   {
    "duration": 344,
    "start_time": "2024-03-12T18:26:18.881Z"
   },
   {
    "duration": 425,
    "start_time": "2024-03-12T18:26:19.227Z"
   },
   {
    "duration": 5794,
    "start_time": "2024-03-12T18:26:19.655Z"
   },
   {
    "duration": 4085,
    "start_time": "2024-03-12T18:26:25.466Z"
   },
   {
    "duration": 394,
    "start_time": "2024-03-12T18:26:29.553Z"
   },
   {
    "duration": 923,
    "start_time": "2024-03-12T18:26:29.949Z"
   },
   {
    "duration": 683,
    "start_time": "2024-03-12T18:26:30.874Z"
   },
   {
    "duration": 354,
    "start_time": "2024-03-12T18:26:31.559Z"
   },
   {
    "duration": 301,
    "start_time": "2024-03-12T18:26:31.914Z"
   },
   {
    "duration": 399,
    "start_time": "2024-03-12T18:26:32.216Z"
   },
   {
    "duration": 319,
    "start_time": "2024-03-12T18:26:32.616Z"
   },
   {
    "duration": 4,
    "start_time": "2024-03-12T18:26:32.936Z"
   },
   {
    "duration": 76,
    "start_time": "2024-03-12T18:26:32.941Z"
   },
   {
    "duration": 106,
    "start_time": "2024-03-12T18:26:33.018Z"
   },
   {
    "duration": 342,
    "start_time": "2024-03-12T18:28:26.799Z"
   },
   {
    "duration": 438,
    "start_time": "2024-03-12T18:36:36.173Z"
   },
   {
    "duration": 8,
    "start_time": "2024-03-12T18:39:17.247Z"
   },
   {
    "duration": 5427,
    "start_time": "2024-03-12T18:39:32.449Z"
   },
   {
    "duration": 78,
    "start_time": "2024-03-12T18:39:40.480Z"
   },
   {
    "duration": 665,
    "start_time": "2024-03-12T18:40:24.262Z"
   },
   {
    "duration": 4,
    "start_time": "2024-03-12T18:43:12.608Z"
   },
   {
    "duration": 511,
    "start_time": "2024-03-12T18:43:17.712Z"
   },
   {
    "duration": 20,
    "start_time": "2024-03-12T18:46:22.991Z"
   },
   {
    "duration": 12,
    "start_time": "2024-03-12T18:47:12.587Z"
   },
   {
    "duration": 19,
    "start_time": "2024-03-12T18:47:29.885Z"
   },
   {
    "duration": 10,
    "start_time": "2024-03-12T18:47:48.889Z"
   },
   {
    "duration": 10,
    "start_time": "2024-03-12T18:47:53.910Z"
   },
   {
    "duration": 17,
    "start_time": "2024-03-12T18:47:58.836Z"
   },
   {
    "duration": 6,
    "start_time": "2024-03-12T18:48:33.113Z"
   },
   {
    "duration": 489,
    "start_time": "2024-03-12T18:48:47.035Z"
   },
   {
    "duration": 483,
    "start_time": "2024-03-12T19:03:28.093Z"
   },
   {
    "duration": 498,
    "start_time": "2024-03-12T19:03:53.798Z"
   },
   {
    "duration": 976,
    "start_time": "2024-03-12T19:04:02.104Z"
   },
   {
    "duration": 881,
    "start_time": "2024-03-12T19:04:35.963Z"
   },
   {
    "duration": 508,
    "start_time": "2024-03-12T19:06:44.552Z"
   },
   {
    "duration": 11,
    "start_time": "2024-03-12T19:06:59.952Z"
   },
   {
    "duration": 868,
    "start_time": "2024-03-12T19:07:42.142Z"
   },
   {
    "duration": 873,
    "start_time": "2024-03-12T19:07:51.628Z"
   },
   {
    "duration": 893,
    "start_time": "2024-03-12T19:08:48.274Z"
   },
   {
    "duration": 857,
    "start_time": "2024-03-12T19:08:53.565Z"
   },
   {
    "duration": 787,
    "start_time": "2024-03-12T19:11:08.582Z"
   },
   {
    "duration": 779,
    "start_time": "2024-03-12T19:13:10.599Z"
   },
   {
    "duration": 871,
    "start_time": "2024-03-12T19:13:16.882Z"
   },
   {
    "duration": 777,
    "start_time": "2024-03-12T19:13:28.874Z"
   },
   {
    "duration": 768,
    "start_time": "2024-03-12T19:13:35.936Z"
   },
   {
    "duration": 788,
    "start_time": "2024-03-12T19:13:45.053Z"
   },
   {
    "duration": 799,
    "start_time": "2024-03-12T19:13:49.851Z"
   },
   {
    "duration": 885,
    "start_time": "2024-03-12T19:14:21.905Z"
   },
   {
    "duration": 515,
    "start_time": "2024-03-12T19:16:41.072Z"
   },
   {
    "duration": 733,
    "start_time": "2024-03-12T19:17:08.570Z"
   },
   {
    "duration": 829,
    "start_time": "2024-03-12T19:17:24.310Z"
   },
   {
    "duration": 490,
    "start_time": "2024-03-12T19:18:14.615Z"
   },
   {
    "duration": 507,
    "start_time": "2024-03-12T19:18:42.628Z"
   },
   {
    "duration": 493,
    "start_time": "2024-03-12T19:18:49.767Z"
   },
   {
    "duration": 505,
    "start_time": "2024-03-12T19:19:03.042Z"
   },
   {
    "duration": 483,
    "start_time": "2024-03-12T19:19:23.023Z"
   },
   {
    "duration": 775,
    "start_time": "2024-03-12T19:19:30.258Z"
   },
   {
    "duration": 824,
    "start_time": "2024-03-12T19:25:15.814Z"
   },
   {
    "duration": 936,
    "start_time": "2024-03-12T19:41:54.754Z"
   },
   {
    "duration": 841,
    "start_time": "2024-03-12T19:42:00.151Z"
   },
   {
    "duration": 818,
    "start_time": "2024-03-12T19:42:10.532Z"
   },
   {
    "duration": 809,
    "start_time": "2024-03-12T19:48:34.756Z"
   },
   {
    "duration": 8,
    "start_time": "2024-03-12T20:34:23.163Z"
   },
   {
    "duration": 101,
    "start_time": "2024-03-12T20:35:01.841Z"
   },
   {
    "duration": 100,
    "start_time": "2024-03-12T20:35:18.534Z"
   },
   {
    "duration": 97,
    "start_time": "2024-03-12T20:44:49.496Z"
   },
   {
    "duration": 4,
    "start_time": "2024-03-12T20:44:57.206Z"
   },
   {
    "duration": 478,
    "start_time": "2024-03-12T20:45:08.875Z"
   },
   {
    "duration": 464,
    "start_time": "2024-03-12T20:45:42.859Z"
   },
   {
    "duration": 812,
    "start_time": "2024-03-12T20:45:51.150Z"
   },
   {
    "duration": 3,
    "start_time": "2024-03-12T22:51:55.115Z"
   },
   {
    "duration": 532,
    "start_time": "2024-03-12T22:52:55.541Z"
   },
   {
    "duration": 6710,
    "start_time": "2024-03-13T08:34:13.645Z"
   },
   {
    "duration": 1501,
    "start_time": "2024-03-13T08:34:20.357Z"
   },
   {
    "duration": 90,
    "start_time": "2024-03-13T08:34:21.860Z"
   },
   {
    "duration": 53,
    "start_time": "2024-03-13T08:34:21.953Z"
   },
   {
    "duration": 5,
    "start_time": "2024-03-13T08:34:22.007Z"
   },
   {
    "duration": 26,
    "start_time": "2024-03-13T08:34:22.013Z"
   },
   {
    "duration": 13,
    "start_time": "2024-03-13T08:34:22.041Z"
   },
   {
    "duration": 58,
    "start_time": "2024-03-13T08:34:22.055Z"
   },
   {
    "duration": 9,
    "start_time": "2024-03-13T08:34:22.115Z"
   },
   {
    "duration": 15,
    "start_time": "2024-03-13T08:34:22.127Z"
   },
   {
    "duration": 19,
    "start_time": "2024-03-13T08:34:22.144Z"
   },
   {
    "duration": 28,
    "start_time": "2024-03-13T08:34:22.165Z"
   },
   {
    "duration": 22,
    "start_time": "2024-03-13T08:34:22.195Z"
   },
   {
    "duration": 32,
    "start_time": "2024-03-13T08:34:22.219Z"
   },
   {
    "duration": 39,
    "start_time": "2024-03-13T08:34:22.253Z"
   },
   {
    "duration": 7087,
    "start_time": "2024-03-13T08:34:22.293Z"
   },
   {
    "duration": 9,
    "start_time": "2024-03-13T08:34:29.382Z"
   },
   {
    "duration": 5,
    "start_time": "2024-03-13T08:34:29.393Z"
   },
   {
    "duration": 23,
    "start_time": "2024-03-13T08:34:29.399Z"
   },
   {
    "duration": 4,
    "start_time": "2024-03-13T08:34:29.424Z"
   },
   {
    "duration": 13,
    "start_time": "2024-03-13T08:34:29.429Z"
   },
   {
    "duration": 39,
    "start_time": "2024-03-13T08:34:29.443Z"
   },
   {
    "duration": 10,
    "start_time": "2024-03-13T08:34:29.484Z"
   },
   {
    "duration": 6,
    "start_time": "2024-03-13T08:34:29.496Z"
   },
   {
    "duration": 5,
    "start_time": "2024-03-13T08:34:29.503Z"
   },
   {
    "duration": 386,
    "start_time": "2024-03-13T08:34:29.510Z"
   },
   {
    "duration": 455,
    "start_time": "2024-03-13T08:34:29.898Z"
   },
   {
    "duration": 6022,
    "start_time": "2024-03-13T08:34:30.357Z"
   },
   {
    "duration": 4342,
    "start_time": "2024-03-13T08:34:36.381Z"
   },
   {
    "duration": 445,
    "start_time": "2024-03-13T08:34:40.725Z"
   },
   {
    "duration": 591,
    "start_time": "2024-03-13T08:34:41.172Z"
   },
   {
    "duration": 1081,
    "start_time": "2024-03-13T08:34:41.765Z"
   },
   {
    "duration": 697,
    "start_time": "2024-03-13T08:34:42.848Z"
   },
   {
    "duration": 424,
    "start_time": "2024-03-13T08:34:43.547Z"
   },
   {
    "duration": 364,
    "start_time": "2024-03-13T08:34:43.980Z"
   },
   {
    "duration": 377,
    "start_time": "2024-03-13T08:34:44.346Z"
   },
   {
    "duration": 440,
    "start_time": "2024-03-13T08:34:44.725Z"
   },
   {
    "duration": 72,
    "start_time": "2024-03-13T08:34:45.166Z"
   },
   {
    "duration": 884,
    "start_time": "2024-03-13T08:34:45.239Z"
   },
   {
    "duration": 10,
    "start_time": "2024-03-13T08:37:18.577Z"
   },
   {
    "duration": 8,
    "start_time": "2024-03-13T08:37:38.401Z"
   },
   {
    "duration": 13,
    "start_time": "2024-03-13T08:38:45.598Z"
   },
   {
    "duration": 12,
    "start_time": "2024-03-13T08:46:51.366Z"
   },
   {
    "duration": 8552,
    "start_time": "2024-03-13T14:14:43.372Z"
   },
   {
    "duration": 1412,
    "start_time": "2024-03-13T14:14:51.926Z"
   },
   {
    "duration": 160,
    "start_time": "2024-03-13T14:14:53.343Z"
   },
   {
    "duration": 38,
    "start_time": "2024-03-13T14:14:53.504Z"
   },
   {
    "duration": 4,
    "start_time": "2024-03-13T14:14:53.543Z"
   },
   {
    "duration": 13,
    "start_time": "2024-03-13T14:14:53.548Z"
   },
   {
    "duration": 18,
    "start_time": "2024-03-13T14:14:53.562Z"
   },
   {
    "duration": 37,
    "start_time": "2024-03-13T14:14:53.581Z"
   },
   {
    "duration": 9,
    "start_time": "2024-03-13T14:14:53.625Z"
   },
   {
    "duration": 14,
    "start_time": "2024-03-13T14:14:53.636Z"
   },
   {
    "duration": 18,
    "start_time": "2024-03-13T14:14:53.652Z"
   },
   {
    "duration": 41,
    "start_time": "2024-03-13T14:14:53.672Z"
   },
   {
    "duration": 11,
    "start_time": "2024-03-13T14:14:53.715Z"
   },
   {
    "duration": 19,
    "start_time": "2024-03-13T14:14:53.728Z"
   },
   {
    "duration": 46,
    "start_time": "2024-03-13T14:14:53.749Z"
   },
   {
    "duration": 6853,
    "start_time": "2024-03-13T14:14:53.796Z"
   },
   {
    "duration": 9,
    "start_time": "2024-03-13T14:15:00.650Z"
   },
   {
    "duration": 42,
    "start_time": "2024-03-13T14:15:00.660Z"
   },
   {
    "duration": 66,
    "start_time": "2024-03-13T14:15:00.704Z"
   },
   {
    "duration": 121,
    "start_time": "2024-03-13T14:15:00.772Z"
   },
   {
    "duration": 139,
    "start_time": "2024-03-13T14:15:00.894Z"
   },
   {
    "duration": 91,
    "start_time": "2024-03-13T14:15:01.034Z"
   },
   {
    "duration": 40,
    "start_time": "2024-03-13T14:15:01.127Z"
   },
   {
    "duration": 73,
    "start_time": "2024-03-13T14:15:01.169Z"
   },
   {
    "duration": 132,
    "start_time": "2024-03-13T14:15:01.244Z"
   },
   {
    "duration": 548,
    "start_time": "2024-03-13T14:15:01.377Z"
   },
   {
    "duration": 469,
    "start_time": "2024-03-13T14:15:01.929Z"
   },
   {
    "duration": 6171,
    "start_time": "2024-03-13T14:15:02.400Z"
   },
   {
    "duration": 4316,
    "start_time": "2024-03-13T14:15:08.572Z"
   },
   {
    "duration": 470,
    "start_time": "2024-03-13T14:15:12.889Z"
   },
   {
    "duration": 558,
    "start_time": "2024-03-13T14:15:13.360Z"
   },
   {
    "duration": 996,
    "start_time": "2024-03-13T14:15:13.920Z"
   },
   {
    "duration": 661,
    "start_time": "2024-03-13T14:15:14.917Z"
   },
   {
    "duration": 389,
    "start_time": "2024-03-13T14:15:15.581Z"
   },
   {
    "duration": 370,
    "start_time": "2024-03-13T14:15:15.971Z"
   },
   {
    "duration": 377,
    "start_time": "2024-03-13T14:15:16.343Z"
   },
   {
    "duration": 440,
    "start_time": "2024-03-13T14:15:16.722Z"
   },
   {
    "duration": 82,
    "start_time": "2024-03-13T14:15:17.165Z"
   },
   {
    "duration": 854,
    "start_time": "2024-03-13T14:15:17.249Z"
   },
   {
    "duration": 11,
    "start_time": "2024-03-13T14:15:18.105Z"
   },
   {
    "duration": 3,
    "start_time": "2024-03-13T14:23:02.620Z"
   },
   {
    "duration": 109,
    "start_time": "2024-03-13T14:29:47.961Z"
   },
   {
    "duration": 6,
    "start_time": "2024-03-13T14:29:50.466Z"
   },
   {
    "duration": 9,
    "start_time": "2024-03-13T14:29:52.102Z"
   },
   {
    "duration": 6,
    "start_time": "2024-03-13T14:34:18.215Z"
   },
   {
    "duration": 6,
    "start_time": "2024-03-13T14:34:25.663Z"
   },
   {
    "duration": 5,
    "start_time": "2024-03-13T14:34:28.925Z"
   },
   {
    "duration": 5,
    "start_time": "2024-03-13T14:34:34.068Z"
   },
   {
    "duration": 6,
    "start_time": "2024-03-13T14:46:49.103Z"
   },
   {
    "duration": 6,
    "start_time": "2024-03-13T14:46:56.820Z"
   },
   {
    "duration": 5,
    "start_time": "2024-03-13T14:47:13.389Z"
   },
   {
    "duration": 3,
    "start_time": "2024-03-13T14:52:40.350Z"
   },
   {
    "duration": 11,
    "start_time": "2024-03-13T14:55:29.410Z"
   },
   {
    "duration": 1116,
    "start_time": "2024-03-13T14:56:17.616Z"
   },
   {
    "duration": 1120,
    "start_time": "2024-03-13T14:56:26.300Z"
   },
   {
    "duration": 15,
    "start_time": "2024-03-13T14:56:56.509Z"
   },
   {
    "duration": 11,
    "start_time": "2024-03-13T14:57:03.324Z"
   },
   {
    "duration": 13,
    "start_time": "2024-03-13T14:57:15.832Z"
   },
   {
    "duration": 12,
    "start_time": "2024-03-13T14:57:32.466Z"
   },
   {
    "duration": 18,
    "start_time": "2024-03-13T14:59:01.884Z"
   },
   {
    "duration": 6942,
    "start_time": "2024-03-13T17:32:09.760Z"
   },
   {
    "duration": 1846,
    "start_time": "2024-03-13T17:32:16.704Z"
   },
   {
    "duration": 87,
    "start_time": "2024-03-13T17:32:18.553Z"
   },
   {
    "duration": 44,
    "start_time": "2024-03-13T17:32:18.642Z"
   },
   {
    "duration": 3,
    "start_time": "2024-03-13T17:32:18.688Z"
   },
   {
    "duration": 20,
    "start_time": "2024-03-13T17:32:18.693Z"
   },
   {
    "duration": 13,
    "start_time": "2024-03-13T17:32:18.715Z"
   },
   {
    "duration": 22,
    "start_time": "2024-03-13T17:32:18.731Z"
   },
   {
    "duration": 8,
    "start_time": "2024-03-13T17:32:18.755Z"
   },
   {
    "duration": 22,
    "start_time": "2024-03-13T17:32:18.766Z"
   },
   {
    "duration": 14,
    "start_time": "2024-03-13T17:32:18.789Z"
   },
   {
    "duration": 25,
    "start_time": "2024-03-13T17:32:18.805Z"
   },
   {
    "duration": 9,
    "start_time": "2024-03-13T17:32:18.832Z"
   },
   {
    "duration": 40,
    "start_time": "2024-03-13T17:32:18.842Z"
   },
   {
    "duration": 21,
    "start_time": "2024-03-13T17:32:18.884Z"
   },
   {
    "duration": 7210,
    "start_time": "2024-03-13T17:32:18.907Z"
   },
   {
    "duration": 9,
    "start_time": "2024-03-13T17:32:26.119Z"
   },
   {
    "duration": 4,
    "start_time": "2024-03-13T17:32:26.130Z"
   },
   {
    "duration": 46,
    "start_time": "2024-03-13T17:32:26.136Z"
   },
   {
    "duration": 4,
    "start_time": "2024-03-13T17:32:26.183Z"
   },
   {
    "duration": 18,
    "start_time": "2024-03-13T17:32:26.189Z"
   },
   {
    "duration": 24,
    "start_time": "2024-03-13T17:32:26.209Z"
   },
   {
    "duration": 15,
    "start_time": "2024-03-13T17:32:26.235Z"
   },
   {
    "duration": 7,
    "start_time": "2024-03-13T17:32:26.251Z"
   },
   {
    "duration": 15,
    "start_time": "2024-03-13T17:32:26.259Z"
   },
   {
    "duration": 383,
    "start_time": "2024-03-13T17:32:26.276Z"
   },
   {
    "duration": 454,
    "start_time": "2024-03-13T17:32:26.660Z"
   },
   {
    "duration": 6262,
    "start_time": "2024-03-13T17:32:27.118Z"
   },
   {
    "duration": 4345,
    "start_time": "2024-03-13T17:32:33.381Z"
   },
   {
    "duration": 461,
    "start_time": "2024-03-13T17:32:37.728Z"
   },
   {
    "duration": 592,
    "start_time": "2024-03-13T17:32:38.190Z"
   },
   {
    "duration": 1036,
    "start_time": "2024-03-13T17:32:38.784Z"
   },
   {
    "duration": 674,
    "start_time": "2024-03-13T17:32:39.821Z"
   },
   {
    "duration": 409,
    "start_time": "2024-03-13T17:32:40.497Z"
   },
   {
    "duration": 339,
    "start_time": "2024-03-13T17:32:40.907Z"
   },
   {
    "duration": 392,
    "start_time": "2024-03-13T17:32:41.247Z"
   },
   {
    "duration": 456,
    "start_time": "2024-03-13T17:32:41.641Z"
   },
   {
    "duration": 103,
    "start_time": "2024-03-13T17:32:42.099Z"
   },
   {
    "duration": 897,
    "start_time": "2024-03-13T17:32:42.203Z"
   },
   {
    "duration": 5,
    "start_time": "2024-03-13T17:32:43.102Z"
   },
   {
    "duration": 12,
    "start_time": "2024-03-13T17:32:43.108Z"
   },
   {
    "duration": 5,
    "start_time": "2024-03-13T17:32:43.122Z"
   },
   {
    "duration": 31,
    "start_time": "2024-03-13T17:32:43.129Z"
   },
   {
    "duration": 106,
    "start_time": "2024-03-13T17:41:55.007Z"
   },
   {
    "duration": 6,
    "start_time": "2024-03-13T17:46:51.687Z"
   },
   {
    "duration": 9,
    "start_time": "2024-03-13T17:49:42.305Z"
   },
   {
    "duration": 7,
    "start_time": "2024-03-13T17:49:50.624Z"
   },
   {
    "duration": 15,
    "start_time": "2024-03-13T17:51:48.539Z"
   },
   {
    "duration": 95,
    "start_time": "2024-03-13T17:51:50.276Z"
   },
   {
    "duration": 6,
    "start_time": "2024-03-13T17:52:09.553Z"
   },
   {
    "duration": 21,
    "start_time": "2024-03-13T17:56:34.826Z"
   },
   {
    "duration": 18,
    "start_time": "2024-03-13T17:56:49.958Z"
   },
   {
    "duration": 21,
    "start_time": "2024-03-13T17:56:58.483Z"
   },
   {
    "duration": 105,
    "start_time": "2024-03-13T17:57:31.707Z"
   },
   {
    "duration": 98,
    "start_time": "2024-03-13T17:57:55.908Z"
   },
   {
    "duration": 99,
    "start_time": "2024-03-13T17:58:07.210Z"
   },
   {
    "duration": 1669,
    "start_time": "2024-03-13T17:58:19.882Z"
   },
   {
    "duration": 1516,
    "start_time": "2024-03-13T17:58:42.187Z"
   },
   {
    "duration": 1619,
    "start_time": "2024-03-13T17:58:48.257Z"
   },
   {
    "duration": 5,
    "start_time": "2024-03-13T17:58:55.586Z"
   },
   {
    "duration": 15,
    "start_time": "2024-03-13T17:59:07.204Z"
   },
   {
    "duration": 6,
    "start_time": "2024-03-13T18:00:36.826Z"
   },
   {
    "duration": 5,
    "start_time": "2024-03-13T18:03:34.396Z"
   },
   {
    "duration": 4,
    "start_time": "2024-03-13T18:03:46.046Z"
   },
   {
    "duration": 4,
    "start_time": "2024-03-13T18:03:50.737Z"
   },
   {
    "duration": 4,
    "start_time": "2024-03-13T18:03:55.735Z"
   },
   {
    "duration": 6,
    "start_time": "2024-03-13T18:04:14.442Z"
   },
   {
    "duration": 11,
    "start_time": "2024-03-13T18:04:16.190Z"
   },
   {
    "duration": 5,
    "start_time": "2024-03-13T18:04:21.700Z"
   },
   {
    "duration": 25,
    "start_time": "2024-03-13T18:13:42.877Z"
   },
   {
    "duration": 1533,
    "start_time": "2024-03-13T18:14:34.628Z"
   },
   {
    "duration": 7,
    "start_time": "2024-03-13T18:14:40.636Z"
   },
   {
    "duration": 14,
    "start_time": "2024-03-13T18:14:43.960Z"
   },
   {
    "duration": 6,
    "start_time": "2024-03-13T18:18:58.228Z"
   },
   {
    "duration": 26,
    "start_time": "2024-03-13T18:35:18.143Z"
   },
   {
    "duration": 1556,
    "start_time": "2024-03-13T18:35:54.941Z"
   },
   {
    "duration": 21,
    "start_time": "2024-03-13T18:35:59.502Z"
   },
   {
    "duration": 10,
    "start_time": "2024-03-13T18:45:22.894Z"
   },
   {
    "duration": 26,
    "start_time": "2024-03-13T18:45:30.476Z"
   },
   {
    "duration": 9,
    "start_time": "2024-03-13T18:45:35.787Z"
   },
   {
    "duration": 5,
    "start_time": "2024-03-13T19:05:04.440Z"
   },
   {
    "duration": 9,
    "start_time": "2024-03-13T19:13:37.904Z"
   },
   {
    "duration": 8,
    "start_time": "2024-03-13T19:13:58.263Z"
   },
   {
    "duration": 8,
    "start_time": "2024-03-13T19:14:01.758Z"
   },
   {
    "duration": 8,
    "start_time": "2024-03-13T19:14:04.519Z"
   },
   {
    "duration": 7,
    "start_time": "2024-03-13T19:14:07.207Z"
   },
   {
    "duration": 9,
    "start_time": "2024-03-13T19:14:11.980Z"
   },
   {
    "duration": 7,
    "start_time": "2024-03-13T19:17:25.841Z"
   },
   {
    "duration": 6,
    "start_time": "2024-03-13T19:17:34.472Z"
   },
   {
    "duration": 9,
    "start_time": "2024-03-13T19:18:03.663Z"
   },
   {
    "duration": 6,
    "start_time": "2024-03-13T19:18:13.219Z"
   },
   {
    "duration": 5,
    "start_time": "2024-03-13T19:18:52.710Z"
   },
   {
    "duration": 7,
    "start_time": "2024-03-13T19:19:00.953Z"
   },
   {
    "duration": 10,
    "start_time": "2024-03-13T19:20:19.619Z"
   },
   {
    "duration": 9,
    "start_time": "2024-03-13T19:20:22.475Z"
   },
   {
    "duration": 13,
    "start_time": "2024-03-13T19:21:59.450Z"
   },
   {
    "duration": 8,
    "start_time": "2024-03-13T19:22:52.826Z"
   },
   {
    "duration": 7,
    "start_time": "2024-03-13T19:23:35.970Z"
   },
   {
    "duration": 18,
    "start_time": "2024-03-13T19:24:57.058Z"
   },
   {
    "duration": 11,
    "start_time": "2024-03-13T19:25:11.586Z"
   },
   {
    "duration": 12,
    "start_time": "2024-03-13T19:25:36.586Z"
   },
   {
    "duration": 10,
    "start_time": "2024-03-13T19:25:46.181Z"
   },
   {
    "duration": 9,
    "start_time": "2024-03-13T19:27:22.847Z"
   },
   {
    "duration": 9,
    "start_time": "2024-03-13T19:27:52.238Z"
   },
   {
    "duration": 9,
    "start_time": "2024-03-13T19:27:59.182Z"
   },
   {
    "duration": 12,
    "start_time": "2024-03-13T19:29:58.396Z"
   },
   {
    "duration": 13,
    "start_time": "2024-03-13T19:30:10.490Z"
   },
   {
    "duration": 12,
    "start_time": "2024-03-13T19:30:27.324Z"
   },
   {
    "duration": 10,
    "start_time": "2024-03-13T19:30:33.213Z"
   },
   {
    "duration": 18,
    "start_time": "2024-03-13T19:33:56.440Z"
   },
   {
    "duration": 4,
    "start_time": "2024-03-13T19:34:09.727Z"
   },
   {
    "duration": 16,
    "start_time": "2024-03-13T19:34:12.866Z"
   },
   {
    "duration": 14,
    "start_time": "2024-03-13T19:34:25.534Z"
   },
   {
    "duration": 16,
    "start_time": "2024-03-13T19:34:49.594Z"
   },
   {
    "duration": 19,
    "start_time": "2024-03-13T19:35:43.771Z"
   },
   {
    "duration": 16,
    "start_time": "2024-03-13T19:35:47.886Z"
   },
   {
    "duration": 18,
    "start_time": "2024-03-13T19:37:45.173Z"
   },
   {
    "duration": 17,
    "start_time": "2024-03-13T19:37:56.174Z"
   },
   {
    "duration": 17,
    "start_time": "2024-03-13T19:38:19.978Z"
   },
   {
    "duration": 16,
    "start_time": "2024-03-13T19:40:47.797Z"
   },
   {
    "duration": 109,
    "start_time": "2024-03-13T19:44:01.518Z"
   },
   {
    "duration": 5,
    "start_time": "2024-03-13T19:44:30.946Z"
   },
   {
    "duration": 4,
    "start_time": "2024-03-13T19:44:38.233Z"
   },
   {
    "duration": 7,
    "start_time": "2024-03-13T19:45:41.710Z"
   },
   {
    "duration": 6,
    "start_time": "2024-03-13T19:46:21.348Z"
   },
   {
    "duration": 106,
    "start_time": "2024-03-13T19:46:56.936Z"
   },
   {
    "duration": 16,
    "start_time": "2024-03-13T19:51:43.811Z"
   },
   {
    "duration": 21,
    "start_time": "2024-03-13T19:52:07.726Z"
   },
   {
    "duration": 17,
    "start_time": "2024-03-13T19:52:18.146Z"
   },
   {
    "duration": 15,
    "start_time": "2024-03-13T19:52:52.895Z"
   },
   {
    "duration": 14,
    "start_time": "2024-03-13T19:53:14.039Z"
   },
   {
    "duration": 15,
    "start_time": "2024-03-13T19:53:30.286Z"
   },
   {
    "duration": 17,
    "start_time": "2024-03-13T19:53:37.234Z"
   },
   {
    "duration": 17,
    "start_time": "2024-03-13T19:54:03.106Z"
   },
   {
    "duration": 17,
    "start_time": "2024-03-13T19:55:10.329Z"
   },
   {
    "duration": 16,
    "start_time": "2024-03-13T19:55:31.329Z"
   },
   {
    "duration": 16,
    "start_time": "2024-03-13T19:55:40.796Z"
   },
   {
    "duration": 14,
    "start_time": "2024-03-13T19:55:51.107Z"
   },
   {
    "duration": 15,
    "start_time": "2024-03-13T19:55:56.403Z"
   },
   {
    "duration": 15,
    "start_time": "2024-03-13T19:57:23.964Z"
   },
   {
    "duration": 26,
    "start_time": "2024-03-13T19:57:30.568Z"
   },
   {
    "duration": 18,
    "start_time": "2024-03-13T19:57:36.765Z"
   },
   {
    "duration": 14,
    "start_time": "2024-03-13T19:57:46.510Z"
   },
   {
    "duration": 16,
    "start_time": "2024-03-13T19:57:56.776Z"
   },
   {
    "duration": 18,
    "start_time": "2024-03-13T19:58:16.735Z"
   },
   {
    "duration": 16,
    "start_time": "2024-03-13T19:58:40.558Z"
   },
   {
    "duration": 16,
    "start_time": "2024-03-13T19:58:58.927Z"
   },
   {
    "duration": 23,
    "start_time": "2024-03-13T19:59:09.862Z"
   },
   {
    "duration": 7,
    "start_time": "2024-03-13T20:00:01.008Z"
   },
   {
    "duration": 7,
    "start_time": "2024-03-13T20:00:21.209Z"
   },
   {
    "duration": 6,
    "start_time": "2024-03-13T20:01:00.914Z"
   },
   {
    "duration": 7,
    "start_time": "2024-03-13T20:01:08.527Z"
   },
   {
    "duration": 5,
    "start_time": "2024-03-13T20:01:19.406Z"
   },
   {
    "duration": 6,
    "start_time": "2024-03-13T20:01:24.728Z"
   },
   {
    "duration": 6,
    "start_time": "2024-03-13T20:01:39.811Z"
   },
   {
    "duration": 5065,
    "start_time": "2024-03-13T21:48:41.694Z"
   },
   {
    "duration": 1221,
    "start_time": "2024-03-13T21:48:46.762Z"
   },
   {
    "duration": 41,
    "start_time": "2024-03-13T21:48:47.985Z"
   },
   {
    "duration": 37,
    "start_time": "2024-03-13T21:48:48.028Z"
   },
   {
    "duration": 7,
    "start_time": "2024-03-13T21:48:48.066Z"
   },
   {
    "duration": 19,
    "start_time": "2024-03-13T21:48:48.074Z"
   },
   {
    "duration": 22,
    "start_time": "2024-03-13T21:48:48.095Z"
   },
   {
    "duration": 20,
    "start_time": "2024-03-13T21:48:48.119Z"
   },
   {
    "duration": 7,
    "start_time": "2024-03-13T21:48:48.141Z"
   },
   {
    "duration": 7,
    "start_time": "2024-03-13T21:48:48.152Z"
   },
   {
    "duration": 21,
    "start_time": "2024-03-13T21:48:48.160Z"
   },
   {
    "duration": 19,
    "start_time": "2024-03-13T21:48:48.183Z"
   },
   {
    "duration": 12,
    "start_time": "2024-03-13T21:48:48.203Z"
   },
   {
    "duration": 7,
    "start_time": "2024-03-13T21:48:48.216Z"
   },
   {
    "duration": 23,
    "start_time": "2024-03-13T21:48:48.224Z"
   },
   {
    "duration": 7247,
    "start_time": "2024-03-13T21:48:48.249Z"
   },
   {
    "duration": 12,
    "start_time": "2024-03-13T21:48:55.498Z"
   },
   {
    "duration": 5,
    "start_time": "2024-03-13T21:48:55.512Z"
   },
   {
    "duration": 31,
    "start_time": "2024-03-13T21:48:55.520Z"
   },
   {
    "duration": 28,
    "start_time": "2024-03-13T21:48:55.553Z"
   },
   {
    "duration": 17,
    "start_time": "2024-03-13T21:48:55.583Z"
   },
   {
    "duration": 12,
    "start_time": "2024-03-13T21:48:55.603Z"
   },
   {
    "duration": 9,
    "start_time": "2024-03-13T21:48:55.616Z"
   },
   {
    "duration": 6,
    "start_time": "2024-03-13T21:48:55.627Z"
   },
   {
    "duration": 6,
    "start_time": "2024-03-13T21:48:55.636Z"
   },
   {
    "duration": 37,
    "start_time": "2024-03-13T21:48:55.644Z"
   },
   {
    "duration": 424,
    "start_time": "2024-03-13T21:48:55.683Z"
   },
   {
    "duration": 478,
    "start_time": "2024-03-13T21:48:56.111Z"
   },
   {
    "duration": 6538,
    "start_time": "2024-03-13T21:48:56.591Z"
   },
   {
    "duration": 4566,
    "start_time": "2024-03-13T21:49:03.131Z"
   },
   {
    "duration": 462,
    "start_time": "2024-03-13T21:49:07.698Z"
   },
   {
    "duration": 602,
    "start_time": "2024-03-13T21:49:08.161Z"
   },
   {
    "duration": 998,
    "start_time": "2024-03-13T21:49:08.765Z"
   },
   {
    "duration": 687,
    "start_time": "2024-03-13T21:49:09.764Z"
   },
   {
    "duration": 409,
    "start_time": "2024-03-13T21:49:10.453Z"
   },
   {
    "duration": 376,
    "start_time": "2024-03-13T21:49:10.864Z"
   },
   {
    "duration": 366,
    "start_time": "2024-03-13T21:49:11.242Z"
   },
   {
    "duration": 351,
    "start_time": "2024-03-13T21:49:11.610Z"
   },
   {
    "duration": 200,
    "start_time": "2024-03-13T21:49:11.963Z"
   },
   {
    "duration": 955,
    "start_time": "2024-03-13T21:49:12.164Z"
   },
   {
    "duration": 5,
    "start_time": "2024-03-13T21:49:13.121Z"
   },
   {
    "duration": 36,
    "start_time": "2024-03-13T21:49:13.128Z"
   },
   {
    "duration": 33,
    "start_time": "2024-03-13T21:49:13.166Z"
   },
   {
    "duration": 126,
    "start_time": "2024-03-13T21:49:13.200Z"
   },
   {
    "duration": 0,
    "start_time": "2024-03-13T21:49:13.328Z"
   },
   {
    "duration": 0,
    "start_time": "2024-03-13T21:49:13.329Z"
   },
   {
    "duration": 0,
    "start_time": "2024-03-13T21:49:13.331Z"
   },
   {
    "duration": 0,
    "start_time": "2024-03-13T21:49:13.332Z"
   },
   {
    "duration": 49,
    "start_time": "2024-03-14T17:48:12.750Z"
   },
   {
    "duration": 6528,
    "start_time": "2024-03-14T17:48:22.125Z"
   },
   {
    "duration": 1384,
    "start_time": "2024-03-14T17:48:28.655Z"
   },
   {
    "duration": 78,
    "start_time": "2024-03-14T17:48:30.041Z"
   },
   {
    "duration": 43,
    "start_time": "2024-03-14T17:48:30.122Z"
   },
   {
    "duration": 36,
    "start_time": "2024-03-14T17:48:30.167Z"
   },
   {
    "duration": 47,
    "start_time": "2024-03-14T17:48:30.204Z"
   },
   {
    "duration": 58,
    "start_time": "2024-03-14T17:48:30.253Z"
   },
   {
    "duration": 116,
    "start_time": "2024-03-14T17:48:30.313Z"
   },
   {
    "duration": 59,
    "start_time": "2024-03-14T17:48:30.430Z"
   },
   {
    "duration": 58,
    "start_time": "2024-03-14T17:48:30.492Z"
   },
   {
    "duration": 50,
    "start_time": "2024-03-14T17:48:30.552Z"
   },
   {
    "duration": 82,
    "start_time": "2024-03-14T17:48:30.604Z"
   },
   {
    "duration": 46,
    "start_time": "2024-03-14T17:48:30.687Z"
   },
   {
    "duration": 43,
    "start_time": "2024-03-14T17:48:30.735Z"
   },
   {
    "duration": 78,
    "start_time": "2024-03-14T17:48:30.780Z"
   },
   {
    "duration": 7124,
    "start_time": "2024-03-14T17:48:30.860Z"
   },
   {
    "duration": 15,
    "start_time": "2024-03-14T17:48:37.986Z"
   },
   {
    "duration": 6,
    "start_time": "2024-03-14T17:48:38.002Z"
   },
   {
    "duration": 31,
    "start_time": "2024-03-14T17:48:38.010Z"
   },
   {
    "duration": 21,
    "start_time": "2024-03-14T17:48:38.043Z"
   },
   {
    "duration": 24,
    "start_time": "2024-03-14T17:48:38.065Z"
   },
   {
    "duration": 6,
    "start_time": "2024-03-14T17:48:38.090Z"
   },
   {
    "duration": 34,
    "start_time": "2024-03-14T17:48:38.097Z"
   },
   {
    "duration": 11,
    "start_time": "2024-03-14T17:48:38.133Z"
   },
   {
    "duration": 16,
    "start_time": "2024-03-14T17:48:38.145Z"
   },
   {
    "duration": 7,
    "start_time": "2024-03-14T17:48:38.163Z"
   },
   {
    "duration": 358,
    "start_time": "2024-03-14T17:48:38.172Z"
   },
   {
    "duration": 495,
    "start_time": "2024-03-14T17:48:38.533Z"
   },
   {
    "duration": 6002,
    "start_time": "2024-03-14T17:48:39.030Z"
   },
   {
    "duration": 4066,
    "start_time": "2024-03-14T17:48:45.033Z"
   },
   {
    "duration": 428,
    "start_time": "2024-03-14T17:48:49.102Z"
   },
   {
    "duration": 569,
    "start_time": "2024-03-14T17:48:49.531Z"
   },
   {
    "duration": 1005,
    "start_time": "2024-03-14T17:48:50.102Z"
   },
   {
    "duration": 663,
    "start_time": "2024-03-14T17:48:51.109Z"
   },
   {
    "duration": 390,
    "start_time": "2024-03-14T17:48:51.774Z"
   },
   {
    "duration": 354,
    "start_time": "2024-03-14T17:48:52.166Z"
   },
   {
    "duration": 361,
    "start_time": "2024-03-14T17:48:52.521Z"
   },
   {
    "duration": 463,
    "start_time": "2024-03-14T17:48:52.884Z"
   },
   {
    "duration": 71,
    "start_time": "2024-03-14T17:48:53.349Z"
   },
   {
    "duration": 902,
    "start_time": "2024-03-14T17:48:53.422Z"
   },
   {
    "duration": 6,
    "start_time": "2024-03-14T17:48:54.326Z"
   },
   {
    "duration": 19,
    "start_time": "2024-03-14T17:48:54.334Z"
   },
   {
    "duration": 8,
    "start_time": "2024-03-14T17:48:54.355Z"
   },
   {
    "duration": 113,
    "start_time": "2024-03-14T17:48:54.365Z"
   },
   {
    "duration": 0,
    "start_time": "2024-03-14T17:48:54.480Z"
   },
   {
    "duration": 0,
    "start_time": "2024-03-14T17:48:54.481Z"
   },
   {
    "duration": 0,
    "start_time": "2024-03-14T17:48:54.482Z"
   },
   {
    "duration": 0,
    "start_time": "2024-03-14T17:48:54.483Z"
   },
   {
    "duration": 11,
    "start_time": "2024-03-14T17:49:42.125Z"
   },
   {
    "duration": 19,
    "start_time": "2024-03-14T17:49:49.415Z"
   },
   {
    "duration": 10,
    "start_time": "2024-03-14T17:50:16.665Z"
   },
   {
    "duration": 9,
    "start_time": "2024-03-14T17:50:24.549Z"
   },
   {
    "duration": 16,
    "start_time": "2024-03-14T17:50:31.031Z"
   },
   {
    "duration": 11,
    "start_time": "2024-03-14T17:50:34.676Z"
   },
   {
    "duration": 4762,
    "start_time": "2024-03-14T17:50:50.018Z"
   },
   {
    "duration": 1256,
    "start_time": "2024-03-14T17:50:54.782Z"
   },
   {
    "duration": 41,
    "start_time": "2024-03-14T17:50:56.040Z"
   },
   {
    "duration": 44,
    "start_time": "2024-03-14T17:50:56.083Z"
   },
   {
    "duration": 3,
    "start_time": "2024-03-14T17:50:56.129Z"
   },
   {
    "duration": 44,
    "start_time": "2024-03-14T17:50:56.134Z"
   },
   {
    "duration": 46,
    "start_time": "2024-03-14T17:50:56.180Z"
   },
   {
    "duration": 40,
    "start_time": "2024-03-14T17:50:56.227Z"
   },
   {
    "duration": 10,
    "start_time": "2024-03-14T17:50:56.269Z"
   },
   {
    "duration": 38,
    "start_time": "2024-03-14T17:50:56.281Z"
   },
   {
    "duration": 30,
    "start_time": "2024-03-14T17:50:56.321Z"
   },
   {
    "duration": 36,
    "start_time": "2024-03-14T17:50:56.352Z"
   },
   {
    "duration": 23,
    "start_time": "2024-03-14T17:50:56.390Z"
   },
   {
    "duration": 34,
    "start_time": "2024-03-14T17:50:56.415Z"
   },
   {
    "duration": 26,
    "start_time": "2024-03-14T17:50:56.451Z"
   },
   {
    "duration": 6770,
    "start_time": "2024-03-14T17:50:56.479Z"
   },
   {
    "duration": 9,
    "start_time": "2024-03-14T17:51:03.250Z"
   },
   {
    "duration": 5,
    "start_time": "2024-03-14T17:51:03.260Z"
   },
   {
    "duration": 43,
    "start_time": "2024-03-14T17:51:03.267Z"
   },
   {
    "duration": 4,
    "start_time": "2024-03-14T17:51:03.311Z"
   },
   {
    "duration": 15,
    "start_time": "2024-03-14T17:51:03.316Z"
   },
   {
    "duration": 22,
    "start_time": "2024-03-14T17:51:03.332Z"
   },
   {
    "duration": 22,
    "start_time": "2024-03-14T17:51:03.356Z"
   },
   {
    "duration": 11,
    "start_time": "2024-03-14T17:51:03.379Z"
   },
   {
    "duration": 28,
    "start_time": "2024-03-14T17:51:03.392Z"
   },
   {
    "duration": 22,
    "start_time": "2024-03-14T17:51:03.421Z"
   },
   {
    "duration": 392,
    "start_time": "2024-03-14T17:51:03.445Z"
   },
   {
    "duration": 603,
    "start_time": "2024-03-14T17:51:03.840Z"
   },
   {
    "duration": 5859,
    "start_time": "2024-03-14T17:51:04.444Z"
   },
   {
    "duration": 4179,
    "start_time": "2024-03-14T17:51:10.305Z"
   },
   {
    "duration": 395,
    "start_time": "2024-03-14T17:51:14.485Z"
   },
   {
    "duration": 595,
    "start_time": "2024-03-14T17:51:14.893Z"
   },
   {
    "duration": 921,
    "start_time": "2024-03-14T17:51:15.494Z"
   },
   {
    "duration": 657,
    "start_time": "2024-03-14T17:51:16.416Z"
   },
   {
    "duration": 381,
    "start_time": "2024-03-14T17:51:17.075Z"
   },
   {
    "duration": 297,
    "start_time": "2024-03-14T17:51:17.458Z"
   },
   {
    "duration": 397,
    "start_time": "2024-03-14T17:51:17.756Z"
   },
   {
    "duration": 351,
    "start_time": "2024-03-14T17:51:18.155Z"
   },
   {
    "duration": 152,
    "start_time": "2024-03-14T17:51:18.507Z"
   },
   {
    "duration": 944,
    "start_time": "2024-03-14T17:51:18.661Z"
   },
   {
    "duration": 6,
    "start_time": "2024-03-14T17:51:19.607Z"
   },
   {
    "duration": 29,
    "start_time": "2024-03-14T17:51:19.614Z"
   },
   {
    "duration": 32,
    "start_time": "2024-03-14T17:51:19.644Z"
   },
   {
    "duration": 41,
    "start_time": "2024-03-14T17:51:19.678Z"
   },
   {
    "duration": 8,
    "start_time": "2024-03-14T17:51:19.721Z"
   },
   {
    "duration": 14,
    "start_time": "2024-03-14T17:51:19.730Z"
   },
   {
    "duration": 20,
    "start_time": "2024-03-14T17:51:19.746Z"
   },
   {
    "duration": 46,
    "start_time": "2024-03-14T17:51:19.768Z"
   },
   {
    "duration": 19,
    "start_time": "2024-03-14T18:00:06.233Z"
   },
   {
    "duration": 8,
    "start_time": "2024-03-14T18:00:14.643Z"
   },
   {
    "duration": 4939,
    "start_time": "2024-03-14T18:00:20.400Z"
   },
   {
    "duration": 1199,
    "start_time": "2024-03-14T18:00:25.341Z"
   },
   {
    "duration": 40,
    "start_time": "2024-03-14T18:00:26.541Z"
   },
   {
    "duration": 48,
    "start_time": "2024-03-14T18:00:26.583Z"
   },
   {
    "duration": 4,
    "start_time": "2024-03-14T18:00:26.633Z"
   },
   {
    "duration": 34,
    "start_time": "2024-03-14T18:00:26.638Z"
   },
   {
    "duration": 31,
    "start_time": "2024-03-14T18:00:26.674Z"
   },
   {
    "duration": 52,
    "start_time": "2024-03-14T18:00:26.707Z"
   },
   {
    "duration": 23,
    "start_time": "2024-03-14T18:00:26.760Z"
   },
   {
    "duration": 17,
    "start_time": "2024-03-14T18:00:26.785Z"
   },
   {
    "duration": 22,
    "start_time": "2024-03-14T18:00:26.803Z"
   },
   {
    "duration": 22,
    "start_time": "2024-03-14T18:00:26.826Z"
   },
   {
    "duration": 12,
    "start_time": "2024-03-14T18:00:26.850Z"
   },
   {
    "duration": 8,
    "start_time": "2024-03-14T18:00:26.866Z"
   },
   {
    "duration": 27,
    "start_time": "2024-03-14T18:00:26.875Z"
   },
   {
    "duration": 6729,
    "start_time": "2024-03-14T18:00:26.903Z"
   },
   {
    "duration": 10,
    "start_time": "2024-03-14T18:00:33.634Z"
   },
   {
    "duration": 17,
    "start_time": "2024-03-14T18:00:33.646Z"
   },
   {
    "duration": 41,
    "start_time": "2024-03-14T18:00:33.665Z"
   },
   {
    "duration": 25,
    "start_time": "2024-03-14T18:00:33.707Z"
   },
   {
    "duration": 29,
    "start_time": "2024-03-14T18:00:33.734Z"
   },
   {
    "duration": 22,
    "start_time": "2024-03-14T18:00:33.765Z"
   },
   {
    "duration": 33,
    "start_time": "2024-03-14T18:00:33.789Z"
   },
   {
    "duration": 22,
    "start_time": "2024-03-14T18:00:33.824Z"
   },
   {
    "duration": 12,
    "start_time": "2024-03-14T18:00:33.847Z"
   },
   {
    "duration": 41,
    "start_time": "2024-03-14T18:00:33.861Z"
   },
   {
    "duration": 384,
    "start_time": "2024-03-14T18:00:33.904Z"
   },
   {
    "duration": 440,
    "start_time": "2024-03-14T18:00:34.293Z"
   },
   {
    "duration": 5906,
    "start_time": "2024-03-14T18:00:34.735Z"
   },
   {
    "duration": 4209,
    "start_time": "2024-03-14T18:00:40.642Z"
   },
   {
    "duration": 428,
    "start_time": "2024-03-14T18:00:44.852Z"
   },
   {
    "duration": 600,
    "start_time": "2024-03-14T18:00:45.283Z"
   },
   {
    "duration": 977,
    "start_time": "2024-03-14T18:00:45.885Z"
   },
   {
    "duration": 650,
    "start_time": "2024-03-14T18:00:46.864Z"
   },
   {
    "duration": 352,
    "start_time": "2024-03-14T18:00:47.515Z"
   },
   {
    "duration": 374,
    "start_time": "2024-03-14T18:00:47.869Z"
   },
   {
    "duration": 324,
    "start_time": "2024-03-14T18:00:48.244Z"
   },
   {
    "duration": 361,
    "start_time": "2024-03-14T18:00:48.570Z"
   },
   {
    "duration": 165,
    "start_time": "2024-03-14T18:00:48.933Z"
   },
   {
    "duration": 911,
    "start_time": "2024-03-14T18:00:49.099Z"
   },
   {
    "duration": 6,
    "start_time": "2024-03-14T18:00:50.015Z"
   },
   {
    "duration": 20,
    "start_time": "2024-03-14T18:00:50.022Z"
   },
   {
    "duration": 11,
    "start_time": "2024-03-14T18:00:50.044Z"
   },
   {
    "duration": 74,
    "start_time": "2024-03-14T18:00:50.057Z"
   },
   {
    "duration": 43,
    "start_time": "2024-03-14T18:00:50.133Z"
   },
   {
    "duration": 27,
    "start_time": "2024-03-14T18:00:50.178Z"
   },
   {
    "duration": 62,
    "start_time": "2024-03-14T18:00:50.207Z"
   },
   {
    "duration": 50,
    "start_time": "2024-03-14T18:00:50.271Z"
   },
   {
    "duration": 889,
    "start_time": "2024-03-14T18:33:55.765Z"
   },
   {
    "duration": 998,
    "start_time": "2024-03-14T18:34:01.406Z"
   },
   {
    "duration": 4865,
    "start_time": "2024-03-14T19:04:48.817Z"
   },
   {
    "duration": 1198,
    "start_time": "2024-03-14T19:04:53.684Z"
   },
   {
    "duration": 45,
    "start_time": "2024-03-14T19:04:54.884Z"
   },
   {
    "duration": 47,
    "start_time": "2024-03-14T19:04:54.931Z"
   },
   {
    "duration": 4,
    "start_time": "2024-03-14T19:04:54.981Z"
   },
   {
    "duration": 41,
    "start_time": "2024-03-14T19:04:54.994Z"
   },
   {
    "duration": 78,
    "start_time": "2024-03-14T19:04:55.036Z"
   },
   {
    "duration": 63,
    "start_time": "2024-03-14T19:04:55.115Z"
   },
   {
    "duration": 34,
    "start_time": "2024-03-14T19:04:55.180Z"
   },
   {
    "duration": 86,
    "start_time": "2024-03-14T19:04:55.215Z"
   },
   {
    "duration": 42,
    "start_time": "2024-03-14T19:04:55.302Z"
   },
   {
    "duration": 97,
    "start_time": "2024-03-14T19:04:55.345Z"
   },
   {
    "duration": 44,
    "start_time": "2024-03-14T19:04:55.444Z"
   },
   {
    "duration": 49,
    "start_time": "2024-03-14T19:04:55.490Z"
   },
   {
    "duration": 70,
    "start_time": "2024-03-14T19:04:55.542Z"
   },
   {
    "duration": 7000,
    "start_time": "2024-03-14T19:04:55.614Z"
   },
   {
    "duration": 8,
    "start_time": "2024-03-14T19:05:02.615Z"
   },
   {
    "duration": 81,
    "start_time": "2024-03-14T19:05:02.624Z"
   },
   {
    "duration": 102,
    "start_time": "2024-03-14T19:05:02.707Z"
   },
   {
    "duration": 33,
    "start_time": "2024-03-14T19:05:02.811Z"
   },
   {
    "duration": 47,
    "start_time": "2024-03-14T19:05:02.846Z"
   },
   {
    "duration": 20,
    "start_time": "2024-03-14T19:05:02.895Z"
   },
   {
    "duration": 32,
    "start_time": "2024-03-14T19:05:02.916Z"
   },
   {
    "duration": 18,
    "start_time": "2024-03-14T19:05:02.950Z"
   },
   {
    "duration": 37,
    "start_time": "2024-03-14T19:05:02.970Z"
   },
   {
    "duration": 52,
    "start_time": "2024-03-14T19:05:03.009Z"
   },
   {
    "duration": 436,
    "start_time": "2024-03-14T19:05:03.062Z"
   },
   {
    "duration": 461,
    "start_time": "2024-03-14T19:05:03.500Z"
   },
   {
    "duration": 6043,
    "start_time": "2024-03-14T19:05:03.962Z"
   },
   {
    "duration": 4279,
    "start_time": "2024-03-14T19:05:10.007Z"
   },
   {
    "duration": 394,
    "start_time": "2024-03-14T19:05:14.288Z"
   },
   {
    "duration": 638,
    "start_time": "2024-03-14T19:05:14.683Z"
   },
   {
    "duration": 964,
    "start_time": "2024-03-14T19:05:15.323Z"
   },
   {
    "duration": 659,
    "start_time": "2024-03-14T19:05:16.289Z"
   },
   {
    "duration": 362,
    "start_time": "2024-03-14T19:05:16.950Z"
   },
   {
    "duration": 333,
    "start_time": "2024-03-14T19:05:17.314Z"
   },
   {
    "duration": 368,
    "start_time": "2024-03-14T19:05:17.648Z"
   },
   {
    "duration": 344,
    "start_time": "2024-03-14T19:05:18.018Z"
   },
   {
    "duration": 168,
    "start_time": "2024-03-14T19:05:18.363Z"
   },
   {
    "duration": 931,
    "start_time": "2024-03-14T19:05:18.533Z"
   },
   {
    "duration": 6,
    "start_time": "2024-03-14T19:05:19.468Z"
   },
   {
    "duration": 25,
    "start_time": "2024-03-14T19:05:19.475Z"
   },
   {
    "duration": 6,
    "start_time": "2024-03-14T19:05:19.502Z"
   },
   {
    "duration": 79,
    "start_time": "2024-03-14T19:05:19.510Z"
   },
   {
    "duration": 6,
    "start_time": "2024-03-14T19:05:19.591Z"
   },
   {
    "duration": 21,
    "start_time": "2024-03-14T19:05:19.598Z"
   },
   {
    "duration": 21,
    "start_time": "2024-03-14T19:05:19.620Z"
   },
   {
    "duration": 6,
    "start_time": "2024-03-14T19:05:19.643Z"
   },
   {
    "duration": 5445,
    "start_time": "2024-03-14T21:07:41.697Z"
   },
   {
    "duration": 2140,
    "start_time": "2024-03-14T21:07:47.144Z"
   },
   {
    "duration": 153,
    "start_time": "2024-03-14T21:07:49.285Z"
   },
   {
    "duration": 43,
    "start_time": "2024-03-14T21:07:49.440Z"
   },
   {
    "duration": 4,
    "start_time": "2024-03-14T21:07:49.484Z"
   },
   {
    "duration": 18,
    "start_time": "2024-03-14T21:07:49.489Z"
   },
   {
    "duration": 7,
    "start_time": "2024-03-14T21:07:49.515Z"
   },
   {
    "duration": 20,
    "start_time": "2024-03-14T21:07:49.523Z"
   },
   {
    "duration": 6,
    "start_time": "2024-03-14T21:07:49.545Z"
   },
   {
    "duration": 7,
    "start_time": "2024-03-14T21:07:49.553Z"
   },
   {
    "duration": 59,
    "start_time": "2024-03-14T21:07:49.562Z"
   },
   {
    "duration": 20,
    "start_time": "2024-03-14T21:07:49.623Z"
   },
   {
    "duration": 33,
    "start_time": "2024-03-14T21:07:49.644Z"
   },
   {
    "duration": 12,
    "start_time": "2024-03-14T21:07:49.679Z"
   },
   {
    "duration": 36,
    "start_time": "2024-03-14T21:07:49.692Z"
   },
   {
    "duration": 8212,
    "start_time": "2024-03-14T21:07:49.729Z"
   },
   {
    "duration": 9,
    "start_time": "2024-03-14T21:07:57.943Z"
   },
   {
    "duration": 6,
    "start_time": "2024-03-14T21:07:57.954Z"
   },
   {
    "duration": 54,
    "start_time": "2024-03-14T21:07:57.961Z"
   },
   {
    "duration": 4,
    "start_time": "2024-03-14T21:07:58.017Z"
   },
   {
    "duration": 20,
    "start_time": "2024-03-14T21:07:58.023Z"
   },
   {
    "duration": 6,
    "start_time": "2024-03-14T21:07:58.045Z"
   },
   {
    "duration": 10,
    "start_time": "2024-03-14T21:07:58.052Z"
   },
   {
    "duration": 6,
    "start_time": "2024-03-14T21:07:58.063Z"
   },
   {
    "duration": 11,
    "start_time": "2024-03-14T21:07:58.071Z"
   },
   {
    "duration": 35,
    "start_time": "2024-03-14T21:07:58.083Z"
   },
   {
    "duration": 664,
    "start_time": "2024-03-14T21:07:58.120Z"
   },
   {
    "duration": 762,
    "start_time": "2024-03-14T21:07:58.788Z"
   },
   {
    "duration": 7386,
    "start_time": "2024-03-14T21:07:59.551Z"
   },
   {
    "duration": 5568,
    "start_time": "2024-03-14T21:08:06.939Z"
   },
   {
    "duration": 607,
    "start_time": "2024-03-14T21:08:12.509Z"
   },
   {
    "duration": 738,
    "start_time": "2024-03-14T21:08:13.117Z"
   },
   {
    "duration": 1089,
    "start_time": "2024-03-14T21:08:13.856Z"
   },
   {
    "duration": 985,
    "start_time": "2024-03-14T21:08:14.946Z"
   },
   {
    "duration": 528,
    "start_time": "2024-03-14T21:08:15.933Z"
   },
   {
    "duration": 472,
    "start_time": "2024-03-14T21:08:16.462Z"
   },
   {
    "duration": 696,
    "start_time": "2024-03-14T21:08:16.935Z"
   },
   {
    "duration": 518,
    "start_time": "2024-03-14T21:08:17.633Z"
   },
   {
    "duration": 84,
    "start_time": "2024-03-14T21:08:18.153Z"
   },
   {
    "duration": 1064,
    "start_time": "2024-03-14T21:08:18.239Z"
   },
   {
    "duration": 14,
    "start_time": "2024-03-14T21:08:19.304Z"
   },
   {
    "duration": 10,
    "start_time": "2024-03-14T21:08:19.319Z"
   },
   {
    "duration": 8,
    "start_time": "2024-03-14T21:08:19.330Z"
   },
   {
    "duration": 60,
    "start_time": "2024-03-14T21:08:19.339Z"
   },
   {
    "duration": 7,
    "start_time": "2024-03-14T21:08:19.401Z"
   },
   {
    "duration": 16,
    "start_time": "2024-03-14T21:08:19.409Z"
   },
   {
    "duration": 16,
    "start_time": "2024-03-14T21:08:19.426Z"
   },
   {
    "duration": 7,
    "start_time": "2024-03-14T21:08:19.444Z"
   },
   {
    "duration": 6369,
    "start_time": "2024-03-14T21:52:02.087Z"
   },
   {
    "duration": 1247,
    "start_time": "2024-03-14T21:52:08.458Z"
   },
   {
    "duration": 152,
    "start_time": "2024-03-14T21:52:09.708Z"
   },
   {
    "duration": 33,
    "start_time": "2024-03-14T21:52:09.862Z"
   },
   {
    "duration": 3,
    "start_time": "2024-03-14T21:52:09.896Z"
   },
   {
    "duration": 11,
    "start_time": "2024-03-14T21:52:09.900Z"
   },
   {
    "duration": 5,
    "start_time": "2024-03-14T21:52:09.912Z"
   },
   {
    "duration": 27,
    "start_time": "2024-03-14T21:52:09.918Z"
   },
   {
    "duration": 5,
    "start_time": "2024-03-14T21:52:09.948Z"
   },
   {
    "duration": 16,
    "start_time": "2024-03-14T21:52:09.954Z"
   },
   {
    "duration": 8,
    "start_time": "2024-03-14T21:52:09.971Z"
   },
   {
    "duration": 15,
    "start_time": "2024-03-14T21:52:09.980Z"
   },
   {
    "duration": 17,
    "start_time": "2024-03-14T21:52:09.996Z"
   },
   {
    "duration": 7,
    "start_time": "2024-03-14T21:52:10.014Z"
   },
   {
    "duration": 37,
    "start_time": "2024-03-14T21:52:10.022Z"
   },
   {
    "duration": 6294,
    "start_time": "2024-03-14T21:52:10.060Z"
   },
   {
    "duration": 7,
    "start_time": "2024-03-14T21:52:16.355Z"
   },
   {
    "duration": 7,
    "start_time": "2024-03-14T21:52:16.364Z"
   },
   {
    "duration": 29,
    "start_time": "2024-03-14T21:52:16.372Z"
   },
   {
    "duration": 3,
    "start_time": "2024-03-14T21:52:16.402Z"
   },
   {
    "duration": 15,
    "start_time": "2024-03-14T21:52:16.407Z"
   },
   {
    "duration": 20,
    "start_time": "2024-03-14T21:52:16.423Z"
   },
   {
    "duration": 25,
    "start_time": "2024-03-14T21:52:16.445Z"
   },
   {
    "duration": 32,
    "start_time": "2024-03-14T21:52:16.471Z"
   },
   {
    "duration": 7,
    "start_time": "2024-03-14T21:52:16.504Z"
   },
   {
    "duration": 9,
    "start_time": "2024-03-14T21:52:16.512Z"
   },
   {
    "duration": 314,
    "start_time": "2024-03-14T21:52:16.524Z"
   },
   {
    "duration": 207,
    "start_time": "2024-03-14T21:52:16.840Z"
   },
   {
    "duration": 5056,
    "start_time": "2024-03-14T21:52:17.048Z"
   },
   {
    "duration": 3670,
    "start_time": "2024-03-14T21:52:22.106Z"
   },
   {
    "duration": 403,
    "start_time": "2024-03-14T21:52:25.777Z"
   },
   {
    "duration": 526,
    "start_time": "2024-03-14T21:52:26.182Z"
   },
   {
    "duration": 839,
    "start_time": "2024-03-14T21:52:26.709Z"
   },
   {
    "duration": 568,
    "start_time": "2024-03-14T21:52:27.550Z"
   },
   {
    "duration": 364,
    "start_time": "2024-03-14T21:52:28.119Z"
   },
   {
    "duration": 393,
    "start_time": "2024-03-14T21:52:28.485Z"
   },
   {
    "duration": 318,
    "start_time": "2024-03-14T21:52:28.880Z"
   },
   {
    "duration": 309,
    "start_time": "2024-03-14T21:52:29.199Z"
   },
   {
    "duration": 141,
    "start_time": "2024-03-14T21:52:29.509Z"
   },
   {
    "duration": 0,
    "start_time": "2024-03-14T21:52:29.651Z"
   },
   {
    "duration": 0,
    "start_time": "2024-03-14T21:52:29.652Z"
   },
   {
    "duration": 0,
    "start_time": "2024-03-14T21:52:29.653Z"
   },
   {
    "duration": 0,
    "start_time": "2024-03-14T21:52:29.654Z"
   },
   {
    "duration": 0,
    "start_time": "2024-03-14T21:52:29.655Z"
   },
   {
    "duration": 0,
    "start_time": "2024-03-14T21:52:29.656Z"
   },
   {
    "duration": 0,
    "start_time": "2024-03-14T21:52:29.657Z"
   },
   {
    "duration": 0,
    "start_time": "2024-03-14T21:52:29.658Z"
   },
   {
    "duration": 0,
    "start_time": "2024-03-14T21:52:29.659Z"
   },
   {
    "duration": 4951,
    "start_time": "2024-03-14T21:53:28.852Z"
   },
   {
    "duration": 1056,
    "start_time": "2024-03-14T21:53:33.805Z"
   },
   {
    "duration": 40,
    "start_time": "2024-03-14T21:53:34.862Z"
   },
   {
    "duration": 32,
    "start_time": "2024-03-14T21:53:34.904Z"
   },
   {
    "duration": 3,
    "start_time": "2024-03-14T21:53:34.937Z"
   },
   {
    "duration": 6,
    "start_time": "2024-03-14T21:53:34.942Z"
   },
   {
    "duration": 8,
    "start_time": "2024-03-14T21:53:34.950Z"
   },
   {
    "duration": 17,
    "start_time": "2024-03-14T21:53:34.959Z"
   },
   {
    "duration": 5,
    "start_time": "2024-03-14T21:53:34.978Z"
   },
   {
    "duration": 6,
    "start_time": "2024-03-14T21:53:34.985Z"
   },
   {
    "duration": 7,
    "start_time": "2024-03-14T21:53:34.992Z"
   },
   {
    "duration": 16,
    "start_time": "2024-03-14T21:53:35.000Z"
   },
   {
    "duration": 49,
    "start_time": "2024-03-14T21:53:35.018Z"
   },
   {
    "duration": 8,
    "start_time": "2024-03-14T21:53:35.068Z"
   },
   {
    "duration": 17,
    "start_time": "2024-03-14T21:53:35.078Z"
   },
   {
    "duration": 6854,
    "start_time": "2024-03-14T21:53:35.097Z"
   },
   {
    "duration": 8,
    "start_time": "2024-03-14T21:53:41.953Z"
   },
   {
    "duration": 46,
    "start_time": "2024-03-14T21:53:41.963Z"
   },
   {
    "duration": 51,
    "start_time": "2024-03-14T21:53:42.011Z"
   },
   {
    "duration": 3,
    "start_time": "2024-03-14T21:53:42.064Z"
   },
   {
    "duration": 32,
    "start_time": "2024-03-14T21:53:42.069Z"
   },
   {
    "duration": 51,
    "start_time": "2024-03-14T21:53:42.102Z"
   },
   {
    "duration": 36,
    "start_time": "2024-03-14T21:53:42.154Z"
   },
   {
    "duration": 44,
    "start_time": "2024-03-14T21:53:42.192Z"
   },
   {
    "duration": 18,
    "start_time": "2024-03-14T21:53:42.238Z"
   },
   {
    "duration": 19,
    "start_time": "2024-03-14T21:53:42.257Z"
   },
   {
    "duration": 327,
    "start_time": "2024-03-14T21:53:42.277Z"
   },
   {
    "duration": 378,
    "start_time": "2024-03-14T21:53:42.607Z"
   },
   {
    "duration": 5161,
    "start_time": "2024-03-14T21:53:42.986Z"
   },
   {
    "duration": 3587,
    "start_time": "2024-03-14T21:53:48.149Z"
   },
   {
    "duration": 377,
    "start_time": "2024-03-14T21:53:51.737Z"
   },
   {
    "duration": 516,
    "start_time": "2024-03-14T21:53:52.115Z"
   },
   {
    "duration": 784,
    "start_time": "2024-03-14T21:53:52.632Z"
   },
   {
    "duration": 553,
    "start_time": "2024-03-14T21:53:53.418Z"
   },
   {
    "duration": 337,
    "start_time": "2024-03-14T21:53:53.972Z"
   },
   {
    "duration": 274,
    "start_time": "2024-03-14T21:53:54.311Z"
   },
   {
    "duration": 322,
    "start_time": "2024-03-14T21:53:54.587Z"
   },
   {
    "duration": 391,
    "start_time": "2024-03-14T21:53:54.910Z"
   },
   {
    "duration": 69,
    "start_time": "2024-03-14T21:53:55.302Z"
   },
   {
    "duration": 787,
    "start_time": "2024-03-14T21:53:55.373Z"
   },
   {
    "duration": 5,
    "start_time": "2024-03-14T21:53:56.161Z"
   },
   {
    "duration": 11,
    "start_time": "2024-03-14T21:53:56.167Z"
   },
   {
    "duration": 5,
    "start_time": "2024-03-14T21:53:56.179Z"
   },
   {
    "duration": 11,
    "start_time": "2024-03-14T21:53:56.185Z"
   },
   {
    "duration": 5,
    "start_time": "2024-03-14T21:53:56.197Z"
   },
   {
    "duration": 12,
    "start_time": "2024-03-14T21:53:56.203Z"
   },
   {
    "duration": 38,
    "start_time": "2024-03-14T21:53:56.216Z"
   },
   {
    "duration": 6,
    "start_time": "2024-03-14T21:53:56.255Z"
   },
   {
    "duration": 9,
    "start_time": "2024-03-14T21:55:45.113Z"
   },
   {
    "duration": 8,
    "start_time": "2024-03-14T21:55:54.216Z"
   },
   {
    "duration": 8,
    "start_time": "2024-03-14T21:56:01.466Z"
   },
   {
    "duration": 20,
    "start_time": "2024-03-14T21:56:55.628Z"
   },
   {
    "duration": 6,
    "start_time": "2024-03-14T21:57:17.844Z"
   },
   {
    "duration": 90,
    "start_time": "2024-03-14T21:58:11.001Z"
   },
   {
    "duration": 17,
    "start_time": "2024-03-14T21:58:18.460Z"
   },
   {
    "duration": 4914,
    "start_time": "2024-03-14T21:58:58.530Z"
   },
   {
    "duration": 1106,
    "start_time": "2024-03-14T21:59:03.446Z"
   },
   {
    "duration": 40,
    "start_time": "2024-03-14T21:59:04.554Z"
   },
   {
    "duration": 34,
    "start_time": "2024-03-14T21:59:04.596Z"
   },
   {
    "duration": 3,
    "start_time": "2024-03-14T21:59:04.631Z"
   },
   {
    "duration": 10,
    "start_time": "2024-03-14T21:59:04.635Z"
   },
   {
    "duration": 5,
    "start_time": "2024-03-14T21:59:04.646Z"
   },
   {
    "duration": 18,
    "start_time": "2024-03-14T21:59:04.652Z"
   },
   {
    "duration": 12,
    "start_time": "2024-03-14T21:59:04.671Z"
   },
   {
    "duration": 6,
    "start_time": "2024-03-14T21:59:04.685Z"
   },
   {
    "duration": 9,
    "start_time": "2024-03-14T21:59:04.692Z"
   },
   {
    "duration": 20,
    "start_time": "2024-03-14T21:59:04.702Z"
   },
   {
    "duration": 37,
    "start_time": "2024-03-14T21:59:04.723Z"
   },
   {
    "duration": 7,
    "start_time": "2024-03-14T21:59:04.761Z"
   },
   {
    "duration": 31,
    "start_time": "2024-03-14T21:59:04.769Z"
   },
   {
    "duration": 6651,
    "start_time": "2024-03-14T21:59:04.801Z"
   },
   {
    "duration": 7,
    "start_time": "2024-03-14T21:59:11.454Z"
   },
   {
    "duration": 4,
    "start_time": "2024-03-14T21:59:11.462Z"
   },
   {
    "duration": 21,
    "start_time": "2024-03-14T21:59:11.467Z"
   },
   {
    "duration": 3,
    "start_time": "2024-03-14T21:59:11.490Z"
   },
   {
    "duration": 11,
    "start_time": "2024-03-14T21:59:11.495Z"
   },
   {
    "duration": 36,
    "start_time": "2024-03-14T21:59:11.508Z"
   },
   {
    "duration": 6,
    "start_time": "2024-03-14T21:59:11.545Z"
   },
   {
    "duration": 7,
    "start_time": "2024-03-14T21:59:11.552Z"
   },
   {
    "duration": 4,
    "start_time": "2024-03-14T21:59:11.560Z"
   },
   {
    "duration": 4,
    "start_time": "2024-03-14T21:59:11.565Z"
   },
   {
    "duration": 312,
    "start_time": "2024-03-14T21:59:11.570Z"
   },
   {
    "duration": 376,
    "start_time": "2024-03-14T21:59:11.885Z"
   },
   {
    "duration": 5148,
    "start_time": "2024-03-14T21:59:12.263Z"
   },
   {
    "duration": 3795,
    "start_time": "2024-03-14T21:59:17.412Z"
   },
   {
    "duration": 407,
    "start_time": "2024-03-14T21:59:21.209Z"
   },
   {
    "duration": 519,
    "start_time": "2024-03-14T21:59:21.618Z"
   },
   {
    "duration": 864,
    "start_time": "2024-03-14T21:59:22.138Z"
   },
   {
    "duration": 551,
    "start_time": "2024-03-14T21:59:23.004Z"
   },
   {
    "duration": 356,
    "start_time": "2024-03-14T21:59:23.556Z"
   },
   {
    "duration": 280,
    "start_time": "2024-03-14T21:59:23.913Z"
   },
   {
    "duration": 313,
    "start_time": "2024-03-14T21:59:24.194Z"
   },
   {
    "duration": 417,
    "start_time": "2024-03-14T21:59:24.509Z"
   },
   {
    "duration": 57,
    "start_time": "2024-03-14T21:59:24.928Z"
   },
   {
    "duration": 823,
    "start_time": "2024-03-14T21:59:24.986Z"
   },
   {
    "duration": 4,
    "start_time": "2024-03-14T21:59:25.811Z"
   },
   {
    "duration": 29,
    "start_time": "2024-03-14T21:59:25.816Z"
   },
   {
    "duration": 9,
    "start_time": "2024-03-14T21:59:25.847Z"
   },
   {
    "duration": 30,
    "start_time": "2024-03-14T21:59:25.857Z"
   },
   {
    "duration": 8,
    "start_time": "2024-03-14T21:59:25.888Z"
   },
   {
    "duration": 19,
    "start_time": "2024-03-14T21:59:25.898Z"
   },
   {
    "duration": 35,
    "start_time": "2024-03-14T21:59:25.919Z"
   },
   {
    "duration": 23,
    "start_time": "2024-03-14T21:59:25.955Z"
   },
   {
    "duration": 42,
    "start_time": "2024-03-14T21:59:25.982Z"
   },
   {
    "duration": 3,
    "start_time": "2024-03-14T21:59:49.274Z"
   },
   {
    "duration": 37,
    "start_time": "2024-03-14T21:59:51.291Z"
   },
   {
    "duration": 35,
    "start_time": "2024-03-14T21:59:59.487Z"
   },
   {
    "duration": 3,
    "start_time": "2024-03-14T22:00:03.347Z"
   },
   {
    "duration": 5,
    "start_time": "2024-03-14T22:00:05.449Z"
   },
   {
    "duration": 7,
    "start_time": "2024-03-14T22:00:07.404Z"
   },
   {
    "duration": 17,
    "start_time": "2024-03-14T22:00:08.880Z"
   },
   {
    "duration": 6,
    "start_time": "2024-03-14T22:00:11.938Z"
   },
   {
    "duration": 9,
    "start_time": "2024-03-14T22:00:14.710Z"
   },
   {
    "duration": 8,
    "start_time": "2024-03-14T22:00:17.019Z"
   },
   {
    "duration": 18,
    "start_time": "2024-03-14T22:00:18.443Z"
   },
   {
    "duration": 17,
    "start_time": "2024-03-14T22:00:21.165Z"
   },
   {
    "duration": 7,
    "start_time": "2024-03-14T22:00:24.739Z"
   },
   {
    "duration": 71,
    "start_time": "2024-03-14T22:07:12.416Z"
   },
   {
    "duration": 108,
    "start_time": "2024-03-14T22:07:18.603Z"
   },
   {
    "duration": 18,
    "start_time": "2024-03-14T22:07:31.792Z"
   },
   {
    "duration": 5,
    "start_time": "2024-03-14T22:07:47.432Z"
   },
   {
    "duration": 4,
    "start_time": "2024-03-14T22:15:32.974Z"
   },
   {
    "duration": 397,
    "start_time": "2024-03-14T22:15:42.572Z"
   },
   {
    "duration": 19,
    "start_time": "2024-03-14T22:16:02.218Z"
   },
   {
    "duration": 315,
    "start_time": "2024-03-14T22:16:12.534Z"
   },
   {
    "duration": 305,
    "start_time": "2024-03-14T22:16:15.911Z"
   },
   {
    "duration": 0,
    "start_time": "2024-03-14T22:17:14.563Z"
   },
   {
    "duration": 0,
    "start_time": "2024-03-14T22:17:14.564Z"
   },
   {
    "duration": 318,
    "start_time": "2024-03-14T22:17:21.371Z"
   },
   {
    "duration": 281,
    "start_time": "2024-03-14T22:17:57.765Z"
   },
   {
    "duration": 4528,
    "start_time": "2024-03-14T22:18:36.718Z"
   },
   {
    "duration": 1411,
    "start_time": "2024-03-14T22:18:41.248Z"
   },
   {
    "duration": 42,
    "start_time": "2024-03-14T22:18:42.660Z"
   },
   {
    "duration": 68,
    "start_time": "2024-03-14T22:18:42.704Z"
   },
   {
    "duration": 3,
    "start_time": "2024-03-14T22:18:42.773Z"
   },
   {
    "duration": 13,
    "start_time": "2024-03-14T22:18:42.777Z"
   },
   {
    "duration": 57,
    "start_time": "2024-03-14T22:18:42.792Z"
   },
   {
    "duration": 23,
    "start_time": "2024-03-14T22:18:42.851Z"
   },
   {
    "duration": 6,
    "start_time": "2024-03-14T22:18:42.875Z"
   },
   {
    "duration": 62,
    "start_time": "2024-03-14T22:18:42.883Z"
   },
   {
    "duration": 9,
    "start_time": "2024-03-14T22:18:42.947Z"
   },
   {
    "duration": 25,
    "start_time": "2024-03-14T22:18:42.957Z"
   },
   {
    "duration": 75,
    "start_time": "2024-03-14T22:18:42.984Z"
   },
   {
    "duration": 625,
    "start_time": "2024-03-14T22:18:43.061Z"
   },
   {
    "duration": 7,
    "start_time": "2024-03-14T22:18:43.687Z"
   },
   {
    "duration": 26,
    "start_time": "2024-03-14T22:18:43.695Z"
   },
   {
    "duration": 7252,
    "start_time": "2024-03-14T22:18:43.722Z"
   },
   {
    "duration": 8,
    "start_time": "2024-03-14T22:18:50.975Z"
   },
   {
    "duration": 22,
    "start_time": "2024-03-14T22:18:50.984Z"
   },
   {
    "duration": 24,
    "start_time": "2024-03-14T22:18:51.008Z"
   },
   {
    "duration": 3,
    "start_time": "2024-03-14T22:18:51.033Z"
   },
   {
    "duration": 25,
    "start_time": "2024-03-14T22:18:51.037Z"
   },
   {
    "duration": 18,
    "start_time": "2024-03-14T22:18:51.064Z"
   },
   {
    "duration": 38,
    "start_time": "2024-03-14T22:18:51.083Z"
   },
   {
    "duration": 23,
    "start_time": "2024-03-14T22:18:51.123Z"
   },
   {
    "duration": 7,
    "start_time": "2024-03-14T22:18:51.147Z"
   },
   {
    "duration": 11,
    "start_time": "2024-03-14T22:18:51.155Z"
   },
   {
    "duration": 344,
    "start_time": "2024-03-14T22:18:51.169Z"
   },
   {
    "duration": 419,
    "start_time": "2024-03-14T22:18:51.515Z"
   },
   {
    "duration": 5659,
    "start_time": "2024-03-14T22:18:51.936Z"
   },
   {
    "duration": 4101,
    "start_time": "2024-03-14T22:18:57.597Z"
   },
   {
    "duration": 425,
    "start_time": "2024-03-14T22:19:01.699Z"
   },
   {
    "duration": 520,
    "start_time": "2024-03-14T22:19:02.125Z"
   },
   {
    "duration": 937,
    "start_time": "2024-03-14T22:19:02.646Z"
   },
   {
    "duration": 603,
    "start_time": "2024-03-14T22:19:03.584Z"
   },
   {
    "duration": 325,
    "start_time": "2024-03-14T22:19:04.189Z"
   },
   {
    "duration": 344,
    "start_time": "2024-03-14T22:19:04.515Z"
   },
   {
    "duration": 347,
    "start_time": "2024-03-14T22:19:04.860Z"
   },
   {
    "duration": 436,
    "start_time": "2024-03-14T22:19:05.209Z"
   },
   {
    "duration": 59,
    "start_time": "2024-03-14T22:19:05.647Z"
   },
   {
    "duration": 851,
    "start_time": "2024-03-14T22:19:05.707Z"
   },
   {
    "duration": 5,
    "start_time": "2024-03-14T22:19:06.560Z"
   },
   {
    "duration": 9,
    "start_time": "2024-03-14T22:19:06.567Z"
   },
   {
    "duration": 5,
    "start_time": "2024-03-14T22:19:06.578Z"
   },
   {
    "duration": 13,
    "start_time": "2024-03-14T22:19:06.585Z"
   },
   {
    "duration": 5,
    "start_time": "2024-03-14T22:19:06.600Z"
   },
   {
    "duration": 45,
    "start_time": "2024-03-14T22:19:06.607Z"
   },
   {
    "duration": 17,
    "start_time": "2024-03-14T22:19:06.654Z"
   },
   {
    "duration": 11,
    "start_time": "2024-03-14T22:19:06.673Z"
   },
   {
    "duration": 5138,
    "start_time": "2024-03-14T22:19:11.294Z"
   },
   {
    "duration": 1170,
    "start_time": "2024-03-14T22:19:16.434Z"
   },
   {
    "duration": 44,
    "start_time": "2024-03-14T22:19:17.605Z"
   },
   {
    "duration": 38,
    "start_time": "2024-03-14T22:19:17.651Z"
   },
   {
    "duration": 4,
    "start_time": "2024-03-14T22:19:17.691Z"
   },
   {
    "duration": 20,
    "start_time": "2024-03-14T22:19:17.697Z"
   },
   {
    "duration": 23,
    "start_time": "2024-03-14T22:19:17.719Z"
   },
   {
    "duration": 22,
    "start_time": "2024-03-14T22:19:17.743Z"
   },
   {
    "duration": 6,
    "start_time": "2024-03-14T22:19:17.767Z"
   },
   {
    "duration": 6,
    "start_time": "2024-03-14T22:19:17.775Z"
   },
   {
    "duration": 41,
    "start_time": "2024-03-14T22:19:17.782Z"
   },
   {
    "duration": 29,
    "start_time": "2024-03-14T22:19:17.825Z"
   },
   {
    "duration": 31,
    "start_time": "2024-03-14T22:19:17.855Z"
   },
   {
    "duration": 365,
    "start_time": "2024-03-14T22:19:17.887Z"
   },
   {
    "duration": 7,
    "start_time": "2024-03-14T22:19:18.254Z"
   },
   {
    "duration": 20,
    "start_time": "2024-03-14T22:19:18.262Z"
   },
   {
    "duration": 8643,
    "start_time": "2024-03-14T22:19:18.284Z"
   },
   {
    "duration": 17,
    "start_time": "2024-03-14T22:19:26.929Z"
   },
   {
    "duration": 5,
    "start_time": "2024-03-14T22:19:26.948Z"
   },
   {
    "duration": 22,
    "start_time": "2024-03-14T22:19:26.955Z"
   },
   {
    "duration": 4,
    "start_time": "2024-03-14T22:19:26.978Z"
   },
   {
    "duration": 17,
    "start_time": "2024-03-14T22:19:26.983Z"
   },
   {
    "duration": 8,
    "start_time": "2024-03-14T22:19:27.002Z"
   },
   {
    "duration": 35,
    "start_time": "2024-03-14T22:19:27.011Z"
   },
   {
    "duration": 12,
    "start_time": "2024-03-14T22:19:27.048Z"
   },
   {
    "duration": 14,
    "start_time": "2024-03-14T22:19:27.062Z"
   },
   {
    "duration": 16,
    "start_time": "2024-03-14T22:19:27.077Z"
   },
   {
    "duration": 373,
    "start_time": "2024-03-14T22:19:27.097Z"
   },
   {
    "duration": 494,
    "start_time": "2024-03-14T22:19:27.472Z"
   },
   {
    "duration": 5820,
    "start_time": "2024-03-14T22:19:27.968Z"
   },
   {
    "duration": 4200,
    "start_time": "2024-03-14T22:19:33.789Z"
   },
   {
    "duration": 433,
    "start_time": "2024-03-14T22:19:37.991Z"
   },
   {
    "duration": 545,
    "start_time": "2024-03-14T22:19:38.426Z"
   },
   {
    "duration": 927,
    "start_time": "2024-03-14T22:19:38.972Z"
   },
   {
    "duration": 637,
    "start_time": "2024-03-14T22:19:39.901Z"
   },
   {
    "duration": 387,
    "start_time": "2024-03-14T22:19:40.540Z"
   },
   {
    "duration": 362,
    "start_time": "2024-03-14T22:19:40.929Z"
   },
   {
    "duration": 332,
    "start_time": "2024-03-14T22:19:41.293Z"
   },
   {
    "duration": 420,
    "start_time": "2024-03-14T22:19:41.627Z"
   },
   {
    "duration": 59,
    "start_time": "2024-03-14T22:19:42.049Z"
   },
   {
    "duration": 845,
    "start_time": "2024-03-14T22:19:42.110Z"
   },
   {
    "duration": 6,
    "start_time": "2024-03-14T22:19:42.957Z"
   },
   {
    "duration": 9,
    "start_time": "2024-03-14T22:19:42.964Z"
   },
   {
    "duration": 5,
    "start_time": "2024-03-14T22:19:42.975Z"
   },
   {
    "duration": 10,
    "start_time": "2024-03-14T22:19:42.981Z"
   },
   {
    "duration": 5,
    "start_time": "2024-03-14T22:19:42.993Z"
   },
   {
    "duration": 15,
    "start_time": "2024-03-14T22:19:42.999Z"
   },
   {
    "duration": 15,
    "start_time": "2024-03-14T22:19:43.044Z"
   },
   {
    "duration": 5,
    "start_time": "2024-03-14T22:19:43.061Z"
   },
   {
    "duration": 8,
    "start_time": "2024-03-14T22:25:35.355Z"
   },
   {
    "duration": 363,
    "start_time": "2024-03-14T22:26:05.757Z"
   },
   {
    "duration": 452,
    "start_time": "2024-03-14T22:26:30.323Z"
   },
   {
    "duration": 377,
    "start_time": "2024-03-14T22:26:35.574Z"
   },
   {
    "duration": 359,
    "start_time": "2024-03-14T22:26:42.489Z"
   },
   {
    "duration": 366,
    "start_time": "2024-03-14T22:26:49.642Z"
   },
   {
    "duration": 357,
    "start_time": "2024-03-14T22:27:01.819Z"
   },
   {
    "duration": 4406,
    "start_time": "2024-03-14T22:27:06.102Z"
   },
   {
    "duration": 1464,
    "start_time": "2024-03-14T22:27:10.511Z"
   },
   {
    "duration": 72,
    "start_time": "2024-03-14T22:27:11.977Z"
   },
   {
    "duration": 34,
    "start_time": "2024-03-14T22:27:12.051Z"
   },
   {
    "duration": 3,
    "start_time": "2024-03-14T22:27:12.086Z"
   },
   {
    "duration": 5,
    "start_time": "2024-03-14T22:27:12.145Z"
   },
   {
    "duration": 5,
    "start_time": "2024-03-14T22:27:12.151Z"
   },
   {
    "duration": 19,
    "start_time": "2024-03-14T22:27:12.157Z"
   },
   {
    "duration": 5,
    "start_time": "2024-03-14T22:27:12.177Z"
   },
   {
    "duration": 61,
    "start_time": "2024-03-14T22:27:12.184Z"
   },
   {
    "duration": 7,
    "start_time": "2024-03-14T22:27:12.247Z"
   },
   {
    "duration": 25,
    "start_time": "2024-03-14T22:27:12.255Z"
   },
   {
    "duration": 69,
    "start_time": "2024-03-14T22:27:12.281Z"
   },
   {
    "duration": 425,
    "start_time": "2024-03-14T22:27:12.352Z"
   },
   {
    "duration": 6,
    "start_time": "2024-03-14T22:27:12.779Z"
   },
   {
    "duration": 27,
    "start_time": "2024-03-14T22:27:12.787Z"
   },
   {
    "duration": 6336,
    "start_time": "2024-03-14T22:27:12.816Z"
   },
   {
    "duration": 326,
    "start_time": "2024-03-14T22:27:19.153Z"
   },
   {
    "duration": 6,
    "start_time": "2024-03-14T22:27:19.480Z"
   },
   {
    "duration": 4,
    "start_time": "2024-03-14T22:27:19.487Z"
   },
   {
    "duration": 21,
    "start_time": "2024-03-14T22:27:19.492Z"
   },
   {
    "duration": 3,
    "start_time": "2024-03-14T22:27:19.514Z"
   },
   {
    "duration": 31,
    "start_time": "2024-03-14T22:27:19.518Z"
   },
   {
    "duration": 4,
    "start_time": "2024-03-14T22:27:19.551Z"
   },
   {
    "duration": 6,
    "start_time": "2024-03-14T22:27:19.557Z"
   },
   {
    "duration": 4,
    "start_time": "2024-03-14T22:27:19.565Z"
   },
   {
    "duration": 13,
    "start_time": "2024-03-14T22:27:19.570Z"
   },
   {
    "duration": 8,
    "start_time": "2024-03-14T22:27:19.586Z"
   },
   {
    "duration": 326,
    "start_time": "2024-03-14T22:27:19.595Z"
   },
   {
    "duration": 408,
    "start_time": "2024-03-14T22:27:19.923Z"
   },
   {
    "duration": 5905,
    "start_time": "2024-03-14T22:27:20.332Z"
   },
   {
    "duration": 3731,
    "start_time": "2024-03-14T22:27:26.239Z"
   },
   {
    "duration": 404,
    "start_time": "2024-03-14T22:27:29.971Z"
   },
   {
    "duration": 507,
    "start_time": "2024-03-14T22:27:30.376Z"
   },
   {
    "duration": 872,
    "start_time": "2024-03-14T22:27:30.885Z"
   },
   {
    "duration": 595,
    "start_time": "2024-03-14T22:27:31.759Z"
   },
   {
    "duration": 344,
    "start_time": "2024-03-14T22:27:32.355Z"
   },
   {
    "duration": 291,
    "start_time": "2024-03-14T22:27:32.701Z"
   },
   {
    "duration": 322,
    "start_time": "2024-03-14T22:27:32.994Z"
   },
   {
    "duration": 338,
    "start_time": "2024-03-14T22:27:33.318Z"
   },
   {
    "duration": 142,
    "start_time": "2024-03-14T22:27:33.658Z"
   },
   {
    "duration": 831,
    "start_time": "2024-03-14T22:27:33.802Z"
   },
   {
    "duration": 12,
    "start_time": "2024-03-14T22:27:34.634Z"
   },
   {
    "duration": 8,
    "start_time": "2024-03-14T22:27:34.647Z"
   },
   {
    "duration": 8,
    "start_time": "2024-03-14T22:27:34.656Z"
   },
   {
    "duration": 8,
    "start_time": "2024-03-14T22:27:34.665Z"
   },
   {
    "duration": 4,
    "start_time": "2024-03-14T22:27:34.674Z"
   },
   {
    "duration": 29,
    "start_time": "2024-03-14T22:27:34.680Z"
   },
   {
    "duration": 23,
    "start_time": "2024-03-14T22:27:34.711Z"
   },
   {
    "duration": 13,
    "start_time": "2024-03-14T22:27:34.735Z"
   },
   {
    "duration": 5011,
    "start_time": "2024-03-14T22:27:59.014Z"
   },
   {
    "duration": 1144,
    "start_time": "2024-03-14T22:28:04.027Z"
   },
   {
    "duration": 41,
    "start_time": "2024-03-14T22:28:05.173Z"
   },
   {
    "duration": 35,
    "start_time": "2024-03-14T22:28:05.216Z"
   },
   {
    "duration": 3,
    "start_time": "2024-03-14T22:28:05.252Z"
   },
   {
    "duration": 8,
    "start_time": "2024-03-14T22:28:05.257Z"
   },
   {
    "duration": 5,
    "start_time": "2024-03-14T22:28:05.266Z"
   },
   {
    "duration": 22,
    "start_time": "2024-03-14T22:28:05.272Z"
   },
   {
    "duration": 5,
    "start_time": "2024-03-14T22:28:05.295Z"
   },
   {
    "duration": 17,
    "start_time": "2024-03-14T22:28:05.303Z"
   },
   {
    "duration": 24,
    "start_time": "2024-03-14T22:28:05.321Z"
   },
   {
    "duration": 16,
    "start_time": "2024-03-14T22:28:05.347Z"
   },
   {
    "duration": 18,
    "start_time": "2024-03-14T22:28:05.365Z"
   },
   {
    "duration": 353,
    "start_time": "2024-03-14T22:28:05.384Z"
   },
   {
    "duration": 12,
    "start_time": "2024-03-14T22:28:05.738Z"
   },
   {
    "duration": 18,
    "start_time": "2024-03-14T22:28:05.751Z"
   },
   {
    "duration": 6302,
    "start_time": "2024-03-14T22:28:05.771Z"
   },
   {
    "duration": 329,
    "start_time": "2024-03-14T22:28:12.075Z"
   },
   {
    "duration": 7,
    "start_time": "2024-03-14T22:28:12.406Z"
   },
   {
    "duration": 8,
    "start_time": "2024-03-14T22:28:12.414Z"
   },
   {
    "duration": 30,
    "start_time": "2024-03-14T22:28:12.424Z"
   },
   {
    "duration": 3,
    "start_time": "2024-03-14T22:28:12.456Z"
   },
   {
    "duration": 17,
    "start_time": "2024-03-14T22:28:12.461Z"
   },
   {
    "duration": 8,
    "start_time": "2024-03-14T22:28:12.479Z"
   },
   {
    "duration": 15,
    "start_time": "2024-03-14T22:28:12.489Z"
   },
   {
    "duration": 5,
    "start_time": "2024-03-14T22:28:12.505Z"
   },
   {
    "duration": 8,
    "start_time": "2024-03-14T22:28:12.511Z"
   },
   {
    "duration": 3,
    "start_time": "2024-03-14T22:28:12.523Z"
   },
   {
    "duration": 332,
    "start_time": "2024-03-14T22:28:12.527Z"
   },
   {
    "duration": 391,
    "start_time": "2024-03-14T22:28:12.860Z"
   },
   {
    "duration": 5189,
    "start_time": "2024-03-14T22:28:13.252Z"
   },
   {
    "duration": 3629,
    "start_time": "2024-03-14T22:28:18.443Z"
   },
   {
    "duration": 372,
    "start_time": "2024-03-14T22:28:22.073Z"
   },
   {
    "duration": 491,
    "start_time": "2024-03-14T22:28:22.446Z"
   },
   {
    "duration": 787,
    "start_time": "2024-03-14T22:28:22.944Z"
   },
   {
    "duration": 573,
    "start_time": "2024-03-14T22:28:23.733Z"
   },
   {
    "duration": 345,
    "start_time": "2024-03-14T22:28:24.307Z"
   },
   {
    "duration": 311,
    "start_time": "2024-03-14T22:28:24.654Z"
   },
   {
    "duration": 335,
    "start_time": "2024-03-14T22:28:24.967Z"
   },
   {
    "duration": 316,
    "start_time": "2024-03-14T22:28:25.304Z"
   },
   {
    "duration": 144,
    "start_time": "2024-03-14T22:28:25.621Z"
   },
   {
    "duration": 788,
    "start_time": "2024-03-14T22:28:25.767Z"
   },
   {
    "duration": 5,
    "start_time": "2024-03-14T22:28:26.557Z"
   },
   {
    "duration": 9,
    "start_time": "2024-03-14T22:28:26.563Z"
   },
   {
    "duration": 5,
    "start_time": "2024-03-14T22:28:26.573Z"
   },
   {
    "duration": 10,
    "start_time": "2024-03-14T22:28:26.579Z"
   },
   {
    "duration": 6,
    "start_time": "2024-03-14T22:28:26.591Z"
   },
   {
    "duration": 12,
    "start_time": "2024-03-14T22:28:26.599Z"
   },
   {
    "duration": 46,
    "start_time": "2024-03-14T22:28:26.613Z"
   },
   {
    "duration": 7,
    "start_time": "2024-03-14T22:28:26.661Z"
   },
   {
    "duration": 4900,
    "start_time": "2024-03-14T22:29:49.766Z"
   },
   {
    "duration": 1095,
    "start_time": "2024-03-14T22:29:54.668Z"
   },
   {
    "duration": 41,
    "start_time": "2024-03-14T22:29:55.764Z"
   },
   {
    "duration": 33,
    "start_time": "2024-03-14T22:29:55.807Z"
   },
   {
    "duration": 3,
    "start_time": "2024-03-14T22:29:55.842Z"
   },
   {
    "duration": 5,
    "start_time": "2024-03-14T22:29:55.847Z"
   },
   {
    "duration": 7,
    "start_time": "2024-03-14T22:29:55.854Z"
   },
   {
    "duration": 17,
    "start_time": "2024-03-14T22:29:55.862Z"
   },
   {
    "duration": 5,
    "start_time": "2024-03-14T22:29:55.880Z"
   },
   {
    "duration": 5,
    "start_time": "2024-03-14T22:29:55.887Z"
   },
   {
    "duration": 10,
    "start_time": "2024-03-14T22:29:55.893Z"
   },
   {
    "duration": 44,
    "start_time": "2024-03-14T22:29:55.905Z"
   },
   {
    "duration": 44,
    "start_time": "2024-03-14T22:29:55.951Z"
   },
   {
    "duration": 319,
    "start_time": "2024-03-14T22:29:55.996Z"
   },
   {
    "duration": 7,
    "start_time": "2024-03-14T22:29:56.316Z"
   },
   {
    "duration": 28,
    "start_time": "2024-03-14T22:29:56.324Z"
   },
   {
    "duration": 6311,
    "start_time": "2024-03-14T22:29:56.353Z"
   },
   {
    "duration": 332,
    "start_time": "2024-03-14T22:30:02.665Z"
   },
   {
    "duration": 6,
    "start_time": "2024-03-14T22:30:02.999Z"
   },
   {
    "duration": 26,
    "start_time": "2024-03-14T22:30:03.007Z"
   },
   {
    "duration": 48,
    "start_time": "2024-03-14T22:30:03.034Z"
   },
   {
    "duration": 11,
    "start_time": "2024-03-14T22:30:03.083Z"
   },
   {
    "duration": 34,
    "start_time": "2024-03-14T22:30:03.095Z"
   },
   {
    "duration": 43,
    "start_time": "2024-03-14T22:30:03.131Z"
   },
   {
    "duration": 19,
    "start_time": "2024-03-14T22:30:03.176Z"
   },
   {
    "duration": 34,
    "start_time": "2024-03-14T22:30:03.196Z"
   },
   {
    "duration": 62,
    "start_time": "2024-03-14T22:30:03.232Z"
   },
   {
    "duration": 51,
    "start_time": "2024-03-14T22:30:03.298Z"
   },
   {
    "duration": 365,
    "start_time": "2024-03-14T22:30:03.351Z"
   },
   {
    "duration": 401,
    "start_time": "2024-03-14T22:30:03.717Z"
   },
   {
    "duration": 5384,
    "start_time": "2024-03-14T22:30:04.120Z"
   },
   {
    "duration": 3764,
    "start_time": "2024-03-14T22:30:09.506Z"
   },
   {
    "duration": 403,
    "start_time": "2024-03-14T22:30:13.271Z"
   },
   {
    "duration": 511,
    "start_time": "2024-03-14T22:30:13.676Z"
   },
   {
    "duration": 809,
    "start_time": "2024-03-14T22:30:14.188Z"
   },
   {
    "duration": 611,
    "start_time": "2024-03-14T22:30:14.998Z"
   },
   {
    "duration": 400,
    "start_time": "2024-03-14T22:30:15.610Z"
   },
   {
    "duration": 286,
    "start_time": "2024-03-14T22:30:16.011Z"
   },
   {
    "duration": 369,
    "start_time": "2024-03-14T22:30:16.298Z"
   },
   {
    "duration": 358,
    "start_time": "2024-03-14T22:30:16.669Z"
   },
   {
    "duration": 166,
    "start_time": "2024-03-14T22:30:17.028Z"
   },
   {
    "duration": 857,
    "start_time": "2024-03-14T22:30:17.195Z"
   },
   {
    "duration": 7,
    "start_time": "2024-03-14T22:30:18.053Z"
   },
   {
    "duration": 13,
    "start_time": "2024-03-14T22:30:18.061Z"
   },
   {
    "duration": 12,
    "start_time": "2024-03-14T22:30:18.076Z"
   },
   {
    "duration": 15,
    "start_time": "2024-03-14T22:30:18.089Z"
   },
   {
    "duration": 6,
    "start_time": "2024-03-14T22:30:18.106Z"
   },
   {
    "duration": 37,
    "start_time": "2024-03-14T22:30:18.113Z"
   },
   {
    "duration": 19,
    "start_time": "2024-03-14T22:30:18.152Z"
   },
   {
    "duration": 7,
    "start_time": "2024-03-14T22:30:18.172Z"
   },
   {
    "duration": 482,
    "start_time": "2024-03-14T22:39:35.970Z"
   },
   {
    "duration": 1145,
    "start_time": "2024-03-14T22:44:44.047Z"
   },
   {
    "duration": 4541,
    "start_time": "2024-03-14T22:45:02.048Z"
   },
   {
    "duration": 1101,
    "start_time": "2024-03-14T22:45:06.591Z"
   },
   {
    "duration": 42,
    "start_time": "2024-03-14T22:45:07.694Z"
   },
   {
    "duration": 38,
    "start_time": "2024-03-14T22:45:07.738Z"
   },
   {
    "duration": 4,
    "start_time": "2024-03-14T22:45:07.777Z"
   },
   {
    "duration": 17,
    "start_time": "2024-03-14T22:45:07.782Z"
   },
   {
    "duration": 27,
    "start_time": "2024-03-14T22:45:07.801Z"
   },
   {
    "duration": 22,
    "start_time": "2024-03-14T22:45:07.829Z"
   },
   {
    "duration": 8,
    "start_time": "2024-03-14T22:45:07.853Z"
   },
   {
    "duration": 26,
    "start_time": "2024-03-14T22:45:07.864Z"
   },
   {
    "duration": 22,
    "start_time": "2024-03-14T22:45:07.892Z"
   },
   {
    "duration": 38,
    "start_time": "2024-03-14T22:45:07.915Z"
   },
   {
    "duration": 45,
    "start_time": "2024-03-14T22:45:07.954Z"
   },
   {
    "duration": 343,
    "start_time": "2024-03-14T22:45:08.001Z"
   },
   {
    "duration": 8,
    "start_time": "2024-03-14T22:45:08.346Z"
   },
   {
    "duration": 33,
    "start_time": "2024-03-14T22:45:08.355Z"
   },
   {
    "duration": 338,
    "start_time": "2024-03-14T22:45:08.389Z"
   },
   {
    "duration": 1158,
    "start_time": "2024-03-14T22:45:08.728Z"
   },
   {
    "duration": 0,
    "start_time": "2024-03-14T22:45:09.888Z"
   },
   {
    "duration": 0,
    "start_time": "2024-03-14T22:45:09.889Z"
   },
   {
    "duration": 0,
    "start_time": "2024-03-14T22:45:09.890Z"
   },
   {
    "duration": 0,
    "start_time": "2024-03-14T22:45:09.891Z"
   },
   {
    "duration": 0,
    "start_time": "2024-03-14T22:45:09.893Z"
   },
   {
    "duration": 0,
    "start_time": "2024-03-14T22:45:09.894Z"
   },
   {
    "duration": 0,
    "start_time": "2024-03-14T22:45:09.896Z"
   },
   {
    "duration": 0,
    "start_time": "2024-03-14T22:45:09.897Z"
   },
   {
    "duration": 0,
    "start_time": "2024-03-14T22:45:09.898Z"
   },
   {
    "duration": 0,
    "start_time": "2024-03-14T22:45:09.899Z"
   },
   {
    "duration": 0,
    "start_time": "2024-03-14T22:45:09.901Z"
   },
   {
    "duration": 0,
    "start_time": "2024-03-14T22:45:09.902Z"
   },
   {
    "duration": 0,
    "start_time": "2024-03-14T22:45:09.903Z"
   },
   {
    "duration": 0,
    "start_time": "2024-03-14T22:45:09.905Z"
   },
   {
    "duration": 0,
    "start_time": "2024-03-14T22:45:09.906Z"
   },
   {
    "duration": 0,
    "start_time": "2024-03-14T22:45:09.908Z"
   },
   {
    "duration": 0,
    "start_time": "2024-03-14T22:45:09.909Z"
   },
   {
    "duration": 0,
    "start_time": "2024-03-14T22:45:09.910Z"
   },
   {
    "duration": 0,
    "start_time": "2024-03-14T22:45:09.912Z"
   },
   {
    "duration": 0,
    "start_time": "2024-03-14T22:45:09.913Z"
   },
   {
    "duration": 0,
    "start_time": "2024-03-14T22:45:09.914Z"
   },
   {
    "duration": 0,
    "start_time": "2024-03-14T22:45:09.914Z"
   },
   {
    "duration": 0,
    "start_time": "2024-03-14T22:45:09.915Z"
   },
   {
    "duration": 0,
    "start_time": "2024-03-14T22:45:09.916Z"
   },
   {
    "duration": 0,
    "start_time": "2024-03-14T22:45:09.917Z"
   },
   {
    "duration": 0,
    "start_time": "2024-03-14T22:45:09.918Z"
   },
   {
    "duration": 0,
    "start_time": "2024-03-14T22:45:09.919Z"
   },
   {
    "duration": 4510,
    "start_time": "2024-03-14T22:46:05.191Z"
   },
   {
    "duration": 1073,
    "start_time": "2024-03-14T22:46:09.703Z"
   },
   {
    "duration": 41,
    "start_time": "2024-03-14T22:46:10.778Z"
   },
   {
    "duration": 36,
    "start_time": "2024-03-14T22:46:10.821Z"
   },
   {
    "duration": 3,
    "start_time": "2024-03-14T22:46:10.858Z"
   },
   {
    "duration": 6,
    "start_time": "2024-03-14T22:46:10.862Z"
   },
   {
    "duration": 5,
    "start_time": "2024-03-14T22:46:10.870Z"
   },
   {
    "duration": 18,
    "start_time": "2024-03-14T22:46:10.876Z"
   },
   {
    "duration": 6,
    "start_time": "2024-03-14T22:46:10.895Z"
   },
   {
    "duration": 6,
    "start_time": "2024-03-14T22:46:10.903Z"
   },
   {
    "duration": 10,
    "start_time": "2024-03-14T22:46:10.945Z"
   },
   {
    "duration": 23,
    "start_time": "2024-03-14T22:46:10.956Z"
   },
   {
    "duration": 18,
    "start_time": "2024-03-14T22:46:10.981Z"
   },
   {
    "duration": 365,
    "start_time": "2024-03-14T22:46:11.001Z"
   },
   {
    "duration": 7,
    "start_time": "2024-03-14T22:46:11.368Z"
   },
   {
    "duration": 18,
    "start_time": "2024-03-14T22:46:11.377Z"
   },
   {
    "duration": 349,
    "start_time": "2024-03-14T22:46:11.396Z"
   },
   {
    "duration": 3,
    "start_time": "2024-03-14T22:46:11.746Z"
   },
   {
    "duration": 19,
    "start_time": "2024-03-14T22:46:11.750Z"
   },
   {
    "duration": 48,
    "start_time": "2024-03-14T22:46:11.771Z"
   },
   {
    "duration": 55,
    "start_time": "2024-03-14T22:46:11.821Z"
   },
   {
    "duration": 45,
    "start_time": "2024-03-14T22:46:11.878Z"
   },
   {
    "duration": 44,
    "start_time": "2024-03-14T22:46:11.925Z"
   },
   {
    "duration": 312,
    "start_time": "2024-03-14T22:46:11.970Z"
   },
   {
    "duration": 394,
    "start_time": "2024-03-14T22:46:12.284Z"
   },
   {
    "duration": 5387,
    "start_time": "2024-03-14T22:46:12.679Z"
   },
   {
    "duration": 3834,
    "start_time": "2024-03-14T22:46:18.067Z"
   },
   {
    "duration": 429,
    "start_time": "2024-03-14T22:46:21.904Z"
   },
   {
    "duration": 499,
    "start_time": "2024-03-14T22:46:22.334Z"
   },
   {
    "duration": 838,
    "start_time": "2024-03-14T22:46:22.835Z"
   },
   {
    "duration": 549,
    "start_time": "2024-03-14T22:46:23.674Z"
   },
   {
    "duration": 362,
    "start_time": "2024-03-14T22:46:24.225Z"
   },
   {
    "duration": 385,
    "start_time": "2024-03-14T22:46:24.589Z"
   },
   {
    "duration": 320,
    "start_time": "2024-03-14T22:46:24.975Z"
   },
   {
    "duration": 307,
    "start_time": "2024-03-14T22:46:25.297Z"
   },
   {
    "duration": 69,
    "start_time": "2024-03-14T22:46:25.606Z"
   },
   {
    "duration": 9648,
    "start_time": "2024-03-14T22:46:25.676Z"
   },
   {
    "duration": 5,
    "start_time": "2024-03-14T22:46:35.325Z"
   },
   {
    "duration": 31,
    "start_time": "2024-03-14T22:46:35.331Z"
   },
   {
    "duration": 10,
    "start_time": "2024-03-14T22:46:35.363Z"
   },
   {
    "duration": 11,
    "start_time": "2024-03-14T22:46:35.374Z"
   },
   {
    "duration": 7,
    "start_time": "2024-03-14T22:46:35.386Z"
   },
   {
    "duration": 1264,
    "start_time": "2024-03-14T22:46:35.395Z"
   },
   {
    "duration": 0,
    "start_time": "2024-03-14T22:46:36.661Z"
   },
   {
    "duration": 0,
    "start_time": "2024-03-14T22:46:36.663Z"
   },
   {
    "duration": 16,
    "start_time": "2024-03-14T22:47:16.828Z"
   },
   {
    "duration": 4548,
    "start_time": "2024-03-14T22:47:20.846Z"
   },
   {
    "duration": 1071,
    "start_time": "2024-03-14T22:47:25.396Z"
   },
   {
    "duration": 41,
    "start_time": "2024-03-14T22:47:26.468Z"
   },
   {
    "duration": 35,
    "start_time": "2024-03-14T22:47:26.511Z"
   },
   {
    "duration": 3,
    "start_time": "2024-03-14T22:47:26.548Z"
   },
   {
    "duration": 10,
    "start_time": "2024-03-14T22:47:26.552Z"
   },
   {
    "duration": 5,
    "start_time": "2024-03-14T22:47:26.564Z"
   },
   {
    "duration": 18,
    "start_time": "2024-03-14T22:47:26.570Z"
   },
   {
    "duration": 5,
    "start_time": "2024-03-14T22:47:26.590Z"
   },
   {
    "duration": 14,
    "start_time": "2024-03-14T22:47:26.597Z"
   },
   {
    "duration": 8,
    "start_time": "2024-03-14T22:47:26.612Z"
   },
   {
    "duration": 20,
    "start_time": "2024-03-14T22:47:26.645Z"
   },
   {
    "duration": 16,
    "start_time": "2024-03-14T22:47:26.666Z"
   },
   {
    "duration": 331,
    "start_time": "2024-03-14T22:47:26.683Z"
   },
   {
    "duration": 6,
    "start_time": "2024-03-14T22:47:27.016Z"
   },
   {
    "duration": 28,
    "start_time": "2024-03-14T22:47:27.023Z"
   },
   {
    "duration": 344,
    "start_time": "2024-03-14T22:47:27.052Z"
   },
   {
    "duration": 2,
    "start_time": "2024-03-14T22:47:27.398Z"
   },
   {
    "duration": 21,
    "start_time": "2024-03-14T22:47:27.402Z"
   },
   {
    "duration": 4,
    "start_time": "2024-03-14T22:47:27.424Z"
   },
   {
    "duration": 19,
    "start_time": "2024-03-14T22:47:27.430Z"
   },
   {
    "duration": 5,
    "start_time": "2024-03-14T22:47:27.450Z"
   },
   {
    "duration": 5,
    "start_time": "2024-03-14T22:47:27.456Z"
   },
   {
    "duration": 332,
    "start_time": "2024-03-14T22:47:27.463Z"
   },
   {
    "duration": 384,
    "start_time": "2024-03-14T22:47:27.797Z"
   },
   {
    "duration": 5318,
    "start_time": "2024-03-14T22:47:28.183Z"
   },
   {
    "duration": 3943,
    "start_time": "2024-03-14T22:47:33.503Z"
   },
   {
    "duration": 396,
    "start_time": "2024-03-14T22:47:37.449Z"
   },
   {
    "duration": 484,
    "start_time": "2024-03-14T22:47:37.846Z"
   },
   {
    "duration": 841,
    "start_time": "2024-03-14T22:47:38.332Z"
   },
   {
    "duration": 570,
    "start_time": "2024-03-14T22:47:39.175Z"
   },
   {
    "duration": 350,
    "start_time": "2024-03-14T22:47:39.746Z"
   },
   {
    "duration": 380,
    "start_time": "2024-03-14T22:47:40.098Z"
   },
   {
    "duration": 323,
    "start_time": "2024-03-14T22:47:40.479Z"
   },
   {
    "duration": 316,
    "start_time": "2024-03-14T22:47:40.804Z"
   },
   {
    "duration": 59,
    "start_time": "2024-03-14T22:47:41.145Z"
   },
   {
    "duration": 111,
    "start_time": "2024-03-14T22:47:41.206Z"
   },
   {
    "duration": 0,
    "start_time": "2024-03-14T22:47:41.318Z"
   },
   {
    "duration": 0,
    "start_time": "2024-03-14T22:47:41.319Z"
   },
   {
    "duration": 0,
    "start_time": "2024-03-14T22:47:41.320Z"
   },
   {
    "duration": 0,
    "start_time": "2024-03-14T22:47:41.321Z"
   },
   {
    "duration": 0,
    "start_time": "2024-03-14T22:47:41.322Z"
   },
   {
    "duration": 0,
    "start_time": "2024-03-14T22:47:41.323Z"
   },
   {
    "duration": 0,
    "start_time": "2024-03-14T22:47:41.324Z"
   },
   {
    "duration": 0,
    "start_time": "2024-03-14T22:47:41.325Z"
   },
   {
    "duration": 4484,
    "start_time": "2024-03-14T22:49:01.779Z"
   },
   {
    "duration": 1126,
    "start_time": "2024-03-14T22:49:06.265Z"
   },
   {
    "duration": 42,
    "start_time": "2024-03-14T22:49:07.393Z"
   },
   {
    "duration": 38,
    "start_time": "2024-03-14T22:49:07.437Z"
   },
   {
    "duration": 4,
    "start_time": "2024-03-14T22:49:07.476Z"
   },
   {
    "duration": 8,
    "start_time": "2024-03-14T22:49:07.481Z"
   },
   {
    "duration": 11,
    "start_time": "2024-03-14T22:49:07.490Z"
   },
   {
    "duration": 20,
    "start_time": "2024-03-14T22:49:07.502Z"
   },
   {
    "duration": 26,
    "start_time": "2024-03-14T22:49:07.523Z"
   },
   {
    "duration": 6,
    "start_time": "2024-03-14T22:49:07.552Z"
   },
   {
    "duration": 12,
    "start_time": "2024-03-14T22:49:07.560Z"
   },
   {
    "duration": 16,
    "start_time": "2024-03-14T22:49:07.574Z"
   },
   {
    "duration": 24,
    "start_time": "2024-03-14T22:49:07.592Z"
   },
   {
    "duration": 371,
    "start_time": "2024-03-14T22:49:07.617Z"
   },
   {
    "duration": 8,
    "start_time": "2024-03-14T22:49:07.989Z"
   },
   {
    "duration": 19,
    "start_time": "2024-03-14T22:49:07.998Z"
   },
   {
    "duration": 366,
    "start_time": "2024-03-14T22:49:08.019Z"
   },
   {
    "duration": 3,
    "start_time": "2024-03-14T22:49:08.386Z"
   },
   {
    "duration": 15,
    "start_time": "2024-03-14T22:49:08.391Z"
   },
   {
    "duration": 7,
    "start_time": "2024-03-14T22:49:08.407Z"
   },
   {
    "duration": 7,
    "start_time": "2024-03-14T22:49:08.416Z"
   },
   {
    "duration": 22,
    "start_time": "2024-03-14T22:49:08.424Z"
   },
   {
    "duration": 4,
    "start_time": "2024-03-14T22:49:08.447Z"
   },
   {
    "duration": 354,
    "start_time": "2024-03-14T22:49:08.453Z"
   },
   {
    "duration": 422,
    "start_time": "2024-03-14T22:49:08.809Z"
   },
   {
    "duration": 5446,
    "start_time": "2024-03-14T22:49:09.233Z"
   },
   {
    "duration": 3847,
    "start_time": "2024-03-14T22:49:14.681Z"
   },
   {
    "duration": 407,
    "start_time": "2024-03-14T22:49:18.531Z"
   },
   {
    "duration": 510,
    "start_time": "2024-03-14T22:49:18.945Z"
   },
   {
    "duration": 833,
    "start_time": "2024-03-14T22:49:19.456Z"
   },
   {
    "duration": 608,
    "start_time": "2024-03-14T22:49:20.290Z"
   },
   {
    "duration": 358,
    "start_time": "2024-03-14T22:49:20.900Z"
   },
   {
    "duration": 326,
    "start_time": "2024-03-14T22:49:21.260Z"
   },
   {
    "duration": 441,
    "start_time": "2024-03-14T22:49:21.588Z"
   },
   {
    "duration": 366,
    "start_time": "2024-03-14T22:49:22.031Z"
   },
   {
    "duration": 66,
    "start_time": "2024-03-14T22:49:22.399Z"
   },
   {
    "duration": 110,
    "start_time": "2024-03-14T22:49:22.467Z"
   },
   {
    "duration": 0,
    "start_time": "2024-03-14T22:49:22.579Z"
   },
   {
    "duration": 0,
    "start_time": "2024-03-14T22:49:22.580Z"
   },
   {
    "duration": 0,
    "start_time": "2024-03-14T22:49:22.581Z"
   },
   {
    "duration": 0,
    "start_time": "2024-03-14T22:49:22.582Z"
   },
   {
    "duration": 0,
    "start_time": "2024-03-14T22:49:22.583Z"
   },
   {
    "duration": 0,
    "start_time": "2024-03-14T22:49:22.584Z"
   },
   {
    "duration": 0,
    "start_time": "2024-03-14T22:49:22.585Z"
   },
   {
    "duration": 0,
    "start_time": "2024-03-14T22:49:22.586Z"
   },
   {
    "duration": 651,
    "start_time": "2024-03-14T22:50:24.868Z"
   },
   {
    "duration": 678,
    "start_time": "2024-03-14T22:51:11.276Z"
   },
   {
    "duration": 626,
    "start_time": "2024-03-14T22:51:31.625Z"
   },
   {
    "duration": 4441,
    "start_time": "2024-03-14T23:10:37.682Z"
   },
   {
    "duration": 1161,
    "start_time": "2024-03-14T23:10:42.125Z"
   },
   {
    "duration": 41,
    "start_time": "2024-03-14T23:10:43.287Z"
   },
   {
    "duration": 34,
    "start_time": "2024-03-14T23:10:43.330Z"
   },
   {
    "duration": 3,
    "start_time": "2024-03-14T23:10:43.366Z"
   },
   {
    "duration": 10,
    "start_time": "2024-03-14T23:10:43.370Z"
   },
   {
    "duration": 10,
    "start_time": "2024-03-14T23:10:43.382Z"
   },
   {
    "duration": 29,
    "start_time": "2024-03-14T23:10:43.393Z"
   },
   {
    "duration": 8,
    "start_time": "2024-03-14T23:10:43.423Z"
   },
   {
    "duration": 17,
    "start_time": "2024-03-14T23:10:43.433Z"
   },
   {
    "duration": 9,
    "start_time": "2024-03-14T23:10:43.451Z"
   },
   {
    "duration": 24,
    "start_time": "2024-03-14T23:10:43.461Z"
   },
   {
    "duration": 30,
    "start_time": "2024-03-14T23:10:43.486Z"
   },
   {
    "duration": 353,
    "start_time": "2024-03-14T23:10:43.517Z"
   },
   {
    "duration": 6,
    "start_time": "2024-03-14T23:10:43.873Z"
   },
   {
    "duration": 33,
    "start_time": "2024-03-14T23:10:43.881Z"
   },
   {
    "duration": 318,
    "start_time": "2024-03-14T23:10:43.915Z"
   },
   {
    "duration": 3,
    "start_time": "2024-03-14T23:10:44.234Z"
   },
   {
    "duration": 14,
    "start_time": "2024-03-14T23:10:44.245Z"
   },
   {
    "duration": 4,
    "start_time": "2024-03-14T23:10:44.260Z"
   },
   {
    "duration": 11,
    "start_time": "2024-03-14T23:10:44.265Z"
   },
   {
    "duration": 4,
    "start_time": "2024-03-14T23:10:44.278Z"
   },
   {
    "duration": 3,
    "start_time": "2024-03-14T23:10:44.283Z"
   },
   {
    "duration": 354,
    "start_time": "2024-03-14T23:10:44.287Z"
   },
   {
    "duration": 419,
    "start_time": "2024-03-14T23:10:44.644Z"
   },
   {
    "duration": 5494,
    "start_time": "2024-03-14T23:10:45.064Z"
   },
   {
    "duration": 3959,
    "start_time": "2024-03-14T23:10:50.560Z"
   },
   {
    "duration": 431,
    "start_time": "2024-03-14T23:10:54.522Z"
   },
   {
    "duration": 499,
    "start_time": "2024-03-14T23:10:54.955Z"
   },
   {
    "duration": 855,
    "start_time": "2024-03-14T23:10:55.456Z"
   },
   {
    "duration": 634,
    "start_time": "2024-03-14T23:10:56.312Z"
   },
   {
    "duration": 368,
    "start_time": "2024-03-14T23:10:56.948Z"
   },
   {
    "duration": 439,
    "start_time": "2024-03-14T23:10:57.318Z"
   },
   {
    "duration": 470,
    "start_time": "2024-03-14T23:10:57.758Z"
   },
   {
    "duration": 362,
    "start_time": "2024-03-14T23:10:58.246Z"
   },
   {
    "duration": 68,
    "start_time": "2024-03-14T23:10:58.610Z"
   },
   {
    "duration": 643,
    "start_time": "2024-03-14T23:10:58.679Z"
   },
   {
    "duration": 5,
    "start_time": "2024-03-14T23:10:59.323Z"
   },
   {
    "duration": 19,
    "start_time": "2024-03-14T23:10:59.329Z"
   },
   {
    "duration": 5,
    "start_time": "2024-03-14T23:10:59.349Z"
   },
   {
    "duration": 11,
    "start_time": "2024-03-14T23:10:59.355Z"
   },
   {
    "duration": 5,
    "start_time": "2024-03-14T23:10:59.367Z"
   },
   {
    "duration": 1322,
    "start_time": "2024-03-14T23:10:59.373Z"
   },
   {
    "duration": 0,
    "start_time": "2024-03-14T23:11:00.696Z"
   },
   {
    "duration": 0,
    "start_time": "2024-03-14T23:11:00.698Z"
   },
   {
    "duration": 110,
    "start_time": "2024-03-14T23:31:47.506Z"
   },
   {
    "duration": 126,
    "start_time": "2024-03-14T23:33:47.063Z"
   },
   {
    "duration": 140,
    "start_time": "2024-03-14T23:34:04.165Z"
   },
   {
    "duration": 133,
    "start_time": "2024-03-14T23:34:10.772Z"
   },
   {
    "duration": 143,
    "start_time": "2024-03-14T23:34:17.995Z"
   },
   {
    "duration": 140,
    "start_time": "2024-03-14T23:34:22.773Z"
   },
   {
    "duration": 4,
    "start_time": "2024-03-14T23:35:46.408Z"
   },
   {
    "duration": 4,
    "start_time": "2024-03-14T23:36:35.919Z"
   },
   {
    "duration": 182,
    "start_time": "2024-03-14T23:46:03.231Z"
   },
   {
    "duration": 245,
    "start_time": "2024-03-14T23:46:50.111Z"
   },
   {
    "duration": 163,
    "start_time": "2024-03-14T23:47:01.259Z"
   },
   {
    "duration": 145,
    "start_time": "2024-03-14T23:48:04.823Z"
   },
   {
    "duration": 156,
    "start_time": "2024-03-14T23:48:10.158Z"
   },
   {
    "duration": 171,
    "start_time": "2024-03-14T23:48:38.136Z"
   },
   {
    "duration": 4,
    "start_time": "2024-03-14T23:50:29.776Z"
   },
   {
    "duration": 156,
    "start_time": "2024-03-14T23:54:44.300Z"
   },
   {
    "duration": 1156,
    "start_time": "2024-03-14T23:57:11.330Z"
   },
   {
    "duration": 1137,
    "start_time": "2024-03-14T23:57:24.819Z"
   },
   {
    "duration": 21,
    "start_time": "2024-03-14T23:57:32.843Z"
   },
   {
    "duration": 4386,
    "start_time": "2024-03-14T23:58:08.573Z"
   },
   {
    "duration": 1103,
    "start_time": "2024-03-14T23:58:12.961Z"
   },
   {
    "duration": 40,
    "start_time": "2024-03-14T23:58:14.065Z"
   },
   {
    "duration": 37,
    "start_time": "2024-03-14T23:58:14.107Z"
   },
   {
    "duration": 4,
    "start_time": "2024-03-14T23:58:14.145Z"
   },
   {
    "duration": 6,
    "start_time": "2024-03-14T23:58:14.151Z"
   },
   {
    "duration": 6,
    "start_time": "2024-03-14T23:58:14.159Z"
   },
   {
    "duration": 18,
    "start_time": "2024-03-14T23:58:14.167Z"
   },
   {
    "duration": 6,
    "start_time": "2024-03-14T23:58:14.187Z"
   },
   {
    "duration": 6,
    "start_time": "2024-03-14T23:58:14.196Z"
   },
   {
    "duration": 45,
    "start_time": "2024-03-14T23:58:14.203Z"
   },
   {
    "duration": 17,
    "start_time": "2024-03-14T23:58:14.250Z"
   },
   {
    "duration": 20,
    "start_time": "2024-03-14T23:58:14.268Z"
   },
   {
    "duration": 362,
    "start_time": "2024-03-14T23:58:14.290Z"
   },
   {
    "duration": 7,
    "start_time": "2024-03-14T23:58:14.653Z"
   },
   {
    "duration": 22,
    "start_time": "2024-03-14T23:58:14.661Z"
   },
   {
    "duration": 328,
    "start_time": "2024-03-14T23:58:14.684Z"
   },
   {
    "duration": 2,
    "start_time": "2024-03-14T23:58:15.014Z"
   },
   {
    "duration": 58,
    "start_time": "2024-03-14T23:58:15.018Z"
   },
   {
    "duration": 47,
    "start_time": "2024-03-14T23:58:15.077Z"
   },
   {
    "duration": 52,
    "start_time": "2024-03-14T23:58:15.125Z"
   },
   {
    "duration": 17,
    "start_time": "2024-03-14T23:58:15.179Z"
   },
   {
    "duration": 12,
    "start_time": "2024-03-14T23:58:15.197Z"
   },
   {
    "duration": 339,
    "start_time": "2024-03-14T23:58:15.210Z"
   },
   {
    "duration": 419,
    "start_time": "2024-03-14T23:58:15.551Z"
   },
   {
    "duration": 5318,
    "start_time": "2024-03-14T23:58:15.972Z"
   },
   {
    "duration": 3868,
    "start_time": "2024-03-14T23:58:21.291Z"
   },
   {
    "duration": 434,
    "start_time": "2024-03-14T23:58:25.162Z"
   },
   {
    "duration": 550,
    "start_time": "2024-03-14T23:58:25.597Z"
   },
   {
    "duration": 848,
    "start_time": "2024-03-14T23:58:26.148Z"
   },
   {
    "duration": 611,
    "start_time": "2024-03-14T23:58:26.998Z"
   },
   {
    "duration": 391,
    "start_time": "2024-03-14T23:58:27.610Z"
   },
   {
    "duration": 290,
    "start_time": "2024-03-14T23:58:28.003Z"
   },
   {
    "duration": 424,
    "start_time": "2024-03-14T23:58:28.295Z"
   },
   {
    "duration": 328,
    "start_time": "2024-03-14T23:58:28.721Z"
   },
   {
    "duration": 57,
    "start_time": "2024-03-14T23:58:29.051Z"
   },
   {
    "duration": 647,
    "start_time": "2024-03-14T23:58:29.109Z"
   },
   {
    "duration": 5,
    "start_time": "2024-03-14T23:58:29.758Z"
   },
   {
    "duration": 11,
    "start_time": "2024-03-14T23:58:29.764Z"
   },
   {
    "duration": 169,
    "start_time": "2024-03-14T23:58:29.776Z"
   },
   {
    "duration": 3,
    "start_time": "2024-03-14T23:58:29.947Z"
   },
   {
    "duration": 21,
    "start_time": "2024-03-14T23:58:29.951Z"
   },
   {
    "duration": 11,
    "start_time": "2024-03-14T23:58:29.973Z"
   },
   {
    "duration": 11,
    "start_time": "2024-03-14T23:58:29.985Z"
   },
   {
    "duration": 110,
    "start_time": "2024-03-14T23:58:29.997Z"
   },
   {
    "duration": 0,
    "start_time": "2024-03-14T23:58:30.108Z"
   },
   {
    "duration": 0,
    "start_time": "2024-03-14T23:58:30.109Z"
   },
   {
    "duration": 11,
    "start_time": "2024-03-14T23:59:15.662Z"
   },
   {
    "duration": 12,
    "start_time": "2024-03-14T23:59:33.665Z"
   },
   {
    "duration": 17,
    "start_time": "2024-03-14T23:59:52.420Z"
   },
   {
    "duration": 443,
    "start_time": "2024-03-15T00:02:18.508Z"
   },
   {
    "duration": 442,
    "start_time": "2024-03-15T00:03:13.579Z"
   },
   {
    "duration": 449,
    "start_time": "2024-03-15T00:03:54.198Z"
   },
   {
    "duration": 474,
    "start_time": "2024-03-15T00:04:04.899Z"
   },
   {
    "duration": 629,
    "start_time": "2024-03-15T00:06:13.503Z"
   },
   {
    "duration": 333,
    "start_time": "2024-03-15T00:06:45.732Z"
   },
   {
    "duration": 563,
    "start_time": "2024-03-15T00:06:56.000Z"
   },
   {
    "duration": 300,
    "start_time": "2024-03-15T00:41:18.304Z"
   },
   {
    "duration": 618,
    "start_time": "2024-03-15T00:41:49.318Z"
   },
   {
    "duration": 416,
    "start_time": "2024-03-15T00:51:09.970Z"
   },
   {
    "duration": 404,
    "start_time": "2024-03-15T00:53:03.661Z"
   },
   {
    "duration": 431,
    "start_time": "2024-03-15T00:53:24.730Z"
   },
   {
    "duration": 532,
    "start_time": "2024-03-15T00:53:53.130Z"
   },
   {
    "duration": 309,
    "start_time": "2024-03-15T00:55:19.819Z"
   },
   {
    "duration": 357,
    "start_time": "2024-03-15T00:55:25.855Z"
   },
   {
    "duration": 397,
    "start_time": "2024-03-15T00:55:44.277Z"
   },
   {
    "duration": 528,
    "start_time": "2024-03-15T00:55:53.146Z"
   },
   {
    "duration": 419,
    "start_time": "2024-03-15T00:55:59.739Z"
   },
   {
    "duration": 317,
    "start_time": "2024-03-15T00:56:15.280Z"
   },
   {
    "duration": 319,
    "start_time": "2024-03-15T00:56:24.411Z"
   },
   {
    "duration": 297,
    "start_time": "2024-03-15T00:56:27.612Z"
   },
   {
    "duration": 332,
    "start_time": "2024-03-15T00:56:58.842Z"
   },
   {
    "duration": 294,
    "start_time": "2024-03-15T00:58:27.308Z"
   },
   {
    "duration": 330,
    "start_time": "2024-03-15T01:00:54.979Z"
   },
   {
    "duration": 15,
    "start_time": "2024-03-15T01:01:03.948Z"
   },
   {
    "duration": 5,
    "start_time": "2024-03-15T01:01:27.016Z"
   },
   {
    "duration": 4,
    "start_time": "2024-03-15T01:02:09.243Z"
   },
   {
    "duration": 4,
    "start_time": "2024-03-15T01:02:12.327Z"
   },
   {
    "duration": 23,
    "start_time": "2024-03-15T01:02:23.552Z"
   },
   {
    "duration": 19,
    "start_time": "2024-03-15T01:02:52.592Z"
   },
   {
    "duration": 345,
    "start_time": "2024-03-15T01:03:36.758Z"
   },
   {
    "duration": 283,
    "start_time": "2024-03-15T01:04:52.024Z"
   },
   {
    "duration": 325,
    "start_time": "2024-03-15T01:06:14.422Z"
   },
   {
    "duration": 2234,
    "start_time": "2024-03-15T01:26:10.138Z"
   },
   {
    "duration": 1126,
    "start_time": "2024-03-15T01:26:12.374Z"
   },
   {
    "duration": 40,
    "start_time": "2024-03-15T01:26:13.501Z"
   },
   {
    "duration": 34,
    "start_time": "2024-03-15T01:26:13.543Z"
   },
   {
    "duration": 3,
    "start_time": "2024-03-15T01:26:13.579Z"
   },
   {
    "duration": 16,
    "start_time": "2024-03-15T01:26:13.583Z"
   },
   {
    "duration": 20,
    "start_time": "2024-03-15T01:26:13.600Z"
   },
   {
    "duration": 24,
    "start_time": "2024-03-15T01:26:13.622Z"
   },
   {
    "duration": 13,
    "start_time": "2024-03-15T01:26:13.648Z"
   },
   {
    "duration": 8,
    "start_time": "2024-03-15T01:26:13.663Z"
   },
   {
    "duration": 14,
    "start_time": "2024-03-15T01:26:13.672Z"
   },
   {
    "duration": 30,
    "start_time": "2024-03-15T01:26:13.687Z"
   },
   {
    "duration": 20,
    "start_time": "2024-03-15T01:26:13.718Z"
   },
   {
    "duration": 320,
    "start_time": "2024-03-15T01:26:13.740Z"
   },
   {
    "duration": 7,
    "start_time": "2024-03-15T01:26:14.061Z"
   },
   {
    "duration": 19,
    "start_time": "2024-03-15T01:26:14.070Z"
   },
   {
    "duration": 351,
    "start_time": "2024-03-15T01:26:14.090Z"
   },
   {
    "duration": 3,
    "start_time": "2024-03-15T01:26:14.442Z"
   },
   {
    "duration": 12,
    "start_time": "2024-03-15T01:26:14.446Z"
   },
   {
    "duration": 8,
    "start_time": "2024-03-15T01:26:14.459Z"
   },
   {
    "duration": 7,
    "start_time": "2024-03-15T01:26:14.468Z"
   },
   {
    "duration": 8,
    "start_time": "2024-03-15T01:26:14.476Z"
   },
   {
    "duration": 16,
    "start_time": "2024-03-15T01:26:14.485Z"
   },
   {
    "duration": 347,
    "start_time": "2024-03-15T01:26:14.503Z"
   },
   {
    "duration": 424,
    "start_time": "2024-03-15T01:26:14.851Z"
   },
   {
    "duration": 5335,
    "start_time": "2024-03-15T01:26:15.276Z"
   },
   {
    "duration": 3824,
    "start_time": "2024-03-15T01:26:20.612Z"
   },
   {
    "duration": 403,
    "start_time": "2024-03-15T01:26:24.444Z"
   },
   {
    "duration": 550,
    "start_time": "2024-03-15T01:26:24.849Z"
   },
   {
    "duration": 846,
    "start_time": "2024-03-15T01:26:25.401Z"
   },
   {
    "duration": 579,
    "start_time": "2024-03-15T01:26:26.249Z"
   },
   {
    "duration": 394,
    "start_time": "2024-03-15T01:26:26.830Z"
   },
   {
    "duration": 376,
    "start_time": "2024-03-15T01:26:27.226Z"
   },
   {
    "duration": 352,
    "start_time": "2024-03-15T01:26:27.604Z"
   },
   {
    "duration": 441,
    "start_time": "2024-03-15T01:26:27.957Z"
   },
   {
    "duration": 66,
    "start_time": "2024-03-15T01:26:28.399Z"
   },
   {
    "duration": 688,
    "start_time": "2024-03-15T01:26:28.467Z"
   },
   {
    "duration": 5,
    "start_time": "2024-03-15T01:26:29.156Z"
   },
   {
    "duration": 11,
    "start_time": "2024-03-15T01:26:29.163Z"
   },
   {
    "duration": 162,
    "start_time": "2024-03-15T01:26:29.175Z"
   },
   {
    "duration": 7,
    "start_time": "2024-03-15T01:26:29.339Z"
   },
   {
    "duration": 17,
    "start_time": "2024-03-15T01:26:29.348Z"
   },
   {
    "duration": 6,
    "start_time": "2024-03-15T01:26:29.366Z"
   },
   {
    "duration": 9,
    "start_time": "2024-03-15T01:26:29.373Z"
   },
   {
    "duration": 18,
    "start_time": "2024-03-15T01:26:29.383Z"
   },
   {
    "duration": 1223,
    "start_time": "2024-03-15T01:26:29.402Z"
   },
   {
    "duration": 0,
    "start_time": "2024-03-15T01:26:30.627Z"
   },
   {
    "duration": 15,
    "start_time": "2024-03-15T01:27:07.850Z"
   },
   {
    "duration": 6,
    "start_time": "2024-03-15T01:27:11.328Z"
   },
   {
    "duration": 2229,
    "start_time": "2024-03-15T01:27:20.319Z"
   },
   {
    "duration": 1142,
    "start_time": "2024-03-15T01:27:22.550Z"
   },
   {
    "duration": 41,
    "start_time": "2024-03-15T01:27:23.693Z"
   },
   {
    "duration": 35,
    "start_time": "2024-03-15T01:27:23.736Z"
   },
   {
    "duration": 3,
    "start_time": "2024-03-15T01:27:23.772Z"
   },
   {
    "duration": 21,
    "start_time": "2024-03-15T01:27:23.776Z"
   },
   {
    "duration": 27,
    "start_time": "2024-03-15T01:27:23.799Z"
   },
   {
    "duration": 29,
    "start_time": "2024-03-15T01:27:23.828Z"
   },
   {
    "duration": 6,
    "start_time": "2024-03-15T01:27:23.859Z"
   },
   {
    "duration": 12,
    "start_time": "2024-03-15T01:27:23.868Z"
   },
   {
    "duration": 27,
    "start_time": "2024-03-15T01:27:23.881Z"
   },
   {
    "duration": 36,
    "start_time": "2024-03-15T01:27:23.909Z"
   },
   {
    "duration": 31,
    "start_time": "2024-03-15T01:27:23.946Z"
   },
   {
    "duration": 357,
    "start_time": "2024-03-15T01:27:23.979Z"
   },
   {
    "duration": 12,
    "start_time": "2024-03-15T01:27:24.338Z"
   },
   {
    "duration": 40,
    "start_time": "2024-03-15T01:27:24.352Z"
   },
   {
    "duration": 319,
    "start_time": "2024-03-15T01:27:24.393Z"
   },
   {
    "duration": 3,
    "start_time": "2024-03-15T01:27:24.714Z"
   },
   {
    "duration": 22,
    "start_time": "2024-03-15T01:27:24.718Z"
   },
   {
    "duration": 18,
    "start_time": "2024-03-15T01:27:24.745Z"
   },
   {
    "duration": 32,
    "start_time": "2024-03-15T01:27:24.764Z"
   },
   {
    "duration": 22,
    "start_time": "2024-03-15T01:27:24.798Z"
   },
   {
    "duration": 17,
    "start_time": "2024-03-15T01:27:24.822Z"
   },
   {
    "duration": 342,
    "start_time": "2024-03-15T01:27:24.841Z"
   },
   {
    "duration": 408,
    "start_time": "2024-03-15T01:27:25.185Z"
   },
   {
    "duration": 5241,
    "start_time": "2024-03-15T01:27:25.594Z"
   },
   {
    "duration": 3718,
    "start_time": "2024-03-15T01:27:30.837Z"
   },
   {
    "duration": 389,
    "start_time": "2024-03-15T01:27:34.558Z"
   },
   {
    "duration": 523,
    "start_time": "2024-03-15T01:27:34.948Z"
   },
   {
    "duration": 824,
    "start_time": "2024-03-15T01:27:35.473Z"
   },
   {
    "duration": 563,
    "start_time": "2024-03-15T01:27:36.300Z"
   },
   {
    "duration": 362,
    "start_time": "2024-03-15T01:27:36.865Z"
   },
   {
    "duration": 373,
    "start_time": "2024-03-15T01:27:37.229Z"
   },
   {
    "duration": 299,
    "start_time": "2024-03-15T01:27:37.603Z"
   },
   {
    "duration": 405,
    "start_time": "2024-03-15T01:27:37.903Z"
   },
   {
    "duration": 63,
    "start_time": "2024-03-15T01:27:38.310Z"
   },
   {
    "duration": 678,
    "start_time": "2024-03-15T01:27:38.375Z"
   },
   {
    "duration": 5,
    "start_time": "2024-03-15T01:27:39.054Z"
   },
   {
    "duration": 8,
    "start_time": "2024-03-15T01:27:39.060Z"
   },
   {
    "duration": 161,
    "start_time": "2024-03-15T01:27:39.069Z"
   },
   {
    "duration": 4,
    "start_time": "2024-03-15T01:27:39.232Z"
   },
   {
    "duration": 48,
    "start_time": "2024-03-15T01:27:39.237Z"
   },
   {
    "duration": 21,
    "start_time": "2024-03-15T01:27:39.287Z"
   },
   {
    "duration": 27,
    "start_time": "2024-03-15T01:27:39.309Z"
   },
   {
    "duration": 45,
    "start_time": "2024-03-15T01:27:39.337Z"
   },
   {
    "duration": 46,
    "start_time": "2024-03-15T01:27:39.383Z"
   },
   {
    "duration": 27,
    "start_time": "2024-03-15T01:27:39.431Z"
   }
  ],
  "kernelspec": {
   "display_name": "Python 3 (ipykernel)",
   "language": "python",
   "name": "python3"
  },
  "language_info": {
   "codemirror_mode": {
    "name": "ipython",
    "version": 3
   },
   "file_extension": ".py",
   "mimetype": "text/x-python",
   "name": "python",
   "nbconvert_exporter": "python",
   "pygments_lexer": "ipython3",
   "version": "3.11.9"
  },
  "toc": {
   "base_numbering": 1,
   "nav_menu": {
    "height": "350px",
    "width": "427.734px"
   },
   "number_sections": true,
   "sideBar": true,
   "skip_h1_title": true,
   "title_cell": "Table of Contents",
   "title_sidebar": "Contents",
   "toc_cell": false,
   "toc_position": {
    "height": "calc(100% - 180px)",
    "left": "10px",
    "top": "150px",
    "width": "375.469px"
   },
   "toc_section_display": true,
   "toc_window_display": true
  }
 },
 "nbformat": 4,
 "nbformat_minor": 2
}
