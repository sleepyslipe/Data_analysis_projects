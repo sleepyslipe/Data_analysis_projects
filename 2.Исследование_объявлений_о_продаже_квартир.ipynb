{
 "cells": [
  {
   "cell_type": "markdown",
   "metadata": {},
   "source": [
    "# Исследование объявлений о продаже квартир\n",
    "\n",
    "В вашем распоряжении данные сервиса Яндекс.Недвижимость — архив объявлений о продаже квартир в Санкт-Петербурге и соседних населённых пунктов за несколько лет. Нужно научиться определять рыночную стоимость объектов недвижимости. Ваша задача — установить параметры. Это позволит построить автоматизированную систему: она отследит аномалии и мошенническую деятельность. \n",
    "\n",
    "По каждой квартире на продажу доступны два вида данных. Первые вписаны пользователем, вторые — получены автоматически на основе картографических данных. Например, расстояние до центра, аэропорта, ближайшего парка и водоёма. "
   ]
  },
  {
   "cell_type": "markdown",
   "metadata": {},
   "source": [
    "### Откройте файл с данными и изучите общую информацию. "
   ]
  },
  {
   "cell_type": "code",
   "execution_count": 1,
   "metadata": {},
   "outputs": [],
   "source": [
    "import pandas as pd\n",
    "import matplotlib.pyplot as plt"
   ]
  },
  {
   "cell_type": "code",
   "execution_count": 2,
   "metadata": {},
   "outputs": [
    {
     "data": {
      "text/html": [
       "<div>\n",
       "<style scoped>\n",
       "    .dataframe tbody tr th:only-of-type {\n",
       "        vertical-align: middle;\n",
       "    }\n",
       "\n",
       "    .dataframe tbody tr th {\n",
       "        vertical-align: top;\n",
       "    }\n",
       "\n",
       "    .dataframe thead th {\n",
       "        text-align: right;\n",
       "    }\n",
       "</style>\n",
       "<table border=\"1\" class=\"dataframe\">\n",
       "  <thead>\n",
       "    <tr style=\"text-align: right;\">\n",
       "      <th></th>\n",
       "      <th>total_images</th>\n",
       "      <th>last_price</th>\n",
       "      <th>total_area</th>\n",
       "      <th>first_day_exposition</th>\n",
       "      <th>rooms</th>\n",
       "      <th>ceiling_height</th>\n",
       "      <th>floors_total</th>\n",
       "      <th>living_area</th>\n",
       "      <th>floor</th>\n",
       "      <th>is_apartment</th>\n",
       "      <th>...</th>\n",
       "      <th>kitchen_area</th>\n",
       "      <th>balcony</th>\n",
       "      <th>locality_name</th>\n",
       "      <th>airports_nearest</th>\n",
       "      <th>cityCenters_nearest</th>\n",
       "      <th>parks_around3000</th>\n",
       "      <th>parks_nearest</th>\n",
       "      <th>ponds_around3000</th>\n",
       "      <th>ponds_nearest</th>\n",
       "      <th>days_exposition</th>\n",
       "    </tr>\n",
       "  </thead>\n",
       "  <tbody>\n",
       "    <tr>\n",
       "      <th>0</th>\n",
       "      <td>20</td>\n",
       "      <td>13000000.0</td>\n",
       "      <td>108.00</td>\n",
       "      <td>2019-03-07T00:00:00</td>\n",
       "      <td>3</td>\n",
       "      <td>2.70</td>\n",
       "      <td>16.0</td>\n",
       "      <td>51.0</td>\n",
       "      <td>8</td>\n",
       "      <td>NaN</td>\n",
       "      <td>...</td>\n",
       "      <td>25.00</td>\n",
       "      <td>NaN</td>\n",
       "      <td>Санкт-Петербург</td>\n",
       "      <td>18863.0</td>\n",
       "      <td>16028.0</td>\n",
       "      <td>1.0</td>\n",
       "      <td>482.0</td>\n",
       "      <td>2.0</td>\n",
       "      <td>755.0</td>\n",
       "      <td>NaN</td>\n",
       "    </tr>\n",
       "    <tr>\n",
       "      <th>1</th>\n",
       "      <td>7</td>\n",
       "      <td>3350000.0</td>\n",
       "      <td>40.40</td>\n",
       "      <td>2018-12-04T00:00:00</td>\n",
       "      <td>1</td>\n",
       "      <td>NaN</td>\n",
       "      <td>11.0</td>\n",
       "      <td>18.6</td>\n",
       "      <td>1</td>\n",
       "      <td>NaN</td>\n",
       "      <td>...</td>\n",
       "      <td>11.00</td>\n",
       "      <td>2.0</td>\n",
       "      <td>посёлок Шушары</td>\n",
       "      <td>12817.0</td>\n",
       "      <td>18603.0</td>\n",
       "      <td>0.0</td>\n",
       "      <td>NaN</td>\n",
       "      <td>0.0</td>\n",
       "      <td>NaN</td>\n",
       "      <td>81.0</td>\n",
       "    </tr>\n",
       "    <tr>\n",
       "      <th>2</th>\n",
       "      <td>10</td>\n",
       "      <td>5196000.0</td>\n",
       "      <td>56.00</td>\n",
       "      <td>2015-08-20T00:00:00</td>\n",
       "      <td>2</td>\n",
       "      <td>NaN</td>\n",
       "      <td>5.0</td>\n",
       "      <td>34.3</td>\n",
       "      <td>4</td>\n",
       "      <td>NaN</td>\n",
       "      <td>...</td>\n",
       "      <td>8.30</td>\n",
       "      <td>0.0</td>\n",
       "      <td>Санкт-Петербург</td>\n",
       "      <td>21741.0</td>\n",
       "      <td>13933.0</td>\n",
       "      <td>1.0</td>\n",
       "      <td>90.0</td>\n",
       "      <td>2.0</td>\n",
       "      <td>574.0</td>\n",
       "      <td>558.0</td>\n",
       "    </tr>\n",
       "    <tr>\n",
       "      <th>3</th>\n",
       "      <td>0</td>\n",
       "      <td>64900000.0</td>\n",
       "      <td>159.00</td>\n",
       "      <td>2015-07-24T00:00:00</td>\n",
       "      <td>3</td>\n",
       "      <td>NaN</td>\n",
       "      <td>14.0</td>\n",
       "      <td>NaN</td>\n",
       "      <td>9</td>\n",
       "      <td>NaN</td>\n",
       "      <td>...</td>\n",
       "      <td>NaN</td>\n",
       "      <td>0.0</td>\n",
       "      <td>Санкт-Петербург</td>\n",
       "      <td>28098.0</td>\n",
       "      <td>6800.0</td>\n",
       "      <td>2.0</td>\n",
       "      <td>84.0</td>\n",
       "      <td>3.0</td>\n",
       "      <td>234.0</td>\n",
       "      <td>424.0</td>\n",
       "    </tr>\n",
       "    <tr>\n",
       "      <th>4</th>\n",
       "      <td>2</td>\n",
       "      <td>10000000.0</td>\n",
       "      <td>100.00</td>\n",
       "      <td>2018-06-19T00:00:00</td>\n",
       "      <td>2</td>\n",
       "      <td>3.03</td>\n",
       "      <td>14.0</td>\n",
       "      <td>32.0</td>\n",
       "      <td>13</td>\n",
       "      <td>NaN</td>\n",
       "      <td>...</td>\n",
       "      <td>41.00</td>\n",
       "      <td>NaN</td>\n",
       "      <td>Санкт-Петербург</td>\n",
       "      <td>31856.0</td>\n",
       "      <td>8098.0</td>\n",
       "      <td>2.0</td>\n",
       "      <td>112.0</td>\n",
       "      <td>1.0</td>\n",
       "      <td>48.0</td>\n",
       "      <td>121.0</td>\n",
       "    </tr>\n",
       "    <tr>\n",
       "      <th>...</th>\n",
       "      <td>...</td>\n",
       "      <td>...</td>\n",
       "      <td>...</td>\n",
       "      <td>...</td>\n",
       "      <td>...</td>\n",
       "      <td>...</td>\n",
       "      <td>...</td>\n",
       "      <td>...</td>\n",
       "      <td>...</td>\n",
       "      <td>...</td>\n",
       "      <td>...</td>\n",
       "      <td>...</td>\n",
       "      <td>...</td>\n",
       "      <td>...</td>\n",
       "      <td>...</td>\n",
       "      <td>...</td>\n",
       "      <td>...</td>\n",
       "      <td>...</td>\n",
       "      <td>...</td>\n",
       "      <td>...</td>\n",
       "      <td>...</td>\n",
       "    </tr>\n",
       "    <tr>\n",
       "      <th>23694</th>\n",
       "      <td>9</td>\n",
       "      <td>9700000.0</td>\n",
       "      <td>133.81</td>\n",
       "      <td>2017-03-21T00:00:00</td>\n",
       "      <td>3</td>\n",
       "      <td>3.70</td>\n",
       "      <td>5.0</td>\n",
       "      <td>73.3</td>\n",
       "      <td>3</td>\n",
       "      <td>NaN</td>\n",
       "      <td>...</td>\n",
       "      <td>13.83</td>\n",
       "      <td>NaN</td>\n",
       "      <td>Санкт-Петербург</td>\n",
       "      <td>24665.0</td>\n",
       "      <td>4232.0</td>\n",
       "      <td>1.0</td>\n",
       "      <td>796.0</td>\n",
       "      <td>3.0</td>\n",
       "      <td>381.0</td>\n",
       "      <td>NaN</td>\n",
       "    </tr>\n",
       "    <tr>\n",
       "      <th>23695</th>\n",
       "      <td>14</td>\n",
       "      <td>3100000.0</td>\n",
       "      <td>59.00</td>\n",
       "      <td>2018-01-15T00:00:00</td>\n",
       "      <td>3</td>\n",
       "      <td>NaN</td>\n",
       "      <td>5.0</td>\n",
       "      <td>38.0</td>\n",
       "      <td>4</td>\n",
       "      <td>NaN</td>\n",
       "      <td>...</td>\n",
       "      <td>8.50</td>\n",
       "      <td>NaN</td>\n",
       "      <td>Тосно</td>\n",
       "      <td>NaN</td>\n",
       "      <td>NaN</td>\n",
       "      <td>NaN</td>\n",
       "      <td>NaN</td>\n",
       "      <td>NaN</td>\n",
       "      <td>NaN</td>\n",
       "      <td>45.0</td>\n",
       "    </tr>\n",
       "    <tr>\n",
       "      <th>23696</th>\n",
       "      <td>18</td>\n",
       "      <td>2500000.0</td>\n",
       "      <td>56.70</td>\n",
       "      <td>2018-02-11T00:00:00</td>\n",
       "      <td>2</td>\n",
       "      <td>NaN</td>\n",
       "      <td>3.0</td>\n",
       "      <td>29.7</td>\n",
       "      <td>1</td>\n",
       "      <td>NaN</td>\n",
       "      <td>...</td>\n",
       "      <td>NaN</td>\n",
       "      <td>NaN</td>\n",
       "      <td>село Рождествено</td>\n",
       "      <td>NaN</td>\n",
       "      <td>NaN</td>\n",
       "      <td>NaN</td>\n",
       "      <td>NaN</td>\n",
       "      <td>NaN</td>\n",
       "      <td>NaN</td>\n",
       "      <td>NaN</td>\n",
       "    </tr>\n",
       "    <tr>\n",
       "      <th>23697</th>\n",
       "      <td>13</td>\n",
       "      <td>11475000.0</td>\n",
       "      <td>76.75</td>\n",
       "      <td>2017-03-28T00:00:00</td>\n",
       "      <td>2</td>\n",
       "      <td>3.00</td>\n",
       "      <td>17.0</td>\n",
       "      <td>NaN</td>\n",
       "      <td>12</td>\n",
       "      <td>NaN</td>\n",
       "      <td>...</td>\n",
       "      <td>23.30</td>\n",
       "      <td>2.0</td>\n",
       "      <td>Санкт-Петербург</td>\n",
       "      <td>39140.0</td>\n",
       "      <td>10364.0</td>\n",
       "      <td>2.0</td>\n",
       "      <td>173.0</td>\n",
       "      <td>3.0</td>\n",
       "      <td>196.0</td>\n",
       "      <td>602.0</td>\n",
       "    </tr>\n",
       "    <tr>\n",
       "      <th>23698</th>\n",
       "      <td>4</td>\n",
       "      <td>1350000.0</td>\n",
       "      <td>32.30</td>\n",
       "      <td>2017-07-21T00:00:00</td>\n",
       "      <td>1</td>\n",
       "      <td>2.50</td>\n",
       "      <td>5.0</td>\n",
       "      <td>12.3</td>\n",
       "      <td>1</td>\n",
       "      <td>NaN</td>\n",
       "      <td>...</td>\n",
       "      <td>9.00</td>\n",
       "      <td>NaN</td>\n",
       "      <td>поселок Новый Учхоз</td>\n",
       "      <td>NaN</td>\n",
       "      <td>NaN</td>\n",
       "      <td>NaN</td>\n",
       "      <td>NaN</td>\n",
       "      <td>NaN</td>\n",
       "      <td>NaN</td>\n",
       "      <td>NaN</td>\n",
       "    </tr>\n",
       "  </tbody>\n",
       "</table>\n",
       "<p>23699 rows × 22 columns</p>\n",
       "</div>"
      ],
      "text/plain": [
       "       total_images  last_price  total_area first_day_exposition  rooms  \\\n",
       "0                20  13000000.0      108.00  2019-03-07T00:00:00      3   \n",
       "1                 7   3350000.0       40.40  2018-12-04T00:00:00      1   \n",
       "2                10   5196000.0       56.00  2015-08-20T00:00:00      2   \n",
       "3                 0  64900000.0      159.00  2015-07-24T00:00:00      3   \n",
       "4                 2  10000000.0      100.00  2018-06-19T00:00:00      2   \n",
       "...             ...         ...         ...                  ...    ...   \n",
       "23694             9   9700000.0      133.81  2017-03-21T00:00:00      3   \n",
       "23695            14   3100000.0       59.00  2018-01-15T00:00:00      3   \n",
       "23696            18   2500000.0       56.70  2018-02-11T00:00:00      2   \n",
       "23697            13  11475000.0       76.75  2017-03-28T00:00:00      2   \n",
       "23698             4   1350000.0       32.30  2017-07-21T00:00:00      1   \n",
       "\n",
       "       ceiling_height  floors_total  living_area  floor is_apartment  ...  \\\n",
       "0                2.70          16.0         51.0      8          NaN  ...   \n",
       "1                 NaN          11.0         18.6      1          NaN  ...   \n",
       "2                 NaN           5.0         34.3      4          NaN  ...   \n",
       "3                 NaN          14.0          NaN      9          NaN  ...   \n",
       "4                3.03          14.0         32.0     13          NaN  ...   \n",
       "...               ...           ...          ...    ...          ...  ...   \n",
       "23694            3.70           5.0         73.3      3          NaN  ...   \n",
       "23695             NaN           5.0         38.0      4          NaN  ...   \n",
       "23696             NaN           3.0         29.7      1          NaN  ...   \n",
       "23697            3.00          17.0          NaN     12          NaN  ...   \n",
       "23698            2.50           5.0         12.3      1          NaN  ...   \n",
       "\n",
       "       kitchen_area  balcony        locality_name  airports_nearest  \\\n",
       "0             25.00      NaN      Санкт-Петербург           18863.0   \n",
       "1             11.00      2.0       посёлок Шушары           12817.0   \n",
       "2              8.30      0.0      Санкт-Петербург           21741.0   \n",
       "3               NaN      0.0      Санкт-Петербург           28098.0   \n",
       "4             41.00      NaN      Санкт-Петербург           31856.0   \n",
       "...             ...      ...                  ...               ...   \n",
       "23694         13.83      NaN      Санкт-Петербург           24665.0   \n",
       "23695          8.50      NaN                Тосно               NaN   \n",
       "23696           NaN      NaN     село Рождествено               NaN   \n",
       "23697         23.30      2.0      Санкт-Петербург           39140.0   \n",
       "23698          9.00      NaN  поселок Новый Учхоз               NaN   \n",
       "\n",
       "      cityCenters_nearest  parks_around3000  parks_nearest  ponds_around3000  \\\n",
       "0                 16028.0               1.0          482.0               2.0   \n",
       "1                 18603.0               0.0            NaN               0.0   \n",
       "2                 13933.0               1.0           90.0               2.0   \n",
       "3                  6800.0               2.0           84.0               3.0   \n",
       "4                  8098.0               2.0          112.0               1.0   \n",
       "...                   ...               ...            ...               ...   \n",
       "23694              4232.0               1.0          796.0               3.0   \n",
       "23695                 NaN               NaN            NaN               NaN   \n",
       "23696                 NaN               NaN            NaN               NaN   \n",
       "23697             10364.0               2.0          173.0               3.0   \n",
       "23698                 NaN               NaN            NaN               NaN   \n",
       "\n",
       "       ponds_nearest  days_exposition  \n",
       "0              755.0              NaN  \n",
       "1                NaN             81.0  \n",
       "2              574.0            558.0  \n",
       "3              234.0            424.0  \n",
       "4               48.0            121.0  \n",
       "...              ...              ...  \n",
       "23694          381.0              NaN  \n",
       "23695            NaN             45.0  \n",
       "23696            NaN              NaN  \n",
       "23697          196.0            602.0  \n",
       "23698            NaN              NaN  \n",
       "\n",
       "[23699 rows x 22 columns]"
      ]
     },
     "metadata": {},
     "output_type": "display_data"
    }
   ],
   "source": [
    "data = pd.read_csv('/datasets/real_estate_data.csv', sep='\\t')\n",
    "display(data)\n",
    "#data.head(20)"
   ]
  },
  {
   "cell_type": "code",
   "execution_count": 3,
   "metadata": {},
   "outputs": [
    {
     "name": "stdout",
     "output_type": "stream",
     "text": [
      "<class 'pandas.core.frame.DataFrame'>\n",
      "RangeIndex: 23699 entries, 0 to 23698\n",
      "Data columns (total 22 columns):\n",
      " #   Column                Non-Null Count  Dtype  \n",
      "---  ------                --------------  -----  \n",
      " 0   total_images          23699 non-null  int64  \n",
      " 1   last_price            23699 non-null  float64\n",
      " 2   total_area            23699 non-null  float64\n",
      " 3   first_day_exposition  23699 non-null  object \n",
      " 4   rooms                 23699 non-null  int64  \n",
      " 5   ceiling_height        14504 non-null  float64\n",
      " 6   floors_total          23613 non-null  float64\n",
      " 7   living_area           21796 non-null  float64\n",
      " 8   floor                 23699 non-null  int64  \n",
      " 9   is_apartment          2775 non-null   object \n",
      " 10  studio                23699 non-null  bool   \n",
      " 11  open_plan             23699 non-null  bool   \n",
      " 12  kitchen_area          21421 non-null  float64\n",
      " 13  balcony               12180 non-null  float64\n",
      " 14  locality_name         23650 non-null  object \n",
      " 15  airports_nearest      18157 non-null  float64\n",
      " 16  cityCenters_nearest   18180 non-null  float64\n",
      " 17  parks_around3000      18181 non-null  float64\n",
      " 18  parks_nearest         8079 non-null   float64\n",
      " 19  ponds_around3000      18181 non-null  float64\n",
      " 20  ponds_nearest         9110 non-null   float64\n",
      " 21  days_exposition       20518 non-null  float64\n",
      "dtypes: bool(2), float64(14), int64(3), object(3)\n",
      "memory usage: 3.7+ MB\n"
     ]
    }
   ],
   "source": [
    "data.info()"
   ]
  },
  {
   "cell_type": "code",
   "execution_count": 4,
   "metadata": {},
   "outputs": [
    {
     "data": {
      "image/png": "[encoded data removed]",
      "text/plain": [
       "<Figure size 1080x1440 with 20 Axes>"
      ]
     },
     "metadata": {
      "needs_background": "light"
     },
     "output_type": "display_data"
    }
   ],
   "source": [
    "data.hist(figsize=(15, 20));"
   ]
  },
  {
   "cell_type": "markdown",
   "metadata": {},
   "source": [
    "После изучения общей информации о данных были выявлены следующие проблемы:\n",
    "1. Пропуски Nan как минимум в столбцах *ceiling_height, is_apartment, balcony, airports_nearest,cityCenters_nearest, parks_around3000, parks_nearest, ponds_around3000, ponds_nearest, days_exposition*.\n",
    "2. Неоптимальный тип данных в некоторый столбцах, например, is_apartment имеет тип object вместо bool.\n",
    "3. Неудобное отображение значений столбца first_day_exposition в виде 2019-03-07T00:00:00, в котором все значения имеют одинаковое время.\n",
    "4. Возможны дубликаты, так как слово \"поселок\" написано по-разному: через букву \"е\" и через букву \"ё\".\n",
    "\n",
    "Следовательно, далее нужно будет:\n",
    "1. Провести работу с пропусками (заполнить/удалить/оставить в зависимости от столбца).\n",
    "2. Изменить типы данных там, где это нужно.\n",
    "3. Изменить данные и их тип в столбце first_day_exposition, оставить только дату.\n",
    "4. Провести работу с дубликатами (найти и заменить неявные дубликаты).\n",
    "5. Исправить/удалить аномальные значения, если они есть."
   ]
  },
  {
   "cell_type": "markdown",
   "metadata": {},
   "source": [
    "### Предобработка данных"
   ]
  },
  {
   "cell_type": "code",
   "execution_count": 5,
   "metadata": {},
   "outputs": [
    {
     "data": {
      "text/plain": [
       "total_images                0\n",
       "last_price                  0\n",
       "total_area                  0\n",
       "first_day_exposition        0\n",
       "rooms                       0\n",
       "ceiling_height           9195\n",
       "floors_total               86\n",
       "living_area              1903\n",
       "floor                       0\n",
       "is_apartment            20924\n",
       "studio                      0\n",
       "open_plan                   0\n",
       "kitchen_area             2278\n",
       "balcony                 11519\n",
       "locality_name              49\n",
       "airports_nearest         5542\n",
       "cityCenters_nearest      5519\n",
       "parks_around3000         5518\n",
       "parks_nearest           15620\n",
       "ponds_around3000         5518\n",
       "ponds_nearest           14589\n",
       "days_exposition          3181\n",
       "dtype: int64"
      ]
     },
     "execution_count": 5,
     "metadata": {},
     "output_type": "execute_result"
    }
   ],
   "source": [
    "data.isnull().sum()"
   ]
  },
  {
   "cell_type": "code",
   "execution_count": 6,
   "metadata": {},
   "outputs": [
    {
     "data": {
      "text/plain": [
       "total_images                         0\n",
       "last_price                           0\n",
       "total_area                           0\n",
       "first_day_exposition                 0\n",
       "rooms                                0\n",
       "ceiling_height                       0\n",
       "floors_total                        86\n",
       "living_area                          0\n",
       "floor                                0\n",
       "is_apartment                         0\n",
       "studio                               0\n",
       "open_plan                            0\n",
       "kitchen_area                         0\n",
       "balcony                              0\n",
       "locality_name                        0\n",
       "airports_nearest                  5542\n",
       "cityCenters_nearest               5519\n",
       "parks_around3000                     0\n",
       "parks_nearest                    15620\n",
       "ponds_around3000                     0\n",
       "ponds_nearest                    14589\n",
       "days_exposition                   3181\n",
       "living_area_percent_of_total      1903\n",
       "kitchen_area_percent_of_total     2278\n",
       "dtype: int64"
      ]
     },
     "execution_count": 6,
     "metadata": {},
     "output_type": "execute_result"
    }
   ],
   "source": [
    "data['ceiling_height'] = data['ceiling_height'].fillna(data['ceiling_height'].median())\n",
    "data['is_apartment'] = data['is_apartment'].fillna(False)\n",
    "data['balcony'] = data['balcony'].fillna(0)\n",
    "data['locality_name'] = data['locality_name'].fillna('Другое')\n",
    "data['parks_around3000'] = data['parks_around3000'].fillna(0)\n",
    "data['ponds_around3000'] = data['ponds_around3000'].fillna(0)\n",
    "\n",
    "data['living_area_percent_of_total'] = data['living_area'] / data['total_area']\n",
    "data['living_area'] = data['living_area'].fillna(data['living_area_percent_of_total'].median()*data['total_area'])\n",
    "\n",
    "data['kitchen_area_percent_of_total'] = data['kitchen_area'] / data['total_area']\n",
    "data['kitchen_area'] = data['kitchen_area'].fillna(data['kitchen_area_percent_of_total'].median()*data['total_area'])\n",
    "\n",
    "data.isnull().sum()\n",
    "\n"
   ]
  },
  {
   "cell_type": "markdown",
   "metadata": {},
   "source": [
    "К пропускам в данных могли привести следующие причины:\n",
    "\n",
    "1) Отсутствие информации (информацию не собрали; собрали, но не внесли);\n",
    "\n",
    "2) Неверный ввод информации (например, при отсутсвии балкона поле не заполнялось)."
   ]
  },
  {
   "cell_type": "markdown",
   "metadata": {},
   "source": [
    "Проанализируем типы данных из общей информации из п.1.\n",
    "\n",
    "Заменим типы следующих столбцов:\n",
    "\n",
    "Название столбца     | Предыдущий тип | Новый тип  | Причина\n",
    ":------------------- | :------------- | :--------- | :------\n",
    "first_day_exposition | object         | datetime64 | в данном столбце исп-ся только даты\n",
    "floors_total         | float64        | int64      | в данном столбце исп-ся только целочисл. значения\n",
    "is_apartment         | object         | bool       | в данном столбце исп-ся только значения True и False\n",
    "balcony              | float64        | int64      | в данном столбце исп-ся только целочисл. значения\n",
    "parks_around3000     | float64        | int64      | в данном столбце исп-ся только целочисл. значения\n",
    "ponds_around3000     | float64        | int64      | в данном столбце исп-ся только целочисл. значения \n",
    "days_exposition      | float64        | int64      | в данном столбце исп-ся только целочисл. значения"
   ]
  },
  {
   "cell_type": "code",
   "execution_count": 7,
   "metadata": {},
   "outputs": [
    {
     "name": "stdout",
     "output_type": "stream",
     "text": [
      "<class 'pandas.core.frame.DataFrame'>\n",
      "RangeIndex: 23699 entries, 0 to 23698\n",
      "Data columns (total 24 columns):\n",
      " #   Column                         Non-Null Count  Dtype  \n",
      "---  ------                         --------------  -----  \n",
      " 0   total_images                   23699 non-null  int64  \n",
      " 1   last_price                     23699 non-null  float64\n",
      " 2   total_area                     23699 non-null  float64\n",
      " 3   first_day_exposition           23699 non-null  object \n",
      " 4   rooms                          23699 non-null  int64  \n",
      " 5   ceiling_height                 23699 non-null  float64\n",
      " 6   floors_total                   23613 non-null  float64\n",
      " 7   living_area                    23699 non-null  float64\n",
      " 8   floor                          23699 non-null  int64  \n",
      " 9   is_apartment                   23699 non-null  bool   \n",
      " 10  studio                         23699 non-null  bool   \n",
      " 11  open_plan                      23699 non-null  bool   \n",
      " 12  kitchen_area                   23699 non-null  float64\n",
      " 13  balcony                        23699 non-null  int64  \n",
      " 14  locality_name                  23699 non-null  object \n",
      " 15  airports_nearest               18157 non-null  float64\n",
      " 16  cityCenters_nearest            18180 non-null  float64\n",
      " 17  parks_around3000               23699 non-null  int64  \n",
      " 18  parks_nearest                  8079 non-null   float64\n",
      " 19  ponds_around3000               23699 non-null  int64  \n",
      " 20  ponds_nearest                  9110 non-null   float64\n",
      " 21  days_exposition                20518 non-null  float64\n",
      " 22  living_area_percent_of_total   21796 non-null  float64\n",
      " 23  kitchen_area_percent_of_total  21421 non-null  float64\n",
      "dtypes: bool(3), float64(13), int64(6), object(2)\n",
      "memory usage: 3.9+ MB\n"
     ]
    }
   ],
   "source": [
    "data = data.astype({\n",
    "    'floors_total': 'int64',\n",
    "    'is_apartment': 'bool',\n",
    "    'balcony': 'int64',                        \n",
    "    'parks_around3000': 'int64',\n",
    "    'ponds_around3000': 'int64',\n",
    "    'days_exposition': 'int64'\n",
    "}, errors='ignore')\n",
    "data.info()"
   ]
  },
  {
   "cell_type": "code",
   "execution_count": 8,
   "metadata": {},
   "outputs": [
    {
     "data": {
      "text/html": [
       "<div>\n",
       "<style scoped>\n",
       "    .dataframe tbody tr th:only-of-type {\n",
       "        vertical-align: middle;\n",
       "    }\n",
       "\n",
       "    .dataframe tbody tr th {\n",
       "        vertical-align: top;\n",
       "    }\n",
       "\n",
       "    .dataframe thead th {\n",
       "        text-align: right;\n",
       "    }\n",
       "</style>\n",
       "<table border=\"1\" class=\"dataframe\">\n",
       "  <thead>\n",
       "    <tr style=\"text-align: right;\">\n",
       "      <th></th>\n",
       "      <th>total_images</th>\n",
       "      <th>last_price</th>\n",
       "      <th>total_area</th>\n",
       "      <th>first_day_exposition</th>\n",
       "      <th>rooms</th>\n",
       "      <th>ceiling_height</th>\n",
       "      <th>floors_total</th>\n",
       "      <th>living_area</th>\n",
       "      <th>floor</th>\n",
       "      <th>is_apartment</th>\n",
       "      <th>...</th>\n",
       "      <th>locality_name</th>\n",
       "      <th>airports_nearest</th>\n",
       "      <th>cityCenters_nearest</th>\n",
       "      <th>parks_around3000</th>\n",
       "      <th>parks_nearest</th>\n",
       "      <th>ponds_around3000</th>\n",
       "      <th>ponds_nearest</th>\n",
       "      <th>days_exposition</th>\n",
       "      <th>living_area_percent_of_total</th>\n",
       "      <th>kitchen_area_percent_of_total</th>\n",
       "    </tr>\n",
       "  </thead>\n",
       "  <tbody>\n",
       "    <tr>\n",
       "      <th>0</th>\n",
       "      <td>20</td>\n",
       "      <td>13000000.0</td>\n",
       "      <td>108.00</td>\n",
       "      <td>2019-03-07</td>\n",
       "      <td>3</td>\n",
       "      <td>2.70</td>\n",
       "      <td>16.0</td>\n",
       "      <td>51.000000</td>\n",
       "      <td>8</td>\n",
       "      <td>False</td>\n",
       "      <td>...</td>\n",
       "      <td>Санкт-Петербург</td>\n",
       "      <td>18863.0</td>\n",
       "      <td>16028.0</td>\n",
       "      <td>1</td>\n",
       "      <td>482.0</td>\n",
       "      <td>2</td>\n",
       "      <td>755.0</td>\n",
       "      <td>NaN</td>\n",
       "      <td>0.472222</td>\n",
       "      <td>0.231481</td>\n",
       "    </tr>\n",
       "    <tr>\n",
       "      <th>1</th>\n",
       "      <td>7</td>\n",
       "      <td>3350000.0</td>\n",
       "      <td>40.40</td>\n",
       "      <td>2018-12-04</td>\n",
       "      <td>1</td>\n",
       "      <td>2.65</td>\n",
       "      <td>11.0</td>\n",
       "      <td>18.600000</td>\n",
       "      <td>1</td>\n",
       "      <td>False</td>\n",
       "      <td>...</td>\n",
       "      <td>посёлок Шушары</td>\n",
       "      <td>12817.0</td>\n",
       "      <td>18603.0</td>\n",
       "      <td>0</td>\n",
       "      <td>NaN</td>\n",
       "      <td>0</td>\n",
       "      <td>NaN</td>\n",
       "      <td>81.0</td>\n",
       "      <td>0.460396</td>\n",
       "      <td>0.272277</td>\n",
       "    </tr>\n",
       "    <tr>\n",
       "      <th>2</th>\n",
       "      <td>10</td>\n",
       "      <td>5196000.0</td>\n",
       "      <td>56.00</td>\n",
       "      <td>2015-08-20</td>\n",
       "      <td>2</td>\n",
       "      <td>2.65</td>\n",
       "      <td>5.0</td>\n",
       "      <td>34.300000</td>\n",
       "      <td>4</td>\n",
       "      <td>False</td>\n",
       "      <td>...</td>\n",
       "      <td>Санкт-Петербург</td>\n",
       "      <td>21741.0</td>\n",
       "      <td>13933.0</td>\n",
       "      <td>1</td>\n",
       "      <td>90.0</td>\n",
       "      <td>2</td>\n",
       "      <td>574.0</td>\n",
       "      <td>558.0</td>\n",
       "      <td>0.612500</td>\n",
       "      <td>0.148214</td>\n",
       "    </tr>\n",
       "    <tr>\n",
       "      <th>3</th>\n",
       "      <td>0</td>\n",
       "      <td>64900000.0</td>\n",
       "      <td>159.00</td>\n",
       "      <td>2015-07-24</td>\n",
       "      <td>3</td>\n",
       "      <td>2.65</td>\n",
       "      <td>14.0</td>\n",
       "      <td>90.289724</td>\n",
       "      <td>9</td>\n",
       "      <td>False</td>\n",
       "      <td>...</td>\n",
       "      <td>Санкт-Петербург</td>\n",
       "      <td>28098.0</td>\n",
       "      <td>6800.0</td>\n",
       "      <td>2</td>\n",
       "      <td>84.0</td>\n",
       "      <td>3</td>\n",
       "      <td>234.0</td>\n",
       "      <td>424.0</td>\n",
       "      <td>NaN</td>\n",
       "      <td>NaN</td>\n",
       "    </tr>\n",
       "    <tr>\n",
       "      <th>4</th>\n",
       "      <td>2</td>\n",
       "      <td>10000000.0</td>\n",
       "      <td>100.00</td>\n",
       "      <td>2018-06-19</td>\n",
       "      <td>2</td>\n",
       "      <td>3.03</td>\n",
       "      <td>14.0</td>\n",
       "      <td>32.000000</td>\n",
       "      <td>13</td>\n",
       "      <td>False</td>\n",
       "      <td>...</td>\n",
       "      <td>Санкт-Петербург</td>\n",
       "      <td>31856.0</td>\n",
       "      <td>8098.0</td>\n",
       "      <td>2</td>\n",
       "      <td>112.0</td>\n",
       "      <td>1</td>\n",
       "      <td>48.0</td>\n",
       "      <td>121.0</td>\n",
       "      <td>0.320000</td>\n",
       "      <td>0.410000</td>\n",
       "    </tr>\n",
       "    <tr>\n",
       "      <th>5</th>\n",
       "      <td>10</td>\n",
       "      <td>2890000.0</td>\n",
       "      <td>30.40</td>\n",
       "      <td>2018-09-10</td>\n",
       "      <td>1</td>\n",
       "      <td>2.65</td>\n",
       "      <td>12.0</td>\n",
       "      <td>14.400000</td>\n",
       "      <td>5</td>\n",
       "      <td>False</td>\n",
       "      <td>...</td>\n",
       "      <td>городской посёлок Янино-1</td>\n",
       "      <td>NaN</td>\n",
       "      <td>NaN</td>\n",
       "      <td>0</td>\n",
       "      <td>NaN</td>\n",
       "      <td>0</td>\n",
       "      <td>NaN</td>\n",
       "      <td>55.0</td>\n",
       "      <td>0.473684</td>\n",
       "      <td>0.299342</td>\n",
       "    </tr>\n",
       "    <tr>\n",
       "      <th>6</th>\n",
       "      <td>6</td>\n",
       "      <td>3700000.0</td>\n",
       "      <td>37.30</td>\n",
       "      <td>2017-11-02</td>\n",
       "      <td>1</td>\n",
       "      <td>2.65</td>\n",
       "      <td>26.0</td>\n",
       "      <td>10.600000</td>\n",
       "      <td>6</td>\n",
       "      <td>False</td>\n",
       "      <td>...</td>\n",
       "      <td>посёлок Парголово</td>\n",
       "      <td>52996.0</td>\n",
       "      <td>19143.0</td>\n",
       "      <td>0</td>\n",
       "      <td>NaN</td>\n",
       "      <td>0</td>\n",
       "      <td>NaN</td>\n",
       "      <td>155.0</td>\n",
       "      <td>0.284182</td>\n",
       "      <td>0.386059</td>\n",
       "    </tr>\n",
       "    <tr>\n",
       "      <th>7</th>\n",
       "      <td>5</td>\n",
       "      <td>7915000.0</td>\n",
       "      <td>71.60</td>\n",
       "      <td>2019-04-18</td>\n",
       "      <td>2</td>\n",
       "      <td>2.65</td>\n",
       "      <td>24.0</td>\n",
       "      <td>40.658769</td>\n",
       "      <td>22</td>\n",
       "      <td>False</td>\n",
       "      <td>...</td>\n",
       "      <td>Санкт-Петербург</td>\n",
       "      <td>23982.0</td>\n",
       "      <td>11634.0</td>\n",
       "      <td>0</td>\n",
       "      <td>NaN</td>\n",
       "      <td>0</td>\n",
       "      <td>NaN</td>\n",
       "      <td>NaN</td>\n",
       "      <td>NaN</td>\n",
       "      <td>0.263966</td>\n",
       "    </tr>\n",
       "    <tr>\n",
       "      <th>8</th>\n",
       "      <td>20</td>\n",
       "      <td>2900000.0</td>\n",
       "      <td>33.16</td>\n",
       "      <td>2018-05-23</td>\n",
       "      <td>1</td>\n",
       "      <td>2.65</td>\n",
       "      <td>27.0</td>\n",
       "      <td>15.430000</td>\n",
       "      <td>26</td>\n",
       "      <td>False</td>\n",
       "      <td>...</td>\n",
       "      <td>посёлок Мурино</td>\n",
       "      <td>NaN</td>\n",
       "      <td>NaN</td>\n",
       "      <td>0</td>\n",
       "      <td>NaN</td>\n",
       "      <td>0</td>\n",
       "      <td>NaN</td>\n",
       "      <td>189.0</td>\n",
       "      <td>0.465320</td>\n",
       "      <td>0.265682</td>\n",
       "    </tr>\n",
       "    <tr>\n",
       "      <th>9</th>\n",
       "      <td>18</td>\n",
       "      <td>5400000.0</td>\n",
       "      <td>61.00</td>\n",
       "      <td>2017-02-26</td>\n",
       "      <td>3</td>\n",
       "      <td>2.50</td>\n",
       "      <td>9.0</td>\n",
       "      <td>43.600000</td>\n",
       "      <td>7</td>\n",
       "      <td>False</td>\n",
       "      <td>...</td>\n",
       "      <td>Санкт-Петербург</td>\n",
       "      <td>50898.0</td>\n",
       "      <td>15008.0</td>\n",
       "      <td>0</td>\n",
       "      <td>NaN</td>\n",
       "      <td>0</td>\n",
       "      <td>NaN</td>\n",
       "      <td>289.0</td>\n",
       "      <td>0.714754</td>\n",
       "      <td>0.106557</td>\n",
       "    </tr>\n",
       "  </tbody>\n",
       "</table>\n",
       "<p>10 rows × 24 columns</p>\n",
       "</div>"
      ],
      "text/plain": [
       "   total_images  last_price  total_area first_day_exposition  rooms  \\\n",
       "0            20  13000000.0      108.00           2019-03-07      3   \n",
       "1             7   3350000.0       40.40           2018-12-04      1   \n",
       "2            10   5196000.0       56.00           2015-08-20      2   \n",
       "3             0  64900000.0      159.00           2015-07-24      3   \n",
       "4             2  10000000.0      100.00           2018-06-19      2   \n",
       "5            10   2890000.0       30.40           2018-09-10      1   \n",
       "6             6   3700000.0       37.30           2017-11-02      1   \n",
       "7             5   7915000.0       71.60           2019-04-18      2   \n",
       "8            20   2900000.0       33.16           2018-05-23      1   \n",
       "9            18   5400000.0       61.00           2017-02-26      3   \n",
       "\n",
       "   ceiling_height  floors_total  living_area  floor  is_apartment  ...  \\\n",
       "0            2.70          16.0    51.000000      8         False  ...   \n",
       "1            2.65          11.0    18.600000      1         False  ...   \n",
       "2            2.65           5.0    34.300000      4         False  ...   \n",
       "3            2.65          14.0    90.289724      9         False  ...   \n",
       "4            3.03          14.0    32.000000     13         False  ...   \n",
       "5            2.65          12.0    14.400000      5         False  ...   \n",
       "6            2.65          26.0    10.600000      6         False  ...   \n",
       "7            2.65          24.0    40.658769     22         False  ...   \n",
       "8            2.65          27.0    15.430000     26         False  ...   \n",
       "9            2.50           9.0    43.600000      7         False  ...   \n",
       "\n",
       "               locality_name  airports_nearest  cityCenters_nearest  \\\n",
       "0            Санкт-Петербург           18863.0              16028.0   \n",
       "1             посёлок Шушары           12817.0              18603.0   \n",
       "2            Санкт-Петербург           21741.0              13933.0   \n",
       "3            Санкт-Петербург           28098.0               6800.0   \n",
       "4            Санкт-Петербург           31856.0               8098.0   \n",
       "5  городской посёлок Янино-1               NaN                  NaN   \n",
       "6          посёлок Парголово           52996.0              19143.0   \n",
       "7            Санкт-Петербург           23982.0              11634.0   \n",
       "8             посёлок Мурино               NaN                  NaN   \n",
       "9            Санкт-Петербург           50898.0              15008.0   \n",
       "\n",
       "   parks_around3000 parks_nearest  ponds_around3000  ponds_nearest  \\\n",
       "0                 1         482.0                 2          755.0   \n",
       "1                 0           NaN                 0            NaN   \n",
       "2                 1          90.0                 2          574.0   \n",
       "3                 2          84.0                 3          234.0   \n",
       "4                 2         112.0                 1           48.0   \n",
       "5                 0           NaN                 0            NaN   \n",
       "6                 0           NaN                 0            NaN   \n",
       "7                 0           NaN                 0            NaN   \n",
       "8                 0           NaN                 0            NaN   \n",
       "9                 0           NaN                 0            NaN   \n",
       "\n",
       "   days_exposition  living_area_percent_of_total  \\\n",
       "0              NaN                      0.472222   \n",
       "1             81.0                      0.460396   \n",
       "2            558.0                      0.612500   \n",
       "3            424.0                           NaN   \n",
       "4            121.0                      0.320000   \n",
       "5             55.0                      0.473684   \n",
       "6            155.0                      0.284182   \n",
       "7              NaN                           NaN   \n",
       "8            189.0                      0.465320   \n",
       "9            289.0                      0.714754   \n",
       "\n",
       "   kitchen_area_percent_of_total  \n",
       "0                       0.231481  \n",
       "1                       0.272277  \n",
       "2                       0.148214  \n",
       "3                            NaN  \n",
       "4                       0.410000  \n",
       "5                       0.299342  \n",
       "6                       0.386059  \n",
       "7                       0.263966  \n",
       "8                       0.265682  \n",
       "9                       0.106557  \n",
       "\n",
       "[10 rows x 24 columns]"
      ]
     },
     "execution_count": 8,
     "metadata": {},
     "output_type": "execute_result"
    }
   ],
   "source": [
    "data['first_day_exposition'] = pd.to_datetime(data['first_day_exposition'], format='%Y-%m-%d')\n",
    "data.head(10)"
   ]
  },
  {
   "cell_type": "code",
   "execution_count": 9,
   "metadata": {},
   "outputs": [
    {
     "data": {
      "text/plain": [
       "array(['Санкт-Петербург', 'посёлок Шушары', 'городской посёлок Янино-1',\n",
       "       'посёлок Парголово', 'посёлок Мурино', 'Ломоносов', 'Сертолово',\n",
       "       'Петергоф', 'Пушкин', 'деревня Кудрово', 'Коммунар', 'Колпино',\n",
       "       'поселок городского типа Красный Бор', 'Гатчина', 'поселок Мурино',\n",
       "       'деревня Фёдоровское', 'Выборг', 'Кронштадт', 'Кировск',\n",
       "       'деревня Новое Девяткино', 'посёлок Металлострой',\n",
       "       'посёлок городского типа Лебяжье',\n",
       "       'посёлок городского типа Сиверский', 'поселок Молодцово',\n",
       "       'поселок городского типа Кузьмоловский',\n",
       "       'садовое товарищество Новая Ропша', 'Павловск',\n",
       "       'деревня Пикколово', 'Всеволожск', 'Волхов', 'Кингисепп',\n",
       "       'Приозерск', 'Сестрорецк', 'деревня Куттузи', 'посёлок Аннино',\n",
       "       'поселок городского типа Ефимовский', 'посёлок Плодовое',\n",
       "       'деревня Заклинье', 'поселок Торковичи', 'поселок Первомайское',\n",
       "       'Красное Село', 'посёлок Понтонный', 'Сясьстрой', 'деревня Старая',\n",
       "       'деревня Лесколово', 'посёлок Новый Свет', 'Сланцы',\n",
       "       'село Путилово', 'Ивангород', 'Мурино', 'Шлиссельбург',\n",
       "       'Никольское', 'Зеленогорск', 'Сосновый Бор', 'поселок Новый Свет',\n",
       "       'деревня Оржицы', 'деревня Кальтино', 'Кудрово',\n",
       "       'поселок Романовка', 'посёлок Бугры', 'поселок Бугры',\n",
       "       'поселок городского типа Рощино', 'Кириши', 'Луга', 'Волосово',\n",
       "       'Отрадное', 'село Павлово', 'поселок Оредеж', 'село Копорье',\n",
       "       'посёлок городского типа Красный Бор', 'посёлок Молодёжное',\n",
       "       'Тихвин', 'посёлок Победа', 'деревня Нурма',\n",
       "       'поселок городского типа Синявино', 'Тосно',\n",
       "       'посёлок городского типа Кузьмоловский', 'посёлок Стрельна',\n",
       "       'Бокситогорск', 'посёлок Александровская', 'деревня Лопухинка',\n",
       "       'Пикалёво', 'поселок Терволово',\n",
       "       'поселок городского типа Советский', 'Подпорожье',\n",
       "       'посёлок Петровское', 'посёлок городского типа Токсово',\n",
       "       'поселок Сельцо', 'посёлок городского типа Вырица',\n",
       "       'деревня Кипень', 'деревня Келози', 'деревня Вартемяги',\n",
       "       'посёлок Тельмана', 'поселок Севастьяново',\n",
       "       'городской поселок Большая Ижора', 'Другое',\n",
       "       'городской посёлок Павлово', 'деревня Агалатово',\n",
       "       'посёлок Новогорелово', 'городской посёлок Лесогорский',\n",
       "       'деревня Лаголово', 'поселок Цвелодубово',\n",
       "       'поселок городского типа Рахья', 'поселок городского типа Вырица',\n",
       "       'деревня Белогорка', 'поселок Заводской',\n",
       "       'городской посёлок Новоселье', 'деревня Большие Колпаны',\n",
       "       'деревня Горбунки', 'деревня Батово', 'деревня Заневка',\n",
       "       'деревня Иссад', 'Приморск', 'городской посёлок Фёдоровское',\n",
       "       'деревня Мистолово', 'Новая Ладога', 'поселок Зимитицы',\n",
       "       'поселок Барышево', 'деревня Разметелево',\n",
       "       'поселок городского типа имени Свердлова', 'деревня Пеники',\n",
       "       'поселок Рябово', 'деревня Пудомяги', 'поселок станции Корнево',\n",
       "       'деревня Низино', 'деревня Бегуницы', 'посёлок Поляны',\n",
       "       'городской посёлок Мга', 'поселок Елизаветино',\n",
       "       'посёлок городского типа Кузнечное', 'деревня Колтуши',\n",
       "       'поселок Запорожское', 'посёлок городского типа Рощино',\n",
       "       'деревня Гостилицы', 'деревня Малое Карлино',\n",
       "       'посёлок Мичуринское', 'посёлок городского типа имени Морозова',\n",
       "       'посёлок Песочный', 'посёлок Сосново', 'деревня Аро',\n",
       "       'поселок Ильичёво', 'посёлок городского типа Тайцы',\n",
       "       'деревня Малое Верево', 'деревня Извара', 'поселок станции Вещево',\n",
       "       'село Паша', 'деревня Калитино',\n",
       "       'посёлок городского типа Ульяновка', 'деревня Чудской Бор',\n",
       "       'поселок городского типа Дубровка', 'деревня Мины',\n",
       "       'поселок Войсковицы', 'посёлок городского типа имени Свердлова',\n",
       "       'деревня Коркино', 'посёлок Ропша',\n",
       "       'поселок городского типа Приладожский', 'посёлок Щеглово',\n",
       "       'посёлок Гаврилово', 'Лодейное Поле', 'деревня Рабитицы',\n",
       "       'поселок городского типа Никольский', 'деревня Кузьмолово',\n",
       "       'деревня Малые Колпаны', 'поселок Тельмана',\n",
       "       'посёлок Петро-Славянка', 'городской посёлок Назия',\n",
       "       'посёлок Репино', 'посёлок Ильичёво', 'поселок Углово',\n",
       "       'поселок Старая Малукса', 'садовое товарищество Рахья',\n",
       "       'поселок Аннино', 'поселок Победа', 'деревня Меньково',\n",
       "       'деревня Старые Бегуницы', 'посёлок Сапёрный', 'поселок Семрино',\n",
       "       'поселок Гаврилово', 'поселок Глажево', 'поселок Кобринское',\n",
       "       'деревня Гарболово', 'деревня Юкки',\n",
       "       'поселок станции Приветнинское', 'деревня Мануйлово',\n",
       "       'деревня Пчева', 'поселок Поляны', 'поселок Цвылёво',\n",
       "       'поселок Мельниково', 'посёлок Пудость', 'посёлок Усть-Луга',\n",
       "       'Светогорск', 'Любань', 'поселок Селезнёво',\n",
       "       'поселок городского типа Рябово', 'Каменногорск', 'деревня Кривко',\n",
       "       'поселок Глебычево', 'деревня Парицы', 'поселок Жилпосёлок',\n",
       "       'посёлок городского типа Мга', 'городской поселок Янино-1',\n",
       "       'посёлок Войскорово', 'село Никольское', 'посёлок Терволово',\n",
       "       'поселок Стеклянный', 'посёлок городского типа Важины',\n",
       "       'посёлок Мыза-Ивановка', 'село Русско-Высоцкое',\n",
       "       'поселок городского типа Лебяжье',\n",
       "       'поселок городского типа Форносово', 'село Старая Ладога',\n",
       "       'поселок Житково', 'городской посёлок Виллози', 'деревня Лампово',\n",
       "       'деревня Шпаньково', 'деревня Лаврики', 'посёлок Сумино',\n",
       "       'посёлок Возрождение', 'деревня Старосиверская',\n",
       "       'посёлок Кикерино', 'поселок Возрождение',\n",
       "       'деревня Старое Хинколово', 'посёлок Пригородный',\n",
       "       'посёлок Торфяное', 'городской посёлок Будогощь',\n",
       "       'поселок Суходолье', 'поселок Красная Долина', 'деревня Хапо-Ое',\n",
       "       'поселок городского типа Дружная Горка', 'поселок Лисий Нос',\n",
       "       'деревня Яльгелево', 'посёлок Стеклянный', 'село Рождествено',\n",
       "       'деревня Старополье', 'посёлок Левашово', 'деревня Сяськелево',\n",
       "       'деревня Камышовка',\n",
       "       'садоводческое некоммерческое товарищество Лесная Поляна',\n",
       "       'деревня Хязельки', 'поселок Жилгородок',\n",
       "       'посёлок городского типа Павлово', 'деревня Ялгино',\n",
       "       'поселок Новый Учхоз', 'городской посёлок Рощино',\n",
       "       'поселок Гончарово', 'поселок Почап', 'посёлок Сапёрное',\n",
       "       'посёлок Платформа 69-й километр', 'поселок Каложицы',\n",
       "       'деревня Фалилеево', 'деревня Пельгора',\n",
       "       'поселок городского типа Лесогорский', 'деревня Торошковичи',\n",
       "       'посёлок Белоостров', 'посёлок Алексеевка', 'поселок Серебрянский',\n",
       "       'поселок Лукаши', 'поселок Петровское', 'деревня Щеглово',\n",
       "       'поселок Мичуринское', 'деревня Тарасово', 'поселок Кингисеппский',\n",
       "       'посёлок при железнодорожной станции Вещево', 'поселок Ушаки',\n",
       "       'деревня Котлы', 'деревня Сижно', 'деревня Торосово',\n",
       "       'посёлок Форт Красная Горка', 'поселок городского типа Токсово',\n",
       "       'деревня Новолисино', 'посёлок станции Громово', 'деревня Глинка',\n",
       "       'посёлок Мельниково', 'поселок городского типа Назия',\n",
       "       'деревня Старая Пустошь', 'поселок Коммунары', 'поселок Починок',\n",
       "       'посёлок городского типа Вознесенье', 'деревня Разбегаево',\n",
       "       'посёлок городского типа Рябово', 'поселок Гладкое',\n",
       "       'посёлок при железнодорожной станции Приветнинское',\n",
       "       'поселок Тёсово-4', 'посёлок Жилгородок', 'деревня Бор',\n",
       "       'посёлок Коробицыно', 'деревня Большая Вруда', 'деревня Курковицы',\n",
       "       'посёлок Лисий Нос', 'городской посёлок Советский',\n",
       "       'посёлок Кобралово', 'деревня Суоранда', 'поселок Кобралово',\n",
       "       'поселок городского типа Кондратьево',\n",
       "       'коттеджный поселок Счастье', 'поселок Любань', 'деревня Реброво',\n",
       "       'деревня Зимитицы', 'деревня Тойворово', 'поселок Семиозерье',\n",
       "       'поселок Лесное', 'поселок Совхозный', 'поселок Усть-Луга',\n",
       "       'посёлок Ленинское', 'посёлок Суйда',\n",
       "       'посёлок городского типа Форносово', 'деревня Нижние Осельки',\n",
       "       'посёлок станции Свирь', 'поселок Перово', 'Высоцк',\n",
       "       'поселок Гарболово', 'село Шум', 'поселок Котельский',\n",
       "       'поселок станции Лужайка', 'деревня Большая Пустомержа',\n",
       "       'поселок Красносельское', 'деревня Вахнова Кара', 'деревня Пижма',\n",
       "       'коттеджный поселок Кивеннапа Север', 'поселок Коробицыно',\n",
       "       'поселок Ромашки', 'посёлок Перово', 'деревня Каськово',\n",
       "       'деревня Куровицы', 'посёлок Плоское', 'поселок Сумино',\n",
       "       'поселок городского типа Большая Ижора', 'поселок Кирпичное',\n",
       "       'деревня Ям-Тесово', 'деревня Раздолье', 'деревня Терпилицы',\n",
       "       'посёлок Шугозеро', 'деревня Ваганово', 'поселок Пушное',\n",
       "       'садовое товарищество Садко', 'посёлок Усть-Ижора',\n",
       "       'деревня Выскатка', 'городской посёлок Свирьстрой',\n",
       "       'поселок Громово', 'деревня Кисельня', 'посёлок Старая Малукса',\n",
       "       'деревня Трубников Бор', 'поселок Калитино',\n",
       "       'посёлок Высокоключевой', 'садовое товарищество Приладожский',\n",
       "       'посёлок Пансионат Зелёный Бор', 'деревня Ненимяки',\n",
       "       'поселок Пансионат Зелёный Бор', 'деревня Снегирёвка',\n",
       "       'деревня Рапполово', 'деревня Пустынка', 'поселок Рабитицы',\n",
       "       'деревня Большой Сабск', 'деревня Русско', 'деревня Лупполово',\n",
       "       'деревня Большое Рейзино', 'деревня Малая Романовка',\n",
       "       'поселок Дружноселье', 'поселок Пчевжа', 'поселок Володарское',\n",
       "       'деревня Нижняя', 'коттеджный посёлок Лесное', 'деревня Тихковицы',\n",
       "       'деревня Борисова Грива', 'посёлок Дзержинского'], dtype=object)"
      ]
     },
     "execution_count": 9,
     "metadata": {},
     "output_type": "execute_result"
    }
   ],
   "source": [
    "data['locality_name'].unique()"
   ]
  },
  {
   "cell_type": "code",
   "execution_count": 10,
   "metadata": {},
   "outputs": [
    {
     "name": "stdout",
     "output_type": "stream",
     "text": [
      "['Санкт-Петербург' 'посёлок Шушары' 'городской посёлок Янино-1'\n",
      " 'посёлок Парголово' 'посёлок Мурино' 'Ломоносов' 'Сертолово' 'Петергоф'\n",
      " 'Пушкин' 'деревня Кудрово' 'Коммунар' 'Колпино'\n",
      " 'поселок городского типа Красный Бор' 'Гатчина' 'поселок Мурино'\n",
      " 'деревня Фёдоровское' 'Выборг' 'Кронштадт' 'Кировск'\n",
      " 'деревня Новое Девяткино' 'посёлок Металлострой'\n",
      " 'посёлок городского типа Лебяжье' 'посёлок городского типа Сиверский'\n",
      " 'поселок Молодцово' 'поселок городского типа Кузьмоловский'\n",
      " 'садовое товарищество Новая Ропша' 'Павловск' 'деревня Пикколово'\n",
      " 'Всеволожск' 'Волхов' 'Кингисепп' 'Приозерск' 'Сестрорецк'\n",
      " 'деревня Куттузи' 'посёлок Аннино' 'поселок городского типа Ефимовский'\n",
      " 'посёлок Плодовое' 'деревня Заклинье' 'поселок Торковичи'\n",
      " 'поселок Первомайское' 'Красное Село' 'посёлок Понтонный' 'Сясьстрой'\n",
      " 'деревня Старая' 'деревня Лесколово' 'посёлок Новый Свет' 'Сланцы'\n",
      " 'село Путилово' 'Ивангород' 'Мурино' 'Шлиссельбург' 'Никольское'\n",
      " 'Зеленогорск' 'Сосновый Бор' 'поселок Новый Свет' 'деревня Оржицы'\n",
      " 'деревня Кальтино' 'Кудрово' 'поселок Романовка' 'посёлок Бугры'\n",
      " 'поселок Бугры' 'поселок городского типа Рощино' 'Кириши' 'Луга'\n",
      " 'Волосово' 'Отрадное' 'село Павлово' 'поселок Оредеж' 'село Копорье'\n",
      " 'посёлок городского типа Красный Бор' 'посёлок Молодёжное' 'Тихвин'\n",
      " 'посёлок Победа' 'деревня Нурма' 'поселок городского типа Синявино'\n",
      " 'Тосно' 'посёлок городского типа Кузьмоловский' 'посёлок Стрельна'\n",
      " 'Бокситогорск' 'посёлок Александровская' 'деревня Лопухинка' 'Пикалёво'\n",
      " 'поселок Терволово' 'поселок городского типа Советский' 'Подпорожье'\n",
      " 'посёлок Петровское' 'посёлок городского типа Токсово' 'поселок Сельцо'\n",
      " 'посёлок городского типа Вырица' 'деревня Кипень' 'деревня Келози'\n",
      " 'деревня Вартемяги' 'посёлок Тельмана' 'поселок Севастьяново'\n",
      " 'городской поселок Большая Ижора' 'Другое' 'городской посёлок Павлово'\n",
      " 'деревня Агалатово' 'посёлок Новогорелово'\n",
      " 'городской посёлок Лесогорский' 'деревня Лаголово' 'поселок Цвелодубово'\n",
      " 'поселок городского типа Рахья' 'поселок городского типа Вырица'\n",
      " 'деревня Белогорка' 'поселок Заводской' 'городской посёлок Новоселье'\n",
      " 'деревня Большие Колпаны' 'деревня Горбунки' 'деревня Батово'\n",
      " 'деревня Заневка' 'деревня Иссад' 'Приморск'\n",
      " 'городской посёлок Фёдоровское' 'деревня Мистолово' 'Новая Ладога'\n",
      " 'поселок Зимитицы' 'поселок Барышево' 'деревня Разметелево'\n",
      " 'поселок городского типа имени Свердлова' 'деревня Пеники'\n",
      " 'поселок Рябово' 'деревня Пудомяги' 'поселок станции Корнево'\n",
      " 'деревня Низино' 'деревня Бегуницы' 'посёлок Поляны'\n",
      " 'городской посёлок Мга' 'поселок Елизаветино'\n",
      " 'посёлок городского типа Кузнечное' 'деревня Колтуши'\n",
      " 'поселок Запорожское' 'посёлок городского типа Рощино'\n",
      " 'деревня Гостилицы' 'деревня Малое Карлино' 'посёлок Мичуринское'\n",
      " 'посёлок городского типа имени Морозова' 'посёлок Песочный'\n",
      " 'посёлок Сосново' 'деревня Аро' 'поселок Ильичёво'\n",
      " 'посёлок городского типа Тайцы' 'деревня Малое Верево' 'деревня Извара'\n",
      " 'поселок станции Вещево' 'село Паша' 'деревня Калитино'\n",
      " 'посёлок городского типа Ульяновка' 'деревня Чудской Бор'\n",
      " 'поселок городского типа Дубровка' 'деревня Мины' 'поселок Войсковицы'\n",
      " 'посёлок городского типа имени Свердлова' 'деревня Коркино'\n",
      " 'посёлок Ропша' 'поселок городского типа Приладожский' 'посёлок Щеглово'\n",
      " 'посёлок Гаврилово' 'Лодейное Поле' 'деревня Рабитицы'\n",
      " 'поселок городского типа Никольский' 'деревня Кузьмолово'\n",
      " 'деревня Малые Колпаны' 'поселок Тельмана' 'посёлок Петро-Славянка'\n",
      " 'городской посёлок Назия' 'посёлок Репино' 'посёлок Ильичёво'\n",
      " 'поселок Углово' 'поселок Старая Малукса' 'садовое товарищество Рахья'\n",
      " 'поселок Аннино' 'поселок Победа' 'деревня Меньково'\n",
      " 'деревня Старые Бегуницы' 'посёлок Сапёрный' 'поселок Семрино'\n",
      " 'поселок Гаврилово' 'поселок Глажево' 'поселок Кобринское'\n",
      " 'деревня Гарболово' 'деревня Юкки' 'поселок станции Приветнинское'\n",
      " 'деревня Мануйлово' 'деревня Пчева' 'поселок Поляны' 'поселок Цвылёво'\n",
      " 'поселок Мельниково' 'посёлок Пудость' 'посёлок Усть-Луга' 'Светогорск'\n",
      " 'Любань' 'поселок Селезнёво' 'поселок городского типа Рябово'\n",
      " 'Каменногорск' 'деревня Кривко' 'поселок Глебычево' 'деревня Парицы'\n",
      " 'поселок Жилпосёлок' 'посёлок городского типа Мга'\n",
      " 'городской поселок Янино-1' 'посёлок Войскорово' 'село Никольское'\n",
      " 'посёлок Терволово' 'поселок Стеклянный' 'посёлок городского типа Важины'\n",
      " 'посёлок Мыза-Ивановка' 'село Русско-Высоцкое'\n",
      " 'поселок городского типа Лебяжье' 'поселок городского типа Форносово'\n",
      " 'село Старая Ладога' 'поселок Житково' 'городской посёлок Виллози'\n",
      " 'деревня Лампово' 'деревня Шпаньково' 'деревня Лаврики' 'посёлок Сумино'\n",
      " 'посёлок Возрождение' 'деревня Старосиверская' 'посёлок Кикерино'\n",
      " 'поселок Возрождение' 'деревня Старое Хинколово' 'посёлок Пригородный'\n",
      " 'посёлок Торфяное' 'городской посёлок Будогощь' 'поселок Суходолье'\n",
      " 'поселок Красная Долина' 'деревня Хапо-Ое'\n",
      " 'поселок городского типа Дружная Горка' 'поселок Лисий Нос'\n",
      " 'деревня Яльгелево' 'посёлок Стеклянный' 'село Рождествено'\n",
      " 'деревня Старополье' 'посёлок Левашово' 'деревня Сяськелево'\n",
      " 'деревня Камышовка'\n",
      " 'садоводческое некоммерческое товарищество Лесная Поляна'\n",
      " 'деревня Хязельки' 'поселок Жилгородок' 'посёлок городского типа Павлово'\n",
      " 'деревня Ялгино' 'поселок Новый Учхоз' 'городской посёлок Рощино'\n",
      " 'поселок Гончарово' 'поселок Почап' 'посёлок Сапёрное'\n",
      " 'посёлок Платформа 69-й километр' 'поселок Каложицы' 'деревня Фалилеево'\n",
      " 'деревня Пельгора' 'поселок городского типа Лесогорский'\n",
      " 'деревня Торошковичи' 'посёлок Белоостров' 'посёлок Алексеевка'\n",
      " 'поселок Серебрянский' 'поселок Лукаши' 'поселок Петровское'\n",
      " 'деревня Щеглово' 'поселок Мичуринское' 'деревня Тарасово'\n",
      " 'поселок Кингисеппский' 'посёлок при железнодорожной станции Вещево'\n",
      " 'поселок Ушаки' 'деревня Котлы' 'деревня Сижно' 'деревня Торосово'\n",
      " 'посёлок Форт Красная Горка' 'поселок городского типа Токсово'\n",
      " 'деревня Новолисино' 'посёлок станции Громово' 'деревня Глинка'\n",
      " 'посёлок Мельниково' 'поселок городского типа Назия'\n",
      " 'деревня Старая Пустошь' 'поселок Коммунары' 'поселок Починок'\n",
      " 'посёлок городского типа Вознесенье' 'деревня Разбегаево'\n",
      " 'посёлок городского типа Рябово' 'поселок Гладкое'\n",
      " 'посёлок при железнодорожной станции Приветнинское' 'поселок Тёсово-4'\n",
      " 'посёлок Жилгородок' 'деревня Бор' 'посёлок Коробицыно'\n",
      " 'деревня Большая Вруда' 'деревня Курковицы' 'посёлок Лисий Нос'\n",
      " 'городской посёлок Советский' 'посёлок Кобралово' 'деревня Суоранда'\n",
      " 'поселок Кобралово' 'поселок городского типа Кондратьево'\n",
      " 'коттеджный поселок Счастье' 'поселок Любань' 'деревня Реброво'\n",
      " 'деревня Зимитицы' 'деревня Тойворово' 'поселок Семиозерье'\n",
      " 'поселок Лесное' 'поселок Совхозный' 'поселок Усть-Луга'\n",
      " 'посёлок Ленинское' 'посёлок Суйда' 'посёлок городского типа Форносово'\n",
      " 'деревня Нижние Осельки' 'посёлок станции Свирь' 'поселок Перово'\n",
      " 'Высоцк' 'поселок Гарболово' 'село Шум' 'поселок Котельский'\n",
      " 'поселок станции Лужайка' 'деревня Большая Пустомержа'\n",
      " 'поселок Красносельское' 'деревня Вахнова Кара' 'деревня Пижма'\n",
      " 'коттеджный поселок Кивеннапа Север' 'поселок Коробицыно'\n",
      " 'поселок Ромашки' 'посёлок Перово' 'деревня Каськово' 'деревня Куровицы'\n",
      " 'посёлок Плоское' 'поселок Сумино'\n",
      " 'поселок городского типа Большая Ижора' 'поселок Кирпичное'\n",
      " 'деревня Ям-Тесово' 'деревня Раздолье' 'деревня Терпилицы'\n",
      " 'посёлок Шугозеро' 'деревня Ваганово' 'поселок Пушное'\n",
      " 'садовое товарищество Садко' 'посёлок Усть-Ижора' 'деревня Выскатка'\n",
      " 'городской посёлок Свирьстрой' 'поселок Громово' 'деревня Кисельня'\n",
      " 'посёлок Старая Малукса' 'деревня Трубников Бор' 'поселок Калитино'\n",
      " 'посёлок Высокоключевой' 'садовое товарищество Приладожский'\n",
      " 'посёлок Пансионат Зелёный Бор' 'деревня Ненимяки'\n",
      " 'поселок Пансионат Зелёный Бор' 'деревня Снегирёвка' 'деревня Рапполово'\n",
      " 'деревня Пустынка' 'поселок Рабитицы' 'деревня Большой Сабск'\n",
      " 'деревня Русско' 'деревня Лупполово' 'деревня Большое Рейзино'\n",
      " 'деревня Малая Романовка' 'поселок Дружноселье' 'поселок Пчевжа'\n",
      " 'поселок Володарское' 'деревня Нижняя' 'коттеджный посёлок Лесное'\n",
      " 'деревня Тихковицы' 'деревня Борисова Грива' 'посёлок Дзержинского']\n"
     ]
    },
    {
     "data": {
      "text/plain": [
       "array(['Агалатово', 'Александровская', 'Алексеевка', 'Аннино', 'Аро',\n",
       "       'Барышево', 'Батово', 'Бегуницы', 'Белогорка', 'Белоостров',\n",
       "       'Бокситогорск', 'Большая Вруда', 'Большая Ижора',\n",
       "       'Большая Пустомержа', 'Большие Колпаны', 'Большое Рейзино',\n",
       "       'Большой Сабск', 'Бор', 'Борисова Грива', 'Бугры', 'Будогощь',\n",
       "       'Ваганово', 'Важины', 'Вартемяги', 'Вахнова Кара', 'Вещево',\n",
       "       'Виллози', 'Вознесенье', 'Возрождение', 'Войсковицы', 'Войскорово',\n",
       "       'Володарское', 'Волосово', 'Волхов', 'Всеволожск', 'Выборг',\n",
       "       'Вырица', 'Выскатка', 'Высокоключевой', 'Высоцк', 'Гаврилово',\n",
       "       'Гарболово', 'Гатчина', 'Гладкое', 'Глажево', 'Глебычево',\n",
       "       'Глинка', 'Гончарово', 'Горбунки', 'Гостилицы', 'Громово',\n",
       "       'Дзержинского', 'Другое', 'Дружная Горка', 'Дружноселье',\n",
       "       'Дубровка', 'Елизаветино', 'Ефимовский', 'Жилгородок',\n",
       "       'Жилпосёлок', 'Житково', 'Заводской', 'Заклинье', 'Заневка',\n",
       "       'Запорожское', 'Зеленогорск', 'Зимитицы', 'Ивангород', 'Извара',\n",
       "       'Ильичёво', 'Иссад', 'Калитино', 'Каложицы', 'Кальтино',\n",
       "       'Каменногорск', 'Камышовка', 'Каськово', 'Келози',\n",
       "       'Кивеннапа Север', 'Кикерино', 'Кингисепп', 'Кингисеппский',\n",
       "       'Кипень', 'Кириши', 'Кировск', 'Кирпичное', 'Кисельня',\n",
       "       'Кобралово', 'Кобринское', 'Колпино', 'Колтуши', 'Коммунар',\n",
       "       'Коммунары', 'Кондратьево', 'Копорье', 'Коркино', 'Корнево',\n",
       "       'Коробицыно', 'Котельский', 'Котлы', 'Красная Долина',\n",
       "       'Красное Село', 'Красносельское', 'Красный Бор', 'Кривко',\n",
       "       'Кронштадт', 'Кудрово', 'Кузнечное', 'Кузьмолово', 'Кузьмоловский',\n",
       "       'Курковицы', 'Куровицы', 'Куттузи', 'Лаврики', 'Лаголово',\n",
       "       'Лампово', 'Лебяжье', 'Левашово', 'Ленинское', 'Лесколово',\n",
       "       'Лесная Поляна', 'Лесное', 'Лесогорский', 'Лисий Нос',\n",
       "       'Лодейное Поле', 'Ломоносов', 'Лопухинка', 'Луга', 'Лужайка',\n",
       "       'Лукаши', 'Лупполово', 'Любань', 'Малая Романовка', 'Малое Верево',\n",
       "       'Малое Карлино', 'Малые Колпаны', 'Мануйлово', 'Мга', 'Мельниково',\n",
       "       'Меньково', 'Металлострой', 'Мины', 'Мистолово', 'Мичуринское',\n",
       "       'Молодцово', 'Молодёжное', 'Мурино', 'Мыза-Ивановка', 'Назия',\n",
       "       'Ненимяки', 'Нижние Осельки', 'Нижняя', 'Низино', 'Никольский',\n",
       "       'Никольское', 'Новая Ладога', 'Новая Ропша', 'Новогорелово',\n",
       "       'Новое Девяткино', 'Новолисино', 'Новоселье', 'Новый Свет',\n",
       "       'Новый Учхоз', 'Нурма', 'Оредеж', 'Оржицы', 'Отрадное', 'Павлово',\n",
       "       'Павловск', 'Пансионат Зелёный Бор', 'Парголово', 'Парицы', 'Паша',\n",
       "       'Пельгора', 'Пеники', 'Первомайское', 'Перово', 'Песочный',\n",
       "       'Петергоф', 'Петро-Славянка', 'Петровское', 'Пижма', 'Пикалёво',\n",
       "       'Пикколово', 'Платформа 69-й километр', 'Плодовое', 'Плоское',\n",
       "       'Победа', 'Подпорожье', 'Поляны', 'Понтонный', 'Почап', 'Починок',\n",
       "       'Приветнинское', 'Пригородный', 'Приладожский', 'Приморск',\n",
       "       'Приозерск', 'Пудомяги', 'Пудость', 'Пустынка', 'Путилово',\n",
       "       'Пушкин', 'Пушное', 'Пчева', 'Пчевжа', 'Рабитицы', 'Разбегаево',\n",
       "       'Раздолье', 'Разметелево', 'Рапполово', 'Рахья', 'Реброво',\n",
       "       'Репино', 'Рождествено', 'Романовка', 'Ромашки', 'Ропша', 'Рощино',\n",
       "       'Русско', 'Русско-Высоцкое', 'Рябово', 'Садко', 'Санкт-Петербург',\n",
       "       'Сапёрное', 'Сапёрный', 'Светогорск', 'Свирь', 'Свирьстрой',\n",
       "       'Севастьяново', 'Селезнёво', 'Сельцо', 'Семиозерье', 'Семрино',\n",
       "       'Серебрянский', 'Сертолово', 'Сестрорецк', 'Сиверский', 'Сижно',\n",
       "       'Синявино', 'Сланцы', 'Снегирёвка', 'Советский', 'Совхозный',\n",
       "       'Сосново', 'Сосновый Бор', 'Старая', 'Старая Ладога',\n",
       "       'Старая Малукса', 'Старая Пустошь', 'Старое Хинколово',\n",
       "       'Старополье', 'Старосиверская', 'Старые Бегуницы', 'Стеклянный',\n",
       "       'Стрельна', 'Суйда', 'Сумино', 'Суоранда', 'Суходолье', 'Счастье',\n",
       "       'Сяськелево', 'Сясьстрой', 'Тайцы', 'Тарасово', 'Тельмана',\n",
       "       'Терволово', 'Терпилицы', 'Тихвин', 'Тихковицы', 'Тойворово',\n",
       "       'Токсово', 'Торковичи', 'Торосово', 'Торошковичи', 'Торфяное',\n",
       "       'Тосно', 'Трубников Бор', 'Тёсово-4', 'Углово', 'Ульяновка',\n",
       "       'Усть-Ижора', 'Усть-Луга', 'Ушаки', 'Фалилеево', 'Форносово',\n",
       "       'Форт Красная Горка', 'Фёдоровское', 'Хапо-Ое', 'Хязельки',\n",
       "       'Цвелодубово', 'Цвылёво', 'Чудской Бор', 'Шлиссельбург',\n",
       "       'Шпаньково', 'Шугозеро', 'Шум', 'Шушары', 'Щеглово', 'Юкки',\n",
       "       'Ялгино', 'Яльгелево', 'Ям-Тесово', 'Янино-1', 'имени Морозова',\n",
       "       'имени Свердлова'], dtype=object)"
      ]
     },
     "execution_count": 10,
     "metadata": {},
     "output_type": "execute_result"
    }
   ],
   "source": [
    "print(data['locality_name'].unique())\n",
    "localies = ['поселок ', 'посёлок ', 'деревня ', 'городской ', 'садовое товарищество ', 'городского типа ', 'коттеджный ', 'садоводческое некоммерческое товарищество ', 'станции ', 'село ', 'при железнодорожной ']\n",
    "for i in localies:\n",
    "    data['locality_name'] = data['locality_name'].str.replace(i, '')\n",
    "\n",
    "data['locality_name'].sort_values().unique()"
   ]
  },
  {
   "cell_type": "code",
   "execution_count": 11,
   "metadata": {},
   "outputs": [
    {
     "data": {
      "image/png": "[encoded data removed]",
      "text/plain": [
       "<Figure size 432x288 with 1 Axes>"
      ]
     },
     "metadata": {
      "needs_background": "light"
     },
     "output_type": "display_data"
    },
    {
     "data": {
      "image/png": "[encoded data removed]",
      "text/plain": [
       "<Figure size 432x288 with 1 Axes>"
      ]
     },
     "metadata": {
      "needs_background": "light"
     },
     "output_type": "display_data"
    },
    {
     "data": {
      "image/png": "[encoded data removed]",
      "text/plain": [
       "<Figure size 432x288 with 1 Axes>"
      ]
     },
     "metadata": {
      "needs_background": "light"
     },
     "output_type": "display_data"
    },
    {
     "data": {
      "image/png": "[encoded data removed]",
      "text/plain": [
       "<Figure size 432x288 with 1 Axes>"
      ]
     },
     "metadata": {
      "needs_background": "light"
     },
     "output_type": "display_data"
    },
    {
     "data": {
      "image/png": "[encoded data removed]",
      "text/plain": [
       "<Figure size 432x288 with 1 Axes>"
      ]
     },
     "metadata": {
      "needs_background": "light"
     },
     "output_type": "display_data"
    }
   ],
   "source": [
    "data['last_price'].plot()\n",
    "plt.show()\n",
    "data['rooms'].plot()\n",
    "plt.show()\n",
    "data['total_area'].plot()\n",
    "plt.show()\n",
    "data['ceiling_height'].plot()\n",
    "plt.show()\n",
    "data['ceiling_height'].plot()\n",
    "plt.ylim(0,15)\n",
    "plt.show()"
   ]
  },
  {
   "cell_type": "code",
   "execution_count": 12,
   "metadata": {},
   "outputs": [
    {
     "data": {
      "text/plain": [
       "1436     330000000.0\n",
       "5893     230000000.0\n",
       "12971    763000000.0\n",
       "13749    240000000.0\n",
       "14706    401300000.0\n",
       "15651    300000000.0\n",
       "16461    245000000.0\n",
       "19540    420000000.0\n",
       "22831    289238400.0\n",
       "Name: last_price, dtype: float64"
      ]
     },
     "metadata": {},
     "output_type": "display_data"
    },
    {
     "name": "stdout",
     "output_type": "stream",
     "text": [
      "0.037976285919237095 %\n"
     ]
    },
    {
     "data": {
      "text/plain": [
       "648      11\n",
       "866      14\n",
       "5358     15\n",
       "9688     11\n",
       "14498    19\n",
       "18848    16\n",
       "19540    12\n",
       "20829    14\n",
       "Name: rooms, dtype: int64"
      ]
     },
     "metadata": {},
     "output_type": "display_data"
    },
    {
     "name": "stdout",
     "output_type": "stream",
     "text": [
      "0.03375669859487742 %\n"
     ]
    },
    {
     "data": {
      "text/plain": [
       "3117     631.0\n",
       "5358     590.0\n",
       "12859    631.2\n",
       "15651    618.0\n",
       "19540    900.0\n",
       "Name: total_area, dtype: float64"
      ]
     },
     "metadata": {},
     "output_type": "display_data"
    },
    {
     "name": "stdout",
     "output_type": "stream",
     "text": [
      "0.021097936621798388 %\n"
     ]
    },
    {
     "data": {
      "text/plain": [
       "355       25.0\n",
       "3148      32.0\n",
       "4643      25.0\n",
       "4876      27.0\n",
       "5076      24.0\n",
       "5246      27.0\n",
       "5669      26.0\n",
       "5807      27.0\n",
       "6246      25.0\n",
       "9379      25.0\n",
       "10773     27.0\n",
       "11285     25.0\n",
       "14382     25.0\n",
       "15061     14.0\n",
       "17496     20.0\n",
       "17857     27.0\n",
       "18545     25.0\n",
       "20478     27.0\n",
       "20507     22.6\n",
       "21377     27.5\n",
       "21824     27.0\n",
       "22309     10.3\n",
       "22336     32.0\n",
       "22869    100.0\n",
       "22938     27.0\n",
       "Name: ceiling_height, dtype: float64"
      ]
     },
     "metadata": {},
     "output_type": "display_data"
    },
    {
     "name": "stdout",
     "output_type": "stream",
     "text": [
      "0.10548968310899194 %\n"
     ]
    }
   ],
   "source": [
    "display(data.query('last_price > 2*1e8')['last_price'])\n",
    "print(data.query('last_price > 2*1e8').shape[0]/data['last_price'].shape[0]*100, '%')\n",
    "\n",
    "display(data.query('rooms > 10')['rooms'])\n",
    "print(data.query('rooms > 10').shape[0]/data['rooms'].shape[0]*100, '%')\n",
    "\n",
    "display(data.query('total_area > 550')['total_area'])\n",
    "print(data.query('total_area > 550').shape[0]/data['total_area'].shape[0]*100, '%')\n",
    "\n",
    "display(data.query('ceiling_height > 10')['ceiling_height'])\n",
    "print(data.query('ceiling_height > 10').shape[0]/data['ceiling_height'].shape[0]*100, '%')"
   ]
  },
  {
   "cell_type": "code",
   "execution_count": 13,
   "metadata": {},
   "outputs": [],
   "source": [
    "data.loc[data['last_price'] > 2*1e8, 'last_price'] = data['last_price'] / 10\n",
    "data.loc[data['total_area'] > 550, 'total_area'] = data['total_area'] / 10\n",
    "data.loc[data['ceiling_height'] > 10.3, 'ceiling_height'] = data['ceiling_height'] / 10\n",
    "data = data[data['rooms'] <= 10]"
   ]
  },
  {
   "cell_type": "markdown",
   "metadata": {},
   "source": [
    "По графику видны сильно выделяющиеся значения в столбцах last_price, total_area, ceiling_height, rooms. Назовем их выбросы.\n",
    "\n",
    "Выбросы выведены отдельно по визуальной отметке на графике, посчитаны процентные соотношения кол-ва выбросов к общему кол-ву значений конкретного столбца. Их оказалось менее 10% во всех случаях.\n",
    "\n",
    "Для столбцов last_price, total_area, ceiling_height выбросы заменены на такие же значения, деленные на 10 (за исключением значения 10.3 ceiling_height).\n",
    "\n",
    "Для столбца rooms выбросы удалены."
   ]
  },
  {
   "cell_type": "markdown",
   "metadata": {},
   "source": [
    "### Посчитайте и добавьте в таблицу новые столбцы"
   ]
  },
  {
   "cell_type": "code",
   "execution_count": 14,
   "metadata": {},
   "outputs": [
    {
     "data": {
      "text/html": [
       "<div>\n",
       "<style scoped>\n",
       "    .dataframe tbody tr th:only-of-type {\n",
       "        vertical-align: middle;\n",
       "    }\n",
       "\n",
       "    .dataframe tbody tr th {\n",
       "        vertical-align: top;\n",
       "    }\n",
       "\n",
       "    .dataframe thead th {\n",
       "        text-align: right;\n",
       "    }\n",
       "</style>\n",
       "<table border=\"1\" class=\"dataframe\">\n",
       "  <thead>\n",
       "    <tr style=\"text-align: right;\">\n",
       "      <th></th>\n",
       "      <th>total_images</th>\n",
       "      <th>last_price</th>\n",
       "      <th>total_area</th>\n",
       "      <th>first_day_exposition</th>\n",
       "      <th>rooms</th>\n",
       "      <th>ceiling_height</th>\n",
       "      <th>floors_total</th>\n",
       "      <th>living_area</th>\n",
       "      <th>floor</th>\n",
       "      <th>is_apartment</th>\n",
       "      <th>...</th>\n",
       "      <th>ponds_nearest</th>\n",
       "      <th>days_exposition</th>\n",
       "      <th>living_area_percent_of_total</th>\n",
       "      <th>kitchen_area_percent_of_total</th>\n",
       "      <th>price_per_meter</th>\n",
       "      <th>weekday_exposition</th>\n",
       "      <th>month_exposition</th>\n",
       "      <th>year_exposition</th>\n",
       "      <th>floor_type</th>\n",
       "      <th>cityCenters_nearest_km</th>\n",
       "    </tr>\n",
       "  </thead>\n",
       "  <tbody>\n",
       "    <tr>\n",
       "      <th>0</th>\n",
       "      <td>20</td>\n",
       "      <td>13000000.0</td>\n",
       "      <td>108.00</td>\n",
       "      <td>2019-03-07</td>\n",
       "      <td>3</td>\n",
       "      <td>2.70</td>\n",
       "      <td>16.0</td>\n",
       "      <td>51.000000</td>\n",
       "      <td>8</td>\n",
       "      <td>False</td>\n",
       "      <td>...</td>\n",
       "      <td>755.0</td>\n",
       "      <td>NaN</td>\n",
       "      <td>0.472222</td>\n",
       "      <td>0.231481</td>\n",
       "      <td>120370.370370</td>\n",
       "      <td>3</td>\n",
       "      <td>3</td>\n",
       "      <td>2019</td>\n",
       "      <td>другой</td>\n",
       "      <td>16.0</td>\n",
       "    </tr>\n",
       "    <tr>\n",
       "      <th>1</th>\n",
       "      <td>7</td>\n",
       "      <td>3350000.0</td>\n",
       "      <td>40.40</td>\n",
       "      <td>2018-12-04</td>\n",
       "      <td>1</td>\n",
       "      <td>2.65</td>\n",
       "      <td>11.0</td>\n",
       "      <td>18.600000</td>\n",
       "      <td>1</td>\n",
       "      <td>False</td>\n",
       "      <td>...</td>\n",
       "      <td>NaN</td>\n",
       "      <td>81.0</td>\n",
       "      <td>0.460396</td>\n",
       "      <td>0.272277</td>\n",
       "      <td>82920.792079</td>\n",
       "      <td>1</td>\n",
       "      <td>12</td>\n",
       "      <td>2018</td>\n",
       "      <td>первый</td>\n",
       "      <td>19.0</td>\n",
       "    </tr>\n",
       "    <tr>\n",
       "      <th>2</th>\n",
       "      <td>10</td>\n",
       "      <td>5196000.0</td>\n",
       "      <td>56.00</td>\n",
       "      <td>2015-08-20</td>\n",
       "      <td>2</td>\n",
       "      <td>2.65</td>\n",
       "      <td>5.0</td>\n",
       "      <td>34.300000</td>\n",
       "      <td>4</td>\n",
       "      <td>False</td>\n",
       "      <td>...</td>\n",
       "      <td>574.0</td>\n",
       "      <td>558.0</td>\n",
       "      <td>0.612500</td>\n",
       "      <td>0.148214</td>\n",
       "      <td>92785.714286</td>\n",
       "      <td>3</td>\n",
       "      <td>8</td>\n",
       "      <td>2015</td>\n",
       "      <td>другой</td>\n",
       "      <td>14.0</td>\n",
       "    </tr>\n",
       "    <tr>\n",
       "      <th>3</th>\n",
       "      <td>0</td>\n",
       "      <td>64900000.0</td>\n",
       "      <td>159.00</td>\n",
       "      <td>2015-07-24</td>\n",
       "      <td>3</td>\n",
       "      <td>2.65</td>\n",
       "      <td>14.0</td>\n",
       "      <td>90.289724</td>\n",
       "      <td>9</td>\n",
       "      <td>False</td>\n",
       "      <td>...</td>\n",
       "      <td>234.0</td>\n",
       "      <td>424.0</td>\n",
       "      <td>NaN</td>\n",
       "      <td>NaN</td>\n",
       "      <td>408176.100629</td>\n",
       "      <td>4</td>\n",
       "      <td>7</td>\n",
       "      <td>2015</td>\n",
       "      <td>другой</td>\n",
       "      <td>7.0</td>\n",
       "    </tr>\n",
       "    <tr>\n",
       "      <th>4</th>\n",
       "      <td>2</td>\n",
       "      <td>10000000.0</td>\n",
       "      <td>100.00</td>\n",
       "      <td>2018-06-19</td>\n",
       "      <td>2</td>\n",
       "      <td>3.03</td>\n",
       "      <td>14.0</td>\n",
       "      <td>32.000000</td>\n",
       "      <td>13</td>\n",
       "      <td>False</td>\n",
       "      <td>...</td>\n",
       "      <td>48.0</td>\n",
       "      <td>121.0</td>\n",
       "      <td>0.320000</td>\n",
       "      <td>0.410000</td>\n",
       "      <td>100000.000000</td>\n",
       "      <td>1</td>\n",
       "      <td>6</td>\n",
       "      <td>2018</td>\n",
       "      <td>другой</td>\n",
       "      <td>8.0</td>\n",
       "    </tr>\n",
       "    <tr>\n",
       "      <th>5</th>\n",
       "      <td>10</td>\n",
       "      <td>2890000.0</td>\n",
       "      <td>30.40</td>\n",
       "      <td>2018-09-10</td>\n",
       "      <td>1</td>\n",
       "      <td>2.65</td>\n",
       "      <td>12.0</td>\n",
       "      <td>14.400000</td>\n",
       "      <td>5</td>\n",
       "      <td>False</td>\n",
       "      <td>...</td>\n",
       "      <td>NaN</td>\n",
       "      <td>55.0</td>\n",
       "      <td>0.473684</td>\n",
       "      <td>0.299342</td>\n",
       "      <td>95065.789474</td>\n",
       "      <td>0</td>\n",
       "      <td>9</td>\n",
       "      <td>2018</td>\n",
       "      <td>другой</td>\n",
       "      <td>NaN</td>\n",
       "    </tr>\n",
       "    <tr>\n",
       "      <th>6</th>\n",
       "      <td>6</td>\n",
       "      <td>3700000.0</td>\n",
       "      <td>37.30</td>\n",
       "      <td>2017-11-02</td>\n",
       "      <td>1</td>\n",
       "      <td>2.65</td>\n",
       "      <td>26.0</td>\n",
       "      <td>10.600000</td>\n",
       "      <td>6</td>\n",
       "      <td>False</td>\n",
       "      <td>...</td>\n",
       "      <td>NaN</td>\n",
       "      <td>155.0</td>\n",
       "      <td>0.284182</td>\n",
       "      <td>0.386059</td>\n",
       "      <td>99195.710456</td>\n",
       "      <td>3</td>\n",
       "      <td>11</td>\n",
       "      <td>2017</td>\n",
       "      <td>другой</td>\n",
       "      <td>19.0</td>\n",
       "    </tr>\n",
       "    <tr>\n",
       "      <th>7</th>\n",
       "      <td>5</td>\n",
       "      <td>7915000.0</td>\n",
       "      <td>71.60</td>\n",
       "      <td>2019-04-18</td>\n",
       "      <td>2</td>\n",
       "      <td>2.65</td>\n",
       "      <td>24.0</td>\n",
       "      <td>40.658769</td>\n",
       "      <td>22</td>\n",
       "      <td>False</td>\n",
       "      <td>...</td>\n",
       "      <td>NaN</td>\n",
       "      <td>NaN</td>\n",
       "      <td>NaN</td>\n",
       "      <td>0.263966</td>\n",
       "      <td>110544.692737</td>\n",
       "      <td>3</td>\n",
       "      <td>4</td>\n",
       "      <td>2019</td>\n",
       "      <td>другой</td>\n",
       "      <td>12.0</td>\n",
       "    </tr>\n",
       "    <tr>\n",
       "      <th>8</th>\n",
       "      <td>20</td>\n",
       "      <td>2900000.0</td>\n",
       "      <td>33.16</td>\n",
       "      <td>2018-05-23</td>\n",
       "      <td>1</td>\n",
       "      <td>2.65</td>\n",
       "      <td>27.0</td>\n",
       "      <td>15.430000</td>\n",
       "      <td>26</td>\n",
       "      <td>False</td>\n",
       "      <td>...</td>\n",
       "      <td>NaN</td>\n",
       "      <td>189.0</td>\n",
       "      <td>0.465320</td>\n",
       "      <td>0.265682</td>\n",
       "      <td>87454.764777</td>\n",
       "      <td>2</td>\n",
       "      <td>5</td>\n",
       "      <td>2018</td>\n",
       "      <td>другой</td>\n",
       "      <td>NaN</td>\n",
       "    </tr>\n",
       "    <tr>\n",
       "      <th>9</th>\n",
       "      <td>18</td>\n",
       "      <td>5400000.0</td>\n",
       "      <td>61.00</td>\n",
       "      <td>2017-02-26</td>\n",
       "      <td>3</td>\n",
       "      <td>2.50</td>\n",
       "      <td>9.0</td>\n",
       "      <td>43.600000</td>\n",
       "      <td>7</td>\n",
       "      <td>False</td>\n",
       "      <td>...</td>\n",
       "      <td>NaN</td>\n",
       "      <td>289.0</td>\n",
       "      <td>0.714754</td>\n",
       "      <td>0.106557</td>\n",
       "      <td>88524.590164</td>\n",
       "      <td>6</td>\n",
       "      <td>2</td>\n",
       "      <td>2017</td>\n",
       "      <td>другой</td>\n",
       "      <td>15.0</td>\n",
       "    </tr>\n",
       "    <tr>\n",
       "      <th>10</th>\n",
       "      <td>5</td>\n",
       "      <td>5050000.0</td>\n",
       "      <td>39.60</td>\n",
       "      <td>2017-11-16</td>\n",
       "      <td>1</td>\n",
       "      <td>2.67</td>\n",
       "      <td>12.0</td>\n",
       "      <td>20.300000</td>\n",
       "      <td>3</td>\n",
       "      <td>False</td>\n",
       "      <td>...</td>\n",
       "      <td>553.0</td>\n",
       "      <td>137.0</td>\n",
       "      <td>0.512626</td>\n",
       "      <td>0.214646</td>\n",
       "      <td>127525.252525</td>\n",
       "      <td>3</td>\n",
       "      <td>11</td>\n",
       "      <td>2017</td>\n",
       "      <td>другой</td>\n",
       "      <td>14.0</td>\n",
       "    </tr>\n",
       "    <tr>\n",
       "      <th>11</th>\n",
       "      <td>9</td>\n",
       "      <td>3300000.0</td>\n",
       "      <td>44.00</td>\n",
       "      <td>2018-08-27</td>\n",
       "      <td>2</td>\n",
       "      <td>2.65</td>\n",
       "      <td>5.0</td>\n",
       "      <td>31.000000</td>\n",
       "      <td>4</td>\n",
       "      <td>False</td>\n",
       "      <td>...</td>\n",
       "      <td>NaN</td>\n",
       "      <td>7.0</td>\n",
       "      <td>0.704545</td>\n",
       "      <td>0.136364</td>\n",
       "      <td>75000.000000</td>\n",
       "      <td>0</td>\n",
       "      <td>8</td>\n",
       "      <td>2018</td>\n",
       "      <td>другой</td>\n",
       "      <td>52.0</td>\n",
       "    </tr>\n",
       "    <tr>\n",
       "      <th>12</th>\n",
       "      <td>10</td>\n",
       "      <td>3890000.0</td>\n",
       "      <td>54.00</td>\n",
       "      <td>2016-06-30</td>\n",
       "      <td>2</td>\n",
       "      <td>2.65</td>\n",
       "      <td>5.0</td>\n",
       "      <td>30.000000</td>\n",
       "      <td>5</td>\n",
       "      <td>False</td>\n",
       "      <td>...</td>\n",
       "      <td>NaN</td>\n",
       "      <td>90.0</td>\n",
       "      <td>0.555556</td>\n",
       "      <td>0.166667</td>\n",
       "      <td>72037.037037</td>\n",
       "      <td>3</td>\n",
       "      <td>6</td>\n",
       "      <td>2016</td>\n",
       "      <td>последний</td>\n",
       "      <td>NaN</td>\n",
       "    </tr>\n",
       "    <tr>\n",
       "      <th>13</th>\n",
       "      <td>20</td>\n",
       "      <td>3550000.0</td>\n",
       "      <td>42.80</td>\n",
       "      <td>2017-07-01</td>\n",
       "      <td>2</td>\n",
       "      <td>2.56</td>\n",
       "      <td>5.0</td>\n",
       "      <td>27.000000</td>\n",
       "      <td>5</td>\n",
       "      <td>False</td>\n",
       "      <td>...</td>\n",
       "      <td>298.0</td>\n",
       "      <td>366.0</td>\n",
       "      <td>0.630841</td>\n",
       "      <td>0.121495</td>\n",
       "      <td>82943.925234</td>\n",
       "      <td>5</td>\n",
       "      <td>7</td>\n",
       "      <td>2017</td>\n",
       "      <td>последний</td>\n",
       "      <td>33.0</td>\n",
       "    </tr>\n",
       "    <tr>\n",
       "      <th>14</th>\n",
       "      <td>1</td>\n",
       "      <td>4400000.0</td>\n",
       "      <td>36.00</td>\n",
       "      <td>2016-06-23</td>\n",
       "      <td>1</td>\n",
       "      <td>2.65</td>\n",
       "      <td>6.0</td>\n",
       "      <td>17.000000</td>\n",
       "      <td>1</td>\n",
       "      <td>False</td>\n",
       "      <td>...</td>\n",
       "      <td>96.0</td>\n",
       "      <td>203.0</td>\n",
       "      <td>0.472222</td>\n",
       "      <td>0.222222</td>\n",
       "      <td>122222.222222</td>\n",
       "      <td>3</td>\n",
       "      <td>6</td>\n",
       "      <td>2016</td>\n",
       "      <td>первый</td>\n",
       "      <td>31.0</td>\n",
       "    </tr>\n",
       "    <tr>\n",
       "      <th>15</th>\n",
       "      <td>16</td>\n",
       "      <td>4650000.0</td>\n",
       "      <td>39.00</td>\n",
       "      <td>2017-11-18</td>\n",
       "      <td>1</td>\n",
       "      <td>2.65</td>\n",
       "      <td>14.0</td>\n",
       "      <td>20.500000</td>\n",
       "      <td>5</td>\n",
       "      <td>False</td>\n",
       "      <td>...</td>\n",
       "      <td>296.0</td>\n",
       "      <td>19.0</td>\n",
       "      <td>0.525641</td>\n",
       "      <td>0.194872</td>\n",
       "      <td>119230.769231</td>\n",
       "      <td>5</td>\n",
       "      <td>11</td>\n",
       "      <td>2017</td>\n",
       "      <td>другой</td>\n",
       "      <td>14.0</td>\n",
       "    </tr>\n",
       "    <tr>\n",
       "      <th>16</th>\n",
       "      <td>11</td>\n",
       "      <td>6700000.0</td>\n",
       "      <td>82.00</td>\n",
       "      <td>2017-11-23</td>\n",
       "      <td>3</td>\n",
       "      <td>3.05</td>\n",
       "      <td>5.0</td>\n",
       "      <td>55.600000</td>\n",
       "      <td>1</td>\n",
       "      <td>False</td>\n",
       "      <td>...</td>\n",
       "      <td>NaN</td>\n",
       "      <td>397.0</td>\n",
       "      <td>0.678049</td>\n",
       "      <td>0.109756</td>\n",
       "      <td>81707.317073</td>\n",
       "      <td>3</td>\n",
       "      <td>11</td>\n",
       "      <td>2017</td>\n",
       "      <td>первый</td>\n",
       "      <td>11.0</td>\n",
       "    </tr>\n",
       "    <tr>\n",
       "      <th>17</th>\n",
       "      <td>6</td>\n",
       "      <td>4180000.0</td>\n",
       "      <td>36.00</td>\n",
       "      <td>2016-09-09</td>\n",
       "      <td>1</td>\n",
       "      <td>2.65</td>\n",
       "      <td>17.0</td>\n",
       "      <td>16.500000</td>\n",
       "      <td>7</td>\n",
       "      <td>False</td>\n",
       "      <td>...</td>\n",
       "      <td>859.0</td>\n",
       "      <td>571.0</td>\n",
       "      <td>0.458333</td>\n",
       "      <td>0.305556</td>\n",
       "      <td>116111.111111</td>\n",
       "      <td>4</td>\n",
       "      <td>9</td>\n",
       "      <td>2016</td>\n",
       "      <td>другой</td>\n",
       "      <td>15.0</td>\n",
       "    </tr>\n",
       "    <tr>\n",
       "      <th>18</th>\n",
       "      <td>8</td>\n",
       "      <td>3250000.0</td>\n",
       "      <td>31.00</td>\n",
       "      <td>2017-01-27</td>\n",
       "      <td>1</td>\n",
       "      <td>2.50</td>\n",
       "      <td>5.0</td>\n",
       "      <td>19.400000</td>\n",
       "      <td>2</td>\n",
       "      <td>False</td>\n",
       "      <td>...</td>\n",
       "      <td>NaN</td>\n",
       "      <td>168.0</td>\n",
       "      <td>0.625806</td>\n",
       "      <td>0.180645</td>\n",
       "      <td>104838.709677</td>\n",
       "      <td>4</td>\n",
       "      <td>1</td>\n",
       "      <td>2017</td>\n",
       "      <td>другой</td>\n",
       "      <td>11.0</td>\n",
       "    </tr>\n",
       "    <tr>\n",
       "      <th>19</th>\n",
       "      <td>16</td>\n",
       "      <td>14200000.0</td>\n",
       "      <td>121.00</td>\n",
       "      <td>2019-01-09</td>\n",
       "      <td>3</td>\n",
       "      <td>2.75</td>\n",
       "      <td>16.0</td>\n",
       "      <td>76.000000</td>\n",
       "      <td>8</td>\n",
       "      <td>False</td>\n",
       "      <td>...</td>\n",
       "      <td>NaN</td>\n",
       "      <td>97.0</td>\n",
       "      <td>0.628099</td>\n",
       "      <td>0.099174</td>\n",
       "      <td>117355.371901</td>\n",
       "      <td>2</td>\n",
       "      <td>1</td>\n",
       "      <td>2019</td>\n",
       "      <td>другой</td>\n",
       "      <td>13.0</td>\n",
       "    </tr>\n",
       "    <tr>\n",
       "      <th>20</th>\n",
       "      <td>12</td>\n",
       "      <td>6120000.0</td>\n",
       "      <td>80.00</td>\n",
       "      <td>2017-09-28</td>\n",
       "      <td>3</td>\n",
       "      <td>2.70</td>\n",
       "      <td>27.0</td>\n",
       "      <td>48.000000</td>\n",
       "      <td>11</td>\n",
       "      <td>False</td>\n",
       "      <td>...</td>\n",
       "      <td>NaN</td>\n",
       "      <td>74.0</td>\n",
       "      <td>0.600000</td>\n",
       "      <td>0.150000</td>\n",
       "      <td>76500.000000</td>\n",
       "      <td>3</td>\n",
       "      <td>9</td>\n",
       "      <td>2017</td>\n",
       "      <td>другой</td>\n",
       "      <td>19.0</td>\n",
       "    </tr>\n",
       "    <tr>\n",
       "      <th>21</th>\n",
       "      <td>13</td>\n",
       "      <td>3200000.0</td>\n",
       "      <td>31.60</td>\n",
       "      <td>2018-03-14</td>\n",
       "      <td>1</td>\n",
       "      <td>2.65</td>\n",
       "      <td>5.0</td>\n",
       "      <td>16.900000</td>\n",
       "      <td>2</td>\n",
       "      <td>False</td>\n",
       "      <td>...</td>\n",
       "      <td>NaN</td>\n",
       "      <td>310.0</td>\n",
       "      <td>0.534810</td>\n",
       "      <td>0.180380</td>\n",
       "      <td>101265.822785</td>\n",
       "      <td>2</td>\n",
       "      <td>3</td>\n",
       "      <td>2018</td>\n",
       "      <td>другой</td>\n",
       "      <td>10.0</td>\n",
       "    </tr>\n",
       "    <tr>\n",
       "      <th>22</th>\n",
       "      <td>20</td>\n",
       "      <td>5000000.0</td>\n",
       "      <td>58.00</td>\n",
       "      <td>2017-04-24</td>\n",
       "      <td>2</td>\n",
       "      <td>2.75</td>\n",
       "      <td>25.0</td>\n",
       "      <td>30.000000</td>\n",
       "      <td>15</td>\n",
       "      <td>False</td>\n",
       "      <td>...</td>\n",
       "      <td>NaN</td>\n",
       "      <td>60.0</td>\n",
       "      <td>0.517241</td>\n",
       "      <td>0.189655</td>\n",
       "      <td>86206.896552</td>\n",
       "      <td>0</td>\n",
       "      <td>4</td>\n",
       "      <td>2017</td>\n",
       "      <td>другой</td>\n",
       "      <td>NaN</td>\n",
       "    </tr>\n",
       "    <tr>\n",
       "      <th>23</th>\n",
       "      <td>11</td>\n",
       "      <td>2950000.0</td>\n",
       "      <td>32.00</td>\n",
       "      <td>2016-10-29</td>\n",
       "      <td>1</td>\n",
       "      <td>2.60</td>\n",
       "      <td>9.0</td>\n",
       "      <td>17.700000</td>\n",
       "      <td>9</td>\n",
       "      <td>False</td>\n",
       "      <td>...</td>\n",
       "      <td>190.0</td>\n",
       "      <td>615.0</td>\n",
       "      <td>0.553125</td>\n",
       "      <td>0.190625</td>\n",
       "      <td>92187.500000</td>\n",
       "      <td>5</td>\n",
       "      <td>10</td>\n",
       "      <td>2016</td>\n",
       "      <td>последний</td>\n",
       "      <td>14.0</td>\n",
       "    </tr>\n",
       "    <tr>\n",
       "      <th>24</th>\n",
       "      <td>8</td>\n",
       "      <td>6500000.0</td>\n",
       "      <td>97.20</td>\n",
       "      <td>2015-10-31</td>\n",
       "      <td>2</td>\n",
       "      <td>2.65</td>\n",
       "      <td>3.0</td>\n",
       "      <td>46.500000</td>\n",
       "      <td>1</td>\n",
       "      <td>False</td>\n",
       "      <td>...</td>\n",
       "      <td>124.0</td>\n",
       "      <td>265.0</td>\n",
       "      <td>0.478395</td>\n",
       "      <td>0.201646</td>\n",
       "      <td>66872.427984</td>\n",
       "      <td>5</td>\n",
       "      <td>10</td>\n",
       "      <td>2015</td>\n",
       "      <td>первый</td>\n",
       "      <td>2.0</td>\n",
       "    </tr>\n",
       "    <tr>\n",
       "      <th>25</th>\n",
       "      <td>3</td>\n",
       "      <td>6800000.0</td>\n",
       "      <td>76.00</td>\n",
       "      <td>2015-10-01</td>\n",
       "      <td>2</td>\n",
       "      <td>2.75</td>\n",
       "      <td>23.0</td>\n",
       "      <td>39.000000</td>\n",
       "      <td>18</td>\n",
       "      <td>False</td>\n",
       "      <td>...</td>\n",
       "      <td>564.0</td>\n",
       "      <td>300.0</td>\n",
       "      <td>0.513158</td>\n",
       "      <td>0.197368</td>\n",
       "      <td>89473.684211</td>\n",
       "      <td>3</td>\n",
       "      <td>10</td>\n",
       "      <td>2015</td>\n",
       "      <td>другой</td>\n",
       "      <td>15.0</td>\n",
       "    </tr>\n",
       "    <tr>\n",
       "      <th>26</th>\n",
       "      <td>6</td>\n",
       "      <td>4050000.0</td>\n",
       "      <td>60.00</td>\n",
       "      <td>2017-04-28</td>\n",
       "      <td>4</td>\n",
       "      <td>2.65</td>\n",
       "      <td>5.0</td>\n",
       "      <td>43.000000</td>\n",
       "      <td>4</td>\n",
       "      <td>False</td>\n",
       "      <td>...</td>\n",
       "      <td>95.0</td>\n",
       "      <td>265.0</td>\n",
       "      <td>0.716667</td>\n",
       "      <td>0.116667</td>\n",
       "      <td>67500.000000</td>\n",
       "      <td>4</td>\n",
       "      <td>4</td>\n",
       "      <td>2017</td>\n",
       "      <td>другой</td>\n",
       "      <td>11.0</td>\n",
       "    </tr>\n",
       "    <tr>\n",
       "      <th>27</th>\n",
       "      <td>20</td>\n",
       "      <td>7100000.0</td>\n",
       "      <td>70.00</td>\n",
       "      <td>2017-05-12</td>\n",
       "      <td>3</td>\n",
       "      <td>2.60</td>\n",
       "      <td>17.0</td>\n",
       "      <td>49.000000</td>\n",
       "      <td>11</td>\n",
       "      <td>False</td>\n",
       "      <td>...</td>\n",
       "      <td>779.0</td>\n",
       "      <td>151.0</td>\n",
       "      <td>0.700000</td>\n",
       "      <td>0.131429</td>\n",
       "      <td>101428.571429</td>\n",
       "      <td>4</td>\n",
       "      <td>5</td>\n",
       "      <td>2017</td>\n",
       "      <td>другой</td>\n",
       "      <td>11.0</td>\n",
       "    </tr>\n",
       "    <tr>\n",
       "      <th>28</th>\n",
       "      <td>8</td>\n",
       "      <td>4170000.0</td>\n",
       "      <td>44.00</td>\n",
       "      <td>2017-12-13</td>\n",
       "      <td>1</td>\n",
       "      <td>2.90</td>\n",
       "      <td>6.0</td>\n",
       "      <td>20.800000</td>\n",
       "      <td>1</td>\n",
       "      <td>False</td>\n",
       "      <td>...</td>\n",
       "      <td>118.0</td>\n",
       "      <td>74.0</td>\n",
       "      <td>0.472727</td>\n",
       "      <td>0.265909</td>\n",
       "      <td>94772.727273</td>\n",
       "      <td>2</td>\n",
       "      <td>12</td>\n",
       "      <td>2017</td>\n",
       "      <td>первый</td>\n",
       "      <td>31.0</td>\n",
       "    </tr>\n",
       "    <tr>\n",
       "      <th>29</th>\n",
       "      <td>9</td>\n",
       "      <td>8600000.0</td>\n",
       "      <td>100.00</td>\n",
       "      <td>2016-04-09</td>\n",
       "      <td>3</td>\n",
       "      <td>2.65</td>\n",
       "      <td>19.0</td>\n",
       "      <td>52.000000</td>\n",
       "      <td>15</td>\n",
       "      <td>False</td>\n",
       "      <td>...</td>\n",
       "      <td>896.0</td>\n",
       "      <td>125.0</td>\n",
       "      <td>0.520000</td>\n",
       "      <td>0.110000</td>\n",
       "      <td>86000.000000</td>\n",
       "      <td>5</td>\n",
       "      <td>4</td>\n",
       "      <td>2016</td>\n",
       "      <td>другой</td>\n",
       "      <td>12.0</td>\n",
       "    </tr>\n",
       "  </tbody>\n",
       "</table>\n",
       "<p>30 rows × 30 columns</p>\n",
       "</div>"
      ],
      "text/plain": [
       "    total_images  last_price  total_area first_day_exposition  rooms  \\\n",
       "0             20  13000000.0      108.00           2019-03-07      3   \n",
       "1              7   3350000.0       40.40           2018-12-04      1   \n",
       "2             10   5196000.0       56.00           2015-08-20      2   \n",
       "3              0  64900000.0      159.00           2015-07-24      3   \n",
       "4              2  10000000.0      100.00           2018-06-19      2   \n",
       "5             10   2890000.0       30.40           2018-09-10      1   \n",
       "6              6   3700000.0       37.30           2017-11-02      1   \n",
       "7              5   7915000.0       71.60           2019-04-18      2   \n",
       "8             20   2900000.0       33.16           2018-05-23      1   \n",
       "9             18   5400000.0       61.00           2017-02-26      3   \n",
       "10             5   5050000.0       39.60           2017-11-16      1   \n",
       "11             9   3300000.0       44.00           2018-08-27      2   \n",
       "12            10   3890000.0       54.00           2016-06-30      2   \n",
       "13            20   3550000.0       42.80           2017-07-01      2   \n",
       "14             1   4400000.0       36.00           2016-06-23      1   \n",
       "15            16   4650000.0       39.00           2017-11-18      1   \n",
       "16            11   6700000.0       82.00           2017-11-23      3   \n",
       "17             6   4180000.0       36.00           2016-09-09      1   \n",
       "18             8   3250000.0       31.00           2017-01-27      1   \n",
       "19            16  14200000.0      121.00           2019-01-09      3   \n",
       "20            12   6120000.0       80.00           2017-09-28      3   \n",
       "21            13   3200000.0       31.60           2018-03-14      1   \n",
       "22            20   5000000.0       58.00           2017-04-24      2   \n",
       "23            11   2950000.0       32.00           2016-10-29      1   \n",
       "24             8   6500000.0       97.20           2015-10-31      2   \n",
       "25             3   6800000.0       76.00           2015-10-01      2   \n",
       "26             6   4050000.0       60.00           2017-04-28      4   \n",
       "27            20   7100000.0       70.00           2017-05-12      3   \n",
       "28             8   4170000.0       44.00           2017-12-13      1   \n",
       "29             9   8600000.0      100.00           2016-04-09      3   \n",
       "\n",
       "    ceiling_height  floors_total  living_area  floor  is_apartment  ...  \\\n",
       "0             2.70          16.0    51.000000      8         False  ...   \n",
       "1             2.65          11.0    18.600000      1         False  ...   \n",
       "2             2.65           5.0    34.300000      4         False  ...   \n",
       "3             2.65          14.0    90.289724      9         False  ...   \n",
       "4             3.03          14.0    32.000000     13         False  ...   \n",
       "5             2.65          12.0    14.400000      5         False  ...   \n",
       "6             2.65          26.0    10.600000      6         False  ...   \n",
       "7             2.65          24.0    40.658769     22         False  ...   \n",
       "8             2.65          27.0    15.430000     26         False  ...   \n",
       "9             2.50           9.0    43.600000      7         False  ...   \n",
       "10            2.67          12.0    20.300000      3         False  ...   \n",
       "11            2.65           5.0    31.000000      4         False  ...   \n",
       "12            2.65           5.0    30.000000      5         False  ...   \n",
       "13            2.56           5.0    27.000000      5         False  ...   \n",
       "14            2.65           6.0    17.000000      1         False  ...   \n",
       "15            2.65          14.0    20.500000      5         False  ...   \n",
       "16            3.05           5.0    55.600000      1         False  ...   \n",
       "17            2.65          17.0    16.500000      7         False  ...   \n",
       "18            2.50           5.0    19.400000      2         False  ...   \n",
       "19            2.75          16.0    76.000000      8         False  ...   \n",
       "20            2.70          27.0    48.000000     11         False  ...   \n",
       "21            2.65           5.0    16.900000      2         False  ...   \n",
       "22            2.75          25.0    30.000000     15         False  ...   \n",
       "23            2.60           9.0    17.700000      9         False  ...   \n",
       "24            2.65           3.0    46.500000      1         False  ...   \n",
       "25            2.75          23.0    39.000000     18         False  ...   \n",
       "26            2.65           5.0    43.000000      4         False  ...   \n",
       "27            2.60          17.0    49.000000     11         False  ...   \n",
       "28            2.90           6.0    20.800000      1         False  ...   \n",
       "29            2.65          19.0    52.000000     15         False  ...   \n",
       "\n",
       "    ponds_nearest  days_exposition  living_area_percent_of_total  \\\n",
       "0           755.0              NaN                      0.472222   \n",
       "1             NaN             81.0                      0.460396   \n",
       "2           574.0            558.0                      0.612500   \n",
       "3           234.0            424.0                           NaN   \n",
       "4            48.0            121.0                      0.320000   \n",
       "5             NaN             55.0                      0.473684   \n",
       "6             NaN            155.0                      0.284182   \n",
       "7             NaN              NaN                           NaN   \n",
       "8             NaN            189.0                      0.465320   \n",
       "9             NaN            289.0                      0.714754   \n",
       "10          553.0            137.0                      0.512626   \n",
       "11            NaN              7.0                      0.704545   \n",
       "12            NaN             90.0                      0.555556   \n",
       "13          298.0            366.0                      0.630841   \n",
       "14           96.0            203.0                      0.472222   \n",
       "15          296.0             19.0                      0.525641   \n",
       "16            NaN            397.0                      0.678049   \n",
       "17          859.0            571.0                      0.458333   \n",
       "18            NaN            168.0                      0.625806   \n",
       "19            NaN             97.0                      0.628099   \n",
       "20            NaN             74.0                      0.600000   \n",
       "21            NaN            310.0                      0.534810   \n",
       "22            NaN             60.0                      0.517241   \n",
       "23          190.0            615.0                      0.553125   \n",
       "24          124.0            265.0                      0.478395   \n",
       "25          564.0            300.0                      0.513158   \n",
       "26           95.0            265.0                      0.716667   \n",
       "27          779.0            151.0                      0.700000   \n",
       "28          118.0             74.0                      0.472727   \n",
       "29          896.0            125.0                      0.520000   \n",
       "\n",
       "    kitchen_area_percent_of_total price_per_meter  weekday_exposition  \\\n",
       "0                        0.231481   120370.370370                   3   \n",
       "1                        0.272277    82920.792079                   1   \n",
       "2                        0.148214    92785.714286                   3   \n",
       "3                             NaN   408176.100629                   4   \n",
       "4                        0.410000   100000.000000                   1   \n",
       "5                        0.299342    95065.789474                   0   \n",
       "6                        0.386059    99195.710456                   3   \n",
       "7                        0.263966   110544.692737                   3   \n",
       "8                        0.265682    87454.764777                   2   \n",
       "9                        0.106557    88524.590164                   6   \n",
       "10                       0.214646   127525.252525                   3   \n",
       "11                       0.136364    75000.000000                   0   \n",
       "12                       0.166667    72037.037037                   3   \n",
       "13                       0.121495    82943.925234                   5   \n",
       "14                       0.222222   122222.222222                   3   \n",
       "15                       0.194872   119230.769231                   5   \n",
       "16                       0.109756    81707.317073                   3   \n",
       "17                       0.305556   116111.111111                   4   \n",
       "18                       0.180645   104838.709677                   4   \n",
       "19                       0.099174   117355.371901                   2   \n",
       "20                       0.150000    76500.000000                   3   \n",
       "21                       0.180380   101265.822785                   2   \n",
       "22                       0.189655    86206.896552                   0   \n",
       "23                       0.190625    92187.500000                   5   \n",
       "24                       0.201646    66872.427984                   5   \n",
       "25                       0.197368    89473.684211                   3   \n",
       "26                       0.116667    67500.000000                   4   \n",
       "27                       0.131429   101428.571429                   4   \n",
       "28                       0.265909    94772.727273                   2   \n",
       "29                       0.110000    86000.000000                   5   \n",
       "\n",
       "    month_exposition  year_exposition  floor_type  cityCenters_nearest_km  \n",
       "0                  3             2019      другой                    16.0  \n",
       "1                 12             2018      первый                    19.0  \n",
       "2                  8             2015      другой                    14.0  \n",
       "3                  7             2015      другой                     7.0  \n",
       "4                  6             2018      другой                     8.0  \n",
       "5                  9             2018      другой                     NaN  \n",
       "6                 11             2017      другой                    19.0  \n",
       "7                  4             2019      другой                    12.0  \n",
       "8                  5             2018      другой                     NaN  \n",
       "9                  2             2017      другой                    15.0  \n",
       "10                11             2017      другой                    14.0  \n",
       "11                 8             2018      другой                    52.0  \n",
       "12                 6             2016   последний                     NaN  \n",
       "13                 7             2017   последний                    33.0  \n",
       "14                 6             2016      первый                    31.0  \n",
       "15                11             2017      другой                    14.0  \n",
       "16                11             2017      первый                    11.0  \n",
       "17                 9             2016      другой                    15.0  \n",
       "18                 1             2017      другой                    11.0  \n",
       "19                 1             2019      другой                    13.0  \n",
       "20                 9             2017      другой                    19.0  \n",
       "21                 3             2018      другой                    10.0  \n",
       "22                 4             2017      другой                     NaN  \n",
       "23                10             2016   последний                    14.0  \n",
       "24                10             2015      первый                     2.0  \n",
       "25                10             2015      другой                    15.0  \n",
       "26                 4             2017      другой                    11.0  \n",
       "27                 5             2017      другой                    11.0  \n",
       "28                12             2017      первый                    31.0  \n",
       "29                 4             2016      другой                    12.0  \n",
       "\n",
       "[30 rows x 30 columns]"
      ]
     },
     "execution_count": 14,
     "metadata": {},
     "output_type": "execute_result"
    }
   ],
   "source": [
    "data['price_per_meter'] = data['last_price'] / data['total_area'] #цена одного квадратного метра\n",
    "data['weekday_exposition'] = data['first_day_exposition'].dt.weekday #день недели публикации объявления (0 — понедельник, 1 — вторник и так далее)\n",
    "data['month_exposition'] = data['first_day_exposition'].dt.month #месяц публикации объявления\n",
    "data['year_exposition'] = data['first_day_exposition'].dt.year #год публикации объявления\n",
    "\n",
    "def floor_type(data):\n",
    "    if data['floor'] == 1:\n",
    "        return 'первый'\n",
    "    if data['floor'] == data['floors_total']:\n",
    "        return 'последний'\n",
    "    return 'другой'\n",
    "\n",
    "data['floor_type'] = data.apply(floor_type, axis=1) #тип этажа квартиры (значения — «первый», «последний», «другой»)\n",
    "data['cityCenters_nearest_km'] = data['cityCenters_nearest'] / 1000 #расстояние до центра города в километрах\n",
    "data['cityCenters_nearest_km'] = data['cityCenters_nearest_km'].round(0) #округлим до целого\n",
    "data.head(30)"
   ]
  },
  {
   "cell_type": "markdown",
   "metadata": {},
   "source": [
    "### Проведите исследовательский анализ данных"
   ]
  },
  {
   "cell_type": "code",
   "execution_count": 15,
   "metadata": {},
   "outputs": [
    {
     "data": {
      "image/png": "[encoded data removed]",
      "text/plain": [
       "<Figure size 432x288 with 1 Axes>"
      ]
     },
     "metadata": {
      "needs_background": "light"
     },
     "output_type": "display_data"
    },
    {
     "data": {
      "image/png": "[encoded data removed]",
      "text/plain": [
       "<Figure size 432x288 with 1 Axes>"
      ]
     },
     "metadata": {
      "needs_background": "light"
     },
     "output_type": "display_data"
    },
    {
     "data": {
      "image/png": "[encoded data removed]",
      "text/plain": [
       "<Figure size 432x288 with 1 Axes>"
      ]
     },
     "metadata": {
      "needs_background": "light"
     },
     "output_type": "display_data"
    },
    {
     "data": {
      "image/png": "[encoded data removed]",
      "text/plain": [
       "<Figure size 432x288 with 1 Axes>"
      ]
     },
     "metadata": {
      "needs_background": "light"
     },
     "output_type": "display_data"
    },
    {
     "data": {
      "image/png": "[encoded data removed]",
      "text/plain": [
       "<Figure size 432x288 with 1 Axes>"
      ]
     },
     "metadata": {
      "needs_background": "light"
     },
     "output_type": "display_data"
    },
    {
     "data": {
      "image/png": "[encoded data removed]",
      "text/plain": [
       "<Figure size 432x288 with 1 Axes>"
      ]
     },
     "metadata": {
      "needs_background": "light"
     },
     "output_type": "display_data"
    },
    {
     "data": {
      "image/png": "[encoded data removed]",
      "text/plain": [
       "<Figure size 432x288 with 1 Axes>"
      ]
     },
     "metadata": {
      "needs_background": "light"
     },
     "output_type": "display_data"
    },
    {
     "data": {
      "image/png": "[encoded data removed]",
      "text/plain": [
       "<Figure size 432x288 with 1 Axes>"
      ]
     },
     "metadata": {},
     "output_type": "display_data"
    },
    {
     "data": {
      "image/png": "[encoded data removed]",
      "text/plain": [
       "<Figure size 432x288 with 1 Axes>"
      ]
     },
     "metadata": {
      "needs_background": "light"
     },
     "output_type": "display_data"
    },
    {
     "data": {
      "image/png": "[encoded data removed]",
      "text/plain": [
       "<Figure size 432x288 with 1 Axes>"
      ]
     },
     "metadata": {
      "needs_background": "light"
     },
     "output_type": "display_data"
    },
    {
     "data": {
      "image/png": "[encoded data removed]",
      "text/plain": [
       "<Figure size 432x288 with 1 Axes>"
      ]
     },
     "metadata": {
      "needs_background": "light"
     },
     "output_type": "display_data"
    },
    {
     "data": {
      "image/png": "[encoded data removed]",
      "text/plain": [
       "<Figure size 432x288 with 1 Axes>"
      ]
     },
     "metadata": {
      "needs_background": "light"
     },
     "output_type": "display_data"
    },
    {
     "data": {
      "image/png": "[encoded data removed]",
      "text/plain": [
       "<Figure size 432x288 with 1 Axes>"
      ]
     },
     "metadata": {
      "needs_background": "light"
     },
     "output_type": "display_data"
    },
    {
     "data": {
      "text/plain": [
       "<AxesSubplot:title={'center':'month_exposition'}, ylabel='Frequency'>"
      ]
     },
     "execution_count": 15,
     "metadata": {},
     "output_type": "execute_result"
    },
    {
     "data": {
      "image/png": "[encoded data removed]",
      "text/plain": [
       "<Figure size 432x288 with 1 Axes>"
      ]
     },
     "metadata": {
      "needs_background": "light"
     },
     "output_type": "display_data"
    }
   ],
   "source": [
    "data['total_area'].plot(kind='hist', title='total_area', bins=20, range=(0,125))\n",
    "plt.show()\n",
    "data['living_area'].plot(kind='hist', title='living_area', bins=20, range=(0,125))\n",
    "plt.show()\n",
    "data['kitchen_area'].plot(kind='hist', title='kitchen_area', bins=20, range=(0,40))\n",
    "plt.show()\n",
    "data['last_price'].plot(kind='hist', title='last_price', bins=20, range=(0,2.5*1e7))\n",
    "plt.show()\n",
    "data['rooms'].plot(kind='hist', title='rooms', bins=9, range=(0,8))\n",
    "plt.show()\n",
    "data['ceiling_height'].plot(kind='hist', title='ceiling_height', bins=20, range=(2,4.5))\n",
    "plt.show()\n",
    "data['floor'].plot(kind='hist', title='floor', bins=20, range=(1,30))\n",
    "plt.show()\n",
    "data['floor_type'].value_counts().plot(kind='pie', title='floor_type')\n",
    "plt.show()\n",
    "data['floors_total'].plot(kind='hist', title='floors_total', bins=20, range=(1,35))\n",
    "plt.show()\n",
    "data['cityCenters_nearest'].plot(kind='hist', title='cityCenters_nearest', bins=20, range=(0,55000))\n",
    "plt.show()\n",
    "data['airports_nearest'].plot(kind='hist', title='airports_nearest', bins=20, range=(0,80000))\n",
    "plt.show()\n",
    "data['parks_nearest'].plot(kind='hist', title='parks_nearest', bins=20, range=(0,3000))\n",
    "plt.show()\n",
    "data['weekday_exposition'].plot(kind='hist', title='weekday_exposition', bins=7, range=(0,6))\n",
    "plt.show()\n",
    "data['month_exposition'].plot(kind='hist', title='month_exposition', bins=12, range=(1,12))"
   ]
  },
  {
   "cell_type": "markdown",
   "metadata": {},
   "source": [
    "Столбец                   | Самые часто встречающиеся значения | Диапазон большинства значений\n",
    ":------------------------ | :--------------------------------- | :----------------------------\n",
    "Общая площадь             | 30-60 кв.м                         | 25-80 кв.м\n",
    "Жилая площаль             | 15-30 кв.м                         | 15-50 кв.м\n",
    "Площадь кухни             | 7-12 кв.м                          | 5-15 кв.м\n",
    "Цена объекта              | 3-6 млн руб.                       | 2-9 млн. руб.\n",
    "Кол-во комнат             | 1-2                                | 1-3\n",
    "Высота потолков           | 2.5-2.7 м                          | 2.5-3.2 м\n",
    "Этаж                      | 1-5                                | 1-10\n",
    "Тип этажа                 | не первый, не последний            | не первый, не последний\n",
    "Общее кол-во этажей       | 5-9                                | 3-26\n",
    "Расст. до центра города   | 120-180 км                         | 50-200 км\n",
    "Расст. до ближ. аэропорта | 100-250 км                         | 100-500 км\n",
    "Расст. до ближ. парка     | 400-500 м                          | 0-600 м\n",
    "День недели публикации    | будние дни                         | все дни\n",
    "Месяц публикации          | весенние и осениие месяцы          | все месяцы, кроме января и мая"
   ]
  },
  {
   "cell_type": "code",
   "execution_count": 16,
   "metadata": {},
   "outputs": [
    {
     "data": {
      "image/png": "[encoded data removed]",
      "text/plain": [
       "<Figure size 432x288 with 1 Axes>"
      ]
     },
     "metadata": {
      "needs_background": "light"
     },
     "output_type": "display_data"
    },
    {
     "data": {
      "image/png": "[encoded data removed]",
      "text/plain": [
       "<Figure size 432x288 with 1 Axes>"
      ]
     },
     "metadata": {
      "needs_background": "light"
     },
     "output_type": "display_data"
    },
    {
     "name": "stdout",
     "output_type": "stream",
     "text": [
      "Среднее по days_exposition: 180.8077616888499\n",
      "Медиана по days_exposition: 95.0\n"
     ]
    },
    {
     "data": {
      "text/plain": [
       "<AxesSubplot:>"
      ]
     },
     "execution_count": 16,
     "metadata": {},
     "output_type": "execute_result"
    },
    {
     "data": {
      "image/png": "[encoded data removed]",
      "text/plain": [
       "<Figure size 432x288 with 1 Axes>"
      ]
     },
     "metadata": {
      "needs_background": "light"
     },
     "output_type": "display_data"
    }
   ],
   "source": [
    "data['days_exposition'].plot(kind='hist', title='days_exposition', bins=20)\n",
    "plt.show()\n",
    "data['days_exposition'].plot(kind='hist', title='days_exposition', bins=40, range=(0,400))\n",
    "plt.show()\n",
    "print('Среднее по days_exposition:', data['days_exposition'].mean())\n",
    "print('Медиана по days_exposition:', data['days_exposition'].median())\n",
    "plt.ylim(0, 600)\n",
    "data.boxplot(column=['days_exposition'])"
   ]
  },
  {
   "cell_type": "markdown",
   "metadata": {},
   "source": [
    "Продажа квартиры обычно занимает 50-220 дней с момента размещения объявления.\n",
    "Среднее составило 182 дня, медиана - 97 дней, мода - 50 дней.\n",
    "\n",
    "Быстрыми можно назвать продажи, которые заняли менее 50 дней (первый квартиль, только 25% продаж были быстрее), \n",
    "\n",
    "долгими - более 220 (третий квартиль, только 25% продаж были медленее), \n",
    "\n",
    "необычайно долгими - более 510 дней (третий квартиль + межквартильный размах*1.5)."
   ]
  },
  {
   "cell_type": "code",
   "execution_count": 17,
   "metadata": {},
   "outputs": [
    {
     "name": "stdout",
     "output_type": "stream",
     "text": [
      "           median      count\n",
      "       last_price last_price\n",
      "rooms                       \n",
      "0       2700000.0        197\n",
      "1       3600000.0       8047\n",
      "2       4770169.0       7940\n",
      "3       6200000.0       5814\n",
      "4       9000000.0       1180\n",
      "5      14000000.0        326\n",
      "6      19000000.0        105\n",
      "7      24900000.0         59\n",
      "8      23095000.0         12\n",
      "9      23750000.0          8\n",
      "10     23000000.0          3\n",
      "               median      count\n",
      "           last_price last_price\n",
      "floor_type                      \n",
      "другой      4850000.0      17441\n",
      "первый      3900000.0       2917\n",
      "последний   4300000.0       3333\n",
      "                       median      count\n",
      "                   last_price last_price\n",
      "weekday_exposition                      \n",
      "0                   4650000.0       3611\n",
      "1                   4725000.0       4182\n",
      "2                   4700000.0       3973\n",
      "3                   4650000.0       4293\n",
      "4                   4585000.0       4000\n",
      "5                   4550000.0       1934\n",
      "6                   4550000.0       1698\n",
      "                     median      count\n",
      "                 last_price last_price\n",
      "month_exposition                      \n",
      "1                 4600000.0       1500\n",
      "2                 4650000.0       2638\n",
      "3                 4650000.0       2585\n",
      "4                 4800000.0       2379\n",
      "5                 4515000.0       1274\n",
      "6                 4400000.0       1759\n",
      "7                 4650000.0       1694\n",
      "8                 4570000.0       1744\n",
      "9                 4700000.0       1981\n",
      "10                4570000.0       2127\n",
      "11                4700000.0       2371\n",
      "12                4700000.0       1639\n",
      "                    median      count\n",
      "                last_price last_price\n",
      "year_exposition                      \n",
      "2014             7700000.0        137\n",
      "2015             5350000.0       1190\n",
      "2016             4550000.0       2782\n",
      "2017             4500000.0       8187\n",
      "2018             4550000.0       8517\n",
      "2019             5050000.0       2878\n",
      "Correlation between last_price and total_area: 0.72\n",
      "Correlation between last_price and living_area: 0.67\n",
      "Correlation between last_price and kitchen_area: 0.59\n",
      "Correlation between last_price and rooms: 0.44\n"
     ]
    },
    {
     "data": {
      "image/png": "[encoded data removed]",
      "text/plain": [
       "<Figure size 432x288 with 1 Axes>"
      ]
     },
     "metadata": {
      "needs_background": "light"
     },
     "output_type": "display_data"
    },
    {
     "data": {
      "image/png": "[encoded data removed]",
      "text/plain": [
       "<Figure size 432x288 with 1 Axes>"
      ]
     },
     "metadata": {
      "needs_background": "light"
     },
     "output_type": "display_data"
    },
    {
     "data": {
      "image/png": "[encoded data removed]",
      "text/plain": [
       "<Figure size 432x288 with 1 Axes>"
      ]
     },
     "metadata": {
      "needs_background": "light"
     },
     "output_type": "display_data"
    }
   ],
   "source": [
    "data.plot(x='total_area', y='last_price', kind='scatter')\n",
    "\n",
    "data.plot(x='living_area', y='last_price', kind='scatter')\n",
    "\n",
    "data.plot(x='kitchen_area', y='last_price', kind='scatter')\n",
    "\n",
    "print(pd.pivot_table(data, index='rooms', values='last_price', aggfunc=['median', 'count']))\n",
    "\n",
    "print(pd.pivot_table(data, index='floor_type', values='last_price', aggfunc=['median', 'count']))\n",
    "\n",
    "print(pd.pivot_table(data, index='weekday_exposition', values='last_price', aggfunc=['median', 'count']))\n",
    "print(pd.pivot_table(data, index='month_exposition', values='last_price', aggfunc=['median', 'count']))\n",
    "print(pd.pivot_table(data, index='year_exposition', values='last_price', aggfunc=['median', 'count']))\n",
    "\n",
    "for i in ['total_area', 'living_area', 'kitchen_area', 'rooms']:\n",
    "    print(f'Correlation between last_price and {i}:', data['last_price'].corr(data[i]).round(2))"
   ]
  },
  {
   "cell_type": "markdown",
   "metadata": {},
   "source": [
    "Цена квартиры зависит от общей площади, жилой площади, площади кухни (указано в порядке уменьшения корреляции, т.е. от общей площади зависит больше, от площади кухни - меньше).\n",
    "\n",
    "Зависимость цены от | Коэфф. корреляции\n",
    ":------------------ | :----------------\n",
    "общей площади       | 0.65\n",
    "жилой площади       | 0.59\n",
    "площади кухни       | 0.51\n",
    "\n",
    "С увеличением количества комнат цена квартиры растет (коэфф. корреляции 0.36).\n",
    "\n",
    "По этажу самыми дорогими оказались квартиры, распологающиеся не на первом и не на последнем этаже. Самыми дешевыми - квартиры на первом этаже.\n",
    "\n",
    "Цена квартиры не зависит от дня недели, в который было выставлено объявление о продаже.\n",
    "\n",
    "Месяцем, в котором выставленные на продажу квартиры имели наименьшую цену, оказался июнь (медианная цена ~4,8 млн). Самый \"дорогой\" месяц - апрель (медианная цена ~4,5 млн). В остальные месяцы разница в цене не существенна и колеблется в пределах 4,6-4,7 млн.\n",
    "\n",
    "Объявлений 2014 года в данных слишком мало (на порядок меньше, чем в остальные годы), чтобы их учитывать. По годам 2015-2019 заметно снижение цен к 2017 году (с 5,4 млн до 4,6 млн) и последующее повышение (до 5,1 млн)."
   ]
  },
  {
   "cell_type": "code",
   "execution_count": 18,
   "metadata": {},
   "outputs": [
    {
     "data": {
      "text/html": [
       "<div>\n",
       "<style scoped>\n",
       "    .dataframe tbody tr th:only-of-type {\n",
       "        vertical-align: middle;\n",
       "    }\n",
       "\n",
       "    .dataframe tbody tr th {\n",
       "        vertical-align: top;\n",
       "    }\n",
       "\n",
       "    .dataframe thead th {\n",
       "        text-align: right;\n",
       "    }\n",
       "</style>\n",
       "<table border=\"1\" class=\"dataframe\">\n",
       "  <thead>\n",
       "    <tr style=\"text-align: right;\">\n",
       "      <th></th>\n",
       "      <th>count</th>\n",
       "      <th>mean</th>\n",
       "    </tr>\n",
       "    <tr>\n",
       "      <th>locality_name</th>\n",
       "      <th></th>\n",
       "      <th></th>\n",
       "    </tr>\n",
       "  </thead>\n",
       "  <tbody>\n",
       "    <tr>\n",
       "      <th>Санкт-Петербург</th>\n",
       "      <td>15713</td>\n",
       "      <td>114620.590188</td>\n",
       "    </tr>\n",
       "    <tr>\n",
       "      <th>Мурино</th>\n",
       "      <td>590</td>\n",
       "      <td>86087.512050</td>\n",
       "    </tr>\n",
       "    <tr>\n",
       "      <th>Кудрово</th>\n",
       "      <td>472</td>\n",
       "      <td>95324.930544</td>\n",
       "    </tr>\n",
       "    <tr>\n",
       "      <th>Шушары</th>\n",
       "      <td>440</td>\n",
       "      <td>78677.364217</td>\n",
       "    </tr>\n",
       "    <tr>\n",
       "      <th>Всеволожск</th>\n",
       "      <td>398</td>\n",
       "      <td>68654.473986</td>\n",
       "    </tr>\n",
       "    <tr>\n",
       "      <th>Пушкин</th>\n",
       "      <td>369</td>\n",
       "      <td>103125.819291</td>\n",
       "    </tr>\n",
       "    <tr>\n",
       "      <th>Колпино</th>\n",
       "      <td>338</td>\n",
       "      <td>75424.579098</td>\n",
       "    </tr>\n",
       "    <tr>\n",
       "      <th>Парголово</th>\n",
       "      <td>327</td>\n",
       "      <td>90175.913458</td>\n",
       "    </tr>\n",
       "    <tr>\n",
       "      <th>Гатчина</th>\n",
       "      <td>307</td>\n",
       "      <td>68746.146763</td>\n",
       "    </tr>\n",
       "    <tr>\n",
       "      <th>Выборг</th>\n",
       "      <td>237</td>\n",
       "      <td>58141.909153</td>\n",
       "    </tr>\n",
       "  </tbody>\n",
       "</table>\n",
       "</div>"
      ],
      "text/plain": [
       "                 count           mean\n",
       "locality_name                        \n",
       "Санкт-Петербург  15713  114620.590188\n",
       "Мурино             590   86087.512050\n",
       "Кудрово            472   95324.930544\n",
       "Шушары             440   78677.364217\n",
       "Всеволожск         398   68654.473986\n",
       "Пушкин             369  103125.819291\n",
       "Колпино            338   75424.579098\n",
       "Парголово          327   90175.913458\n",
       "Гатчина            307   68746.146763\n",
       "Выборг             237   58141.909153"
      ]
     },
     "execution_count": 18,
     "metadata": {},
     "output_type": "execute_result"
    }
   ],
   "source": [
    "data.groupby('locality_name')['price_per_meter'].agg(['count', 'mean']).sort_values(by='count', ascending=False).head(10)"
   ]
  },
  {
   "cell_type": "markdown",
   "metadata": {},
   "source": [
    "Населенными пунктами с самым большим количеством объявлений по продаже квартир оказались Санкт-Петербург, Мурино, Кудрово, Шушары, Всеволожск, Пушкин, Колпино, Парголово, Гатчина, Выборг.\n",
    "\n",
    "Среди указанных населенных пунктов самая большая цена за квадратный метр оказалась у Санкт-Петербурга (~115 тыс.),\n",
    "\n",
    "самая маленькая - у Выборга (~58 тыс.)"
   ]
  },
  {
   "cell_type": "code",
   "execution_count": 19,
   "metadata": {},
   "outputs": [
    {
     "name": "stdout",
     "output_type": "stream",
     "text": [
      "cityCenters_nearest_km\n",
      "0.0     3.144912e+07\n",
      "1.0     1.822710e+07\n",
      "2.0     1.658430e+07\n",
      "3.0     1.110832e+07\n",
      "4.0     1.225349e+07\n",
      "5.0     1.369009e+07\n",
      "6.0     1.498162e+07\n",
      "7.0     1.477515e+07\n",
      "8.0     9.243289e+06\n",
      "9.0     6.950659e+06\n",
      "10.0    6.504119e+06\n",
      "11.0    6.250815e+06\n",
      "12.0    5.828545e+06\n",
      "13.0    6.083141e+06\n",
      "14.0    5.629101e+06\n",
      "15.0    5.884751e+06\n",
      "16.0    5.373131e+06\n",
      "17.0    5.292395e+06\n",
      "18.0    5.091331e+06\n",
      "19.0    5.037675e+06\n",
      "20.0    5.951465e+06\n",
      "21.0    5.493469e+06\n",
      "22.0    5.415524e+06\n",
      "23.0    4.985376e+06\n",
      "24.0    3.854430e+06\n",
      "25.0    4.052840e+06\n",
      "26.0    3.973013e+06\n",
      "27.0    8.300000e+06\n",
      "28.0    5.026429e+06\n",
      "29.0    4.236667e+06\n",
      "Name: last_price, dtype: float64\n"
     ]
    },
    {
     "data": {
      "text/plain": [
       "<AxesSubplot:xlabel='cityCenters_nearest_km'>"
      ]
     },
     "execution_count": 19,
     "metadata": {},
     "output_type": "execute_result"
    },
    {
     "data": {
      "image/png": "[encoded data removed]",
      "text/plain": [
       "<Figure size 432x288 with 1 Axes>"
      ]
     },
     "metadata": {
      "needs_background": "light"
     },
     "output_type": "display_data"
    }
   ],
   "source": [
    "print(data.query(\"locality_name == 'Санкт-Петербург'\").groupby('cityCenters_nearest_km')['last_price'].mean())\n",
    "data.query(\"locality_name == 'Санкт-Петербург'\").groupby('cityCenters_nearest_km')['last_price'].mean().plot()"
   ]
  },
  {
   "cell_type": "markdown",
   "metadata": {},
   "source": [
    "Зависимость цены квартиры в Санкт-Петербурге в зависимости от удаленности от центра:\n",
    "\n",
    "Расстояние до центра | Тип изменения  | Промежуток\n",
    ":------------------- | :------------- | :---------\n",
    "0-3 км               | резкий спад    | 30-11 млн руб.\n",
    "3-6 км               | рост           | 11-15 млн руб.\n",
    "6-10 км              | резкий спад    | 15-7 млн руб.\n",
    "10-30 км             | медленный спад | 7-5 млн руб."
   ]
  },
  {
   "cell_type": "markdown",
   "metadata": {},
   "source": [
    "### Общий вывод"
   ]
  },
  {
   "cell_type": "markdown",
   "metadata": {},
   "source": [
    "#### Предобработка данных\n",
    "\n",
    "1. Были определены столбцы, содержащие пропуски, а именно: *ceiling_height, floors_total, living_area, is_apartment, kitchen_area, balcony, locality_name, airports_nearest, cityCenters_nearest, parks_around3000, parks_nearest, ponds_around3000, ponds_nearest, days_exposition*.\n",
    "\n",
    "\n",
    "2. Для заполнения пропусков были добавлены столбцы:\n",
    "\n",
    "*living_area_percent_of_total* - отношение living_area к total_area\n",
    "\n",
    "*kitchen_area_percent_of_total* - отношение kitchen_area к total_area\n",
    "\n",
    "3. Пропуски были заполнены в следующих столбцах следующим образом:\n",
    "\n",
    "Столбец          | Чем заполнены пропуски\n",
    ":--------------- | :---------------------\n",
    "ceiling_height   | медиана\n",
    "is_apartment     | False\n",
    "balcony          | 0\n",
    "locality_name    | \"Другое\"\n",
    "parks_around3000 | 0\n",
    "ponds_around3000 | 0\n",
    "living_area      | медиана living_area_percent_of_total * total_area\n",
    "kitchen_area     | медиана kitchen_area_percent_of_total * total_area\n",
    "\n",
    "4. Заменены типы данных следующих столбцов:\n",
    "\n",
    "Название столбца     | Предыдущий тип | Новый тип  \n",
    ":------------------- | :------------- | :--------- \n",
    "first_day_exposition | object         | datetime64 \n",
    "floors_total         | float64        | int64      \n",
    "is_apartment         | object         | bool  \n",
    "balcony              | float64        | int64       \n",
    "parks_around3000     | float64        | int64      \n",
    "ponds_around3000     | float64        | int64      \n",
    "days_exposition      | float64        | int64      \n",
    "\n",
    "5. Заменены неявные дублиткаты в столбце *locality_name* путем удаления вспомогательных слов, таких как поселок, деревня, село и т.д.\n",
    "\n",
    "\n",
    "6. Заменены или удалены аномальные значения:\n",
    "\n",
    "Столбец        | Какие значения | Действие\n",
    ":------------- | :------------- | :------------\n",
    "ceiling_height | больше 10.3    | деление на 10\n",
    "total_area     | больше 550     | деление на 10\n",
    "last_price     | больше 200 млн | деление на 10\n",
    "rooms          | больше 10      | удаление\n",
    "\n",
    "\n",
    "#### Добавление новых столбцов\n",
    "\n",
    "Добавлены следующие столбцы:\n",
    "\n",
    "Название столбца       | Описание\n",
    ":--------------------- | :-------\n",
    "price_per_meter        | цена одного квадратного метра\n",
    "weekday_exposition     | день недели публикации объявления (0 — понедельник, 1 — вторник и т.д.)\n",
    "month_exposition       | месяц публикации объявления (номер)\n",
    "year_exposition        | год публикации объявления\n",
    "floor_typecity         | тип этажа (первый, последний, другой)\n",
    "cityCenters_nearest_km | расстояние до центра города в км, округленное до целого\n",
    "\n",
    "#### Исследовательский анализ данных\n",
    "\n",
    "1. Построены гистограммы по следующим столбцам: *total_area, living_area, kitchen_area, last_price, rooms, ceiling_height, floor, floor_type, floors_total, cityCenters_nearest, airports_nearest, parks_nearest, weekday_exposition, month_exposition*, после анализа которых была получены следующая информация:\n",
    "\n",
    "Столбец                   | Самые часто встречающиеся значения | Диапазон большинства значений\n",
    ":------------------------ | :--------------------------------- | :----------------------------\n",
    "Общая площадь             | 30-60 кв.м                         | 25-80 кв.м\n",
    "Жилая площаль             | 15-30 кв.м                         | 15-50 кв.м\n",
    "Площадь кухни             | 7-12 кв.м                          | 5-15 кв.м\n",
    "Цена объекта              | 3-6 млн руб.                       | 2-9 млн. руб.\n",
    "Кол-во комнат             | 1-2                                | 1-3\n",
    "Высота потолков           | 2.5-2.7 м                          | 2.5-3.2 м\n",
    "Этаж                      | 1-5                                | 1-10\n",
    "Тип этажа                 | не первый, не последний            | не первый, не последний\n",
    "Общее кол-во этажей       | 5-9                                | 3-26\n",
    "Расст. до центра города   | 120-180 км                         | 50-200 км\n",
    "Расст. до ближ. аэропорта | 100-250 км                         | 100-500 км\n",
    "Расст. до ближ. парка     | 400-500 м                          | 0-600 м\n",
    "День недели публикации    | будние дни                         | все дни\n",
    "Месяц публикации          | весенние и осениие месяцы          | все месяцы, кроме января и мая\n",
    "\n",
    "2. Анализ days_exposition (сколько дней висит объявление)\n",
    "\n",
    "Показатель           | Значение\n",
    ":------------------- | :----------\n",
    "Среднее              | 182 дня\n",
    "Медиана              | 97 дней\n",
    "Мода                 | 50 дней\n",
    "Средний диапазон     | 50-220 дней\n",
    "Быстрые продажи      | <50 дней\n",
    "Долгие продажи       | >220 дней\n",
    "Очень долгие продажи | >510 дней\n",
    "\n",
    "3. Исследованы зависимости цены квартиры от *общей площади, жилой площади, площади кухни, количества комнат, этажа, дня недели, месяца, года выставления объявления о продаже*.\n",
    "\n",
    "Чем больше коэфф. корреляции, тем больше зависимость.\n",
    "\n",
    "Зависимость цены от | Коэфф. корреляции | Расшифровка\n",
    ":------------------ | :---------------- | :----------\n",
    "общей площади       | 0.65              | с увел-ем цена растет\n",
    "жилой площади       | 0.59              | с увел-ем цена растет\n",
    "площади кухни       | 0.51              | с увел-ем цена растет\n",
    "кол-ва комнат       | 0.36              | с увел-ем цена растет\n",
    "\n",
    "Что         | Самые большие цены | Самые маленькие цены\n",
    ":---------- | :----------------- | :-------------------\n",
    "День недели | нет                | нет  \n",
    "Месяц       | апрель             | июнь\n",
    "Год         | 2015, 2019         | 2017\n",
    "\n",
    "4. Анализ объявлений и цен в различных населенных пунктах\n",
    "\n",
    "В таблице ниже указаны 10 населенных пунктов с наибольшим количеством объявлений о продаже квартир. Для каждого из этих населенных пунктов обозначена средняя цена за квадратный метр. Также выделены населенные пункты с наибольшей и наименьшей цена за квадратный метр:\n",
    "\n",
    "наибольшая цена - Санкт-Петербург (~115 тыс.руб.)\n",
    "\n",
    "наименьшая цена - Выборг (~58 тыс.руб.)\n",
    "\n",
    "Населенный пункт | Кол-во объявлений | Средняя цена за $$м^2$$\n",
    ":--------------- | :---------------- | :--------------------\n",
    "Санкт-Петербург\t | 15494\t         | <span style=\"color:blue\">114674.6</span>\n",
    "Мурино\t         | 523\t             | 84855.4\n",
    "Кудрово\t         | 432\t             | 94755.2\n",
    "Шушары\t         | 430\t             | 78024.3\n",
    "Всеволожск\t     | 391\t             | 68693.8\n",
    "Пушкин\t         | 366\t             | 103188.2\n",
    "Колпино\t         | 337\t             | 75331.4\n",
    "Парголово\t     | 324\t             | 90270.7\n",
    "Гатчина\t\t     | 302\t             | 68846.4\n",
    "Выборг\t\t     | 232\t             | <span style=\"color:red\">57963.2</span>\n",
    "\n",
    "5. Анализ зависимости цен в Санкт-Петербурге от расстояния до центра города\n",
    "\n",
    "Расстояние до центра | Тип изменения  | Промежуток\n",
    ":------------------- | :------------- | :---------\n",
    "0-3 км               | резкий спад    | 30-11 млн руб.\n",
    "3-6 км               | рост           | 11-15 млн руб.\n",
    "6-10 км              | резкий спад    | 15-7 млн руб.\n",
    "10-30 км             | медленный спад | 7-5 млн руб."
   ]
  },
  {
   "cell_type": "code",
   "execution_count": null,
   "metadata": {},
   "outputs": [],
   "source": []
  }
 ],
 "metadata": {
  "ExecuteTimeLog": [
   {
    "duration": 487,
    "start_time": "2023-07-26T15:23:22.948Z"
   },
   {
    "duration": 531,
    "start_time": "2023-07-26T15:23:33.012Z"
   },
   {
    "duration": 3,
    "start_time": "2023-07-26T15:23:56.611Z"
   },
   {
    "duration": 82,
    "start_time": "2023-07-26T15:23:59.898Z"
   },
   {
    "duration": 92,
    "start_time": "2023-07-26T15:24:02.265Z"
   },
   {
    "duration": 118,
    "start_time": "2023-07-26T15:24:18.995Z"
   },
   {
    "duration": 90,
    "start_time": "2023-07-26T15:24:46.089Z"
   },
   {
    "duration": 313,
    "start_time": "2023-07-26T15:29:55.122Z"
   },
   {
    "duration": 18,
    "start_time": "2023-07-26T15:30:06.069Z"
   },
   {
    "duration": 1536,
    "start_time": "2023-07-26T15:30:17.262Z"
   },
   {
    "duration": 2346,
    "start_time": "2023-07-26T15:30:28.488Z"
   },
   {
    "duration": 67,
    "start_time": "2023-07-26T15:31:04.687Z"
   },
   {
    "duration": 9,
    "start_time": "2023-07-26T15:34:58.103Z"
   },
   {
    "duration": 16,
    "start_time": "2023-07-26T15:37:35.211Z"
   },
   {
    "duration": 22,
    "start_time": "2023-07-26T15:38:14.771Z"
   },
   {
    "duration": 24,
    "start_time": "2023-07-26T15:41:22.232Z"
   },
   {
    "duration": 26,
    "start_time": "2023-07-26T15:41:44.269Z"
   },
   {
    "duration": 10,
    "start_time": "2023-07-26T15:43:16.696Z"
   },
   {
    "duration": 13,
    "start_time": "2023-07-26T15:51:28.020Z"
   },
   {
    "duration": 10,
    "start_time": "2023-07-26T15:55:26.900Z"
   },
   {
    "duration": 12,
    "start_time": "2023-07-26T15:55:42.116Z"
   },
   {
    "duration": 9,
    "start_time": "2023-07-26T15:55:51.932Z"
   },
   {
    "duration": 11,
    "start_time": "2023-07-26T15:56:00.592Z"
   },
   {
    "duration": 10,
    "start_time": "2023-07-26T15:56:24.025Z"
   },
   {
    "duration": 14,
    "start_time": "2023-07-26T15:58:25.646Z"
   },
   {
    "duration": 13,
    "start_time": "2023-07-26T15:58:33.410Z"
   },
   {
    "duration": 2120,
    "start_time": "2023-07-26T15:58:38.136Z"
   },
   {
    "duration": 14,
    "start_time": "2023-07-26T15:58:41.345Z"
   },
   {
    "duration": 12,
    "start_time": "2023-07-26T15:59:24.208Z"
   },
   {
    "duration": 16,
    "start_time": "2023-07-26T15:59:47.572Z"
   },
   {
    "duration": 498,
    "start_time": "2023-07-27T13:46:47.357Z"
   },
   {
    "duration": 8,
    "start_time": "2023-07-27T13:46:57.393Z"
   },
   {
    "duration": 2645,
    "start_time": "2023-07-27T13:47:12.991Z"
   },
   {
    "duration": 9,
    "start_time": "2023-07-27T13:47:19.061Z"
   },
   {
    "duration": 11,
    "start_time": "2023-07-27T13:48:05.414Z"
   },
   {
    "duration": 10,
    "start_time": "2023-07-27T13:52:51.264Z"
   },
   {
    "duration": 9,
    "start_time": "2023-07-27T13:54:48.606Z"
   },
   {
    "duration": 9,
    "start_time": "2023-07-27T13:55:08.689Z"
   },
   {
    "duration": 18,
    "start_time": "2023-07-27T13:55:54.177Z"
   },
   {
    "duration": 16,
    "start_time": "2023-07-27T13:56:01.679Z"
   },
   {
    "duration": 13,
    "start_time": "2023-07-27T13:56:16.565Z"
   },
   {
    "duration": 4000,
    "start_time": "2023-07-28T12:49:06.109Z"
   },
   {
    "duration": 28,
    "start_time": "2023-07-28T12:49:10.112Z"
   },
   {
    "duration": 115,
    "start_time": "2023-07-28T12:49:10.142Z"
   },
   {
    "duration": 20,
    "start_time": "2023-07-28T12:50:06.659Z"
   },
   {
    "duration": 21,
    "start_time": "2023-07-28T12:50:09.294Z"
   },
   {
    "duration": 15,
    "start_time": "2023-07-28T12:50:39.906Z"
   },
   {
    "duration": 20,
    "start_time": "2023-07-28T12:51:10.636Z"
   },
   {
    "duration": 15,
    "start_time": "2023-07-28T12:53:42.601Z"
   },
   {
    "duration": 21,
    "start_time": "2023-07-28T12:53:47.458Z"
   },
   {
    "duration": 26,
    "start_time": "2023-07-28T13:02:07.784Z"
   },
   {
    "duration": 18,
    "start_time": "2023-07-28T13:02:12.622Z"
   },
   {
    "duration": 20,
    "start_time": "2023-07-28T13:18:07.724Z"
   },
   {
    "duration": 106,
    "start_time": "2023-07-28T13:18:37.824Z"
   },
   {
    "duration": 3820,
    "start_time": "2023-07-28T13:20:52.245Z"
   },
   {
    "duration": 106,
    "start_time": "2023-07-28T13:20:56.068Z"
   },
   {
    "duration": 542,
    "start_time": "2023-07-28T13:20:56.176Z"
   },
   {
    "duration": 3674,
    "start_time": "2023-07-28T13:21:39.318Z"
   },
   {
    "duration": 115,
    "start_time": "2023-07-28T13:21:42.997Z"
   },
   {
    "duration": 523,
    "start_time": "2023-07-28T13:21:43.114Z"
   },
   {
    "duration": 133,
    "start_time": "2023-07-28T13:22:23.120Z"
   },
   {
    "duration": 4272,
    "start_time": "2023-07-28T13:22:36.222Z"
   },
   {
    "duration": 163,
    "start_time": "2023-07-28T13:22:40.503Z"
   },
   {
    "duration": 738,
    "start_time": "2023-07-28T13:22:40.671Z"
   },
   {
    "duration": 63,
    "start_time": "2023-07-28T13:24:12.331Z"
   },
   {
    "duration": 24,
    "start_time": "2023-07-28T13:27:03.728Z"
   },
   {
    "duration": 17,
    "start_time": "2023-07-28T13:27:23.028Z"
   },
   {
    "duration": 39,
    "start_time": "2023-07-28T13:27:26.945Z"
   },
   {
    "duration": 3659,
    "start_time": "2023-07-28T13:27:44.698Z"
   },
   {
    "duration": 69,
    "start_time": "2023-07-28T13:27:48.360Z"
   },
   {
    "duration": 524,
    "start_time": "2023-07-28T13:27:48.431Z"
   },
   {
    "duration": 3948,
    "start_time": "2023-07-28T13:29:02.343Z"
   },
   {
    "duration": 62,
    "start_time": "2023-07-28T13:29:06.293Z"
   },
   {
    "duration": 692,
    "start_time": "2023-07-28T13:29:06.357Z"
   },
   {
    "duration": 29,
    "start_time": "2023-07-28T13:30:32.528Z"
   },
   {
    "duration": 24,
    "start_time": "2023-07-28T13:30:42.224Z"
   },
   {
    "duration": 4420,
    "start_time": "2023-07-29T16:40:04.840Z"
   },
   {
    "duration": 130,
    "start_time": "2023-07-29T16:40:09.264Z"
   },
   {
    "duration": 0,
    "start_time": "2023-07-29T16:40:09.397Z"
   },
   {
    "duration": 156,
    "start_time": "2023-07-29T16:40:32.480Z"
   },
   {
    "duration": 28,
    "start_time": "2023-07-29T16:47:45.217Z"
   },
   {
    "duration": 31,
    "start_time": "2023-07-29T16:48:02.475Z"
   },
   {
    "duration": 28,
    "start_time": "2023-07-29T16:48:34.804Z"
   },
   {
    "duration": 3469,
    "start_time": "2023-07-29T16:48:40.062Z"
   },
   {
    "duration": 139,
    "start_time": "2023-07-29T16:48:43.534Z"
   },
   {
    "duration": 0,
    "start_time": "2023-07-29T16:48:43.675Z"
   },
   {
    "duration": 30,
    "start_time": "2023-07-29T16:52:52.284Z"
   },
   {
    "duration": 98,
    "start_time": "2023-07-29T17:15:44.997Z"
   },
   {
    "duration": 24,
    "start_time": "2023-07-29T17:15:49.695Z"
   },
   {
    "duration": 19,
    "start_time": "2023-07-29T17:16:17.923Z"
   },
   {
    "duration": 83,
    "start_time": "2023-07-29T17:18:02.090Z"
   },
   {
    "duration": 32,
    "start_time": "2023-07-29T17:18:09.653Z"
   },
   {
    "duration": 23,
    "start_time": "2023-07-29T17:18:23.434Z"
   },
   {
    "duration": 25,
    "start_time": "2023-07-29T17:18:30.435Z"
   },
   {
    "duration": 36,
    "start_time": "2023-07-29T17:19:11.208Z"
   },
   {
    "duration": 20,
    "start_time": "2023-07-29T17:19:53.638Z"
   },
   {
    "duration": 29,
    "start_time": "2023-07-29T17:20:08.940Z"
   },
   {
    "duration": 3231,
    "start_time": "2023-07-29T17:20:17.912Z"
   },
   {
    "duration": 43,
    "start_time": "2023-07-29T17:20:21.145Z"
   },
   {
    "duration": 114,
    "start_time": "2023-07-29T17:20:21.195Z"
   },
   {
    "duration": 214,
    "start_time": "2023-07-29T17:20:50.110Z"
   },
   {
    "duration": 3265,
    "start_time": "2023-07-29T17:21:01.741Z"
   },
   {
    "duration": 67,
    "start_time": "2023-07-29T17:21:05.009Z"
   },
   {
    "duration": 135,
    "start_time": "2023-07-29T17:21:05.079Z"
   },
   {
    "duration": 25,
    "start_time": "2023-07-29T17:22:04.922Z"
   },
   {
    "duration": 31,
    "start_time": "2023-07-29T17:22:25.370Z"
   },
   {
    "duration": 28,
    "start_time": "2023-07-29T17:22:30.991Z"
   },
   {
    "duration": 32,
    "start_time": "2023-07-29T17:22:47.620Z"
   },
   {
    "duration": 3511,
    "start_time": "2023-07-29T17:26:28.400Z"
   },
   {
    "duration": 89,
    "start_time": "2023-07-29T17:26:31.914Z"
   },
   {
    "duration": 671,
    "start_time": "2023-07-29T17:26:32.007Z"
   },
   {
    "duration": 119,
    "start_time": "2023-07-29T17:27:56.916Z"
   },
   {
    "duration": 51,
    "start_time": "2023-07-29T17:28:03.203Z"
   },
   {
    "duration": 46,
    "start_time": "2023-07-29T17:55:45.298Z"
   },
   {
    "duration": 38,
    "start_time": "2023-07-29T17:56:08.005Z"
   },
   {
    "duration": 3198,
    "start_time": "2023-07-29T17:56:20.906Z"
   },
   {
    "duration": 56,
    "start_time": "2023-07-29T17:56:24.110Z"
   },
   {
    "duration": 126,
    "start_time": "2023-07-29T17:56:24.168Z"
   },
   {
    "duration": 26,
    "start_time": "2023-07-29T17:56:34.411Z"
   },
   {
    "duration": 37,
    "start_time": "2023-07-29T17:56:58.161Z"
   },
   {
    "duration": 24,
    "start_time": "2023-07-29T18:00:51.945Z"
   },
   {
    "duration": 3170,
    "start_time": "2023-08-02T10:11:42.513Z"
   },
   {
    "duration": 56,
    "start_time": "2023-08-02T10:11:45.685Z"
   },
   {
    "duration": 80,
    "start_time": "2023-08-02T10:11:45.743Z"
   },
   {
    "duration": 2637,
    "start_time": "2023-08-02T10:12:16.737Z"
   },
   {
    "duration": 40,
    "start_time": "2023-08-02T10:12:19.376Z"
   },
   {
    "duration": 92,
    "start_time": "2023-08-02T10:12:19.417Z"
   },
   {
    "duration": 16,
    "start_time": "2023-08-02T10:12:56.624Z"
   },
   {
    "duration": 25,
    "start_time": "2023-08-02T10:19:34.265Z"
   },
   {
    "duration": 19,
    "start_time": "2023-08-02T10:20:45.748Z"
   },
   {
    "duration": 20,
    "start_time": "2023-08-02T10:30:51.271Z"
   },
   {
    "duration": 20,
    "start_time": "2023-08-02T10:30:54.799Z"
   },
   {
    "duration": 13,
    "start_time": "2023-08-02T12:55:38.955Z"
   },
   {
    "duration": 17,
    "start_time": "2023-08-02T13:00:35.641Z"
   },
   {
    "duration": 22,
    "start_time": "2023-08-02T13:00:51.682Z"
   },
   {
    "duration": 20,
    "start_time": "2023-08-02T13:10:03.573Z"
   },
   {
    "duration": 21,
    "start_time": "2023-08-02T13:10:21.092Z"
   },
   {
    "duration": 22,
    "start_time": "2023-08-02T13:12:13.177Z"
   },
   {
    "duration": 18,
    "start_time": "2023-08-02T13:12:26.428Z"
   },
   {
    "duration": 9,
    "start_time": "2023-08-02T13:12:48.143Z"
   },
   {
    "duration": 8,
    "start_time": "2023-08-02T13:13:00.010Z"
   },
   {
    "duration": 8,
    "start_time": "2023-08-02T13:13:07.143Z"
   },
   {
    "duration": 8,
    "start_time": "2023-08-02T13:13:13.893Z"
   },
   {
    "duration": 7,
    "start_time": "2023-08-02T13:13:32.514Z"
   },
   {
    "duration": 7,
    "start_time": "2023-08-02T13:13:35.198Z"
   },
   {
    "duration": 2319,
    "start_time": "2023-08-02T13:13:42.568Z"
   },
   {
    "duration": 26,
    "start_time": "2023-08-02T13:13:44.888Z"
   },
   {
    "duration": 22,
    "start_time": "2023-08-02T13:13:44.916Z"
   },
   {
    "duration": 18,
    "start_time": "2023-08-02T13:13:56.487Z"
   },
   {
    "duration": 18,
    "start_time": "2023-08-02T13:14:03.509Z"
   },
   {
    "duration": 2645,
    "start_time": "2023-08-02T13:14:11.322Z"
   },
   {
    "duration": 27,
    "start_time": "2023-08-02T13:14:13.969Z"
   },
   {
    "duration": 25,
    "start_time": "2023-08-02T13:14:13.997Z"
   },
   {
    "duration": 17,
    "start_time": "2023-08-02T13:14:16.638Z"
   },
   {
    "duration": 16,
    "start_time": "2023-08-02T13:14:18.370Z"
   },
   {
    "duration": 2884,
    "start_time": "2023-08-02T13:14:46.666Z"
   },
   {
    "duration": 19,
    "start_time": "2023-08-02T13:15:03.933Z"
   },
   {
    "duration": 48,
    "start_time": "2023-08-02T13:18:18.869Z"
   },
   {
    "duration": 1912,
    "start_time": "2023-08-02T13:18:44.439Z"
   },
   {
    "duration": 6,
    "start_time": "2023-08-02T13:21:01.632Z"
   },
   {
    "duration": 9,
    "start_time": "2023-08-02T13:26:09.760Z"
   },
   {
    "duration": 9,
    "start_time": "2023-08-02T13:28:38.298Z"
   },
   {
    "duration": 53,
    "start_time": "2023-08-02T13:32:57.170Z"
   },
   {
    "duration": 12,
    "start_time": "2023-08-02T13:33:06.403Z"
   },
   {
    "duration": 2372,
    "start_time": "2023-08-02T13:33:43.035Z"
   },
   {
    "duration": 34,
    "start_time": "2023-08-02T13:33:45.409Z"
   },
   {
    "duration": 49,
    "start_time": "2023-08-02T13:33:45.445Z"
   },
   {
    "duration": 26,
    "start_time": "2023-08-02T13:33:45.495Z"
   },
   {
    "duration": 13,
    "start_time": "2023-08-02T13:37:46.053Z"
   },
   {
    "duration": 22,
    "start_time": "2023-08-02T13:56:07.533Z"
   },
   {
    "duration": 39,
    "start_time": "2023-08-02T13:57:01.634Z"
   },
   {
    "duration": 79,
    "start_time": "2023-08-02T13:57:20.246Z"
   },
   {
    "duration": 14,
    "start_time": "2023-08-02T13:57:29.651Z"
   },
   {
    "duration": 14,
    "start_time": "2023-08-02T13:57:52.297Z"
   },
   {
    "duration": 15,
    "start_time": "2023-08-02T14:03:34.415Z"
   },
   {
    "duration": 16,
    "start_time": "2023-08-02T14:03:36.228Z"
   },
   {
    "duration": 2760,
    "start_time": "2023-08-02T14:03:42.067Z"
   },
   {
    "duration": 31,
    "start_time": "2023-08-02T14:03:44.830Z"
   },
   {
    "duration": 57,
    "start_time": "2023-08-02T14:03:44.863Z"
   },
   {
    "duration": 29,
    "start_time": "2023-08-02T14:03:44.923Z"
   },
   {
    "duration": 86,
    "start_time": "2023-08-02T14:06:38.402Z"
   },
   {
    "duration": 17,
    "start_time": "2023-08-02T14:06:49.433Z"
   },
   {
    "duration": 115,
    "start_time": "2023-08-02T14:12:10.115Z"
   },
   {
    "duration": 54,
    "start_time": "2023-08-03T20:56:04.920Z"
   },
   {
    "duration": 3389,
    "start_time": "2023-08-03T20:56:12.647Z"
   },
   {
    "duration": 47,
    "start_time": "2023-08-03T20:56:16.044Z"
   },
   {
    "duration": 81,
    "start_time": "2023-08-03T20:56:16.093Z"
   },
   {
    "duration": 208,
    "start_time": "2023-08-03T20:56:16.176Z"
   },
   {
    "duration": 175,
    "start_time": "2023-08-03T20:56:38.236Z"
   },
   {
    "duration": 242,
    "start_time": "2023-08-03T20:57:37.012Z"
   },
   {
    "duration": 180,
    "start_time": "2023-08-03T20:58:21.209Z"
   },
   {
    "duration": 157,
    "start_time": "2023-08-03T20:59:41.650Z"
   },
   {
    "duration": 192,
    "start_time": "2023-08-03T20:59:55.916Z"
   },
   {
    "duration": 149,
    "start_time": "2023-08-03T21:03:21.938Z"
   },
   {
    "duration": 147,
    "start_time": "2023-08-03T21:04:58.506Z"
   },
   {
    "duration": 173,
    "start_time": "2023-08-03T21:05:18.804Z"
   },
   {
    "duration": 154,
    "start_time": "2023-08-03T21:05:28.997Z"
   },
   {
    "duration": 155,
    "start_time": "2023-08-03T21:07:05.909Z"
   },
   {
    "duration": 211,
    "start_time": "2023-08-03T21:08:13.605Z"
   },
   {
    "duration": 178,
    "start_time": "2023-08-03T21:08:37.367Z"
   },
   {
    "duration": 151,
    "start_time": "2023-08-03T21:08:52.194Z"
   },
   {
    "duration": 134,
    "start_time": "2023-08-03T21:09:39.243Z"
   },
   {
    "duration": 7,
    "start_time": "2023-08-03T21:11:30.501Z"
   },
   {
    "duration": 15,
    "start_time": "2023-08-03T21:12:11.618Z"
   },
   {
    "duration": 202,
    "start_time": "2023-08-03T21:12:21.014Z"
   },
   {
    "duration": 54,
    "start_time": "2023-08-03T21:17:55.471Z"
   },
   {
    "duration": 44,
    "start_time": "2023-08-03T21:18:55.244Z"
   },
   {
    "duration": 57,
    "start_time": "2023-08-03T21:19:18.403Z"
   },
   {
    "duration": 25,
    "start_time": "2023-08-03T21:22:29.536Z"
   },
   {
    "duration": 19,
    "start_time": "2023-08-03T21:24:51.029Z"
   },
   {
    "duration": 17,
    "start_time": "2023-08-03T21:25:50.435Z"
   },
   {
    "duration": 103,
    "start_time": "2023-08-03T21:27:17.448Z"
   },
   {
    "duration": 187,
    "start_time": "2023-08-03T21:27:31.223Z"
   },
   {
    "duration": 98,
    "start_time": "2023-08-03T21:27:39.901Z"
   },
   {
    "duration": 2351,
    "start_time": "2023-08-03T21:27:48.648Z"
   },
   {
    "duration": 28,
    "start_time": "2023-08-03T21:27:51.000Z"
   },
   {
    "duration": 48,
    "start_time": "2023-08-03T21:27:51.029Z"
   },
   {
    "duration": 164,
    "start_time": "2023-08-03T21:27:51.079Z"
   },
   {
    "duration": 123,
    "start_time": "2023-08-03T21:27:51.246Z"
   },
   {
    "duration": 138,
    "start_time": "2023-08-03T21:30:30.909Z"
   },
   {
    "duration": 2391,
    "start_time": "2023-08-03T21:30:50.292Z"
   },
   {
    "duration": 26,
    "start_time": "2023-08-03T21:30:52.684Z"
   },
   {
    "duration": 53,
    "start_time": "2023-08-03T21:30:52.712Z"
   },
   {
    "duration": 149,
    "start_time": "2023-08-03T21:30:52.766Z"
   },
   {
    "duration": 16,
    "start_time": "2023-08-03T21:30:52.920Z"
   },
   {
    "duration": 12,
    "start_time": "2023-08-03T21:31:08.708Z"
   },
   {
    "duration": 2444,
    "start_time": "2023-08-03T21:31:16.919Z"
   },
   {
    "duration": 33,
    "start_time": "2023-08-03T21:31:19.365Z"
   },
   {
    "duration": 79,
    "start_time": "2023-08-03T21:31:19.400Z"
   },
   {
    "duration": 177,
    "start_time": "2023-08-03T21:31:19.481Z"
   },
   {
    "duration": 11,
    "start_time": "2023-08-03T21:31:19.661Z"
   },
   {
    "duration": 106,
    "start_time": "2023-08-03T21:31:47.369Z"
   },
   {
    "duration": 2334,
    "start_time": "2023-08-03T21:31:58.333Z"
   },
   {
    "duration": 26,
    "start_time": "2023-08-03T21:32:00.669Z"
   },
   {
    "duration": 78,
    "start_time": "2023-08-03T21:32:00.696Z"
   },
   {
    "duration": 150,
    "start_time": "2023-08-03T21:32:00.776Z"
   },
   {
    "duration": 124,
    "start_time": "2023-08-03T21:32:00.927Z"
   },
   {
    "duration": 2424,
    "start_time": "2023-08-03T21:32:43.507Z"
   },
   {
    "duration": 28,
    "start_time": "2023-08-03T21:32:45.933Z"
   },
   {
    "duration": 72,
    "start_time": "2023-08-03T21:32:45.962Z"
   },
   {
    "duration": 202,
    "start_time": "2023-08-03T21:32:46.036Z"
   },
   {
    "duration": 16,
    "start_time": "2023-08-03T21:32:46.241Z"
   },
   {
    "duration": 17,
    "start_time": "2023-08-03T21:33:31.238Z"
   },
   {
    "duration": 16,
    "start_time": "2023-08-03T21:33:51.367Z"
   },
   {
    "duration": 14,
    "start_time": "2023-08-03T21:34:04.153Z"
   },
   {
    "duration": 107,
    "start_time": "2023-08-03T21:34:26.734Z"
   },
   {
    "duration": 17,
    "start_time": "2023-08-03T21:34:33.461Z"
   },
   {
    "duration": 2398,
    "start_time": "2023-08-03T21:35:37.821Z"
   },
   {
    "duration": 31,
    "start_time": "2023-08-03T21:35:40.220Z"
   },
   {
    "duration": 47,
    "start_time": "2023-08-03T21:35:40.252Z"
   },
   {
    "duration": 168,
    "start_time": "2023-08-03T21:35:40.300Z"
   },
   {
    "duration": 16,
    "start_time": "2023-08-03T21:35:40.470Z"
   },
   {
    "duration": 21,
    "start_time": "2023-08-03T21:36:04.882Z"
   },
   {
    "duration": 17,
    "start_time": "2023-08-03T21:38:17.747Z"
   },
   {
    "duration": 18,
    "start_time": "2023-08-03T21:38:36.695Z"
   },
   {
    "duration": 18,
    "start_time": "2023-08-03T21:39:50.607Z"
   },
   {
    "duration": 14,
    "start_time": "2023-08-03T21:42:28.703Z"
   },
   {
    "duration": 14,
    "start_time": "2023-08-03T21:43:11.311Z"
   },
   {
    "duration": 16,
    "start_time": "2023-08-03T21:43:24.556Z"
   },
   {
    "duration": 13,
    "start_time": "2023-08-03T21:43:42.290Z"
   },
   {
    "duration": 14,
    "start_time": "2023-08-03T21:43:50.295Z"
   },
   {
    "duration": 19,
    "start_time": "2023-08-03T21:44:43.603Z"
   },
   {
    "duration": 22,
    "start_time": "2023-08-03T21:44:55.794Z"
   },
   {
    "duration": 20,
    "start_time": "2023-08-03T21:45:13.519Z"
   },
   {
    "duration": 19,
    "start_time": "2023-08-03T21:45:21.538Z"
   },
   {
    "duration": 6,
    "start_time": "2023-08-03T21:50:17.413Z"
   },
   {
    "duration": 25,
    "start_time": "2023-08-03T21:50:27.202Z"
   },
   {
    "duration": 70,
    "start_time": "2023-08-03T21:52:16.835Z"
   },
   {
    "duration": 36,
    "start_time": "2023-08-03T21:52:51.917Z"
   },
   {
    "duration": 24,
    "start_time": "2023-08-03T21:53:05.741Z"
   },
   {
    "duration": 2390,
    "start_time": "2023-08-03T21:53:16.633Z"
   },
   {
    "duration": 32,
    "start_time": "2023-08-03T21:53:19.025Z"
   },
   {
    "duration": 76,
    "start_time": "2023-08-03T21:53:19.059Z"
   },
   {
    "duration": 163,
    "start_time": "2023-08-03T21:53:19.137Z"
   },
   {
    "duration": 26,
    "start_time": "2023-08-03T21:53:19.302Z"
   },
   {
    "duration": 32,
    "start_time": "2023-08-03T21:53:19.330Z"
   },
   {
    "duration": 28,
    "start_time": "2023-08-03T21:53:54.615Z"
   },
   {
    "duration": 2863,
    "start_time": "2023-08-03T22:00:49.483Z"
   },
   {
    "duration": 32,
    "start_time": "2023-08-03T22:01:58.837Z"
   },
   {
    "duration": 51,
    "start_time": "2023-08-03T22:02:09.496Z"
   },
   {
    "duration": 8,
    "start_time": "2023-08-03T22:03:51.250Z"
   },
   {
    "duration": 8,
    "start_time": "2023-08-03T22:03:59.910Z"
   },
   {
    "duration": 184,
    "start_time": "2023-08-03T22:04:04.207Z"
   },
   {
    "duration": 125,
    "start_time": "2023-08-03T22:06:10.043Z"
   },
   {
    "duration": 423,
    "start_time": "2023-08-03T22:11:27.203Z"
   },
   {
    "duration": 2863,
    "start_time": "2023-08-03T22:14:38.249Z"
   },
   {
    "duration": 116,
    "start_time": "2023-08-03T22:16:01.215Z"
   },
   {
    "duration": 2103,
    "start_time": "2023-08-03T22:16:21.650Z"
   },
   {
    "duration": 400,
    "start_time": "2023-08-03T22:16:44.841Z"
   },
   {
    "duration": 437,
    "start_time": "2023-08-03T22:19:11.002Z"
   },
   {
    "duration": 114,
    "start_time": "2023-08-03T22:20:20.206Z"
   },
   {
    "duration": 155,
    "start_time": "2023-08-03T22:21:27.904Z"
   },
   {
    "duration": 129,
    "start_time": "2023-08-03T22:21:43.142Z"
   },
   {
    "duration": 151,
    "start_time": "2023-08-03T22:21:48.915Z"
   },
   {
    "duration": 173,
    "start_time": "2023-08-03T22:21:58.111Z"
   },
   {
    "duration": 193,
    "start_time": "2023-08-03T22:22:06.916Z"
   },
   {
    "duration": 174,
    "start_time": "2023-08-03T22:22:15.897Z"
   },
   {
    "duration": 140,
    "start_time": "2023-08-03T22:22:26.597Z"
   },
   {
    "duration": 158,
    "start_time": "2023-08-03T22:22:31.503Z"
   },
   {
    "duration": 151,
    "start_time": "2023-08-03T22:22:36.710Z"
   },
   {
    "duration": 165,
    "start_time": "2023-08-03T22:22:40.841Z"
   },
   {
    "duration": 288,
    "start_time": "2023-08-03T22:23:16.808Z"
   },
   {
    "duration": 304,
    "start_time": "2023-08-03T22:23:59.399Z"
   },
   {
    "duration": 151,
    "start_time": "2023-08-03T22:24:42.843Z"
   },
   {
    "duration": 308,
    "start_time": "2023-08-03T22:25:39.915Z"
   },
   {
    "duration": 304,
    "start_time": "2023-08-03T22:25:53.843Z"
   },
   {
    "duration": 299,
    "start_time": "2023-08-03T22:26:56.162Z"
   },
   {
    "duration": 392,
    "start_time": "2023-08-03T22:27:17.917Z"
   },
   {
    "duration": 406,
    "start_time": "2023-08-03T22:27:49.602Z"
   },
   {
    "duration": 427,
    "start_time": "2023-08-03T22:28:02.057Z"
   },
   {
    "duration": 403,
    "start_time": "2023-08-03T22:28:10.749Z"
   },
   {
    "duration": 499,
    "start_time": "2023-08-03T22:28:24.493Z"
   },
   {
    "duration": 24,
    "start_time": "2023-08-03T22:29:11.816Z"
   },
   {
    "duration": 18,
    "start_time": "2023-08-03T22:29:36.597Z"
   },
   {
    "duration": 21,
    "start_time": "2023-08-03T22:29:46.115Z"
   },
   {
    "duration": 19,
    "start_time": "2023-08-03T22:29:52.961Z"
   },
   {
    "duration": 19,
    "start_time": "2023-08-03T22:32:33.603Z"
   },
   {
    "duration": 377,
    "start_time": "2023-08-03T22:33:48.263Z"
   },
   {
    "duration": 552,
    "start_time": "2023-08-03T22:34:38.798Z"
   },
   {
    "duration": 562,
    "start_time": "2023-08-03T22:34:46.102Z"
   },
   {
    "duration": 669,
    "start_time": "2023-08-03T22:35:27.702Z"
   },
   {
    "duration": 509,
    "start_time": "2023-08-03T22:35:40.297Z"
   },
   {
    "duration": 520,
    "start_time": "2023-08-03T22:35:51.294Z"
   },
   {
    "duration": 501,
    "start_time": "2023-08-03T22:36:04.090Z"
   },
   {
    "duration": 658,
    "start_time": "2023-08-03T22:36:37.414Z"
   },
   {
    "duration": 663,
    "start_time": "2023-08-03T22:37:14.194Z"
   },
   {
    "duration": 718,
    "start_time": "2023-08-03T22:37:19.351Z"
   },
   {
    "duration": 679,
    "start_time": "2023-08-03T22:37:28.658Z"
   },
   {
    "duration": 929,
    "start_time": "2023-08-03T22:38:24.157Z"
   },
   {
    "duration": 784,
    "start_time": "2023-08-03T22:38:36.200Z"
   },
   {
    "duration": 791,
    "start_time": "2023-08-03T22:38:49.483Z"
   },
   {
    "duration": 1080,
    "start_time": "2023-08-03T22:39:37.694Z"
   },
   {
    "duration": 876,
    "start_time": "2023-08-03T22:39:47.240Z"
   },
   {
    "duration": 1048,
    "start_time": "2023-08-03T22:40:21.449Z"
   },
   {
    "duration": 1674,
    "start_time": "2023-08-03T22:57:07.073Z"
   },
   {
    "duration": 1350,
    "start_time": "2023-08-03T22:57:17.707Z"
   },
   {
    "duration": 1026,
    "start_time": "2023-08-03T22:59:13.230Z"
   },
   {
    "duration": 877,
    "start_time": "2023-08-03T23:00:09.646Z"
   },
   {
    "duration": 2099,
    "start_time": "2023-08-03T23:00:18.693Z"
   },
   {
    "duration": 1788,
    "start_time": "2023-08-03T23:01:06.896Z"
   },
   {
    "duration": 969,
    "start_time": "2023-08-03T23:04:54.432Z"
   },
   {
    "duration": 1082,
    "start_time": "2023-08-03T23:05:03.888Z"
   },
   {
    "duration": 869,
    "start_time": "2023-08-03T23:05:17.612Z"
   },
   {
    "duration": 859,
    "start_time": "2023-08-03T23:07:12.893Z"
   },
   {
    "duration": 1017,
    "start_time": "2023-08-03T23:07:35.186Z"
   },
   {
    "duration": 818,
    "start_time": "2023-08-03T23:08:53.961Z"
   },
   {
    "duration": 904,
    "start_time": "2023-08-03T23:09:13.385Z"
   },
   {
    "duration": 3557,
    "start_time": "2023-08-03T23:10:08.354Z"
   },
   {
    "duration": 1025,
    "start_time": "2023-08-03T23:10:50.490Z"
   },
   {
    "duration": 1197,
    "start_time": "2023-08-03T23:10:59.095Z"
   },
   {
    "duration": 1127,
    "start_time": "2023-08-03T23:12:43.278Z"
   },
   {
    "duration": 1345,
    "start_time": "2023-08-03T23:12:56.987Z"
   },
   {
    "duration": 1124,
    "start_time": "2023-08-03T23:13:03.002Z"
   },
   {
    "duration": 1279,
    "start_time": "2023-08-03T23:13:14.079Z"
   },
   {
    "duration": 1144,
    "start_time": "2023-08-03T23:13:22.861Z"
   },
   {
    "duration": 1397,
    "start_time": "2023-08-03T23:14:02.903Z"
   },
   {
    "duration": 1310,
    "start_time": "2023-08-03T23:14:08.628Z"
   },
   {
    "duration": 1417,
    "start_time": "2023-08-03T23:14:12.983Z"
   },
   {
    "duration": 1351,
    "start_time": "2023-08-03T23:14:21.242Z"
   },
   {
    "duration": 1570,
    "start_time": "2023-08-03T23:14:57.465Z"
   },
   {
    "duration": 1404,
    "start_time": "2023-08-03T23:15:07.459Z"
   },
   {
    "duration": 1554,
    "start_time": "2023-08-03T23:15:16.752Z"
   },
   {
    "duration": 1586,
    "start_time": "2023-08-03T23:16:28.159Z"
   },
   {
    "duration": 1975,
    "start_time": "2023-08-03T23:17:21.812Z"
   },
   {
    "duration": 1746,
    "start_time": "2023-08-03T23:17:45.661Z"
   },
   {
    "duration": 1655,
    "start_time": "2023-08-03T23:18:20.760Z"
   },
   {
    "duration": 1760,
    "start_time": "2023-08-03T23:18:41.797Z"
   },
   {
    "duration": 44,
    "start_time": "2023-08-05T17:36:08.985Z"
   },
   {
    "duration": 3140,
    "start_time": "2023-08-05T17:36:15.374Z"
   },
   {
    "duration": 25,
    "start_time": "2023-08-05T17:36:18.516Z"
   },
   {
    "duration": 44,
    "start_time": "2023-08-05T17:36:18.542Z"
   },
   {
    "duration": 151,
    "start_time": "2023-08-05T17:36:18.587Z"
   },
   {
    "duration": 21,
    "start_time": "2023-08-05T17:36:18.740Z"
   },
   {
    "duration": 454,
    "start_time": "2023-08-05T17:36:18.762Z"
   },
   {
    "duration": 1684,
    "start_time": "2023-08-05T17:36:19.218Z"
   },
   {
    "duration": 127,
    "start_time": "2023-08-05T17:36:20.903Z"
   },
   {
    "duration": 317,
    "start_time": "2023-08-05T17:37:05.832Z"
   },
   {
    "duration": 272,
    "start_time": "2023-08-05T17:38:33.296Z"
   },
   {
    "duration": 262,
    "start_time": "2023-08-05T17:38:50.243Z"
   },
   {
    "duration": 340,
    "start_time": "2023-08-05T17:40:05.426Z"
   },
   {
    "duration": 2240,
    "start_time": "2023-08-05T17:43:10.202Z"
   },
   {
    "duration": 24,
    "start_time": "2023-08-05T17:43:12.444Z"
   },
   {
    "duration": 44,
    "start_time": "2023-08-05T17:43:12.469Z"
   },
   {
    "duration": 127,
    "start_time": "2023-08-05T17:43:12.514Z"
   },
   {
    "duration": 19,
    "start_time": "2023-08-05T17:43:12.643Z"
   },
   {
    "duration": 340,
    "start_time": "2023-08-05T17:43:12.663Z"
   },
   {
    "duration": 1641,
    "start_time": "2023-08-05T17:43:13.005Z"
   },
   {
    "duration": 433,
    "start_time": "2023-08-05T17:43:14.647Z"
   },
   {
    "duration": 363,
    "start_time": "2023-08-05T17:44:33.062Z"
   },
   {
    "duration": 72,
    "start_time": "2023-08-05T17:54:50.457Z"
   },
   {
    "duration": 183,
    "start_time": "2023-08-05T17:55:19.142Z"
   },
   {
    "duration": 407,
    "start_time": "2023-08-05T17:57:02.334Z"
   },
   {
    "duration": 207,
    "start_time": "2023-08-05T17:57:07.330Z"
   },
   {
    "duration": 433,
    "start_time": "2023-08-05T17:57:26.452Z"
   },
   {
    "duration": 177,
    "start_time": "2023-08-05T17:57:49.617Z"
   },
   {
    "duration": 154,
    "start_time": "2023-08-05T17:58:31.120Z"
   },
   {
    "duration": 547,
    "start_time": "2023-08-05T17:59:24.946Z"
   },
   {
    "duration": 318,
    "start_time": "2023-08-05T18:01:20.284Z"
   },
   {
    "duration": 388,
    "start_time": "2023-08-05T18:03:00.545Z"
   },
   {
    "duration": 862,
    "start_time": "2023-08-05T18:06:47.443Z"
   },
   {
    "duration": 1133,
    "start_time": "2023-08-05T18:07:22.832Z"
   },
   {
    "duration": 1498,
    "start_time": "2023-08-05T18:08:02.528Z"
   },
   {
    "duration": 1695,
    "start_time": "2023-08-05T18:08:55.049Z"
   },
   {
    "duration": 1279,
    "start_time": "2023-08-05T18:09:20.147Z"
   },
   {
    "duration": 1427,
    "start_time": "2023-08-05T19:11:48.299Z"
   },
   {
    "duration": 1285,
    "start_time": "2023-08-05T19:12:10.537Z"
   },
   {
    "duration": 708,
    "start_time": "2023-08-05T19:14:05.161Z"
   },
   {
    "duration": 669,
    "start_time": "2023-08-05T19:17:00.340Z"
   },
   {
    "duration": 713,
    "start_time": "2023-08-05T19:17:13.640Z"
   },
   {
    "duration": 772,
    "start_time": "2023-08-05T19:17:50.819Z"
   },
   {
    "duration": 639,
    "start_time": "2023-08-05T19:18:41.731Z"
   },
   {
    "duration": 652,
    "start_time": "2023-08-05T19:19:09.270Z"
   },
   {
    "duration": 681,
    "start_time": "2023-08-05T19:20:44.393Z"
   },
   {
    "duration": 2309,
    "start_time": "2023-08-05T19:26:54.726Z"
   },
   {
    "duration": 819,
    "start_time": "2023-08-05T19:27:12.528Z"
   },
   {
    "duration": 688,
    "start_time": "2023-08-05T19:27:20.967Z"
   },
   {
    "duration": 960,
    "start_time": "2023-08-05T19:28:50.392Z"
   },
   {
    "duration": 88,
    "start_time": "2023-08-05T19:32:18.844Z"
   },
   {
    "duration": 93,
    "start_time": "2023-08-05T19:32:38.861Z"
   },
   {
    "duration": 946,
    "start_time": "2023-08-05T19:33:08.759Z"
   },
   {
    "duration": 625,
    "start_time": "2023-08-05T19:33:44.436Z"
   },
   {
    "duration": 733,
    "start_time": "2023-08-05T19:33:57.936Z"
   },
   {
    "duration": 770,
    "start_time": "2023-08-05T19:35:40.490Z"
   },
   {
    "duration": 827,
    "start_time": "2023-08-05T19:37:04.759Z"
   },
   {
    "duration": 503,
    "start_time": "2023-08-05T19:37:41.222Z"
   },
   {
    "duration": 528,
    "start_time": "2023-08-05T19:41:47.226Z"
   },
   {
    "duration": 63,
    "start_time": "2023-08-05T19:50:53.572Z"
   },
   {
    "duration": 9,
    "start_time": "2023-08-05T19:53:02.967Z"
   },
   {
    "duration": 11,
    "start_time": "2023-08-05T19:53:16.735Z"
   },
   {
    "duration": 9,
    "start_time": "2023-08-05T19:58:55.537Z"
   },
   {
    "duration": 14,
    "start_time": "2023-08-05T20:02:15.452Z"
   },
   {
    "duration": 18,
    "start_time": "2023-08-05T20:03:05.367Z"
   },
   {
    "duration": 13,
    "start_time": "2023-08-05T20:03:31.352Z"
   },
   {
    "duration": 12,
    "start_time": "2023-08-05T20:04:19.027Z"
   },
   {
    "duration": 24,
    "start_time": "2023-08-05T20:05:24.413Z"
   },
   {
    "duration": 16,
    "start_time": "2023-08-05T20:06:45.933Z"
   },
   {
    "duration": 10,
    "start_time": "2023-08-05T20:07:15.334Z"
   },
   {
    "duration": 16,
    "start_time": "2023-08-05T20:07:24.054Z"
   },
   {
    "duration": 33,
    "start_time": "2023-08-05T20:07:58.392Z"
   },
   {
    "duration": 14,
    "start_time": "2023-08-05T20:08:31.140Z"
   },
   {
    "duration": 14,
    "start_time": "2023-08-05T20:08:41.583Z"
   },
   {
    "duration": 16,
    "start_time": "2023-08-05T20:09:11.964Z"
   },
   {
    "duration": 13,
    "start_time": "2023-08-05T20:09:42.035Z"
   },
   {
    "duration": 35,
    "start_time": "2023-08-05T20:11:09.590Z"
   },
   {
    "duration": 42,
    "start_time": "2023-08-05T20:12:47.676Z"
   },
   {
    "duration": 37,
    "start_time": "2023-08-05T20:13:11.622Z"
   },
   {
    "duration": 30,
    "start_time": "2023-08-05T20:13:30.122Z"
   },
   {
    "duration": 36,
    "start_time": "2023-08-05T20:14:10.124Z"
   },
   {
    "duration": 25,
    "start_time": "2023-08-05T20:14:27.049Z"
   },
   {
    "duration": 30,
    "start_time": "2023-08-05T20:14:38.326Z"
   },
   {
    "duration": 35,
    "start_time": "2023-08-05T20:14:45.478Z"
   },
   {
    "duration": 22,
    "start_time": "2023-08-05T20:14:57.238Z"
   },
   {
    "duration": 33,
    "start_time": "2023-08-05T20:16:38.899Z"
   },
   {
    "duration": 25,
    "start_time": "2023-08-05T20:17:08.756Z"
   },
   {
    "duration": 22,
    "start_time": "2023-08-05T20:17:53.827Z"
   },
   {
    "duration": 30,
    "start_time": "2023-08-05T20:18:41.244Z"
   },
   {
    "duration": 20,
    "start_time": "2023-08-05T20:19:57.850Z"
   },
   {
    "duration": 23,
    "start_time": "2023-08-05T20:20:13.322Z"
   },
   {
    "duration": 107,
    "start_time": "2023-08-05T20:26:11.450Z"
   },
   {
    "duration": 7,
    "start_time": "2023-08-05T20:27:49.356Z"
   },
   {
    "duration": 97,
    "start_time": "2023-08-05T20:29:36.530Z"
   },
   {
    "duration": 22,
    "start_time": "2023-08-05T20:30:10.840Z"
   },
   {
    "duration": 22,
    "start_time": "2023-08-05T20:30:21.199Z"
   },
   {
    "duration": 8,
    "start_time": "2023-08-05T20:30:37.676Z"
   },
   {
    "duration": 9,
    "start_time": "2023-08-05T20:30:47.645Z"
   },
   {
    "duration": 9,
    "start_time": "2023-08-05T20:30:54.127Z"
   },
   {
    "duration": 12,
    "start_time": "2023-08-05T20:32:00.555Z"
   },
   {
    "duration": 12,
    "start_time": "2023-08-05T20:32:11.071Z"
   },
   {
    "duration": 79,
    "start_time": "2023-08-05T20:32:21.710Z"
   },
   {
    "duration": 8,
    "start_time": "2023-08-05T20:32:29.063Z"
   },
   {
    "duration": 13,
    "start_time": "2023-08-05T20:32:55.521Z"
   },
   {
    "duration": 10,
    "start_time": "2023-08-05T20:40:18.664Z"
   },
   {
    "duration": 17,
    "start_time": "2023-08-05T20:40:22.692Z"
   },
   {
    "duration": 5,
    "start_time": "2023-08-05T20:42:25.370Z"
   },
   {
    "duration": 4,
    "start_time": "2023-08-05T20:42:38.061Z"
   },
   {
    "duration": 5,
    "start_time": "2023-08-05T20:42:59.158Z"
   },
   {
    "duration": 4,
    "start_time": "2023-08-05T20:43:07.894Z"
   },
   {
    "duration": 2476,
    "start_time": "2023-08-05T20:43:13.354Z"
   },
   {
    "duration": 25,
    "start_time": "2023-08-05T20:43:15.833Z"
   },
   {
    "duration": 58,
    "start_time": "2023-08-05T20:43:15.859Z"
   },
   {
    "duration": 229,
    "start_time": "2023-08-05T20:43:15.919Z"
   },
   {
    "duration": 28,
    "start_time": "2023-08-05T20:43:16.150Z"
   },
   {
    "duration": 531,
    "start_time": "2023-08-05T20:43:16.180Z"
   },
   {
    "duration": 2030,
    "start_time": "2023-08-05T20:43:16.731Z"
   },
   {
    "duration": 527,
    "start_time": "2023-08-05T20:43:18.763Z"
   },
   {
    "duration": 598,
    "start_time": "2023-08-05T20:43:19.291Z"
   },
   {
    "duration": 13,
    "start_time": "2023-08-05T20:43:19.892Z"
   },
   {
    "duration": 37,
    "start_time": "2023-08-05T20:44:38.725Z"
   },
   {
    "duration": 7,
    "start_time": "2023-08-05T20:47:00.987Z"
   },
   {
    "duration": 36,
    "start_time": "2023-08-05T20:50:30.150Z"
   },
   {
    "duration": 11,
    "start_time": "2023-08-05T20:50:56.666Z"
   },
   {
    "duration": 97,
    "start_time": "2023-08-05T20:51:33.288Z"
   },
   {
    "duration": 13,
    "start_time": "2023-08-05T20:51:42.171Z"
   },
   {
    "duration": 20,
    "start_time": "2023-08-05T20:52:18.497Z"
   },
   {
    "duration": 14,
    "start_time": "2023-08-05T20:52:24.971Z"
   },
   {
    "duration": 13,
    "start_time": "2023-08-05T20:52:42.064Z"
   },
   {
    "duration": 20,
    "start_time": "2023-08-05T20:52:57.650Z"
   },
   {
    "duration": 13,
    "start_time": "2023-08-05T20:53:04.067Z"
   },
   {
    "duration": 16,
    "start_time": "2023-08-05T20:54:20.657Z"
   },
   {
    "duration": 20,
    "start_time": "2023-08-05T20:54:30.030Z"
   },
   {
    "duration": 573,
    "start_time": "2023-08-05T21:11:49.626Z"
   },
   {
    "duration": 620,
    "start_time": "2023-08-05T21:12:31.437Z"
   },
   {
    "duration": 45,
    "start_time": "2023-08-05T21:28:08.840Z"
   },
   {
    "duration": 69,
    "start_time": "2023-08-05T21:28:58.572Z"
   },
   {
    "duration": 21,
    "start_time": "2023-08-05T21:30:12.846Z"
   },
   {
    "duration": 5,
    "start_time": "2023-08-05T21:30:29.376Z"
   },
   {
    "duration": 25,
    "start_time": "2023-08-05T21:31:09.332Z"
   },
   {
    "duration": 178,
    "start_time": "2023-08-05T21:31:58.015Z"
   },
   {
    "duration": 181,
    "start_time": "2023-08-05T21:32:30.853Z"
   },
   {
    "duration": 256,
    "start_time": "2023-08-05T21:32:38.197Z"
   },
   {
    "duration": 138,
    "start_time": "2023-08-05T21:33:12.038Z"
   },
   {
    "duration": 229,
    "start_time": "2023-08-05T21:35:31.024Z"
   },
   {
    "duration": 143,
    "start_time": "2023-08-05T21:35:45.145Z"
   },
   {
    "duration": 184,
    "start_time": "2023-08-05T21:36:51.259Z"
   },
   {
    "duration": 159,
    "start_time": "2023-08-05T21:37:02.730Z"
   },
   {
    "duration": 137,
    "start_time": "2023-08-05T21:37:10.648Z"
   },
   {
    "duration": 135,
    "start_time": "2023-08-05T21:37:33.346Z"
   },
   {
    "duration": 152,
    "start_time": "2023-08-05T21:37:51.467Z"
   },
   {
    "duration": 244,
    "start_time": "2023-08-05T21:37:59.566Z"
   },
   {
    "duration": 267,
    "start_time": "2023-08-05T21:38:22.958Z"
   },
   {
    "duration": 177,
    "start_time": "2023-08-05T21:39:05.468Z"
   },
   {
    "duration": 212,
    "start_time": "2023-08-05T21:39:16.245Z"
   },
   {
    "duration": 164,
    "start_time": "2023-08-05T21:39:31.524Z"
   },
   {
    "duration": 179,
    "start_time": "2023-08-05T21:39:47.239Z"
   },
   {
    "duration": 154,
    "start_time": "2023-08-05T21:41:34.093Z"
   },
   {
    "duration": 155,
    "start_time": "2023-08-05T21:41:50.126Z"
   },
   {
    "duration": 148,
    "start_time": "2023-08-05T21:42:03.158Z"
   },
   {
    "duration": 231,
    "start_time": "2023-08-05T21:43:58.234Z"
   },
   {
    "duration": 154,
    "start_time": "2023-08-05T21:45:17.771Z"
   },
   {
    "duration": 153,
    "start_time": "2023-08-05T21:45:29.026Z"
   },
   {
    "duration": 163,
    "start_time": "2023-08-05T21:46:54.661Z"
   },
   {
    "duration": 168,
    "start_time": "2023-08-05T21:47:15.170Z"
   },
   {
    "duration": 171,
    "start_time": "2023-08-05T21:47:23.246Z"
   },
   {
    "duration": 151,
    "start_time": "2023-08-05T21:47:49.527Z"
   },
   {
    "duration": 22,
    "start_time": "2023-08-05T21:48:42.336Z"
   },
   {
    "duration": 160,
    "start_time": "2023-08-05T21:49:06.679Z"
   },
   {
    "duration": 2879,
    "start_time": "2023-08-06T19:37:09.384Z"
   },
   {
    "duration": 30,
    "start_time": "2023-08-06T19:37:12.265Z"
   },
   {
    "duration": 65,
    "start_time": "2023-08-06T19:37:12.297Z"
   },
   {
    "duration": 166,
    "start_time": "2023-08-06T19:37:12.365Z"
   },
   {
    "duration": 41,
    "start_time": "2023-08-06T19:37:12.534Z"
   },
   {
    "duration": 347,
    "start_time": "2023-08-06T19:37:12.577Z"
   },
   {
    "duration": 2090,
    "start_time": "2023-08-06T19:37:12.926Z"
   },
   {
    "duration": 441,
    "start_time": "2023-08-06T19:37:15.018Z"
   },
   {
    "duration": 607,
    "start_time": "2023-08-06T19:37:15.462Z"
   },
   {
    "duration": 17,
    "start_time": "2023-08-06T19:37:16.076Z"
   },
   {
    "duration": 165,
    "start_time": "2023-08-06T19:37:16.095Z"
   },
   {
    "duration": 3178,
    "start_time": "2023-08-06T20:56:17.897Z"
   },
   {
    "duration": 50,
    "start_time": "2023-08-06T20:56:21.078Z"
   },
   {
    "duration": 85,
    "start_time": "2023-08-06T20:56:21.132Z"
   },
   {
    "duration": 224,
    "start_time": "2023-08-06T20:56:21.220Z"
   },
   {
    "duration": 48,
    "start_time": "2023-08-06T20:56:21.446Z"
   },
   {
    "duration": 504,
    "start_time": "2023-08-06T20:56:21.496Z"
   },
   {
    "duration": 2271,
    "start_time": "2023-08-06T20:56:22.003Z"
   },
   {
    "duration": 674,
    "start_time": "2023-08-06T20:56:24.277Z"
   },
   {
    "duration": 736,
    "start_time": "2023-08-06T20:56:24.953Z"
   },
   {
    "duration": 18,
    "start_time": "2023-08-06T20:56:25.692Z"
   },
   {
    "duration": 173,
    "start_time": "2023-08-06T20:56:25.712Z"
   },
   {
    "duration": 4702,
    "start_time": "2023-08-07T03:51:25.237Z"
   },
   {
    "duration": 25,
    "start_time": "2023-08-07T03:51:29.966Z"
   },
   {
    "duration": 102,
    "start_time": "2023-08-07T03:51:30.038Z"
   },
   {
    "duration": 312,
    "start_time": "2023-08-07T03:51:30.141Z"
   },
   {
    "duration": 20,
    "start_time": "2023-08-07T03:51:30.456Z"
   },
   {
    "duration": 762,
    "start_time": "2023-08-07T03:51:30.477Z"
   },
   {
    "duration": 3707,
    "start_time": "2023-08-07T03:51:31.240Z"
   },
   {
    "duration": 995,
    "start_time": "2023-08-07T03:51:34.949Z"
   },
   {
    "duration": 1193,
    "start_time": "2023-08-07T03:51:35.946Z"
   },
   {
    "duration": 12,
    "start_time": "2023-08-07T03:51:37.141Z"
   },
   {
    "duration": 295,
    "start_time": "2023-08-07T03:51:37.155Z"
   },
   {
    "duration": 4760,
    "start_time": "2023-08-07T03:52:00.709Z"
   },
   {
    "duration": 26,
    "start_time": "2023-08-07T03:52:05.471Z"
   },
   {
    "duration": 101,
    "start_time": "2023-08-07T03:52:05.537Z"
   },
   {
    "duration": 234,
    "start_time": "2023-08-07T03:52:05.639Z"
   },
   {
    "duration": 63,
    "start_time": "2023-08-07T03:52:05.875Z"
   },
   {
    "duration": 706,
    "start_time": "2023-08-07T03:52:05.939Z"
   },
   {
    "duration": 3510,
    "start_time": "2023-08-07T03:52:06.647Z"
   },
   {
    "duration": 895,
    "start_time": "2023-08-07T03:52:10.158Z"
   },
   {
    "duration": 1102,
    "start_time": "2023-08-07T03:52:11.054Z"
   },
   {
    "duration": 12,
    "start_time": "2023-08-07T03:52:12.157Z"
   },
   {
    "duration": 296,
    "start_time": "2023-08-07T03:52:12.170Z"
   },
   {
    "duration": 5,
    "start_time": "2023-08-07T03:57:00.025Z"
   },
   {
    "duration": 13,
    "start_time": "2023-08-07T03:58:10.084Z"
   },
   {
    "duration": 140,
    "start_time": "2023-08-07T03:59:00.364Z"
   },
   {
    "duration": 94,
    "start_time": "2023-08-07T03:59:34.958Z"
   },
   {
    "duration": 6,
    "start_time": "2023-08-07T04:00:22.650Z"
   },
   {
    "duration": 875,
    "start_time": "2023-08-07T10:14:20.735Z"
   },
   {
    "duration": 230,
    "start_time": "2023-08-07T10:14:21.612Z"
   },
   {
    "duration": 18,
    "start_time": "2023-08-07T10:14:21.844Z"
   },
   {
    "duration": 2208,
    "start_time": "2023-08-07T10:14:21.864Z"
   },
   {
    "duration": 36,
    "start_time": "2023-08-07T10:14:24.074Z"
   },
   {
    "duration": 69,
    "start_time": "2023-08-07T10:14:24.112Z"
   },
   {
    "duration": 163,
    "start_time": "2023-08-07T10:14:24.188Z"
   },
   {
    "duration": 34,
    "start_time": "2023-08-07T10:14:24.352Z"
   },
   {
    "duration": 516,
    "start_time": "2023-08-07T10:14:24.390Z"
   },
   {
    "duration": 2245,
    "start_time": "2023-08-07T10:14:24.908Z"
   },
   {
    "duration": 613,
    "start_time": "2023-08-07T10:14:27.161Z"
   },
   {
    "duration": 716,
    "start_time": "2023-08-07T10:14:27.775Z"
   },
   {
    "duration": 14,
    "start_time": "2023-08-07T10:14:28.493Z"
   },
   {
    "duration": 180,
    "start_time": "2023-08-07T10:14:28.509Z"
   },
   {
    "duration": 148,
    "start_time": "2023-08-07T10:16:55.148Z"
   },
   {
    "duration": 199,
    "start_time": "2023-08-07T10:17:04.296Z"
   },
   {
    "duration": 162,
    "start_time": "2023-08-07T10:17:14.196Z"
   },
   {
    "duration": 24,
    "start_time": "2023-08-07T10:17:43.280Z"
   },
   {
    "duration": 14,
    "start_time": "2023-08-07T10:17:48.838Z"
   },
   {
    "duration": 2276,
    "start_time": "2023-08-07T10:18:06.426Z"
   },
   {
    "duration": 15,
    "start_time": "2023-08-07T10:18:13.593Z"
   },
   {
    "duration": 23,
    "start_time": "2023-08-07T10:18:17.472Z"
   },
   {
    "duration": 142,
    "start_time": "2023-08-07T10:31:17.132Z"
   },
   {
    "duration": 124,
    "start_time": "2023-08-07T10:31:21.903Z"
   },
   {
    "duration": 62,
    "start_time": "2023-08-07T11:50:47.999Z"
   },
   {
    "duration": 9,
    "start_time": "2023-08-07T11:51:25.028Z"
   },
   {
    "duration": 22,
    "start_time": "2023-08-07T11:51:29.044Z"
   },
   {
    "duration": 37,
    "start_time": "2023-08-07T11:52:05.908Z"
   },
   {
    "duration": 33,
    "start_time": "2023-08-07T11:52:08.830Z"
   },
   {
    "duration": 8,
    "start_time": "2023-08-07T11:52:46.142Z"
   },
   {
    "duration": 145,
    "start_time": "2023-08-07T11:52:49.777Z"
   },
   {
    "duration": 711,
    "start_time": "2023-08-07T12:10:00.627Z"
   },
   {
    "duration": 74,
    "start_time": "2023-08-07T12:13:30.985Z"
   },
   {
    "duration": 198,
    "start_time": "2023-08-07T12:14:30.649Z"
   },
   {
    "duration": 214,
    "start_time": "2023-08-07T12:15:09.204Z"
   },
   {
    "duration": 119,
    "start_time": "2023-08-07T12:15:24.223Z"
   },
   {
    "duration": 114,
    "start_time": "2023-08-07T12:15:29.365Z"
   },
   {
    "duration": 14,
    "start_time": "2023-08-07T12:17:32.630Z"
   },
   {
    "duration": 309,
    "start_time": "2023-08-07T12:18:31.071Z"
   },
   {
    "duration": 788,
    "start_time": "2023-08-07T12:19:10.734Z"
   },
   {
    "duration": 165,
    "start_time": "2023-08-07T12:19:11.524Z"
   },
   {
    "duration": 20,
    "start_time": "2023-08-07T12:19:11.691Z"
   },
   {
    "duration": 2712,
    "start_time": "2023-08-07T12:19:11.714Z"
   },
   {
    "duration": 14,
    "start_time": "2023-08-07T12:19:14.428Z"
   },
   {
    "duration": 63,
    "start_time": "2023-08-07T12:19:14.445Z"
   },
   {
    "duration": 33,
    "start_time": "2023-08-07T12:19:14.510Z"
   },
   {
    "duration": 67,
    "start_time": "2023-08-07T12:19:14.546Z"
   },
   {
    "duration": 10,
    "start_time": "2023-08-07T12:19:14.616Z"
   },
   {
    "duration": 203,
    "start_time": "2023-08-07T12:19:14.629Z"
   },
   {
    "duration": 266,
    "start_time": "2023-08-07T12:19:14.835Z"
   },
   {
    "duration": 0,
    "start_time": "2023-08-07T12:19:15.104Z"
   },
   {
    "duration": 0,
    "start_time": "2023-08-07T12:19:15.106Z"
   },
   {
    "duration": 0,
    "start_time": "2023-08-07T12:19:15.108Z"
   },
   {
    "duration": 0,
    "start_time": "2023-08-07T12:19:15.109Z"
   },
   {
    "duration": 0,
    "start_time": "2023-08-07T12:19:15.110Z"
   },
   {
    "duration": 0,
    "start_time": "2023-08-07T12:19:15.112Z"
   },
   {
    "duration": 7,
    "start_time": "2023-08-07T12:19:30.207Z"
   },
   {
    "duration": 36,
    "start_time": "2023-08-07T12:30:01.621Z"
   },
   {
    "duration": 14,
    "start_time": "2023-08-07T12:30:14.620Z"
   },
   {
    "duration": 51,
    "start_time": "2023-08-07T12:30:38.393Z"
   },
   {
    "duration": 46,
    "start_time": "2023-08-07T12:31:09.505Z"
   },
   {
    "duration": 25,
    "start_time": "2023-08-07T13:55:18.742Z"
   },
   {
    "duration": 45,
    "start_time": "2023-08-07T13:56:22.357Z"
   },
   {
    "duration": 73,
    "start_time": "2023-08-07T14:01:25.308Z"
   },
   {
    "duration": 73,
    "start_time": "2023-08-07T14:02:39.686Z"
   },
   {
    "duration": 25,
    "start_time": "2023-08-07T14:06:09.234Z"
   },
   {
    "duration": 76,
    "start_time": "2023-08-07T14:06:27.017Z"
   },
   {
    "duration": 7,
    "start_time": "2023-08-07T14:06:43.484Z"
   },
   {
    "duration": 1537,
    "start_time": "2023-08-07T14:06:49.238Z"
   },
   {
    "duration": 15,
    "start_time": "2023-08-07T14:07:35.442Z"
   },
   {
    "duration": 6,
    "start_time": "2023-08-07T14:07:52.690Z"
   },
   {
    "duration": 7,
    "start_time": "2023-08-07T14:08:31.147Z"
   },
   {
    "duration": 685,
    "start_time": "2023-08-07T14:08:36.960Z"
   },
   {
    "duration": 153,
    "start_time": "2023-08-07T14:08:37.647Z"
   },
   {
    "duration": 18,
    "start_time": "2023-08-07T14:08:37.801Z"
   },
   {
    "duration": 2284,
    "start_time": "2023-08-07T14:08:37.821Z"
   },
   {
    "duration": 10,
    "start_time": "2023-08-07T14:08:40.108Z"
   },
   {
    "duration": 35,
    "start_time": "2023-08-07T14:08:40.120Z"
   },
   {
    "duration": 27,
    "start_time": "2023-08-07T14:08:40.157Z"
   },
   {
    "duration": 36,
    "start_time": "2023-08-07T14:08:40.185Z"
   },
   {
    "duration": 40,
    "start_time": "2023-08-07T14:08:40.223Z"
   },
   {
    "duration": 168,
    "start_time": "2023-08-07T14:08:40.265Z"
   },
   {
    "duration": 2070,
    "start_time": "2023-08-07T14:08:40.435Z"
   },
   {
    "duration": 108,
    "start_time": "2023-08-07T14:08:42.507Z"
   },
   {
    "duration": 0,
    "start_time": "2023-08-07T14:08:42.618Z"
   },
   {
    "duration": 0,
    "start_time": "2023-08-07T14:08:42.619Z"
   },
   {
    "duration": 0,
    "start_time": "2023-08-07T14:08:42.621Z"
   },
   {
    "duration": 0,
    "start_time": "2023-08-07T14:08:42.622Z"
   },
   {
    "duration": 0,
    "start_time": "2023-08-07T14:08:42.624Z"
   },
   {
    "duration": 18,
    "start_time": "2023-08-07T14:10:24.032Z"
   },
   {
    "duration": 6,
    "start_time": "2023-08-07T14:12:51.959Z"
   },
   {
    "duration": 10,
    "start_time": "2023-08-07T14:13:01.391Z"
   },
   {
    "duration": 6,
    "start_time": "2023-08-07T14:13:34.629Z"
   },
   {
    "duration": 6,
    "start_time": "2023-08-07T14:13:36.806Z"
   },
   {
    "duration": 731,
    "start_time": "2023-08-07T14:13:43.007Z"
   },
   {
    "duration": 135,
    "start_time": "2023-08-07T14:13:43.740Z"
   },
   {
    "duration": 16,
    "start_time": "2023-08-07T14:13:43.877Z"
   },
   {
    "duration": 2177,
    "start_time": "2023-08-07T14:13:43.896Z"
   },
   {
    "duration": 12,
    "start_time": "2023-08-07T14:13:46.077Z"
   },
   {
    "duration": 27,
    "start_time": "2023-08-07T14:13:46.091Z"
   },
   {
    "duration": 41,
    "start_time": "2023-08-07T14:13:46.119Z"
   },
   {
    "duration": 40,
    "start_time": "2023-08-07T14:13:46.162Z"
   },
   {
    "duration": 8,
    "start_time": "2023-08-07T14:13:46.204Z"
   },
   {
    "duration": 174,
    "start_time": "2023-08-07T14:13:46.213Z"
   },
   {
    "duration": 1898,
    "start_time": "2023-08-07T14:13:46.388Z"
   },
   {
    "duration": 87,
    "start_time": "2023-08-07T14:13:48.289Z"
   },
   {
    "duration": 0,
    "start_time": "2023-08-07T14:13:48.378Z"
   },
   {
    "duration": 0,
    "start_time": "2023-08-07T14:13:48.380Z"
   },
   {
    "duration": 0,
    "start_time": "2023-08-07T14:13:48.381Z"
   },
   {
    "duration": 0,
    "start_time": "2023-08-07T14:13:48.383Z"
   },
   {
    "duration": 0,
    "start_time": "2023-08-07T14:13:48.384Z"
   },
   {
    "duration": 14,
    "start_time": "2023-08-07T14:19:40.375Z"
   },
   {
    "duration": 10,
    "start_time": "2023-08-07T14:20:17.635Z"
   },
   {
    "duration": 8,
    "start_time": "2023-08-07T14:20:30.119Z"
   },
   {
    "duration": 6,
    "start_time": "2023-08-07T14:20:46.992Z"
   },
   {
    "duration": 739,
    "start_time": "2023-08-07T14:20:53.813Z"
   },
   {
    "duration": 179,
    "start_time": "2023-08-07T14:20:54.555Z"
   },
   {
    "duration": 35,
    "start_time": "2023-08-07T14:20:54.738Z"
   },
   {
    "duration": 2099,
    "start_time": "2023-08-07T14:20:54.776Z"
   },
   {
    "duration": 10,
    "start_time": "2023-08-07T14:20:56.877Z"
   },
   {
    "duration": 31,
    "start_time": "2023-08-07T14:20:56.889Z"
   },
   {
    "duration": 44,
    "start_time": "2023-08-07T14:20:56.922Z"
   },
   {
    "duration": 41,
    "start_time": "2023-08-07T14:20:56.967Z"
   },
   {
    "duration": 9,
    "start_time": "2023-08-07T14:20:57.012Z"
   },
   {
    "duration": 201,
    "start_time": "2023-08-07T14:20:57.023Z"
   },
   {
    "duration": 3910,
    "start_time": "2023-08-07T14:20:57.227Z"
   },
   {
    "duration": 101,
    "start_time": "2023-08-07T14:21:01.140Z"
   },
   {
    "duration": 0,
    "start_time": "2023-08-07T14:21:01.243Z"
   },
   {
    "duration": 0,
    "start_time": "2023-08-07T14:21:01.244Z"
   },
   {
    "duration": 0,
    "start_time": "2023-08-07T14:21:01.261Z"
   },
   {
    "duration": 0,
    "start_time": "2023-08-07T14:21:01.262Z"
   },
   {
    "duration": 0,
    "start_time": "2023-08-07T14:21:01.263Z"
   },
   {
    "duration": 661,
    "start_time": "2023-08-07T14:21:39.674Z"
   },
   {
    "duration": 168,
    "start_time": "2023-08-07T14:21:40.337Z"
   },
   {
    "duration": 24,
    "start_time": "2023-08-07T14:21:40.510Z"
   },
   {
    "duration": 2103,
    "start_time": "2023-08-07T14:21:40.538Z"
   },
   {
    "duration": 9,
    "start_time": "2023-08-07T14:21:42.643Z"
   },
   {
    "duration": 30,
    "start_time": "2023-08-07T14:21:42.654Z"
   },
   {
    "duration": 26,
    "start_time": "2023-08-07T14:21:42.686Z"
   },
   {
    "duration": 62,
    "start_time": "2023-08-07T14:21:42.713Z"
   },
   {
    "duration": 10,
    "start_time": "2023-08-07T14:21:42.777Z"
   },
   {
    "duration": 190,
    "start_time": "2023-08-07T14:21:42.789Z"
   },
   {
    "duration": 2141,
    "start_time": "2023-08-07T14:21:42.981Z"
   },
   {
    "duration": 92,
    "start_time": "2023-08-07T14:21:45.124Z"
   },
   {
    "duration": 0,
    "start_time": "2023-08-07T14:21:45.218Z"
   },
   {
    "duration": 0,
    "start_time": "2023-08-07T14:21:45.219Z"
   },
   {
    "duration": 0,
    "start_time": "2023-08-07T14:21:45.220Z"
   },
   {
    "duration": 0,
    "start_time": "2023-08-07T14:21:45.221Z"
   },
   {
    "duration": 0,
    "start_time": "2023-08-07T14:21:45.222Z"
   },
   {
    "duration": 16,
    "start_time": "2023-08-07T14:22:15.277Z"
   },
   {
    "duration": 641,
    "start_time": "2023-08-07T14:22:27.204Z"
   },
   {
    "duration": 155,
    "start_time": "2023-08-07T14:22:27.848Z"
   },
   {
    "duration": 15,
    "start_time": "2023-08-07T14:22:28.004Z"
   },
   {
    "duration": 2212,
    "start_time": "2023-08-07T14:22:28.021Z"
   },
   {
    "duration": 11,
    "start_time": "2023-08-07T14:22:30.236Z"
   },
   {
    "duration": 55,
    "start_time": "2023-08-07T14:22:30.249Z"
   },
   {
    "duration": 29,
    "start_time": "2023-08-07T14:22:30.307Z"
   },
   {
    "duration": 65,
    "start_time": "2023-08-07T14:22:30.337Z"
   },
   {
    "duration": 10,
    "start_time": "2023-08-07T14:22:30.404Z"
   },
   {
    "duration": 198,
    "start_time": "2023-08-07T14:22:30.415Z"
   },
   {
    "duration": 2202,
    "start_time": "2023-08-07T14:22:30.614Z"
   },
   {
    "duration": 89,
    "start_time": "2023-08-07T14:22:32.817Z"
   },
   {
    "duration": 0,
    "start_time": "2023-08-07T14:22:32.908Z"
   },
   {
    "duration": 0,
    "start_time": "2023-08-07T14:22:32.909Z"
   },
   {
    "duration": 0,
    "start_time": "2023-08-07T14:22:32.910Z"
   },
   {
    "duration": 0,
    "start_time": "2023-08-07T14:22:32.911Z"
   },
   {
    "duration": 0,
    "start_time": "2023-08-07T14:22:32.912Z"
   },
   {
    "duration": 19,
    "start_time": "2023-08-07T14:23:14.408Z"
   },
   {
    "duration": 9,
    "start_time": "2023-08-07T14:23:16.478Z"
   },
   {
    "duration": 94,
    "start_time": "2023-08-07T14:24:20.585Z"
   },
   {
    "duration": 16,
    "start_time": "2023-08-07T14:26:29.354Z"
   },
   {
    "duration": 9,
    "start_time": "2023-08-07T14:26:51.252Z"
   },
   {
    "duration": 18,
    "start_time": "2023-08-07T14:27:20.359Z"
   },
   {
    "duration": 731,
    "start_time": "2023-08-07T14:27:24.838Z"
   },
   {
    "duration": 210,
    "start_time": "2023-08-07T14:27:25.580Z"
   },
   {
    "duration": 21,
    "start_time": "2023-08-07T14:27:25.796Z"
   },
   {
    "duration": 2610,
    "start_time": "2023-08-07T14:27:25.820Z"
   },
   {
    "duration": 10,
    "start_time": "2023-08-07T14:27:28.432Z"
   },
   {
    "duration": 65,
    "start_time": "2023-08-07T14:27:28.443Z"
   },
   {
    "duration": 26,
    "start_time": "2023-08-07T14:27:28.511Z"
   },
   {
    "duration": 71,
    "start_time": "2023-08-07T14:27:28.539Z"
   },
   {
    "duration": 137,
    "start_time": "2023-08-07T14:27:28.612Z"
   },
   {
    "duration": 191,
    "start_time": "2023-08-07T14:27:28.751Z"
   },
   {
    "duration": 77,
    "start_time": "2023-08-07T14:27:28.944Z"
   },
   {
    "duration": 499,
    "start_time": "2023-08-07T14:27:29.023Z"
   },
   {
    "duration": 2593,
    "start_time": "2023-08-07T14:27:29.524Z"
   },
   {
    "duration": 664,
    "start_time": "2023-08-07T14:27:32.119Z"
   },
   {
    "duration": 780,
    "start_time": "2023-08-07T14:27:32.785Z"
   },
   {
    "duration": 16,
    "start_time": "2023-08-07T14:27:33.567Z"
   },
   {
    "duration": 219,
    "start_time": "2023-08-07T14:27:33.585Z"
   },
   {
    "duration": 739,
    "start_time": "2023-08-07T14:27:45.096Z"
   },
   {
    "duration": 192,
    "start_time": "2023-08-07T14:27:45.837Z"
   },
   {
    "duration": 33,
    "start_time": "2023-08-07T14:27:46.032Z"
   },
   {
    "duration": 2252,
    "start_time": "2023-08-07T14:27:46.068Z"
   },
   {
    "duration": 11,
    "start_time": "2023-08-07T14:27:48.323Z"
   },
   {
    "duration": 26,
    "start_time": "2023-08-07T14:27:48.335Z"
   },
   {
    "duration": 43,
    "start_time": "2023-08-07T14:27:48.363Z"
   },
   {
    "duration": 111,
    "start_time": "2023-08-07T14:27:48.409Z"
   },
   {
    "duration": 15,
    "start_time": "2023-08-07T14:27:48.522Z"
   },
   {
    "duration": 187,
    "start_time": "2023-08-07T14:27:48.538Z"
   },
   {
    "duration": 2393,
    "start_time": "2023-08-07T14:27:48.727Z"
   },
   {
    "duration": 107,
    "start_time": "2023-08-07T14:27:51.122Z"
   },
   {
    "duration": 0,
    "start_time": "2023-08-07T14:27:51.231Z"
   },
   {
    "duration": 0,
    "start_time": "2023-08-07T14:27:51.233Z"
   },
   {
    "duration": 0,
    "start_time": "2023-08-07T14:27:51.234Z"
   },
   {
    "duration": 0,
    "start_time": "2023-08-07T14:27:51.235Z"
   },
   {
    "duration": 0,
    "start_time": "2023-08-07T14:27:51.237Z"
   },
   {
    "duration": 16,
    "start_time": "2023-08-07T14:28:29.922Z"
   },
   {
    "duration": 8,
    "start_time": "2023-08-07T14:30:43.292Z"
   },
   {
    "duration": 6,
    "start_time": "2023-08-07T14:30:46.539Z"
   },
   {
    "duration": 7,
    "start_time": "2023-08-07T14:30:57.121Z"
   },
   {
    "duration": 9,
    "start_time": "2023-08-07T14:31:21.130Z"
   },
   {
    "duration": 8,
    "start_time": "2023-08-07T14:31:24.530Z"
   },
   {
    "duration": 766,
    "start_time": "2023-08-07T14:31:30.140Z"
   },
   {
    "duration": 166,
    "start_time": "2023-08-07T14:31:30.908Z"
   },
   {
    "duration": 24,
    "start_time": "2023-08-07T14:31:31.082Z"
   },
   {
    "duration": 2373,
    "start_time": "2023-08-07T14:31:31.108Z"
   },
   {
    "duration": 14,
    "start_time": "2023-08-07T14:31:33.484Z"
   },
   {
    "duration": 26,
    "start_time": "2023-08-07T14:31:33.500Z"
   },
   {
    "duration": 38,
    "start_time": "2023-08-07T14:31:33.527Z"
   },
   {
    "duration": 48,
    "start_time": "2023-08-07T14:31:33.573Z"
   },
   {
    "duration": 7,
    "start_time": "2023-08-07T14:31:33.623Z"
   },
   {
    "duration": 200,
    "start_time": "2023-08-07T14:31:33.632Z"
   },
   {
    "duration": 73,
    "start_time": "2023-08-07T14:31:33.834Z"
   },
   {
    "duration": 546,
    "start_time": "2023-08-07T14:31:33.910Z"
   },
   {
    "duration": 2422,
    "start_time": "2023-08-07T14:31:34.458Z"
   },
   {
    "duration": 607,
    "start_time": "2023-08-07T14:31:36.894Z"
   },
   {
    "duration": 747,
    "start_time": "2023-08-07T14:31:37.503Z"
   },
   {
    "duration": 28,
    "start_time": "2023-08-07T14:31:38.259Z"
   },
   {
    "duration": 200,
    "start_time": "2023-08-07T14:31:38.290Z"
   },
   {
    "duration": 701,
    "start_time": "2023-08-07T14:31:46.959Z"
   },
   {
    "duration": 168,
    "start_time": "2023-08-07T14:31:47.664Z"
   },
   {
    "duration": 34,
    "start_time": "2023-08-07T14:31:47.834Z"
   },
   {
    "duration": 2293,
    "start_time": "2023-08-07T14:31:47.873Z"
   },
   {
    "duration": 21,
    "start_time": "2023-08-07T14:31:50.169Z"
   },
   {
    "duration": 32,
    "start_time": "2023-08-07T14:31:50.192Z"
   },
   {
    "duration": 48,
    "start_time": "2023-08-07T14:31:50.225Z"
   },
   {
    "duration": 48,
    "start_time": "2023-08-07T14:31:50.275Z"
   },
   {
    "duration": 9,
    "start_time": "2023-08-07T14:31:50.325Z"
   },
   {
    "duration": 330,
    "start_time": "2023-08-07T14:31:50.338Z"
   },
   {
    "duration": 115,
    "start_time": "2023-08-07T14:31:50.671Z"
   },
   {
    "duration": 449,
    "start_time": "2023-08-07T14:31:50.788Z"
   },
   {
    "duration": 2686,
    "start_time": "2023-08-07T14:31:51.240Z"
   },
   {
    "duration": 753,
    "start_time": "2023-08-07T14:31:53.929Z"
   },
   {
    "duration": 842,
    "start_time": "2023-08-07T14:31:54.685Z"
   },
   {
    "duration": 14,
    "start_time": "2023-08-07T14:31:55.530Z"
   },
   {
    "duration": 254,
    "start_time": "2023-08-07T14:31:55.546Z"
   },
   {
    "duration": 81,
    "start_time": "2023-08-07T14:33:19.104Z"
   },
   {
    "duration": 78,
    "start_time": "2023-08-07T14:33:57.070Z"
   },
   {
    "duration": 116,
    "start_time": "2023-08-07T14:34:07.421Z"
   },
   {
    "duration": 74,
    "start_time": "2023-08-07T14:34:11.411Z"
   },
   {
    "duration": 104,
    "start_time": "2023-08-07T14:35:25.237Z"
   },
   {
    "duration": 28,
    "start_time": "2023-08-07T14:36:46.555Z"
   },
   {
    "duration": 30,
    "start_time": "2023-08-07T14:37:05.278Z"
   },
   {
    "duration": 24,
    "start_time": "2023-08-07T14:37:11.223Z"
   },
   {
    "duration": 102,
    "start_time": "2023-08-07T14:38:12.667Z"
   },
   {
    "duration": 172,
    "start_time": "2023-08-07T15:20:20.522Z"
   },
   {
    "duration": 863,
    "start_time": "2023-08-07T15:21:26.993Z"
   },
   {
    "duration": 675,
    "start_time": "2023-08-07T15:22:08.826Z"
   },
   {
    "duration": 141,
    "start_time": "2023-08-07T15:22:34.208Z"
   },
   {
    "duration": 149,
    "start_time": "2023-08-07T15:23:08.079Z"
   },
   {
    "duration": 161,
    "start_time": "2023-08-07T15:23:24.557Z"
   },
   {
    "duration": 7,
    "start_time": "2023-08-07T15:23:45.248Z"
   },
   {
    "duration": 36,
    "start_time": "2023-08-07T15:23:54.296Z"
   },
   {
    "duration": 134,
    "start_time": "2023-08-07T15:24:21.618Z"
   },
   {
    "duration": 197,
    "start_time": "2023-08-07T15:26:07.283Z"
   },
   {
    "duration": 141,
    "start_time": "2023-08-07T15:26:23.408Z"
   },
   {
    "duration": 151,
    "start_time": "2023-08-07T15:26:55.465Z"
   },
   {
    "duration": 145,
    "start_time": "2023-08-07T15:27:54.801Z"
   },
   {
    "duration": 224,
    "start_time": "2023-08-07T15:28:38.788Z"
   },
   {
    "duration": 138,
    "start_time": "2023-08-07T15:28:44.820Z"
   },
   {
    "duration": 161,
    "start_time": "2023-08-07T15:41:45.122Z"
   },
   {
    "duration": 96,
    "start_time": "2023-08-07T15:41:53.336Z"
   },
   {
    "duration": 154,
    "start_time": "2023-08-07T15:43:28.413Z"
   },
   {
    "duration": 5,
    "start_time": "2023-08-07T15:44:19.144Z"
   },
   {
    "duration": 71,
    "start_time": "2023-08-07T15:44:26.741Z"
   },
   {
    "duration": 124,
    "start_time": "2023-08-07T15:44:47.458Z"
   },
   {
    "duration": 84,
    "start_time": "2023-08-07T15:45:31.349Z"
   },
   {
    "duration": 69,
    "start_time": "2023-08-07T15:45:35.818Z"
   },
   {
    "duration": 178,
    "start_time": "2023-08-07T15:45:42.110Z"
   },
   {
    "duration": 19,
    "start_time": "2023-08-07T16:06:57.280Z"
   },
   {
    "duration": 24,
    "start_time": "2023-08-07T16:07:09.359Z"
   },
   {
    "duration": 182,
    "start_time": "2023-08-07T16:07:29.726Z"
   },
   {
    "duration": 2681,
    "start_time": "2023-08-07T16:08:13.914Z"
   },
   {
    "duration": 235,
    "start_time": "2023-08-07T16:08:21.123Z"
   },
   {
    "duration": 184,
    "start_time": "2023-08-07T16:08:47.351Z"
   },
   {
    "duration": 187,
    "start_time": "2023-08-07T16:08:53.604Z"
   },
   {
    "duration": 417,
    "start_time": "2023-08-07T16:09:03.005Z"
   },
   {
    "duration": 488,
    "start_time": "2023-08-07T16:09:46.415Z"
   },
   {
    "duration": 715,
    "start_time": "2023-08-07T16:10:11.584Z"
   },
   {
    "duration": 19,
    "start_time": "2023-08-07T16:11:46.855Z"
   },
   {
    "duration": 19,
    "start_time": "2023-08-07T16:12:51.762Z"
   },
   {
    "duration": 13,
    "start_time": "2023-08-07T16:13:44.732Z"
   },
   {
    "duration": 14,
    "start_time": "2023-08-07T16:13:59.446Z"
   },
   {
    "duration": 10,
    "start_time": "2023-08-07T16:14:25.990Z"
   },
   {
    "duration": 15,
    "start_time": "2023-08-07T16:14:29.286Z"
   },
   {
    "duration": 43,
    "start_time": "2023-08-07T16:15:16.237Z"
   },
   {
    "duration": 844,
    "start_time": "2023-08-07T16:16:55.209Z"
   },
   {
    "duration": 769,
    "start_time": "2023-08-07T16:17:24.465Z"
   },
   {
    "duration": 33,
    "start_time": "2023-08-07T16:17:35.802Z"
   },
   {
    "duration": 58,
    "start_time": "2023-08-07T16:18:14.413Z"
   },
   {
    "duration": 24,
    "start_time": "2023-08-07T16:26:14.850Z"
   },
   {
    "duration": 802,
    "start_time": "2023-08-07T16:27:48.054Z"
   },
   {
    "duration": 1085,
    "start_time": "2023-08-07T16:28:00.488Z"
   },
   {
    "duration": 755,
    "start_time": "2023-08-07T16:28:34.988Z"
   },
   {
    "duration": 33,
    "start_time": "2023-08-07T16:33:38.619Z"
   },
   {
    "duration": 62,
    "start_time": "2023-08-07T16:33:47.259Z"
   },
   {
    "duration": 766,
    "start_time": "2023-08-07T16:34:12.680Z"
   },
   {
    "duration": 179,
    "start_time": "2023-08-07T16:34:13.448Z"
   },
   {
    "duration": 15,
    "start_time": "2023-08-07T16:34:13.629Z"
   },
   {
    "duration": 2555,
    "start_time": "2023-08-07T16:34:13.646Z"
   },
   {
    "duration": 13,
    "start_time": "2023-08-07T16:34:16.204Z"
   },
   {
    "duration": 24,
    "start_time": "2023-08-07T16:34:16.219Z"
   },
   {
    "duration": 58,
    "start_time": "2023-08-07T16:34:16.245Z"
   },
   {
    "duration": 33,
    "start_time": "2023-08-07T16:34:16.311Z"
   },
   {
    "duration": 7,
    "start_time": "2023-08-07T16:34:16.346Z"
   },
   {
    "duration": 197,
    "start_time": "2023-08-07T16:34:16.355Z"
   },
   {
    "duration": 775,
    "start_time": "2023-08-07T16:34:16.553Z"
   },
   {
    "duration": 78,
    "start_time": "2023-08-07T16:34:17.330Z"
   },
   {
    "duration": 17,
    "start_time": "2023-08-07T16:34:17.410Z"
   },
   {
    "duration": 591,
    "start_time": "2023-08-07T16:34:17.430Z"
   },
   {
    "duration": 2448,
    "start_time": "2023-08-07T16:34:18.023Z"
   },
   {
    "duration": 579,
    "start_time": "2023-08-07T16:34:20.496Z"
   },
   {
    "duration": 735,
    "start_time": "2023-08-07T16:34:21.081Z"
   },
   {
    "duration": 13,
    "start_time": "2023-08-07T16:34:21.818Z"
   },
   {
    "duration": 188,
    "start_time": "2023-08-07T16:34:21.832Z"
   },
   {
    "duration": 970,
    "start_time": "2023-08-07T16:35:02.161Z"
   },
   {
    "duration": 183,
    "start_time": "2023-08-07T16:35:03.134Z"
   },
   {
    "duration": 16,
    "start_time": "2023-08-07T16:35:03.319Z"
   },
   {
    "duration": 2458,
    "start_time": "2023-08-07T16:35:03.337Z"
   },
   {
    "duration": 18,
    "start_time": "2023-08-07T16:35:05.797Z"
   },
   {
    "duration": 31,
    "start_time": "2023-08-07T16:35:05.817Z"
   },
   {
    "duration": 61,
    "start_time": "2023-08-07T16:35:05.850Z"
   },
   {
    "duration": 33,
    "start_time": "2023-08-07T16:35:05.916Z"
   },
   {
    "duration": 8,
    "start_time": "2023-08-07T16:35:05.951Z"
   },
   {
    "duration": 220,
    "start_time": "2023-08-07T16:35:05.963Z"
   },
   {
    "duration": 806,
    "start_time": "2023-08-07T16:35:06.189Z"
   },
   {
    "duration": 46,
    "start_time": "2023-08-07T16:35:06.997Z"
   },
   {
    "duration": 40,
    "start_time": "2023-08-07T16:35:07.045Z"
   },
   {
    "duration": 625,
    "start_time": "2023-08-07T16:35:07.089Z"
   },
   {
    "duration": 2483,
    "start_time": "2023-08-07T16:35:07.717Z"
   },
   {
    "duration": 533,
    "start_time": "2023-08-07T16:35:10.208Z"
   },
   {
    "duration": 753,
    "start_time": "2023-08-07T16:35:10.743Z"
   },
   {
    "duration": 17,
    "start_time": "2023-08-07T16:35:11.500Z"
   },
   {
    "duration": 187,
    "start_time": "2023-08-07T16:35:11.518Z"
   },
   {
    "duration": 596,
    "start_time": "2023-08-07T16:37:45.771Z"
   },
   {
    "duration": 142,
    "start_time": "2023-08-07T16:38:03.975Z"
   },
   {
    "duration": 739,
    "start_time": "2023-08-07T16:51:37.396Z"
   },
   {
    "duration": 174,
    "start_time": "2023-08-07T16:51:38.137Z"
   },
   {
    "duration": 15,
    "start_time": "2023-08-07T16:51:38.312Z"
   },
   {
    "duration": 2390,
    "start_time": "2023-08-07T16:51:38.330Z"
   },
   {
    "duration": 9,
    "start_time": "2023-08-07T16:51:40.722Z"
   },
   {
    "duration": 72,
    "start_time": "2023-08-07T16:51:40.732Z"
   },
   {
    "duration": 28,
    "start_time": "2023-08-07T16:51:40.806Z"
   },
   {
    "duration": 63,
    "start_time": "2023-08-07T16:51:40.836Z"
   },
   {
    "duration": 12,
    "start_time": "2023-08-07T16:51:40.901Z"
   },
   {
    "duration": 234,
    "start_time": "2023-08-07T16:51:40.917Z"
   },
   {
    "duration": 751,
    "start_time": "2023-08-07T16:51:41.153Z"
   },
   {
    "duration": 61,
    "start_time": "2023-08-07T16:51:41.906Z"
   },
   {
    "duration": 26,
    "start_time": "2023-08-07T16:51:41.969Z"
   },
   {
    "duration": 621,
    "start_time": "2023-08-07T16:51:41.998Z"
   },
   {
    "duration": 2537,
    "start_time": "2023-08-07T16:51:42.621Z"
   },
   {
    "duration": 559,
    "start_time": "2023-08-07T16:51:45.170Z"
   },
   {
    "duration": 754,
    "start_time": "2023-08-07T16:51:45.731Z"
   },
   {
    "duration": 19,
    "start_time": "2023-08-07T16:51:46.487Z"
   },
   {
    "duration": 178,
    "start_time": "2023-08-07T16:51:46.508Z"
   },
   {
    "duration": 103,
    "start_time": "2023-08-07T17:01:28.079Z"
   },
   {
    "duration": 93,
    "start_time": "2023-08-07T17:04:57.336Z"
   },
   {
    "duration": 793,
    "start_time": "2023-08-07T17:05:23.494Z"
   },
   {
    "duration": 192,
    "start_time": "2023-08-07T17:05:24.305Z"
   },
   {
    "duration": 29,
    "start_time": "2023-08-07T17:05:24.503Z"
   },
   {
    "duration": 2539,
    "start_time": "2023-08-07T17:05:24.534Z"
   },
   {
    "duration": 23,
    "start_time": "2023-08-07T17:05:27.082Z"
   },
   {
    "duration": 36,
    "start_time": "2023-08-07T17:05:27.108Z"
   },
   {
    "duration": 53,
    "start_time": "2023-08-07T17:05:27.146Z"
   },
   {
    "duration": 53,
    "start_time": "2023-08-07T17:05:27.200Z"
   },
   {
    "duration": 12,
    "start_time": "2023-08-07T17:05:27.254Z"
   },
   {
    "duration": 243,
    "start_time": "2023-08-07T17:05:27.270Z"
   },
   {
    "duration": 809,
    "start_time": "2023-08-07T17:05:27.515Z"
   },
   {
    "duration": 104,
    "start_time": "2023-08-07T17:05:28.326Z"
   },
   {
    "duration": 14,
    "start_time": "2023-08-07T17:05:28.432Z"
   },
   {
    "duration": 603,
    "start_time": "2023-08-07T17:05:28.449Z"
   },
   {
    "duration": 2649,
    "start_time": "2023-08-07T17:05:29.054Z"
   },
   {
    "duration": 576,
    "start_time": "2023-08-07T17:05:31.710Z"
   },
   {
    "duration": 785,
    "start_time": "2023-08-07T17:05:32.292Z"
   },
   {
    "duration": 18,
    "start_time": "2023-08-07T17:05:33.089Z"
   },
   {
    "duration": 218,
    "start_time": "2023-08-07T17:05:33.117Z"
   },
   {
    "duration": 1980,
    "start_time": "2023-08-07T19:08:35.219Z"
   },
   {
    "duration": 695,
    "start_time": "2023-08-07T19:08:37.206Z"
   },
   {
    "duration": 96,
    "start_time": "2023-08-07T19:08:37.903Z"
   },
   {
    "duration": 7787,
    "start_time": "2023-08-07T19:08:38.003Z"
   },
   {
    "duration": 17,
    "start_time": "2023-08-07T19:08:45.795Z"
   },
   {
    "duration": 184,
    "start_time": "2023-08-07T19:08:45.817Z"
   },
   {
    "duration": 113,
    "start_time": "2023-08-07T19:08:46.013Z"
   },
   {
    "duration": 98,
    "start_time": "2023-08-07T19:08:46.192Z"
   },
   {
    "duration": 15,
    "start_time": "2023-08-07T19:08:46.295Z"
   },
   {
    "duration": 813,
    "start_time": "2023-08-07T19:08:46.312Z"
   },
   {
    "duration": 2690,
    "start_time": "2023-08-07T19:08:47.126Z"
   },
   {
    "duration": 274,
    "start_time": "2023-08-07T19:08:49.833Z"
   },
   {
    "duration": 21,
    "start_time": "2023-08-07T19:08:50.109Z"
   },
   {
    "duration": 1832,
    "start_time": "2023-08-07T19:08:50.189Z"
   },
   {
    "duration": 8508,
    "start_time": "2023-08-07T19:08:52.026Z"
   },
   {
    "duration": 1701,
    "start_time": "2023-08-07T19:09:00.598Z"
   },
   {
    "duration": 2497,
    "start_time": "2023-08-07T19:09:02.302Z"
   },
   {
    "duration": 86,
    "start_time": "2023-08-07T19:09:04.802Z"
   },
   {
    "duration": 524,
    "start_time": "2023-08-07T19:09:04.890Z"
   },
   {
    "duration": 205,
    "start_time": "2023-08-07T19:18:43.826Z"
   }
  ],
  "kernelspec": {
   "display_name": "Python 3 (ipykernel)",
   "language": "python",
   "name": "python3"
  },
  "language_info": {
   "codemirror_mode": {
    "name": "ipython",
    "version": 3
   },
   "file_extension": ".py",
   "mimetype": "text/x-python",
   "name": "python",
   "nbconvert_exporter": "python",
   "pygments_lexer": "ipython3",
   "version": "3.11.9"
  },
  "toc": {
   "base_numbering": 1,
   "nav_menu": {},
   "number_sections": true,
   "sideBar": true,
   "skip_h1_title": true,
   "title_cell": "Table of Contents",
   "title_sidebar": "Contents",
   "toc_cell": false,
   "toc_position": {},
   "toc_section_display": true,
   "toc_window_display": false
  }
 },
 "nbformat": 4,
 "nbformat_minor": 2
}
