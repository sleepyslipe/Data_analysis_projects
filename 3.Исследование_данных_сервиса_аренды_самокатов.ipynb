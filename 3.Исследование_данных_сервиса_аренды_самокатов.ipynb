{
 "cells": [
  {
   "cell_type": "markdown",
   "id": "3db45c8e",
   "metadata": {},
   "source": [
    "##### Исследование данных сервиса аренды самокатов GoFast\n",
    "\n",
    "Вам передали данные о некоторых пользователях из нескольких городов, а также об их поездках. Проанализируйте данные и проверьте некоторые гипотезы, которые могут помочь бизнесу вырасти.\n",
    "Чтобы совершать поездки по городу, пользователи сервиса GoFast пользуются мобильным приложением. Сервисом можно пользоваться\n",
    "без подписки и с подпиской.\n",
    "\n",
    "**Цель исследования:**\n",
    "1. Выяснить, выгоднее ли для компании большее количество пользователей с подпиской.\n",
    "2. Выяснить, увеличен ли износ самокатов из-за неоптимальной средней дальности поездок (используют ли пользователи самокаты дольше оптимального по износостойкости значения).\n",
    "3. Определить основную целевую аудиторию (возраст, город).\n",
    "\n",
    "**Ход исследования:**\n",
    "\n",
    "Данные о пользователях, поездках и тарифах я получу из трех файлов: users_go.csv, rides_go.csv и subscriptions_go.csv. Данные будут проверены мной на пропуски и дубликаты, в случае их наличия будут удалены или заменены оптимальными для конкретной ситуации значениями.\n",
    "\n",
    "Данные из трех таблиц будут объединены в одну для удобства исследования. Будут построены графики и гистограммы по исследуемым показателям: длительность и дальность поездок для пользователей без посписки и с, возраст пользователей, города, соотношения пользователей с подпиской и без. Графики будут проанализированы, будут обозначены средние значения и отклонения каждого показателя. \n",
    "\n",
    "Будет добавлен новый столбец с расчетом помесячной выручки каждого отдельного пользователя.\n",
    "\n",
    "Будут проверены гипотезы о дальности поездок пользователей без подписки и с, а также выручки с пользователей указанных типов и гипотезы о равенстве средней дальности поездки оптимальному по износостойкости значению.\n",
    "\n",
    "Этапы исследования:\n",
    "1. Обзор данных\n",
    "2. Преобработка данных\n",
    "3. Исследовательский анализ данных\n",
    "4. Объединение данных\n",
    "5. Подсчёт выручки\n",
    "6. Проверка гипотез\n",
    "7. Общий вывод"
   ]
  },
  {
   "cell_type": "code",
   "execution_count": 1,
   "id": "72576667",
   "metadata": {},
   "outputs": [],
   "source": [
    "import pandas as pd\n",
    "import matplotlib.pyplot as plt\n",
    "import numpy as np\n",
    "from scipy import stats as st"
   ]
  },
  {
   "cell_type": "markdown",
   "id": "c42cbe00",
   "metadata": {},
   "source": [
    "#### Шаг 1. Загрузка данных"
   ]
  },
  {
   "cell_type": "code",
   "execution_count": 2,
   "id": "eff9f206",
   "metadata": {},
   "outputs": [],
   "source": [
    "users = pd.read_csv('/datasets/users_go.csv')\n",
    "rides = pd.read_csv('/datasets/rides_go.csv')\n",
    "subscriptions = pd.read_csv('/datasets/subscriptions_go.csv')"
   ]
  },
  {
   "cell_type": "code",
   "execution_count": 3,
   "id": "e861e3dc",
   "metadata": {},
   "outputs": [
    {
     "data": {
      "text/html": [
       "<div>\n",
       "<style scoped>\n",
       "    .dataframe tbody tr th:only-of-type {\n",
       "        vertical-align: middle;\n",
       "    }\n",
       "\n",
       "    .dataframe tbody tr th {\n",
       "        vertical-align: top;\n",
       "    }\n",
       "\n",
       "    .dataframe thead th {\n",
       "        text-align: right;\n",
       "    }\n",
       "</style>\n",
       "<table border=\"1\" class=\"dataframe\">\n",
       "  <thead>\n",
       "    <tr style=\"text-align: right;\">\n",
       "      <th></th>\n",
       "      <th>user_id</th>\n",
       "      <th>name</th>\n",
       "      <th>age</th>\n",
       "      <th>city</th>\n",
       "      <th>subscription_type</th>\n",
       "    </tr>\n",
       "  </thead>\n",
       "  <tbody>\n",
       "    <tr>\n",
       "      <th>0</th>\n",
       "      <td>1</td>\n",
       "      <td>Кира</td>\n",
       "      <td>22</td>\n",
       "      <td>Тюмень</td>\n",
       "      <td>ultra</td>\n",
       "    </tr>\n",
       "    <tr>\n",
       "      <th>1</th>\n",
       "      <td>2</td>\n",
       "      <td>Станислав</td>\n",
       "      <td>31</td>\n",
       "      <td>Омск</td>\n",
       "      <td>ultra</td>\n",
       "    </tr>\n",
       "    <tr>\n",
       "      <th>2</th>\n",
       "      <td>3</td>\n",
       "      <td>Алексей</td>\n",
       "      <td>20</td>\n",
       "      <td>Москва</td>\n",
       "      <td>ultra</td>\n",
       "    </tr>\n",
       "    <tr>\n",
       "      <th>3</th>\n",
       "      <td>4</td>\n",
       "      <td>Константин</td>\n",
       "      <td>26</td>\n",
       "      <td>Ростов-на-Дону</td>\n",
       "      <td>ultra</td>\n",
       "    </tr>\n",
       "    <tr>\n",
       "      <th>4</th>\n",
       "      <td>5</td>\n",
       "      <td>Адель</td>\n",
       "      <td>28</td>\n",
       "      <td>Омск</td>\n",
       "      <td>ultra</td>\n",
       "    </tr>\n",
       "    <tr>\n",
       "      <th>5</th>\n",
       "      <td>6</td>\n",
       "      <td>Регина</td>\n",
       "      <td>25</td>\n",
       "      <td>Краснодар</td>\n",
       "      <td>ultra</td>\n",
       "    </tr>\n",
       "    <tr>\n",
       "      <th>6</th>\n",
       "      <td>7</td>\n",
       "      <td>Игорь</td>\n",
       "      <td>23</td>\n",
       "      <td>Омск</td>\n",
       "      <td>ultra</td>\n",
       "    </tr>\n",
       "    <tr>\n",
       "      <th>7</th>\n",
       "      <td>8</td>\n",
       "      <td>Юрий</td>\n",
       "      <td>23</td>\n",
       "      <td>Краснодар</td>\n",
       "      <td>ultra</td>\n",
       "    </tr>\n",
       "    <tr>\n",
       "      <th>8</th>\n",
       "      <td>9</td>\n",
       "      <td>Ян</td>\n",
       "      <td>21</td>\n",
       "      <td>Пятигорск</td>\n",
       "      <td>ultra</td>\n",
       "    </tr>\n",
       "    <tr>\n",
       "      <th>9</th>\n",
       "      <td>10</td>\n",
       "      <td>Валерий</td>\n",
       "      <td>18</td>\n",
       "      <td>Екатеринбург</td>\n",
       "      <td>ultra</td>\n",
       "    </tr>\n",
       "  </tbody>\n",
       "</table>\n",
       "</div>"
      ],
      "text/plain": [
       "   user_id        name  age            city subscription_type\n",
       "0        1        Кира   22          Тюмень             ultra\n",
       "1        2   Станислав   31            Омск             ultra\n",
       "2        3     Алексей   20          Москва             ultra\n",
       "3        4  Константин   26  Ростов-на-Дону             ultra\n",
       "4        5       Адель   28            Омск             ultra\n",
       "5        6      Регина   25       Краснодар             ultra\n",
       "6        7       Игорь   23            Омск             ultra\n",
       "7        8        Юрий   23       Краснодар             ultra\n",
       "8        9          Ян   21       Пятигорск             ultra\n",
       "9       10     Валерий   18    Екатеринбург             ultra"
      ]
     },
     "execution_count": 3,
     "metadata": {},
     "output_type": "execute_result"
    }
   ],
   "source": [
    "users.head(10)"
   ]
  },
  {
   "cell_type": "code",
   "execution_count": 4,
   "id": "ecce5f38",
   "metadata": {},
   "outputs": [
    {
     "name": "stdout",
     "output_type": "stream",
     "text": [
      "<class 'pandas.core.frame.DataFrame'>\n",
      "RangeIndex: 1565 entries, 0 to 1564\n",
      "Data columns (total 5 columns):\n",
      " #   Column             Non-Null Count  Dtype \n",
      "---  ------             --------------  ----- \n",
      " 0   user_id            1565 non-null   int64 \n",
      " 1   name               1565 non-null   object\n",
      " 2   age                1565 non-null   int64 \n",
      " 3   city               1565 non-null   object\n",
      " 4   subscription_type  1565 non-null   object\n",
      "dtypes: int64(2), object(3)\n",
      "memory usage: 61.3+ KB\n"
     ]
    }
   ],
   "source": [
    "users.info()"
   ]
  },
  {
   "cell_type": "code",
   "execution_count": 5,
   "id": "f1b1517e",
   "metadata": {},
   "outputs": [
    {
     "data": {
      "text/html": [
       "<div>\n",
       "<style scoped>\n",
       "    .dataframe tbody tr th:only-of-type {\n",
       "        vertical-align: middle;\n",
       "    }\n",
       "\n",
       "    .dataframe tbody tr th {\n",
       "        vertical-align: top;\n",
       "    }\n",
       "\n",
       "    .dataframe thead th {\n",
       "        text-align: right;\n",
       "    }\n",
       "</style>\n",
       "<table border=\"1\" class=\"dataframe\">\n",
       "  <thead>\n",
       "    <tr style=\"text-align: right;\">\n",
       "      <th></th>\n",
       "      <th>user_id</th>\n",
       "      <th>distance</th>\n",
       "      <th>duration</th>\n",
       "      <th>date</th>\n",
       "    </tr>\n",
       "  </thead>\n",
       "  <tbody>\n",
       "    <tr>\n",
       "      <th>0</th>\n",
       "      <td>1</td>\n",
       "      <td>4409.919140</td>\n",
       "      <td>25.599769</td>\n",
       "      <td>2021-01-01</td>\n",
       "    </tr>\n",
       "    <tr>\n",
       "      <th>1</th>\n",
       "      <td>1</td>\n",
       "      <td>2617.592153</td>\n",
       "      <td>15.816871</td>\n",
       "      <td>2021-01-18</td>\n",
       "    </tr>\n",
       "    <tr>\n",
       "      <th>2</th>\n",
       "      <td>1</td>\n",
       "      <td>754.159807</td>\n",
       "      <td>6.232113</td>\n",
       "      <td>2021-04-20</td>\n",
       "    </tr>\n",
       "    <tr>\n",
       "      <th>3</th>\n",
       "      <td>1</td>\n",
       "      <td>2694.783254</td>\n",
       "      <td>18.511000</td>\n",
       "      <td>2021-08-11</td>\n",
       "    </tr>\n",
       "    <tr>\n",
       "      <th>4</th>\n",
       "      <td>1</td>\n",
       "      <td>4028.687306</td>\n",
       "      <td>26.265803</td>\n",
       "      <td>2021-08-28</td>\n",
       "    </tr>\n",
       "    <tr>\n",
       "      <th>5</th>\n",
       "      <td>1</td>\n",
       "      <td>2770.890808</td>\n",
       "      <td>16.650138</td>\n",
       "      <td>2021-10-09</td>\n",
       "    </tr>\n",
       "    <tr>\n",
       "      <th>6</th>\n",
       "      <td>1</td>\n",
       "      <td>3039.020292</td>\n",
       "      <td>14.927879</td>\n",
       "      <td>2021-10-19</td>\n",
       "    </tr>\n",
       "    <tr>\n",
       "      <th>7</th>\n",
       "      <td>1</td>\n",
       "      <td>2842.118050</td>\n",
       "      <td>23.117468</td>\n",
       "      <td>2021-11-06</td>\n",
       "    </tr>\n",
       "    <tr>\n",
       "      <th>8</th>\n",
       "      <td>1</td>\n",
       "      <td>3412.690668</td>\n",
       "      <td>15.238072</td>\n",
       "      <td>2021-11-14</td>\n",
       "    </tr>\n",
       "    <tr>\n",
       "      <th>9</th>\n",
       "      <td>1</td>\n",
       "      <td>748.690645</td>\n",
       "      <td>15.041884</td>\n",
       "      <td>2021-11-22</td>\n",
       "    </tr>\n",
       "  </tbody>\n",
       "</table>\n",
       "</div>"
      ],
      "text/plain": [
       "   user_id     distance   duration        date\n",
       "0        1  4409.919140  25.599769  2021-01-01\n",
       "1        1  2617.592153  15.816871  2021-01-18\n",
       "2        1   754.159807   6.232113  2021-04-20\n",
       "3        1  2694.783254  18.511000  2021-08-11\n",
       "4        1  4028.687306  26.265803  2021-08-28\n",
       "5        1  2770.890808  16.650138  2021-10-09\n",
       "6        1  3039.020292  14.927879  2021-10-19\n",
       "7        1  2842.118050  23.117468  2021-11-06\n",
       "8        1  3412.690668  15.238072  2021-11-14\n",
       "9        1   748.690645  15.041884  2021-11-22"
      ]
     },
     "execution_count": 5,
     "metadata": {},
     "output_type": "execute_result"
    }
   ],
   "source": [
    "rides.head(10)"
   ]
  },
  {
   "cell_type": "code",
   "execution_count": 6,
   "id": "d384f589",
   "metadata": {},
   "outputs": [
    {
     "name": "stdout",
     "output_type": "stream",
     "text": [
      "<class 'pandas.core.frame.DataFrame'>\n",
      "RangeIndex: 18068 entries, 0 to 18067\n",
      "Data columns (total 4 columns):\n",
      " #   Column    Non-Null Count  Dtype  \n",
      "---  ------    --------------  -----  \n",
      " 0   user_id   18068 non-null  int64  \n",
      " 1   distance  18068 non-null  float64\n",
      " 2   duration  18068 non-null  float64\n",
      " 3   date      18068 non-null  object \n",
      "dtypes: float64(2), int64(1), object(1)\n",
      "memory usage: 564.8+ KB\n"
     ]
    }
   ],
   "source": [
    "rides.info()"
   ]
  },
  {
   "cell_type": "code",
   "execution_count": 7,
   "id": "58ae32a1",
   "metadata": {},
   "outputs": [
    {
     "data": {
      "text/html": [
       "<div>\n",
       "<style scoped>\n",
       "    .dataframe tbody tr th:only-of-type {\n",
       "        vertical-align: middle;\n",
       "    }\n",
       "\n",
       "    .dataframe tbody tr th {\n",
       "        vertical-align: top;\n",
       "    }\n",
       "\n",
       "    .dataframe thead th {\n",
       "        text-align: right;\n",
       "    }\n",
       "</style>\n",
       "<table border=\"1\" class=\"dataframe\">\n",
       "  <thead>\n",
       "    <tr style=\"text-align: right;\">\n",
       "      <th></th>\n",
       "      <th>subscription_type</th>\n",
       "      <th>minute_price</th>\n",
       "      <th>start_ride_price</th>\n",
       "      <th>subscription_fee</th>\n",
       "    </tr>\n",
       "  </thead>\n",
       "  <tbody>\n",
       "    <tr>\n",
       "      <th>0</th>\n",
       "      <td>free</td>\n",
       "      <td>8</td>\n",
       "      <td>50</td>\n",
       "      <td>0</td>\n",
       "    </tr>\n",
       "    <tr>\n",
       "      <th>1</th>\n",
       "      <td>ultra</td>\n",
       "      <td>6</td>\n",
       "      <td>0</td>\n",
       "      <td>199</td>\n",
       "    </tr>\n",
       "  </tbody>\n",
       "</table>\n",
       "</div>"
      ],
      "text/plain": [
       "  subscription_type  minute_price  start_ride_price  subscription_fee\n",
       "0              free             8                50                 0\n",
       "1             ultra             6                 0               199"
      ]
     },
     "execution_count": 7,
     "metadata": {},
     "output_type": "execute_result"
    }
   ],
   "source": [
    "subscriptions.head(10)"
   ]
  },
  {
   "cell_type": "code",
   "execution_count": 8,
   "id": "262e35e7",
   "metadata": {},
   "outputs": [
    {
     "name": "stdout",
     "output_type": "stream",
     "text": [
      "<class 'pandas.core.frame.DataFrame'>\n",
      "RangeIndex: 2 entries, 0 to 1\n",
      "Data columns (total 4 columns):\n",
      " #   Column             Non-Null Count  Dtype \n",
      "---  ------             --------------  ----- \n",
      " 0   subscription_type  2 non-null      object\n",
      " 1   minute_price       2 non-null      int64 \n",
      " 2   start_ride_price   2 non-null      int64 \n",
      " 3   subscription_fee   2 non-null      int64 \n",
      "dtypes: int64(3), object(1)\n",
      "memory usage: 192.0+ bytes\n"
     ]
    }
   ],
   "source": [
    "subscriptions.info()"
   ]
  },
  {
   "cell_type": "markdown",
   "id": "1afe99db",
   "metadata": {},
   "source": [
    "##### Вывод по общей информации\n",
    "\n",
    "1) Есть три таблицы по данным, которые было бы удобнее объединить в одну.\n",
    "\n",
    "2) По первым 10 строкам не видно пропусков, но стоит проверить (за исключением таблицы subscriptions, так как её мы увидели полностью).\n",
    "\n",
    "3) Стоит проверить столбец city таблицы users на наличиее дубликатов.\n",
    "\n",
    "4) Столбец date таблицы rides имеет тип данных object, что следует заменить на тип datetime."
   ]
  },
  {
   "cell_type": "markdown",
   "id": "e95ebca7",
   "metadata": {},
   "source": [
    "#### Шаг 2. Предобработка данных"
   ]
  },
  {
   "cell_type": "code",
   "execution_count": 9,
   "id": "af6d202c",
   "metadata": {},
   "outputs": [
    {
     "data": {
      "text/plain": [
       "user_id              int64\n",
       "distance           float64\n",
       "duration           float64\n",
       "date        datetime64[ns]\n",
       "dtype: object"
      ]
     },
     "execution_count": 9,
     "metadata": {},
     "output_type": "execute_result"
    }
   ],
   "source": [
    "# приведем столбец date к типу даты pandas\n",
    "\n",
    "rides['date'] = pd.to_datetime(rides['date'], format='%Y-%m-%d')\n",
    "rides.dtypes"
   ]
  },
  {
   "cell_type": "code",
   "execution_count": 10,
   "id": "2e6082eb",
   "metadata": {},
   "outputs": [
    {
     "data": {
      "text/html": [
       "<div>\n",
       "<style scoped>\n",
       "    .dataframe tbody tr th:only-of-type {\n",
       "        vertical-align: middle;\n",
       "    }\n",
       "\n",
       "    .dataframe tbody tr th {\n",
       "        vertical-align: top;\n",
       "    }\n",
       "\n",
       "    .dataframe thead th {\n",
       "        text-align: right;\n",
       "    }\n",
       "</style>\n",
       "<table border=\"1\" class=\"dataframe\">\n",
       "  <thead>\n",
       "    <tr style=\"text-align: right;\">\n",
       "      <th></th>\n",
       "      <th>user_id</th>\n",
       "      <th>distance</th>\n",
       "      <th>duration</th>\n",
       "      <th>date</th>\n",
       "      <th>month</th>\n",
       "    </tr>\n",
       "  </thead>\n",
       "  <tbody>\n",
       "    <tr>\n",
       "      <th>0</th>\n",
       "      <td>1</td>\n",
       "      <td>4409.919140</td>\n",
       "      <td>25.599769</td>\n",
       "      <td>2021-01-01</td>\n",
       "      <td>1</td>\n",
       "    </tr>\n",
       "    <tr>\n",
       "      <th>1</th>\n",
       "      <td>1</td>\n",
       "      <td>2617.592153</td>\n",
       "      <td>15.816871</td>\n",
       "      <td>2021-01-18</td>\n",
       "      <td>1</td>\n",
       "    </tr>\n",
       "    <tr>\n",
       "      <th>2</th>\n",
       "      <td>1</td>\n",
       "      <td>754.159807</td>\n",
       "      <td>6.232113</td>\n",
       "      <td>2021-04-20</td>\n",
       "      <td>4</td>\n",
       "    </tr>\n",
       "    <tr>\n",
       "      <th>3</th>\n",
       "      <td>1</td>\n",
       "      <td>2694.783254</td>\n",
       "      <td>18.511000</td>\n",
       "      <td>2021-08-11</td>\n",
       "      <td>8</td>\n",
       "    </tr>\n",
       "    <tr>\n",
       "      <th>4</th>\n",
       "      <td>1</td>\n",
       "      <td>4028.687306</td>\n",
       "      <td>26.265803</td>\n",
       "      <td>2021-08-28</td>\n",
       "      <td>8</td>\n",
       "    </tr>\n",
       "    <tr>\n",
       "      <th>5</th>\n",
       "      <td>1</td>\n",
       "      <td>2770.890808</td>\n",
       "      <td>16.650138</td>\n",
       "      <td>2021-10-09</td>\n",
       "      <td>10</td>\n",
       "    </tr>\n",
       "    <tr>\n",
       "      <th>6</th>\n",
       "      <td>1</td>\n",
       "      <td>3039.020292</td>\n",
       "      <td>14.927879</td>\n",
       "      <td>2021-10-19</td>\n",
       "      <td>10</td>\n",
       "    </tr>\n",
       "    <tr>\n",
       "      <th>7</th>\n",
       "      <td>1</td>\n",
       "      <td>2842.118050</td>\n",
       "      <td>23.117468</td>\n",
       "      <td>2021-11-06</td>\n",
       "      <td>11</td>\n",
       "    </tr>\n",
       "    <tr>\n",
       "      <th>8</th>\n",
       "      <td>1</td>\n",
       "      <td>3412.690668</td>\n",
       "      <td>15.238072</td>\n",
       "      <td>2021-11-14</td>\n",
       "      <td>11</td>\n",
       "    </tr>\n",
       "    <tr>\n",
       "      <th>9</th>\n",
       "      <td>1</td>\n",
       "      <td>748.690645</td>\n",
       "      <td>15.041884</td>\n",
       "      <td>2021-11-22</td>\n",
       "      <td>11</td>\n",
       "    </tr>\n",
       "  </tbody>\n",
       "</table>\n",
       "</div>"
      ],
      "text/plain": [
       "   user_id     distance   duration       date  month\n",
       "0        1  4409.919140  25.599769 2021-01-01      1\n",
       "1        1  2617.592153  15.816871 2021-01-18      1\n",
       "2        1   754.159807   6.232113 2021-04-20      4\n",
       "3        1  2694.783254  18.511000 2021-08-11      8\n",
       "4        1  4028.687306  26.265803 2021-08-28      8\n",
       "5        1  2770.890808  16.650138 2021-10-09     10\n",
       "6        1  3039.020292  14.927879 2021-10-19     10\n",
       "7        1  2842.118050  23.117468 2021-11-06     11\n",
       "8        1  3412.690668  15.238072 2021-11-14     11\n",
       "9        1   748.690645  15.041884 2021-11-22     11"
      ]
     },
     "execution_count": 10,
     "metadata": {},
     "output_type": "execute_result"
    }
   ],
   "source": [
    "# создадим новый столбец с номером месяца на основе столбца date\n",
    "\n",
    "rides['month'] = rides['date'].dt.month\n",
    "rides.head(10)"
   ]
  },
  {
   "cell_type": "code",
   "execution_count": 11,
   "id": "2554fb1f",
   "metadata": {},
   "outputs": [
    {
     "data": {
      "text/plain": [
       "array([2021])"
      ]
     },
     "execution_count": 11,
     "metadata": {},
     "output_type": "execute_result"
    }
   ],
   "source": [
    "rides['date'].dt.year.unique()"
   ]
  },
  {
   "cell_type": "markdown",
   "id": "815ba9e2",
   "metadata": {},
   "source": [
    "В датасете данные только за 2021 год."
   ]
  },
  {
   "cell_type": "code",
   "execution_count": 12,
   "id": "070e27f9",
   "metadata": {},
   "outputs": [
    {
     "data": {
      "text/plain": [
       "user_id              0\n",
       "name                 0\n",
       "age                  0\n",
       "city                 0\n",
       "subscription_type    0\n",
       "dtype: int64"
      ]
     },
     "execution_count": 12,
     "metadata": {},
     "output_type": "execute_result"
    }
   ],
   "source": [
    "# проверим наличие пропущенных значений\n",
    "\n",
    "users.isnull().sum()"
   ]
  },
  {
   "cell_type": "code",
   "execution_count": 13,
   "id": "0da37e1a",
   "metadata": {},
   "outputs": [
    {
     "data": {
      "text/plain": [
       "user_id     0\n",
       "distance    0\n",
       "duration    0\n",
       "date        0\n",
       "month       0\n",
       "dtype: int64"
      ]
     },
     "execution_count": 13,
     "metadata": {},
     "output_type": "execute_result"
    }
   ],
   "source": [
    "rides.isnull().sum()"
   ]
  },
  {
   "cell_type": "code",
   "execution_count": 14,
   "id": "e88ea3f8",
   "metadata": {},
   "outputs": [
    {
     "data": {
      "text/plain": [
       "array(['Тюмень', 'Омск', 'Москва', 'Ростов-на-Дону', 'Краснодар',\n",
       "       'Пятигорск', 'Екатеринбург', 'Сочи'], dtype=object)"
      ]
     },
     "execution_count": 14,
     "metadata": {},
     "output_type": "execute_result"
    }
   ],
   "source": [
    "users['city'].unique()"
   ]
  },
  {
   "cell_type": "code",
   "execution_count": 15,
   "id": "24fea810",
   "metadata": {},
   "outputs": [
    {
     "name": "stdout",
     "output_type": "stream",
     "text": [
      "Дубликатов в таблице users: 31\n",
      "Дубликатов в таблице rides: 0\n"
     ]
    }
   ],
   "source": [
    "print(f\"Дубликатов в таблице users: {users[users.duplicated()]['user_id'].count()}\\n\\\n",
    "Дубликатов в таблице rides: {rides[rides.duplicated()]['user_id'].count()}\")"
   ]
  },
  {
   "cell_type": "code",
   "execution_count": 16,
   "id": "60e47bf6",
   "metadata": {},
   "outputs": [
    {
     "data": {
      "text/html": [
       "<div>\n",
       "<style scoped>\n",
       "    .dataframe tbody tr th:only-of-type {\n",
       "        vertical-align: middle;\n",
       "    }\n",
       "\n",
       "    .dataframe tbody tr th {\n",
       "        vertical-align: top;\n",
       "    }\n",
       "\n",
       "    .dataframe thead th {\n",
       "        text-align: right;\n",
       "    }\n",
       "</style>\n",
       "<table border=\"1\" class=\"dataframe\">\n",
       "  <thead>\n",
       "    <tr style=\"text-align: right;\">\n",
       "      <th></th>\n",
       "      <th>user_id</th>\n",
       "      <th>name</th>\n",
       "      <th>age</th>\n",
       "      <th>city</th>\n",
       "      <th>subscription_type</th>\n",
       "    </tr>\n",
       "  </thead>\n",
       "  <tbody>\n",
       "    <tr>\n",
       "      <th>0</th>\n",
       "      <td>1</td>\n",
       "      <td>Кира</td>\n",
       "      <td>22</td>\n",
       "      <td>Тюмень</td>\n",
       "      <td>ultra</td>\n",
       "    </tr>\n",
       "    <tr>\n",
       "      <th>1</th>\n",
       "      <td>2</td>\n",
       "      <td>Станислав</td>\n",
       "      <td>31</td>\n",
       "      <td>Омск</td>\n",
       "      <td>ultra</td>\n",
       "    </tr>\n",
       "    <tr>\n",
       "      <th>2</th>\n",
       "      <td>3</td>\n",
       "      <td>Алексей</td>\n",
       "      <td>20</td>\n",
       "      <td>Москва</td>\n",
       "      <td>ultra</td>\n",
       "    </tr>\n",
       "    <tr>\n",
       "      <th>3</th>\n",
       "      <td>4</td>\n",
       "      <td>Константин</td>\n",
       "      <td>26</td>\n",
       "      <td>Ростов-на-Дону</td>\n",
       "      <td>ultra</td>\n",
       "    </tr>\n",
       "    <tr>\n",
       "      <th>4</th>\n",
       "      <td>5</td>\n",
       "      <td>Адель</td>\n",
       "      <td>28</td>\n",
       "      <td>Омск</td>\n",
       "      <td>ultra</td>\n",
       "    </tr>\n",
       "    <tr>\n",
       "      <th>...</th>\n",
       "      <td>...</td>\n",
       "      <td>...</td>\n",
       "      <td>...</td>\n",
       "      <td>...</td>\n",
       "      <td>...</td>\n",
       "    </tr>\n",
       "    <tr>\n",
       "      <th>1529</th>\n",
       "      <td>1530</td>\n",
       "      <td>Ростислав</td>\n",
       "      <td>29</td>\n",
       "      <td>Сочи</td>\n",
       "      <td>free</td>\n",
       "    </tr>\n",
       "    <tr>\n",
       "      <th>1530</th>\n",
       "      <td>1531</td>\n",
       "      <td>Никита</td>\n",
       "      <td>25</td>\n",
       "      <td>Пятигорск</td>\n",
       "      <td>free</td>\n",
       "    </tr>\n",
       "    <tr>\n",
       "      <th>1531</th>\n",
       "      <td>1532</td>\n",
       "      <td>Алексей</td>\n",
       "      <td>26</td>\n",
       "      <td>Тюмень</td>\n",
       "      <td>free</td>\n",
       "    </tr>\n",
       "    <tr>\n",
       "      <th>1532</th>\n",
       "      <td>1533</td>\n",
       "      <td>Степан</td>\n",
       "      <td>22</td>\n",
       "      <td>Краснодар</td>\n",
       "      <td>free</td>\n",
       "    </tr>\n",
       "    <tr>\n",
       "      <th>1533</th>\n",
       "      <td>1534</td>\n",
       "      <td>Альберт</td>\n",
       "      <td>25</td>\n",
       "      <td>Краснодар</td>\n",
       "      <td>free</td>\n",
       "    </tr>\n",
       "  </tbody>\n",
       "</table>\n",
       "<p>1534 rows × 5 columns</p>\n",
       "</div>"
      ],
      "text/plain": [
       "      user_id        name  age            city subscription_type\n",
       "0           1        Кира   22          Тюмень             ultra\n",
       "1           2   Станислав   31            Омск             ultra\n",
       "2           3     Алексей   20          Москва             ultra\n",
       "3           4  Константин   26  Ростов-на-Дону             ultra\n",
       "4           5       Адель   28            Омск             ultra\n",
       "...       ...         ...  ...             ...               ...\n",
       "1529     1530   Ростислав   29            Сочи              free\n",
       "1530     1531      Никита   25       Пятигорск              free\n",
       "1531     1532     Алексей   26          Тюмень              free\n",
       "1532     1533      Степан   22       Краснодар              free\n",
       "1533     1534     Альберт   25       Краснодар              free\n",
       "\n",
       "[1534 rows x 5 columns]"
      ]
     },
     "execution_count": 16,
     "metadata": {},
     "output_type": "execute_result"
    }
   ],
   "source": [
    "# удалим явные дубликаты из users\n",
    "\n",
    "users = users.drop_duplicates()\n",
    "users"
   ]
  },
  {
   "cell_type": "markdown",
   "id": "450d34af",
   "metadata": {},
   "source": [
    "##### Вывод\n",
    "1. Столбец date приведен к типу даты pandas\n",
    "2. Создан новый столбец month с номером месяца на основе столбца date\n",
    "3. Данные не содержат пропусков и неявных дубликатов.\n",
    "4. Датафреймы users и rides были проверены на наличие явных дубликатов.  Явные дубликаты были найдены в users.\n",
    "5. Из датафреейма users был удалеен 31 явный дубликат."
   ]
  },
  {
   "cell_type": "markdown",
   "id": "212593c7",
   "metadata": {},
   "source": [
    "#### Шаг 3. Исследовательский анализ данных"
   ]
  },
  {
   "cell_type": "code",
   "execution_count": 17,
   "id": "e3a4274c",
   "metadata": {},
   "outputs": [
    {
     "data": {
      "image/png": "[encoded data removed]",
      "text/plain": [
       "<Figure size 432x288 with 1 Axes>"
      ]
     },
     "metadata": {
      "needs_background": "light"
     },
     "output_type": "display_data"
    },
    {
     "data": {
      "text/plain": [
       "Пятигорск         219\n",
       "Екатеринбург      204\n",
       "Ростов-на-Дону    198\n",
       "Краснодар         193\n",
       "Сочи              189\n",
       "Омск              183\n",
       "Тюмень            180\n",
       "Москва            168\n",
       "Name: city, dtype: int64"
      ]
     },
     "execution_count": 17,
     "metadata": {},
     "output_type": "execute_result"
    }
   ],
   "source": [
    "# частота встречаемости городов\n",
    "\n",
    "users['city'].value_counts().plot.bar()\n",
    "plt.title('Частота встречаемости городов')\n",
    "plt.ylabel('Количество пользователей')\n",
    "plt.show()\n",
    "users['city'].value_counts()"
   ]
  },
  {
   "cell_type": "code",
   "execution_count": 18,
   "id": "169d60e3",
   "metadata": {
    "scrolled": false
   },
   "outputs": [
    {
     "data": {
      "image/png": "[encoded data removed]",
      "text/plain": [
       "<Figure size 432x288 with 1 Axes>"
      ]
     },
     "metadata": {},
     "output_type": "display_data"
    }
   ],
   "source": [
    "# соотношение пользователей с подпиской (ultra) и без подписки (free)\n",
    "\n",
    "users['subscription_type'].value_counts().plot(kind='pie',  y='points', autopct='%1.0f%%')\n",
    "plt.title('Соотношение пользователей с подпиской (ultra) и без подписки (free)')\n",
    "plt.ylabel('Количество пользователей')\n",
    "plt.show()"
   ]
  },
  {
   "cell_type": "markdown",
   "id": "ab941cc2",
   "metadata": {},
   "source": [
    "Пользователей без подписки оказалось 54% от общего числа пользователей. Пользователей с подпиской немного меньше - 46%."
   ]
  },
  {
   "cell_type": "code",
   "execution_count": 19,
   "id": "a71e0d7e",
   "metadata": {},
   "outputs": [
    {
     "data": {
      "image/png": "[encoded data removed]",
      "text/plain": [
       "<Figure size 432x288 with 1 Axes>"
      ]
     },
     "metadata": {
      "needs_background": "light"
     },
     "output_type": "display_data"
    },
    {
     "data": {
      "image/png": "[encoded data removed]",
      "text/plain": [
       "<Figure size 432x288 with 1 Axes>"
      ]
     },
     "metadata": {
      "needs_background": "light"
     },
     "output_type": "display_data"
    }
   ],
   "source": [
    "# возраст пользователей\n",
    "\n",
    "users['age'].value_counts(sort=False).plot.bar()\n",
    "plt.title('Возраст пользователей')\n",
    "plt.ylabel('Количество пользователей')\n",
    "plt.xlabel('Возраст')\n",
    "plt.show()\n",
    "\n",
    "users.boxplot('age')\n",
    "plt.title('Возраст пользователей')\n",
    "plt.show()"
   ]
  },
  {
   "cell_type": "code",
   "execution_count": 20,
   "id": "bd29e427",
   "metadata": {},
   "outputs": [
    {
     "data": {
      "image/png": "[encoded data removed]",
      "text/plain": [
       "<Figure size 432x288 with 1 Axes>"
      ]
     },
     "metadata": {
      "needs_background": "light"
     },
     "output_type": "display_data"
    },
    {
     "data": {
      "image/png": "[encoded data removed]",
      "text/plain": [
       "<Figure size 432x288 with 1 Axes>"
      ]
     },
     "metadata": {
      "needs_background": "light"
     },
     "output_type": "display_data"
    }
   ],
   "source": [
    "# расстояние, которое пользователь преодолел за одну поездку\n",
    "\n",
    "rides['distance'].hist(bins=20)\n",
    "plt.title('Расстояние поездок')\n",
    "plt.ylabel('Количество пользователей')\n",
    "plt.xlabel('Расстояние (м)')\n",
    "plt.show()\n",
    "\n",
    "rides.boxplot('distance')\n",
    "plt.title('Расстояние поездок')\n",
    "plt.show()"
   ]
  },
  {
   "cell_type": "code",
   "execution_count": 21,
   "id": "13a27f36",
   "metadata": {},
   "outputs": [
    {
     "data": {
      "image/png": "[encoded data removed]",
      "text/plain": [
       "<Figure size 432x288 with 1 Axes>"
      ]
     },
     "metadata": {
      "needs_background": "light"
     },
     "output_type": "display_data"
    },
    {
     "data": {
      "image/png": "[encoded data removed]",
      "text/plain": [
       "<Figure size 432x288 with 1 Axes>"
      ]
     },
     "metadata": {
      "needs_background": "light"
     },
     "output_type": "display_data"
    }
   ],
   "source": [
    "# продолжительность поездок\n",
    "\n",
    "rides['duration'].hist()\n",
    "plt.title('Продолжительность поездок')\n",
    "plt.ylabel('Количество пользователей')\n",
    "plt.xlabel('Продолжительность  поездки  (мин)')\n",
    "plt.show()\n",
    "\n",
    "rides.boxplot('duration')\n",
    "plt.title('Продолжительность поездок')\n",
    "plt.show()"
   ]
  },
  {
   "cell_type": "markdown",
   "id": "0cfc445b",
   "metadata": {},
   "source": [
    "##### Вывод\n",
    "\n",
    "1. Указанные города Тюмень, Омск, Москва, Ростов-на-Дону, Краснодар, Пятигорск, Екатеринбург, Сочи встречаются в данных с приблизительно одинаковой частотой. Чаще всего встречается Пятигорск (226 пользователей указали данный город), реже всего - Москва (172 упоминания). Остальные города упоминаются 185-206 раз.\n",
    "\n",
    "2. Пользователей без подписки оказалось 54% от общего числа пользователей. Пользователей с подпиской немного меньше - 46%.\n",
    "\n",
    "Тип подписки | Доля от общего числа\n",
    ":----------- | :-------------------\n",
    "free         | 54%\n",
    "ultra        | 46%\n",
    "\n",
    "3. Возраст пользователей распределен нормально. Средний возраст пользователя равен 25 лет. Всего в данных встречаются пользователи в возрасте от 12 до 43 лет включительно. 95% пользователей будет в диапазоне 16-35 лет.\n",
    "\n",
    "4. На графике расстояния видно два пика:  3100 и 500  метров. Полагаю, пик в 500 метров связан с неработающими/плохо  работающими самокатами или же пользователями, передумавшими совершать поездку или просто желающими попробовать встать на самокат. То есть, скорее всего, эти поездки не являются полноценными. Если не смотреть на пик в 500 метров, то распределение расстояний похоже на нормальное с мат. ожиданием 3100 метров и стандартным отклонением около 1200 метров, то есть 95% полноценных поездок будут в диапазоне 800-5400 метров. Самые далекие поездки совершаются  на расстояние до 7000 метров."
   ]
  },
  {
   "cell_type": "markdown",
   "id": "4ef51331",
   "metadata": {},
   "source": [
    "#### Шаг 4. Объединение данных"
   ]
  },
  {
   "cell_type": "code",
   "execution_count": 22,
   "id": "4d186091",
   "metadata": {},
   "outputs": [
    {
     "name": "stdout",
     "output_type": "stream",
     "text": [
      "Кол-во строк в users: 1534\n",
      "Кол-во строк в rides: 18068\n",
      "Кол-во строк в subscriptions: 2\n"
     ]
    }
   ],
   "source": [
    "print(f'Кол-во строк в users: {users.shape[0]}\\n\\\n",
    "Кол-во строк в rides: {rides.shape[0]}\\n\\\n",
    "Кол-во строк в subscriptions: {subscriptions.shape[0]}')"
   ]
  },
  {
   "cell_type": "code",
   "execution_count": 23,
   "id": "89926838",
   "metadata": {},
   "outputs": [],
   "source": [
    "# объединим данные о пользователях, поездках и подписках в один датафрейм data\n",
    "\n",
    "data = users.merge(rides,how ='left').merge(subscriptions,how ='left')"
   ]
  },
  {
   "cell_type": "code",
   "execution_count": 24,
   "id": "3415c5ab",
   "metadata": {},
   "outputs": [
    {
     "data": {
      "text/html": [
       "<div>\n",
       "<style scoped>\n",
       "    .dataframe tbody tr th:only-of-type {\n",
       "        vertical-align: middle;\n",
       "    }\n",
       "\n",
       "    .dataframe tbody tr th {\n",
       "        vertical-align: top;\n",
       "    }\n",
       "\n",
       "    .dataframe thead th {\n",
       "        text-align: right;\n",
       "    }\n",
       "</style>\n",
       "<table border=\"1\" class=\"dataframe\">\n",
       "  <thead>\n",
       "    <tr style=\"text-align: right;\">\n",
       "      <th></th>\n",
       "      <th>user_id</th>\n",
       "      <th>name</th>\n",
       "      <th>age</th>\n",
       "      <th>city</th>\n",
       "      <th>subscription_type</th>\n",
       "      <th>distance</th>\n",
       "      <th>duration</th>\n",
       "      <th>date</th>\n",
       "      <th>month</th>\n",
       "      <th>minute_price</th>\n",
       "      <th>start_ride_price</th>\n",
       "      <th>subscription_fee</th>\n",
       "    </tr>\n",
       "  </thead>\n",
       "  <tbody>\n",
       "    <tr>\n",
       "      <th>0</th>\n",
       "      <td>1</td>\n",
       "      <td>Кира</td>\n",
       "      <td>22</td>\n",
       "      <td>Тюмень</td>\n",
       "      <td>ultra</td>\n",
       "      <td>4409.919140</td>\n",
       "      <td>25.599769</td>\n",
       "      <td>2021-01-01</td>\n",
       "      <td>1</td>\n",
       "      <td>6</td>\n",
       "      <td>0</td>\n",
       "      <td>199</td>\n",
       "    </tr>\n",
       "    <tr>\n",
       "      <th>1</th>\n",
       "      <td>1</td>\n",
       "      <td>Кира</td>\n",
       "      <td>22</td>\n",
       "      <td>Тюмень</td>\n",
       "      <td>ultra</td>\n",
       "      <td>2617.592153</td>\n",
       "      <td>15.816871</td>\n",
       "      <td>2021-01-18</td>\n",
       "      <td>1</td>\n",
       "      <td>6</td>\n",
       "      <td>0</td>\n",
       "      <td>199</td>\n",
       "    </tr>\n",
       "    <tr>\n",
       "      <th>2</th>\n",
       "      <td>1</td>\n",
       "      <td>Кира</td>\n",
       "      <td>22</td>\n",
       "      <td>Тюмень</td>\n",
       "      <td>ultra</td>\n",
       "      <td>754.159807</td>\n",
       "      <td>6.232113</td>\n",
       "      <td>2021-04-20</td>\n",
       "      <td>4</td>\n",
       "      <td>6</td>\n",
       "      <td>0</td>\n",
       "      <td>199</td>\n",
       "    </tr>\n",
       "    <tr>\n",
       "      <th>3</th>\n",
       "      <td>1</td>\n",
       "      <td>Кира</td>\n",
       "      <td>22</td>\n",
       "      <td>Тюмень</td>\n",
       "      <td>ultra</td>\n",
       "      <td>2694.783254</td>\n",
       "      <td>18.511000</td>\n",
       "      <td>2021-08-11</td>\n",
       "      <td>8</td>\n",
       "      <td>6</td>\n",
       "      <td>0</td>\n",
       "      <td>199</td>\n",
       "    </tr>\n",
       "    <tr>\n",
       "      <th>4</th>\n",
       "      <td>1</td>\n",
       "      <td>Кира</td>\n",
       "      <td>22</td>\n",
       "      <td>Тюмень</td>\n",
       "      <td>ultra</td>\n",
       "      <td>4028.687306</td>\n",
       "      <td>26.265803</td>\n",
       "      <td>2021-08-28</td>\n",
       "      <td>8</td>\n",
       "      <td>6</td>\n",
       "      <td>0</td>\n",
       "      <td>199</td>\n",
       "    </tr>\n",
       "    <tr>\n",
       "      <th>5</th>\n",
       "      <td>1</td>\n",
       "      <td>Кира</td>\n",
       "      <td>22</td>\n",
       "      <td>Тюмень</td>\n",
       "      <td>ultra</td>\n",
       "      <td>2770.890808</td>\n",
       "      <td>16.650138</td>\n",
       "      <td>2021-10-09</td>\n",
       "      <td>10</td>\n",
       "      <td>6</td>\n",
       "      <td>0</td>\n",
       "      <td>199</td>\n",
       "    </tr>\n",
       "    <tr>\n",
       "      <th>6</th>\n",
       "      <td>1</td>\n",
       "      <td>Кира</td>\n",
       "      <td>22</td>\n",
       "      <td>Тюмень</td>\n",
       "      <td>ultra</td>\n",
       "      <td>3039.020292</td>\n",
       "      <td>14.927879</td>\n",
       "      <td>2021-10-19</td>\n",
       "      <td>10</td>\n",
       "      <td>6</td>\n",
       "      <td>0</td>\n",
       "      <td>199</td>\n",
       "    </tr>\n",
       "    <tr>\n",
       "      <th>7</th>\n",
       "      <td>1</td>\n",
       "      <td>Кира</td>\n",
       "      <td>22</td>\n",
       "      <td>Тюмень</td>\n",
       "      <td>ultra</td>\n",
       "      <td>2842.118050</td>\n",
       "      <td>23.117468</td>\n",
       "      <td>2021-11-06</td>\n",
       "      <td>11</td>\n",
       "      <td>6</td>\n",
       "      <td>0</td>\n",
       "      <td>199</td>\n",
       "    </tr>\n",
       "    <tr>\n",
       "      <th>8</th>\n",
       "      <td>1</td>\n",
       "      <td>Кира</td>\n",
       "      <td>22</td>\n",
       "      <td>Тюмень</td>\n",
       "      <td>ultra</td>\n",
       "      <td>3412.690668</td>\n",
       "      <td>15.238072</td>\n",
       "      <td>2021-11-14</td>\n",
       "      <td>11</td>\n",
       "      <td>6</td>\n",
       "      <td>0</td>\n",
       "      <td>199</td>\n",
       "    </tr>\n",
       "    <tr>\n",
       "      <th>9</th>\n",
       "      <td>1</td>\n",
       "      <td>Кира</td>\n",
       "      <td>22</td>\n",
       "      <td>Тюмень</td>\n",
       "      <td>ultra</td>\n",
       "      <td>748.690645</td>\n",
       "      <td>15.041884</td>\n",
       "      <td>2021-11-22</td>\n",
       "      <td>11</td>\n",
       "      <td>6</td>\n",
       "      <td>0</td>\n",
       "      <td>199</td>\n",
       "    </tr>\n",
       "    <tr>\n",
       "      <th>10</th>\n",
       "      <td>1</td>\n",
       "      <td>Кира</td>\n",
       "      <td>22</td>\n",
       "      <td>Тюмень</td>\n",
       "      <td>ultra</td>\n",
       "      <td>4031.020195</td>\n",
       "      <td>17.674448</td>\n",
       "      <td>2021-12-14</td>\n",
       "      <td>12</td>\n",
       "      <td>6</td>\n",
       "      <td>0</td>\n",
       "      <td>199</td>\n",
       "    </tr>\n",
       "    <tr>\n",
       "      <th>11</th>\n",
       "      <td>1</td>\n",
       "      <td>Кира</td>\n",
       "      <td>22</td>\n",
       "      <td>Тюмень</td>\n",
       "      <td>ultra</td>\n",
       "      <td>2720.609748</td>\n",
       "      <td>9.529463</td>\n",
       "      <td>2021-12-22</td>\n",
       "      <td>12</td>\n",
       "      <td>6</td>\n",
       "      <td>0</td>\n",
       "      <td>199</td>\n",
       "    </tr>\n",
       "    <tr>\n",
       "      <th>12</th>\n",
       "      <td>2</td>\n",
       "      <td>Станислав</td>\n",
       "      <td>31</td>\n",
       "      <td>Омск</td>\n",
       "      <td>ultra</td>\n",
       "      <td>3105.086678</td>\n",
       "      <td>24.307514</td>\n",
       "      <td>2021-03-15</td>\n",
       "      <td>3</td>\n",
       "      <td>6</td>\n",
       "      <td>0</td>\n",
       "      <td>199</td>\n",
       "    </tr>\n",
       "    <tr>\n",
       "      <th>13</th>\n",
       "      <td>2</td>\n",
       "      <td>Станислав</td>\n",
       "      <td>31</td>\n",
       "      <td>Омск</td>\n",
       "      <td>ultra</td>\n",
       "      <td>3053.519401</td>\n",
       "      <td>11.543256</td>\n",
       "      <td>2021-03-18</td>\n",
       "      <td>3</td>\n",
       "      <td>6</td>\n",
       "      <td>0</td>\n",
       "      <td>199</td>\n",
       "    </tr>\n",
       "    <tr>\n",
       "      <th>14</th>\n",
       "      <td>2</td>\n",
       "      <td>Станислав</td>\n",
       "      <td>31</td>\n",
       "      <td>Омск</td>\n",
       "      <td>ultra</td>\n",
       "      <td>4029.116927</td>\n",
       "      <td>25.109188</td>\n",
       "      <td>2021-03-23</td>\n",
       "      <td>3</td>\n",
       "      <td>6</td>\n",
       "      <td>0</td>\n",
       "      <td>199</td>\n",
       "    </tr>\n",
       "  </tbody>\n",
       "</table>\n",
       "</div>"
      ],
      "text/plain": [
       "    user_id       name  age    city subscription_type     distance   duration  \\\n",
       "0         1       Кира   22  Тюмень             ultra  4409.919140  25.599769   \n",
       "1         1       Кира   22  Тюмень             ultra  2617.592153  15.816871   \n",
       "2         1       Кира   22  Тюмень             ultra   754.159807   6.232113   \n",
       "3         1       Кира   22  Тюмень             ultra  2694.783254  18.511000   \n",
       "4         1       Кира   22  Тюмень             ultra  4028.687306  26.265803   \n",
       "5         1       Кира   22  Тюмень             ultra  2770.890808  16.650138   \n",
       "6         1       Кира   22  Тюмень             ultra  3039.020292  14.927879   \n",
       "7         1       Кира   22  Тюмень             ultra  2842.118050  23.117468   \n",
       "8         1       Кира   22  Тюмень             ultra  3412.690668  15.238072   \n",
       "9         1       Кира   22  Тюмень             ultra   748.690645  15.041884   \n",
       "10        1       Кира   22  Тюмень             ultra  4031.020195  17.674448   \n",
       "11        1       Кира   22  Тюмень             ultra  2720.609748   9.529463   \n",
       "12        2  Станислав   31    Омск             ultra  3105.086678  24.307514   \n",
       "13        2  Станислав   31    Омск             ultra  3053.519401  11.543256   \n",
       "14        2  Станислав   31    Омск             ultra  4029.116927  25.109188   \n",
       "\n",
       "         date  month  minute_price  start_ride_price  subscription_fee  \n",
       "0  2021-01-01      1             6                 0               199  \n",
       "1  2021-01-18      1             6                 0               199  \n",
       "2  2021-04-20      4             6                 0               199  \n",
       "3  2021-08-11      8             6                 0               199  \n",
       "4  2021-08-28      8             6                 0               199  \n",
       "5  2021-10-09     10             6                 0               199  \n",
       "6  2021-10-19     10             6                 0               199  \n",
       "7  2021-11-06     11             6                 0               199  \n",
       "8  2021-11-14     11             6                 0               199  \n",
       "9  2021-11-22     11             6                 0               199  \n",
       "10 2021-12-14     12             6                 0               199  \n",
       "11 2021-12-22     12             6                 0               199  \n",
       "12 2021-03-15      3             6                 0               199  \n",
       "13 2021-03-18      3             6                 0               199  \n",
       "14 2021-03-23      3             6                 0               199  "
      ]
     },
     "metadata": {},
     "output_type": "display_data"
    },
    {
     "name": "stdout",
     "output_type": "stream",
     "text": [
      "Кол-во строк в data: 18068\n",
      "Коли-во пропусков: 0\n"
     ]
    }
   ],
   "source": [
    "display(data.head(15))\n",
    "print(f'Кол-во строк в data: {data.shape[0]}\\n\\\n",
    "Коли-во пропусков: {data.isnull().sum().sum()}')"
   ]
  },
  {
   "cell_type": "markdown",
   "id": "44c9afe0",
   "metadata": {},
   "source": [
    "Как видим, количество строк в новом датасете data равно количеству строк в rides, что логично, так как на одну строчку из rides приходится только по одной строке из других двух датасетов. \n",
    "\n",
    "В data отсутствуют пропуски. Значит, объединение прошло без потерь, и о каждом пользователе из таблицы rides нашлась информация в users."
   ]
  },
  {
   "cell_type": "code",
   "execution_count": 25,
   "id": "b268fd7b",
   "metadata": {},
   "outputs": [
    {
     "data": {
      "text/plain": [
       "138816"
      ]
     },
     "execution_count": 25,
     "metadata": {},
     "output_type": "execute_result"
    }
   ],
   "source": [
    "# создадим датафрейм c данными о пользователях без подписки subscription_free\n",
    "\n",
    "subscription_free = data.query('subscription_type == \"free\"')\n",
    "subscription_free.size"
   ]
  },
  {
   "cell_type": "code",
   "execution_count": 26,
   "id": "796fc1f8",
   "metadata": {},
   "outputs": [
    {
     "data": {
      "text/plain": [
       "78000"
      ]
     },
     "execution_count": 26,
     "metadata": {},
     "output_type": "execute_result"
    }
   ],
   "source": [
    "# создадим датафрейм c данными о пользователях с подпиской subscription_ultra\n",
    "\n",
    "subscription_ultra = data.query('subscription_type == \"ultra\"')\n",
    "subscription_ultra.size"
   ]
  },
  {
   "cell_type": "code",
   "execution_count": 27,
   "id": "5fffc6fd",
   "metadata": {},
   "outputs": [
    {
     "data": {
      "image/png": "[encoded data removed]",
      "text/plain": [
       "<Figure size 432x288 with 1 Axes>"
      ]
     },
     "metadata": {
      "needs_background": "light"
     },
     "output_type": "display_data"
    }
   ],
   "source": [
    "# расстояние поездок пользователей без подписки и с \n",
    "\n",
    "ax = subscription_free['distance'].plot(kind='hist', label='a') # синий\n",
    "subscription_ultra['distance'].plot(kind='hist', label='b') # оранжевый\n",
    "\n",
    "plt.title('Расстояние поездок')\n",
    "plt.ylabel('Количество пользователей')\n",
    "plt.xlabel('Расстояние поездки (м)')\n",
    "ax.legend([\"Без  подписки\", \"С подпиской\"]);\n",
    "plt.show()"
   ]
  },
  {
   "cell_type": "code",
   "execution_count": 28,
   "id": "e40bc3be",
   "metadata": {},
   "outputs": [
    {
     "data": {
      "image/png": "[encoded data removed]",
      "text/plain": [
       "<Figure size 432x288 with 1 Axes>"
      ]
     },
     "metadata": {
      "needs_background": "light"
     },
     "output_type": "display_data"
    }
   ],
   "source": [
    "# длительность поездок пользователей без подписки и с \n",
    "\n",
    "ax = subscription_free['duration'].hist() # синий\n",
    "subscription_ultra['duration'].hist() # оранжевый\n",
    "\n",
    "plt.title('Длительность поездок')\n",
    "plt.ylabel('Количество пользователей')\n",
    "plt.xlabel('Длительность поездки (мин)')\n",
    "ax.legend([\"Без  подписки\", \"С подпиской\"]);\n",
    "plt.show()"
   ]
  },
  {
   "cell_type": "markdown",
   "id": "f0cd7e78",
   "metadata": {},
   "source": [
    "##### Вывод\n",
    "\n",
    "1. Три исходных датафрейма объединены в один с названием data.\n",
    "2. Данные о пользователях с подпиской выделены в датафрейм subscription_ultra, без подписки - subscription_free.\n",
    "3. Построены гистограммы по расстоянию и длительности поездок отдельно для subscription_ultra и subscription_free.\n",
    "\n",
    "Показатели duration для subscription_ultra и subscription_free нормально  распределены. Гистограммы distance для каждого типа подписки имеют два пика: в районе 500-1000 метров и 3000 метров. Если отбросить первый пик значений, то распределение станет похоже на нормальное.\n",
    "\n",
    "Средняя длительность поездки для обеих типов подписок 15-20 минут. 95% поездок имеют длительноть в пределах 5-30 минут, а самые длительные имеют продолжительность около 40 минут."
   ]
  },
  {
   "cell_type": "markdown",
   "id": "402d620f",
   "metadata": {},
   "source": [
    "#### Шаг 5. Подсчёт выручки"
   ]
  },
  {
   "cell_type": "code",
   "execution_count": 29,
   "id": "ba31f76f",
   "metadata": {},
   "outputs": [],
   "source": [
    "# каждое значение из столбца duration округляется с помощью «потолка»:\n",
    "data['duration'] = np.ceil(data['duration'])"
   ]
  },
  {
   "cell_type": "code",
   "execution_count": 30,
   "id": "6e935de5",
   "metadata": {},
   "outputs": [
    {
     "data": {
      "text/plain": [
       "0"
      ]
     },
     "execution_count": 30,
     "metadata": {},
     "output_type": "execute_result"
    }
   ],
   "source": [
    "# проверка на пропуски\n",
    "data.isnull().sum().sum()"
   ]
  },
  {
   "cell_type": "code",
   "execution_count": 31,
   "id": "53049e0a",
   "metadata": {},
   "outputs": [
    {
     "data": {
      "text/html": [
       "<div>\n",
       "<style scoped>\n",
       "    .dataframe tbody tr th:only-of-type {\n",
       "        vertical-align: middle;\n",
       "    }\n",
       "\n",
       "    .dataframe tbody tr th {\n",
       "        vertical-align: top;\n",
       "    }\n",
       "\n",
       "    .dataframe thead th {\n",
       "        text-align: right;\n",
       "    }\n",
       "</style>\n",
       "<table border=\"1\" class=\"dataframe\">\n",
       "  <thead>\n",
       "    <tr style=\"text-align: right;\">\n",
       "      <th></th>\n",
       "      <th>user_id</th>\n",
       "      <th>month</th>\n",
       "      <th>distance</th>\n",
       "      <th>rides</th>\n",
       "      <th>duration</th>\n",
       "    </tr>\n",
       "  </thead>\n",
       "  <tbody>\n",
       "    <tr>\n",
       "      <th>0</th>\n",
       "      <td>1</td>\n",
       "      <td>1</td>\n",
       "      <td>7027.511294</td>\n",
       "      <td>2</td>\n",
       "      <td>42.0</td>\n",
       "    </tr>\n",
       "    <tr>\n",
       "      <th>1</th>\n",
       "      <td>1</td>\n",
       "      <td>4</td>\n",
       "      <td>754.159807</td>\n",
       "      <td>1</td>\n",
       "      <td>7.0</td>\n",
       "    </tr>\n",
       "    <tr>\n",
       "      <th>2</th>\n",
       "      <td>1</td>\n",
       "      <td>8</td>\n",
       "      <td>6723.470560</td>\n",
       "      <td>2</td>\n",
       "      <td>46.0</td>\n",
       "    </tr>\n",
       "    <tr>\n",
       "      <th>3</th>\n",
       "      <td>1</td>\n",
       "      <td>10</td>\n",
       "      <td>5809.911100</td>\n",
       "      <td>2</td>\n",
       "      <td>32.0</td>\n",
       "    </tr>\n",
       "    <tr>\n",
       "      <th>4</th>\n",
       "      <td>1</td>\n",
       "      <td>11</td>\n",
       "      <td>7003.499363</td>\n",
       "      <td>3</td>\n",
       "      <td>56.0</td>\n",
       "    </tr>\n",
       "    <tr>\n",
       "      <th>...</th>\n",
       "      <td>...</td>\n",
       "      <td>...</td>\n",
       "      <td>...</td>\n",
       "      <td>...</td>\n",
       "      <td>...</td>\n",
       "    </tr>\n",
       "    <tr>\n",
       "      <th>11326</th>\n",
       "      <td>1534</td>\n",
       "      <td>6</td>\n",
       "      <td>3409.468534</td>\n",
       "      <td>2</td>\n",
       "      <td>26.0</td>\n",
       "    </tr>\n",
       "    <tr>\n",
       "      <th>11327</th>\n",
       "      <td>1534</td>\n",
       "      <td>8</td>\n",
       "      <td>7622.453034</td>\n",
       "      <td>2</td>\n",
       "      <td>48.0</td>\n",
       "    </tr>\n",
       "    <tr>\n",
       "      <th>11328</th>\n",
       "      <td>1534</td>\n",
       "      <td>9</td>\n",
       "      <td>4928.173852</td>\n",
       "      <td>1</td>\n",
       "      <td>23.0</td>\n",
       "    </tr>\n",
       "    <tr>\n",
       "      <th>11329</th>\n",
       "      <td>1534</td>\n",
       "      <td>11</td>\n",
       "      <td>13350.015305</td>\n",
       "      <td>4</td>\n",
       "      <td>78.0</td>\n",
       "    </tr>\n",
       "    <tr>\n",
       "      <th>11330</th>\n",
       "      <td>1534</td>\n",
       "      <td>12</td>\n",
       "      <td>2371.711192</td>\n",
       "      <td>1</td>\n",
       "      <td>16.0</td>\n",
       "    </tr>\n",
       "  </tbody>\n",
       "</table>\n",
       "<p>11331 rows × 5 columns</p>\n",
       "</div>"
      ],
      "text/plain": [
       "       user_id  month      distance  rides  duration\n",
       "0            1      1   7027.511294      2      42.0\n",
       "1            1      4    754.159807      1       7.0\n",
       "2            1      8   6723.470560      2      46.0\n",
       "3            1     10   5809.911100      2      32.0\n",
       "4            1     11   7003.499363      3      56.0\n",
       "...        ...    ...           ...    ...       ...\n",
       "11326     1534      6   3409.468534      2      26.0\n",
       "11327     1534      8   7622.453034      2      48.0\n",
       "11328     1534      9   4928.173852      1      23.0\n",
       "11329     1534     11  13350.015305      4      78.0\n",
       "11330     1534     12   2371.711192      1      16.0\n",
       "\n",
       "[11331 rows x 5 columns]"
      ]
     },
     "execution_count": 31,
     "metadata": {},
     "output_type": "execute_result"
    }
   ],
   "source": [
    "# создадим датафрейм user_data, содержащий:\n",
    "# суммарное расстояние, количество поездок и суммарное время для каждого пользователя за каждый месяц\n",
    "\n",
    "user_data = data.groupby(['user_id', 'month']).agg({'distance': 'sum', 'user_id': 'count','duration': 'sum'})\n",
    "user_data = pd.DataFrame(user_data)\n",
    "user_data.rename(columns={'user_id': 'rides'}, inplace=True)\n",
    "user_data.reset_index(inplace= True)\n",
    "\n",
    "user_data"
   ]
  },
  {
   "cell_type": "code",
   "execution_count": 32,
   "id": "07d995df",
   "metadata": {},
   "outputs": [
    {
     "data": {
      "text/html": [
       "<div>\n",
       "<style scoped>\n",
       "    .dataframe tbody tr th:only-of-type {\n",
       "        vertical-align: middle;\n",
       "    }\n",
       "\n",
       "    .dataframe tbody tr th {\n",
       "        vertical-align: top;\n",
       "    }\n",
       "\n",
       "    .dataframe thead th {\n",
       "        text-align: right;\n",
       "    }\n",
       "</style>\n",
       "<table border=\"1\" class=\"dataframe\">\n",
       "  <thead>\n",
       "    <tr style=\"text-align: right;\">\n",
       "      <th></th>\n",
       "      <th>user_id</th>\n",
       "      <th>month</th>\n",
       "      <th>distance</th>\n",
       "      <th>rides</th>\n",
       "      <th>duration</th>\n",
       "      <th>subscription_type</th>\n",
       "      <th>proceeds</th>\n",
       "    </tr>\n",
       "  </thead>\n",
       "  <tbody>\n",
       "    <tr>\n",
       "      <th>0</th>\n",
       "      <td>1</td>\n",
       "      <td>1</td>\n",
       "      <td>7027.511294</td>\n",
       "      <td>2</td>\n",
       "      <td>42.0</td>\n",
       "      <td>1</td>\n",
       "      <td>451.0</td>\n",
       "    </tr>\n",
       "    <tr>\n",
       "      <th>1</th>\n",
       "      <td>1</td>\n",
       "      <td>4</td>\n",
       "      <td>754.159807</td>\n",
       "      <td>1</td>\n",
       "      <td>7.0</td>\n",
       "      <td>1</td>\n",
       "      <td>241.0</td>\n",
       "    </tr>\n",
       "    <tr>\n",
       "      <th>2</th>\n",
       "      <td>1</td>\n",
       "      <td>8</td>\n",
       "      <td>6723.470560</td>\n",
       "      <td>2</td>\n",
       "      <td>46.0</td>\n",
       "      <td>1</td>\n",
       "      <td>475.0</td>\n",
       "    </tr>\n",
       "    <tr>\n",
       "      <th>3</th>\n",
       "      <td>1</td>\n",
       "      <td>10</td>\n",
       "      <td>5809.911100</td>\n",
       "      <td>2</td>\n",
       "      <td>32.0</td>\n",
       "      <td>1</td>\n",
       "      <td>391.0</td>\n",
       "    </tr>\n",
       "    <tr>\n",
       "      <th>4</th>\n",
       "      <td>1</td>\n",
       "      <td>11</td>\n",
       "      <td>7003.499363</td>\n",
       "      <td>3</td>\n",
       "      <td>56.0</td>\n",
       "      <td>1</td>\n",
       "      <td>535.0</td>\n",
       "    </tr>\n",
       "    <tr>\n",
       "      <th>...</th>\n",
       "      <td>...</td>\n",
       "      <td>...</td>\n",
       "      <td>...</td>\n",
       "      <td>...</td>\n",
       "      <td>...</td>\n",
       "      <td>...</td>\n",
       "      <td>...</td>\n",
       "    </tr>\n",
       "    <tr>\n",
       "      <th>11326</th>\n",
       "      <td>1534</td>\n",
       "      <td>6</td>\n",
       "      <td>3409.468534</td>\n",
       "      <td>2</td>\n",
       "      <td>26.0</td>\n",
       "      <td>0</td>\n",
       "      <td>308.0</td>\n",
       "    </tr>\n",
       "    <tr>\n",
       "      <th>11327</th>\n",
       "      <td>1534</td>\n",
       "      <td>8</td>\n",
       "      <td>7622.453034</td>\n",
       "      <td>2</td>\n",
       "      <td>48.0</td>\n",
       "      <td>0</td>\n",
       "      <td>484.0</td>\n",
       "    </tr>\n",
       "    <tr>\n",
       "      <th>11328</th>\n",
       "      <td>1534</td>\n",
       "      <td>9</td>\n",
       "      <td>4928.173852</td>\n",
       "      <td>1</td>\n",
       "      <td>23.0</td>\n",
       "      <td>0</td>\n",
       "      <td>234.0</td>\n",
       "    </tr>\n",
       "    <tr>\n",
       "      <th>11329</th>\n",
       "      <td>1534</td>\n",
       "      <td>11</td>\n",
       "      <td>13350.015305</td>\n",
       "      <td>4</td>\n",
       "      <td>78.0</td>\n",
       "      <td>0</td>\n",
       "      <td>824.0</td>\n",
       "    </tr>\n",
       "    <tr>\n",
       "      <th>11330</th>\n",
       "      <td>1534</td>\n",
       "      <td>12</td>\n",
       "      <td>2371.711192</td>\n",
       "      <td>1</td>\n",
       "      <td>16.0</td>\n",
       "      <td>0</td>\n",
       "      <td>178.0</td>\n",
       "    </tr>\n",
       "  </tbody>\n",
       "</table>\n",
       "<p>11331 rows × 7 columns</p>\n",
       "</div>"
      ],
      "text/plain": [
       "       user_id  month      distance  rides  duration  subscription_type  \\\n",
       "0            1      1   7027.511294      2      42.0                  1   \n",
       "1            1      4    754.159807      1       7.0                  1   \n",
       "2            1      8   6723.470560      2      46.0                  1   \n",
       "3            1     10   5809.911100      2      32.0                  1   \n",
       "4            1     11   7003.499363      3      56.0                  1   \n",
       "...        ...    ...           ...    ...       ...                ...   \n",
       "11326     1534      6   3409.468534      2      26.0                  0   \n",
       "11327     1534      8   7622.453034      2      48.0                  0   \n",
       "11328     1534      9   4928.173852      1      23.0                  0   \n",
       "11329     1534     11  13350.015305      4      78.0                  0   \n",
       "11330     1534     12   2371.711192      1      16.0                  0   \n",
       "\n",
       "       proceeds  \n",
       "0         451.0  \n",
       "1         241.0  \n",
       "2         475.0  \n",
       "3         391.0  \n",
       "4         535.0  \n",
       "...         ...  \n",
       "11326     308.0  \n",
       "11327     484.0  \n",
       "11328     234.0  \n",
       "11329     824.0  \n",
       "11330     178.0  \n",
       "\n",
       "[11331 rows x 7 columns]"
      ]
     },
     "execution_count": 32,
     "metadata": {},
     "output_type": "execute_result"
    }
   ],
   "source": [
    "# помесячная выручка с каждого пользователя\n",
    "user_data['subscription_type'] = np.where(user_data['user_id'] < 700, 1, 0)\n",
    "\n",
    "user_data['proceeds'] = np.where(user_data['subscription_type'] == 1, \\\n",
    "                                 subscriptions['subscription_fee'][1] + \\\n",
    "                                 user_data['rides'] * subscriptions['start_ride_price'][1] + \\\n",
    "                                 user_data['duration'] * subscriptions['minute_price'][1], \\\n",
    "                                 subscriptions['subscription_fee'][0] + \\\n",
    "                                 user_data['rides'] * subscriptions['start_ride_price'][0] + \\\n",
    "                                 user_data['duration'] * subscriptions['minute_price'][0])\n",
    "\n",
    "user_data"
   ]
  },
  {
   "cell_type": "markdown",
   "id": "33cefa5b",
   "metadata": {},
   "source": [
    "##### Вывод\n",
    "1. Был создан датафрейм user_data, содержащий суммарное расстояние, количество поездок и суммарное время для каждого пользователя за каждый месяц.\n",
    "2. Значения столбца duration данного датафрейма были округлены в большую сторону.\n",
    "3. Добавлен столбец proceeds с помесячной выручкой с каждого пользователя."
   ]
  },
  {
   "cell_type": "markdown",
   "id": "41545ac0",
   "metadata": {},
   "source": [
    "#### Шаг 6. Проверка гипотез"
   ]
  },
  {
   "cell_type": "markdown",
   "id": "7ae7a320",
   "metadata": {},
   "source": [
    "##### Гипотеза №1\n",
    "\n",
    "Нулевая гипотеза: длительность поездок пользователей с подпиской равна длительности поездок пользователей без подписки.\n",
    "\n",
    "Альтернативная гипотеза: длительность поездок пользователей с подпиской больше длительности поездок пользователей без подписки."
   ]
  },
  {
   "cell_type": "code",
   "execution_count": 33,
   "id": "da0223bd",
   "metadata": {},
   "outputs": [
    {
     "name": "stdout",
     "output_type": "stream",
     "text": [
      "p-значение: 1.2804098316645618e-34\n",
      "Отвергаем нулевую гипотезу\n"
     ]
    }
   ],
   "source": [
    "alpha = 0.05 # уровень статистической значимости\n",
    "# если p-value окажется меньше него, отвергнем гипотезу\n",
    "\n",
    "results = st.ttest_ind(subscription_ultra['duration'], subscription_free['duration'], alternative='greater')\n",
    "\n",
    "print('p-значение:', results.pvalue)\n",
    "\n",
    "if results.pvalue < alpha:\n",
    "    print('Отвергаем нулевую гипотезу')\n",
    "else:\n",
    "    print('Нет оснований отвергать нулевую гипотезу') "
   ]
  },
  {
   "cell_type": "markdown",
   "id": "f53bd9db",
   "metadata": {},
   "source": [
    "Полученное значение p-value 1.6e-34 меньше заданного уровня значимости, поэтому можно отвергнуть нулевую гипотезу. \n",
    "Есть основания говорить, что пользователи с подпиской тратят больше времени на поездки."
   ]
  },
  {
   "cell_type": "markdown",
   "id": "c24b089e",
   "metadata": {},
   "source": [
    "##### Гипотеза №2\n",
    "\n",
    "Нулевая гипотеза: расстояние, которое проезжают пользователи с подпиской за одну поездку, равно 3130 метров.\n",
    "\n",
    "Альтернативная гипотеза: расстояние, которое проезжают пользователи с подпиской за одну поездку, больше 3130 метров."
   ]
  },
  {
   "cell_type": "code",
   "execution_count": 34,
   "id": "4ea7cffd",
   "metadata": {},
   "outputs": [
    {
     "name": "stdout",
     "output_type": "stream",
     "text": [
      "p-значение: 0.9195368847849785\n",
      "Не получилось отвергнуть нулевую гипотезу: расстояние меньше или равно 3130 метров\n"
     ]
    }
   ],
   "source": [
    "optimal_distance = 3130\n",
    "\n",
    "results = st.ttest_1samp(\n",
    "    subscription_ultra['distance'], \n",
    "    optimal_distance,\n",
    "      alternative='greater')\n",
    "\n",
    "print('p-значение:', results.pvalue)\n",
    "\n",
    "if (results.pvalue < alpha):\n",
    "    print('Отвергаем нулевую гипотезу: расстояние больше 3130 метров')\n",
    "else:\n",
    "    print('Не получилось отвергнуть нулевую гипотезу: расстояние меньше или равно 3130 метров')"
   ]
  },
  {
   "cell_type": "markdown",
   "id": "66e8d3c5",
   "metadata": {},
   "source": [
    "Среднее расстояние, которое проезжают пользователи с подпиской за одну поездку, не превышает 3130 метров. Значит, самокаты не будут изнашиваться слишком быстро."
   ]
  },
  {
   "cell_type": "markdown",
   "id": "71e2222a",
   "metadata": {},
   "source": [
    "##### Гипотеза №3\n",
    "\n",
    "Нулевая гипотеза: помесячная выручка от пользователей с подпиской по месяцам равна выручке от пользователей без подписки. \n",
    "\n",
    "Альтернативная гипотеза: помесячная выручка от пользователей с подпиской по месяцам больше выручки от пользователей без подписки. "
   ]
  },
  {
   "cell_type": "code",
   "execution_count": 35,
   "id": "f46b3a0a",
   "metadata": {},
   "outputs": [
    {
     "name": "stdout",
     "output_type": "stream",
     "text": [
      "p-value: 1.8850394384715216e-31\n",
      "Отвергаем нулевую гипотезу\n"
     ]
    }
   ],
   "source": [
    "# проводим ttest для двух выборок, в качестве альтернативной используем одностороннюю гипотезу «больше»\n",
    "results = st.ttest_ind(user_data.query('subscription_type == 1')['proceeds'], user_data.query('subscription_type == 0')['proceeds'], alternative='greater')\n",
    "\n",
    "print(f'p-value: {results.pvalue}')\n",
    "\n",
    "# проверяем p-value\n",
    "if results.pvalue < alpha:\n",
    "    print('Отвергаем нулевую гипотезу')\n",
    "else:\n",
    "    print('Нет оснований отвергать нулевую гипотезу')"
   ]
  },
  {
   "cell_type": "markdown",
   "id": "bedbaec0",
   "metadata": {},
   "source": [
    "Помесячная выручка от пользователей с подпиской по месяцам будет выше, чем выручка от пользователей без подписки. \n",
    "Следовательно, стоит увеличить количество пользователей с подпиской с помощью акций."
   ]
  },
  {
   "cell_type": "markdown",
   "id": "bba1cd5e",
   "metadata": {},
   "source": [
    "##### Гипотеза №4\n",
    "\n",
    "Техническая команда сервиса обновила сервера, с которыми взаимодействует мобильное приложение. Она надеется, что из-за этого количество обращений в техподдержку значимо снизилось. Некоторый файл содержит для каждого пользователя данные о количестве обращений до обновления и после него. Какой тест вам понадобился бы для проверки этой гипотезы?\n",
    "\n",
    "Для проверки использовалась бы гипотеза о равенстве средних для зависимых (парных) выборок, тест scipy.stats.ttest_rel."
   ]
  },
  {
   "cell_type": "markdown",
   "id": "0de17569",
   "metadata": {},
   "source": [
    "##### Вывод\n",
    "1. Пользователи с подпиской тратят больше времени на поездки.\n",
    "2. Расстояние, которое проезжают пользователи с подпиской за одну поездку, не превышает 3130 метров. Значит, самокаты не будут изнашиваться слишком быстро. \n",
    "3. Помесячная выручка от пользователей с подпиской по месяцам будет выше, чем выручка от пользователей без подписки. Следовательно, стоит увеличить количество пользователей с подпиской с помощью акций.\n",
    "\n",
    "Выводы 1, 2 сделаны на основании проверки двусторонней гипотезы, вывод 3 - на основании проверки гипотезы о равенстве средних двух генеральных совокупностей."
   ]
  },
  {
   "cell_type": "markdown",
   "id": "24a3121b",
   "metadata": {},
   "source": [
    "#### Шаг 7. Общий вывод\n",
    "\n",
    "Были проведены следующие действия: выгружены данные из файлов в датасеты, датасеты проверены на пропуски и дубликаты, удалеены найденные дубликаты, три датасета объединены в один, построены и исследованы графики по необходимым показателям, рассчитана выручка, проверены гипотезы для принятия решений по увеличению прибыли.\n",
    "\n",
    "1. Столбец date приведен к типу даты pandas. Создан новый столбец month с номером месяца на основе столбца date.\n",
    "\n",
    "2. Удалены явные дубликаты из таблицы users.\n",
    "\n",
    "3. Указанные города Тюмень, Омск, Москва, Ростов-на-Дону, Краснодар, Пятигорск, Екатеринбург, Сочи встречаются в данных с приблизительно одинаковой частотой. Чаще всего встречается Пятигорск (226 пользователей указали данный город), реже всего - Москва (172 упоминания). Остальные города упоминаются 185-206 раз.\n",
    "\n",
    "4. Пользователей без подписки оказалось 54% от общего числа пользователей. Пользователей с подпиской немного меньше - 46%.\n",
    "\n",
    "Тип подписки | Доля от общего числа\n",
    ":----------- | :-------------------\n",
    "free         | 54%\n",
    "ultra        | 46%\n",
    "\n",
    "5. Возраст пользователей распределен нормально. Средний возраст пользователя равен 25 лет. Всего в данных встречаются пользователи в возрасте от 12 до 43 лет включительно. 95% пользователей будет в диапазоне 16-35 лет.\n",
    "\n",
    "6. На графике расстояния видно два пика:  3100 и 500  метров. Полагаю, пик в 500 метров связан с неработающими/плохо  работающими самокатами или же пользователями, передумавшими совершать поездку или просто желающими попробовать встать на самокат. То есть, скорее всего, эти поездки не являются полноценными. Если не смотреть на пик в 500 метров, то распределение расстояний похоже на нормальное с мат. ожиданием 3100 метров и стандартным отклонением около 1200 метров, то есть 95% полноценных поездок будут в диапазоне 800-5400 метров. Самые далекие поездки совершаются  на расстояние до 7000 метров.\n",
    "\n",
    "7. Три исходных датафрейма объединены в один с названием data. Данные о пользователях с подпиской выделены в датафрейм subscription_ultra, без подписки - subscription_free.\n",
    "\n",
    "8. Показатели duration (длительность поездки) для subscription_ultra и subscription_free нормально распределены. Гистограммы distance (расстояние поездки) для каждого типа подписки имеют два пика: в районе 500-1000 метров и 3000 метров. Если отбросить первый пик значений, то распределение станет похоже на нормальное.\n",
    "\n",
    "9. Средняя длительность поездки для обеих типов подписок 15-20 минут. 95% поездок имеют длительноть в пределах 5-30 минут, а самые длительные имеют продолжительность около 40 минут. \n",
    "\n",
    "10. Был создан датафрейм user_data, содержащий суммарное расстояние, количество поездок и суммарное время для каждого пользователя за каждый месяц. Значения столбца duration данного датафрейма были округлены в большую сторону. Добавлен столбец proceeds с помесячной выручкой с каждого пользователя. \n",
    "\n",
    "11. Пользователи с подпиской тратят больше времени на поездки.\n",
    "\n",
    "12. Среднее  расстояние, которое проезжают пользователи с подпиской за одну поездку, не превышает 3130 метров. Значит, самокаты не будут изнашиваться слишком быстро.\n",
    "\n",
    "13. Помесячная выручка от пользователей с подпиской по месяцам будет выше, чем выручка от пользователей без подписки. Следовательно, стоит увеличить количество пользователей с подпиской с помощью акций."
   ]
  },
  {
   "cell_type": "code",
   "execution_count": null,
   "id": "bf96c52b",
   "metadata": {},
   "outputs": [],
   "source": []
  }
 ],
 "metadata": {
  "ExecuteTimeLog": [
   {
    "duration": 55,
    "start_time": "2023-08-12T16:58:21.763Z"
   },
   {
    "duration": 418,
    "start_time": "2023-08-12T16:58:28.808Z"
   },
   {
    "duration": 97,
    "start_time": "2023-08-12T16:58:29.228Z"
   },
   {
    "duration": 86,
    "start_time": "2023-08-12T17:07:13.693Z"
   },
   {
    "duration": 73,
    "start_time": "2023-08-12T17:07:25.849Z"
   },
   {
    "duration": 431,
    "start_time": "2023-08-12T17:07:38.212Z"
   },
   {
    "duration": 44,
    "start_time": "2023-08-12T17:07:38.645Z"
   },
   {
    "duration": 35,
    "start_time": "2023-08-12T17:07:38.691Z"
   },
   {
    "duration": 24,
    "start_time": "2023-08-12T17:07:38.728Z"
   },
   {
    "duration": 413,
    "start_time": "2023-08-12T17:08:19.334Z"
   },
   {
    "duration": 42,
    "start_time": "2023-08-12T17:08:19.750Z"
   },
   {
    "duration": 53,
    "start_time": "2023-08-12T17:08:19.794Z"
   },
   {
    "duration": 36,
    "start_time": "2023-08-12T17:08:19.849Z"
   },
   {
    "duration": 12,
    "start_time": "2023-08-12T17:08:37.516Z"
   },
   {
    "duration": 446,
    "start_time": "2023-08-12T17:09:32.288Z"
   },
   {
    "duration": 44,
    "start_time": "2023-08-12T17:09:32.736Z"
   },
   {
    "duration": 50,
    "start_time": "2023-08-12T17:09:32.782Z"
   },
   {
    "duration": 95,
    "start_time": "2023-08-12T17:09:32.834Z"
   },
   {
    "duration": 12,
    "start_time": "2023-08-12T17:09:32.931Z"
   },
   {
    "duration": 120,
    "start_time": "2023-08-12T17:09:32.945Z"
   },
   {
    "duration": 125,
    "start_time": "2023-08-12T17:09:33.067Z"
   },
   {
    "duration": 16,
    "start_time": "2023-08-12T17:16:01.098Z"
   },
   {
    "duration": 130,
    "start_time": "2023-08-12T17:16:20.685Z"
   },
   {
    "duration": 16,
    "start_time": "2023-08-12T17:17:13.436Z"
   },
   {
    "duration": 15,
    "start_time": "2023-08-12T17:17:19.260Z"
   },
   {
    "duration": 17,
    "start_time": "2023-08-12T17:17:23.331Z"
   },
   {
    "duration": 1474,
    "start_time": "2023-08-12T17:19:11.765Z"
   },
   {
    "duration": 17,
    "start_time": "2023-08-12T17:19:20.616Z"
   },
   {
    "duration": 7,
    "start_time": "2023-08-12T17:21:08.837Z"
   },
   {
    "duration": 6,
    "start_time": "2023-08-12T17:21:29.111Z"
   },
   {
    "duration": 6,
    "start_time": "2023-08-12T17:21:41.103Z"
   },
   {
    "duration": 5,
    "start_time": "2023-08-12T17:37:20.371Z"
   },
   {
    "duration": 427,
    "start_time": "2023-08-12T17:38:40.892Z"
   },
   {
    "duration": 43,
    "start_time": "2023-08-12T17:38:41.321Z"
   },
   {
    "duration": 12,
    "start_time": "2023-08-12T17:38:41.366Z"
   },
   {
    "duration": 38,
    "start_time": "2023-08-12T17:38:41.380Z"
   },
   {
    "duration": 12,
    "start_time": "2023-08-12T17:38:41.420Z"
   },
   {
    "duration": 25,
    "start_time": "2023-08-12T17:38:41.434Z"
   },
   {
    "duration": 10,
    "start_time": "2023-08-12T17:38:41.461Z"
   },
   {
    "duration": 24,
    "start_time": "2023-08-12T17:38:41.473Z"
   },
   {
    "duration": 22,
    "start_time": "2023-08-12T17:38:41.499Z"
   },
   {
    "duration": 6,
    "start_time": "2023-08-12T17:38:41.525Z"
   },
   {
    "duration": 10,
    "start_time": "2023-08-12T17:38:41.532Z"
   },
   {
    "duration": 6,
    "start_time": "2023-08-12T17:38:41.543Z"
   },
   {
    "duration": 519,
    "start_time": "2023-08-12T17:40:28.738Z"
   },
   {
    "duration": 16,
    "start_time": "2023-08-12T17:40:36.223Z"
   },
   {
    "duration": 165,
    "start_time": "2023-08-12T17:40:48.907Z"
   },
   {
    "duration": 16,
    "start_time": "2023-08-12T17:41:03.923Z"
   },
   {
    "duration": 714,
    "start_time": "2023-08-12T17:41:22.401Z"
   },
   {
    "duration": 40,
    "start_time": "2023-08-12T17:41:23.117Z"
   },
   {
    "duration": 13,
    "start_time": "2023-08-12T17:41:23.158Z"
   },
   {
    "duration": 56,
    "start_time": "2023-08-12T17:41:23.173Z"
   },
   {
    "duration": 12,
    "start_time": "2023-08-12T17:41:23.232Z"
   },
   {
    "duration": 22,
    "start_time": "2023-08-12T17:41:23.247Z"
   },
   {
    "duration": 12,
    "start_time": "2023-08-12T17:41:23.271Z"
   },
   {
    "duration": 33,
    "start_time": "2023-08-12T17:41:23.285Z"
   },
   {
    "duration": 16,
    "start_time": "2023-08-12T17:41:23.320Z"
   },
   {
    "duration": 7,
    "start_time": "2023-08-12T17:41:23.339Z"
   },
   {
    "duration": 10,
    "start_time": "2023-08-12T17:41:23.348Z"
   },
   {
    "duration": 4,
    "start_time": "2023-08-12T17:41:23.359Z"
   },
   {
    "duration": 110,
    "start_time": "2023-08-12T17:41:23.365Z"
   },
   {
    "duration": 277,
    "start_time": "2023-08-12T17:46:36.497Z"
   },
   {
    "duration": 782,
    "start_time": "2023-08-12T17:46:52.276Z"
   },
   {
    "duration": 6,
    "start_time": "2023-08-12T17:47:38.863Z"
   },
   {
    "duration": 133,
    "start_time": "2023-08-12T17:47:51.791Z"
   },
   {
    "duration": 156,
    "start_time": "2023-08-12T17:47:58.610Z"
   },
   {
    "duration": 6,
    "start_time": "2023-08-12T17:48:08.543Z"
   },
   {
    "duration": 145,
    "start_time": "2023-08-12T17:49:05.464Z"
   },
   {
    "duration": 123,
    "start_time": "2023-08-12T17:52:05.100Z"
   },
   {
    "duration": 269,
    "start_time": "2023-08-12T17:53:14.703Z"
   },
   {
    "duration": 268,
    "start_time": "2023-08-12T17:54:33.387Z"
   },
   {
    "duration": 254,
    "start_time": "2023-08-12T17:54:52.808Z"
   },
   {
    "duration": 7,
    "start_time": "2023-08-12T17:55:03.862Z"
   },
   {
    "duration": 6,
    "start_time": "2023-08-12T17:55:49.826Z"
   },
   {
    "duration": 244,
    "start_time": "2023-08-12T17:55:57.150Z"
   },
   {
    "duration": 158,
    "start_time": "2023-08-12T17:57:32.901Z"
   },
   {
    "duration": 169,
    "start_time": "2023-08-12T17:59:39.358Z"
   },
   {
    "duration": 147,
    "start_time": "2023-08-12T17:59:52.841Z"
   },
   {
    "duration": 147,
    "start_time": "2023-08-12T18:00:07.659Z"
   },
   {
    "duration": 173,
    "start_time": "2023-08-12T18:00:19.308Z"
   },
   {
    "duration": 345,
    "start_time": "2023-08-12T18:01:11.951Z"
   },
   {
    "duration": 31,
    "start_time": "2023-08-12T18:27:39.651Z"
   },
   {
    "duration": 53,
    "start_time": "2023-08-12T18:27:56.091Z"
   },
   {
    "duration": 54,
    "start_time": "2023-08-12T18:29:55.333Z"
   },
   {
    "duration": 12,
    "start_time": "2023-08-12T18:30:43.664Z"
   },
   {
    "duration": 21,
    "start_time": "2023-08-12T18:30:52.183Z"
   },
   {
    "duration": 31,
    "start_time": "2023-08-12T18:31:33.938Z"
   },
   {
    "duration": 17,
    "start_time": "2023-08-12T18:31:49.814Z"
   },
   {
    "duration": 12,
    "start_time": "2023-08-12T18:32:15.598Z"
   },
   {
    "duration": 11,
    "start_time": "2023-08-12T18:32:23.985Z"
   },
   {
    "duration": 34,
    "start_time": "2023-08-12T18:32:53.426Z"
   },
   {
    "duration": 187,
    "start_time": "2023-08-12T18:33:44.192Z"
   },
   {
    "duration": 287,
    "start_time": "2023-08-12T18:34:05.427Z"
   },
   {
    "duration": 179,
    "start_time": "2023-08-12T18:36:42.853Z"
   },
   {
    "duration": 153,
    "start_time": "2023-08-12T18:36:49.128Z"
   },
   {
    "duration": 298,
    "start_time": "2023-08-12T18:38:01.997Z"
   },
   {
    "duration": 139,
    "start_time": "2023-08-12T18:40:56.355Z"
   },
   {
    "duration": 189,
    "start_time": "2023-08-12T18:42:22.124Z"
   },
   {
    "duration": 87,
    "start_time": "2023-08-12T18:44:47.718Z"
   },
   {
    "duration": 123,
    "start_time": "2023-08-12T18:44:53.810Z"
   },
   {
    "duration": 126,
    "start_time": "2023-08-12T18:45:07.058Z"
   },
   {
    "duration": 133,
    "start_time": "2023-08-12T18:45:13.143Z"
   },
   {
    "duration": 121,
    "start_time": "2023-08-12T18:45:17.522Z"
   },
   {
    "duration": 789,
    "start_time": "2023-08-14T11:33:47.913Z"
   },
   {
    "duration": 87,
    "start_time": "2023-08-14T11:33:48.704Z"
   },
   {
    "duration": 11,
    "start_time": "2023-08-14T11:33:48.793Z"
   },
   {
    "duration": 113,
    "start_time": "2023-08-14T11:33:48.805Z"
   },
   {
    "duration": 11,
    "start_time": "2023-08-14T11:33:48.920Z"
   },
   {
    "duration": 87,
    "start_time": "2023-08-14T11:33:48.932Z"
   },
   {
    "duration": 10,
    "start_time": "2023-08-14T11:33:49.020Z"
   },
   {
    "duration": 30,
    "start_time": "2023-08-14T11:33:49.032Z"
   },
   {
    "duration": 29,
    "start_time": "2023-08-14T11:33:49.063Z"
   },
   {
    "duration": 27,
    "start_time": "2023-08-14T11:33:49.093Z"
   },
   {
    "duration": 71,
    "start_time": "2023-08-14T11:33:49.122Z"
   },
   {
    "duration": 61,
    "start_time": "2023-08-14T11:33:49.195Z"
   },
   {
    "duration": 188,
    "start_time": "2023-08-14T11:33:49.257Z"
   },
   {
    "duration": 109,
    "start_time": "2023-08-14T11:33:49.447Z"
   },
   {
    "duration": 279,
    "start_time": "2023-08-14T11:33:49.558Z"
   },
   {
    "duration": 157,
    "start_time": "2023-08-14T11:33:49.839Z"
   },
   {
    "duration": 204,
    "start_time": "2023-08-14T11:33:49.998Z"
   },
   {
    "duration": 31,
    "start_time": "2023-08-14T11:33:50.204Z"
   },
   {
    "duration": 49,
    "start_time": "2023-08-14T11:33:50.238Z"
   },
   {
    "duration": 53,
    "start_time": "2023-08-14T11:33:50.290Z"
   },
   {
    "duration": 208,
    "start_time": "2023-08-14T11:33:50.345Z"
   },
   {
    "duration": 247,
    "start_time": "2023-08-14T11:33:50.555Z"
   },
   {
    "duration": 155,
    "start_time": "2023-08-14T12:19:29.385Z"
   },
   {
    "duration": 159,
    "start_time": "2023-08-14T12:19:42.788Z"
   },
   {
    "duration": 197,
    "start_time": "2023-08-14T12:45:44.578Z"
   },
   {
    "duration": 188,
    "start_time": "2023-08-14T12:45:46.209Z"
   },
   {
    "duration": 144,
    "start_time": "2023-08-14T12:46:46.190Z"
   },
   {
    "duration": 182,
    "start_time": "2023-08-14T12:46:57.014Z"
   },
   {
    "duration": 283,
    "start_time": "2023-08-14T12:47:03.286Z"
   },
   {
    "duration": 150,
    "start_time": "2023-08-14T12:47:43.887Z"
   },
   {
    "duration": 142,
    "start_time": "2023-08-14T12:47:45.584Z"
   },
   {
    "duration": 8,
    "start_time": "2023-08-14T13:07:04.475Z"
   },
   {
    "duration": 4,
    "start_time": "2023-08-14T13:07:43.262Z"
   },
   {
    "duration": 9,
    "start_time": "2023-08-14T13:07:49.377Z"
   },
   {
    "duration": 12,
    "start_time": "2023-08-14T13:09:45.483Z"
   },
   {
    "duration": 75,
    "start_time": "2023-08-14T13:10:19.565Z"
   },
   {
    "duration": 8,
    "start_time": "2023-08-14T13:10:28.875Z"
   },
   {
    "duration": 11,
    "start_time": "2023-08-14T13:10:33.061Z"
   },
   {
    "duration": 95,
    "start_time": "2023-08-14T13:12:54.336Z"
   },
   {
    "duration": 21,
    "start_time": "2023-08-14T13:13:50.685Z"
   },
   {
    "duration": 20,
    "start_time": "2023-08-14T13:15:35.817Z"
   },
   {
    "duration": 20,
    "start_time": "2023-08-14T13:15:49.361Z"
   },
   {
    "duration": 20,
    "start_time": "2023-08-14T13:16:17.335Z"
   },
   {
    "duration": 11,
    "start_time": "2023-08-14T13:16:37.485Z"
   },
   {
    "duration": 19,
    "start_time": "2023-08-14T13:16:41.834Z"
   },
   {
    "duration": 20,
    "start_time": "2023-08-14T13:16:44.501Z"
   },
   {
    "duration": 11,
    "start_time": "2023-08-14T13:16:49.464Z"
   },
   {
    "duration": 19,
    "start_time": "2023-08-14T13:19:37.992Z"
   },
   {
    "duration": 10,
    "start_time": "2023-08-14T13:20:21.684Z"
   },
   {
    "duration": 20,
    "start_time": "2023-08-14T13:20:25.760Z"
   },
   {
    "duration": 10,
    "start_time": "2023-08-14T13:20:33.203Z"
   },
   {
    "duration": 21,
    "start_time": "2023-08-14T13:21:24.330Z"
   },
   {
    "duration": 7,
    "start_time": "2023-08-14T14:03:08.050Z"
   },
   {
    "duration": 684,
    "start_time": "2023-08-14T14:03:13.176Z"
   },
   {
    "duration": 40,
    "start_time": "2023-08-14T14:03:13.862Z"
   },
   {
    "duration": 12,
    "start_time": "2023-08-14T14:03:13.904Z"
   },
   {
    "duration": 58,
    "start_time": "2023-08-14T14:03:13.918Z"
   },
   {
    "duration": 10,
    "start_time": "2023-08-14T14:03:13.978Z"
   },
   {
    "duration": 19,
    "start_time": "2023-08-14T14:03:13.990Z"
   },
   {
    "duration": 19,
    "start_time": "2023-08-14T14:03:14.011Z"
   },
   {
    "duration": 15,
    "start_time": "2023-08-14T14:03:14.032Z"
   },
   {
    "duration": 12,
    "start_time": "2023-08-14T14:03:14.049Z"
   },
   {
    "duration": 19,
    "start_time": "2023-08-14T14:03:14.064Z"
   },
   {
    "duration": 34,
    "start_time": "2023-08-14T14:03:14.084Z"
   },
   {
    "duration": 15,
    "start_time": "2023-08-14T14:03:14.120Z"
   },
   {
    "duration": 156,
    "start_time": "2023-08-14T14:03:14.137Z"
   },
   {
    "duration": 124,
    "start_time": "2023-08-14T14:03:14.295Z"
   },
   {
    "duration": 244,
    "start_time": "2023-08-14T14:03:14.420Z"
   },
   {
    "duration": 155,
    "start_time": "2023-08-14T14:03:14.666Z"
   },
   {
    "duration": 208,
    "start_time": "2023-08-14T14:03:14.823Z"
   },
   {
    "duration": 40,
    "start_time": "2023-08-14T14:03:15.033Z"
   },
   {
    "duration": 29,
    "start_time": "2023-08-14T14:03:15.075Z"
   },
   {
    "duration": 23,
    "start_time": "2023-08-14T14:03:15.107Z"
   },
   {
    "duration": 163,
    "start_time": "2023-08-14T14:03:15.132Z"
   },
   {
    "duration": 161,
    "start_time": "2023-08-14T14:03:15.297Z"
   },
   {
    "duration": 29,
    "start_time": "2023-08-14T14:03:15.459Z"
   },
   {
    "duration": 14,
    "start_time": "2023-08-14T14:03:15.490Z"
   },
   {
    "duration": 78,
    "start_time": "2023-08-14T14:08:27.520Z"
   },
   {
    "duration": 8,
    "start_time": "2023-08-14T14:08:56.702Z"
   },
   {
    "duration": 8,
    "start_time": "2023-08-14T14:10:36.918Z"
   },
   {
    "duration": 8,
    "start_time": "2023-08-14T14:10:51.485Z"
   },
   {
    "duration": 5,
    "start_time": "2023-08-14T14:10:59.606Z"
   },
   {
    "duration": 8,
    "start_time": "2023-08-14T14:11:13.322Z"
   },
   {
    "duration": 5,
    "start_time": "2023-08-14T14:11:18.717Z"
   },
   {
    "duration": 8,
    "start_time": "2023-08-14T14:12:29.707Z"
   },
   {
    "duration": 6,
    "start_time": "2023-08-14T14:13:30.254Z"
   },
   {
    "duration": 2344,
    "start_time": "2023-08-14T14:13:40.785Z"
   },
   {
    "duration": 2310,
    "start_time": "2023-08-14T14:13:55.327Z"
   },
   {
    "duration": 7,
    "start_time": "2023-08-14T14:16:14.154Z"
   },
   {
    "duration": 9,
    "start_time": "2023-08-14T14:16:24.021Z"
   },
   {
    "duration": 10,
    "start_time": "2023-08-14T14:16:37.050Z"
   },
   {
    "duration": 7,
    "start_time": "2023-08-14T14:16:52.626Z"
   },
   {
    "duration": 10,
    "start_time": "2023-08-14T14:17:00.963Z"
   },
   {
    "duration": 13,
    "start_time": "2023-08-14T14:17:55.267Z"
   },
   {
    "duration": 92,
    "start_time": "2023-08-14T14:18:02.607Z"
   },
   {
    "duration": 15,
    "start_time": "2023-08-14T14:18:07.904Z"
   },
   {
    "duration": 17,
    "start_time": "2023-08-14T15:02:29.746Z"
   },
   {
    "duration": 1741,
    "start_time": "2023-08-14T15:03:12.067Z"
   },
   {
    "duration": 1378,
    "start_time": "2023-08-14T15:03:22.356Z"
   },
   {
    "duration": 16,
    "start_time": "2023-08-14T15:04:40.401Z"
   },
   {
    "duration": 1576,
    "start_time": "2023-08-14T15:06:38.458Z"
   },
   {
    "duration": 1417,
    "start_time": "2023-08-14T15:06:52.694Z"
   },
   {
    "duration": 1598,
    "start_time": "2023-08-14T15:07:18.768Z"
   },
   {
    "duration": 1416,
    "start_time": "2023-08-14T15:07:31.455Z"
   },
   {
    "duration": 7,
    "start_time": "2023-08-14T15:07:45.386Z"
   },
   {
    "duration": 1546,
    "start_time": "2023-08-14T15:07:58.955Z"
   },
   {
    "duration": 1334,
    "start_time": "2023-08-14T15:08:40.245Z"
   },
   {
    "duration": 12,
    "start_time": "2023-08-14T15:09:08.050Z"
   },
   {
    "duration": 2390,
    "start_time": "2023-08-14T15:10:05.591Z"
   },
   {
    "duration": 1314,
    "start_time": "2023-08-14T15:10:25.124Z"
   },
   {
    "duration": 25,
    "start_time": "2023-08-14T15:14:37.567Z"
   },
   {
    "duration": 22,
    "start_time": "2023-08-14T15:14:52.086Z"
   },
   {
    "duration": 21,
    "start_time": "2023-08-14T15:16:11.424Z"
   },
   {
    "duration": 22,
    "start_time": "2023-08-14T15:16:25.303Z"
   },
   {
    "duration": 7,
    "start_time": "2023-08-14T15:17:43.830Z"
   },
   {
    "duration": 4090,
    "start_time": "2023-08-14T15:17:56.258Z"
   },
   {
    "duration": 15,
    "start_time": "2023-08-14T15:19:19.734Z"
   },
   {
    "duration": 11,
    "start_time": "2023-08-14T15:19:25.439Z"
   },
   {
    "duration": 1274,
    "start_time": "2023-08-14T15:19:31.926Z"
   },
   {
    "duration": 6,
    "start_time": "2023-08-14T15:19:50.330Z"
   },
   {
    "duration": 10,
    "start_time": "2023-08-14T15:19:58.067Z"
   },
   {
    "duration": 6,
    "start_time": "2023-08-14T15:20:01.861Z"
   },
   {
    "duration": 1351,
    "start_time": "2023-08-14T15:22:22.164Z"
   },
   {
    "duration": 7,
    "start_time": "2023-08-14T15:23:18.566Z"
   },
   {
    "duration": 1519,
    "start_time": "2023-08-14T15:23:51.269Z"
   },
   {
    "duration": 10,
    "start_time": "2023-08-14T15:24:08.429Z"
   },
   {
    "duration": 1302,
    "start_time": "2023-08-14T15:26:12.215Z"
   },
   {
    "duration": 5,
    "start_time": "2023-08-14T15:26:54.131Z"
   },
   {
    "duration": 3457,
    "start_time": "2023-08-14T15:27:08.569Z"
   },
   {
    "duration": 8,
    "start_time": "2023-08-14T15:35:08.405Z"
   },
   {
    "duration": 6,
    "start_time": "2023-08-14T15:35:18.645Z"
   },
   {
    "duration": 1402,
    "start_time": "2023-08-14T15:43:21.027Z"
   },
   {
    "duration": 1431,
    "start_time": "2023-08-14T15:43:30.018Z"
   },
   {
    "duration": 1333,
    "start_time": "2023-08-14T15:43:37.071Z"
   },
   {
    "duration": 1371,
    "start_time": "2023-08-14T15:43:42.759Z"
   },
   {
    "duration": 188,
    "start_time": "2023-08-14T15:45:13.278Z"
   },
   {
    "duration": 1476,
    "start_time": "2023-08-14T15:45:17.613Z"
   },
   {
    "duration": 1184,
    "start_time": "2023-08-14T15:45:57.393Z"
   },
   {
    "duration": 1241,
    "start_time": "2023-08-14T15:46:03.724Z"
   },
   {
    "duration": 1209,
    "start_time": "2023-08-14T15:49:18.198Z"
   },
   {
    "duration": 1162,
    "start_time": "2023-08-14T15:49:26.316Z"
   },
   {
    "duration": 1149,
    "start_time": "2023-08-14T15:50:05.718Z"
   },
   {
    "duration": 1114,
    "start_time": "2023-08-14T15:50:10.407Z"
   },
   {
    "duration": 3024,
    "start_time": "2023-08-14T15:50:42.881Z"
   },
   {
    "duration": 1617,
    "start_time": "2023-08-14T15:50:48.506Z"
   },
   {
    "duration": 1614,
    "start_time": "2023-08-14T15:50:52.614Z"
   },
   {
    "duration": 3098,
    "start_time": "2023-08-14T15:51:04.959Z"
   },
   {
    "duration": 1609,
    "start_time": "2023-08-14T15:53:07.659Z"
   },
   {
    "duration": 1652,
    "start_time": "2023-08-14T15:53:18.415Z"
   },
   {
    "duration": 1377,
    "start_time": "2023-08-14T15:53:25.891Z"
   },
   {
    "duration": 1354,
    "start_time": "2023-08-14T15:53:36.121Z"
   },
   {
    "duration": 1359,
    "start_time": "2023-08-14T15:53:43.619Z"
   },
   {
    "duration": 1366,
    "start_time": "2023-08-14T15:53:52.687Z"
   },
   {
    "duration": 1434,
    "start_time": "2023-08-14T15:54:14.697Z"
   },
   {
    "duration": 1417,
    "start_time": "2023-08-14T15:54:33.516Z"
   },
   {
    "duration": 2036,
    "start_time": "2023-08-14T15:57:33.703Z"
   },
   {
    "duration": 9486,
    "start_time": "2023-08-14T15:57:38.154Z"
   },
   {
    "duration": 1989,
    "start_time": "2023-08-14T15:57:53.306Z"
   },
   {
    "duration": 235,
    "start_time": "2023-08-14T15:58:43.032Z"
   },
   {
    "duration": 757,
    "start_time": "2023-08-14T15:58:54.361Z"
   },
   {
    "duration": 751,
    "start_time": "2023-08-14T15:59:04.337Z"
   },
   {
    "duration": 12,
    "start_time": "2023-08-14T15:59:51.899Z"
   },
   {
    "duration": 22,
    "start_time": "2023-08-14T16:00:00.972Z"
   },
   {
    "duration": 1045,
    "start_time": "2023-08-14T16:00:16.406Z"
   },
   {
    "duration": 3,
    "start_time": "2023-08-14T16:02:28.070Z"
   },
   {
    "duration": 8,
    "start_time": "2023-08-14T16:04:08.136Z"
   },
   {
    "duration": 10,
    "start_time": "2023-08-14T16:04:12.053Z"
   },
   {
    "duration": 659,
    "start_time": "2023-08-14T16:04:19.667Z"
   },
   {
    "duration": 38,
    "start_time": "2023-08-14T16:04:20.328Z"
   },
   {
    "duration": 11,
    "start_time": "2023-08-14T16:04:20.368Z"
   },
   {
    "duration": 46,
    "start_time": "2023-08-14T16:04:20.381Z"
   },
   {
    "duration": 11,
    "start_time": "2023-08-14T16:04:20.430Z"
   },
   {
    "duration": 35,
    "start_time": "2023-08-14T16:04:20.442Z"
   },
   {
    "duration": 15,
    "start_time": "2023-08-14T16:04:20.479Z"
   },
   {
    "duration": 24,
    "start_time": "2023-08-14T16:04:20.495Z"
   },
   {
    "duration": 14,
    "start_time": "2023-08-14T16:04:20.521Z"
   },
   {
    "duration": 8,
    "start_time": "2023-08-14T16:04:20.536Z"
   },
   {
    "duration": 23,
    "start_time": "2023-08-14T16:04:20.545Z"
   },
   {
    "duration": 27,
    "start_time": "2023-08-14T16:04:20.570Z"
   },
   {
    "duration": 168,
    "start_time": "2023-08-14T16:04:20.598Z"
   },
   {
    "duration": 103,
    "start_time": "2023-08-14T16:04:20.768Z"
   },
   {
    "duration": 228,
    "start_time": "2023-08-14T16:04:20.873Z"
   },
   {
    "duration": 195,
    "start_time": "2023-08-14T16:04:21.102Z"
   },
   {
    "duration": 134,
    "start_time": "2023-08-14T16:04:21.299Z"
   },
   {
    "duration": 30,
    "start_time": "2023-08-14T16:04:21.435Z"
   },
   {
    "duration": 29,
    "start_time": "2023-08-14T16:04:21.467Z"
   },
   {
    "duration": 8,
    "start_time": "2023-08-14T16:04:21.498Z"
   },
   {
    "duration": 153,
    "start_time": "2023-08-14T16:04:21.507Z"
   },
   {
    "duration": 159,
    "start_time": "2023-08-14T16:04:21.662Z"
   },
   {
    "duration": 20,
    "start_time": "2023-08-14T16:04:21.823Z"
   },
   {
    "duration": 81,
    "start_time": "2023-08-14T16:04:21.845Z"
   },
   {
    "duration": 8,
    "start_time": "2023-08-14T16:04:24.837Z"
   },
   {
    "duration": 7,
    "start_time": "2023-08-14T16:04:28.756Z"
   },
   {
    "duration": 29,
    "start_time": "2023-08-14T16:08:00.553Z"
   },
   {
    "duration": 37,
    "start_time": "2023-08-14T16:08:24.886Z"
   },
   {
    "duration": 29,
    "start_time": "2023-08-14T16:08:34.999Z"
   },
   {
    "duration": 28,
    "start_time": "2023-08-14T16:09:00.879Z"
   },
   {
    "duration": 25,
    "start_time": "2023-08-14T16:12:47.168Z"
   },
   {
    "duration": 1133,
    "start_time": "2023-08-14T17:06:18.903Z"
   },
   {
    "duration": 40,
    "start_time": "2023-08-14T17:06:20.038Z"
   },
   {
    "duration": 10,
    "start_time": "2023-08-14T17:06:20.079Z"
   },
   {
    "duration": 50,
    "start_time": "2023-08-14T17:06:20.090Z"
   },
   {
    "duration": 9,
    "start_time": "2023-08-14T17:06:20.141Z"
   },
   {
    "duration": 21,
    "start_time": "2023-08-14T17:06:20.152Z"
   },
   {
    "duration": 9,
    "start_time": "2023-08-14T17:06:20.174Z"
   },
   {
    "duration": 20,
    "start_time": "2023-08-14T17:06:20.184Z"
   },
   {
    "duration": 28,
    "start_time": "2023-08-14T17:06:20.205Z"
   },
   {
    "duration": 24,
    "start_time": "2023-08-14T17:06:20.235Z"
   },
   {
    "duration": 19,
    "start_time": "2023-08-14T17:06:20.260Z"
   },
   {
    "duration": 63,
    "start_time": "2023-08-14T17:06:20.280Z"
   },
   {
    "duration": 143,
    "start_time": "2023-08-14T17:06:20.345Z"
   },
   {
    "duration": 109,
    "start_time": "2023-08-14T17:06:20.490Z"
   },
   {
    "duration": 234,
    "start_time": "2023-08-14T17:06:20.601Z"
   },
   {
    "duration": 152,
    "start_time": "2023-08-14T17:06:20.836Z"
   },
   {
    "duration": 128,
    "start_time": "2023-08-14T17:06:20.990Z"
   },
   {
    "duration": 29,
    "start_time": "2023-08-14T17:06:21.120Z"
   },
   {
    "duration": 20,
    "start_time": "2023-08-14T17:06:21.150Z"
   },
   {
    "duration": 64,
    "start_time": "2023-08-14T17:06:21.172Z"
   },
   {
    "duration": 208,
    "start_time": "2023-08-14T17:06:21.238Z"
   },
   {
    "duration": 141,
    "start_time": "2023-08-14T17:06:21.448Z"
   },
   {
    "duration": 19,
    "start_time": "2023-08-14T17:06:21.590Z"
   },
   {
    "duration": 31,
    "start_time": "2023-08-14T17:06:21.611Z"
   },
   {
    "duration": 5,
    "start_time": "2023-08-14T17:11:20.774Z"
   },
   {
    "duration": 5,
    "start_time": "2023-08-14T17:12:09.212Z"
   },
   {
    "duration": 100,
    "start_time": "2023-08-14T17:13:01.941Z"
   },
   {
    "duration": 21,
    "start_time": "2023-08-14T17:13:17.287Z"
   },
   {
    "duration": 14,
    "start_time": "2023-08-14T17:13:25.806Z"
   },
   {
    "duration": 25,
    "start_time": "2023-08-14T17:13:29.738Z"
   },
   {
    "duration": 5,
    "start_time": "2023-08-14T17:14:29.441Z"
   },
   {
    "duration": 10,
    "start_time": "2023-08-14T17:15:09.782Z"
   },
   {
    "duration": 9,
    "start_time": "2023-08-14T17:15:20.063Z"
   },
   {
    "duration": 10,
    "start_time": "2023-08-14T17:15:33.044Z"
   },
   {
    "duration": 7,
    "start_time": "2023-08-14T17:18:51.853Z"
   },
   {
    "duration": 83,
    "start_time": "2023-08-14T17:21:16.860Z"
   },
   {
    "duration": 5,
    "start_time": "2023-08-14T17:40:54.196Z"
   },
   {
    "duration": 86,
    "start_time": "2023-08-14T17:42:49.855Z"
   },
   {
    "duration": 1254,
    "start_time": "2023-08-14T18:00:17.494Z"
   },
   {
    "duration": 4,
    "start_time": "2023-08-14T18:00:50.265Z"
   },
   {
    "duration": 9,
    "start_time": "2023-08-14T18:00:55.988Z"
   },
   {
    "duration": 8,
    "start_time": "2023-08-14T18:01:05.843Z"
   },
   {
    "duration": 10,
    "start_time": "2023-08-14T18:02:14.962Z"
   },
   {
    "duration": 5,
    "start_time": "2023-08-14T18:02:20.402Z"
   },
   {
    "duration": 1647,
    "start_time": "2023-08-14T18:02:29.707Z"
   },
   {
    "duration": 3,
    "start_time": "2023-08-14T18:02:38.002Z"
   },
   {
    "duration": 4,
    "start_time": "2023-08-14T18:02:43.676Z"
   },
   {
    "duration": 4,
    "start_time": "2023-08-14T18:02:49.516Z"
   },
   {
    "duration": 84,
    "start_time": "2023-08-14T18:02:57.587Z"
   },
   {
    "duration": 4,
    "start_time": "2023-08-14T18:03:01.711Z"
   },
   {
    "duration": 4,
    "start_time": "2023-08-14T18:03:11.473Z"
   },
   {
    "duration": 4,
    "start_time": "2023-08-14T18:06:29.860Z"
   },
   {
    "duration": 4,
    "start_time": "2023-08-14T18:06:37.454Z"
   },
   {
    "duration": 71,
    "start_time": "2023-08-14T18:06:55.494Z"
   },
   {
    "duration": 1337,
    "start_time": "2023-08-14T18:08:38.260Z"
   },
   {
    "duration": 27,
    "start_time": "2023-08-14T18:08:43.112Z"
   },
   {
    "duration": 10,
    "start_time": "2023-08-14T18:09:24.537Z"
   },
   {
    "duration": 30,
    "start_time": "2023-08-14T18:09:38.886Z"
   },
   {
    "duration": 18,
    "start_time": "2023-08-14T18:09:49.127Z"
   },
   {
    "duration": 26,
    "start_time": "2023-08-14T18:10:11.054Z"
   },
   {
    "duration": 632,
    "start_time": "2023-08-14T18:11:53.532Z"
   },
   {
    "duration": 31,
    "start_time": "2023-08-14T18:12:16.073Z"
   },
   {
    "duration": 10,
    "start_time": "2023-08-14T18:14:02.833Z"
   },
   {
    "duration": 31,
    "start_time": "2023-08-14T18:15:25.470Z"
   },
   {
    "duration": 1124,
    "start_time": "2023-08-14T18:15:34.608Z"
   },
   {
    "duration": 39,
    "start_time": "2023-08-14T18:15:35.734Z"
   },
   {
    "duration": 11,
    "start_time": "2023-08-14T18:15:35.774Z"
   },
   {
    "duration": 86,
    "start_time": "2023-08-14T18:15:35.787Z"
   },
   {
    "duration": 12,
    "start_time": "2023-08-14T18:15:35.874Z"
   },
   {
    "duration": 45,
    "start_time": "2023-08-14T18:15:35.888Z"
   },
   {
    "duration": 13,
    "start_time": "2023-08-14T18:15:35.935Z"
   },
   {
    "duration": 38,
    "start_time": "2023-08-14T18:15:35.950Z"
   },
   {
    "duration": 28,
    "start_time": "2023-08-14T18:15:35.990Z"
   },
   {
    "duration": 25,
    "start_time": "2023-08-14T18:15:36.022Z"
   },
   {
    "duration": 19,
    "start_time": "2023-08-14T18:15:36.049Z"
   },
   {
    "duration": 6,
    "start_time": "2023-08-14T18:15:36.070Z"
   },
   {
    "duration": 150,
    "start_time": "2023-08-14T18:15:36.077Z"
   },
   {
    "duration": 112,
    "start_time": "2023-08-14T18:15:36.228Z"
   },
   {
    "duration": 238,
    "start_time": "2023-08-14T18:15:36.341Z"
   },
   {
    "duration": 163,
    "start_time": "2023-08-14T18:15:36.581Z"
   },
   {
    "duration": 161,
    "start_time": "2023-08-14T18:15:36.746Z"
   },
   {
    "duration": 30,
    "start_time": "2023-08-14T18:15:36.909Z"
   },
   {
    "duration": 10,
    "start_time": "2023-08-14T18:15:36.940Z"
   },
   {
    "duration": 35,
    "start_time": "2023-08-14T18:15:36.952Z"
   },
   {
    "duration": 152,
    "start_time": "2023-08-14T18:15:36.988Z"
   },
   {
    "duration": 148,
    "start_time": "2023-08-14T18:15:37.141Z"
   },
   {
    "duration": 20,
    "start_time": "2023-08-14T18:15:37.291Z"
   },
   {
    "duration": 111,
    "start_time": "2023-08-14T18:15:37.313Z"
   },
   {
    "duration": 0,
    "start_time": "2023-08-14T18:15:37.425Z"
   },
   {
    "duration": 0,
    "start_time": "2023-08-14T18:15:37.426Z"
   },
   {
    "duration": 0,
    "start_time": "2023-08-14T18:15:37.428Z"
   },
   {
    "duration": 0,
    "start_time": "2023-08-14T18:15:37.429Z"
   },
   {
    "duration": 27,
    "start_time": "2023-08-14T18:15:57.087Z"
   },
   {
    "duration": 6,
    "start_time": "2023-08-14T18:16:04.774Z"
   },
   {
    "duration": 5,
    "start_time": "2023-08-14T18:16:06.388Z"
   },
   {
    "duration": 596,
    "start_time": "2023-08-14T18:19:34.627Z"
   },
   {
    "duration": 1274,
    "start_time": "2023-08-14T18:20:28.166Z"
   },
   {
    "duration": 1586,
    "start_time": "2023-08-14T18:20:47.018Z"
   },
   {
    "duration": 1697,
    "start_time": "2023-08-14T18:20:57.758Z"
   },
   {
    "duration": 708,
    "start_time": "2023-08-14T18:21:04.733Z"
   },
   {
    "duration": 1684,
    "start_time": "2023-08-14T18:21:36.478Z"
   },
   {
    "duration": 12,
    "start_time": "2023-08-14T18:21:47.285Z"
   },
   {
    "duration": 1632,
    "start_time": "2023-08-14T18:21:55.885Z"
   },
   {
    "duration": 12,
    "start_time": "2023-08-14T18:22:54.105Z"
   },
   {
    "duration": 12,
    "start_time": "2023-08-14T18:23:02.266Z"
   },
   {
    "duration": 10,
    "start_time": "2023-08-14T18:23:21.270Z"
   },
   {
    "duration": 10,
    "start_time": "2023-08-14T18:23:40.778Z"
   },
   {
    "duration": 28,
    "start_time": "2023-08-14T18:23:53.507Z"
   },
   {
    "duration": 18,
    "start_time": "2023-08-14T18:24:39.069Z"
   },
   {
    "duration": 30,
    "start_time": "2023-08-14T18:25:47.714Z"
   },
   {
    "duration": 1032,
    "start_time": "2023-08-14T18:25:52.500Z"
   },
   {
    "duration": 41,
    "start_time": "2023-08-14T18:25:53.534Z"
   },
   {
    "duration": 54,
    "start_time": "2023-08-14T18:25:53.576Z"
   },
   {
    "duration": 72,
    "start_time": "2023-08-14T18:25:53.631Z"
   },
   {
    "duration": 11,
    "start_time": "2023-08-14T18:25:53.705Z"
   },
   {
    "duration": 36,
    "start_time": "2023-08-14T18:25:53.717Z"
   },
   {
    "duration": 20,
    "start_time": "2023-08-14T18:25:53.754Z"
   },
   {
    "duration": 61,
    "start_time": "2023-08-14T18:25:53.775Z"
   },
   {
    "duration": 97,
    "start_time": "2023-08-14T18:25:53.838Z"
   },
   {
    "duration": 73,
    "start_time": "2023-08-14T18:25:53.937Z"
   },
   {
    "duration": 226,
    "start_time": "2023-08-14T18:25:54.012Z"
   },
   {
    "duration": 52,
    "start_time": "2023-08-14T18:25:54.240Z"
   },
   {
    "duration": 219,
    "start_time": "2023-08-14T18:25:54.294Z"
   },
   {
    "duration": 117,
    "start_time": "2023-08-14T18:25:54.517Z"
   },
   {
    "duration": 266,
    "start_time": "2023-08-14T18:25:54.636Z"
   },
   {
    "duration": 192,
    "start_time": "2023-08-14T18:25:54.904Z"
   },
   {
    "duration": 132,
    "start_time": "2023-08-14T18:25:55.098Z"
   },
   {
    "duration": 32,
    "start_time": "2023-08-14T18:25:55.232Z"
   },
   {
    "duration": 40,
    "start_time": "2023-08-14T18:25:55.265Z"
   },
   {
    "duration": 256,
    "start_time": "2023-08-14T18:25:55.306Z"
   },
   {
    "duration": 197,
    "start_time": "2023-08-14T18:25:55.564Z"
   },
   {
    "duration": 149,
    "start_time": "2023-08-14T18:25:55.763Z"
   },
   {
    "duration": 19,
    "start_time": "2023-08-14T18:25:55.914Z"
   },
   {
    "duration": 122,
    "start_time": "2023-08-14T18:25:55.935Z"
   },
   {
    "duration": 5,
    "start_time": "2023-08-14T18:25:56.058Z"
   },
   {
    "duration": 205,
    "start_time": "2023-08-14T18:25:56.064Z"
   },
   {
    "duration": 112,
    "start_time": "2023-08-14T18:25:56.271Z"
   },
   {
    "duration": 0,
    "start_time": "2023-08-14T18:25:56.385Z"
   },
   {
    "duration": 100,
    "start_time": "2023-08-14T18:26:20.516Z"
   },
   {
    "duration": 13,
    "start_time": "2023-08-14T18:26:36.710Z"
   },
   {
    "duration": 3,
    "start_time": "2023-08-14T18:47:55.462Z"
   },
   {
    "duration": 5,
    "start_time": "2023-08-14T18:49:33.827Z"
   },
   {
    "duration": 2839,
    "start_time": "2023-08-14T18:50:00.796Z"
   },
   {
    "duration": 697,
    "start_time": "2023-08-14T18:51:24.489Z"
   },
   {
    "duration": 630,
    "start_time": "2023-08-14T18:51:32.616Z"
   },
   {
    "duration": 15,
    "start_time": "2023-08-14T18:58:16.191Z"
   },
   {
    "duration": 25,
    "start_time": "2023-08-14T18:59:55.277Z"
   },
   {
    "duration": 11,
    "start_time": "2023-08-14T19:04:56.379Z"
   },
   {
    "duration": 20,
    "start_time": "2023-08-14T19:05:25.451Z"
   },
   {
    "duration": 25,
    "start_time": "2023-08-14T19:06:05.309Z"
   },
   {
    "duration": 47,
    "start_time": "2023-08-14T19:07:46.615Z"
   },
   {
    "duration": 1122,
    "start_time": "2023-08-14T19:07:52.194Z"
   },
   {
    "duration": 87,
    "start_time": "2023-08-14T19:07:53.318Z"
   },
   {
    "duration": 10,
    "start_time": "2023-08-14T19:07:53.407Z"
   },
   {
    "duration": 126,
    "start_time": "2023-08-14T19:07:53.418Z"
   },
   {
    "duration": 10,
    "start_time": "2023-08-14T19:07:53.546Z"
   },
   {
    "duration": 57,
    "start_time": "2023-08-14T19:07:53.558Z"
   },
   {
    "duration": 9,
    "start_time": "2023-08-14T19:07:53.617Z"
   },
   {
    "duration": 9,
    "start_time": "2023-08-14T19:07:53.628Z"
   },
   {
    "duration": 11,
    "start_time": "2023-08-14T19:07:53.638Z"
   },
   {
    "duration": 14,
    "start_time": "2023-08-14T19:07:53.650Z"
   },
   {
    "duration": 7,
    "start_time": "2023-08-14T19:07:53.666Z"
   },
   {
    "duration": 13,
    "start_time": "2023-08-14T19:07:53.674Z"
   },
   {
    "duration": 135,
    "start_time": "2023-08-14T19:07:53.688Z"
   },
   {
    "duration": 112,
    "start_time": "2023-08-14T19:07:53.825Z"
   },
   {
    "duration": 230,
    "start_time": "2023-08-14T19:07:53.939Z"
   },
   {
    "duration": 161,
    "start_time": "2023-08-14T19:07:54.171Z"
   },
   {
    "duration": 138,
    "start_time": "2023-08-14T19:07:54.333Z"
   },
   {
    "duration": 41,
    "start_time": "2023-08-14T19:07:54.472Z"
   },
   {
    "duration": 30,
    "start_time": "2023-08-14T19:07:54.515Z"
   },
   {
    "duration": 61,
    "start_time": "2023-08-14T19:07:54.547Z"
   },
   {
    "duration": 218,
    "start_time": "2023-08-14T19:07:54.610Z"
   },
   {
    "duration": 167,
    "start_time": "2023-08-14T19:07:54.829Z"
   },
   {
    "duration": 27,
    "start_time": "2023-08-14T19:07:54.998Z"
   },
   {
    "duration": 1500,
    "start_time": "2023-08-14T19:07:55.028Z"
   },
   {
    "duration": 0,
    "start_time": "2023-08-14T19:07:56.530Z"
   },
   {
    "duration": 0,
    "start_time": "2023-08-14T19:07:56.531Z"
   },
   {
    "duration": 0,
    "start_time": "2023-08-14T19:07:56.533Z"
   },
   {
    "duration": 0,
    "start_time": "2023-08-14T19:07:56.533Z"
   },
   {
    "duration": 19,
    "start_time": "2023-08-14T19:08:08.636Z"
   },
   {
    "duration": 23,
    "start_time": "2023-08-14T19:09:39.765Z"
   },
   {
    "duration": 21,
    "start_time": "2023-08-14T19:09:50.191Z"
   },
   {
    "duration": 6,
    "start_time": "2023-08-14T19:11:17.446Z"
   },
   {
    "duration": 5,
    "start_time": "2023-08-14T19:11:24.078Z"
   },
   {
    "duration": 1367,
    "start_time": "2023-08-14T19:11:28.809Z"
   },
   {
    "duration": 1470,
    "start_time": "2023-08-14T19:11:56.044Z"
   },
   {
    "duration": 15,
    "start_time": "2023-08-14T19:12:00.983Z"
   },
   {
    "duration": 12,
    "start_time": "2023-08-14T19:12:13.727Z"
   },
   {
    "duration": 1052,
    "start_time": "2023-08-14T19:38:29.388Z"
   },
   {
    "duration": 40,
    "start_time": "2023-08-14T19:38:30.442Z"
   },
   {
    "duration": 11,
    "start_time": "2023-08-14T19:38:30.486Z"
   },
   {
    "duration": 72,
    "start_time": "2023-08-14T19:38:30.499Z"
   },
   {
    "duration": 14,
    "start_time": "2023-08-14T19:38:30.573Z"
   },
   {
    "duration": 84,
    "start_time": "2023-08-14T19:38:30.588Z"
   },
   {
    "duration": 28,
    "start_time": "2023-08-14T19:38:30.674Z"
   },
   {
    "duration": 49,
    "start_time": "2023-08-14T19:38:30.704Z"
   },
   {
    "duration": 38,
    "start_time": "2023-08-14T19:38:30.754Z"
   },
   {
    "duration": 40,
    "start_time": "2023-08-14T19:38:30.794Z"
   },
   {
    "duration": 118,
    "start_time": "2023-08-14T19:38:30.836Z"
   },
   {
    "duration": 121,
    "start_time": "2023-08-14T19:38:30.955Z"
   },
   {
    "duration": 155,
    "start_time": "2023-08-14T19:38:31.079Z"
   },
   {
    "duration": 118,
    "start_time": "2023-08-14T19:38:31.235Z"
   },
   {
    "duration": 237,
    "start_time": "2023-08-14T19:38:31.355Z"
   },
   {
    "duration": 153,
    "start_time": "2023-08-14T19:38:31.594Z"
   },
   {
    "duration": 156,
    "start_time": "2023-08-14T19:38:31.748Z"
   },
   {
    "duration": 34,
    "start_time": "2023-08-14T19:38:31.906Z"
   },
   {
    "duration": 13,
    "start_time": "2023-08-14T19:38:31.942Z"
   },
   {
    "duration": 35,
    "start_time": "2023-08-14T19:38:31.957Z"
   },
   {
    "duration": 152,
    "start_time": "2023-08-14T19:38:31.994Z"
   },
   {
    "duration": 146,
    "start_time": "2023-08-14T19:38:32.148Z"
   },
   {
    "duration": 20,
    "start_time": "2023-08-14T19:38:32.296Z"
   },
   {
    "duration": 20,
    "start_time": "2023-08-14T19:38:32.318Z"
   },
   {
    "duration": 6,
    "start_time": "2023-08-14T19:38:32.340Z"
   },
   {
    "duration": 13,
    "start_time": "2023-08-14T19:38:32.347Z"
   },
   {
    "duration": 10,
    "start_time": "2023-08-14T19:38:32.387Z"
   },
   {
    "duration": 1381,
    "start_time": "2023-08-14T20:13:58.599Z"
   },
   {
    "duration": 99,
    "start_time": "2023-08-14T20:13:59.982Z"
   },
   {
    "duration": 13,
    "start_time": "2023-08-14T20:14:00.083Z"
   },
   {
    "duration": 184,
    "start_time": "2023-08-14T20:14:00.098Z"
   },
   {
    "duration": 14,
    "start_time": "2023-08-14T20:14:00.285Z"
   },
   {
    "duration": 96,
    "start_time": "2023-08-14T20:14:00.301Z"
   },
   {
    "duration": 11,
    "start_time": "2023-08-14T20:14:00.399Z"
   },
   {
    "duration": 32,
    "start_time": "2023-08-14T20:14:00.413Z"
   },
   {
    "duration": 27,
    "start_time": "2023-08-14T20:14:00.447Z"
   },
   {
    "duration": 10,
    "start_time": "2023-08-14T20:14:00.476Z"
   },
   {
    "duration": 37,
    "start_time": "2023-08-14T20:14:00.488Z"
   },
   {
    "duration": 17,
    "start_time": "2023-08-14T20:14:00.527Z"
   },
   {
    "duration": 188,
    "start_time": "2023-08-14T20:14:00.546Z"
   },
   {
    "duration": 164,
    "start_time": "2023-08-14T20:14:00.737Z"
   },
   {
    "duration": 315,
    "start_time": "2023-08-14T20:14:00.903Z"
   },
   {
    "duration": 214,
    "start_time": "2023-08-14T20:14:01.220Z"
   },
   {
    "duration": 186,
    "start_time": "2023-08-14T20:14:01.435Z"
   },
   {
    "duration": 61,
    "start_time": "2023-08-14T20:14:01.623Z"
   },
   {
    "duration": 15,
    "start_time": "2023-08-14T20:14:01.685Z"
   },
   {
    "duration": 47,
    "start_time": "2023-08-14T20:14:01.701Z"
   },
   {
    "duration": 256,
    "start_time": "2023-08-14T20:14:01.751Z"
   },
   {
    "duration": 388,
    "start_time": "2023-08-14T20:14:02.009Z"
   },
   {
    "duration": 30,
    "start_time": "2023-08-14T20:14:02.398Z"
   },
   {
    "duration": 53,
    "start_time": "2023-08-14T20:14:02.430Z"
   },
   {
    "duration": 6,
    "start_time": "2023-08-14T20:14:02.485Z"
   },
   {
    "duration": 27,
    "start_time": "2023-08-14T20:14:02.493Z"
   },
   {
    "duration": 22,
    "start_time": "2023-08-14T20:14:02.522Z"
   },
   {
    "duration": 165,
    "start_time": "2023-08-14T20:16:17.799Z"
   },
   {
    "duration": 14,
    "start_time": "2023-08-14T20:17:01.351Z"
   },
   {
    "duration": 15,
    "start_time": "2023-08-14T20:17:10.533Z"
   },
   {
    "duration": 13,
    "start_time": "2023-08-14T20:17:16.778Z"
   },
   {
    "duration": 179,
    "start_time": "2023-08-14T22:34:04.450Z"
   },
   {
    "duration": 30,
    "start_time": "2023-08-14T22:36:48.904Z"
   },
   {
    "duration": 9,
    "start_time": "2023-08-14T22:36:50.750Z"
   },
   {
    "duration": 66,
    "start_time": "2023-08-14T22:37:23.249Z"
   },
   {
    "duration": 9,
    "start_time": "2023-08-14T22:37:24.396Z"
   },
   {
    "duration": 10,
    "start_time": "2023-08-14T22:37:26.330Z"
   },
   {
    "duration": 8,
    "start_time": "2023-08-14T22:37:27.233Z"
   },
   {
    "duration": 13,
    "start_time": "2023-08-14T22:37:30.529Z"
   },
   {
    "duration": 7,
    "start_time": "2023-08-14T22:37:31.573Z"
   },
   {
    "duration": 14,
    "start_time": "2023-08-14T22:37:32.158Z"
   },
   {
    "duration": 113,
    "start_time": "2023-08-14T22:39:14.301Z"
   },
   {
    "duration": 8,
    "start_time": "2023-08-14T22:39:47.017Z"
   },
   {
    "duration": 13,
    "start_time": "2023-08-14T22:41:14.206Z"
   },
   {
    "duration": 8,
    "start_time": "2023-08-14T22:41:42.877Z"
   },
   {
    "duration": 6,
    "start_time": "2023-08-14T22:42:01.022Z"
   },
   {
    "duration": 109,
    "start_time": "2023-08-14T22:42:54.556Z"
   },
   {
    "duration": 126,
    "start_time": "2023-08-14T22:47:07.248Z"
   },
   {
    "duration": 5,
    "start_time": "2023-08-14T22:48:23.758Z"
   },
   {
    "duration": 6,
    "start_time": "2023-08-14T22:48:33.268Z"
   },
   {
    "duration": 112,
    "start_time": "2023-08-14T22:49:04.969Z"
   },
   {
    "duration": 7,
    "start_time": "2023-08-14T22:49:27.621Z"
   },
   {
    "duration": 7,
    "start_time": "2023-08-14T22:49:32.484Z"
   },
   {
    "duration": 6,
    "start_time": "2023-08-14T22:49:42.719Z"
   },
   {
    "duration": 9,
    "start_time": "2023-08-14T22:51:06.702Z"
   },
   {
    "duration": 10,
    "start_time": "2023-08-14T22:51:26.416Z"
   },
   {
    "duration": 10,
    "start_time": "2023-08-14T22:51:31.764Z"
   },
   {
    "duration": 13,
    "start_time": "2023-08-14T22:52:57.897Z"
   },
   {
    "duration": 14,
    "start_time": "2023-08-14T22:53:36.029Z"
   },
   {
    "duration": 91,
    "start_time": "2023-08-14T22:53:48.531Z"
   },
   {
    "duration": 6,
    "start_time": "2023-08-14T22:53:52.529Z"
   },
   {
    "duration": 13,
    "start_time": "2023-08-14T22:53:59.812Z"
   },
   {
    "duration": 128,
    "start_time": "2023-08-14T22:57:40.291Z"
   },
   {
    "duration": 124,
    "start_time": "2023-08-14T22:58:15.771Z"
   },
   {
    "duration": 210,
    "start_time": "2023-08-14T22:58:55.230Z"
   },
   {
    "duration": 228,
    "start_time": "2023-08-14T22:59:35.622Z"
   },
   {
    "duration": 227,
    "start_time": "2023-08-14T22:59:39.552Z"
   },
   {
    "duration": 137,
    "start_time": "2023-08-14T23:00:25.373Z"
   },
   {
    "duration": 235,
    "start_time": "2023-08-14T23:00:36.784Z"
   },
   {
    "duration": 162,
    "start_time": "2023-08-14T23:01:17.886Z"
   },
   {
    "duration": 161,
    "start_time": "2023-08-14T23:01:29.895Z"
   },
   {
    "duration": 143,
    "start_time": "2023-08-14T23:01:38.513Z"
   },
   {
    "duration": 136,
    "start_time": "2023-08-14T23:02:21.256Z"
   },
   {
    "duration": 150,
    "start_time": "2023-08-14T23:03:10.230Z"
   },
   {
    "duration": 240,
    "start_time": "2023-08-14T23:04:45.763Z"
   },
   {
    "duration": 150,
    "start_time": "2023-08-14T23:07:12.876Z"
   },
   {
    "duration": 148,
    "start_time": "2023-08-14T23:07:18.626Z"
   },
   {
    "duration": 148,
    "start_time": "2023-08-14T23:10:41.228Z"
   },
   {
    "duration": 141,
    "start_time": "2023-08-14T23:10:52.604Z"
   },
   {
    "duration": 157,
    "start_time": "2023-08-14T23:11:29.823Z"
   },
   {
    "duration": 151,
    "start_time": "2023-08-14T23:11:39.205Z"
   },
   {
    "duration": 154,
    "start_time": "2023-08-14T23:11:53.118Z"
   },
   {
    "duration": 165,
    "start_time": "2023-08-14T23:13:46.486Z"
   },
   {
    "duration": 141,
    "start_time": "2023-08-14T23:14:48.294Z"
   },
   {
    "duration": 142,
    "start_time": "2023-08-14T23:15:00.362Z"
   },
   {
    "duration": 232,
    "start_time": "2023-08-14T23:15:19.714Z"
   },
   {
    "duration": 152,
    "start_time": "2023-08-14T23:16:10.567Z"
   },
   {
    "duration": 146,
    "start_time": "2023-08-14T23:16:22.423Z"
   },
   {
    "duration": 176,
    "start_time": "2023-08-14T23:18:08.823Z"
   },
   {
    "duration": 150,
    "start_time": "2023-08-14T23:18:22.891Z"
   },
   {
    "duration": 152,
    "start_time": "2023-08-14T23:18:28.683Z"
   },
   {
    "duration": 147,
    "start_time": "2023-08-14T23:18:32.774Z"
   },
   {
    "duration": 169,
    "start_time": "2023-08-14T23:18:35.612Z"
   },
   {
    "duration": 135,
    "start_time": "2023-08-14T23:18:35.846Z"
   },
   {
    "duration": 49,
    "start_time": "2023-08-15T09:39:26.058Z"
   },
   {
    "duration": 1286,
    "start_time": "2023-08-15T09:39:31.316Z"
   },
   {
    "duration": 299,
    "start_time": "2023-08-15T09:39:32.604Z"
   },
   {
    "duration": 14,
    "start_time": "2023-08-15T09:39:32.905Z"
   },
   {
    "duration": 30,
    "start_time": "2023-08-15T09:39:32.921Z"
   },
   {
    "duration": 16,
    "start_time": "2023-08-15T09:39:32.952Z"
   },
   {
    "duration": 22,
    "start_time": "2023-08-15T09:39:32.970Z"
   },
   {
    "duration": 10,
    "start_time": "2023-08-15T09:39:32.993Z"
   },
   {
    "duration": 13,
    "start_time": "2023-08-15T09:39:33.005Z"
   },
   {
    "duration": 19,
    "start_time": "2023-08-15T09:39:33.020Z"
   },
   {
    "duration": 20,
    "start_time": "2023-08-15T09:39:33.042Z"
   },
   {
    "duration": 8,
    "start_time": "2023-08-15T09:39:33.064Z"
   },
   {
    "duration": 8,
    "start_time": "2023-08-15T09:39:33.074Z"
   },
   {
    "duration": 7,
    "start_time": "2023-08-15T09:39:33.084Z"
   },
   {
    "duration": 28,
    "start_time": "2023-08-15T09:39:33.092Z"
   },
   {
    "duration": 25,
    "start_time": "2023-08-15T09:39:33.121Z"
   },
   {
    "duration": 192,
    "start_time": "2023-08-15T09:39:33.148Z"
   },
   {
    "duration": 113,
    "start_time": "2023-08-15T09:39:33.341Z"
   },
   {
    "duration": 263,
    "start_time": "2023-08-15T09:39:33.466Z"
   },
   {
    "duration": 172,
    "start_time": "2023-08-15T09:39:33.730Z"
   },
   {
    "duration": 208,
    "start_time": "2023-08-15T09:39:33.903Z"
   },
   {
    "duration": 32,
    "start_time": "2023-08-15T09:39:34.114Z"
   },
   {
    "duration": 46,
    "start_time": "2023-08-15T09:39:34.148Z"
   },
   {
    "duration": 32,
    "start_time": "2023-08-15T09:39:34.196Z"
   },
   {
    "duration": 216,
    "start_time": "2023-08-15T09:39:34.230Z"
   },
   {
    "duration": 203,
    "start_time": "2023-08-15T09:39:34.449Z"
   },
   {
    "duration": 121,
    "start_time": "2023-08-15T09:39:34.653Z"
   },
   {
    "duration": 0,
    "start_time": "2023-08-15T09:39:34.776Z"
   },
   {
    "duration": 0,
    "start_time": "2023-08-15T09:39:34.777Z"
   },
   {
    "duration": 0,
    "start_time": "2023-08-15T09:39:34.778Z"
   },
   {
    "duration": 0,
    "start_time": "2023-08-15T09:39:34.779Z"
   },
   {
    "duration": 199,
    "start_time": "2023-08-15T09:40:21.689Z"
   },
   {
    "duration": 266,
    "start_time": "2023-08-15T09:40:29.248Z"
   },
   {
    "duration": 211,
    "start_time": "2023-08-15T09:40:47.410Z"
   },
   {
    "duration": 10,
    "start_time": "2023-08-15T09:41:28.218Z"
   },
   {
    "duration": 25,
    "start_time": "2023-08-15T09:41:59.316Z"
   },
   {
    "duration": 69,
    "start_time": "2023-08-15T09:43:11.260Z"
   },
   {
    "duration": 78,
    "start_time": "2023-08-15T09:44:39.099Z"
   },
   {
    "duration": 97,
    "start_time": "2023-08-15T09:45:31.846Z"
   },
   {
    "duration": 99,
    "start_time": "2023-08-15T09:45:40.474Z"
   },
   {
    "duration": 98,
    "start_time": "2023-08-15T09:45:47.327Z"
   },
   {
    "duration": 96,
    "start_time": "2023-08-15T09:46:03.162Z"
   },
   {
    "duration": 79,
    "start_time": "2023-08-15T09:46:39.070Z"
   },
   {
    "duration": 90,
    "start_time": "2023-08-15T09:47:18.157Z"
   },
   {
    "duration": 5,
    "start_time": "2023-08-15T09:54:56.275Z"
   },
   {
    "duration": 68,
    "start_time": "2023-08-15T09:56:56.511Z"
   },
   {
    "duration": 3,
    "start_time": "2023-08-15T09:57:10.812Z"
   },
   {
    "duration": 4,
    "start_time": "2023-08-15T10:02:55.676Z"
   },
   {
    "duration": 4,
    "start_time": "2023-08-15T10:03:05.312Z"
   },
   {
    "duration": 4,
    "start_time": "2023-08-15T10:03:12.893Z"
   },
   {
    "duration": 4,
    "start_time": "2023-08-15T10:03:33.644Z"
   },
   {
    "duration": 35,
    "start_time": "2023-08-15T10:03:49.608Z"
   },
   {
    "duration": 18,
    "start_time": "2023-08-15T10:04:35.503Z"
   },
   {
    "duration": 18,
    "start_time": "2023-08-15T10:04:37.215Z"
   },
   {
    "duration": 19,
    "start_time": "2023-08-15T10:04:47.961Z"
   },
   {
    "duration": 19,
    "start_time": "2023-08-15T10:05:25.083Z"
   },
   {
    "duration": 65,
    "start_time": "2023-08-15T10:07:56.911Z"
   },
   {
    "duration": 23,
    "start_time": "2023-08-15T10:10:30.748Z"
   },
   {
    "duration": 20,
    "start_time": "2023-08-15T10:10:37.963Z"
   },
   {
    "duration": 21,
    "start_time": "2023-08-15T10:10:48.744Z"
   },
   {
    "duration": 69,
    "start_time": "2023-08-15T10:11:52.512Z"
   },
   {
    "duration": 25,
    "start_time": "2023-08-15T10:13:02.121Z"
   },
   {
    "duration": 3,
    "start_time": "2023-08-15T10:13:50.765Z"
   },
   {
    "duration": 23,
    "start_time": "2023-08-15T10:13:51.990Z"
   },
   {
    "duration": 4,
    "start_time": "2023-08-15T10:15:58.545Z"
   },
   {
    "duration": 8,
    "start_time": "2023-08-15T10:16:33.944Z"
   },
   {
    "duration": 72,
    "start_time": "2023-08-15T10:17:12.907Z"
   },
   {
    "duration": 9,
    "start_time": "2023-08-15T12:36:20.324Z"
   },
   {
    "duration": 6,
    "start_time": "2023-08-15T12:36:37.334Z"
   },
   {
    "duration": 97,
    "start_time": "2023-08-15T12:37:28.510Z"
   },
   {
    "duration": 8,
    "start_time": "2023-08-15T12:37:46.380Z"
   },
   {
    "duration": 84,
    "start_time": "2023-08-15T12:37:56.853Z"
   },
   {
    "duration": 363,
    "start_time": "2023-08-15T12:39:05.438Z"
   },
   {
    "duration": 305,
    "start_time": "2023-08-15T12:39:13.396Z"
   },
   {
    "duration": 542,
    "start_time": "2023-08-15T12:39:46.647Z"
   },
   {
    "duration": 822,
    "start_time": "2023-08-15T12:40:38.796Z"
   },
   {
    "duration": 381,
    "start_time": "2023-08-15T12:40:52.113Z"
   },
   {
    "duration": 453,
    "start_time": "2023-08-15T12:41:15.583Z"
   },
   {
    "duration": 361,
    "start_time": "2023-08-15T12:41:38.266Z"
   },
   {
    "duration": 406,
    "start_time": "2023-08-15T12:41:45.095Z"
   },
   {
    "duration": 309,
    "start_time": "2023-08-15T12:42:21.870Z"
   },
   {
    "duration": 285,
    "start_time": "2023-08-15T12:42:48.732Z"
   },
   {
    "duration": 1304,
    "start_time": "2023-08-15T12:46:12.244Z"
   },
   {
    "duration": 71,
    "start_time": "2023-08-15T12:46:13.550Z"
   },
   {
    "duration": 14,
    "start_time": "2023-08-15T12:46:13.623Z"
   },
   {
    "duration": 14,
    "start_time": "2023-08-15T12:46:13.639Z"
   },
   {
    "duration": 13,
    "start_time": "2023-08-15T12:46:13.656Z"
   },
   {
    "duration": 14,
    "start_time": "2023-08-15T12:46:13.671Z"
   },
   {
    "duration": 17,
    "start_time": "2023-08-15T12:46:13.687Z"
   },
   {
    "duration": 18,
    "start_time": "2023-08-15T12:46:13.705Z"
   },
   {
    "duration": 14,
    "start_time": "2023-08-15T12:46:13.725Z"
   },
   {
    "duration": 30,
    "start_time": "2023-08-15T12:46:13.742Z"
   },
   {
    "duration": 8,
    "start_time": "2023-08-15T12:46:13.774Z"
   },
   {
    "duration": 8,
    "start_time": "2023-08-15T12:46:13.784Z"
   },
   {
    "duration": 13,
    "start_time": "2023-08-15T12:46:13.794Z"
   },
   {
    "duration": 39,
    "start_time": "2023-08-15T12:46:13.814Z"
   },
   {
    "duration": 20,
    "start_time": "2023-08-15T12:46:13.855Z"
   },
   {
    "duration": 23,
    "start_time": "2023-08-15T12:46:13.878Z"
   },
   {
    "duration": 261,
    "start_time": "2023-08-15T12:46:13.903Z"
   },
   {
    "duration": 136,
    "start_time": "2023-08-15T12:46:14.168Z"
   },
   {
    "duration": 431,
    "start_time": "2023-08-15T12:46:14.307Z"
   },
   {
    "duration": 695,
    "start_time": "2023-08-15T12:46:14.740Z"
   },
   {
    "duration": 653,
    "start_time": "2023-08-15T12:46:15.437Z"
   },
   {
    "duration": 75,
    "start_time": "2023-08-15T12:46:16.091Z"
   },
   {
    "duration": 739,
    "start_time": "2023-08-15T12:46:16.168Z"
   },
   {
    "duration": 89,
    "start_time": "2023-08-15T12:46:16.910Z"
   },
   {
    "duration": 114,
    "start_time": "2023-08-15T12:46:17.002Z"
   },
   {
    "duration": 33,
    "start_time": "2023-08-15T12:46:17.117Z"
   },
   {
    "duration": 316,
    "start_time": "2023-08-15T12:46:17.152Z"
   },
   {
    "duration": 240,
    "start_time": "2023-08-15T12:46:17.471Z"
   },
   {
    "duration": 4,
    "start_time": "2023-08-15T12:46:17.714Z"
   },
   {
    "duration": 141,
    "start_time": "2023-08-15T12:46:17.720Z"
   },
   {
    "duration": 0,
    "start_time": "2023-08-15T12:46:17.863Z"
   },
   {
    "duration": 0,
    "start_time": "2023-08-15T12:46:17.867Z"
   },
   {
    "duration": 0,
    "start_time": "2023-08-15T12:46:17.868Z"
   },
   {
    "duration": 0,
    "start_time": "2023-08-15T12:46:17.870Z"
   },
   {
    "duration": 0,
    "start_time": "2023-08-15T12:46:17.872Z"
   },
   {
    "duration": 3,
    "start_time": "2023-08-15T12:46:53.090Z"
   },
   {
    "duration": 1120,
    "start_time": "2023-08-15T12:47:48.724Z"
   },
   {
    "duration": 68,
    "start_time": "2023-08-15T12:47:49.847Z"
   },
   {
    "duration": 17,
    "start_time": "2023-08-15T12:47:49.917Z"
   },
   {
    "duration": 13,
    "start_time": "2023-08-15T12:47:49.936Z"
   },
   {
    "duration": 54,
    "start_time": "2023-08-15T12:47:49.951Z"
   },
   {
    "duration": 35,
    "start_time": "2023-08-15T12:47:50.008Z"
   },
   {
    "duration": 20,
    "start_time": "2023-08-15T12:47:50.045Z"
   },
   {
    "duration": 47,
    "start_time": "2023-08-15T12:47:50.067Z"
   },
   {
    "duration": 39,
    "start_time": "2023-08-15T12:47:50.115Z"
   },
   {
    "duration": 19,
    "start_time": "2023-08-15T12:47:50.158Z"
   },
   {
    "duration": 7,
    "start_time": "2023-08-15T12:47:50.179Z"
   },
   {
    "duration": 21,
    "start_time": "2023-08-15T12:47:50.188Z"
   },
   {
    "duration": 31,
    "start_time": "2023-08-15T12:47:50.211Z"
   },
   {
    "duration": 14,
    "start_time": "2023-08-15T12:47:50.244Z"
   },
   {
    "duration": 13,
    "start_time": "2023-08-15T12:47:50.260Z"
   },
   {
    "duration": 16,
    "start_time": "2023-08-15T12:47:50.275Z"
   },
   {
    "duration": 197,
    "start_time": "2023-08-15T12:47:50.293Z"
   },
   {
    "duration": 107,
    "start_time": "2023-08-15T12:47:50.492Z"
   },
   {
    "duration": 387,
    "start_time": "2023-08-15T12:47:50.600Z"
   },
   {
    "duration": 318,
    "start_time": "2023-08-15T12:47:50.989Z"
   },
   {
    "duration": 300,
    "start_time": "2023-08-15T12:47:51.308Z"
   },
   {
    "duration": 4,
    "start_time": "2023-08-15T12:47:51.610Z"
   },
   {
    "duration": 26,
    "start_time": "2023-08-15T12:47:51.616Z"
   },
   {
    "duration": 31,
    "start_time": "2023-08-15T12:47:51.644Z"
   },
   {
    "duration": 117,
    "start_time": "2023-08-15T12:47:51.677Z"
   },
   {
    "duration": 23,
    "start_time": "2023-08-15T12:47:51.796Z"
   },
   {
    "duration": 225,
    "start_time": "2023-08-15T12:47:51.821Z"
   },
   {
    "duration": 219,
    "start_time": "2023-08-15T12:47:52.050Z"
   },
   {
    "duration": 5,
    "start_time": "2023-08-15T12:47:52.271Z"
   },
   {
    "duration": 147,
    "start_time": "2023-08-15T12:47:52.279Z"
   },
   {
    "duration": 0,
    "start_time": "2023-08-15T12:47:52.428Z"
   },
   {
    "duration": 0,
    "start_time": "2023-08-15T12:47:52.430Z"
   },
   {
    "duration": 0,
    "start_time": "2023-08-15T12:47:52.431Z"
   },
   {
    "duration": 0,
    "start_time": "2023-08-15T12:47:52.432Z"
   },
   {
    "duration": 0,
    "start_time": "2023-08-15T12:47:52.433Z"
   },
   {
    "duration": 1212,
    "start_time": "2023-08-15T13:49:05.554Z"
   },
   {
    "duration": 233,
    "start_time": "2023-08-15T13:49:06.769Z"
   },
   {
    "duration": 15,
    "start_time": "2023-08-15T13:49:07.005Z"
   },
   {
    "duration": 16,
    "start_time": "2023-08-15T13:49:07.022Z"
   },
   {
    "duration": 22,
    "start_time": "2023-08-15T13:49:07.041Z"
   },
   {
    "duration": 28,
    "start_time": "2023-08-15T13:49:07.064Z"
   },
   {
    "duration": 21,
    "start_time": "2023-08-15T13:49:07.098Z"
   },
   {
    "duration": 54,
    "start_time": "2023-08-15T13:49:07.121Z"
   },
   {
    "duration": 66,
    "start_time": "2023-08-15T13:49:07.177Z"
   },
   {
    "duration": 33,
    "start_time": "2023-08-15T13:49:07.245Z"
   },
   {
    "duration": 63,
    "start_time": "2023-08-15T13:49:07.280Z"
   },
   {
    "duration": 126,
    "start_time": "2023-08-15T13:49:07.345Z"
   },
   {
    "duration": 53,
    "start_time": "2023-08-15T13:49:07.473Z"
   },
   {
    "duration": 131,
    "start_time": "2023-08-15T13:49:07.530Z"
   },
   {
    "duration": 108,
    "start_time": "2023-08-15T13:49:07.663Z"
   },
   {
    "duration": 24,
    "start_time": "2023-08-15T13:49:07.773Z"
   },
   {
    "duration": 187,
    "start_time": "2023-08-15T13:49:07.802Z"
   },
   {
    "duration": 104,
    "start_time": "2023-08-15T13:49:07.991Z"
   },
   {
    "duration": 378,
    "start_time": "2023-08-15T13:49:08.099Z"
   },
   {
    "duration": 305,
    "start_time": "2023-08-15T13:49:08.488Z"
   },
   {
    "duration": 278,
    "start_time": "2023-08-15T13:49:08.794Z"
   },
   {
    "duration": 4,
    "start_time": "2023-08-15T13:49:09.073Z"
   },
   {
    "duration": 32,
    "start_time": "2023-08-15T13:49:09.098Z"
   },
   {
    "duration": 27,
    "start_time": "2023-08-15T13:49:09.132Z"
   },
   {
    "duration": 117,
    "start_time": "2023-08-15T13:49:09.161Z"
   },
   {
    "duration": 23,
    "start_time": "2023-08-15T13:49:09.280Z"
   },
   {
    "duration": 229,
    "start_time": "2023-08-15T13:49:09.305Z"
   },
   {
    "duration": 200,
    "start_time": "2023-08-15T13:49:09.536Z"
   },
   {
    "duration": 4,
    "start_time": "2023-08-15T13:49:09.739Z"
   },
   {
    "duration": 167,
    "start_time": "2023-08-15T13:49:09.744Z"
   },
   {
    "duration": 0,
    "start_time": "2023-08-15T13:49:09.913Z"
   },
   {
    "duration": 0,
    "start_time": "2023-08-15T13:49:09.914Z"
   },
   {
    "duration": 0,
    "start_time": "2023-08-15T13:49:09.916Z"
   },
   {
    "duration": 0,
    "start_time": "2023-08-15T13:49:09.917Z"
   },
   {
    "duration": 0,
    "start_time": "2023-08-15T13:49:09.917Z"
   },
   {
    "duration": 9,
    "start_time": "2023-08-15T13:50:31.435Z"
   },
   {
    "duration": 1104,
    "start_time": "2023-08-15T13:50:36.205Z"
   },
   {
    "duration": 70,
    "start_time": "2023-08-15T13:50:37.311Z"
   },
   {
    "duration": 15,
    "start_time": "2023-08-15T13:50:37.383Z"
   },
   {
    "duration": 25,
    "start_time": "2023-08-15T13:50:37.401Z"
   },
   {
    "duration": 31,
    "start_time": "2023-08-15T13:50:37.428Z"
   },
   {
    "duration": 25,
    "start_time": "2023-08-15T13:50:37.461Z"
   },
   {
    "duration": 15,
    "start_time": "2023-08-15T13:50:37.491Z"
   },
   {
    "duration": 21,
    "start_time": "2023-08-15T13:50:37.507Z"
   },
   {
    "duration": 16,
    "start_time": "2023-08-15T13:50:37.530Z"
   },
   {
    "duration": 12,
    "start_time": "2023-08-15T13:50:37.548Z"
   },
   {
    "duration": 5,
    "start_time": "2023-08-15T13:50:37.562Z"
   },
   {
    "duration": 34,
    "start_time": "2023-08-15T13:50:37.569Z"
   },
   {
    "duration": 13,
    "start_time": "2023-08-15T13:50:37.605Z"
   },
   {
    "duration": 14,
    "start_time": "2023-08-15T13:50:37.622Z"
   },
   {
    "duration": 48,
    "start_time": "2023-08-15T13:50:37.638Z"
   },
   {
    "duration": 24,
    "start_time": "2023-08-15T13:50:37.693Z"
   },
   {
    "duration": 164,
    "start_time": "2023-08-15T13:50:37.718Z"
   },
   {
    "duration": 109,
    "start_time": "2023-08-15T13:50:37.883Z"
   },
   {
    "duration": 356,
    "start_time": "2023-08-15T13:50:38.002Z"
   },
   {
    "duration": 299,
    "start_time": "2023-08-15T13:50:38.359Z"
   },
   {
    "duration": 282,
    "start_time": "2023-08-15T13:50:38.660Z"
   },
   {
    "duration": 3,
    "start_time": "2023-08-15T13:50:38.944Z"
   },
   {
    "duration": 57,
    "start_time": "2023-08-15T13:50:38.949Z"
   },
   {
    "duration": 19,
    "start_time": "2023-08-15T13:50:39.007Z"
   },
   {
    "duration": 110,
    "start_time": "2023-08-15T13:50:39.027Z"
   },
   {
    "duration": 7,
    "start_time": "2023-08-15T13:50:39.139Z"
   },
   {
    "duration": 207,
    "start_time": "2023-08-15T13:50:39.148Z"
   },
   {
    "duration": 207,
    "start_time": "2023-08-15T13:50:39.356Z"
   },
   {
    "duration": 3,
    "start_time": "2023-08-15T13:50:39.565Z"
   },
   {
    "duration": 36,
    "start_time": "2023-08-15T13:50:39.570Z"
   },
   {
    "duration": 37,
    "start_time": "2023-08-15T13:50:39.608Z"
   },
   {
    "duration": 28,
    "start_time": "2023-08-15T13:50:39.690Z"
   },
   {
    "duration": 14,
    "start_time": "2023-08-15T13:50:39.720Z"
   },
   {
    "duration": 72,
    "start_time": "2023-08-15T13:50:39.736Z"
   },
   {
    "duration": 31,
    "start_time": "2023-08-15T13:50:39.810Z"
   }
  ],
  "kernelspec": {
   "display_name": "Python 3 (ipykernel)",
   "language": "python",
   "name": "python3"
  },
  "language_info": {
   "codemirror_mode": {
    "name": "ipython",
    "version": 3
   },
   "file_extension": ".py",
   "mimetype": "text/x-python",
   "name": "python",
   "nbconvert_exporter": "python",
   "pygments_lexer": "ipython3",
   "version": "3.11.9"
  },
  "toc": {
   "base_numbering": 1,
   "nav_menu": {},
   "number_sections": true,
   "sideBar": true,
   "skip_h1_title": true,
   "title_cell": "Table of Contents",
   "title_sidebar": "Contents",
   "toc_cell": false,
   "toc_position": {
    "height": "calc(100% - 180px)",
    "left": "10px",
    "top": "150px",
    "width": "480px"
   },
   "toc_section_display": true,
   "toc_window_display": true
  }
 },
 "nbformat": 4,
 "nbformat_minor": 5
}
